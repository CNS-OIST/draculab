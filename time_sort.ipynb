{
 "cells": [
  {
   "cell_type": "code",
   "execution_count": 1,
   "metadata": {
    "collapsed": false
   },
   "outputs": [],
   "source": [
    "import timeit\n",
    "import numpy as np"
   ]
  },
  {
   "cell_type": "code",
   "execution_count": 4,
   "metadata": {
    "collapsed": false
   },
   "outputs": [
    {
     "name": "stdout",
     "output_type": "stream",
     "text": [
      "6.13684636898688\n",
      "4.024672788000316\n"
     ]
    }
   ],
   "source": [
    "def test1():\n",
    "    list1 = [  8,  4,  5,  1,  3,  9, 13,  7, 10,  1, 60,  0,  4, 11,  2, 6]\n",
    "    list2 = ['a','b','c','d','e','f','g','h','i','j','k','l','m','n','o','p']\n",
    "    npl1 = np.array(list1)\n",
    "    npl2 = np.array(list2)\n",
    "    list3 = [x for _, x in sorted(zip(list1,list2))]\n",
    "    \n",
    "def test2():\n",
    "    list1 = [  8,  4,  5,  1,  3,  9, 13,  7, 10,  1, 60,  0,  4, 11,  2, 6]\n",
    "    list2 = ['a','b','c','d','e','f','g','h','i','j','k','l','m','n','o','p']\n",
    "    npl1 = np.array(list1)\n",
    "    npl2 = np.array(list2)\n",
    "    inds = npl1.argsort()\n",
    "    npl3 = npl2[inds]\n",
    "\n",
    "print(timeit.timeit('test1()', setup=\"from __main__ import test1\", number=1000000))\n",
    "print(timeit.timeit('test2()', setup=\"from __main__ import test2\", number=1000000))"
   ]
  },
  {
   "cell_type": "code",
   "execution_count": 9,
   "metadata": {
    "collapsed": false
   },
   "outputs": [
    {
     "name": "stdout",
     "output_type": "stream",
     "text": [
      "8.201054332006606\n",
      "8.228587093995884\n"
     ]
    }
   ],
   "source": [
    "print(timeit.timeit('np.linspace(0.1, 6.0, 50)', setup=\"import numpy as np\", number=1000000))\n",
    "print(timeit.timeit('np.linspace(0.1, 6.0, 50, dtype=float)', setup=\"import numpy as np\", number=1000000))"
   ]
  },
  {
   "cell_type": "code",
   "execution_count": 14,
   "metadata": {
    "collapsed": false
   },
   "outputs": [],
   "source": [
    "from draculab import *\n",
    "net_params = {'min_delay' : 0.1, 'min_buff_size' : 3, 'rtol':1e-4, 'atol':1e-4 } \n",
    "net = network(net_params)\n",
    "inp_params = {'type' : unit_types.source, 'init_val' : 0., 'tau_fast' : 0.2, 'function' : lambda x: None}\n",
    "units = net.create(8, inp_params)"
   ]
  },
  {
   "cell_type": "code",
   "execution_count": 18,
   "metadata": {
    "collapsed": false
   },
   "outputs": [
    {
     "data": {
      "text/plain": [
       "array([<units.source object at 0x7fdc0d3c5908>,\n",
       "       <units.source object at 0x7fdc0d3c5940>,\n",
       "       <units.source object at 0x7fdc0d3c5978>,\n",
       "       <units.source object at 0x7fdc0d3c59b0>,\n",
       "       <units.source object at 0x7fdc0d3c59e8>,\n",
       "       <units.source object at 0x7fdc0d3c5a20>,\n",
       "       <units.source object at 0x7fdc0d3c5a58>,\n",
       "       <units.source object at 0x7fdc0d3c5a90>], dtype=object)"
      ]
     },
     "execution_count": 18,
     "metadata": {},
     "output_type": "execute_result"
    }
   ],
   "source": [
    "unit_objects = [net.units[u] for u in units]\n",
    "np.array(unit_objects)"
   ]
  },
  {
   "cell_type": "code",
   "execution_count": 19,
   "metadata": {
    "collapsed": true
   },
   "outputs": [],
   "source": [
    "list1 = [  8,  4,  5,  1,  3,  9, 13,  7, 10,  1, 60,  0,  4, 11,  2, 6]\n",
    "list2 = ['a','b','c','d','e','f','g','h','i','j','k','l','m','n','o','p']\n",
    "npl1 = np.array(list1)\n",
    "npl2 = np.array(list2)\n",
    "inds = npl1.argsort()\n",
    "npl3 = npl2[inds]"
   ]
  },
  {
   "cell_type": "code",
   "execution_count": 22,
   "metadata": {
    "collapsed": false
   },
   "outputs": [
    {
     "data": {
      "text/plain": [
       "array([ 1.82059468, -1.44201568,  1.17871537,  2.19447356])"
      ]
     },
     "execution_count": 22,
     "metadata": {},
     "output_type": "execute_result"
    }
   ],
   "source": [
    "np.random.uniform(-2,3,4)"
   ]
  },
  {
   "cell_type": "code",
   "execution_count": null,
   "metadata": {
    "collapsed": true
   },
   "outputs": [],
   "source": []
  }
 ],
 "metadata": {
  "kernelspec": {
   "display_name": "Python 3",
   "language": "python",
   "name": "python3"
  },
  "language_info": {
   "codemirror_mode": {
    "name": "ipython",
    "version": 3
   },
   "file_extension": ".py",
   "mimetype": "text/x-python",
   "name": "python",
   "nbconvert_exporter": "python",
   "pygments_lexer": "ipython3",
   "version": "3.5.2"
  }
 },
 "nbformat": 4,
 "nbformat_minor": 2
}
