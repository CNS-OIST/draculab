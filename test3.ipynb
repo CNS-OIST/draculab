{
 "cells": [
  {
   "cell_type": "code",
   "execution_count": 1,
   "metadata": {
    "collapsed": false
   },
   "outputs": [],
   "source": [
    "# This notebook is used for testing learning in single units\n",
    "# using the sirasi module\n",
    "from sirasi import *\n",
    "import numpy as np\n",
    "import pylab\n",
    "import matplotlib \n",
    "import time\n",
    "\n",
    "#matplotlib.use('GTK3Cairo',warn=False, force=True)\n",
    "from matplotlib import pyplot as plt"
   ]
  },
  {
   "cell_type": "code",
   "execution_count": 2,
   "metadata": {
    "collapsed": false
   },
   "outputs": [],
   "source": [
    "def conn_mat(net):\n",
    "    # Get the connection matrix of a network in a Numpy array\n",
    "    conns = np.zeros((net.n_units,net.n_units))\n",
    "    for syn_list in net.syns:\n",
    "        for syn in syn_list:\n",
    "            conns[syn.postID,syn.preID] = syn.w\n",
    "    return conns\n",
    "\n",
    "def plot_stuff(data, fig):\n",
    "    fig.clf()\n",
    "    plt.close()\n",
    "    fig = plt.figure(figsize=(10,10))\n",
    "    for i in range(9):\n",
    "        ax = fig.add_subplot(3,3,i+1)\n",
    "        ax.clear()\n",
    "        plt.ylim(-0.01,0.5)\n",
    "        ax.plot(data[0], data[1][i], 'r', figure=fig)\n",
    "    fig.canvas.draw()\n",
    "    plt.show()\n",
    "    "
   ]
  },
  {
   "cell_type": "code",
   "execution_count": 3,
   "metadata": {
    "collapsed": false,
    "scrolled": false
   },
   "outputs": [
    {
     "name": "stdout",
     "output_type": "stream",
     "text": [
      "Execution time: 9.197624683380127 seconds\n"
     ]
    }
   ],
   "source": [
    "#matplotlib.use('GTK3Agg',warn=False, force=True)\n",
    "#from matplotlib import pyplot as plt\n",
    "################# TEST 1 ####################\n",
    "######### 1) Create a network\n",
    "net_params = {'min_delay' : 0.1, 'min_buff_size' : 4 } # parameter dictionary for the network\n",
    "n1 = network(net_params)\n",
    "\n",
    "######### 2) Put some units in the network\n",
    "# default parameters for the units\n",
    "pars = { 'coordinates' : [[0., 0., 0.]],\n",
    "         'delay' : 1., 'init_val' : 0.5, 'tau_fast' : 1.,\n",
    "         'slope' : 1., 'thresh' : 0.0, 'tau' : 0.02,\n",
    "         'type' : unit_types.source } \n",
    "inputs = n1.create(9,pars) # creating nine input sources\n",
    "pars['type'] = unit_types.linear\n",
    "unit = n1.create(1,pars) # creating one linear unit\n",
    "\n",
    "######### 3) Connect the units in the network\n",
    "conn_spec = {'rule' : 'all_to_all', 'delay' : 1.,\n",
    "             'allow_autapses' : False} # connection specification dictionary\n",
    "syn_pars = {'init_w' : 0.2, 'lrate' : 0.01, \n",
    "            'type' : synapse_types.oja} # synapse parameters dictionary\n",
    "n1.connect(inputs, unit, conn_spec, syn_pars)\n",
    "\n",
    "######### 4) Running and visualizing \n",
    "\n",
    "####### SETTING THE INPUT FUNCTIONS\n",
    "### You are going to present 4 input patterns that randomly switch over time.\n",
    "### Imagine the 9 inputs arranged in a grid, like a tic-tac-toe board, numbered\n",
    "### from left to right and from top to bottom:\n",
    "### 1 2 3\n",
    "### 4 5 6\n",
    "### 7 8 9\n",
    "### You'll have input patterns\n",
    "### 0 X 0   0 0 0   X 0 X   0 X 0\n",
    "### 0 X 0   X X X   0 0 0   X 0 X\n",
    "### 0 X 0   0 0 0   X 0 X   0 X 0\n",
    "### The input is always a normalized linear combination of one or two of these patterns.\n",
    "### Pattern pat1 is presented alone for t_pat time units, and then there is a transition period\n",
    "### during which pat1 becomes pat2 by presenting at time t an input \n",
    "### c*(t_pat+t_trans - t)*pat1 + c*(t - tpat)*pat2\n",
    "### where c = 1/t_trans, and t_trans is the duration of the transition period. \n",
    "### At time t_pat+t_trans, pat2 is presented by itself for t_pat time units.\n",
    "### \n",
    "# here are the patterns as arrays\n",
    "patterns = [np.zeros(9) for i in range(4)]\n",
    "patterns[0] = np.array([0., 1., 0., 0., 1., 0., 0., 1., 0.])/3.\n",
    "patterns[1] = np.array([0., 0., 0., 1., 1., 1., 0., 0., 0.])/3.\n",
    "patterns[2] = np.array([1., 0., 1., 0., 0., 0., 1., 0., 1.])/4.\n",
    "patterns[3] = np.array([0., 1., 0., 1., 0., 1., 0., 1., 0.])/4.\n",
    "\n",
    "n_pres = 100  # number of times some pattern will be presented\n",
    "t_pat = 10.\n",
    "t_trans = 4.\n",
    "c = 1/t_trans # auxiliary variable\n",
    "pats = range(4) # auxiliary variable\n",
    "cur_pat = np.random.choice(pats)  # pattern currently presented\n",
    "next_pat = np.random.choice(pats) # next pattern to be presented\n",
    "last_t = 0.\n",
    "\n",
    "start_time = time.time()\n",
    "\n",
    "def make_fun1(idx):  \n",
    "    # This creates a constant function with value: patterns[cur_pat][idx]\n",
    "    # thus avoiding a scoping problem that is sometimes hard to see:\n",
    "    # https://eev.ee/blog/2011/04/24/gotcha-python-scoping-closures/\n",
    "    fun = lambda t : patterns[cur_pat][idx]\n",
    "    return fun\n",
    "\n",
    "def make_fun2(idx, last_t):\n",
    "    # Creates a function for the pattern transition\n",
    "    fun = lambda t : c * ( (t_trans - (t-last_t))*patterns[cur_pat][idx] +\n",
    "                           (t-last_t)*patterns[next_pat][idx] )\n",
    "    return fun\n",
    "\n",
    "#fig = plt.figure(figsize=(10,10))\n",
    "#plt.ion()  # interactive mode for matplotlib\n",
    "#fig.show()\n",
    "\n",
    "fig = plt.figure(figsize=(10,10))\n",
    "#plt.plot([1.5,2.0,2.5])\n",
    "plt.ion()\n",
    "#fig = plt.gcf()\n",
    "#fig.suptitle('t')\n",
    "#plt.show()\n",
    "\n",
    "for pres in range(n_pres):\n",
    "# For each cycle you'll set the input functions and simulate, once with a single pattern,\n",
    "# once with a mix of patterns, as described above\n",
    "    # first, we present a single pattern\n",
    "    for u in range(9):\n",
    "        n1.units[inputs[u]].set_function( make_fun1(u) )\n",
    "        \n",
    "    sim_dat = n1.run(t_pat)  # simulating\n",
    "    last_t = n1.sim_time # simulation time after last pattern presentation\n",
    "    \n",
    "    #plot_stuff(sim_dat,fig)\n",
    "    #input('Fixed pattern presented: ' + str(cur_pat))\n",
    "    \n",
    "    # now one pattern turns into the next\n",
    "    for u in range(9):\n",
    "        n1.units[inputs[u]].set_function(make_fun2(u, last_t))\n",
    "    \n",
    "    sim_dat = n1.run(t_trans) # simulating\n",
    "    \n",
    "    #plot_stuff(sim_dat,fig)\n",
    "    #plt.show()\n",
    "    #input('Transitioned to pattern: ' + str(next_pat))\n",
    "\n",
    "    cur_pat = next_pat\n",
    "    next_pat = np.random.choice(pats)\n",
    "\n",
    "print('Execution time: %s seconds' % (time.time() - start_time))\n",
    "\n"
   ]
  },
  {
   "cell_type": "code",
   "execution_count": 4,
   "metadata": {
    "collapsed": false
   },
   "outputs": [
    {
     "name": "stdout",
     "output_type": "stream",
     "text": [
      "[ 0.45823684  0.81382744  0.45823684  0.95177385  1.          0.95177385\n",
      "  0.45823684  0.81382744  0.45823684]\n"
     ]
    },
    {
     "data": {
      "text/plain": [
       "<matplotlib.figure.Figure at 0x7f892016b240>"
      ]
     },
     "metadata": {},
     "output_type": "display_data"
    },
    {
     "data": {
      "image/png": "[encoded data removed]",
      "text/plain": [
       "<matplotlib.figure.Figure at 0x7f89201616d8>"
      ]
     },
     "metadata": {},
     "output_type": "display_data"
    }
   ],
   "source": [
    "weights = n1.units[9].get_weights(n1.sim_time)\n",
    "weights = weights/max(weights)\n",
    "print(weights)\n",
    "fig2 = plt.figure(figsize=(10,10))\n",
    "for axi in range(9):\n",
    "    ax = fig2.add_subplot(3,3,axi+1)\n",
    "    rect = ax.patch\n",
    "    rect.set_facecolor(str(weights[axi]))\n",
    "        \n",
    "plt.show()"
   ]
  },
  {
   "cell_type": "code",
   "execution_count": 18,
   "metadata": {
    "collapsed": false
   },
   "outputs": [
    {
     "data": {
      "text/plain": [
       "(array([  0.00000000e+00,   2.50000000e-01,   6.02188330e-01,\n",
       "          2.22222222e-01,   5.86369736e-17,   9.22561146e-02,\n",
       "          3.38581565e-18,   1.84313322e-32,  -2.80417562e-35]),\n",
       " array([[ -8.66025404e-01,   5.00000000e-01,  -3.08761480e-17,\n",
       "           4.89141962e-16,  -3.36062596e-02,  -5.05578278e-17,\n",
       "          -1.35584396e-01,   8.66025404e-01,   8.66025404e-01],\n",
       "        [ -0.00000000e+00,   0.00000000e+00,  -4.31604744e-01,\n",
       "          -5.00000000e-01,   7.06574185e-01,   2.52422949e-01,\n",
       "           1.64603498e-01,  -5.72339078e-15,   8.70766840e-18],\n",
       "        [  2.88675135e-01,   5.00000000e-01,  -8.95599013e-17,\n",
       "           5.89891521e-16,   1.12020865e-02,  -5.41164270e-18,\n",
       "           4.51947988e-02,  -2.88675135e-01,  -2.88675135e-01],\n",
       "        [  0.00000000e+00,   0.00000000e+00,  -4.31604744e-01,\n",
       "           5.00000000e-01,  -2.52583473e-16,   2.52422949e-01,\n",
       "           6.78712214e-01,  -3.35531982e-27,   2.23373623e-30],\n",
       "        [  0.00000000e+00,   0.00000000e+00,  -5.04845897e-01,\n",
       "           1.13685521e-16,   2.74527396e-16,  -8.63209488e-01,\n",
       "          -8.90020989e-17,  -6.39833067e-30,   9.73453394e-33],\n",
       "        [  0.00000000e+00,   0.00000000e+00,  -4.31604744e-01,\n",
       "           5.00000000e-01,   1.07967237e-16,   2.52422949e-01,\n",
       "          -6.78712214e-01,   3.35608343e-27,  -2.23489801e-30],\n",
       "        [  2.88675135e-01,   5.00000000e-01,  -7.74086702e-17,\n",
       "           3.42950376e-16,   1.12020865e-02,  -1.58325405e-17,\n",
       "           4.51947988e-02,  -2.88675135e-01,  -2.88675135e-01],\n",
       "        [  0.00000000e+00,   0.00000000e+00,  -4.31604744e-01,\n",
       "          -5.00000000e-01,  -7.06574185e-01,   2.52422949e-01,\n",
       "          -1.64603498e-01,   5.72339078e-15,  -8.70766840e-18],\n",
       "        [  2.88675135e-01,   5.00000000e-01,  -7.74086702e-17,\n",
       "           3.42950376e-16,   1.12020865e-02,  -1.58325405e-17,\n",
       "           4.51947988e-02,  -2.88675135e-01,  -2.88675135e-01]]))"
      ]
     },
     "execution_count": 18,
     "metadata": {},
     "output_type": "execute_result"
    }
   ],
   "source": [
    "corr = np.zeros((9,9))\n",
    "for pat in patterns:\n",
    "    p = pat.reshape(9,1)\n",
    "    corr += p*(p.T)\n",
    "eigs = np.linalg.eig(corr)\n",
    "eigs"
   ]
  },
  {
   "cell_type": "code",
   "execution_count": null,
   "metadata": {
    "collapsed": true
   },
   "outputs": [],
   "source": []
  }
 ],
 "metadata": {
  "kernelspec": {
   "display_name": "Python 3",
   "language": "python",
   "name": "python3"
  },
  "language_info": {
   "codemirror_mode": {
    "name": "ipython",
    "version": 3
   },
   "file_extension": ".py",
   "mimetype": "text/x-python",
   "name": "python",
   "nbconvert_exporter": "python",
   "pygments_lexer": "ipython3",
   "version": "3.5.2"
  }
 },
 "nbformat": 4,
 "nbformat_minor": 2
}
