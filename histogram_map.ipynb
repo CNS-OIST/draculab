{
 "cells": [
  {
   "cell_type": "markdown",
   "metadata": {},
   "source": [
    "## histogram_map.ipynb\n",
    "\n",
    "This notebook is meant to test whether the transformation I deviced in 11/27/17 can in principle make arbitrary initial histograms converge onto a desired histogram after repeated applications.\n",
    "\n",
    "The transformation is the application of the weight kernel, so the discretized Frobenius-Perron equation will be:\n",
    "\\begin{equation}\n",
    "\\rho_{n+1}(r_k) = \\sum_{i=1}^M \\rho_n(r_i) \\delta \\left[ r_k - F \\left( N \\sum_{j=1}^N \\omega_{ss}(r_i,r_j)r_j \\rho_n(r_j) \\right) \\right]\n",
    "\\end{equation}  \n",
    "where $\\delta$ is the discrete delta function."
   ]
  },
  {
   "cell_type": "code",
   "execution_count": 1,
   "metadata": {},
   "outputs": [],
   "source": [
    "import numpy as np\n",
    "import matplotlib.pyplot as plt"
   ]
  },
  {
   "cell_type": "code",
   "execution_count": 2,
   "metadata": {},
   "outputs": [
    {
     "data": {
      "image/png": "[encoded data removed]",
      "text/plain": [
       "<matplotlib.figure.Figure at 0x7fa41fb4dbe0>"
      ]
     },
     "metadata": {},
     "output_type": "display_data"
    },
    {
     "data": {
      "image/png": "[encoded data removed]",
      "text/plain": [
       "<matplotlib.figure.Figure at 0x7fa3c6228f60>"
      ]
     },
     "metadata": {},
     "output_type": "display_data"
    }
   ],
   "source": [
    "# Create the histograms\n",
    "nbins = 50\n",
    "n_units = 1000 # more units than bins\n",
    "x = np.linspace(0,1,nbins+1) # bin edges\n",
    "wid = x[1]-x[0]  # width of bins\n",
    "bin_edges = x # a name I can remember\n",
    "bin_centers = ( x + (wid/2.) )[0:-1]\n",
    "\n",
    "# the desired histogram has an exponential shape, parameter c\n",
    "c = 2.\n",
    "def exp_pdf(x):\n",
    "    return ( c/(1.- np.exp(-c)) )* np.exp(-c*x)\n",
    "exp_hist = np.array([int(round(wid*n_units*exp_pdf(x))) for x in bin_centers])\n",
    "n_units = sum(exp_hist) # the discretization changes the number of units\n",
    "\n",
    "# the initial histogram is random\n",
    "def bin_number(x):\n",
    "    return int( x // wid )\n",
    "\n",
    "rho = np.zeros(nbins)\n",
    "while min(rho) < 1:\n",
    "    for unit in range(n_units):\n",
    "        rand_bin = bin_number(np.random.rand())\n",
    "        rho[rand_bin] = rho[rand_bin] + 1\n",
    "        \n",
    "# the initial histogram is constant\n",
    "per_bin = int(n_units//nbins)\n",
    "remainder = n_units%nbins\n",
    "rho = np.tile(per_bin, nbins)\n",
    "rho[0] += remainder\n",
    "\n",
    "exp_fig = plt.figure()\n",
    "plt.bar(bin_centers, exp_hist, wid, align='center')\n",
    "init_fig = plt.figure()\n",
    "plt.bar(bin_centers, rho, wid, align='center')\n",
    "plt.show()"
   ]
  },
  {
   "cell_type": "code",
   "execution_count": 3,
   "metadata": {},
   "outputs": [],
   "source": [
    "# Initial definitions (matching math notation)\n",
    "N = n_units\n",
    "rho_n = rho / N\n",
    "rho_d = exp_hist / N\n",
    "r = bin_centers\n",
    "M = nbins\n",
    "q = 10.\n",
    "\n",
    "def F(x):\n",
    "    return 1./(1.+np.exp(-x))\n",
    "    \n",
    "def F_inv(x):\n",
    "    return np.log(x/(1.-x))\n",
    "u = F_inv(r)\n",
    "\n",
    "def w_ss(i, j, mu, rho_n):\n",
    "    if j == i-1 or j == i-2:\n",
    "        clp_rho = max(1./N, rho_n[j])\n",
    "        return u[i]/mu - q*abs(rho_d[j] - rho_n[j])/(N*r[j]*clp_rho)\n",
    "    elif j == i+1 or j == i+2:\n",
    "        clp_rho = max(1./N, rho_n[j])\n",
    "        return u[i]/mu + q*abs(rho_d[j] - rho_n[j])/(N*r[j]*clp_rho)\n",
    "    else:\n",
    "        return u[i]/mu"
   ]
  },
  {
   "cell_type": "code",
   "execution_count": 4,
   "metadata": {
    "scrolled": false
   },
   "outputs": [],
   "source": [
    "# Iterating\n",
    "#from IPython.core.debugger import set_trace\n",
    "#set_trace()\n",
    "#%debug -b histogram_map.ipynb:5\n",
    "def iterator(N, rho_n, rho_d, r, M, F, F_inv, w_ss, u, bin_number, n_iters=1):\n",
    "\n",
    "    all_rho = np.zeros((n_iters+1,M))\n",
    "    all_rho[0,:] = rho_n\n",
    "    new_rho = np.zeros(M)\n",
    "    for itr in range(n_iters):\n",
    "        mu = sum(N * rho_n * r)\n",
    "        new_count = np.zeros(M)\n",
    "    \n",
    "        for rate in range(M):\n",
    "            tot_input = N * sum([w_ss(rate, j, mu, rho_n)*r[j]*rho_n[j] for j in range(M)])\n",
    "            act = F(tot_input)\n",
    "            # instead of transfering all units from one bit to the other, we'll just move some\n",
    "            in_bin = int(round(rho_n[rate]*N))\n",
    "            trans = int(np.ceil(0.1*in_bin))\n",
    "            left = in_bin - trans\n",
    "            new_count[bin_number(act)] = new_count[bin_number(act)] + trans\n",
    "            new_count[rate] += left\n",
    "        \n",
    "        mu = sum(new_count * r)\n",
    "        rho_n = new_count / N\n",
    "    \n",
    "        #print(\"this should be 1: %f\" % (sum(rho_n)))\n",
    "        all_rho[itr+1,:] = rho_n\n",
    "    return all_rho"
   ]
  },
  {
   "cell_type": "code",
   "execution_count": 10,
   "metadata": {
    "scrolled": false
   },
   "outputs": [
    {
     "data": {
      "image/png": "[encoded data removed]",
      "text/plain": [
       "<matplotlib.figure.Figure at 0x7fa3c3e78cf8>"
      ]
     },
     "metadata": {},
     "output_type": "display_data"
    }
   ],
   "source": [
    "#import pdb\n",
    "#pdb.run('all_rho = iterator(N, rho_n, rho_d, r, M, F, F_inv, w_ss, u, bin_number, n_iters=2)')\n",
    "all_rho = iterator(N, rho_n, rho_d, r, M, F, F_inv, w_ss, u, bin_number, n_iters=16)\n",
    "end_fig = plt.figure(figsize=(10,10))\n",
    "for i in range(16):\n",
    "    ax = end_fig.add_subplot(4,4,i+1)\n",
    "    ax.bar(bin_centers, N*all_rho[i,:], wid, align='center')\n",
    "plt.show()"
   ]
  },
  {
   "cell_type": "code",
   "execution_count": null,
   "metadata": {},
   "outputs": [],
   "source": []
  }
 ],
 "metadata": {
  "kernelspec": {
   "display_name": "Python 3",
   "language": "python",
   "name": "python3"
  },
  "language_info": {
   "codemirror_mode": {
    "name": "ipython",
    "version": 3
   },
   "file_extension": ".py",
   "mimetype": "text/x-python",
   "name": "python",
   "nbconvert_exporter": "python",
   "pygments_lexer": "ipython3",
   "version": "3.5.2"
  }
 },
 "nbformat": 4,
 "nbformat_minor": 2
}
