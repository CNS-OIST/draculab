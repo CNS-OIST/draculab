{
 "cells": [
  {
   "cell_type": "markdown",
   "metadata": {},
   "source": [
    "## histogram_map.ipynb\n",
    "\n",
    "This notebook is meant to test whether the transformation I deviced in 11/27/17 can in principle make arbitrary initial histograms converge onto a desired histogram after repeated applications.\n",
    "\n",
    "The transformation is the application of the weight kernel. The discretized Frobenius-Perron equation will be:\n",
    "\\begin{equation}\n",
    "\\rho_{n+1}(r_k) = \\sum_{i=1}^M \\rho_n(r_i) \\delta \\left[ r_k - F \\left( N \\sum_{j=1}^N \\omega_{ss}(r_i,r_j)r_j \\rho_n(r_j) \\right) \\right]\n",
    "\\end{equation}  \n",
    "where $\\delta$ is the discrete delta function.\n",
    "\n",
    "The histogram map, however, may not come from the discretized Frobenius-Perron equation, which is not well suited to model continuous dynamics. In particular, it assumes that all the units in one bin are transfered at each time step, and they can be transfered to distant bins without \n",
    "travelling through the intermediate bins.  \n",
    "To address this we use a histogram map where units can only be transfered between contiguous bins, and only one (or a few) at a time."
   ]
  },
  {
   "cell_type": "code",
   "execution_count": 1,
   "metadata": {
    "collapsed": true
   },
   "outputs": [],
   "source": [
    "import numpy as np\n",
    "import matplotlib.pyplot as plt"
   ]
  },
  {
   "cell_type": "code",
   "execution_count": 2,
   "metadata": {
    "code_folding": [
     10,
     16
    ],
    "collapsed": false
   },
   "outputs": [
    {
     "data": {
      "image/png": "[encoded data removed]",
      "text/plain": [
       "<matplotlib.figure.Figure at 0x7effd13f6978>"
      ]
     },
     "metadata": {},
     "output_type": "display_data"
    }
   ],
   "source": [
    "# Create the histograms\n",
    "nbins = 50\n",
    "n_units = 1000 # more units than bins\n",
    "bin_edges = np.linspace(0,1,nbins+1) # bin edges\n",
    "wid = bin_edges[1]-bin_edges[0]  # width of bins\n",
    "bin_centers = ( bin_edges + (wid/2.) )[0:-1]\n",
    "\n",
    "# the desired histogram has an exponential shape, parameter c\n",
    "c = 2.\n",
    "def exp_pdf(x):\n",
    "    return ( c/(1.- np.exp(-c)) )* np.exp(-c*x)\n",
    "exp_hist = np.array([int(round(wid*n_units*exp_pdf(x))) for x in bin_centers])\n",
    "n_units = sum(exp_hist) # the discretization changes the number of units\n",
    "\n",
    "# the initial histogram is random\n",
    "def bin_number(x):\n",
    "    return int( (x-1e-7) // wid )\n",
    "\n",
    "rho = np.zeros(nbins)\n",
    "while min(rho) < 1:\n",
    "    for unit in range(n_units):\n",
    "        rand_bin = bin_number(np.random.rand())\n",
    "        rho[rand_bin] = rho[rand_bin] + 1\n",
    "        \n",
    "# the initial histogram is constant\n",
    "#per_bin = int(n_units//nbins)\n",
    "#remainder = n_units%nbins\n",
    "#rho = np.tile(per_bin, nbins)\n",
    "#rho[0] += remainder\n",
    "\n",
    "#rho = exp_hist\n",
    "\n",
    "hist_fig = plt.figure(figsize=(20,6))\n",
    "\n",
    "exp_ax = hist_fig.add_subplot(1,3,1)\n",
    "exp_ax.bar(bin_centers, exp_hist, wid, align='center')\n",
    "init_ax = hist_fig.add_subplot(1,3,2)\n",
    "init_ax.bar(bin_centers, rho, wid, align='center')\n",
    "err_ax = hist_fig.add_subplot(1,3,3)\n",
    "err_ax.bar(bin_centers, exp_hist-rho, wid, align='center')\n",
    "plt.show()"
   ]
  },
  {
   "cell_type": "code",
   "execution_count": 3,
   "metadata": {
    "code_folding": [
     6,
     10,
     16
    ],
    "collapsed": false
   },
   "outputs": [],
   "source": [
    "# Initial definitions, utility functions\n",
    "N = n_units\n",
    "h = rho # the current histogram\n",
    "r = bin_centers\n",
    "M = nbins\n",
    "\n",
    "def F(x):\n",
    "    return 1./(1.+np.exp(-x))\n",
    "    \n",
    "    \n",
    "def F_inv(x):\n",
    "    return np.log(x/(1.-x))\n",
    "\n",
    "u = F_inv(r)\n",
    "crop_bin_edges = bin_edges\n",
    "crop_bin_edges[0] = crop_bin_edges[0] + (.2/M)\n",
    "crop_bin_edges[-1] = crop_bin_edges[-1] - (.2/M)\n",
    "u_edges = F_inv(crop_bin_edges)\n",
    "q = [ u_edges[i+1]-u_edges[i] for i in range(M) ]\n",
    "\n",
    "def eq(a,b): # utility function to see if two 1-D arrays are equal\n",
    "    for ai, bi in zip(a,b):\n",
    "        if ai != bi:\n",
    "            return False\n",
    "    return True\n",
    "\n",
    "def H(x): # The Heaviside step function. Applied to (x - 1e-8) so H(0) = 0\n",
    "    return 0.5 * (np.sign(x-1e-8) + 1.)\n",
    "\n",
    "def sgnm(x): # The sign function, but returns -1 for x==0\n",
    "    return -1. if x == 0 else np.sign(x)\n",
    "    \"\"\"\n",
    "    if x == 0:\n",
    "        return np.random.choice([-1.,1.])\n",
    "    else:\n",
    "        return np.sign(x)\n",
    "    \"\"\"\n",
    "    \n",
    "def perm_matrix(N): # returns the circulant permutation matrix of order N in an numpy 2D array\n",
    "    mat = np.zeros((N,N))\n",
    "    row = np.zeros(N); row[0] = 1.\n",
    "    for i in range(N):\n",
    "        mat[i,:] = np.roll(row,i+1)\n",
    "    return mat\n",
    "\n",
    "def inv_perm_matrix(N): \n",
    "    # returns the inverse circulant permutation matrix of order N in an numpy 2D array\n",
    "    mat = np.zeros((N,N))\n",
    "    row = np.zeros(N); row[-1] = 1.\n",
    "    for i in range(N):\n",
    "        mat[i,:] = np.roll(row,i)\n",
    "    return mat\n",
    "\n",
    "# powers of the circulant permutation matrix\n",
    "C0 = np.identity(M)\n",
    "C1 = perm_matrix(M)\n",
    "C2 = np.dot(C1,C1)\n",
    "Cm1 = inv_perm_matrix(M) # inverse of C1\n",
    "Cm2 = np.dot(Cm1,Cm1)    # inverse of C2\n",
    "C_pow = (Cm2, Cm1, C0, C1, C2)\n",
    "\n",
    "# Creating the matrices used for the rule with periodic boundaries\n",
    "d_coeffs = [0., 0.5, -1., 0.5, 0]\n",
    "dd_coeffs = [-0.5, 1., 0., -1., 0.5]\n",
    "diff = np.zeros((M,M))  # matrix for the \"diffusion\" operation\n",
    "diff_diff = np.zeros((M,M))  # matrix for the \"difference of diffusions\"\n",
    "for m in range(5):\n",
    "    diff += d_coeffs[m] * C_pow[m]\n",
    "    diff_diff += dd_coeffs[m] * C_pow[m]\n",
    "    "
   ]
  },
  {
   "cell_type": "code",
   "execution_count": 4,
   "metadata": {
    "code_folding": [
     7,
     10,
     18,
     30,
     41,
     64,
     85,
     108,
     130,
     153,
     167
    ],
    "collapsed": false
   },
   "outputs": [],
   "source": [
    "# Weight functions\n",
    "\n",
    "def w_ss_free(i, j, mu, h):\n",
    "    # The kernel for diffusion with free boundaries\n",
    "    if i > 1 and i < M-2:\n",
    "        delta = q[i] * sgnm( -0.5*h[i-2] + h[i-1] - h[i+1] + 0.5*h[i+2] ) * H( h[i] - 0.5*( h[i-1] + h[i+1] + 1) )\n",
    "    elif i == 0:\n",
    "        delta = q[i] * H( h[0] - h[1] )\n",
    "    elif i == 1:\n",
    "        delta = q[i]* sgnm( h[0] - 0.5*h[1] - h[2] + 0.5*h[3] ) * H( h[1] - .5*(h[0] + h[2] + 1) )\n",
    "    elif i == M-2:\n",
    "        delta = q[i] * sgnm( -0.5*h[M-4] + h[M-3] + 0.5*h[M-2] - h[M-1] ) * H( h[M-2] - .5*(h[M-3] + h[M-4] + 1) )\n",
    "    elif i == M-1:\n",
    "        delta = -q[i] * H( h[M-1] - h[M-2] )\n",
    "    return (u[i] + delta) / mu\n",
    "    \n",
    "def w_ss_fixed(i, j, mu, h):\n",
    "    # The kernel for diffusion with fixed boundary conditions\n",
    "    # The kernel for diffusion with free boundaries\n",
    "    left = 2 # int(round(M/3))  # desired number of units in the leftmost bin\n",
    "    right = 10 # int(round(M/3))  # desired number of units in the rightmost bin\n",
    "    D = np.dot(diff,h)\n",
    "    if i > 1 and i < M-2:\n",
    "        delta = q[i] * sgnm( -0.5*h[i-2] + h[i-1] - h[i+1] + 0.5*h[i+2] ) * H( -D[i]-0.5 )\n",
    "    elif i == 0:\n",
    "        delta = 5.*q[i] * H( h[0]-left )\n",
    "    elif i == 1: \n",
    "        #delta = -q[i] * H( left-h[0] ) * H( -D[i]-0.5 ) # this bin is just servicing bin 0\n",
    "        delta = q[i]* sgnm( h[0] - 0.5*h[1] - h[2] + 0.5*h[3] ) * H( h[1] - .5*(h[0] + h[2] + 1) )\n",
    "    elif i == M-2: \n",
    "        #delta = q[i] * H( h[M-1]-right ) * H( -D[i]-0.5 ) # servicing bin M-1\n",
    "        delta = q[i] * sgnm( -0.5*h[M-4] + h[M-3] + 0.5*h[M-2] - h[M-1] ) * H( h[M-2] - .5*(h[M-3] + h[M-4] + 1) )\n",
    "    elif i == M-1:\n",
    "        delta = -5.*q[i] * H( h[M-1]-right )\n",
    "    return (u[i] + delta) / mu\n",
    "\n",
    "def w_ss_circulant(i, j, mu, h):\n",
    "    # The kernel for diffusion with periodic boundaries\n",
    "    D = np.dot(diff,h)\n",
    "    L = np.dot(diff_diff,h)\n",
    "    delta = q[i] * sgnm(L[i]) * H(-D[i]-0.5)\n",
    "    return (u[i] + delta) / mu\n"
   ]
  },
  {
   "cell_type": "code",
   "execution_count": 5,
   "metadata": {
    "code_folding": [],
    "collapsed": false,
    "scrolled": false
   },
   "outputs": [],
   "source": [
    "# Iterating function\n",
    "#from IPython.core.debugger import set_trace\n",
    "#from IPython.core.debugger import Tracer\n",
    "\n",
    "def iterator(h, w_ss, n_iters=1):\n",
    "\n",
    "    all_h = np.zeros((n_iters+1,M))\n",
    "    h_n = h.copy()\n",
    "    all_h[0,:] = h_n\n",
    "    h_new = h_n  # array for the new histogram\n",
    "    r_new = np.zeros(M)  # rates you'd get in steady state with the new histogram\n",
    "    rwid = (r[1]-r[0])/2. # width of the bins in the rate histogram\n",
    "    convergence = False # flag to indicate whether the histogram converged\n",
    "    #set_trace()\n",
    "    #Tracer()()\n",
    "    \n",
    "    for itr in range(n_iters):\n",
    "        \n",
    "        mu = sum(h_n * r)  # raw input coming to all cells \n",
    "        \n",
    "        for i in range(M):  # calculate where the rates want to go due to inputs\n",
    "            r_new[i] = F( sum( [w_ss(i, j, mu, h_n)*r[j]*h_n[j] for j in range(M)] ) )\n",
    "    \n",
    "        for k in range(M): # calculate new histogram\n",
    "            if k > 1 and k < M-2: # general case\n",
    "                ascending = H(r_new[k-1] - r[k-1] - rwid/2.) * H(h_new[k-1])  # receive a unit from bin k-1\n",
    "                descending = H(r[k+1] - r_new[k+1] - rwid/2.) * H(h_new[k+1])  # receive a unit from bin k+1\n",
    "                given = ( H(r_new[k] - r[k] - rwid/2.) + H(r[k] - r_new[k] - rwid/2.) ) * H(h_new[k])  # give a unit                \n",
    "                h_new[k-1] -= ascending\n",
    "                h_new[k+1] -= descending\n",
    "                h_new[k] += ascending + descending - given\n",
    "            elif k == 0: # first bin\n",
    "                descending = H(r[k+1] - r_new[k+1] - rwid/2.) * H(h_new[k+1])  # receive a unit from bin k+1\n",
    "                given = H(r_new[k] - r[k] - rwid/2.) *  H(h_new[k])\n",
    "                h_new[k] += descending - given\n",
    "            elif k == M-1: # last bin\n",
    "                ascending = H(r_new[k-1] - r[k-1] - rwid/2.) * H(h_new[k-1])  # receive a unit from bin k-1\n",
    "                given = H(r[k] - r_new[k] - rwid/2.) * H(h_new[k])\n",
    "                h_new[k] += ascending - given\n",
    "                \n",
    "        h_n = h_new\n",
    "    \n",
    "        #print(\"this should be n_units: %f\" % (sum(h_n)))\n",
    "        all_h[itr+1,:] = h_n\n",
    "        if eq(all_h[itr,:], all_h[itr+1,:]) and not convergence:\n",
    "            print(\"Distribution converged at iteration %d\" % (itr))\n",
    "            convergence = True\n",
    "            #break\n",
    "    return all_h"
   ]
  },
  {
   "cell_type": "code",
   "execution_count": 8,
   "metadata": {
    "code_folding": [],
    "collapsed": false,
    "scrolled": false
   },
   "outputs": [
    {
     "name": "stdout",
     "output_type": "stream",
     "text": [
      "Distribution converged at iteration 16\n"
     ]
    },
    {
     "data": {
      "image/png": "[encoded data removed]",
      "text/plain": [
       "<matplotlib.figure.Figure at 0x7effd353e208>"
      ]
     },
     "metadata": {},
     "output_type": "display_data"
    }
   ],
   "source": [
    "iters = 50\n",
    "all_h = iterator(h, w_ss_free, n_iters=iters)\n",
    "end_fig = plt.figure(figsize=(20,16))\n",
    "jump = int(np.floor(iters/25))\n",
    "for i in range(25):\n",
    "    ax = end_fig.add_subplot(5,5,i+1)\n",
    "    ax.bar(bin_centers, all_h[i*jump,:], wid, align='center')\n",
    "    #ax.plot(r, rho_d, 'y')\n",
    "\n",
    "\"\"\"\n",
    "err_fig = plt.figure(figsize=(20,16))\n",
    "jump = int(np.floor(iters/25))\n",
    "for i in range(25):\n",
    "    ax = err_fig.add_subplot(5,5,i+1)\n",
    "    ax.bar(bin_centers, N*(rho_d - all_rho[i*jump,:]), wid, align='center')\n",
    "\"\"\"\n",
    "plt.show()"
   ]
  },
  {
   "cell_type": "code",
   "execution_count": 9,
   "metadata": {
    "collapsed": false
   },
   "outputs": [
    {
     "name": "stdout",
     "output_type": "stream",
     "text": [
      "final h = \n",
      "[ 15.  15.  16.  16.  17.  17.  17.  16.  16.  15.  15.  15.  15.  14.  14.\n",
      "  14.  14.  15.  15.  15.  15.  15.  15.  16.  16.  17.  18.  19.  20.  20.\n",
      "  20.  20.  20.  19.  20.  20.  20.  20.  19.  17.  18.  19.  19.  19.  19.\n",
      "  18.  19.  19.  19.  12.]\n"
     ]
    },
    {
     "data": {
      "image/png": "[encoded data removed]",
      "text/plain": [
       "<matplotlib.figure.Figure at 0x7effcf0b0898>"
      ]
     },
     "metadata": {},
     "output_type": "display_data"
    },
    {
     "name": "stdout",
     "output_type": "stream",
     "text": [
      "[-10.5   8.5  -3.5  -6.    5.    9.  -15.5  10.5  -4.    0.5  -0.5  -0.5\n",
      "  -3.    6.    3.   -7.5   3.   -3.5   5.    2.5  -9.5   6.5  -4.    6.\n",
      "  -2.5  -3.    2.    2.   -4.5   3.5   3.5  -7.    2.5  -1.   -0.5   2.5\n",
      "   0.   -1.5  -4.    7.5  -1.5  -4.5   3.5   0.5   0.   -2.    0.    1.5\n",
      "  -4.    9.5]\n"
     ]
    }
   ],
   "source": [
    "#print(n_units*(rho_d - all_rho[-1,:]))\n",
    "h_final = all_h[-1,:]  # final histogram\n",
    "print(\"final h = \")\n",
    "print(h_final)\n",
    "mu = sum(h_final * r)\n",
    "# displaying weight matrix for the final histogram\n",
    "w_mat = np.zeros((nbins, nbins))\n",
    "for i in range(nbins):\n",
    "    for j in range(nbins):\n",
    "        w_mat[i,j] = w_ss_fixed(i,j,mu,h)\n",
    "wfig, wax = plt.subplots()\n",
    "wax.imshow(w_mat, cmap=plt.cm.gray, interpolation='nearest')\n",
    "wax.set_title('final weight matrix')\n",
    "plt.show()\n",
    "#print(w_mat)\n",
    "jumps = np.dot(diff,h) # diffusion filter applied to h\n",
    "print(jumps)"
   ]
  },
  {
   "cell_type": "code",
   "execution_count": 10,
   "metadata": {
    "collapsed": false
   },
   "outputs": [
    {
     "data": {
      "text/plain": [
       "50"
      ]
     },
     "execution_count": 10,
     "metadata": {},
     "output_type": "execute_result"
    }
   ],
   "source": [
    "len(diff)"
   ]
  },
  {
   "cell_type": "code",
   "execution_count": null,
   "metadata": {
    "collapsed": true
   },
   "outputs": [],
   "source": []
  }
 ],
 "metadata": {
  "kernelspec": {
   "display_name": "Python 3",
   "language": "python",
   "name": "python3"
  },
  "language_info": {
   "codemirror_mode": {
    "name": "ipython",
    "version": 3
   },
   "file_extension": ".py",
   "mimetype": "text/x-python",
   "name": "python",
   "nbconvert_exporter": "python",
   "pygments_lexer": "ipython3",
   "version": "3.5.2"
  }
 },
 "nbformat": 4,
 "nbformat_minor": 2
}
