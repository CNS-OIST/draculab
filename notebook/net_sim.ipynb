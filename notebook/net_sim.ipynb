{
 "cells": [
  {
   "cell_type": "markdown",
   "metadata": {},
   "source": [
    "## net_sim.ipynb\n",
    "\n",
    "This notebook is used to run simulations using the ei_network class.\n",
    "\n",
    "By Sergio Verduzco\n",
    "January 2018"
   ]
  },
  {
   "cell_type": "code",
   "execution_count": 1,
   "metadata": {},
   "outputs": [
    {
     "name": "stdout",
     "output_type": "stream",
     "text": [
      "/home/z/projects/draculab\n"
     ]
    }
   ],
   "source": [
    "%cd ..\n",
    "#import ei_network\n",
    "from ei_network import *"
   ]
  },
  {
   "cell_type": "code",
   "execution_count": 2,
   "metadata": {},
   "outputs": [],
   "source": [
    "layers = ['S', 'M']\n",
    "ei_net = ei_network(layers)"
   ]
  },
  {
   "cell_type": "code",
   "execution_count": 3,
   "metadata": {},
   "outputs": [],
   "source": [
    "ei_net.add_connection(('M','e'), ('S','i'))"
   ]
  },
  {
   "cell_type": "code",
   "execution_count": 4,
   "metadata": {},
   "outputs": [],
   "source": [
    "ei_net.set_param('Me_Si_syn', 'type', synapse_types.bcm)\n",
    "ei_net.set_param('Me_Si_conn', 'edge_wrap', False)"
   ]
  },
  {
   "cell_type": "code",
   "execution_count": null,
   "metadata": {},
   "outputs": [],
   "source": [
    "ei_net.build()"
   ]
  },
  {
   "cell_type": "code",
   "execution_count": 7,
   "metadata": {},
   "outputs": [
    {
     "data": {
      "text/plain": [
       "{'allow_autapses': True,\n",
       " 'allow_multapses': False,\n",
       " 'boundary': {'center': array([ 0.,  0.]), 'extent': array([ 1.,  1.])},\n",
       " 'connection_type': 'divergent',\n",
       " 'delays': {'linear': {'a': 0.01, 'c': 0.005}},\n",
       " 'edge_wrap': False,\n",
       " 'kernel': 0.5,\n",
       " 'mask': {'circular': {'radius': 0.4}},\n",
       " 'transform': <function ei_network.ei_network.__init__.<locals>.<lambda>>,\n",
       " 'weights': {'uniform': {'high': 0.5, 'low': 0.01}}}"
      ]
     },
     "execution_count": 7,
     "metadata": {},
     "output_type": "execute_result"
    }
   ],
   "source": [
    "ei_net.Me_Si_conn"
   ]
  },
  {
   "cell_type": "code",
   "execution_count": null,
   "metadata": {},
   "outputs": [],
   "source": [
    "ei_net.run(1,0.5)"
   ]
  },
  {
   "cell_type": "code",
   "execution_count": null,
   "metadata": {},
   "outputs": [],
   "source": [
    "synsum = 0\n",
    "for slist in ei_net.net.syns:\n",
    "    synsum += len(slist)\n",
    "synsum"
   ]
  },
  {
   "cell_type": "code",
   "execution_count": null,
   "metadata": {},
   "outputs": [],
   "source": [
    "dic = {'a':1, 'b':2}\n",
    "for entry in dic:\n",
    "    print(entry)"
   ]
  },
  {
   "cell_type": "code",
   "execution_count": null,
   "metadata": {},
   "outputs": [],
   "source": [
    "a = {}\n",
    "a['2'] = 4\n",
    "a"
   ]
  },
  {
   "cell_type": "code",
   "execution_count": 9,
   "metadata": {},
   "outputs": [
    {
     "data": {
      "text/plain": [
       "{'a', 'b', 'c', 'h', 'k', 'n', 'u'}"
      ]
     },
     "execution_count": 9,
     "metadata": {},
     "output_type": "execute_result"
    }
   ],
   "source": [
    "t = {'a', 'b', 'c'}\n",
    "t.update('k', 'c', 'chunk')\n",
    "t"
   ]
  },
  {
   "cell_type": "code",
   "execution_count": null,
   "metadata": {},
   "outputs": [],
   "source": []
  }
 ],
 "metadata": {
  "kernelspec": {
   "display_name": "Python 3",
   "language": "python",
   "name": "python3"
  },
  "language_info": {
   "codemirror_mode": {
    "name": "ipython",
    "version": 3
   },
   "file_extension": ".py",
   "mimetype": "text/x-python",
   "name": "python",
   "nbconvert_exporter": "python",
   "pygments_lexer": "ipython3",
   "version": "3.5.2"
  }
 },
 "nbformat": 4,
 "nbformat_minor": 2
}
