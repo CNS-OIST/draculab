{
 "cells": [
  {
   "cell_type": "markdown",
   "metadata": {},
   "source": [
    "A draculab network is a collection of interconnected units, optionally interacting with a plant. \n",
    "\n",
    "Units are continuous-time one-dimensional dynamical systems that implement models of firing-rate\n",
    "neurons. Connections between units have a temporal delay and a synapse type. Temporal delays are multiples of a minimum delay. Synapses can too be dynamical systems, modifying their weights in response to presynaptic and postsynaptic events.\n",
    "\n",
    "Plants are continuous dynamical systems that can be modeled with ordinary differential equations. Like units, they can receive input connections from multiple units, and unlike units they can produce several output values, since they can have any finite dimensionality. Plants can be used to model a physical system that is being controlled by the units in the network.\n",
    "\n"
   ]
  },
  {
   "cell_type": "markdown",
   "metadata": {},
   "source": [
    "### Draculab brings advantages when the following factors are involved:\n",
    "\n",
    "* Firing rate units with transmission delays.\n",
    "* Experimental types of units and synapses, with frequent modifications happening.\n",
    "* Closed loop experiments where neural controllers interact with a simulated physical plant."
   ]
  },
  {
   "cell_type": "markdown",
   "metadata": {},
   "source": [
    "### Main ideas for the architecture:\n",
    "\n",
    "1. Connection delays are handled in a way inspired by NEST's use of a minimum delay. Draculab also has a minimum delay, called `min_delay`. Dynamics are advanced in discrete time steps of `min_delay` length using SciPy's ODE integrator, obtaining the state of all unit and plant dynamic variables of the network for different time points, and saving this in a buffer. When a past value of a variable is requested, it is obtaned through interpolation on the stored values. \n",
    "2. We assume that the activity of units and the state variables of plants change much faster than the state of synapses. Synapses can thus advance their dynamics with user-defined methods that update the synapse's state variables once per simulation step, as opposed to using SciPy's adaptive integrator to obtain values for many time points within the step. This can make the simulation much faster in networks with a large number of dynamic synapses. Moreover, creating new synapse models is straightforward.\n",
    "3. Connectivity is described using 3 lists: `delays, act, syns`. Separate track of the delays are sometimes kept in the synapses, but in terms of delay steps.\n",
    "4. All the values required to update synapses are computed in the postsynaptic and presynaptic units, which avoids performing the same computation many times. To do this, the `pre_syn_update` function is called at each update, before the synapses are updated. It obtains any values the synapses need in order to calculate the change in their weights.\n",
    "\n",
    "Basically, all that `network.run` does is to repeatedly call `unit.update` and `plant.update`, which advances time by the minimal delay."
   ]
  },
  {
   "cell_type": "markdown",
   "metadata": {},
   "source": [
    "### Design decisions:\n",
    "\n",
    "* There is the 'core' draculab (synapses, plants, units, network, draculab, topology), and there is the functionality based on Python (e.g. ei_network).\n",
    "* Units of time in the network and physical units in the plant are up to the user, and it is up to the user to ensure consistency.\n",
    "* Naming conventions are simple. All names consist of lowercase words or abbreviations connected by single underscores.\n",
    "* Units are uniquely identified by a number, called their identifier, or 'id'. The unit identifiers range from 0 to the number of units minus one, being assigned in the order that units were created.\n",
    "* Documentation is largely contained within the code itself. Python's Docstring conventions are used to document all methods, and abundant comments try to clarify the source code. **Draculab's source code is meant to be understood by the user.** The line between user and developer is meant to be thin."
   ]
  },
  {
   "cell_type": "markdown",
   "metadata": {},
   "source": [
    "### Tutorial\n",
    "0. Installation (python, cython, jupyter)\n",
    "1. Introduction\n",
    "1. (hello world) Create 10 sigmoidal units. Create 1 source unit.\n",
    "   Assign a cosine to the source unit. Connect source to\n",
    "   sigmoidal. Simulate. Plot outputs.\n",
    "   Show network.connect documentation help(network.connect) and assign variations.\n",
    "   Variations include: one input per sigmoidal (to use the one-to-one\n",
    "   option), a network where each unit receives connections from 2 randomly\n",
    "   chosen units.\n",
    "2. Extracting principal components.\n",
    "3. Controlling a pendulum.\n",
    "4. The topology module\n",
    "4. A network that represents inputs (ei_net)\n",
    "3. ( develper's tutorial) Creating a new unit type.\n",
    "4. Creating a new synapse type."
   ]
  },
  {
   "cell_type": "markdown",
   "metadata": {},
   "source": []
  },
  {
   "cell_type": "markdown",
   "metadata": {},
   "source": [
    "TODO: \n",
    "* Move docstring to Google format, consider pylint (https://github.com/google/styleguide/blob/gh-pages/pyguide.md#38-comments-and-docstrings)\n",
    "* Example of custom unit\n",
    "* Example of user-defined synapse model \n",
    "* Example of synapse model using synaptic requirement\n",
    "* Time comparison agains XPP, Simulink (e.g. against generic dynamical systems simulation software)"
   ]
  },
  {
   "cell_type": "code",
   "execution_count": null,
   "metadata": {},
   "outputs": [],
   "source": []
  }
 ],
 "metadata": {
  "kernelspec": {
   "display_name": "Python 3",
   "language": "python",
   "name": "python3"
  },
  "language_info": {
   "codemirror_mode": {
    "name": "ipython",
    "version": 3
   },
   "file_extension": ".py",
   "mimetype": "text/x-python",
   "name": "python",
   "nbconvert_exporter": "python",
   "pygments_lexer": "ipython3",
   "version": "3.5.2"
  }
 },
 "nbformat": 4,
 "nbformat_minor": 2
}
