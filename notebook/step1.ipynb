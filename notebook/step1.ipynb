{
 "cells": [
  {
   "cell_type": "markdown",
   "metadata": {},
   "source": [
    " ## step1.ipynb\n",
    "\n",
    "This notebook implements parts of the first step in the 5/28/18 plan.  \n",
    "The first part of the plan (e.g. implementation of `double_sigma` units with sharpen ports) was tested in ../tests/test10.ipynb .\n",
    "\n",
    "By `Sergio Verduzco`  \n",
    "June 2018"
   ]
  },
  {
   "cell_type": "markdown",
   "metadata": {},
   "source": [
    "### First part\n",
    "Recreate the simulation in the __test 4__ section of test10.ipynb, this time using the ei_network framework.\n",
    "\n",
    "__Proceed here directly after reset.__\n",
    "\n",
    "The `sharpen` port will be 2, and the `rdc` port will be 0, where e,i inputs will arrive. Inputs arrive at port 1. \n",
    "Inputs to the sharpen port are set manually (without ei_net methods).\n"
   ]
  },
  {
   "cell_type": "code",
   "execution_count": null,
   "metadata": {
    "code_folding": [
     0
    ]
   },
   "outputs": [],
   "source": [
    "# import the ei_network class and draculab\n",
    "%cd ..\n",
    "from ei_network import *"
   ]
  },
  {
   "cell_type": "code",
   "execution_count": null,
   "metadata": {
    "code_folding": []
   },
   "outputs": [],
   "source": [
    "# create the network using the ei_network tools\n",
    "layers = ['L', 'shrp']  # L is the layer, shrp is the extra input to the sharpen port\n",
    "ei_net = ei_network(layers)"
   ]
  },
  {
   "cell_type": "code",
   "execution_count": null,
   "metadata": {
    "code_folding": [
     0
    ]
   },
   "outputs": [],
   "source": [
    "# Configure layer parameters\n",
    "L = ei_net.layers['L']\n",
    "shrp = ei_net.layers['shrp']\n",
    "#----------------------------------\n",
    "L.set_param('e_pars', 'type', unit_types.sds_n_sharp)\n",
    "L.set_param('e_pars', 'slope_min', 6.)\n",
    "L.set_param('e_pars', 'slope_wid', .1)\n",
    "L.set_param('e_pars', 'thresh_min', .3)\n",
    "L.set_param('e_pars', 'thresh_wid', 0.1)\n",
    "L.set_param('e_pars', 'n_ports', 4)\n",
    "L.set_param('e_pars', 'branch_params', {'branch_w' : [0.5, 0.5], 'slopes' : 4, 'threshs' : 0.1})\n",
    "L.set_param('e_pars', 'tau_slow', 10.)\n",
    "L.set_param('e_pars', 'tau_fast', 0.05)\n",
    "L.set_param('e_pars', 'c', 2.)\n",
    "L.set_param('e_pars', 'tau_thr', .002)\n",
    "L.set_param('e_pars', 'rdc_port', 1)\n",
    "L.set_param('e_pars', 'thr_fix', 0.)\n",
    "L.set_param('e_pars', 'tau_fix', 0.1)\n",
    "L.set_param('e_pars', 'sharpen_port', 3)\n",
    "#----------------------------------\n",
    "L.annotate(\"Adjusting size of e,i groups.\")\n",
    "L.set_param('e_geom', 'rows', 8)\n",
    "L.set_param('e_geom', 'columns', 8)\n",
    "L.set_param('i_geom', 'rows', 4)\n",
    "L.set_param('i_geom', 'columns', 4)\n",
    "L.annotate(\"Compensating for the ratio of excitatory to inhibitory units.\")\n",
    "L.set_param('ee_conn', 'weights',{'uniform' : {'low': .01, 'high' : 0.3}})\n",
    "L.set_param('ei_conn', 'weights',{'uniform' : {'low': .01, 'high' : 0.3}})\n",
    "L.set_param('ie_conn', 'weights',{'uniform' : {'low': -1., 'high' : -.1}})\n",
    "L.set_param('ii_conn', 'weights',{'uniform' : {'low': -1., 'high' : -0.01}})\n",
    "#----------------------------------\n",
    "L.annotate(\"Setting input parameters\")\n",
    "L.set_param('x_geom', 'rows', 5) \n",
    "L.set_param('x_geom', 'columns', 5) \n",
    "L.set_param('xe_conn', 'weights', {'uniform' : {'low': 0.05, 'high' : 4.}})\n",
    "L.set_param('xi_conn', 'weights', {'uniform' : {'low': 0.05, 'high' : 4.}})\n",
    "L.set_param('xe_conn', 'mask', {'circular': {'radius': .3}})\n",
    "L.set_param('xi_conn', 'mask', {'circular': {'radius': .3}})\n",
    "#-----------------------------------\n",
    "# specifying input ports\n",
    "L.set_param('ee_syn', 'inp_ports', 1) # ee should be at input 0 for trdc units\n",
    "L.set_param('xe_syn', 'inp_ports', 2)\n",
    "#L.set_param('xi_syn', 'inp_ports', 1)\n",
    "L.set_param('ie_syn', 'inp_ports', 0)\n",
    "#----------------------------------\n",
    "L.annotate(\"Using Oja input synapses\")\n",
    "L.set_param('xe_syn', 'type', synapse_types.oja)\n",
    "L.set_param('xe_syn', 'lrate', 1./100.)\n",
    "L.set_param('xi_syn', 'type', synapse_types.oja)\n",
    "L.set_param('xi_syn', 'lrate', 1./100.)\n",
    "#----------------------------------\n",
    "L.annotate(\"Using BCM EE synapses\")\n",
    "L.set_param('ee_syn', 'type', synapse_types.bcm)\n",
    "L.set_param('ee_syn', 'lrate', 1./100.)\n",
    "#L.set_param('ee_syn', 'omega', 2.)\n",
    "#----------------------------------\n",
    "L.annotate(\"Using corr_homeo_inhib IE synapses\")\n",
    "L.set_param('ie_syn', 'type', synapse_types.corr_inh)\n",
    "L.set_param('ie_syn', 'lrate', 1./20.)\n",
    "L.set_param('e_pars', 'des_act', 0.4)\n",
    "#----------------------------------\n",
    "L.annotate(\"Using anti_cov_pre EI synapses\")\n",
    "L.set_param('ei_syn', 'type', synapse_types.anticov_pre)\n",
    "L.set_param('ei_syn', 'lrate', .02)\n",
    "#----------------------------------\n",
    "shrp.annotate(\"Leaving a single input unit in the layer\")\n",
    "shrp.set_param('e_geom', 'rows', 0)\n",
    "shrp.set_param('i_geom', 'rows', 0)\n",
    "shrp.set_param('x_geom', 'rows', 1)\n",
    "shrp.set_param('x_geom', 'columns', 1)\n",
    "#----------------------------------\n",
    "shrp.annotate(\"Configuring sharpening unit\")\n",
    "shrp.set_param('x_pars', 'function', lambda x : None)\n",
    "shrp.set_param('x_pars', 'init_val', 1.)\n",
    "shrp.set_param('x_pars', 'coordinates', np.array([0.,0.]))\n",
    "#----------------------------------\n",
    "L.set_param('n', 'w_track', 16)\n",
    "shrp.set_param('n', 'w_track', 0)\n",
    "#----------------------------------"
   ]
  },
  {
   "cell_type": "code",
   "execution_count": null,
   "metadata": {
    "code_folding": []
   },
   "outputs": [],
   "source": [
    "# Add interlayer connections\n",
    "ei_net.add_connection(('shrp','x'), ('L','e'))"
   ]
  },
  {
   "cell_type": "code",
   "execution_count": null,
   "metadata": {
    "code_folding": []
   },
   "outputs": [],
   "source": [
    "# Configure interlayer connections\n",
    "ei_net.set_param('shrpx_Le_conn', 'mask',{'circular': {'radius': 10.}})\n",
    "ei_net.set_param('shrpx_Le_conn', 'kernel', 1.)\n",
    "ei_net.set_param('shrpx_Le_conn', 'weights', {'uniform' : {'low': 1., 'high': 1.}})\n",
    "ei_net.set_param('shrpx_Le_syn', 'init_w', 1.)\n",
    "ei_net.set_param('shrpx_Le_syn', 'inp_ports', L.e_pars['sharpen_port'])"
   ]
  },
  {
   "cell_type": "code",
   "execution_count": null,
   "metadata": {
    "code_folding": []
   },
   "outputs": [],
   "source": [
    "# Build the network\n",
    "ei_net.build()"
   ]
  },
  {
   "cell_type": "code",
   "execution_count": null,
   "metadata": {
    "code_folding": []
   },
   "outputs": [],
   "source": [
    "# Creating input patterns\n",
    "## The patterns of L.x\n",
    "n_pat = 4  # number of input patterns\n",
    "pat_arr = np.zeros((4, 25)) # ei_runner.n['x'])) # array with all input patterns\n",
    "\n",
    "for row in range(5):\n",
    "    for col in range(5):\n",
    "        idx = 5*col + row\n",
    "        if row == col or row+col == 4: # The X input pattern\n",
    "            pat_arr[0,idx] = 1\n",
    "        if row == 2 or col == 2:  # The + input pattern\n",
    "            pat_arr[1,idx] = 1\n",
    "        if row == 1 or row == 3:  # The = input pattern\n",
    "            pat_arr[2,idx] = 1\n",
    "        if col == 1 or col == 3:  # The || input pattern\n",
    "            pat_arr[3,idx] = 1\n",
    "pat_arr = pat_arr / 5.\n",
    "\n",
    "def inp_pat(pres, rows, columns, port=0, random=False):\n",
    "    # The function that creates the input pattern shown at each presentation in ei_net.run\n",
    "    if random:\n",
    "        idx = np.random.randint(4)\n",
    "    else:\n",
    "        idx = pres % 4\n",
    "    return pat_arr[idx, :]\n",
    "\n",
    "## The pattern of shrp.x is irrelevant, we set it using the set_inp_fun argument\n",
    "shrp_inp_pat = lambda p, r, c : 1.\n",
    "\n",
    "\n",
    "def make_shrp_fun(prev_pat, cur_pat, init_time, pres_time, inp_units):\n",
    "    eps = .1 # distance to the input change where sharpening is released\n",
    "    return lambda t : 0. if (t < init_time+eps or t > init_time+pres_time-eps) else 1.\n",
    "    #return lambda t: 1.\n",
    "\n",
    "def set_shrp_fun(pre_inp, cur_inp, init_time, pres_time, inp_units):\n",
    "    for unit in inp_units:\n",
    "            unit.set_function( make_shrp_fun(pre_inp, cur_inp, init_time, pres_time, inp_units) )\n",
    "\n",
    "inp_pat_dic = {'L' : inp_pat, 'shrp' : shrp_inp_pat}\n",
    "inp_fun_dic = {'shrp' : set_shrp_fun }"
   ]
  },
  {
   "cell_type": "code",
   "execution_count": null,
   "metadata": {
    "code_folding": [
     0
    ],
    "scrolled": false
   },
   "outputs": [],
   "source": [
    "# Simulating\n",
    "n_pres = 8\n",
    "pres_time = 2.\n",
    "    \n",
    "ei_net.run(n_pres, pres_time, set_inp_pat=inp_pat_dic, set_inp_fun=inp_fun_dic)"
   ]
  },
  {
   "cell_type": "code",
   "execution_count": null,
   "metadata": {
    "scrolled": true
   },
   "outputs": [],
   "source": [
    "%matplotlib inline\n",
    "ei_net.basic_plot('L')"
   ]
  },
  {
   "cell_type": "code",
   "execution_count": null,
   "metadata": {
    "scrolled": true
   },
   "outputs": [],
   "source": [
    "%matplotlib inline\n",
    "ei_net.basic_plot('shrp')"
   ]
  },
  {
   "cell_type": "code",
   "execution_count": null,
   "metadata": {},
   "outputs": [],
   "source": [
    "ei_net.double_anim(L.e, slider=False, interv=20, nbins=20, thr=0.5, pdf=True)"
   ]
  },
  {
   "cell_type": "code",
   "execution_count": null,
   "metadata": {
    "code_folding": [
     0
    ],
    "scrolled": true
   },
   "outputs": [],
   "source": [
    "# Plot the highest excitatory unit activities\n",
    "%matplotlib inline\n",
    "n_top = 5  # how many units to plot\n",
    "top_pop = np.array(L.e)  # population to visualize\n",
    "top_units = ei_net.all_activs[top_pop].sum(1).argpartition(-n_top)[-n_top:]\n",
    "print(top_units)\n",
    "top_act_fig = plt.figure(figsize=(18,8))\n",
    "top_acts = ei_net.all_activs[top_pop[top_units]].transpose()\n",
    "plt.plot(ei_net.all_times, top_acts)\n",
    "plt.show()"
   ]
  },
  {
   "cell_type": "code",
   "execution_count": null,
   "metadata": {
    "code_folding": [
     0
    ],
    "scrolled": false
   },
   "outputs": [],
   "source": [
    "# Plot the lowest excitatory unit activities\n",
    "n_bottom = 10  # how many units to plot\n",
    "bottom_pop = np.array(L.e)  # population to visualize\n",
    "bottom_units = ei_net.all_activs[bottom_pop].sum(1).argpartition(n_bottom)[0:n_bottom-1]\n",
    "print(bottom_units)\n",
    "bottom_act_fig = plt.figure(figsize=(18,8))\n",
    "bottom_acts = ei_net.all_activs[bottom_pop[bottom_units]].transpose()\n",
    "plt.plot(ei_net.all_times, bottom_acts)\n",
    "plt.show()"
   ]
  },
  {
   "cell_type": "code",
   "execution_count": null,
   "metadata": {},
   "outputs": [],
   "source": [
    "ei_net.hist_anim(L.e)"
   ]
  },
  {
   "cell_type": "markdown",
   "metadata": {},
   "source": [
    "### Second part\n",
    "Represent combinations of 2 localized 1D layers using the middle layer. \n",
    "\n",
    "Test representations using the angle of the activity vectors. At the end of the presentation, when the layer activity has settled, you take the activity vector of the middle layer.\n",
    "* Activity vectors with the same input pattern should have small angles, and the std. dev. of the angles around the mean should be small.\n",
    "* Activity vectors from different inputs should have larger angles, e.g. their normalized inner products should be small.\n",
    "\n",
    "__Proceed here directly after reset.__\n",
    "\n"
   ]
  },
  {
   "cell_type": "code",
   "execution_count": null,
   "metadata": {
    "code_folding": []
   },
   "outputs": [],
   "source": [
    "# import the ei_network class and draculab\n",
    "%cd ..\n",
    "from ei_network import *"
   ]
  },
  {
   "cell_type": "code",
   "execution_count": null,
   "metadata": {
    "code_folding": []
   },
   "outputs": [],
   "source": [
    "# This is the name of the file where logging will happen\n",
    "log_file = \"./logs/step1p2\" + time.strftime(\"_%m-%d-%y.txt\")"
   ]
  },
  {
   "cell_type": "code",
   "execution_count": null,
   "metadata": {
    "code_folding": []
   },
   "outputs": [],
   "source": [
    "%%capture capt \n",
    "# logging draculab version used for this session\n",
    "print('#======================================================')\n",
    "print('#             | Latest git commit: |')\n",
    "print('#====================================================== \\n#', end=' ')\n",
    "!git log -1 --oneline --color=never"
   ]
  },
  {
   "cell_type": "code",
   "execution_count": null,
   "metadata": {
    "code_folding": []
   },
   "outputs": [],
   "source": [
    "# Write the output of the cell above in the simulation log\n",
    "f = open(log_file, mode='a')\n",
    "f.write(capt.stdout)\n",
    "f.close()"
   ]
  },
  {
   "cell_type": "code",
   "execution_count": null,
   "metadata": {
    "code_folding": []
   },
   "outputs": [],
   "source": [
    "# create the network using the ei_network tools\n",
    "layers = ['L', 'shrp','I1', 'I2']  # L is the layer, shrp is the extra input to the sharpen port, I1,2 are the input layers\n",
    "ei_net = ei_network(layers)"
   ]
  },
  {
   "cell_type": "code",
   "execution_count": null,
   "metadata": {
    "code_folding": [
     0
    ]
   },
   "outputs": [],
   "source": [
    "# Configure layer parameters\n",
    "\n",
    "ei_net.annotate('Configuration for sig_trdc in L.e')\n",
    "L = ei_net.layers['L']\n",
    "shrp = ei_net.layers['shrp']\n",
    "I1 = ei_net.layers['I1']\n",
    "I2 = ei_net.layers['I2']\n",
    "\n",
    "#----------------------------------\n",
    "L.annotate(\"Configuration of units in layer L.\")\n",
    "L.set_param('e_pars', 'type', unit_types.sig_trdc)\n",
    "L.set_param('e_pars', 'slope_min', 1.7)\n",
    "L.set_param('e_pars', 'slope_wid', .5)\n",
    "L.set_param('e_pars', 'thresh_min', 0.)\n",
    "L.set_param('e_pars', 'thresh_wid', 0.5)\n",
    "L.set_param('e_pars', 'tau_min', 0.1)\n",
    "L.set_param('e_pars', 'tau_wid', 0.3)\n",
    "L.set_param('e_pars', 'n_ports', 2)\n",
    "L.set_param('e_pars', 'branch_params', {'branch_w' : [0.3, 0.7], 'slopes' : 3, 'threshs' : 0.1})\n",
    "L.set_param('e_pars', 'tau_slow', 10.)\n",
    "L.set_param('e_pars', 'tau_fast', 0.05)\n",
    "L.set_param('e_pars', 'c', 3.)\n",
    "L.set_param('e_pars', 'tau_scale', .008)\n",
    "L.set_param('e_pars', 'tau_relax', 10.)\n",
    "L.set_param('e_pars', 'Kp', .02)\n",
    "L.set_param('e_pars', 'tau_thr', .01)\n",
    "L.set_param('e_pars', 'rdc_port', 0)\n",
    "L.set_param('e_pars', 'hr_port', 0)\n",
    "L.set_param('e_pars', 'thr_fix', 0.1)\n",
    "L.set_param('e_pars', 'tau_fix', 0.1)\n",
    "L.set_param('e_pars', 'sharpen_port', 2)\n",
    "#----------------------------------\n",
    "L.annotate(\"Adjusting size of e,i groups.\")\n",
    "L.set_param('e_geom', 'rows', 10)\n",
    "L.set_param('e_geom', 'columns', 10)\n",
    "L.set_param('i_geom', 'rows', 5)\n",
    "L.set_param('i_geom', 'columns', 5)\n",
    "L.set_param('e_geom', 'jitter', 0.)\n",
    "L.set_param('i_geom', 'jitter', 0.)\n",
    "L.annotate(\"Compensating for the ratio of excitatory to inhibitory units.\")\n",
    "L.set_param('ee_conn', 'weights',{'uniform' : {'low': .01, 'high' : 0.3}})\n",
    "L.set_param('ei_conn', 'weights',{'uniform' : {'low': .01, 'high' : 0.3}})\n",
    "L.set_param('ie_conn', 'weights',{'uniform' : {'low': -1.2, 'high' : -.2}})\n",
    "L.set_param('ii_conn', 'weights',{'uniform' : {'low': -1., 'high' : -0.01}})\n",
    "\n",
    "#----------------------------------\n",
    "L.annotate(\"Setting input parameters\")\n",
    "L.set_param('x_geom', 'rows', 0) # no input units in layer L\n",
    "#-----------------------------------\n",
    "# specifying local input ports\n",
    "L.set_param('ee_syn', 'inp_ports', 0)\n",
    "L.set_param('ie_syn', 'inp_ports', 0)\n",
    "#----------------------------------\n",
    "L.annotate(\"Using Oja input synapses\")\n",
    "L.set_param('xe_syn', 'type', synapse_types.oja)\n",
    "L.set_param('xe_syn', 'lrate', 1./100.)\n",
    "L.set_param('xi_syn', 'type', synapse_types.oja)\n",
    "L.set_param('xi_syn', 'lrate', 1./100.)\n",
    "#----------------------------------\n",
    "L.annotate(\"Using sq_hebbsnorm EE synapses\")\n",
    "L.set_param('ee_syn', 'type', synapse_types.sq_hebbsnorm)\n",
    "L.set_param('ee_syn', 'lrate', 1./100.)\n",
    "L.set_param('ee_syn', 'omega', 1.8)\n",
    "#----------------------------------\n",
    "L.annotate(\"Using corr_homeo_inhib IE synapses\")\n",
    "L.set_param('ie_syn', 'type', synapse_types.corr_inh)\n",
    "L.set_param('ie_syn', 'lrate', 1./40.)\n",
    "L.set_param('e_pars', 'des_act', 0.4)\n",
    "#----------------------------------\n",
    "L.annotate(\"Using static EI synapses\")\n",
    "L.set_param('ei_syn', 'type', synapse_types.static)\n",
    "#----------------------------------\n",
    "shrp.annotate(\"Leaving no units in the shrp layer\")\n",
    "shrp.set_param('e_geom', 'rows', 0)\n",
    "shrp.set_param('i_geom', 'rows', 0)\n",
    "shrp.set_param('x_geom', 'rows', 0)\n",
    "#----------------------------------\n",
    "shrp.annotate(\"Configuring sharpening unit\")\n",
    "shrp.set_param('x_pars', 'function', lambda x : None)\n",
    "shrp.set_param('x_pars', 'init_val', 1.)\n",
    "shrp.set_param('x_pars', 'coordinates', np.array([0.,0.]))\n",
    "#----------------------------------\n",
    "I1.annotate(\"Configuration of I1 geometry\")\n",
    "I1.set_param('e_geom', 'rows', 0)\n",
    "I1.set_param('i_geom', 'rows', 0)\n",
    "I1.set_param('x_geom', 'rows', 10)\n",
    "I1.set_param('x_geom', 'columns', 1)\n",
    "I1.set_param('x_geom', 'extent', [.5, 1.])\n",
    "I1.set_param('x_geom', 'center', [-.7, 0.])\n",
    "#----------------------------------\n",
    "I2.annotate(\"Configuration of I2 geometry\")\n",
    "I2.set_param('e_geom', 'rows', 0)\n",
    "I2.set_param('i_geom', 'rows', 0)\n",
    "I2.set_param('x_geom', 'rows', 1)\n",
    "I2.set_param('x_geom', 'columns', 10)\n",
    "I2.set_param('x_geom', 'extent', [1., .5])\n",
    "I2.set_param('x_geom', 'center', [0., .7])\n",
    "#----------------------------------\n",
    "L.set_param('n', 'w_track', 16)\n",
    "shrp.set_param('n', 'w_track', 0)\n",
    "I1.set_param('n', 'w_track', 0)\n",
    "I2.set_param('n', 'w_track', 0)\n",
    "#----------------------------------"
   ]
  },
  {
   "cell_type": "code",
   "execution_count": null,
   "metadata": {
    "code_folding": [
     0
    ]
   },
   "outputs": [],
   "source": [
    "# Add interlayer connections\n",
    "\"\"\"ei_net.add_connection(('shrp','x'), ('L','e'))\"\"\"\n",
    "ei_net.add_connection(('I1','x'), ('L','e'))\n",
    "ei_net.add_connection(('I1','x'), ('L','i'))\n",
    "ei_net.add_connection(('I2','x'), ('L','e'))\n",
    "ei_net.add_connection(('I2','x'), ('L','i'))"
   ]
  },
  {
   "cell_type": "code",
   "execution_count": null,
   "metadata": {
    "code_folding": [
     0
    ]
   },
   "outputs": [],
   "source": [
    "# Configure interlayer connections\n",
    "\"\"\"\n",
    "ei_net.set_param('shrpx_Le_conn', 'mask',{'circular': {'radius': 10.}})\n",
    "ei_net.set_param('shrpx_Le_conn', 'kernel', 1.)\n",
    "ei_net.set_param('shrpx_Le_conn', 'weights', {'uniform' : {'low': 0., 'high': 0.}})\n",
    "ei_net.set_param('shrpx_Le_syn', 'init_w', 0.)\n",
    "ei_net.set_param('shrpx_Le_syn', 'inp_ports', L.e_pars['sharpen_port'])\n",
    "\"\"\"\n",
    "ei_net.set_param('I1x_Le_conn', 'connection_type', 'convergent')\n",
    "ei_net.set_param('I1x_Le_conn', 'number_of_connections', 2)\n",
    "ei_net.set_param('I1x_Le_conn', 'mask', {'circular': {'radius': 5.}})\n",
    "ei_net.set_param('I1x_Le_conn', 'kernel', {'linear' : {'c': 1., 'a': 0.5}})\n",
    "ei_net.set_param('I1x_Le_conn', 'weights', {'uniform' : {'low' : 0.2, 'high' : .9}})\n",
    "ei_net.set_param('I1x_Le_conn', 'dist_dim', 'y')\n",
    "ei_net.set_param('I1x_Le_conn', 'edge_wrap', False)\n",
    "ei_net.set_param('I1x_Le_syn', 'inp_ports', 1)\n",
    "ei_net.set_param('I1x_Le_syn', 'type', synapse_types.bcm)\n",
    "ei_net.set_param('I1x_Le_syn', 'lrate', 1./50.)\n",
    "ei_net.set_param('I1x_Le_syn', 'omega', 1.5)\n",
    "\n",
    "ei_net.set_param('I1x_Li_conn', 'connection_type', 'convergent')\n",
    "ei_net.set_param('I1x_Li_conn', 'number_of_connections', 2)\n",
    "ei_net.set_param('I1x_Li_conn', 'mask', {'circular': {'radius': 5.}})\n",
    "ei_net.set_param('I1x_Li_conn', 'kernel', {'linear' : {'c': 1., 'a': 0.5}})\n",
    "ei_net.set_param('I1x_Li_conn', 'weights', {'uniform' : {'low' : 0.2, 'high' : 0.5}})\n",
    "ei_net.set_param('I1x_Li_conn', 'dist_dim', 'y')\n",
    "ei_net.set_param('I1x_Li_conn', 'edge_wrap', False)\n",
    "\n",
    "ei_net.set_param('I2x_Le_conn', 'connection_type', 'convergent')\n",
    "ei_net.set_param('I2x_Le_conn', 'number_of_connections', 2)\n",
    "ei_net.set_param('I2x_Le_conn', 'mask', {'circular': {'radius': 5.}})\n",
    "ei_net.set_param('I2x_Le_conn', 'kernel', {'linear' : {'c': 1., 'a': 0.5}})\n",
    "ei_net.set_param('I2x_Le_conn', 'weights', {'uniform' : {'low' : 0.2, 'high' : .9}})\n",
    "ei_net.set_param('I2x_Le_conn', 'dist_dim', 'x')\n",
    "ei_net.set_param('I2x_Le_syn', 'inp_ports', 1)\n",
    "ei_net.set_param('I2x_Le_syn', 'type', synapse_types.bcm)\n",
    "ei_net.set_param('I2x_Le_syn', 'lrate', 1./50.)\n",
    "ei_net.set_param('I2x_Le_syn', 'omega', 1.5)\n",
    "\n",
    "ei_net.set_param('I2x_Li_conn', 'connection_type', 'convergent')\n",
    "ei_net.set_param('I2x_Li_conn', 'number_of_connections', 2)\n",
    "ei_net.set_param('I2x_Li_conn', 'mask', {'circular': {'radius': 5.}})\n",
    "ei_net.set_param('I2x_Li_conn', 'kernel', {'linear' : {'c': 1., 'a': 0.5}})\n",
    "ei_net.set_param('I2x_Li_conn', 'weights', {'uniform' : {'low' : 0.2, 'high' : 0.5}})\n",
    "ei_net.set_param('I2x_Li_conn', 'dist_dim', 'x')\n",
    "ei_net.set_param('I2x_Li_conn', 'edge_wrap', False)\n"
   ]
  },
  {
   "cell_type": "code",
   "execution_count": null,
   "metadata": {
    "code_folding": [],
    "scrolled": false
   },
   "outputs": [],
   "source": [
    "# Build the network\n",
    "ei_net.build()"
   ]
  },
  {
   "cell_type": "code",
   "execution_count": null,
   "metadata": {
    "code_folding": [
     0
    ]
   },
   "outputs": [],
   "source": [
    "#================ INPUT CONFIGURATION =================\n",
    "n_pat1 = I1.n['x']  # number of input patterns for I1 is number of input units\n",
    "n_pat2 = I2.n['x']  # number of input patterns for I2 is number of input units\n",
    "pats1 = [] # here we'll store id's for the patterns presented by inp_pat1\n",
    "pats2 = [] # here we'll store id's for the patterns presented by inp_pat2\n",
    "i_nums = np.random.permutation(n_pat1*n_pat2)\n",
    "idx_list1 = [int(np.floor(n/n_pat2)) for n in i_nums]\n",
    "idx_list2 = [int(round(n%n_pat2)) for n in i_nums]\n",
    "\n",
    "def inp_pat1(pres, rows, columns, port=0, random=True):\n",
    "    # The function that creates the input pattern for I1\n",
    "    if random:\n",
    "        if pres < 930:\n",
    "            idx = np.random.randint(n_pat1)\n",
    "        else:\n",
    "            idx = idx_list1[pres%len(idx_list1)]\n",
    "    else:\n",
    "        idx = pres % n_pat1\n",
    "    pats1.append(idx)\n",
    "    return [0.5*(1. + np.cos(2.*np.pi*(x - idx)/n_pat1)) for x in range(n_pat1)]\n",
    "    \n",
    "def inp_pat2(pres, rows, columns, port=0, random=True):\n",
    "    # The function that creates the input pattern for I2\n",
    "    if random:\n",
    "        if pres < 930:\n",
    "            idx = np.random.randint(n_pat2)\n",
    "        else:\n",
    "            idx = idx_list2[pres%len(idx_list2)]\n",
    "    else:\n",
    "        idx = pres % n_pat2\n",
    "    pats2.append(idx)\n",
    "    return [0.5*(1. + np.cos(2.*np.pi*(x - idx)/n_pat2)) for x in range(n_pat2)]\n",
    "    \n",
    "## The pattern of shrp.x is irrelevant, we set it using the set_inp_fun argument\n",
    "shrp_inp_pat = lambda p, r, c : 1.\n",
    "\n",
    "def make_shrp_fun(prev_pat, cur_pat, init_time, pres_time, inp_units):\n",
    "    eps = .1 # distance to the input change where sharpening is released\n",
    "    return lambda t : 0. if (t < init_time+eps or t > init_time+pres_time-eps) else 1.\n",
    "    #return lambda t: 1.\n",
    "\n",
    "def set_shrp_fun(pre_inp, cur_inp, init_time, pres_time, inp_units):\n",
    "    for unit in inp_units:\n",
    "            unit.set_function( make_shrp_fun(pre_inp, cur_inp, init_time, pres_time, inp_units) )\n",
    "\n",
    "inp_pat_dic = {'I1' : inp_pat1, 'I2' : inp_pat2, 'shrp' : shrp_inp_pat}\n",
    "inp_fun_dic = {'shrp' : set_shrp_fun }\n",
    "#======================================================\n"
   ]
  },
  {
   "cell_type": "code",
   "execution_count": null,
   "metadata": {
    "code_folding": []
   },
   "outputs": [],
   "source": [
    "%%capture capt2\n",
    "# The cell above does input configuration, and this should capture it in 'capt2'\n",
    "%history -l 1"
   ]
  },
  {
   "cell_type": "code",
   "execution_count": null,
   "metadata": {
    "code_folding": []
   },
   "outputs": [],
   "source": [
    "# Write the input configuration two cells above in the simulation log\n",
    "f = open(log_file, mode='a')\n",
    "f.write(capt2.stdout)\n",
    "f.close()"
   ]
  },
  {
   "cell_type": "code",
   "execution_count": null,
   "metadata": {
    "code_folding": [],
    "scrolled": true
   },
   "outputs": [],
   "source": [
    "# Simulating\n",
    "n_pres = 5\n",
    "pres_time = 1.\n",
    "    \n",
    "ei_net.run(n_pres, pres_time, set_inp_pat=inp_pat_dic, set_inp_fun=inp_fun_dic)"
   ]
  },
  {
   "cell_type": "code",
   "execution_count": null,
   "metadata": {
    "code_folding": [
     0
    ],
    "scrolled": true
   },
   "outputs": [],
   "source": [
    "# Simulation analysis\n",
    "\n",
    "## For each input presentation obtain the activity vector from layer L\n",
    "ppat = int(round(pres_time/ei_net.net_params['min_delay'])) # number of data points per input pattern\n",
    "pt = int(round((pres_time-0.2)/ei_net.net_params['min_delay'])) # data point where the vector will come from\n",
    "e_pats = np.zeros((len(L.e), n_pres))  # array where we'll store the activity vectors\n",
    "for pres in range(n_pres):\n",
    "    for e_idx, idx in enumerate(L.e):\n",
    "        e_pats[e_idx, pres] = ei_net.all_activs[idx, pres*ppat + pt]\n",
    "\n",
    "# The ID of the input comes from the id's in pats1 and pats2, placed by inp_pat1 and inp_pat2 respectively.\n",
    "pater1 = pats1[1:] # The first call is just for setting initial conditions; we discard its pattern\n",
    "pater2 = pats2[1:] # ditto\n",
    "pats = np.zeros(n_pat1*n_pat2)  # pats[n] is the number of times the pattern with ID 'n' appeared\n",
    "n_pats = len(pats)\n",
    "pres_pat = np.zeros(n_pres)  # pres_pat[n] is the ID of the pattern in presentation 'n'\n",
    "for p in range(n_pres):\n",
    "    p_id = n_pat2*pater1[p] + pater2[p] # the pattern ID 'flattens' all possible pairs of values\n",
    "    pats[p_id] += 1\n",
    "    pres_pat[p] = p_id\n",
    "\n",
    "\n",
    "# get the mean of output patterns corresponding to the same inputs\n",
    "mean_out = np.zeros((len(L.e),n_pats)) # mean_out[:,n] = mean output for input n\n",
    "for pres in range(n_pres):\n",
    "    mean_out[:,int(pres_pat[pres])] += e_pats[:,pres]\n",
    "    \n",
    "for pat in range(n_pats):\n",
    "    if pats[pat] > 1:\n",
    "        mean_out[:, pat] = mean_out[:, pat]/ pats[pat]\n",
    "        \n",
    "# Obtain the angles between any two pairs of input patterns\n",
    "# get all input patterns\n",
    "all_inps = np.zeros((n_pats, n_pat1+n_pat2)) # all_inps[n,:] = input pattern with ID 'n'\n",
    "for p1 in range(n_pat1):\n",
    "    for p2 in range(n_pat2):\n",
    "        all_inps[p1*n_pat2+p2, :n_pat1] = inp_pat1(p1, 1, 1, random=False)\n",
    "        all_inps[p1*n_pat2+p2, n_pat1:] = inp_pat2(p2, 1, 1, random=False)\n",
    "        \n",
    "\n",
    "# get matrices with dot products between pairs of patterns\n",
    "inp_norm = np.linalg.norm(all_inps[0,:])   # all input vectors have the same norm\n",
    "inp_norm2 = inp_norm*inp_norm\n",
    "inp_dots = np.zeros((n_pats, n_pats))\n",
    "out_dots = np.zeros((n_pats, n_pats))\n",
    "for p1 in range(n_pats):\n",
    "    for p2 in range(n_pats):\n",
    "        inp_dots[p1,p2] = np.dot(all_inps[p1,:], all_inps[p2,:])/inp_norm2\n",
    "        if pats[p1] > 0 and pats[p2] > 0: # if the two input patterns were presented\n",
    "                #pres_idx1 = np.argmin(abs(pres_pat - p1))  # index of presentation where you showed pattern 1\n",
    "                #pres_idx2 = np.argmin(abs(pres_pat - p2))  # index of presentation where you showed pattern 2\n",
    "                #vec1 = e_pats[:,pres_idx1]  # first input vector\n",
    "                #vec2 = e_pats[:,pres_idx2]  # second input vector\n",
    "                vec1 = mean_out[:,p1]\n",
    "                vec2 = mean_out[:,p2]\n",
    "                norm1 = np.linalg.norm(vec1)\n",
    "                norm2 = np.linalg.norm(vec2)\n",
    "                out_dots[p1,p2] = np.dot(vec1,vec2)/(norm1*norm2)\n",
    "\n",
    "                \n",
    "# compare the angles between input patterns with the angles between output patterns\n",
    "absissae = []\n",
    "ordinates = []\n",
    "for row in range(n_pats):\n",
    "    for column in range(n_pats):\n",
    "        if out_dots[row,column] > 0:\n",
    "            absissae.append(inp_dots[row,column])\n",
    "            ordinates.append(out_dots[row,column])\n",
    "            \n",
    "#plot the results of the analysis\n",
    "%matplotlib inline\n",
    "fig, axes = plt.subplots(2,2, figsize=(21, 23))\n",
    "fig.subplots_adjust(hspace=0.2, wspace=0.1)\n",
    "\n",
    "im0 = axes[0,0].plot(absissae, ordinates, '.')\n",
    "axes[0,0].set_title('inp_dots vs out_dots')\n",
    "im1 = axes[0,1].imshow(mean_out)\n",
    "axes[0,1].set_title('mean output for each input pattern')\n",
    "fig.colorbar(im1,ax=axes[0,1],fraction=0.1,shrink=0.8)\n",
    "im2 = axes[1,0].imshow(inp_dots)\n",
    "axes[1,0].set_title('dot products between input vectors')\n",
    "im3 = axes[1,1].imshow(out_dots)\n",
    "axes[1,1].set_title('dot products between mean output vectors')\n",
    "#fig.colorbar(im3,fraction=0.1,shrink=0.8)\n",
    "\n",
    "# plot the array of activity patterns\n",
    "ex_fig = plt.figure(figsize=(20,10))\n",
    "plt.imshow(e_pats)\n",
    "    \n",
    "# A numerical measure of how much the output representation differentiates the inputs may be the norm of (inp_dots - out_dots)\n",
    "diff_norm = np.linalg.norm(inp_dots-out_dots) # will use Frobenius norm, as if they were vectors\n",
    "print(\"norm of output matrix: %f\" % (np.linalg.norm(out_dots)))\n",
    "print(\"norm of input matrix: %f\" % (np.linalg.norm(inp_dots)))\n",
    "print(\"norm of difference between matrices: %f\" % (diff_norm))"
   ]
  },
  {
   "cell_type": "code",
   "execution_count": null,
   "metadata": {
    "code_folding": [
     0
    ]
   },
   "outputs": [],
   "source": [
    "%%capture capt3\n",
    "# The cell above does output analysis, and this can capture it in 'capt3'\n",
    "%history -l 1"
   ]
  },
  {
   "cell_type": "code",
   "execution_count": null,
   "metadata": {
    "code_folding": [
     0
    ]
   },
   "outputs": [],
   "source": [
    "# Write the analysis code two cells above in the simulation log\n",
    "f = open(log_file, mode='a')\n",
    "f.write(capt3.stdout)\n",
    "f.close()"
   ]
  },
  {
   "cell_type": "code",
   "execution_count": null,
   "metadata": {
    "code_folding": [
     0
    ],
    "scrolled": true
   },
   "outputs": [],
   "source": [
    "# plot the array of activity patterns, or difference matrix\n",
    "%matplotlib inline\n",
    "ex_fig = plt.figure(figsize=(20,20))\n",
    "#plt.imshow(e_pats[:,:100])\n",
    "plt.imshow(inp_dots-out_dots)\n",
    "plt.colorbar()"
   ]
  },
  {
   "cell_type": "code",
   "execution_count": null,
   "metadata": {
    "scrolled": true
   },
   "outputs": [],
   "source": [
    "%matplotlib inline\n",
    "ei_net.basic_plot('L')"
   ]
  },
  {
   "cell_type": "code",
   "execution_count": null,
   "metadata": {
    "scrolled": true
   },
   "outputs": [],
   "source": [
    "%matplotlib inline\n",
    "ei_net.basic_plot('shrp')"
   ]
  },
  {
   "cell_type": "code",
   "execution_count": null,
   "metadata": {},
   "outputs": [],
   "source": [
    "ei_net.double_anim(L.e+I1.x+I2.x, slider=False, interv=20, nbins=20, thr=0.7, pdf=True)"
   ]
  },
  {
   "cell_type": "code",
   "execution_count": null,
   "metadata": {
    "code_folding": [
     0
    ],
    "scrolled": true
   },
   "outputs": [],
   "source": [
    "# Plot the highest excitatory unit activities\n",
    "%matplotlib inline\n",
    "n_top = 2  # how many units to plot\n",
    "top_pop = np.array(L.e)  # population to visualize\n",
    "top_units = ei_net.all_activs[top_pop].sum(1).argpartition(-n_top)[-n_top:]\n",
    "print(top_units)\n",
    "top_act_fig = plt.figure(figsize=(18,8))\n",
    "top_acts = ei_net.all_activs[top_pop[top_units]].transpose()\n",
    "plt.plot(ei_net.all_times, top_acts)\n",
    "plt.show()"
   ]
  },
  {
   "cell_type": "code",
   "execution_count": null,
   "metadata": {
    "code_folding": [
     0
    ],
    "scrolled": true
   },
   "outputs": [],
   "source": [
    "# Plot the lowest excitatory unit activities\n",
    "n_bottom = 6  # how many units to plot\n",
    "bottom_pop = np.array(L.e)  # population to visualize\n",
    "bottom_units = ei_net.all_activs[bottom_pop].sum(1).argpartition(n_bottom)[0:n_bottom-1]\n",
    "print(bottom_units)\n",
    "bottom_act_fig = plt.figure(figsize=(18,8))\n",
    "bottom_acts = ei_net.all_activs[bottom_pop[bottom_units]].transpose()\n",
    "plt.plot(ei_net.all_times, bottom_acts)\n",
    "plt.show()"
   ]
  },
  {
   "cell_type": "code",
   "execution_count": null,
   "metadata": {
    "code_folding": []
   },
   "outputs": [],
   "source": [
    "# Visualize the connections\n",
    "ei_net.conn_anim(I1.x+I2.x, L.e, slider=True)\n",
    "#ei_net.conn_anim(L.e, L.e, slider=True)"
   ]
  },
  {
   "cell_type": "code",
   "execution_count": null,
   "metadata": {
    "code_folding": [
     0
    ]
   },
   "outputs": [],
   "source": [
    "# Annotations and log\n",
    "ei_net.annotate(\"This simulation takes the parameters used for the sigmoidal in the previous simulation, and uses them\")\n",
    "ei_net.annotate(\"for sig_trdc units. The network is probably better than anything I found with sigmoidals, (norm of \")\n",
    "ei_net.annotate(\"difference matrices is around 6), but the\")\n",
    "ei_net.annotate(\"rate distributions that eventually settle in (after 200 or so presentations) are not exponential; they\")\n",
    "ei_net.annotate(\"are bimodal, with all rates concentrated around 0 or 1 (U shaped). This may be related to the\")\n",
    "ei_net.annotate(\"inconsistently high desired value of the homeostatic inhibition, and also it should be related to the\")\n",
    "ei_net.annotate(\"propensity of EE connections and BCM inputs to form activity clusters.\")\n",
    "#ei_net.annotate(\"stop growing.\", make_history=False)\n",
    "ei_net.log(name=log_file,params=False)"
   ]
  },
  {
   "cell_type": "code",
   "execution_count": null,
   "metadata": {},
   "outputs": [],
   "source": [
    "ei_net.save('step1p2_sig_trdc1.pkl')"
   ]
  },
  {
   "cell_type": "markdown",
   "metadata": {},
   "source": [
    "### Third part\n",
    "Add a third input layer whose activity is driven by function of the first two, and that has reciprocal connections with the representation layer.\n",
    "\n",
    "__Proceed here directly after reset.__"
   ]
  },
  {
   "cell_type": "code",
   "execution_count": null,
   "metadata": {
    "code_folding": [
     0
    ]
   },
   "outputs": [],
   "source": [
    "# import the ei_network class and draculab\n",
    "%cd ..\n",
    "from ei_network import *"
   ]
  },
  {
   "cell_type": "code",
   "execution_count": null,
   "metadata": {
    "code_folding": []
   },
   "outputs": [],
   "source": [
    "# This is the name of the file where logging will happen\n",
    "log_file = \"./logs/step1p2\" + time.strftime(\"_%m-%d-%y.txt\")"
   ]
  },
  {
   "cell_type": "code",
   "execution_count": null,
   "metadata": {
    "code_folding": [
     0
    ]
   },
   "outputs": [],
   "source": [
    "%%capture capt \n",
    "# logging draculab version used for this session\n",
    "print('#======================================================')\n",
    "print('#             | Latest git commit: |')\n",
    "print('#====================================================== \\n#', end=' ')\n",
    "!git log -1 --oneline --color=never"
   ]
  },
  {
   "cell_type": "code",
   "execution_count": null,
   "metadata": {
    "code_folding": [
     0
    ]
   },
   "outputs": [],
   "source": [
    "# Write the output of the cell above in the simulation log\n",
    "f = open(log_file, mode='a')\n",
    "f.write(capt.stdout)\n",
    "f.close()"
   ]
  },
  {
   "cell_type": "code",
   "execution_count": null,
   "metadata": {
    "code_folding": []
   },
   "outputs": [],
   "source": [
    "# create the network using the ei_network tools\n",
    "layers = ['L','I1', 'I2', 'I3', 'LI3']  \n",
    "# L is the representatioan layer, I1,2,3 are the source layers, LI3 is the bidirectionally connected input layer\n",
    "net = ei_network(layers)"
   ]
  },
  {
   "cell_type": "code",
   "execution_count": null,
   "metadata": {
    "code_folding": [
     0
    ]
   },
   "outputs": [],
   "source": [
    "# Configure layer parameters\n",
    "\n",
    "net.annotate('Configuration for sig_trdc in L.e')\n",
    "L = net.layers['L']\n",
    "I1 = net.layers['I1']\n",
    "I2 = net.layers['I2']\n",
    "I3 = net.layers['I3']\n",
    "LI3 = net.layers['LI3']\n",
    "#----------------------------------\n",
    "L.annotate(\"Configuration of units in layer L.\")\n",
    "L.set_param('e_pars', 'type', unit_types.sig_trdc)\n",
    "L.set_param('e_pars', 'slope_min', 1.7)\n",
    "L.set_param('e_pars', 'slope_wid', .5)\n",
    "L.set_param('e_pars', 'thresh_min', 0.)\n",
    "L.set_param('e_pars', 'thresh_wid', 0.5)\n",
    "L.set_param('e_pars', 'tau_min', 0.1)\n",
    "L.set_param('e_pars', 'tau_wid', 0.3)\n",
    "L.set_param('e_pars', 'n_ports', 2)\n",
    "L.set_param('e_pars', 'branch_params', {'branch_w' : [0.3, 0.7], 'slopes' : 3, 'threshs' : 0.1})\n",
    "L.set_param('e_pars', 'tau_slow', 10.)\n",
    "L.set_param('e_pars', 'tau_fast', 0.05)\n",
    "L.set_param('e_pars', 'c', 3.)\n",
    "L.set_param('e_pars', 'tau_scale', .008)\n",
    "L.set_param('e_pars', 'tau_relax', 10.)\n",
    "L.set_param('e_pars', 'Kp', .02)\n",
    "L.set_param('e_pars', 'tau_thr', .01)\n",
    "L.set_param('e_pars', 'rdc_port', 0)\n",
    "L.set_param('e_pars', 'hr_port', 0)\n",
    "L.set_param('e_pars', 'thr_fix', 0.1)\n",
    "L.set_param('e_pars', 'tau_fix', 0.1)\n",
    "L.set_param('e_pars', 'sharpen_port', 2)\n",
    "#----------------------------------\n",
    "L.annotate(\"Adjusting size of e,i groups, and connection weights.\")\n",
    "L.set_param('e_geom', 'rows', 10)\n",
    "L.set_param('e_geom', 'columns', 10)\n",
    "L.set_param('i_geom', 'rows', 5)\n",
    "L.set_param('i_geom', 'columns', 5)\n",
    "L.set_param('e_geom', 'jitter', 0.)\n",
    "L.set_param('i_geom', 'jitter', 0.)\n",
    "L.set_param('ee_conn', 'weights',{'uniform' : {'low': .01, 'high' : 0.3}})\n",
    "L.set_param('ei_conn', 'weights',{'uniform' : {'low': .01, 'high' : 0.3}})\n",
    "L.set_param('ie_conn', 'weights',{'uniform' : {'low': -1.2, 'high' : -.2}})\n",
    "L.set_param('ii_conn', 'weights',{'uniform' : {'low': -1., 'high' : -0.01}})\n",
    "#----------------------------------\n",
    "L.annotate(\"Setting local inputs for L\")\n",
    "L.set_param('x_geom', 'rows', 0) # one or zero inputs in L, depending on sharpening\n",
    "L.set_param('x_geom', 'columns', 1)\n",
    "L.set_param('xe_conn', 'mask', {'circular': {'radius': 100.}}) # projecting to all L.e units\n",
    "L.set_param('xe_conn', 'kernel', 1.)\n",
    "L.set_param('xe_conn', 'weights', {'uniform' : {'low': 1., 'high': 1.}})\n",
    "L.set_param('xe_syn', 'inp_ports', L.e_pars['sharpen_port'])\n",
    "L.set_param('x_pars', 'tau_fast', 0.05)\n",
    "#-----------------------------------\n",
    "# specifying local input ports\n",
    "L.set_param('ee_syn', 'inp_ports', 0)\n",
    "L.set_param('ie_syn', 'inp_ports', 1)\n",
    "#----------------------------------\n",
    "L.annotate(\"Using Oja input synapses\")\n",
    "L.set_param('xe_syn', 'type', synapse_types.oja)\n",
    "L.set_param('xe_syn', 'lrate', 1./100.)\n",
    "L.set_param('xi_syn', 'type', synapse_types.oja)\n",
    "L.set_param('xi_syn', 'lrate', 1./100.)\n",
    "#----------------------------------\n",
    "L.annotate(\"Using sq_hebbsnorm EE synapses\")\n",
    "L.set_param('ee_syn', 'type', synapse_types.sq_hebbsnorm)\n",
    "L.set_param('ee_syn', 'lrate', 1./100.)\n",
    "L.set_param('ee_syn', 'omega', 1.5)\n",
    "#----------------------------------\n",
    "L.annotate(\"Using corr_homeo_inhib IE synapses\")\n",
    "L.set_param('ie_syn', 'type', synapse_types.corr_inh)\n",
    "L.set_param('ie_syn', 'lrate', 1./40.)\n",
    "L.set_param('e_pars', 'des_act', 0.4)\n",
    "#----------------------------------\n",
    "L.annotate(\"Using static EI synapses\")\n",
    "L.set_param('ei_syn', 'type', synapse_types.static)\n",
    "#----------------------------------\n",
    "I1.annotate(\"Configuration of I1 geometry\")\n",
    "I1.set_param('e_geom', 'rows', 0)\n",
    "I1.set_param('i_geom', 'rows', 0)\n",
    "I1.set_param('x_geom', 'rows', 10)\n",
    "I1.set_param('x_geom', 'columns', 1)\n",
    "I1.set_param('x_geom', 'extent', [.5, 1.])\n",
    "I1.set_param('x_geom', 'center', [-.7, 0.])\n",
    "#----------------------------------\n",
    "I2.annotate(\"Configuration of I2 geometry\")\n",
    "I2.set_param('e_geom', 'rows', 0)\n",
    "I2.set_param('i_geom', 'rows', 0)\n",
    "I2.set_param('x_geom', 'rows', 1)\n",
    "I2.set_param('x_geom', 'columns', 10)\n",
    "I2.set_param('x_geom', 'extent', [1., .5])\n",
    "I2.set_param('x_geom', 'center', [0., .7])\n",
    "#----------------------------------\n",
    "I3.annotate(\"Configuration of I3 geometry\")\n",
    "I3.set_param('e_geom', 'rows', 0)\n",
    "I3.set_param('i_geom', 'rows', 0)\n",
    "I3.set_param('x_geom', 'rows', 1)\n",
    "I3.set_param('x_geom', 'columns', 10)\n",
    "I3.set_param('x_geom', 'extent', [1., .5])\n",
    "I3.set_param('x_geom', 'center', [0., -.9])\n",
    "#----------------------------------\n",
    "L.set_param('n', 'w_track', 16)\n",
    "LI3.set_param('n', 'w_track', 8)\n",
    "I1.set_param('n', 'w_track', 0)\n",
    "I2.set_param('n', 'w_track', 0)\n",
    "I3.set_param('n', 'w_track', 0)\n",
    "#----------------------------------"
   ]
  },
  {
   "cell_type": "code",
   "execution_count": null,
   "metadata": {
    "code_folding": [
     0
    ]
   },
   "outputs": [],
   "source": [
    "# Layer LI3 parameters\n",
    "#----------------------------------\n",
    "LI3.annotate(\"Configuration of units in layer LI3.\")\n",
    "LI3.set_param('e_pars', 'type', unit_types.sig_trdc)\n",
    "LI3.set_param('e_pars', 'slope_min', 1.9)\n",
    "LI3.set_param('e_pars', 'slope_wid', .2)\n",
    "LI3.set_param('e_pars', 'thresh_min', 0.2)\n",
    "LI3.set_param('e_pars', 'thresh_wid', 0.5)\n",
    "LI3.set_param('e_pars', 'tau_min', 0.1)\n",
    "LI3.set_param('e_pars', 'tau_wid', 0.3)\n",
    "LI3.set_param('e_pars', 'n_ports', 2)\n",
    "LI3.set_param('e_pars', 'branch_params', {'branch_w' : [0.3, 0.7], 'slopes' : 3, 'threshs' : 0.1})\n",
    "LI3.set_param('e_pars', 'tau_slow', 10.)\n",
    "LI3.set_param('e_pars', 'tau_fast', 0.05)\n",
    "LI3.set_param('e_pars', 'c', 2.)\n",
    "LI3.set_param('e_pars', 'tau_scale', .05)\n",
    "LI3.set_param('e_pars', 'tau_relax', 10.)\n",
    "LI3.set_param('e_pars', 'Kp', .02)\n",
    "LI3.set_param('e_pars', 'tau_thr', .01)\n",
    "LI3.set_param('e_pars', 'rdc_port', 0)\n",
    "LI3.set_param('e_pars', 'hr_port', 0)\n",
    "LI3.set_param('e_pars', 'thr_fix', 0.1)\n",
    "LI3.set_param('e_pars', 'tau_fix', 0.1)\n",
    "LI3.set_param('e_pars', 'sharpen_port', 2)\n",
    "#----------------------------------\n",
    "LI3.annotate(\"Adjusting e,i groups, and configuring EI,IE connections\")\n",
    "LI3.set_param('e_geom', 'rows', 1)\n",
    "LI3.set_param('e_geom', 'columns', 10)\n",
    "LI3.set_param('i_geom', 'rows', 1)\n",
    "LI3.set_param('i_geom', 'columns', 5)\n",
    "LI3.set_param('e_geom', 'jitter', 0.)\n",
    "LI3.set_param('i_geom', 'jitter', 0.)\n",
    "LI3.set_param('e_geom', 'extent', [1., .5])\n",
    "LI3.set_param('e_geom', 'center', [0., -.7])\n",
    "LI3.set_param('i_geom', 'extent', [1., .5])\n",
    "LI3.set_param('i_geom', 'center', [0., -.7])\n",
    "\n",
    "LI3.set_param('ee_conn', 'mask', {'circular' : {'radius': 3.}})\n",
    "LI3.set_param('ee_conn', 'kernel', {'gaussian' : {'p_center' : 1.1, 'sigma' : .5}})\n",
    "LI3.set_param('ee_conn', 'allow_autapses', True)\n",
    "LI3.set_param('ee_conn', 'weights', {'gaussian' : {'w_center' : .5, 'sigma' : .2}})\n",
    "\n",
    "LI3.set_param('ei_conn', 'mask', {'annular' : {'inner_radius': .2, 'outer_radius' : 0.5}})\n",
    "LI3.set_param('ei_conn', 'kernel', 1.)\n",
    "LI3.set_param('ei_conn', 'weights',{'ring_gaussian' : {'w_center' : .8, 'sigma' : .2, 'radius' : .3}})\n",
    "\n",
    "LI3.set_param('ie_conn', 'mask', {'circular' : {'radius': 3.}})\n",
    "LI3.set_param('ie_conn', 'kernel', {'gaussian' : {'p_center' : 1., 'sigma' : 2.}})\n",
    "LI3.set_param('ie_conn', 'allow_autapses', True)\n",
    "LI3.set_param('ie_conn', 'weights', {'gaussian' : {'w_center' : -.8, 'sigma' : .5}})\n",
    "LI3.set_param('ie_syn', 'inp_ports', 0)\n",
    "\n",
    "LI3.set_param('ii_conn', 'weights',{'uniform' : {'low': -.5, 'high' : -0.2}})\n",
    "#----------------------------------\n",
    "LI3.annotate(\"Setting LI3.x configuration\")\n",
    "LI3.set_param('x_geom', 'rows', 0) # one or zero inputs in L, depending on sharpening\n",
    "LI3.set_param('x_geom', 'columns', 1)\n",
    "LI3.set_param('xe_conn', 'mask', {'circular': {'radius': 100.}}) # projecting to all LI3.e units\n",
    "LI3.set_param('xe_conn', 'kernel', 1.)\n",
    "LI3.set_param('xe_conn', 'weights', {'uniform' : {'low': 1., 'high': 1.}})\n",
    "LI3.set_param('xe_syn', 'inp_ports', L.e_pars['sharpen_port'])\n",
    "#-----------------------------------\n",
    "# specifying local input ports\n",
    "LI3.set_param('ee_syn', 'inp_ports', 0)\n",
    "LI3.set_param('ie_syn', 'inp_ports', 1)\n",
    "#----------------------------------\n",
    "LI3.annotate(\"Using static input synapses\")\n",
    "LI3.set_param('xe_syn', 'type', synapse_types.static)\n",
    "LI3.set_param('xi_syn', 'type', synapse_types.static)\n",
    "#----------------------------------\n",
    "LI3.annotate(\"Using sq_hebbsnorm EE synapses\")\n",
    "LI3.set_param('ee_syn', 'type', synapse_types.sq_hebbsnorm)\n",
    "LI3.set_param('ee_syn', 'lrate', 1./100.)\n",
    "LI3.set_param('ee_syn', 'omega', 1.8)\n",
    "#----------------------------------\n",
    "LI3.annotate(\"Using static IE synapses\")\n",
    "LI3.set_param('ie_syn', 'type', synapse_types.static)\n",
    "#----------------------------------\n",
    "LI3.annotate(\"Using anticov EI synapses\")\n",
    "LI3.set_param('ei_syn', 'type', synapse_types.anticov)\n",
    "LI3.set_param('ei_syn', 'lrate', 1./500.)"
   ]
  },
  {
   "cell_type": "code",
   "execution_count": null,
   "metadata": {
    "code_folding": []
   },
   "outputs": [],
   "source": [
    "# Add interlayer connections\n",
    "net.add_connection(('I1','x'), ('L','e'))\n",
    "net.add_connection(('I1','x'), ('L','i'))\n",
    "net.add_connection(('I2','x'), ('L','e'))\n",
    "net.add_connection(('I2','x'), ('L','i'))\n",
    "net.add_connection(('I3','x'), ('LI3','e'))\n",
    "net.add_connection(('I3','x'), ('LI3','i'))\n",
    "net.add_connection(('LI3','e'), ('L','e'))\n",
    "net.add_connection(('LI3','e'), ('L','i'))\n",
    "net.add_connection(('L','e'), ('LI3','e'))"
   ]
  },
  {
   "cell_type": "code",
   "execution_count": null,
   "metadata": {
    "code_folding": [
     0
    ]
   },
   "outputs": [],
   "source": [
    "# Configure interlayer connections\n",
    "\n",
    "net.set_param('I1x_Le_conn', 'connection_type', 'convergent')\n",
    "net.set_param('I1x_Le_conn', 'number_of_connections', 2)\n",
    "net.set_param('I1x_Le_conn', 'mask', {'circular': {'radius': 5.}})\n",
    "net.set_param('I1x_Le_conn', 'kernel', {'linear' : {'c': 1., 'a': 0.5}})\n",
    "net.set_param('I1x_Le_conn', 'weights', {'uniform' : {'low' : 0.2, 'high' : .9}})\n",
    "net.set_param('I1x_Le_conn', 'dist_dim', 'y')\n",
    "net.set_param('I1x_Le_conn', 'edge_wrap', True)\n",
    "net.set_param('I1x_Le_syn', 'inp_ports', 1)\n",
    "net.set_param('I1x_Le_syn', 'type', synapse_types.bcm)\n",
    "net.set_param('I1x_Le_syn', 'lrate', 1./50.)\n",
    "net.set_param('I1x_Le_syn', 'omega', 1.5)\n",
    "\n",
    "net.set_param('I1x_Li_conn', 'connection_type', 'convergent')\n",
    "net.set_param('I1x_Li_conn', 'number_of_connections', 2)\n",
    "net.set_param('I1x_Li_conn', 'mask', {'circular': {'radius': 5.}})\n",
    "net.set_param('I1x_Li_conn', 'kernel', {'linear' : {'c': 1., 'a': 0.5}})\n",
    "net.set_param('I1x_Li_conn', 'weights', {'uniform' : {'low' : 0.2, 'high' : 0.5}})\n",
    "net.set_param('I1x_Li_conn', 'dist_dim', 'y')\n",
    "net.set_param('I1x_Li_conn', 'edge_wrap', True)\n",
    "\n",
    "net.set_param('I2x_Le_conn', 'connection_type', 'convergent')\n",
    "net.set_param('I2x_Le_conn', 'number_of_connections', 2)\n",
    "net.set_param('I2x_Le_conn', 'mask', {'circular': {'radius': 5.}})\n",
    "net.set_param('I2x_Le_conn', 'kernel', {'linear' : {'c': 1., 'a': 0.5}})\n",
    "net.set_param('I2x_Le_conn', 'weights', {'uniform' : {'low' : 0.2, 'high' : .9}})\n",
    "net.set_param('I2x_Le_conn', 'dist_dim', 'x')\n",
    "net.set_param('I2x_Le_conn', 'edge_wrap', True)\n",
    "net.set_param('I2x_Le_syn', 'inp_ports', 1)\n",
    "net.set_param('I2x_Le_syn', 'type', synapse_types.bcm)\n",
    "net.set_param('I2x_Le_syn', 'lrate', 1./50.)\n",
    "net.set_param('I2x_Le_syn', 'omega', 1.5)\n",
    "\n",
    "net.set_param('I2x_Li_conn', 'connection_type', 'convergent')\n",
    "net.set_param('I2x_Li_conn', 'number_of_connections', 2)\n",
    "net.set_param('I2x_Li_conn', 'mask', {'circular': {'radius': 5.}})\n",
    "net.set_param('I2x_Li_conn', 'kernel', {'linear' : {'c': 1., 'a': 0.5}})\n",
    "net.set_param('I2x_Li_conn', 'weights', {'uniform' : {'low' : 0.2, 'high' : 0.5}})\n",
    "net.set_param('I2x_Li_conn', 'dist_dim', 'x')\n",
    "net.set_param('I2x_Li_conn', 'edge_wrap', True)\n",
    "\n",
    "net.set_param('I3x_LI3e_conn', 'mask', {'circular': {'radius': .2}})\n",
    "net.set_param('I3x_LI3e_conn', 'kernel', 1.)\n",
    "net.set_param('I3x_LI3e_conn', 'weights', {'gaussian' : {'w_center' : 1.6, 'sigma' : .2}})\n",
    "net.set_param('I3x_LI3e_conn', 'dist_dim', 'x')\n",
    "net.set_param('I3x_LI3e_conn', 'edge_wrap', True)\n",
    "net.set_param('I3x_LI3e_syn', 'inp_ports', 1)\n",
    "net.set_param('I3x_LI3e_syn', 'type', synapse_types.static)\n",
    "\n",
    "net.set_param('I3x_LI3i_conn', 'mask', {'annular' : {'inner_radius': .1, 'outer_radius' : 0.5}})\n",
    "net.set_param('I3x_LI3i_conn', 'kernel', 1.)\n",
    "net.set_param('I3x_LI3i_conn', 'weights', {'ring_gaussian' : {'w_center' : .4, 'sigma' : .3, 'radius' : .2}})\n",
    "net.set_param('I3x_LI3i_conn', 'dist_dim', 'x')\n",
    "net.set_param('I3x_LI3i_conn', 'edge_wrap', True)\n",
    "\n",
    "net.set_param('LI3e_Le_conn', 'connection_type', 'convergent')\n",
    "net.set_param('LI3e_Le_conn', 'number_of_connections', 2)\n",
    "net.set_param('LI3e_Le_conn', 'mask', {'circular': {'radius': 5.}})\n",
    "net.set_param('LI3e_Le_conn', 'kernel', .4)\n",
    "net.set_param('LI3e_Le_conn', 'weights', {'uniform' : {'low' : 0.2, 'high' : .9}})\n",
    "net.set_param('LI3e_Le_conn', 'edge_wrap', True)\n",
    "net.set_param('LI3e_Le_syn', 'inp_ports', 1)\n",
    "net.set_param('LI3e_Le_syn', 'type', synapse_types.bcm)\n",
    "net.set_param('LI3e_Le_syn', 'lrate', 1./50.)\n",
    "net.set_param('LI3e_Le_syn', 'omega', 1.5)\n",
    "\n",
    "net.set_param('LI3e_Li_conn', 'connection_type', 'convergent')\n",
    "net.set_param('LI3e_Li_conn', 'number_of_connections', 2)\n",
    "net.set_param('LI3e_Li_conn', 'mask', {'circular': {'radius': 5.}})\n",
    "net.set_param('LI3e_Li_conn', 'kernel', {'linear' : {'c': 1., 'a': 0.5}})\n",
    "net.set_param('LI3e_Li_conn', 'weights', {'uniform' : {'low' : 0.2, 'high' : .5}})\n",
    "net.set_param('LI3e_Li_conn', 'dist_dim', 'x')\n",
    "net.set_param('LI3e_Li_conn', 'edge_wrap', True)\n",
    "\n",
    "net.set_param('Le_LI3e_conn', 'connection_type', 'divergent')\n",
    "net.set_param('Le_LI3e_conn', 'number_of_connections', 6)\n",
    "net.set_param('Le_LI3e_conn', 'mask', {'circular': {'radius': 5.}})\n",
    "net.set_param('Le_LI3e_conn', 'kernel', 1.)\n",
    "net.set_param('Le_LI3e_conn', 'weights', {'uniform' : {'low' : 0.01, 'high' : .02}})\n",
    "net.set_param('Le_LI3e_conn', 'edge_wrap', True)\n",
    "net.set_param('Le_LI3e_conn', 'boundary', {'center':L.e_geom['center'], 'extent':L.e_geom['extent']})\n",
    "net.set_param('Le_LI3e_syn', 'inp_ports', 1)\n",
    "net.set_param('Le_LI3e_syn', 'type', synapse_types.sq_hebbsnorm)\n",
    "net.set_param('Le_LI3e_syn', 'lrate', 1./50.)\n",
    "net.set_param('Le_LI3e_syn', 'omega', 1.) # for sq_hebbsnorm"
   ]
  },
  {
   "cell_type": "code",
   "execution_count": null,
   "metadata": {
    "code_folding": [],
    "scrolled": false
   },
   "outputs": [],
   "source": [
    "# Build the network\n",
    "net.build()"
   ]
  },
  {
   "cell_type": "code",
   "execution_count": null,
   "metadata": {
    "code_folding": [
     0
    ]
   },
   "outputs": [],
   "source": [
    "#================ INPUT CONFIGURATION =================\n",
    "n_pat1 = I1.n['x']  # number of input patterns for I1 is number of input units\n",
    "n_pat2 = I2.n['x']  # number of input patterns for I2 is number of input units\n",
    "n_pat3 = I3.n['x']  # number of input patterns for I3 is number of input units\n",
    "pats1 = [] # here we'll store id's for the patterns presented by inp_pat1\n",
    "pats2 = [] # here we'll store id's for the patterns presented by inp_pat2\n",
    "pats3 = [] # here we'll store id's for the patterns presented by inp_pat3\n",
    "n_inp = n_pat1*n_pat2\n",
    "\"\"\"\n",
    "i_nums = np.random.permutation(n_inp)\n",
    "idx_list1 = [int(np.floor(n/n_pat2)) for n in i_nums]  \n",
    "idx_list2 = [int(round(n%n_pat2)) for n in i_nums]\n",
    "\"\"\"\n",
    "input_list = [] # will contain 3-tuples with all the input indexes (I1x,I2x,I3x)\n",
    "for p1 in range(n_pat1):\n",
    "    for p2 in range(n_pat2):\n",
    "        input_list.append( (p1, p2, (p1+p2)%n_pat2) )\n",
    "np.random.shuffle(input_list)\n",
    "\n",
    "def inp_pat1(pres, rows, columns, port=0, random=True):\n",
    "    # The function that creates the input pattern for I1\n",
    "    mpres = pres%n_inp\n",
    "    if random:  # inp_pat1 is tasked with shuffling the inuts when we start a new round\n",
    "        if mpres == 0:\n",
    "            np.random.shuffle(input_list)\n",
    "        idx = input_list[mpres][0]\n",
    "    else:\n",
    "        idx = int(np.floor(mpres/n_pat2))\n",
    "    pats1.append(idx)\n",
    "    return [0.5*(1. + np.cos(2.*np.pi*(x - idx)/n_pat1)) for x in range(n_pat1)]\n",
    "\n",
    "def inp_pat2(pres, rows, columns, port=0, random=True):\n",
    "    # The function that creates the input pattern for I2\n",
    "    if random:\n",
    "        idx = input_list[pres%n_inp][1]\n",
    "    else:\n",
    "        idx = int(round(pres%n_pat2))\n",
    "    pats2.append(idx)\n",
    "    return [0.5*(1. + np.cos(2.*np.pi*(x - idx)/n_pat2)) for x in range(n_pat2)]\n",
    "\n",
    "def inp_pat3(pres, rows, columns, port=0, random=True):\n",
    "    # The function that creates the input pattern for I3\n",
    "    idx = input_list[pres%n_inp][2]\n",
    "    pats3.append(idx)\n",
    "    return [0.5*(1. + np.cos(2.*np.pi*(x - idx)/n_pat3)) for x in range(n_pat3)]\n",
    "    \n",
    "## The pattern of L.x is irrelevant, we set it using set_inp_fun instead of set_inp_pat\n",
    "L_inp_pat = lambda p, r, c : 1.\n",
    "\n",
    "def make_shrp_fun(prev_pat, cur_pat, init_time, pres_time, inp_units):\n",
    "    eps = .1 # distance to the input change where sharpening is released\n",
    "    return lambda t : 0. if (t < init_time+eps or t > init_time+pres_time-eps) else 1.\n",
    "    #return lambda t: 1.\n",
    "\n",
    "def set_shrp_fun(pre_inp, cur_inp, init_time, pres_time, inp_units):\n",
    "    for unit in inp_units:\n",
    "            unit.set_function( make_shrp_fun(pre_inp, cur_inp, init_time, pres_time, inp_units) )\n",
    "\n",
    "inp_pat_dic = {'I1' : inp_pat1, 'I2' : inp_pat2, 'I3' : inp_pat3, 'L' : L_inp_pat}\n",
    "inp_fun_dic = {'L' : set_shrp_fun }\n",
    "#======================================================\n"
   ]
  },
  {
   "cell_type": "code",
   "execution_count": null,
   "metadata": {
    "code_folding": [],
    "scrolled": true
   },
   "outputs": [],
   "source": [
    "# Simulating\n",
    "n_pres = 800\n",
    "pres_time = 1.\n",
    "net.run(n_pres, pres_time, set_inp_pat=inp_pat_dic, set_inp_fun=inp_fun_dic)"
   ]
  },
  {
   "cell_type": "code",
   "execution_count": null,
   "metadata": {
    "code_folding": [
     0
    ],
    "scrolled": true
   },
   "outputs": [],
   "source": [
    "# Simulation analysis\n",
    "\n",
    "## For each input presentation obtain the activity vector from layer L (e_pats)\n",
    "ppat = int(round(pres_time/net.net_params['min_delay'])) # number of data points per input pattern\n",
    "pt = int(round((pres_time-0.2)/net.net_params['min_delay'])) # data point where the vector will come from\n",
    "e_pats = np.zeros((len(L.e), n_pres))  # array where we'll store the activity vectors\n",
    "for pres in range(n_pres):\n",
    "    for e_idx, idx in enumerate(L.e):\n",
    "        e_pats[e_idx, pres] = net.all_activs[idx, pres*ppat + pt]\n",
    "\n",
    "## Obtain the ID of the pattern that appeared at each input presentation (pres_pat)\n",
    "# The ID of the input comes from the id's in pats1 and pats2, placed by inp_pat1 and inp_pat2 respectively.\n",
    "pater1 = pats1[1:] # The first call is just for setting initial conditions; we discard its pattern\n",
    "pater2 = pats2[1:] # ditto\n",
    "pats = np.zeros(n_pat1*n_pat2)  # pats[n] is the number of times the pattern with ID 'n' appeared\n",
    "n_pats = len(pats)\n",
    "pres_pat = np.zeros(n_pres)  # pres_pat[n] is the ID of the pattern in presentation 'n'\n",
    "for p in range(n_pres):\n",
    "    p_id = n_pat2*pater1[p] + pater2[p] # the pattern ID 'flattens' all possible pairs of values\n",
    "    pats[p_id] += 1\n",
    "    pres_pat[p] = p_id\n",
    "\n",
    "## get the mean of output patterns corresponding to the same inputs (mean_out)\n",
    "mean_out = np.zeros((len(L.e),n_pats)) # mean_out[:,n] = mean output for input n\n",
    "for pres in range(n_pres):\n",
    "    mean_out[:,int(pres_pat[pres])] += e_pats[:,pres]\n",
    "for pat in range(n_pats):\n",
    "    if pats[pat] > 1:\n",
    "        mean_out[:, pat] = mean_out[:, pat]/ pats[pat]\n",
    "        \n",
    "## Obtain the dot products between any two pairs of input (inp_dots) or output (out_dots) patterns\n",
    "# get all input patterns\n",
    "all_inps = np.zeros((n_pats, n_pat1+n_pat2)) # all_inps[n,:] = input pattern with ID 'n'\n",
    "for p1 in range(n_pat1):\n",
    "    for p2 in range(n_pat2):\n",
    "        idx = p1*n_pat2+p2\n",
    "        all_inps[idx, :n_pat1] = inp_pat1(idx, 1, 1, random=False)\n",
    "        all_inps[idx, n_pat1:] = inp_pat2(idx, 1, 1, random=False)     \n",
    "# get matrices with dot products between pairs of patterns\n",
    "inp_norm = np.linalg.norm(all_inps[0,:])   # all input vectors have the same norm\n",
    "inp_norm2 = inp_norm*inp_norm\n",
    "inp_dots = np.zeros((n_pats, n_pats))\n",
    "out_dots = np.zeros((n_pats, n_pats))\n",
    "for p1 in range(n_pats):\n",
    "    for p2 in range(n_pats):\n",
    "        inp_dots[p1,p2] = np.dot(all_inps[p1,:], all_inps[p2,:])/inp_norm2\n",
    "        if pats[p1] > 0 and pats[p2] > 0: # if the two input patterns were presented\n",
    "                #pres_idx1 = np.argmin(abs(pres_pat - p1))  # index of presentation where you showed pattern 1\n",
    "                #pres_idx2 = np.argmin(abs(pres_pat - p2))  # index of presentation where you showed pattern 2\n",
    "                #vec1 = e_pats[:,pres_idx1]  # first input vector\n",
    "                #vec2 = e_pats[:,pres_idx2]  # second input vector\n",
    "                vec1 = mean_out[:,p1]\n",
    "                vec2 = mean_out[:,p2]\n",
    "                norm1 = np.linalg.norm(vec1)\n",
    "                norm2 = np.linalg.norm(vec2)\n",
    "                out_dots[p1,p2] = np.dot(vec1,vec2)/(norm1*norm2)\n",
    "                \n",
    "# compare the angles between input patterns with the angles between output patterns\n",
    "absissae = []\n",
    "ordinates = []\n",
    "for row in range(n_pats):\n",
    "    for column in range(n_pats):\n",
    "        if out_dots[row,column] > 0:\n",
    "            absissae.append(inp_dots[row,column])\n",
    "            ordinates.append(out_dots[row,column])\n",
    "            \n",
    "#plot the results of the analysis\n",
    "%matplotlib inline\n",
    "fig, axes = plt.subplots(2,2, figsize=(21, 23))\n",
    "fig.subplots_adjust(hspace=0.2, wspace=0.1)\n",
    "\n",
    "im0 = axes[0,0].plot(absissae, ordinates, '.')\n",
    "axes[0,0].set_title('inp_dots vs out_dots')\n",
    "im1 = axes[0,1].imshow(mean_out)\n",
    "axes[0,1].set_title('mean output for each input pattern')\n",
    "axes[0,1].set_xlabel('input ID')\n",
    "fig.colorbar(im1,ax=axes[0,1],fraction=0.1,shrink=0.8)\n",
    "im2 = axes[1,0].imshow(inp_dots)\n",
    "axes[1,0].set_title('dot products between input vectors')\n",
    "im3 = axes[1,1].imshow(out_dots)\n",
    "axes[1,1].set_title('dot products between mean output vectors')\n",
    "#fig.colorbar(im3,fraction=0.1,shrink=0.8)\n",
    "\n",
    "# plot the array of activity patterns\n",
    "ex_fig = plt.figure(figsize=(20,10))\n",
    "plt.imshow(e_pats)\n",
    "    \n",
    "# A numerical measure of how much the output representation differentiates the inputs may be the norm of (inp_dots - out_dots)\n",
    "diff_norm = np.linalg.norm(inp_dots-out_dots) # will use Frobenius norm, as if they were vectors\n",
    "print(\"norm of output matrix: %f\" % (np.linalg.norm(out_dots)))\n",
    "print(\"norm of input matrix: %f\" % (np.linalg.norm(inp_dots)))\n",
    "print(\"norm of difference between matrices: %f\" % (diff_norm))"
   ]
  },
  {
   "cell_type": "code",
   "execution_count": null,
   "metadata": {
    "scrolled": true
   },
   "outputs": [],
   "source": [
    "%matplotlib inline\n",
    "net.basic_plot('L')"
   ]
  },
  {
   "cell_type": "code",
   "execution_count": null,
   "metadata": {
    "scrolled": true
   },
   "outputs": [],
   "source": [
    "%matplotlib inline\n",
    "net.basic_plot('LI3')"
   ]
  },
  {
   "cell_type": "code",
   "execution_count": null,
   "metadata": {},
   "outputs": [],
   "source": [
    "#net.double_anim(L.e+I1.x+I2.x, slider=False, interv=20, nbins=20, thr=0.7, pdf=True)\n",
    "net.double_anim(L.e+I1.x+I2.x+I3.x+LI3.e, slider=True, interv=20, nbins=20, thr=0.7, pdf=True)"
   ]
  },
  {
   "cell_type": "code",
   "execution_count": null,
   "metadata": {
    "code_folding": [
     0
    ]
   },
   "outputs": [],
   "source": [
    "# Remove the I3x_LI3e,i inputs\n",
    "## put all the synapses in a list\n",
    "I3_LI3_syns = []\n",
    "for idx in LI3.e+LI3.i:\n",
    "    I3_LI3_syns += [syn for syn in net.net.syns[idx] if syn.preID in I3.x]\n",
    "\n",
    "## Set all weights in the list to zero\n",
    "for syn in I3_LI3_syns:\n",
    "    syn.w = 0.\n",
    "    syn.lrate = 0."
   ]
  },
  {
   "cell_type": "code",
   "execution_count": null,
   "metadata": {
    "code_folding": [
     0
    ],
    "scrolled": true
   },
   "outputs": [],
   "source": [
    "# Simulate again\n",
    "n_pres = 20\n",
    "pres_time = 1.\n",
    "net.run(n_pres, pres_time, set_inp_pat=inp_pat_dic, set_inp_fun=inp_fun_dic)"
   ]
  },
  {
   "cell_type": "code",
   "execution_count": null,
   "metadata": {
    "code_folding": [
     0
    ],
    "scrolled": true
   },
   "outputs": [],
   "source": [
    "# Plot the highest excitatory unit activities\n",
    "%matplotlib inline\n",
    "n_top = 8  # how many units to plot\n",
    "top_pop = np.array(L.e)  # population to visualize\n",
    "top_units = net.all_activs[top_pop].sum(1).argpartition(-n_top)[-n_top:]\n",
    "print(top_units)\n",
    "top_act_fig = plt.figure(figsize=(18,8))\n",
    "top_acts = net.all_activs[top_pop[top_units]].transpose()\n",
    "plt.plot(net.all_times, top_acts)\n",
    "plt.show()"
   ]
  },
  {
   "cell_type": "code",
   "execution_count": null,
   "metadata": {
    "code_folding": [
     0
    ],
    "scrolled": true
   },
   "outputs": [],
   "source": [
    "# Plot the lowest excitatory unit activities\n",
    "n_bottom = 6  # how many units to plot\n",
    "bottom_pop = np.array(L.e)  # population to visualize\n",
    "bottom_units = net.all_activs[bottom_pop].sum(1).argpartition(n_bottom)[0:n_bottom-1]\n",
    "print(bottom_units)\n",
    "bottom_act_fig = plt.figure(figsize=(18,8))\n",
    "bottom_acts = net.all_activs[bottom_pop[bottom_units]].transpose()\n",
    "plt.plot(net.all_times, bottom_acts)\n",
    "plt.show()"
   ]
  },
  {
   "cell_type": "code",
   "execution_count": null,
   "metadata": {
    "code_folding": [
     0
    ]
   },
   "outputs": [],
   "source": [
    "# Visualize the connections\n",
    "#net.conn_anim(I1.x+I2.x+LI3.e, L.e, slider=True)\n",
    "#net.conn_anim(L.e, L.e, slider=True)\n",
    "#net.conn_anim(I3.x, LI3.e, slider=True)\n",
    "#net.conn_anim(I1.x+I2.x+I3.x, L.e+LI3.e, slider=True)\n",
    "net.conn_anim(L.e, LI3.e, slider=True)"
   ]
  },
  {
   "cell_type": "markdown",
   "metadata": {},
   "source": [
    "## Fourth part\n",
    "Temporary test bed for delta units and synapses based on part 1.\n",
    "In here all the units in L are replaced for a single delta unit"
   ]
  },
  {
   "cell_type": "code",
   "execution_count": 1,
   "metadata": {
    "code_folding": []
   },
   "outputs": [
    {
     "name": "stdout",
     "output_type": "stream",
     "text": [
      "/home/z/projects/draculab\n"
     ]
    }
   ],
   "source": [
    "# import the ei_network class and draculab\n",
    "%cd ..\n",
    "from ei_network import *"
   ]
  },
  {
   "cell_type": "code",
   "execution_count": 2,
   "metadata": {
    "code_folding": []
   },
   "outputs": [],
   "source": [
    "# This is the name of the file where logging will happen\n",
    "log_file = \"./logs/step1p2\" + time.strftime(\"_%m-%d-%y.txt\")"
   ]
  },
  {
   "cell_type": "code",
   "execution_count": 3,
   "metadata": {
    "code_folding": [
     0
    ]
   },
   "outputs": [],
   "source": [
    "%%capture capt \n",
    "# logging draculab version used for this session\n",
    "print('#======================================================')\n",
    "print('#             | Latest git commit: |')\n",
    "print('#====================================================== \\n#', end=' ')\n",
    "!git log -1 --oneline --color=never"
   ]
  },
  {
   "cell_type": "code",
   "execution_count": 4,
   "metadata": {
    "code_folding": [
     0
    ]
   },
   "outputs": [],
   "source": [
    "# Write the output of the cell above in the simulation log\n",
    "f = open(log_file, mode='a')\n",
    "f.write(capt.stdout)\n",
    "f.close()"
   ]
  },
  {
   "cell_type": "code",
   "execution_count": 5,
   "metadata": {
    "code_folding": []
   },
   "outputs": [],
   "source": [
    "# create the network using the ei_network tools\n",
    "layers = ['L','I1', 'I2', 'I3', 'LI3', 'D', 'upd', 'des']  \n",
    "# L is the representatioan layer, I1,2,3 are the source layers, LI3 is the bidirectionally connected input layer,\n",
    "# D is the delta unit, upd signals plasticity updates to D, des is the desired output of D.\n",
    "net = ei_network(layers)"
   ]
  },
  {
   "cell_type": "code",
   "execution_count": 6,
   "metadata": {
    "code_folding": [
     0
    ]
   },
   "outputs": [],
   "source": [
    "# Configure layer parameters\n",
    "\n",
    "net.annotate('Configuration for sig_trdc in L.e')\n",
    "L = net.layers['L']\n",
    "I1 = net.layers['I1']\n",
    "I2 = net.layers['I2']\n",
    "I3 = net.layers['I3']\n",
    "LI3 = net.layers['LI3']\n",
    "D = net.layers['D']\n",
    "upd = net.layers['upd']\n",
    "des = net.layers['des']\n",
    "#----------------------------------\n",
    "L.annotate(\"Configuration of units in layer L.\")\n",
    "L.set_param('e_pars', 'type', unit_types.sig_trdc)\n",
    "L.set_param('e_pars', 'slope_min', 1.7)\n",
    "L.set_param('e_pars', 'slope_wid', .5)\n",
    "L.set_param('e_pars', 'thresh_min', 0.)\n",
    "L.set_param('e_pars', 'thresh_wid', 0.5)\n",
    "L.set_param('e_pars', 'tau_min', 0.1)\n",
    "L.set_param('e_pars', 'tau_wid', 0.3)\n",
    "L.set_param('e_pars', 'n_ports', 2)\n",
    "L.set_param('e_pars', 'branch_params', {'branch_w' : [0.3, 0.7], 'slopes' : 3, 'threshs' : 0.1})\n",
    "L.set_param('e_pars', 'tau_slow', 10.)\n",
    "L.set_param('e_pars', 'tau_fast', 0.05)\n",
    "L.set_param('e_pars', 'c', 3.)\n",
    "L.set_param('e_pars', 'tau_scale', .008)\n",
    "L.set_param('e_pars', 'tau_relax', 10.)\n",
    "L.set_param('e_pars', 'Kp', .02)\n",
    "L.set_param('e_pars', 'tau_thr', .01)\n",
    "L.set_param('e_pars', 'rdc_port', 0)\n",
    "L.set_param('e_pars', 'hr_port', 0)\n",
    "L.set_param('e_pars', 'thr_fix', 0.1)\n",
    "L.set_param('e_pars', 'tau_fix', 0.1)\n",
    "L.set_param('e_pars', 'sharpen_port', 2)\n",
    "#----------------------------------\n",
    "L.annotate(\"Adjusting size of e,i groups, and connection weights.\")\n",
    "L.set_param('e_geom', 'rows', 10)\n",
    "L.set_param('e_geom', 'columns', 10)\n",
    "L.set_param('i_geom', 'rows', 5)\n",
    "L.set_param('i_geom', 'columns', 5)\n",
    "L.set_param('e_geom', 'jitter', 0.)\n",
    "L.set_param('i_geom', 'jitter', 0.)\n",
    "L.set_param('ee_conn', 'weights',{'uniform' : {'low': .01, 'high' : 0.3}})\n",
    "L.set_param('ei_conn', 'weights',{'uniform' : {'low': .01, 'high' : 0.3}})\n",
    "L.set_param('ie_conn', 'weights',{'uniform' : {'low': -1.2, 'high' : -.2}})\n",
    "L.set_param('ii_conn', 'weights',{'uniform' : {'low': -1., 'high' : -0.01}})\n",
    "#----------------------------------\n",
    "L.annotate(\"Setting local inputs for L\")\n",
    "L.set_param('x_geom', 'rows', 0) # one or zero inputs in L, depending on sharpening\n",
    "L.set_param('x_geom', 'columns', 1)\n",
    "L.set_param('xe_conn', 'mask', {'circular': {'radius': 100.}}) # projecting to all L.e units\n",
    "L.set_param('xe_conn', 'kernel', 1.)\n",
    "L.set_param('xe_conn', 'weights', {'uniform' : {'low': 1., 'high': 1.}})\n",
    "L.set_param('xe_syn', 'inp_ports', L.e_pars['sharpen_port'])\n",
    "L.set_param('x_pars', 'tau_fast', 0.05)\n",
    "#-----------------------------------\n",
    "# specifying local input ports\n",
    "L.set_param('ee_syn', 'inp_ports', 0)\n",
    "L.set_param('ie_syn', 'inp_ports', 1)\n",
    "#----------------------------------\n",
    "L.annotate(\"Using Oja input synapses\")\n",
    "L.set_param('xe_syn', 'type', synapse_types.oja)\n",
    "L.set_param('xe_syn', 'lrate', 1./100.)\n",
    "L.set_param('xi_syn', 'type', synapse_types.oja)\n",
    "L.set_param('xi_syn', 'lrate', 1./100.)\n",
    "#----------------------------------\n",
    "L.annotate(\"Using sq_hebbsnorm EE synapses\")\n",
    "L.set_param('ee_syn', 'type', synapse_types.sq_hebbsnorm)\n",
    "L.set_param('ee_syn', 'lrate', 1./100.)\n",
    "L.set_param('ee_syn', 'omega', 1.5)\n",
    "#----------------------------------\n",
    "L.annotate(\"Using corr_homeo_inhib IE synapses\")\n",
    "L.set_param('ie_syn', 'type', synapse_types.corr_inh)\n",
    "L.set_param('ie_syn', 'lrate', 1./40.)\n",
    "L.set_param('e_pars', 'des_act', 0.4)\n",
    "#----------------------------------\n",
    "L.annotate(\"Using static EI synapses\")\n",
    "L.set_param('ei_syn', 'type', synapse_types.static)\n",
    "#----------------------------------\n",
    "I1.annotate(\"Configuration of I1 geometry\")\n",
    "I1.set_param('e_geom', 'rows', 0)\n",
    "I1.set_param('i_geom', 'rows', 0)\n",
    "I1.set_param('x_geom', 'rows', 10)\n",
    "I1.set_param('x_geom', 'columns', 1)\n",
    "I1.set_param('x_geom', 'extent', [.5, 1.])\n",
    "I1.set_param('x_geom', 'center', [-.7, 0.])\n",
    "#----------------------------------\n",
    "I2.annotate(\"Configuration of I2 geometry\")\n",
    "I2.set_param('e_geom', 'rows', 0)\n",
    "I2.set_param('i_geom', 'rows', 0)\n",
    "I2.set_param('x_geom', 'rows', 1)\n",
    "I2.set_param('x_geom', 'columns', 10)\n",
    "I2.set_param('x_geom', 'extent', [1., .5])\n",
    "I2.set_param('x_geom', 'center', [0., .7])\n",
    "#----------------------------------\n",
    "I3.annotate(\"Configuration of I3 geometry\")\n",
    "I3.set_param('e_geom', 'rows', 0)\n",
    "I3.set_param('i_geom', 'rows', 0)\n",
    "I3.set_param('x_geom', 'rows', 1)\n",
    "I3.set_param('x_geom', 'columns', 10)\n",
    "I3.set_param('x_geom', 'extent', [1., .5])\n",
    "I3.set_param('x_geom', 'center', [0., -.9])\n",
    "#----------------------------------\n",
    "L.set_param('n', 'w_track', 16)\n",
    "LI3.set_param('n', 'w_track', 8)\n",
    "I1.set_param('n', 'w_track', 0)\n",
    "I2.set_param('n', 'w_track', 0)\n",
    "I3.set_param('n', 'w_track', 0)\n",
    "#----------------------------------"
   ]
  },
  {
   "cell_type": "code",
   "execution_count": 7,
   "metadata": {
    "code_folding": [
     0
    ]
   },
   "outputs": [],
   "source": [
    "# Layer LI3 parameters\n",
    "#----------------------------------\n",
    "LI3.annotate(\"Configuration of units in layer LI3.\")\n",
    "LI3.set_param('e_pars', 'type', unit_types.sig_trdc)\n",
    "LI3.set_param('e_pars', 'slope_min', 1.9)\n",
    "LI3.set_param('e_pars', 'slope_wid', .2)\n",
    "LI3.set_param('e_pars', 'thresh_min', 0.2)\n",
    "LI3.set_param('e_pars', 'thresh_wid', 0.5)\n",
    "LI3.set_param('e_pars', 'tau_min', 0.1)\n",
    "LI3.set_param('e_pars', 'tau_wid', 0.3)\n",
    "LI3.set_param('e_pars', 'n_ports', 2)\n",
    "LI3.set_param('e_pars', 'branch_params', {'branch_w' : [0.3, 0.7], 'slopes' : 3, 'threshs' : 0.1})\n",
    "LI3.set_param('e_pars', 'tau_slow', 10.)\n",
    "LI3.set_param('e_pars', 'tau_fast', 0.05)\n",
    "LI3.set_param('e_pars', 'c', 2.)\n",
    "LI3.set_param('e_pars', 'tau_scale', .05)\n",
    "LI3.set_param('e_pars', 'tau_relax', 10.)\n",
    "LI3.set_param('e_pars', 'Kp', .02)\n",
    "LI3.set_param('e_pars', 'tau_thr', .01)\n",
    "LI3.set_param('e_pars', 'rdc_port', 0)\n",
    "LI3.set_param('e_pars', 'hr_port', 0)\n",
    "LI3.set_param('e_pars', 'thr_fix', 0.1)\n",
    "LI3.set_param('e_pars', 'tau_fix', 0.1)\n",
    "LI3.set_param('e_pars', 'sharpen_port', 2)\n",
    "#----------------------------------\n",
    "LI3.annotate(\"Adjusting e,i groups, and configuring EI,IE connections\")\n",
    "LI3.set_param('e_geom', 'rows', 1)\n",
    "LI3.set_param('e_geom', 'columns', 10)\n",
    "LI3.set_param('i_geom', 'rows', 1)\n",
    "LI3.set_param('i_geom', 'columns', 5)\n",
    "LI3.set_param('e_geom', 'jitter', 0.)\n",
    "LI3.set_param('i_geom', 'jitter', 0.)\n",
    "LI3.set_param('e_geom', 'extent', [1., .5])\n",
    "LI3.set_param('e_geom', 'center', [0., -.7])\n",
    "LI3.set_param('i_geom', 'extent', [1., .5])\n",
    "LI3.set_param('i_geom', 'center', [0., -.7])\n",
    "\n",
    "LI3.set_param('ee_conn', 'mask', {'circular' : {'radius': 3.}})\n",
    "LI3.set_param('ee_conn', 'kernel', {'gaussian' : {'p_center' : 1.1, 'sigma' : .5}})\n",
    "LI3.set_param('ee_conn', 'allow_autapses', True)\n",
    "LI3.set_param('ee_conn', 'weights', {'gaussian' : {'w_center' : .5, 'sigma' : .2}})\n",
    "\n",
    "LI3.set_param('ei_conn', 'mask', {'annular' : {'inner_radius': .2, 'outer_radius' : 0.5}})\n",
    "LI3.set_param('ei_conn', 'kernel', 1.)\n",
    "LI3.set_param('ei_conn', 'weights',{'ring_gaussian' : {'w_center' : .8, 'sigma' : .2, 'radius' : .3}})\n",
    "\n",
    "LI3.set_param('ie_conn', 'mask', {'circular' : {'radius': 3.}})\n",
    "LI3.set_param('ie_conn', 'kernel', {'gaussian' : {'p_center' : 1., 'sigma' : 2.}})\n",
    "LI3.set_param('ie_conn', 'allow_autapses', True)\n",
    "LI3.set_param('ie_conn', 'weights', {'gaussian' : {'w_center' : -.8, 'sigma' : .5}})\n",
    "LI3.set_param('ie_syn', 'inp_ports', 0)\n",
    "\n",
    "LI3.set_param('ii_conn', 'weights',{'uniform' : {'low': -.5, 'high' : -0.2}})\n",
    "#----------------------------------\n",
    "LI3.annotate(\"Setting LI3.x configuration\")\n",
    "LI3.set_param('x_geom', 'rows', 0) # one or zero inputs in L, depending on sharpening\n",
    "LI3.set_param('x_geom', 'columns', 1)\n",
    "LI3.set_param('xe_conn', 'mask', {'circular': {'radius': 100.}}) # projecting to all LI3.e units\n",
    "LI3.set_param('xe_conn', 'kernel', 1.)\n",
    "LI3.set_param('xe_conn', 'weights', {'uniform' : {'low': 1., 'high': 1.}})\n",
    "LI3.set_param('xe_syn', 'inp_ports', L.e_pars['sharpen_port'])\n",
    "#-----------------------------------\n",
    "# specifying local input ports\n",
    "LI3.set_param('ee_syn', 'inp_ports', 0)\n",
    "LI3.set_param('ie_syn', 'inp_ports', 1)\n",
    "#----------------------------------\n",
    "LI3.annotate(\"Using static input synapses\")\n",
    "LI3.set_param('xe_syn', 'type', synapse_types.static)\n",
    "LI3.set_param('xi_syn', 'type', synapse_types.static)\n",
    "#----------------------------------\n",
    "LI3.annotate(\"Using sq_hebbsnorm EE synapses\")\n",
    "LI3.set_param('ee_syn', 'type', synapse_types.sq_hebbsnorm)\n",
    "LI3.set_param('ee_syn', 'lrate', 1./100.)\n",
    "LI3.set_param('ee_syn', 'omega', 1.8)\n",
    "#----------------------------------\n",
    "LI3.annotate(\"Using static IE synapses\")\n",
    "LI3.set_param('ie_syn', 'type', synapse_types.static)\n",
    "#----------------------------------\n",
    "LI3.annotate(\"Using anticov EI synapses\")\n",
    "LI3.set_param('ei_syn', 'type', synapse_types.anticov)\n",
    "LI3.set_param('ei_syn', 'lrate', 1./500.)"
   ]
  },
  {
   "cell_type": "code",
   "execution_count": 8,
   "metadata": {
    "code_folding": []
   },
   "outputs": [],
   "source": [
    "# Delta unit parameters\n",
    "#----------------------------------\n",
    "D.set_param('e_pars', 'type', unit_types.delta_linear)\n",
    "D.set_param('e_pars', 'n_ports', 3)\n",
    "D.set_param('e_pars', 'tau_slow', 10.)\n",
    "D.set_param('e_pars', 'tau_fast', 0.02)\n",
    "D.set_param('e_pars', 'gain', 1.)\n",
    "D.set_param('e_pars', 'tau_e', .7) # gives roughly 0.5 seconds\n",
    "D.set_param('e_pars', 'bias_lrate', .0002)\n",
    "#----------------------------------\n",
    "D.annotate(\"Adjusting size of e,i groups.\")\n",
    "D.set_param('e_geom', 'rows', 1)\n",
    "D.set_param('e_geom', 'columns', 1)\n",
    "D.set_param('i_geom', 'rows', 0)\n",
    "D.set_param('ee_conn', 'weights',{'uniform' : {'low': 0., 'high' : 0.}})\n",
    "D.set_param('ee_conn', 'allow_autapses', False)\n",
    "#----------------------------------\n",
    "D.annotate(\"Setting input parameters\")\n",
    "D.set_param('x_geom', 'rows', 0) \n",
    "D.set_param('x_geom', 'columns', 0) \n",
    "#----------------------------------\n",
    "upd.annotate(\"Leaving a single input unit in the upd layer\")\n",
    "upd.set_param('e_geom', 'rows', 0)\n",
    "upd.set_param('i_geom', 'rows', 0)\n",
    "upd.set_param('x_geom', 'rows', 1)\n",
    "upd.set_param('x_geom', 'columns', 1)\n",
    "#----------------------------------\n",
    "upd.annotate(\"Configuring upd unit\")\n",
    "upd.set_param('x_pars', 'function', lambda x : None)\n",
    "upd.set_param('x_pars', 'init_val', 1.)\n",
    "upd.set_param('x_pars', 'coordinates', np.array([0.,0.]))\n",
    "#----------------------------------\n",
    "des.annotate(\"Leaving a single input unit in the des layer\")\n",
    "des.set_param('e_geom', 'rows', 0)\n",
    "des.set_param('i_geom', 'rows', 0)\n",
    "des.set_param('x_geom', 'rows', 1)\n",
    "des.set_param('x_geom', 'columns', 1)\n",
    "#----------------------------------\n",
    "des.annotate(\"Configuring des unit\")\n",
    "des.set_param('x_pars', 'function', lambda x : None)\n",
    "des.set_param('x_pars', 'init_val', 1.)\n",
    "des.set_param('x_pars', 'coordinates', np.array([0.,0.]))\n",
    "#----------------------------------\n",
    "D.set_param('n', 'w_track', 0)\n",
    "upd.set_param('n', 'w_track', 0)\n",
    "des.set_param('n', 'w_track', 0)\n",
    "#----------------------------------"
   ]
  },
  {
   "cell_type": "code",
   "execution_count": 9,
   "metadata": {
    "code_folding": [
     0
    ]
   },
   "outputs": [],
   "source": [
    "# Add interlayer connections\n",
    "net.add_connection(('I1','x'), ('L','e'))\n",
    "net.add_connection(('I1','x'), ('L','i'))\n",
    "net.add_connection(('I2','x'), ('L','e'))\n",
    "net.add_connection(('I2','x'), ('L','i'))\n",
    "net.add_connection(('I3','x'), ('LI3','e'))\n",
    "net.add_connection(('I3','x'), ('LI3','i'))\n",
    "net.add_connection(('LI3','e'), ('L','e'))\n",
    "net.add_connection(('LI3','e'), ('L','i'))\n",
    "net.add_connection(('L','e'), ('LI3','e'))\n",
    "net.add_connection(('L','e'), ('D', 'e'))\n",
    "net.add_connection(('upd','x'), ('D','e'))\n",
    "net.add_connection(('des','x'), ('D','e'))"
   ]
  },
  {
   "cell_type": "code",
   "execution_count": 10,
   "metadata": {
    "code_folding": [
     0
    ]
   },
   "outputs": [],
   "source": [
    "# Configure interlayer connections\n",
    "\n",
    "net.set_param('I1x_Le_conn', 'connection_type', 'convergent')\n",
    "net.set_param('I1x_Le_conn', 'number_of_connections', 2)\n",
    "net.set_param('I1x_Le_conn', 'mask', {'circular': {'radius': 5.}})\n",
    "net.set_param('I1x_Le_conn', 'kernel', {'linear' : {'c': 1., 'a': 0.5}})\n",
    "net.set_param('I1x_Le_conn', 'weights', {'uniform' : {'low' : 0.2, 'high' : .9}})\n",
    "net.set_param('I1x_Le_conn', 'dist_dim', 'y')\n",
    "net.set_param('I1x_Le_conn', 'edge_wrap', True)\n",
    "net.set_param('I1x_Le_syn', 'inp_ports', 1)\n",
    "net.set_param('I1x_Le_syn', 'type', synapse_types.bcm)\n",
    "net.set_param('I1x_Le_syn', 'lrate', 1./50.)\n",
    "net.set_param('I1x_Le_syn', 'omega', 1.5)\n",
    "\n",
    "net.set_param('I1x_Li_conn', 'connection_type', 'convergent')\n",
    "net.set_param('I1x_Li_conn', 'number_of_connections', 2)\n",
    "net.set_param('I1x_Li_conn', 'mask', {'circular': {'radius': 5.}})\n",
    "net.set_param('I1x_Li_conn', 'kernel', {'linear' : {'c': 1., 'a': 0.5}})\n",
    "net.set_param('I1x_Li_conn', 'weights', {'uniform' : {'low' : 0.2, 'high' : 0.5}})\n",
    "net.set_param('I1x_Li_conn', 'dist_dim', 'y')\n",
    "net.set_param('I1x_Li_conn', 'edge_wrap', True)\n",
    "\n",
    "net.set_param('I2x_Le_conn', 'connection_type', 'convergent')\n",
    "net.set_param('I2x_Le_conn', 'number_of_connections', 2)\n",
    "net.set_param('I2x_Le_conn', 'mask', {'circular': {'radius': 5.}})\n",
    "net.set_param('I2x_Le_conn', 'kernel', {'linear' : {'c': 1., 'a': 0.5}})\n",
    "net.set_param('I2x_Le_conn', 'weights', {'uniform' : {'low' : 0.2, 'high' : .9}})\n",
    "net.set_param('I2x_Le_conn', 'dist_dim', 'x')\n",
    "net.set_param('I2x_Le_conn', 'edge_wrap', True)\n",
    "net.set_param('I2x_Le_syn', 'inp_ports', 1)\n",
    "net.set_param('I2x_Le_syn', 'type', synapse_types.bcm)\n",
    "net.set_param('I2x_Le_syn', 'lrate', 1./50.)\n",
    "net.set_param('I2x_Le_syn', 'omega', 1.5)\n",
    "\n",
    "net.set_param('I2x_Li_conn', 'connection_type', 'convergent')\n",
    "net.set_param('I2x_Li_conn', 'number_of_connections', 2)\n",
    "net.set_param('I2x_Li_conn', 'mask', {'circular': {'radius': 5.}})\n",
    "net.set_param('I2x_Li_conn', 'kernel', {'linear' : {'c': 1., 'a': 0.5}})\n",
    "net.set_param('I2x_Li_conn', 'weights', {'uniform' : {'low' : 0.2, 'high' : 0.5}})\n",
    "net.set_param('I2x_Li_conn', 'dist_dim', 'x')\n",
    "net.set_param('I2x_Li_conn', 'edge_wrap', True)\n",
    "\n",
    "net.set_param('I3x_LI3e_conn', 'mask', {'circular': {'radius': .2}})\n",
    "net.set_param('I3x_LI3e_conn', 'kernel', 1.)\n",
    "net.set_param('I3x_LI3e_conn', 'weights', {'gaussian' : {'w_center' : 1.6, 'sigma' : .2}})\n",
    "net.set_param('I3x_LI3e_conn', 'dist_dim', 'x')\n",
    "net.set_param('I3x_LI3e_conn', 'edge_wrap', True)\n",
    "net.set_param('I3x_LI3e_syn', 'inp_ports', 1)\n",
    "net.set_param('I3x_LI3e_syn', 'type', synapse_types.static)\n",
    "\n",
    "net.set_param('I3x_LI3i_conn', 'mask', {'annular' : {'inner_radius': .1, 'outer_radius' : 0.5}})\n",
    "net.set_param('I3x_LI3i_conn', 'kernel', 1.)\n",
    "net.set_param('I3x_LI3i_conn', 'weights', {'ring_gaussian' : {'w_center' : .4, 'sigma' : .3, 'radius' : .2}})\n",
    "net.set_param('I3x_LI3i_conn', 'dist_dim', 'x')\n",
    "net.set_param('I3x_LI3i_conn', 'edge_wrap', True)\n",
    "\n",
    "net.set_param('LI3e_Le_conn', 'connection_type', 'convergent')\n",
    "net.set_param('LI3e_Le_conn', 'number_of_connections', 2)\n",
    "net.set_param('LI3e_Le_conn', 'mask', {'circular': {'radius': 5.}})\n",
    "net.set_param('LI3e_Le_conn', 'kernel', .4)\n",
    "net.set_param('LI3e_Le_conn', 'weights', {'uniform' : {'low' : 0.2, 'high' : .9}})\n",
    "net.set_param('LI3e_Le_conn', 'edge_wrap', True)\n",
    "net.set_param('LI3e_Le_syn', 'inp_ports', 1)\n",
    "net.set_param('LI3e_Le_syn', 'type', synapse_types.bcm)\n",
    "net.set_param('LI3e_Le_syn', 'lrate', 1./50.)\n",
    "net.set_param('LI3e_Le_syn', 'omega', 1.5)\n",
    "\n",
    "net.set_param('LI3e_Li_conn', 'connection_type', 'convergent')\n",
    "net.set_param('LI3e_Li_conn', 'number_of_connections', 2)\n",
    "net.set_param('LI3e_Li_conn', 'mask', {'circular': {'radius': 5.}})\n",
    "net.set_param('LI3e_Li_conn', 'kernel', {'linear' : {'c': 1., 'a': 0.5}})\n",
    "net.set_param('LI3e_Li_conn', 'weights', {'uniform' : {'low' : 0.2, 'high' : .5}})\n",
    "net.set_param('LI3e_Li_conn', 'dist_dim', 'x')\n",
    "net.set_param('LI3e_Li_conn', 'edge_wrap', True)\n",
    "\n",
    "net.set_param('Le_LI3e_conn', 'connection_type', 'divergent')\n",
    "net.set_param('Le_LI3e_conn', 'number_of_connections', 6)\n",
    "net.set_param('Le_LI3e_conn', 'mask', {'circular': {'radius': 5.}})\n",
    "net.set_param('Le_LI3e_conn', 'kernel', 1.)\n",
    "net.set_param('Le_LI3e_conn', 'weights', {'uniform' : {'low' : 0.01, 'high' : .02}})\n",
    "net.set_param('Le_LI3e_conn', 'edge_wrap', True)\n",
    "net.set_param('Le_LI3e_conn', 'boundary', {'center':L.e_geom['center'], 'extent':L.e_geom['extent']})\n",
    "net.set_param('Le_LI3e_syn', 'inp_ports', 1)\n",
    "net.set_param('Le_LI3e_syn', 'type', synapse_types.sq_hebbsnorm)\n",
    "net.set_param('Le_LI3e_syn', 'lrate', 1./50.)\n",
    "net.set_param('Le_LI3e_syn', 'omega', 1.) # for sq_hebbsnorm\n",
    "\n",
    "net.set_param('Le_De_conn', 'connection_type', 'divergent')\n",
    "net.set_param('Le_De_conn', 'mask', {'circular': {'radius': 5.}})\n",
    "net.set_param('Le_De_conn', 'kernel', 1.)\n",
    "net.set_param('Le_De_conn', 'weights', {'uniform' : {'low' : 0.01, 'high' : .05}})\n",
    "net.set_param('Le_De_syn', 'inp_ports', 0)\n",
    "net.set_param('Le_De_syn', 'type', synapse_types.delta)\n",
    "net.set_param('Le_De_syn', 'lrate', 1.)\n",
    "\n",
    "net.set_param('updx_De_conn', 'mask',{'circular': {'radius': 10.}})\n",
    "net.set_param('updx_De_conn', 'kernel', 1.)\n",
    "net.set_param('updx_De_conn', 'weights', {'uniform' : {'low': 1., 'high': 1.}})\n",
    "net.set_param('updx_De_syn', 'inp_ports', 2)\n",
    "\n",
    "net.set_param('desx_De_conn', 'mask',{'circular': {'radius': 10.}})\n",
    "net.set_param('desx_De_conn', 'kernel', 1.)\n",
    "net.set_param('desx_De_conn', 'weights', {'uniform' : {'low': 1., 'high': 1.}})\n",
    "net.set_param('desx_De_syn', 'inp_ports', 1)"
   ]
  },
  {
   "cell_type": "code",
   "execution_count": 11,
   "metadata": {
    "code_folding": [],
    "scrolled": true
   },
   "outputs": [
    {
     "name": "stdout",
     "output_type": "stream",
     "text": [
      "Building layer upd\n",
      "Building layer I1\n",
      "Building layer LI3\n",
      "Building layer L\n"
     ]
    },
    {
     "name": "stderr",
     "output_type": "stream",
     "text": [
      "/home/z/projects/draculab/topology.py:286: UserWarning: topo_connect received an empty list as an argument\n",
      "  warn('topo_connect received an empty list as an argument', UserWarning)\n"
     ]
    },
    {
     "name": "stdout",
     "output_type": "stream",
     "text": [
      "Building layer D\n",
      "Building layer I3\n",
      "Building layer des\n",
      "Building layer I2\n",
      "\n",
      "\n",
      "Creating I1x_Le connection\n",
      "Creating I1x_Li connection\n",
      "Creating I2x_Le connection\n",
      "Creating I2x_Li connection\n",
      "Creating I3x_LI3e connection\n",
      "Creating I3x_LI3i connection\n",
      "Creating LI3e_Le connection\n",
      "Creating LI3e_Li connection\n",
      "Creating Le_LI3e connection\n",
      "Creating Le_De connection\n",
      "Creating updx_De connection\n",
      "Creating desx_De connection\n"
     ]
    },
    {
     "name": "stderr",
     "output_type": "stream",
     "text": [
      "/home/z/projects/draculab/topology.py:427: UserWarning: Zero connections created with topo_connect\n",
      "  warn('Zero connections created with topo_connect', UserWarning)\n"
     ]
    }
   ],
   "source": [
    "# Build the network\n",
    "net.build()"
   ]
  },
  {
   "cell_type": "code",
   "execution_count": 12,
   "metadata": {},
   "outputs": [],
   "source": [
    "# add tracking units for the learning and error variables\n",
    "trk_pars = {'type' : unit_types.source,  # parameters for \"tracking\" units\n",
    "            'init_val' : 0.,\n",
    "            'tau_fast' : 0.05,\n",
    "            'function' : lambda x: None }\n",
    "def create_lt(unit_id):\n",
    "    return lambda t : net.net.units[unit_id].learning\n",
    "\n",
    "def create_et(unit_id):\n",
    "    return lambda t : net.net.units[unit_id].error\n",
    "\n",
    "learn_trk = net.net.create(1, trk_pars)\n",
    "error_trk = net.net.create(1, trk_pars)\n",
    "net.net.units[learn_trk[0]].set_function(create_lt(D.e[0]))\n",
    "net.net.units[error_trk[0]].set_function(create_et(D.e[0]))"
   ]
  },
  {
   "cell_type": "code",
   "execution_count": 13,
   "metadata": {
    "code_folding": []
   },
   "outputs": [],
   "source": [
    "#================ INPUT CONFIGURATION =================\n",
    "n_pat1 = I1.n['x']  # number of input patterns for I1 is number of input units\n",
    "n_pat2 = I2.n['x']  # number of input patterns for I2 is number of input units\n",
    "n_pat3 = I3.n['x']  # number of input patterns for I3 is number of input units\n",
    "pats1 = [] # here we'll store id's for the patterns presented by inp_pat1\n",
    "pats2 = [] # here we'll store id's for the patterns presented by inp_pat2\n",
    "pats3 = [] # here we'll store id's for the patterns presented by inp_pat3\n",
    "n_inp = n_pat1*n_pat2\n",
    "\"\"\"\n",
    "i_nums = np.random.permutation(n_inp)\n",
    "idx_list1 = [int(np.floor(n/n_pat2)) for n in i_nums]  \n",
    "idx_list2 = [int(round(n%n_pat2)) for n in i_nums]\n",
    "\"\"\"\n",
    "input_list = [] # will contain 3-tuples with all the input indexes (I1x,I2x,I3x)\n",
    "for p1 in range(n_pat1):\n",
    "    for p2 in range(n_pat2):\n",
    "        input_list.append( (p1, p2, (p1+p2)%n_pat2) )\n",
    "np.random.shuffle(input_list)\n",
    "\n",
    "def inp_pat1(pres, rows, columns, port=0, random=True):\n",
    "    # The function that creates the input pattern for I1\n",
    "    mpres = pres%n_inp\n",
    "    if random:  # inp_pat1 is tasked with shuffling the inuts when we start a new round\n",
    "        if mpres == 0:\n",
    "            np.random.shuffle(input_list)\n",
    "        idx = input_list[mpres][0]\n",
    "    else:\n",
    "        idx = int(np.floor(mpres/n_pat2))\n",
    "    pats1.append(idx)\n",
    "    return [0.5*(1. + np.cos(2.*np.pi*(x - idx)/n_pat1)) for x in range(n_pat1)]\n",
    "\n",
    "def inp_pat2(pres, rows, columns, port=0, random=True):\n",
    "    # The function that creates the input pattern for I2\n",
    "    if random:\n",
    "        idx = input_list[pres%n_inp][1]\n",
    "    else:\n",
    "        idx = int(round(pres%n_pat2))\n",
    "    pats2.append(idx)\n",
    "    return [0.5*(1. + np.cos(2.*np.pi*(x - idx)/n_pat2)) for x in range(n_pat2)]\n",
    "\n",
    "def inp_pat3(pres, rows, columns, port=0, random=True):\n",
    "    # The function that creates the input pattern for I3\n",
    "    idx = input_list[pres%n_inp][2]\n",
    "    pats3.append(idx)\n",
    "    return [0.5*(1. + np.cos(2.*np.pi*(x - idx)/n_pat3)) for x in range(n_pat3)]\n",
    "    \n",
    "## The pattern of L.x is irrelevant, we set it using set_inp_fun instead of set_inp_pat\n",
    "L_inp_pat = lambda p, r, c : 1.\n",
    "\n",
    "def make_shrp_fun(prev_pat, cur_pat, init_time, pres_time, inp_units):\n",
    "    eps = .1 # distance to the input change where sharpening is released\n",
    "    return lambda t : 0. if (t < init_time+eps or t > init_time+pres_time-eps) else 1.\n",
    "    #return lambda t: 1.\n",
    "\n",
    "def set_shrp_fun(pre_inp, cur_inp, init_time, pres_time, inp_units):\n",
    "    for unit in inp_units:\n",
    "            unit.set_function( make_shrp_fun(pre_inp, cur_inp, init_time, pres_time, inp_units) )\n",
    "\n",
    "## The pattern of upd.x is also irrelevant\n",
    "upd_inp_pat = lambda p, r, c : 1.\n",
    "\n",
    "def make_upd_fun(prev_pat, cur_pat, init_time, pres_time, inp_units):\n",
    "    eps = .5 # update is started eps units before the next input\n",
    "    return lambda t : 1. if (t > init_time+pres_time-eps and t < init_time+pres_time-eps/2.) else 0.\n",
    "    #return lambda t: 1.  # constantly updating unit\n",
    "\n",
    "def set_upd_fun(pre_inp, cur_inp, init_time, pres_time, inp_units):\n",
    "    for unit in inp_units:\n",
    "            unit.set_function( make_upd_fun(pre_inp, cur_inp, init_time, pres_time, inp_units) )\n",
    "            \n",
    "def des_pat(pres, rows, columns):\n",
    "    # The function that creates the desired input pattern. Currently follows inp_pat3\n",
    "    return [0.1 * input_list[pres%n_inp][2]]\n",
    "    \n",
    "\n",
    "inp_pat_dic = {'I1' : inp_pat1, 'I2' : inp_pat2, 'I3' : inp_pat3, 'L' : L_inp_pat, 'upd' : upd_inp_pat, 'des' : des_pat }\n",
    "inp_fun_dic = {'L' : set_shrp_fun, 'upd' : set_upd_fun }\n",
    "#======================================================\n"
   ]
  },
  {
   "cell_type": "code",
   "execution_count": 14,
   "metadata": {
    "code_folding": [],
    "scrolled": true
   },
   "outputs": [
    {
     "name": "stdout",
     "output_type": "stream",
     "text": [
      "Starting presentation 0\n",
      "Presentation 0 took 14.771345138549805 seconds \n",
      "Total execution time is 14.772207021713257 seconds \n",
      "----------------------\n"
     ]
    },
    {
     "data": {
      "text/plain": [
       "<ei_network.ei_network at 0x7fe0381e2240>"
      ]
     },
     "execution_count": 14,
     "metadata": {},
     "output_type": "execute_result"
    }
   ],
   "source": [
    "# Simulating\n",
    "n_pres = 1\n",
    "pres_time = 1.\n",
    "net.run(n_pres, pres_time, set_inp_pat=inp_pat_dic, set_inp_fun=inp_fun_dic)"
   ]
  },
  {
   "cell_type": "code",
   "execution_count": null,
   "metadata": {
    "code_folding": [
     0
    ],
    "scrolled": true
   },
   "outputs": [],
   "source": [
    "# Simulation analysis\n",
    "\n",
    "## For each input presentation obtain the activity vector from layer L (e_pats)\n",
    "ppat = int(round(pres_time/net.net_params['min_delay'])) # number of data points per input pattern\n",
    "pt = int(round((pres_time-0.2)/net.net_params['min_delay'])) # data point where the vector will come from\n",
    "e_pats = np.zeros((len(L.e), n_pres))  # array where we'll store the activity vectors\n",
    "for pres in range(n_pres):\n",
    "    for e_idx, idx in enumerate(L.e):\n",
    "        e_pats[e_idx, pres] = net.all_activs[idx, pres*ppat + pt]\n",
    "\n",
    "## Obtain the ID of the pattern that appeared at each input presentation (pres_pat)\n",
    "# The ID of the input comes from the id's in pats1 and pats2, placed by inp_pat1 and inp_pat2 respectively.\n",
    "pater1 = pats1[1:] # The first call is just for setting initial conditions; we discard its pattern\n",
    "pater2 = pats2[1:] # ditto\n",
    "pats = np.zeros(n_pat1*n_pat2)  # pats[n] is the number of times the pattern with ID 'n' appeared\n",
    "n_pats = len(pats)\n",
    "pres_pat = np.zeros(n_pres)  # pres_pat[n] is the ID of the pattern in presentation 'n'\n",
    "for p in range(n_pres):\n",
    "    p_id = n_pat2*pater1[p] + pater2[p] # the pattern ID 'flattens' all possible pairs of values\n",
    "    pats[p_id] += 1\n",
    "    pres_pat[p] = p_id\n",
    "\n",
    "## get the mean of output patterns corresponding to the same inputs (mean_out)\n",
    "mean_out = np.zeros((len(L.e),n_pats)) # mean_out[:,n] = mean output for input n\n",
    "for pres in range(n_pres):\n",
    "    mean_out[:,int(pres_pat[pres])] += e_pats[:,pres]\n",
    "for pat in range(n_pats):\n",
    "    if pats[pat] > 1:\n",
    "        mean_out[:, pat] = mean_out[:, pat]/ pats[pat]\n",
    "        \n",
    "## Obtain the dot products between any two pairs of input (inp_dots) or output (out_dots) patterns\n",
    "# get all input patterns\n",
    "all_inps = np.zeros((n_pats, n_pat1+n_pat2)) # all_inps[n,:] = input pattern with ID 'n'\n",
    "for p1 in range(n_pat1):\n",
    "    for p2 in range(n_pat2):\n",
    "        idx = p1*n_pat2+p2\n",
    "        all_inps[idx, :n_pat1] = inp_pat1(idx, 1, 1, random=False)\n",
    "        all_inps[idx, n_pat1:] = inp_pat2(idx, 1, 1, random=False)     \n",
    "# get matrices with dot products between pairs of patterns\n",
    "inp_norm = np.linalg.norm(all_inps[0,:])   # all input vectors have the same norm\n",
    "inp_norm2 = inp_norm*inp_norm\n",
    "inp_dots = np.zeros((n_pats, n_pats))\n",
    "out_dots = np.zeros((n_pats, n_pats))\n",
    "for p1 in range(n_pats):\n",
    "    for p2 in range(n_pats):\n",
    "        inp_dots[p1,p2] = np.dot(all_inps[p1,:], all_inps[p2,:])/inp_norm2\n",
    "        if pats[p1] > 0 and pats[p2] > 0: # if the two input patterns were presented\n",
    "                #pres_idx1 = np.argmin(abs(pres_pat - p1))  # index of presentation where you showed pattern 1\n",
    "                #pres_idx2 = np.argmin(abs(pres_pat - p2))  # index of presentation where you showed pattern 2\n",
    "                #vec1 = e_pats[:,pres_idx1]  # first input vector\n",
    "                #vec2 = e_pats[:,pres_idx2]  # second input vector\n",
    "                vec1 = mean_out[:,p1]\n",
    "                vec2 = mean_out[:,p2]\n",
    "                norm1 = np.linalg.norm(vec1)\n",
    "                norm2 = np.linalg.norm(vec2)\n",
    "                out_dots[p1,p2] = np.dot(vec1,vec2)/(norm1*norm2)\n",
    "                \n",
    "# compare the angles between input patterns with the angles between output patterns\n",
    "absissae = []\n",
    "ordinates = []\n",
    "for row in range(n_pats):\n",
    "    for column in range(n_pats):\n",
    "        if out_dots[row,column] > 0:\n",
    "            absissae.append(inp_dots[row,column])\n",
    "            ordinates.append(out_dots[row,column])\n",
    "            \n",
    "#plot the results of the analysis\n",
    "%matplotlib inline\n",
    "fig, axes = plt.subplots(2,2, figsize=(21, 23))\n",
    "fig.subplots_adjust(hspace=0.2, wspace=0.1)\n",
    "\n",
    "im0 = axes[0,0].plot(absissae, ordinates, '.')\n",
    "axes[0,0].set_title('inp_dots vs out_dots')\n",
    "im1 = axes[0,1].imshow(mean_out)\n",
    "axes[0,1].set_title('mean output for each input pattern')\n",
    "axes[0,1].set_xlabel('input ID')\n",
    "fig.colorbar(im1,ax=axes[0,1],fraction=0.1,shrink=0.8)\n",
    "im2 = axes[1,0].imshow(inp_dots)\n",
    "axes[1,0].set_title('dot products between input vectors')\n",
    "im3 = axes[1,1].imshow(out_dots)\n",
    "axes[1,1].set_title('dot products between mean output vectors')\n",
    "#fig.colorbar(im3,fraction=0.1,shrink=0.8)\n",
    "\n",
    "# plot the array of activity patterns\n",
    "ex_fig = plt.figure(figsize=(20,10))\n",
    "plt.imshow(e_pats)\n",
    "    \n",
    "# A numerical measure of how much the output representation differentiates the inputs may be the norm of (inp_dots - out_dots)\n",
    "diff_norm = np.linalg.norm(inp_dots-out_dots) # will use Frobenius norm, as if they were vectors\n",
    "print(\"norm of output matrix: %f\" % (np.linalg.norm(out_dots)))\n",
    "print(\"norm of input matrix: %f\" % (np.linalg.norm(inp_dots)))\n",
    "print(\"norm of difference between matrices: %f\" % (diff_norm))"
   ]
  },
  {
   "cell_type": "code",
   "execution_count": 15,
   "metadata": {
    "scrolled": true
   },
   "outputs": [
    {
     "data": {
      "image/png": "[encoded data removed]",
      "text/plain": [
       "<matplotlib.figure.Figure at 0x7fe015ab9cf8>"
      ]
     },
     "metadata": {},
     "output_type": "display_data"
    },
    {
     "data": {
      "image/png": "[encoded data removed]",
      "text/plain": [
       "<matplotlib.figure.Figure at 0x7fe015a0c588>"
      ]
     },
     "metadata": {},
     "output_type": "display_data"
    },
    {
     "data": {
      "image/png": "[encoded data removed]",
      "text/plain": [
       "<matplotlib.figure.Figure at 0x7fe01137cb00>"
      ]
     },
     "metadata": {},
     "output_type": "display_data"
    }
   ],
   "source": [
    "%matplotlib inline\n",
    "net.basic_plot('L')"
   ]
  },
  {
   "cell_type": "code",
   "execution_count": 16,
   "metadata": {},
   "outputs": [
    {
     "data": {
      "image/png": "[encoded data removed]",
      "text/plain": [
       "<matplotlib.figure.Figure at 0x7fe011322780>"
      ]
     },
     "metadata": {},
     "output_type": "display_data"
    }
   ],
   "source": [
    "%matplotlib inline\n",
    "net.basic_plot('D')"
   ]
  },
  {
   "cell_type": "code",
   "execution_count": 20,
   "metadata": {},
   "outputs": [
    {
     "name": "stdout",
     "output_type": "stream",
     "text": [
      "dinna go\n"
     ]
    },
    {
     "data": {
      "text/plain": [
       "<matplotlib.figure.Figure at 0x7fe011315518>"
      ]
     },
     "metadata": {},
     "output_type": "display_data"
    }
   ],
   "source": [
    "%matplotlib inline\n",
    "nit_fig = plt.figure(figsize=(15,5))\n",
    "e_tracked = [e for e in D.tracked if e in D.e]\n",
    "if len(e_tracked) > 0:\n",
    "    e_acts = np.transpose(net.all_activs[e_tracked])\n",
    "    plt.plot(net.all_times, e_acts, figure=nit_fig, linewidth=4)\n",
    "else:\n",
    "    print('dinna go')\n",
    "\n",
    "plt.show()"
   ]
  },
  {
   "cell_type": "code",
   "execution_count": 14,
   "metadata": {},
   "outputs": [
    {
     "data": {
      "text/plain": [
       "[<matplotlib.lines.Line2D at 0x7f2b270c0ac8>]"
      ]
     },
     "execution_count": 14,
     "metadata": {},
     "output_type": "execute_result"
    },
    {
     "data": {
      "image/png": "[encoded data removed]",
      "text/plain": [
       "<matplotlib.figure.Figure at 0x7f2b270f2e10>"
      ]
     },
     "metadata": {},
     "output_type": "display_data"
    },
    {
     "data": {
      "image/png": "[encoded data removed]",
      "text/plain": [
       "<matplotlib.figure.Figure at 0x7f2b2711a908>"
      ]
     },
     "metadata": {},
     "output_type": "display_data"
    }
   ],
   "source": [
    "# plot learning and error variables\n",
    "tr_fig = plt.figure(figsize=(15,5))\n",
    "plt.plot(net.all_times, net.all_activs[learn_trk[0]], net.all_times, np.tile(.5,len(net.all_times)), 'k--')\n",
    "err_fig = plt.figure(figsize=(15,5))\n",
    "#plt.plot(net.all_times[32000:], net.all_activs[error_trk[0]][32000:])\n",
    "plt.plot(net.all_times, net.all_activs[error_trk[0]])"
   ]
  },
  {
   "cell_type": "code",
   "execution_count": 15,
   "metadata": {},
   "outputs": [
    {
     "data": {
      "text/plain": [
       "[<matplotlib.lines.Line2D at 0x7f2b270976a0>,\n",
       " <matplotlib.lines.Line2D at 0x7f2b270977f0>]"
      ]
     },
     "execution_count": 15,
     "metadata": {},
     "output_type": "execute_result"
    },
    {
     "data": {
      "image/png": "[encoded data removed]",
      "text/plain": [
       "<matplotlib.figure.Figure at 0x7f2b27199e48>"
      ]
     },
     "metadata": {},
     "output_type": "display_data"
    }
   ],
   "source": [
    "# compare actual and desired outputs\n",
    "cmp_fig = plt.figure(figsize=(15,5))\n",
    "#plt.plot(net.all_times[32000:], net.all_activs[L.e[0]][32000:], net.all_times[32000:], net.all_activs[des.x[0]][32000:])#\n",
    "plt.plot(net.all_times, net.all_activs[L.e[0]], net.all_times, net.all_activs[des.x[0]])"
   ]
  },
  {
   "cell_type": "code",
   "execution_count": null,
   "metadata": {},
   "outputs": [],
   "source": []
  }
 ],
 "metadata": {
  "kernelspec": {
   "display_name": "Python 3",
   "language": "python",
   "name": "python3"
  },
  "language_info": {
   "codemirror_mode": {
    "name": "ipython",
    "version": 3
   },
   "file_extension": ".py",
   "mimetype": "text/x-python",
   "name": "python",
   "nbconvert_exporter": "python",
   "pygments_lexer": "ipython3",
   "version": "3.5.2"
  }
 },
 "nbformat": 4,
 "nbformat_minor": 2
}
