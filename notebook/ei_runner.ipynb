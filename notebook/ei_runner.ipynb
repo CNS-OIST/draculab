{
 "cells": [
  {
   "cell_type": "markdown",
   "metadata": {},
   "source": [
    "## ei_runner.ipynb \n",
    "A basic script to run excitatory-inhibitory (EI) networks using the `ei_net` class imported from ei_net.py .  \n",
    "By Sergio Verduzco  \n",
    "December 2017"
   ]
  },
  {
   "cell_type": "code",
   "execution_count": 1,
   "metadata": {
    "code_folding": []
   },
   "outputs": [
    {
     "name": "stdout",
     "output_type": "stream",
     "text": [
      "/home/z/projects/draculab\n"
     ]
    }
   ],
   "source": [
    "# importing libraries\n",
    "%cd ..\n",
    "from ei_net import *"
   ]
  },
  {
   "cell_type": "code",
   "execution_count": 2,
   "metadata": {
    "code_folding": []
   },
   "outputs": [],
   "source": [
    "# This is the name of the file where logging will happen\n",
    "log_file = \"./logs/ei_net_log\" + time.strftime(\"_%m-%d-%y.txt\")"
   ]
  },
  {
   "cell_type": "code",
   "execution_count": null,
   "metadata": {
    "code_folding": []
   },
   "outputs": [],
   "source": [
    "%%capture capt \n",
    "# logging draculab version used for this session\n",
    "print('#======================================================')\n",
    "print('#             | Latest git commit: |')\n",
    "print('#====================================================== \\n#', end=' ')\n",
    "!git log -1 --oneline --color=never"
   ]
  },
  {
   "cell_type": "code",
   "execution_count": null,
   "metadata": {
    "code_folding": []
   },
   "outputs": [],
   "source": [
    "# Write the output of the cell above in the simulation log\n",
    "f = open(log_file, mode='a')\n",
    "f.write(capt.stdout)\n",
    "f.close()"
   ]
  },
  {
   "cell_type": "code",
   "execution_count": 3,
   "metadata": {
    "scrolled": true
   },
   "outputs": [],
   "source": [
    "# Creating input patterns\n",
    "n_pat = 4  # number of input patterns\n",
    "pat_arr = np.zeros((4, 25)) # ei_runner.n['x'])) # array with all input patterns\n",
    "\n",
    "for row in range(5):\n",
    "    for col in range(5):\n",
    "        idx = 5*col + row\n",
    "        if row == col or row+col == 4: # The X input pattern\n",
    "            pat_arr[0,idx] = 1\n",
    "        if row == 2 or col == 2:  # The + input pattern\n",
    "            pat_arr[1,idx] = 1\n",
    "        if row == 1 or row == 3:  # The = input pattern\n",
    "            pat_arr[2,idx] = 1\n",
    "        if col == 1 or col == 3:  # The || input pattern\n",
    "            pat_arr[3,idx] = 1\n",
    "pat_arr = pat_arr / 5.\n",
    "\n",
    "def inp_pat(pres, rows, columns, random=True):\n",
    "    # The function that creates the input pattern shown at each presentation in ei_net.run\n",
    "    if random:\n",
    "        idx = np.random.randint(4)\n",
    "    else:\n",
    "        idx = pres % 4\n",
    "    return pat_arr[idx, :]\n",
    "#for i in range(6):\n",
    "#    print(np.reshape(inp_pat(5, 4, 2),(5,5)))"
   ]
  },
  {
   "cell_type": "code",
   "execution_count": 4,
   "metadata": {
    "code_folding": []
   },
   "outputs": [],
   "source": [
    "# Setting parameters\n",
    "ei_runner = ei_net()\n",
    "#----------------------------------\n",
    "ei_runner.annotate(\"Adjusting size of e,i groups.\")\n",
    "ei_runner.set_param('e_geom', 'rows', 16)\n",
    "ei_runner.set_param('e_geom', 'columns', 16)\n",
    "ei_runner.set_param('i_geom', 'rows', 8)\n",
    "ei_runner.set_param('i_geom', 'columns', 8)\n",
    "ei_runner.annotate(\"Compensating for the ratio of excitatory to inhibitory units.\")\n",
    "ei_runner.set_param('ee_conn', 'weights',{'uniform' : {'low': .01, 'high' : 0.3}})\n",
    "ei_runner.set_param('ei_conn', 'weights',{'uniform' : {'low': .01, 'high' : 0.3}})\n",
    "ei_runner.set_param('ie_conn', 'weights',{'uniform' : {'low': -1.3, 'high' : -0.01}})\n",
    "ei_runner.set_param('ii_conn', 'weights',{'uniform' : {'low': -1., 'high' : -0.01}})\n",
    "#----------------------------------\n",
    "ei_runner.annotate(\"Setting input parameters\")\n",
    "ei_runner.set_param('x_geom', 'rows', 5) \n",
    "ei_runner.set_param('x_geom', 'columns', 5) \n",
    "ei_runner.set_param('xe_conn', 'weights', {'uniform' : {'low': 0.05, 'high' : 4.}})\n",
    "ei_runner.set_param('xi_conn', 'weights', {'uniform' : {'low': 0.05, 'high' : 4.}})\n",
    "ei_runner.set_param('xe_conn', 'mask', {'circular': {'radius': .3}})\n",
    "ei_runner.set_param('xi_conn', 'mask', {'circular': {'radius': .3}})\n",
    "#----------------------------------\n",
    "ei_runner.annotate(\"Using BCM input synapses\")\n",
    "ei_runner.set_param('xe_syn', 'type', synapse_types.bcm)\n",
    "ei_runner.set_param('xe_syn', 'lrate', 1./100.)\n",
    "ei_runner.set_param('xi_syn', 'type', synapse_types.bcm)\n",
    "ei_runner.set_param('xi_syn', 'lrate', 1./100.)\n",
    "#----------------------------------\n",
    "ei_runner.annotate(\"Using sq_hebb_subsnorm EE synapses\")\n",
    "ei_runner.set_param('ee_syn', 'type', synapse_types.sq_hebbsnorm)\n",
    "ei_runner.set_param('ee_syn', 'lrate', 1./100.)\n",
    "ei_runner.set_param('ee_syn', 'omega', 2.)\n",
    "#----------------------------------\n",
    "ei_runner.annotate(\"Using corr_homeo_inhib IE synapses\")\n",
    "ei_runner.set_param('ie_syn', 'type', synapse_types.corr_inh)\n",
    "ei_runner.set_param('ie_syn', 'lrate', 1./50.)\n",
    "ei_runner.set_param('e_pars', 'des_act', 0.4)\n",
    "#----------------------------------\n",
    "ei_runner.annotate(\"Using anti_cov_pre EI synapses\")\n",
    "ei_runner.set_param('ei_syn', 'type', synapse_types.anticov_pre)\n",
    "ei_runner.set_param('ei_syn', 'lrate', .01)\n",
    "#----------------------------------\n",
    "\"\"\"\n",
    "ei_runner.annotate('Using exp_rate_dist ee synapses.')\n",
    "ei_runner.set_param('ee_syn', 'type', synapse_types.exp_rate_dist)\n",
    "ei_runner.set_param('ee_syn', 'lrate', 1.)\n",
    "ei_runner.set_param('ee_syn', 'wshift', 10.)\n",
    "ei_runner.set_param('ee_syn', 'c', 2.)\n",
    "\"\"\"\n",
    "#----------------------------------\n",
    "\"\"\"\n",
    "ei_runner.annotate(\"Using exp_dist_sig units for the excitatory population.\")\n",
    "ei_runner.set_param('e_pars', 'type', unit_types.exp_dist_sig)\n",
    "ei_runner.set_param('e_pars', 'tau_scale', 0.1)\n",
    "ei_runner.set_param('e_pars', 'c', 3.)\n",
    "ei_runner.set_param('e_pars', 'Kp', .1)\n",
    "\n",
    "ei_runner.annotate(\"Using exp_dist_sig units for the inhibitory population.\")\n",
    "ei_runner.set_param('i_pars', 'type', unit_types.exp_dist_sig)\n",
    "ei_runner.set_param('i_pars', 'tau_scale', 0.1)\n",
    "ei_runner.set_param('i_pars', 'c', 3.)\n",
    "ei_runner.set_param('i_pars', 'Kp', .1)\n",
    "\"\"\"\n",
    "#----------------------------------\n",
    "\n",
    "ei_runner.annotate(\"Using exp_dist_sig_thr units for the excitatory population.\")\n",
    "ei_runner.set_param('e_pars', 'type', unit_types.exp_dist_sig_thr)\n",
    "ei_runner.set_param('e_pars', 'tau_thr', 0.005)\n",
    "ei_runner.set_param('e_pars', 'c', 3.)\n",
    "\"\"\"\n",
    "ei_runner.annotate(\"Using exp_dist_sig_thr units for the inhibitory population.\")\n",
    "ei_runner.set_param('i_pars', 'type', unit_types.exp_dist_sig_thr)\n",
    "ei_runner.set_param('i_pars', 'tau_thr', 0.001)\n",
    "ei_runner.set_param('i_pars', 'c', 3.)\n",
    "\"\"\"\n",
    "#----------------------------------\n",
    "ei_runner.set_param('n', 'w_track', 16)\n",
    "#----------------------------------\n",
    "ei_runner.build()"
   ]
  },
  {
   "cell_type": "code",
   "execution_count": 5,
   "metadata": {
    "scrolled": false
   },
   "outputs": [
    {
     "name": "stdout",
     "output_type": "stream",
     "text": [
      "Presentation 0 lasted 62.23255395889282 seconds.\n",
      "Presentation 1 lasted 56.89431977272034 seconds.\n",
      "Presentation 2 lasted 61.17400407791138 seconds.\n",
      "Presentation 3 lasted 61.15845561027527 seconds.\n",
      "Presentation 4 lasted 57.94663977622986 seconds.\n",
      "Presentation 5 lasted 79.29474329948425 seconds.\n",
      "Presentation 6 lasted 63.58966112136841 seconds.\n",
      "Presentation 7 lasted 63.4277229309082 seconds.\n",
      "Execution time is 505.7232677936554 seconds\n"
     ]
    },
    {
     "data": {
      "text/plain": [
       "<ei_net.ei_net at 0x7fef981e9160>"
      ]
     },
     "execution_count": 5,
     "metadata": {},
     "output_type": "execute_result"
    }
   ],
   "source": [
    "# Simulating\n",
    "n_pres = 8\n",
    "pres_time = 1\n",
    "ei_runner.run(n_pres, pres_time, set_inp_pat=inp_pat)"
   ]
  },
  {
   "cell_type": "code",
   "execution_count": null,
   "metadata": {
    "scrolled": false
   },
   "outputs": [],
   "source": [
    "%matplotlib inline\n",
    "ei_runner.basic_plot()"
   ]
  },
  {
   "cell_type": "code",
   "execution_count": null,
   "metadata": {},
   "outputs": [],
   "source": [
    "ei_runner.double_anim(ei_runner.e, slider=True, interv=20, nbins=20, thr=0.9, pdf=True)"
   ]
  },
  {
   "cell_type": "code",
   "execution_count": null,
   "metadata": {},
   "outputs": [],
   "source": [
    "# Plot the highest excitatory unit activities\n",
    "%matplotlib inline\n",
    "n_top = 4  # how many units to plot\n",
    "top_pop = np.array(ei_runner.e)  # population to visualize\n",
    "top_units = ei_runner.all_activs[top_pop].sum(1).argpartition(-n_top)[-n_top:]\n",
    "print(top_units)\n",
    "top_act_fig = plt.figure(figsize=(18,8))\n",
    "top_acts = ei_runner.all_activs[top_pop[top_units]].transpose()\n",
    "plt.plot(ei_runner.all_times, top_acts)\n",
    "plt.show()"
   ]
  },
  {
   "cell_type": "code",
   "execution_count": null,
   "metadata": {},
   "outputs": [],
   "source": [
    "# Plot the lowest excitatory unit activities\n",
    "n_bottom = 20  # how many units to plot\n",
    "bottom_pop = np.array(ei_runner.e)  # population to visualize\n",
    "bottom_units = ei_runner.all_activs[bottom_pop].sum(1).argpartition(n_bottom)[0:n_bottom-1]\n",
    "print(bottom_units)\n",
    "bottom_act_fig = plt.figure(figsize=(18,8))\n",
    "bottom_acts = ei_runner.all_activs[bottom_pop[bottom_units]].transpose()\n",
    "plt.plot(ei_runner.all_times, bottom_acts)\n",
    "plt.show()"
   ]
  },
  {
   "cell_type": "code",
   "execution_count": null,
   "metadata": {
    "code_folding": []
   },
   "outputs": [],
   "source": [
    "# Annotations and log\n",
    "ei_runner.annotate('These simulations show that the network can become selective when the input synapses use the, ', make_history=False)\n",
    "ei_runner.annotate('BCM rule, and we have anti_cov_pre EI synapses. ', make_history=False)\n",
    "#ei_runner.annotate('selective, unlike exp_dist_sig units.', make_history=False)\n",
    "#ei_runner.annotate('2) the response to each pattern consists of a largely non-overlaping set of units,', make_history=False)\n",
    "#ei_runner.annotate('3) the steady-state response roughly follows the exponential distribution.', make_history=False)\n",
    "ei_runner.log(name=log_file,params=False)"
   ]
  },
  {
   "cell_type": "code",
   "execution_count": null,
   "metadata": {
    "scrolled": true
   },
   "outputs": [],
   "source": [
    "ei_runner.history"
   ]
  },
  {
   "cell_type": "code",
   "execution_count": null,
   "metadata": {},
   "outputs": [],
   "source": [
    "ei_runner.conn_anim(ei_runner.x, ei_runner.e, slider=True, weights=True)"
   ]
  },
  {
   "cell_type": "code",
   "execution_count": null,
   "metadata": {},
   "outputs": [],
   "source": [
    "ei_runner.act_anim(ei_runner.e, 0.9, interv=20, slider=True)"
   ]
  },
  {
   "cell_type": "code",
   "execution_count": null,
   "metadata": {},
   "outputs": [],
   "source": [
    "ei_runner.hist_anim(ei_runner.e, slider=True, nbins=20, pdf=True)"
   ]
  },
  {
   "cell_type": "raw",
   "metadata": {},
   "source": [
    "\"Profiling cell\"\n",
    "import cProfile\n",
    "import pstats\n",
    "# init \n",
    "exp_net = exp_distro()\n",
    "# parameter changes\n",
    "exp_net.set_param('net_params', 'rtol', 5e-5)\n",
    "exp_net.set_param('net_params', 'atol', 5e-5)\n",
    "exp_net.set_param('geom', 'rows', 12)\n",
    "exp_net.set_param('geom', 'columns', 12)\n",
    "# build\n",
    "exp_net.build()\n",
    "# simulate\n",
    "n_pres = 1\n",
    "inp_time = .1\n",
    "inp_amp = 0.\n",
    "pres_time = .5\n",
    "cProfile.run('exp_net.run(n_pres, inp_time, inp_amp, pres_time, alpha=0.)', 'restats')\n",
    "prof = pstats.Stats('restats')\n",
    "prof.sort_stats('cumulative').print_stats(30)"
   ]
  },
  {
   "cell_type": "code",
   "execution_count": null,
   "metadata": {
    "code_folding": []
   },
   "outputs": [],
   "source": [
    "# Some code to visualize the shape of the learning rule\n",
    "f = lambda x: np.log( x/(1.-x) )\n",
    "x = np.linspace(0.005, 0.99, 200)\n",
    "#plt.plot(x, f(x))\n",
    "y = np.linspace(0.005, 0.99, 200)\n",
    "x,y = np.meshgrid(x,y)\n",
    "k = np.exp(1.)/(1. - np.exp(-1))\n",
    "#z = 0.1*f(x)*np.exp(y)/(y*(y-1))\n",
    "z =  k * x * np.exp(y)/(144.*y*(1.-y))\n",
    "%matplotlib qt5\n",
    "fig = plt.figure(figsize=(15,15))\n",
    "ax = fig.gca(projection='3d')\n",
    "surf = ax.plot_surface(x, y, z, cmap=cm.coolwarm, rcount=60, ccount=60, antialiased=False)\n",
    "ax.set_xlabel('post rate')\n",
    "ax.set_ylabel('pre rate')\n",
    "ax.set_zlabel('ss weight')\n",
    "plt.show()"
   ]
  },
  {
   "cell_type": "code",
   "execution_count": null,
   "metadata": {},
   "outputs": [],
   "source": [
    "ei_runner.save(name=\"ei_runner_select1.pkl\")"
   ]
  },
  {
   "cell_type": "code",
   "execution_count": null,
   "metadata": {},
   "outputs": [],
   "source": []
  }
 ],
 "metadata": {
  "kernelspec": {
   "display_name": "Python 3",
   "language": "python",
   "name": "python3"
  },
  "language_info": {
   "codemirror_mode": {
    "name": "ipython",
    "version": 3
   },
   "file_extension": ".py",
   "mimetype": "text/x-python",
   "name": "python",
   "nbconvert_exporter": "python",
   "pygments_lexer": "ipython3",
   "version": "3.5.2"
  }
 },
 "nbformat": 4,
 "nbformat_minor": 2
}
