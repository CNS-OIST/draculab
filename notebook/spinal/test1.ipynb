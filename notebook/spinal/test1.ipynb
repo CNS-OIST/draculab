{
 "cells": [
  {
   "cell_type": "markdown",
   "metadata": {},
   "source": [
    "# test1.ipynb\n",
    "First test of the delegational learning rule in the context of the spinal cord project.\n",
    "\n",
    "Let $S_F, S_P, S_{P-F}, M_C$ denote the regions of the cortical model, and $s_F, s_P, s_{P-F}, m_C$ denote their current activities.\n",
    "Assume that each unit $u_j$ in $M_C$ is associated with a vector $\\bar{v}_j$, and that the ouput of the plant is $p = \\sum_j u_j \\bar{v}_j$. We also set $s_F = p$. The rule should be such that $p \\approx s_P$.\n",
    "\n",
    "The plant $P$ can be implemented as a population of linear units.\n",
    "If the connection matrix from $M_C$ to $P$ is called $W$, then\n",
    "$\\bar{v}_j = (W_{1,j}, W_{2,j}, ..., W_{n,j})^T \\equiv W_{:,j}$. "
   ]
  },
  {
   "cell_type": "code",
   "execution_count": 1,
   "metadata": {},
   "outputs": [],
   "source": [
    "from draculab import *\n",
    "import numpy as np\n",
    "import matplotlib.pyplot as plt"
   ]
  },
  {
   "cell_type": "code",
   "execution_count": 2,
   "metadata": {},
   "outputs": [],
   "source": [
    "# Create the neuronal populations\n",
    "N = 8 # size of each population\n",
    "net_params = {'min_delay' : 0.01,\n",
    "              'min_buff_size' : 10 }\n",
    "SF_params = {'type' : unit_types.sigmoidal,\n",
    "             'thresh' : 0.,\n",
    "             'slope' : 1.,\n",
    "             'init_val' : 0.5,\n",
    "             'tau' : 0.05 }\n",
    "SP_params = {'type' : unit_types.source,\n",
    "             'init_val' : 0.5,\n",
    "             'function' : lambda x: None }\n",
    "SPF_params = {'type' : unit_types.sigmoidal,\n",
    "             'thresh' : 0.,\n",
    "             'slope' : 1.,\n",
    "              'init_val' : 0.5,\n",
    "             'tau' : 0.05 }\n",
    "P_params = {'type' : unit_types.linear,\n",
    "            'init_val' : 0.5,\n",
    "            'tau' : 0.05 }\n",
    "\n",
    "net = network(net_params)\n",
    "SF = net.create(N, SF_params)\n",
    "SP = net.create(N, SP_params)\n",
    "SPF = net.create(2*N, SPF_params)\n",
    "P = net.create(N, P_params)\n",
    "\n",
    "# Create the connections. See note on \"detecting layer distances\" in cortex wiki\n",
    "SF--SPF_conn = {'rule' : \"one_to_one\",\n",
    "                'delay' : 0.02 }\n",
    "SF--SPF_syn1 = {'type' : synapse_types.static,\n",
    "               'init_w' : -1. }\n",
    "SF--SPF_syn2 = {'type' : synapse_types.static,\n",
    "               'init_w' : 1. }\n",
    "SP--SPF_conn = {'rule' : \"one_to_one\",\n",
    "                'delay' : 0.02 }\n",
    "SP--SPF_syn1 = {'type' : synapse_types.static,\n",
    "               'init_w' : 1. }\n",
    "SP--SPF_syn2 = {'type' : synapse_types.static,\n",
    "               'init_w' : -1. }\n"
   ]
  },
  {
   "cell_type": "code",
   "execution_count": 18,
   "metadata": {},
   "outputs": [
    {
     "name": "stdout",
     "output_type": "stream",
     "text": [
      "Help on function connect in module network:\n",
      "\n",
      "connect(self, from_list, to_list, conn_spec, syn_spec)\n",
      "    Connect units using delayed transmission lines and synaptic connections.\n",
      "    \n",
      "    connect the units in the 'from_list' to the units in the 'to_list' using the\n",
      "    connection specifications in the 'conn_spec' dictionary, and the\n",
      "    synapse specfications in the 'syn_spec' dictionary.\n",
      "    \n",
      "    Args:\n",
      "        from_list: A list with the IDs of the units sending the connections\n",
      "    \n",
      "        to_list: A list the IDs of the units receiving the connections\n",
      "        \n",
      "        conn_spec: A dictionary specifying a connection rule, and delays.\n",
      "            REQUIRED PARAMETERS\n",
      "            'rule' : a string specifying a rule on how to create the connections. \n",
      "                    Currently implemented: \n",
      "                    'fixed_outdegree' - an 'outdegree' integer entry must also be in conn_spec.\n",
      "                    'fixed_indegree' - an 'indegree' integer entry must also be in conn_spec.\n",
      "                    'one_to_one' - from_list and to_list should have the same length.\n",
      "                    'all_to_all'.\n",
      "            'delay' : either a dictionary specifying a distribution, a scalar delay value that\n",
      "                    will be applied to all connections, or a list with a delay value for each one\n",
      "                    of the connections to be made. Implemented distributions:\n",
      "                    'uniform' - the delay dictionary must also include 'low' and 'high' values.\n",
      "                        Example:\n",
      "                        {...,'delay':{'distribution':'uniform', 'low':0.1, 'high':0.3}, ...}\n",
      "                    Delays should be multiples of the network minimum delay.\n",
      "            OPTIONAL PARAMETERS\n",
      "            'allow_autapses' : True or False. Can units connect to themselves? Default is True.\n",
      "            'allow_multapses' : Can units send many connections to another unit?  Default is False.\n",
      "    \n",
      "        syn_spec: A dictionary used to initialize the synapses in the connections.\n",
      "            REQUIRED PARAMETERS\n",
      "            'type' : a synapse type from the synapse_types enum.\n",
      "            'init_w' : Initial weight values. Either a dictionary specifying a distribution, a\n",
      "                    scalar value to be applied for all created synapses, or a list with length equal\n",
      "                    to the number of connections to be made. Distributions:\n",
      "                    'uniform' : the delay dictionary must also include 'low' and 'high' values.\n",
      "                    Example: {..., 'init_w':{'distribution':'uniform', 'low':0.1, 'high':1.} }\n",
      "                    'equal_norm' : the weight vectors for units in 'to_list' are uniformly sampled\n",
      "                                  from the space of vectors with a given norm. The delay\n",
      "                                  dictionary must also include the 'norm' parameter.\n",
      "                    Example: {..., 'init_w':{'distribution':'equal_norm', 'norm':1.5} }\n",
      "                    If using a list to specify the initial weights, the first entries in the\n",
      "                    list correspond to the connections from unit 'from_list[0]', the following\n",
      "                    to the connections from unit 'from_list[1]', and so on.\n",
      "            Any other required parameters (e.g. 'lrate') depend on the synapse type.\n",
      "            OPTIONAL PARAMETERS\n",
      "            'inp_ports' : input ports of the connections. Either a single integer, or a list.\n",
      "                        If using a list, its length must match the number of connections being\n",
      "                        created, which depends on the conection rule. The first entries in the\n",
      "                        list correspond to the connections from unit 'from_list[0]', the following\n",
      "                        to the connections from unit 'from_list[1]', and so on. In practice it is\n",
      "                        not recommended to use many input ports in a single call to 'connect'.\n",
      "                \n",
      "    Raises:\n",
      "        ValueError, TypeError, NotImplementedError.\n",
      "\n"
     ]
    }
   ],
   "source": [
    "help(network.connect)"
   ]
  },
  {
   "cell_type": "code",
   "execution_count": null,
   "metadata": {},
   "outputs": [],
   "source": []
  }
 ],
 "metadata": {
  "kernelspec": {
   "display_name": "Python 3",
   "language": "python",
   "name": "python3"
  },
  "language_info": {
   "codemirror_mode": {
    "name": "ipython",
    "version": 3
   },
   "file_extension": ".py",
   "mimetype": "text/x-python",
   "name": "python",
   "nbconvert_exporter": "python",
   "pygments_lexer": "ipython3",
   "version": "3.5.2"
  }
 },
 "nbformat": 4,
 "nbformat_minor": 2
}
