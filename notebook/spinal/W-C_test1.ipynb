{
 "cells": [
  {
   "cell_type": "markdown",
   "metadata": {},
   "source": [
    "# W-C_test1.ipynb\n",
    "\n",
    "Testing paramters for the basic E-I network that is the builidng block of the C spinal component in base_v3."
   ]
  },
  {
   "cell_type": "code",
   "execution_count": 1,
   "metadata": {},
   "outputs": [
    {
     "name": "stdout",
     "output_type": "stream",
     "text": [
      "/home/z/projects/draculab\n"
     ]
    }
   ],
   "source": [
    "%cd ../..\n",
    "import numpy as np\n",
    "import matplotlib.pyplot as plt\n",
    "import time"
   ]
  },
  {
   "cell_type": "code",
   "execution_count": 2,
   "metadata": {},
   "outputs": [],
   "source": [
    "%load_ext Cython"
   ]
  },
  {
   "cell_type": "code",
   "execution_count": 3,
   "metadata": {},
   "outputs": [],
   "source": [
    "%%cython\n",
    "from draculab import *"
   ]
  },
  {
   "cell_type": "code",
   "execution_count": 106,
   "metadata": {},
   "outputs": [],
   "source": [
    "# create network\n",
    "net_params = {'min_delay' : 0.005,\n",
    "              'min_buff_size' : 10 }\n",
    "net = network(net_params)\n",
    "\n",
    "# create units\n",
    "CE_params = {'type' : unit_types.sigmoidal,\n",
    "             'thresh' : -0.,\n",
    "             'slope' : 1.5,\n",
    "             'init_val' : 0.2,\n",
    "             'tau' : 0.02 }\n",
    "\n",
    "CI_params = {'type' : unit_types.sigmoidal,\n",
    "             'thresh' : 0.5,\n",
    "             'slope' : 2.,\n",
    "             'init_val' : 0.2,\n",
    "             'tau' : 0.02 }\n",
    "\n",
    "CE = net.create(1, CE_params)\n",
    "CI = net.create(1, CI_params)\n",
    "\n",
    "# connect\n",
    "CE__CE_conn = {'rule' : 'one_to_one',\n",
    "               'delay' : 0.01 }\n",
    "CE__CI_conn = {'rule' : 'one_to_one',\n",
    "               'delay' : 0.01 }\n",
    "CI__CE_conn = {'rule' : 'one_to_one',\n",
    "               'delay' : 0.01 }\n",
    "\n",
    "CE__CE_syn = {'type' : synapse_types.static,\n",
    "              'init_w' : .0 }\n",
    "CE__CI_syn = {'type' : synapse_types.static,\n",
    "              'init_w' : 1. }\n",
    "CI__CE_syn = {'type' : synapse_types.static,\n",
    "              'init_w' : -2. }\n",
    "\n",
    "net.connect(CE, CE, CE__CE_conn, CE__CE_syn)\n",
    "net.connect(CE, CI, CE__CI_conn, CE__CI_syn)\n",
    "net.connect(CI, CE, CI__CE_conn, CI__CE_syn)"
   ]
  },
  {
   "cell_type": "code",
   "execution_count": 107,
   "metadata": {},
   "outputs": [],
   "source": [
    "# simulate\n",
    "times, data, _ = net.run(5.)"
   ]
  },
  {
   "cell_type": "code",
   "execution_count": 108,
   "metadata": {},
   "outputs": [
    {
     "data": {
      "image/png": "[encoded data removed]",
      "text/plain": [
       "<Figure size 1440x432 with 1 Axes>"
      ]
     },
     "metadata": {
      "needs_background": "light"
     },
     "output_type": "display_data"
    }
   ],
   "source": [
    "# plot\n",
    "fs = (20,6)\n",
    "data = np.array(data)\n",
    "act_fig = plt.figure(figsize=fs)\n",
    "plt.plot(times, data[CE[0],:], 'b')\n",
    "plt.plot(times, data[CI[0],:], 'r')\n",
    "plt.show()"
   ]
  },
  {
   "cell_type": "code",
   "execution_count": 7,
   "metadata": {},
   "outputs": [
    {
     "data": {
      "text/plain": [
       "(2, 20000)"
      ]
     },
     "execution_count": 7,
     "metadata": {},
     "output_type": "execute_result"
    }
   ],
   "source": [
    "data = np.array(data)\n",
    "data.shape"
   ]
  },
  {
   "cell_type": "code",
   "execution_count": null,
   "metadata": {},
   "outputs": [],
   "source": []
  }
 ],
 "metadata": {
  "kernelspec": {
   "display_name": "Python 3",
   "language": "python",
   "name": "python3"
  },
  "language_info": {
   "codemirror_mode": {
    "name": "ipython",
    "version": 3
   },
   "file_extension": ".py",
   "mimetype": "text/x-python",
   "name": "python",
   "nbconvert_exporter": "python",
   "pygments_lexer": "ipython3",
   "version": "3.5.2"
  }
 },
 "nbformat": 4,
 "nbformat_minor": 2
}
