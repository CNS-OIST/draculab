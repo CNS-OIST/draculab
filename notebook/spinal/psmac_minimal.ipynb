{
 "cells": [
  {
   "cell_type": "code",
   "execution_count": 1,
   "metadata": {},
   "outputs": [],
   "source": [
    "# Import ConfigSpace and different types of parameters\n",
    "from smac.configspace import ConfigurationSpace\n",
    "from ConfigSpace.hyperparameters import CategoricalHyperparameter, \\\n",
    "    UniformFloatHyperparameter, UniformIntegerHyperparameter\n",
    "from ConfigSpace.conditions import InCondition\n",
    "\n",
    "# Import SMAC-utilities\n",
    "from smac.tae.execute_func import ExecuteTAFuncDict\n",
    "from smac.configspace import Configuration\n",
    "from smac.scenario.scenario import Scenario\n",
    "from smac.facade.psmac_facade import PSMAC\n",
    "import numpy as np"
   ]
  },
  {
   "cell_type": "code",
   "execution_count": 7,
   "metadata": {},
   "outputs": [],
   "source": [
    "cs = ConfigurationSpace()\n",
    "mu = UniformFloatHyperparameter(\"mu\", 0.1, 4.0, default_value=0.5)\n",
    "cs.add_hyperparameters([mu])\n",
    "\n",
    "def eval_config(cfg):\n",
    "    \"\"\" Returns the error for a network with a given configuration.\n",
    " \n",
    "        Args:\n",
    "            cfg : a configuration dictionary.\n",
    "        Returns:\n",
    "            error : A random float.\n",
    "    \"\"\"   \n",
    "    return np.random.random() + cfg['mu']\n",
    "\n",
    "scenario = Scenario({\"run_obj\": \"quality\",   # we optimize quality (alternatively runtime)\n",
    "                     \"runcount-limit\": 50000,   # maximum function evaluations\n",
    "                     \"cs\": cs,               # configuration space\n",
    "                     \"deterministic\": \"false\",\n",
    "                     \"shared_model\": True,\n",
    "                     \"ta\" : eval_config,\n",
    "                     \"wallclock_limit\" : 500.,\n",
    "                     \"input_psmac_dirs\": \"smac3_outz\"\n",
    "                     })"
   ]
  },
  {
   "cell_type": "code",
   "execution_count": 20,
   "metadata": {},
   "outputs": [
    {
     "name": "stdout",
     "output_type": "stream",
     "text": [
      "Optimized Value: 0.40\n"
     ]
    },
    {
     "name": "stderr",
     "output_type": "stream",
     "text": [
      "/home/z/.local/lib/python3.5/site-packages/numpy/core/fromnumeric.py:2920: RuntimeWarning: Mean of empty slice.\n",
      "  out=out, **kwargs)\n",
      "/home/z/.local/lib/python3.5/site-packages/numpy/core/_methods.py:85: RuntimeWarning: invalid value encountered in double_scalars\n",
      "  ret = ret.dtype.type(ret / rcount)\n"
     ]
    }
   ],
   "source": [
    "#psmac = PSMAC(scenario=scenario, rng=np.random.RandomState(42),\n",
    "#              tae=ExecuteTAFuncDict, n_optimizers=5, validate=True)\n",
    "psmac = PSMAC(scenario=scenario,\n",
    "              tae=ExecuteTAFuncDict, n_optimizers=5, validate=True)\n",
    "incumbent = psmac.optimize()\n",
    "inc_value = eval_config(incumbent[0].get_dictionary())\n",
    "print(\"Optimized Value: %.2f\" % (inc_value))"
   ]
  },
  {
   "cell_type": "code",
   "execution_count": 21,
   "metadata": {},
   "outputs": [
    {
     "data": {
      "text/plain": [
       "array([Configuration:\n",
       "  mu, Value: 0.1168387410044898\n",
       "], dtype=object)"
      ]
     },
     "execution_count": 21,
     "metadata": {},
     "output_type": "execute_result"
    }
   ],
   "source": [
    "incumbent"
   ]
  },
  {
   "cell_type": "code",
   "execution_count": 5,
   "metadata": {},
   "outputs": [
    {
     "name": "stdout",
     "output_type": "stream",
     "text": [
      "/home/z/projects/SMAC3\n"
     ]
    }
   ],
   "source": [
    "%cd /home/z/projects/SMAC3"
   ]
  },
  {
   "cell_type": "code",
   "execution_count": 22,
   "metadata": {},
   "outputs": [
    {
     "name": "stdout",
     "output_type": "stream",
     "text": [
      "Optimized Value: 0.59\n"
     ]
    }
   ],
   "source": [
    "from smac.facade.smac_facade import SMAC\n",
    "smac = SMAC(scenario=scenario, rng=np.random.RandomState(42),\n",
    "                tae_runner=eval_config)\n",
    "smac_incumbent = smac.optimize()\n",
    "inc_value = eval_config(smac_incumbent.get_dictionary())\n",
    "print(\"Optimized Value: %.2f\" % (inc_value))"
   ]
  },
  {
   "cell_type": "code",
   "execution_count": 14,
   "metadata": {},
   "outputs": [
    {
     "data": {
      "text/plain": [
       "Configuration:\n",
       "  mu, Value: 0.12311135593330519"
      ]
     },
     "execution_count": 14,
     "metadata": {},
     "output_type": "execute_result"
    }
   ],
   "source": [
    "smac_incumbent"
   ]
  },
  {
   "cell_type": "code",
   "execution_count": 16,
   "metadata": {},
   "outputs": [
    {
     "data": {
      "text/plain": [
       "'/home/z/projects/SMAC3'"
      ]
     },
     "execution_count": 16,
     "metadata": {},
     "output_type": "execute_result"
    }
   ],
   "source": [
    "%pwd"
   ]
  },
  {
   "cell_type": "code",
   "execution_count": null,
   "metadata": {},
   "outputs": [],
   "source": []
  }
 ],
 "metadata": {
  "kernelspec": {
   "display_name": "Python 3",
   "language": "python",
   "name": "python3"
  },
  "language_info": {
   "codemirror_mode": {
    "name": "ipython",
    "version": 3
   },
   "file_extension": ".py",
   "mimetype": "text/x-python",
   "name": "python",
   "nbconvert_exporter": "python",
   "pygments_lexer": "ipython3",
   "version": "3.5.2"
  }
 },
 "nbformat": 4,
 "nbformat_minor": 2
}
