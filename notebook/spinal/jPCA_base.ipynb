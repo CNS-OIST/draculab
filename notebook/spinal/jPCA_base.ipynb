{
 "cells": [
  {
   "cell_type": "markdown",
   "id": "detailed-brand",
   "metadata": {},
   "source": [
    "# jPCA_base.ipynb\n",
    "\n",
    "This notebook has the code necessary to implement the jPCA algorithm, as described in:\n",
    "https://static-content.springer.com/esm/art%3A10.1038%2Fnature11129/MediaObjects/41586_2012_BFnature11129_MOESM225_ESM.pdf\n",
    "\n",
    "We have $ct$ sample points of a time-variant vector signal $X(t) = [x_1(t), \\dots, x_n(t)]$. These sample points are in the matrix $X \\in \\Re^{ct \\times n}$.  \n",
    "We want to find the skew-symmetric matrix $M in \\Re^{n \\times n}$ that best fits $\\dot{X}(t) = X(t) M$.  \n",
    "In other words, $M$ minimizes $\\| \\dot{X} - X M \\|^2$ with the Frobenius norm.\n",
    "\n",
    "Since $M$ is skew-symmetric, it will have $n(n-1)/2$ independent entries, which we arrange into the column vector $k$, and solve the equivalent problem using \"unrolled\" columns. This is expressed as:  \n",
    "$k^* = \\text{armgin}_{k \\in \\Re^{n(n-1)/2}} \\| \\dot{x} - \\tilde{X} H k \\|_2$,  \n",
    "where $\\tilde{X} \\in \\Re^{(ct \\ n) \\times n^2}$ is a block matrix with $n$ copies \n",
    "of $X$ in its main diagonal, \n",
    "$H \\in \\Re^{n^2 \\times n(n-1)/2}$ is a linear transformation that puts the elements of $k$ into the unrolled version of $M$, and $\\dot{x}$ is the unrolled version of $\\dot{X}$.\n",
    "\n",
    "The solution to this problem is $k^* = (\\tilde{X} H) \\backslash \\dot{x}$"
   ]
  },
  {
   "cell_type": "code",
   "execution_count": 1,
   "id": "exposed-cherry",
   "metadata": {},
   "outputs": [],
   "source": [
    "import numpy as np\n",
    "import scipy as sp\n",
    "from scipy.integrate import solve_ivp\n",
    "import matplotlib.pyplot as plt"
   ]
  },
  {
   "cell_type": "code",
   "execution_count": 13,
   "id": "separated-helen",
   "metadata": {},
   "outputs": [],
   "source": [
    "# Create the data matrix X\n",
    "# Each row of corresponds to a different time point\n",
    "\n",
    "# Creating X by evolving a dynamical system\n",
    "n = 6 # dimensionality of the data\n",
    "ct = 200 # number of time points\n",
    "# Using a linear skew-symmetric matrix\n",
    "mat = np.random.rand(n,n)-0.5\n",
    "Msk = mat - mat.transpose()\n",
    "\n",
    "def dt_fun(t, y):\n",
    "    return np.matmul(Msk, y)\n",
    "\n",
    "t0 = 0. # initial time of integration\n",
    "tf = 6. # final time of integration\n",
    "X0 = 2.*(np.random.rand(n)-0.5) # initial state\n",
    "t_points = np.linspace(t0, tf, ct)\n",
    "sol = solve_ivp(dt_fun, [t0,tf], X0, t_eval=t_points)\n",
    "X = sol.y.transpose()\n",
    "\n",
    "# create the block-matrix version of X\n",
    "Xtilde = sp.linalg.block_diag(*([X]*n))"
   ]
  },
  {
   "cell_type": "code",
   "execution_count": 14,
   "id": "dated-intake",
   "metadata": {},
   "outputs": [],
   "source": [
    "# Create the H matrix\n",
    "n = X.shape[1]\n",
    "ct = X.shape[0]\n",
    "L = np.zeros((n,n), dtype=int)\n",
    "c = 0\n",
    "for row in range(n):\n",
    "    for col in range(row+1, n):\n",
    "        L[row, col] = c\n",
    "        L[col, row] = c\n",
    "        c += 1\n",
    "        \n",
    "H = np.zeros((n*n, int(0.5*n*(n-1))))\n",
    "for col in range(n):\n",
    "    for row in range(n):\n",
    "        if col > row:\n",
    "            H[n*col+row, L[col,row]] = 1.\n",
    "        elif row > col:\n",
    "            H[n*col+row, L[col,row]] = -1."
   ]
  },
  {
   "cell_type": "code",
   "execution_count": 15,
   "id": "modern-belfast",
   "metadata": {},
   "outputs": [
    {
     "name": "stdout",
     "output_type": "stream",
     "text": [
      "Xp1_err=32.632446, Xp2_err=32.693051\n"
     ]
    }
   ],
   "source": [
    "# Approximate the derivatives of X\n",
    "Xp1 = np.zeros_like(X)\n",
    "t_bit = t_points[1] - t_points[0]\n",
    "Xp1[1:,:] = (X[1:,:] - X[:-1,:]) / t_bit\n",
    "\n",
    "Xp2 = np.gradient(X, t_bit, axis=0)\n",
    "\n",
    "# Test the derivatives matrix\n",
    "Xp3 = np.matmul(X, Msk) # \"true\" derivatives\n",
    "Xp1_err = np.linalg.norm(Xp3 - Xp1)\n",
    "Xp2_err = np.linalg.norm(Xp3 - Xp2)\n",
    "print(\"Xp1_err=%f, Xp2_err=%f\" % (Xp1_err, Xp2_err))\n",
    "\n",
    "Xp = Xp2 # choose one of the derivatives matrices\n",
    "\n",
    "xp = Xp.flatten('F')"
   ]
  },
  {
   "cell_type": "code",
   "execution_count": 16,
   "id": "compound-cricket",
   "metadata": {},
   "outputs": [
    {
     "name": "stdout",
     "output_type": "stream",
     "text": [
      "[[ 0.         -0.87492942 -0.33716968 -0.04359055 -0.05262286 -0.0927051 ]\n",
      " [ 0.87492942  0.          0.22689569  0.38260296  0.08977242 -0.21640548]\n",
      " [ 0.33716968 -0.22689569  0.         -0.06918127  0.01041199  0.26217198]\n",
      " [ 0.04359055 -0.38260296  0.06918127  0.         -0.35446711 -0.43503631]\n",
      " [ 0.05262286 -0.08977242 -0.01041199  0.35446711  0.          0.32071967]\n",
      " [ 0.0927051   0.21640548 -0.26217198  0.43503631 -0.32071967  0.        ]]\n",
      "[[ 0.         -0.87495543 -0.33721716 -0.04370017 -0.05267404 -0.09251367]\n",
      " [ 0.87495543  0.          0.22715275  0.38267835  0.08993875 -0.21668188]\n",
      " [ 0.33721716 -0.22715275  0.         -0.06946601  0.01018009  0.26259947]\n",
      " [ 0.04370017 -0.38267835  0.06946601  0.         -0.35436797 -0.435119  ]\n",
      " [ 0.05267404 -0.08993875 -0.01018009  0.35436797  0.          0.32079594]\n",
      " [ 0.09251367  0.21668188 -0.26259947  0.435119   -0.32079594  0.        ]]\n"
     ]
    }
   ],
   "source": [
    "# calculate the solution directly from the formula\n",
    "kstar = np.matmul(np.linalg.pinv(np.matmul(Xtilde, H)), xp)\n",
    "\n",
    "# reconstruct the matrix Msk that generated the data\n",
    "Mstar = np.matmul(H, kstar).reshape(n,n)\n",
    "print(Mstar)\n",
    "print(Msk)"
   ]
  },
  {
   "cell_type": "code",
   "execution_count": 17,
   "id": "sorted-conservative",
   "metadata": {},
   "outputs": [
    {
     "name": "stdout",
     "output_type": "stream",
     "text": [
      "0.0010678155373827702\n",
      "0.000556670858608758\n",
      "32.69372810695688\n",
      "3.140026326108017\n"
     ]
    }
   ],
   "source": [
    "# Frobenius norm of the matrix difference\n",
    "#Mstar = Mstar.transpose()\n",
    "norm1 = np.linalg.norm(Mstar - Msk)\n",
    "print(norm1)\n",
    "\n",
    "# Angle between Mstar and Msk\n",
    "angM = np.arccos( (Mstar*Msk).sum() / (np.linalg.norm(Mstar)*np.linalg.norm(Msk) + 1e-8))\n",
    "print(angM)\n",
    "\n",
    "# Frobenius norm of derivatives matrix minus its reconstruction\n",
    "Xp_rec = np.matmul(X, Mstar)\n",
    "norm2 = np.linalg.norm(Xp - Xp_rec)\n",
    "print(norm2)\n",
    "\n",
    "# Angle between Xp and its reconstruction\n",
    "ang = np.arccos( (Xp * Xp_rec).sum() / (np.linalg.norm(Xp)*np.linalg.norm(Xp_rec) + 1e-8) )\n",
    "print(ang)"
   ]
  },
  {
   "cell_type": "code",
   "execution_count": 18,
   "id": "former-plymouth",
   "metadata": {},
   "outputs": [
    {
     "name": "stdout",
     "output_type": "stream",
     "text": [
      "H =\n",
      "[[ 0.  0.  0.  0.  0.  0.  0.  0.  0.  0.  0.  0.  0.  0.  0.]\n",
      " [-1.  0.  0.  0.  0.  0.  0.  0.  0.  0.  0.  0.  0.  0.  0.]\n",
      " [ 0. -1.  0.  0.  0.  0.  0.  0.  0.  0.  0.  0.  0.  0.  0.]\n",
      " [ 0.  0. -1.  0.  0.  0.  0.  0.  0.  0.  0.  0.  0.  0.  0.]\n",
      " [ 0.  0.  0. -1.  0.  0.  0.  0.  0.  0.  0.  0.  0.  0.  0.]\n",
      " [ 0.  0.  0.  0. -1.  0.  0.  0.  0.  0.  0.  0.  0.  0.  0.]\n",
      " [ 1.  0.  0.  0.  0.  0.  0.  0.  0.  0.  0.  0.  0.  0.  0.]\n",
      " [ 0.  0.  0.  0.  0.  0.  0.  0.  0.  0.  0.  0.  0.  0.  0.]\n",
      " [ 0.  0.  0.  0.  0. -1.  0.  0.  0.  0.  0.  0.  0.  0.  0.]\n",
      " [ 0.  0.  0.  0.  0.  0. -1.  0.  0.  0.  0.  0.  0.  0.  0.]\n",
      " [ 0.  0.  0.  0.  0.  0.  0. -1.  0.  0.  0.  0.  0.  0.  0.]\n",
      " [ 0.  0.  0.  0.  0.  0.  0.  0. -1.  0.  0.  0.  0.  0.  0.]\n",
      " [ 0.  1.  0.  0.  0.  0.  0.  0.  0.  0.  0.  0.  0.  0.  0.]\n",
      " [ 0.  0.  0.  0.  0.  1.  0.  0.  0.  0.  0.  0.  0.  0.  0.]\n",
      " [ 0.  0.  0.  0.  0.  0.  0.  0.  0.  0.  0.  0.  0.  0.  0.]\n",
      " [ 0.  0.  0.  0.  0.  0.  0.  0.  0. -1.  0.  0.  0.  0.  0.]\n",
      " [ 0.  0.  0.  0.  0.  0.  0.  0.  0.  0. -1.  0.  0.  0.  0.]\n",
      " [ 0.  0.  0.  0.  0.  0.  0.  0.  0.  0.  0. -1.  0.  0.  0.]\n",
      " [ 0.  0.  1.  0.  0.  0.  0.  0.  0.  0.  0.  0.  0.  0.  0.]\n",
      " [ 0.  0.  0.  0.  0.  0.  1.  0.  0.  0.  0.  0.  0.  0.  0.]\n",
      " [ 0.  0.  0.  0.  0.  0.  0.  0.  0.  1.  0.  0.  0.  0.  0.]\n",
      " [ 0.  0.  0.  0.  0.  0.  0.  0.  0.  0.  0.  0.  0.  0.  0.]\n",
      " [ 0.  0.  0.  0.  0.  0.  0.  0.  0.  0.  0.  0. -1.  0.  0.]\n",
      " [ 0.  0.  0.  0.  0.  0.  0.  0.  0.  0.  0.  0.  0. -1.  0.]\n",
      " [ 0.  0.  0.  1.  0.  0.  0.  0.  0.  0.  0.  0.  0.  0.  0.]\n",
      " [ 0.  0.  0.  0.  0.  0.  0.  1.  0.  0.  0.  0.  0.  0.  0.]\n",
      " [ 0.  0.  0.  0.  0.  0.  0.  0.  0.  0.  1.  0.  0.  0.  0.]\n",
      " [ 0.  0.  0.  0.  0.  0.  0.  0.  0.  0.  0.  0.  1.  0.  0.]\n",
      " [ 0.  0.  0.  0.  0.  0.  0.  0.  0.  0.  0.  0.  0.  0.  0.]\n",
      " [ 0.  0.  0.  0.  0.  0.  0.  0.  0.  0.  0.  0.  0.  0. -1.]\n",
      " [ 0.  0.  0.  0.  1.  0.  0.  0.  0.  0.  0.  0.  0.  0.  0.]\n",
      " [ 0.  0.  0.  0.  0.  0.  0.  0.  1.  0.  0.  0.  0.  0.  0.]\n",
      " [ 0.  0.  0.  0.  0.  0.  0.  0.  0.  0.  0.  1.  0.  0.  0.]\n",
      " [ 0.  0.  0.  0.  0.  0.  0.  0.  0.  0.  0.  0.  0.  1.  0.]\n",
      " [ 0.  0.  0.  0.  0.  0.  0.  0.  0.  0.  0.  0.  0.  0.  1.]\n",
      " [ 0.  0.  0.  0.  0.  0.  0.  0.  0.  0.  0.  0.  0.  0.  0.]]\n",
      "\n",
      "L =\n",
      "[[ 0  0  1  2  3  4]\n",
      " [ 0  0  5  6  7  8]\n",
      " [ 1  5  0  9 10 11]\n",
      " [ 2  6  9  0 12 13]\n",
      " [ 3  7 10 12  0 14]\n",
      " [ 4  8 11 13 14  0]]\n",
      "\n",
      "k =\n",
      "[ 1  2  3  4  5  6  7  8  9 10 11 12 13 14 15]\n",
      "\n",
      "M =\n",
      "[  0.  -1.  -2.  -3.  -4.  -5.   1.   0.  -6.  -7.  -8.  -9.   2.   6.\n",
      "   0. -10. -11. -12.   3.   7.  10.   0. -13. -14.   4.   8.  11.  13.\n",
      "   0. -15.   5.   9.  12.  14.  15.   0.]\n",
      "\n"
     ]
    }
   ],
   "source": [
    "# print H and the auxiliary matrices\n",
    "print(\"H =\")\n",
    "print(H, end='\\n\\n')\n",
    "print(\"L =\")\n",
    "print(L, end='\\n\\n')\n",
    "\n",
    "k = np.arange(1,int(0.5*n*(n-1)+1))\n",
    "print(\"k =\")\n",
    "print(k, end='\\n\\n')\n",
    "M = np.matmul(H,k)\n",
    "print(\"M =\")\n",
    "print(M, end='\\n\\n')"
   ]
  },
  {
   "cell_type": "code",
   "execution_count": 19,
   "id": "structured-minutes",
   "metadata": {},
   "outputs": [
    {
     "name": "stdout",
     "output_type": "stream",
     "text": [
      "R2 unconstrained: 0.999998\n",
      "R2 skew symmetric: -3.077698\n"
     ]
    }
   ],
   "source": [
    "# 2) Coefficients of determination\n",
    "# 2.1) Obtain unconstrained M matrix\n",
    "M_uncons = np.matmul(np.linalg.pinv(X), Xp)\n",
    "# 2.2) Reconstruct Xp with M_uncons\n",
    "Xp_uncons = np.matmul(X, M_uncons)\n",
    "# 2.3) Reconstruct Xp with Mstar\n",
    "Xp_skew = np.matmul(X, Mstar)\n",
    "# 2.4) Calculate residual sums of squares\n",
    "SSres_uncons = ((Xp - Xp_uncons) * (Xp - Xp_uncons)).sum()\n",
    "SSres_skew = ((Xp - Xp_skew) * (Xp - Xp_skew)).sum()\n",
    "# 2.5) Calculate the total sum of squares\n",
    "SStot = ((Xp-Xp.mean())*(Xp-Xp.mean())).sum()\n",
    "# 2.6) Calculate coefficients of determination\n",
    "R2_uncons = 1. - (SSres_uncons / SStot)\n",
    "R2_skew = 1. - (SSres_skew / SStot)\n",
    "\n",
    "print(\"R2 unconstrained: %f\" % (R2_uncons))\n",
    "print(\"R2 skew symmetric: %f\" % (R2_skew))"
   ]
  },
  {
   "cell_type": "code",
   "execution_count": 20,
   "id": "blond-letters",
   "metadata": {},
   "outputs": [
    {
     "name": "stdout",
     "output_type": "stream",
     "text": [
      "R2 unconstrained: 1.000000\n",
      "R2 skew symmetric: 1.000000\n"
     ]
    }
   ],
   "source": [
    "# 2) Coefficients of determination with \"true\" derivatives\n",
    "# 2.1) Obtain unconstrained M matrix\n",
    "M_uncons = np.matmul(np.linalg.pinv(X), Xp3)\n",
    "# 2.2) Reconstruct Xp with M_uncons\n",
    "Xp_uncons = np.matmul(X, M_uncons)\n",
    "# 2.3) Reconstruct Xp with Mstar\n",
    "Xp_skew = np.matmul(X, Mstar)\n",
    "# 2.4) Calculate residual sums of squares\n",
    "SSres_uncons = ((Xp3 - Xp_uncons) * (Xp3 - Xp_uncons)).sum()\n",
    "SSres_skew = ((Xp3 - Xp_skew) * (Xp3 - Xp_skew)).sum()\n",
    "# 2.5) Calculate the total sum of squares\n",
    "SStot = ((Xp3-Xp3.mean())*(Xp3-Xp3.mean())).sum()\n",
    "# 2.6) Calculate coefficients of determination\n",
    "R2_uncons = 1. - (SSres_uncons / SStot)\n",
    "R2_skew = 1. - (SSres_skew / SStot)\n",
    "\n",
    "print(\"R2 unconstrained: %f\" % (R2_uncons))\n",
    "print(\"R2 skew symmetric: %f\" % (R2_skew))"
   ]
  },
  {
   "cell_type": "code",
   "execution_count": 49,
   "id": "buried-commercial",
   "metadata": {},
   "outputs": [
    {
     "name": "stdout",
     "output_type": "stream",
     "text": [
      "Eigenvalues: \n",
      "[0.00000000e+00+1.06880984j 0.00000000e+00-1.06880984j\n",
      " 5.55111512e-17+0.65816406j 5.55111512e-17-0.65816406j\n",
      " 4.16333634e-17+0.247112j   4.16333634e-17-0.247112j  ]\n",
      "Eigenvectors: \n",
      "[[-0.04168185+0.60729288j -0.04168185-0.60729288j -0.06434331+0.1903861j\n",
      "  -0.06434331-0.1903861j  -0.19980005+0.22170022j -0.19980005-0.22170022j]\n",
      " [ 0.65714363+0.j          0.65714363-0.j          0.15907851-0.07755997j\n",
      "   0.15907851+0.07755997j -0.17517325+0.07845421j -0.17517325-0.07845421j]\n",
      " [ 0.14804006+0.11630125j  0.14804006-0.11630125j  0.17733504+0.32307117j\n",
      "   0.17733504-0.32307117j  0.57335457+0.j          0.57335457-0.j        ]\n",
      " [ 0.07365305+0.33078812j  0.07365305-0.33078812j -0.12023105-0.44562317j\n",
      "  -0.12023105+0.44562317j  0.20216897-0.36227979j  0.20216897+0.36227979j]\n",
      " [ 0.11157858-0.01470895j  0.11157858+0.01470895j -0.21930879+0.39342419j\n",
      "  -0.21930879-0.39342419j -0.17967994-0.50216536j -0.17967994+0.50216536j]\n",
      " [ 0.16320069-0.08962278j  0.16320069+0.08962278j -0.61364029+0.j\n",
      "  -0.61364029-0.j          0.16583617+0.24754243j  0.16583617-0.24754243j]]\n",
      "Variance percentages by each conjugate eigenvalue pair\n",
      "[0.54142013 0.33340194 0.12517794]\n"
     ]
    }
   ],
   "source": [
    "# extract the eigenvalues of M.\n",
    "eig_vals, eig_vecs = np.linalg.eig(Mstar)\n",
    "# print(Mstar)\n",
    "print(\"Eigenvalues: \")\n",
    "print(eig_vals)\n",
    "print(\"Eigenvectors: \")\n",
    "print(eig_vecs)\n",
    "\n",
    "eig_vals_norms = np.sqrt((eig_vals * eig_vals.conj()).real)\n",
    "ev_sum = eig_vals_norms.sum()/2.\n",
    "var_percentages = eig_vals_norms[np.array([0,2,4])] / ev_sum\n",
    "print(\"Variance percentages by each conjugate eigenvalue pair\")\n",
    "print(var_percentages)\n",
    "\n",
    "# We obtain the plane of strongest rotations\n",
    "srt_idxs = np.argsort(-eig_vals_norms) # indexes for sorting in decreasing order\n",
    "srt_eig_vecs = eig_vecs[:, srt_idxs]\n",
    "u1 = (srt_eig_vecs[:,0] + srt_eig_vecs[:,1]).real\n",
    "u2 = (1j * (srt_eig_vecs[:,0] - srt_eig_vecs[:,1])).real\n",
    "u1 = u1 / np.linalg.norm(u1)\n",
    "u2 = u2 / np.linalg.norm(u2)"
   ]
  },
  {
   "cell_type": "code",
   "execution_count": 56,
   "id": "headed-appreciation",
   "metadata": {},
   "outputs": [
    {
     "data": {
      "image/png": "[encoded data removed]",
      "text/plain": [
       "<Figure size 720x720 with 1 Axes>"
      ]
     },
     "metadata": {
      "needs_background": "light"
     },
     "output_type": "display_data"
    }
   ],
   "source": [
    "# visualizing components throgh time\n",
    "\n",
    "J = 1\n",
    "T = ct\n",
    "# project activities into the plane of strongest rotations\n",
    "jPCA1_traces = np.zeros((J, T), dtype=np.float_)\n",
    "jPCA2_traces = np.zeros((J, T), dtype=np.float_)\n",
    "u1 = u1.reshape(1,n)\n",
    "u2 = u2.reshape(1,n)\n",
    "\n",
    "for target in range(J):\n",
    "    jPCA1_traces[target, :] = np.matmul(u1, X.transpose())\n",
    "    jPCA2_traces[target, :] = np.matmul(u2, X.transpose())\n",
    "    \n",
    "# RGB colormap. First entry is greenest, last is reddest\n",
    "cmap = [[0., .9, 0.],\n",
    "        [0., .7, 0.],\n",
    "        [0., .5, 0.],\n",
    "        [0., .2, 0.],\n",
    "        [.2, 0., 0.],\n",
    "        [.5, 0., 0.],\n",
    "        [.7, 0., 0.],\n",
    "        [.9, 0., 0.]]\n",
    "t0_jPC1s = [jPCA1_traces[target,0] for target in range(J)]\n",
    "jPC1_sortr = list(np.argsort(t0_jPC1s))\n",
    "#t0_jPC1s.sort() # sorting according to initial jPC1 component\n",
    "jpca_fig =  plt.figure(figsize=(10,10))\n",
    "for target in range(J):\n",
    "    c = cmap[jPC1_sortr.index(target)]\n",
    "    plt.plot(jPCA1_traces[target,:], jPCA2_traces[target,:], color=c, linewidth=1)\n",
    "    plt.scatter(jPCA1_traces[target,0], jPCA2_traces[target,0], s=50, color=c)\n",
    "\n",
    "plt.show()"
   ]
  },
  {
   "cell_type": "code",
   "execution_count": 55,
   "id": "ranging-accident",
   "metadata": {},
   "outputs": [],
   "source": [
    "# If you want to see what happens for other vectors\n",
    "u1 = u1[0,np.random.permutation(6)]\n",
    "u2 = u2[0,np.random.permutation(6)]"
   ]
  },
  {
   "cell_type": "code",
   "execution_count": 27,
   "id": "improving-popularity",
   "metadata": {},
   "outputs": [
    {
     "name": "stdout",
     "output_type": "stream",
     "text": [
      "[[ 0  1]\n",
      " [-1  0]]\n",
      "Eigenvalues: \n",
      "[0.+1.j 0.-1.j]\n",
      "Eigenvectors: \n",
      "[[0.70710678+0.j         0.70710678-0.j        ]\n",
      " [0.        +0.70710678j 0.        -0.70710678j]]\n"
     ]
    }
   ],
   "source": [
    "a = np.array([[0,1],[-1,0]])\n",
    "eig_vals, eig_vecs = np.linalg.eig(a)\n",
    "print(a)\n",
    "print(\"Eigenvalues: \")\n",
    "print(eig_vals)\n",
    "print(\"Eigenvectors: \")\n",
    "print(eig_vecs)"
   ]
  },
  {
   "cell_type": "code",
   "execution_count": null,
   "id": "activated-details",
   "metadata": {},
   "outputs": [],
   "source": []
  }
 ],
 "metadata": {
  "kernelspec": {
   "display_name": "Python 3",
   "language": "python",
   "name": "python3"
  },
  "language_info": {
   "codemirror_mode": {
    "name": "ipython",
    "version": 3
   },
   "file_extension": ".py",
   "mimetype": "text/x-python",
   "name": "python",
   "nbconvert_exporter": "python",
   "pygments_lexer": "ipython3",
   "version": "3.9.2"
  }
 },
 "nbformat": 4,
 "nbformat_minor": 5
}
