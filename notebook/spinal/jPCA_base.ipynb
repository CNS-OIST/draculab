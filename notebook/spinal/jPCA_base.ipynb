{
 "cells": [
  {
   "cell_type": "markdown",
   "id": "soviet-cradle",
   "metadata": {},
   "source": [
    "# jPCA_base.ipynb\n",
    "\n",
    "This notebook has the code necessary to implement the jPCA algorithm, as described in:\n",
    "https://static-content.springer.com/esm/art%3A10.1038%2Fnature11129/MediaObjects/41586_2012_BFnature11129_MOESM225_ESM.pdf\n",
    "\n",
    "We have $ct$ sample points of a time-variant vector signal $X(t) = [x_1(t), \\dots, x_n(t)]$. These sample points are in the matrix $X \\in \\Re^{ct \\times n}$.  \n",
    "We want to find the skew-symmetric matrix $M in \\Re^{n \\times n}$ that best fits $\\dot{X}(t) = X(t) M$.  \n",
    "In other words, $M$ minimizes $\\| \\dot{X} - X M \\|^2$ with the Frobenius norm.\n",
    "\n",
    "Since $M$ is skew-symmetric, it will have $n(n-1)/2$ independent entries, which we arrange into the column vector $k$, and solve the equivalent problem using \"unrolled\" columns. This is expressed as:  \n",
    "$k^* = \\text{armgin}_{k \\in \\Re^{n(n-1)/2}} \\| \\dot{x} - \\tilde{X} H k \\|_2$,  \n",
    "where $\\tilde{X} \\in \\Re^{(ct \\ n) \\times n^2}$ is a block matrix with $n$ copies \n",
    "of $X$ in its main diagonal, \n",
    "$H \\in \\Re^{n^2 \\times n(n-1)/2}$ is a linear transformation that puts the elements of $k$ into the unrolled version of $M$, and $\\dot{x}$ is the unrolled version of $\\dot{X}$.\n",
    "\n",
    "The solution to this problem is $k^* = (\\tilde{X} H) \\backslash \\dot{x}$"
   ]
  },
  {
   "cell_type": "code",
   "execution_count": 1,
   "id": "attempted-titanium",
   "metadata": {},
   "outputs": [],
   "source": [
    "import numpy as np\n",
    "import scipy as sp\n",
    "from scipy.integrate import solve_ivp"
   ]
  },
  {
   "cell_type": "code",
   "execution_count": 2,
   "id": "rotary-claim",
   "metadata": {},
   "outputs": [],
   "source": [
    "# Create the data matrix X\n",
    "# Each row of corresponds to a different time point\n",
    "\n",
    "# Creating X by evolving a dynamical system\n",
    "n = 4 # dimensionality of the data\n",
    "ct = 100 # number of time points\n",
    "# Using a linear skew-symmetric matrix\n",
    "mat = np.random.rand(n,n)-0.5\n",
    "Msk = mat - mat.transpose()\n",
    "\n",
    "def dt_fun(t, y):\n",
    "    return np.matmul(Msk, y)\n",
    "\n",
    "t0 = 0. # initial time of integration\n",
    "tf = 2. # final time of integration\n",
    "X0 = 2.*(np.random.rand(n)-0.5) # initial state\n",
    "t_points = np.linspace(t0, tf, ct)\n",
    "sol = solve_ivp(dt_fun, [t0,tf], X0, t_eval=t_points)\n",
    "X = sol.y.transpose()\n",
    "\n",
    "# standardize the X data\n",
    "X = X - np.mean(X)\n",
    "X = X / np.std(X)\n",
    "\n",
    "# create the block-matrix version of X\n",
    "Xtilde = sp.linalg.block_diag(*([X]*n))"
   ]
  },
  {
   "cell_type": "code",
   "execution_count": 3,
   "id": "healthy-spiritual",
   "metadata": {},
   "outputs": [],
   "source": [
    "# Create the H matrix\n",
    "n = X.shape[1]\n",
    "ct = X.shape[0]\n",
    "L = np.zeros((n,n), dtype=int)\n",
    "c = 0\n",
    "for row in range(n):\n",
    "    for col in range(row+1, n):\n",
    "        L[row, col] = c\n",
    "        L[col, row] = c\n",
    "        c += 1\n",
    "        \n",
    "H = np.zeros((n*n, int(0.5*n*(n-1))))\n",
    "for col in range(n):\n",
    "    for row in range(n):\n",
    "        if col > row:\n",
    "            H[n*col+row, L[col,row]] = 1.\n",
    "        elif row > col:\n",
    "            H[n*col+row, L[col,row]] = -1."
   ]
  },
  {
   "cell_type": "code",
   "execution_count": 4,
   "id": "infectious-amendment",
   "metadata": {},
   "outputs": [],
   "source": [
    "# Approximate the derivatives of X\n",
    "Xp = np.zeros_like(X)\n",
    "t_bit = t_points[1] - t_points[0]\n",
    "Xp[1:,:] = (X[1:,:] - X[:-1,:]) / t_bit\n",
    "\n",
    "# prev_row = np.zeros(n)\n",
    "# for row in range(1, ct):\n",
    "#     Xp[row-1,:] = (X[row,:] - X[row-1,:]) / t_bit\n",
    "# Xp[-1,:] = Xp[-2,:]\n",
    "\n",
    "xp = Xp.flatten('F')"
   ]
  },
  {
   "cell_type": "code",
   "execution_count": 5,
   "id": "early-trauma",
   "metadata": {},
   "outputs": [
    {
     "name": "stdout",
     "output_type": "stream",
     "text": [
      "[[ 0.         -0.07432403  0.35118555  0.05813048]\n",
      " [ 0.07432403  0.         -0.39332199 -0.11159976]\n",
      " [-0.35118555  0.39332199  0.          0.06402499]\n",
      " [-0.05813048  0.11159976 -0.06402499  0.        ]]\n",
      "[[ 0.         -0.05025653  0.32709481  0.05849312]\n",
      " [ 0.05025653  0.         -0.36885419 -0.13040516]\n",
      " [-0.32709481  0.36885419  0.          0.06409437]\n",
      " [-0.05849312  0.13040516 -0.06409437  0.        ]]\n"
     ]
    }
   ],
   "source": [
    "# calculate the solution directly from the formula\n",
    "kstar = np.matmul(np.linalg.pinv(np.matmul(Xtilde, H)), xp)\n",
    "\n",
    "# reconstruct the matrix Msk that generated the data\n",
    "Mstar = np.matmul(H, kstar).reshape(n,n)\n",
    "print(Mstar)\n",
    "print(Msk)"
   ]
  },
  {
   "cell_type": "code",
   "execution_count": 6,
   "id": "earlier-involvement",
   "metadata": {},
   "outputs": [
    {
     "name": "stdout",
     "output_type": "stream",
     "text": [
      "0.0649932334920391\n",
      "0.06310185693676823\n",
      "19.78296180185482\n",
      "3.0213564336572065\n"
     ]
    }
   ],
   "source": [
    "# Frobenius norm of the matrix difference\n",
    "# Mstar should be the transposed????\n",
    "norm1 = np.linalg.norm(Mstar- Msk)\n",
    "print(norm1)\n",
    "\n",
    "# Angle between Mstar and Msk\n",
    "angM= np.arccos( (Mstar*Msk).sum() / (np.linalg.norm(Mstar)*np.linalg.norm(Msk)))\n",
    "print(angM)\n",
    "\n",
    "# Frobenius norm of derivatives matrix minus its reconstruction\n",
    "Xp_rec = np.matmul(X, Mstar)\n",
    "norm2 = np.linalg.norm(Xp - Xp_rec)\n",
    "print(norm2)\n",
    "\n",
    "# Angle between Xp and its reconstruction\n",
    "ang = np.arccos( (Xp * Xp_rec).sum() / (np.linalg.norm(Xp)*np.linalg.norm(Xp_rec)) )\n",
    "print(ang)"
   ]
  },
  {
   "cell_type": "code",
   "execution_count": 7,
   "id": "opponent-kingston",
   "metadata": {},
   "outputs": [
    {
     "name": "stdout",
     "output_type": "stream",
     "text": [
      "H =\n",
      "[[ 0.  0.  0.  0.  0.  0.]\n",
      " [-1.  0.  0.  0.  0.  0.]\n",
      " [ 0. -1.  0.  0.  0.  0.]\n",
      " [ 0.  0. -1.  0.  0.  0.]\n",
      " [ 1.  0.  0.  0.  0.  0.]\n",
      " [ 0.  0.  0.  0.  0.  0.]\n",
      " [ 0.  0.  0. -1.  0.  0.]\n",
      " [ 0.  0.  0.  0. -1.  0.]\n",
      " [ 0.  1.  0.  0.  0.  0.]\n",
      " [ 0.  0.  0.  1.  0.  0.]\n",
      " [ 0.  0.  0.  0.  0.  0.]\n",
      " [ 0.  0.  0.  0.  0. -1.]\n",
      " [ 0.  0.  1.  0.  0.  0.]\n",
      " [ 0.  0.  0.  0.  1.  0.]\n",
      " [ 0.  0.  0.  0.  0.  1.]\n",
      " [ 0.  0.  0.  0.  0.  0.]]\n",
      "\n",
      "L =\n",
      "[[0 0 1 2]\n",
      " [0 0 3 4]\n",
      " [1 3 0 5]\n",
      " [2 4 5 0]]\n",
      "\n",
      "k =\n",
      "[1 2 3 4 5 6]\n",
      "\n",
      "M =\n",
      "[ 0. -1. -2. -3.  1.  0. -4. -5.  2.  4.  0. -6.  3.  5.  6.  0.]\n",
      "\n"
     ]
    }
   ],
   "source": [
    "# print H and the auxiliary matrices\n",
    "print(\"H =\")\n",
    "print(H, end='\\n\\n')\n",
    "print(\"L =\")\n",
    "print(L, end='\\n\\n')\n",
    "\n",
    "k = np.arange(1,int(0.5*n*(n-1)+1))\n",
    "print(\"k =\")\n",
    "print(k, end='\\n\\n')\n",
    "M = np.matmul(H,k)\n",
    "print(\"M =\")\n",
    "print(M, end='\\n\\n')"
   ]
  },
  {
   "cell_type": "code",
   "execution_count": 8,
   "id": "powerful-germany",
   "metadata": {},
   "outputs": [
    {
     "name": "stdout",
     "output_type": "stream",
     "text": [
      "R2 unconstrained: 0.990658\n",
      "R2 skew symmetric: -3.292867\n"
     ]
    }
   ],
   "source": [
    "# 2) Coefficients of determination\n",
    "# 2.1) Obtain unconstrained M matrix\n",
    "M_uncons = np.matmul(np.linalg.pinv(X), Xp)\n",
    "# 2.2) Reconstruct Xp with M_uncons\n",
    "Xp_uncons = np.matmul(X, M_uncons)\n",
    "# 2.3) Reconstruct Xp with Mstar\n",
    "Xp_skew = np.matmul(X, Mstar)\n",
    "# 2.4) Calculate residual sums of squares\n",
    "SSres_uncons = ((Xp - Xp_uncons) * (Xp - Xp_uncons)).sum()\n",
    "SSres_skew = ((Xp - Xp_skew) * (Xp - Xp_skew)).sum()\n",
    "# 2.5) Calculate the total sum of squares\n",
    "SStot = ((Xp-Xp.mean())*(Xp-Xp.mean())).sum()\n",
    "# 2.6) Calculate coefficients of determination\n",
    "R2_uncons = 1. - (SSres_uncons / SStot)\n",
    "R2_skew = 1. - (SSres_skew / SStot)\n",
    "\n",
    "print(\"R2 unconstrained: %f\" % (R2_uncons))\n",
    "print(\"R2 skew symmetric: %f\" % (R2_skew))"
   ]
  },
  {
   "cell_type": "code",
   "execution_count": 9,
   "id": "thousand-eugene",
   "metadata": {},
   "outputs": [
    {
     "name": "stdout",
     "output_type": "stream",
     "text": [
      "[[ 0  1]\n",
      " [-1  0]]\n",
      "Eigenvalues: \n",
      "[0.+1.j 0.-1.j]\n",
      "Eigenvectors: \n",
      "[[0.70710678+0.j         0.70710678-0.j        ]\n",
      " [0.        +0.70710678j 0.        -0.70710678j]]\n"
     ]
    }
   ],
   "source": [
    "a = np.array([[0,1],[-1,0]])\n",
    "eig_vals, eig_vecs = np.linalg.eig(a)\n",
    "print(a)\n",
    "print(\"Eigenvalues: \")\n",
    "print(eig_vals)\n",
    "print(\"Eigenvectors: \")\n",
    "print(eig_vecs)"
   ]
  },
  {
   "cell_type": "code",
   "execution_count": null,
   "id": "complimentary-cache",
   "metadata": {},
   "outputs": [],
   "source": []
  }
 ],
 "metadata": {
  "kernelspec": {
   "display_name": "Python 3",
   "language": "python",
   "name": "python3"
  },
  "language_info": {
   "codemirror_mode": {
    "name": "ipython",
    "version": 3
   },
   "file_extension": ".py",
   "mimetype": "text/x-python",
   "name": "python",
   "nbconvert_exporter": "python",
   "pygments_lexer": "ipython3",
   "version": "3.9.2"
  }
 },
 "nbformat": 4,
 "nbformat_minor": 5
}
