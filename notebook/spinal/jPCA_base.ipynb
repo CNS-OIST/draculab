{
 "cells": [
  {
   "cell_type": "markdown",
   "id": "derived-signature",
   "metadata": {},
   "source": [
    "# jPCA_base.ipynb\n",
    "\n",
    "This notebook has the code necessary to implement the jPCA algorithm, as described in:\n",
    "https://static-content.springer.com/esm/art%3A10.1038%2Fnature11129/MediaObjects/41586_2012_BFnature11129_MOESM225_ESM.pdf\n",
    "\n",
    "We have $ct$ sample points of a time-variant vector signal $X(t) = [x_1(t), \\dots, x_n(t)]$. These sample points are in the matrix $X \\in \\Re^{ct \\times n}$.  \n",
    "We want to find the skew-symmetric matrix $M in \\Re^{n \\times n}$ that best fits $\\dot{X}(t) = X(t) M$.  \n",
    "In other words, $M$ minimizes $\\| \\dot{X} - X M \\|^2$ with the Frobenius norm.\n",
    "\n",
    "Since $M$ is skew-symmetric, it will have $n(n-1)/2$ independent entries, which we arrange into the column vector $k$, and solve the equivalent problem using \"unrolled\" columns. This is expressed as:  \n",
    "$k^* = \\text{armgin}_{k \\in \\Re^{n(n-1)/2}} \\| \\dot{x} - \\tilde{X} H k \\|_2$,  \n",
    "where $\\tilde{X} \\in \\Re^{(ct \\ n) \\times n^2}$ is a block matrix with $n$ copies \n",
    "of $X$ in its main diagonal, \n",
    "$H \\in \\Re^{n^2 \\times n(n-1)/2}$ is a linear transformation that puts the elements of $k$ into the unrolled version of $M$, and $\\dot{x}$ is the unrolled version of $\\dot{X}$.\n",
    "\n",
    "The solution to this problem is $k^* = (\\tilde{X} H) \\backslash \\dot{x}$"
   ]
  },
  {
   "cell_type": "code",
   "execution_count": 61,
   "id": "premier-milton",
   "metadata": {},
   "outputs": [],
   "source": [
    "import numpy as np\n",
    "import scipy as sp\n",
    "from scipy.integrate import solve_ivp"
   ]
  },
  {
   "cell_type": "code",
   "execution_count": 52,
   "id": "german-scientist",
   "metadata": {},
   "outputs": [],
   "source": [
    "# Create the data matrix X\n",
    "# Each row of corresponds to a different time point\n",
    "\n",
    "# Creating X by evolving a dynamical system\n",
    "n = 6 # dimensionality of the data\n",
    "ct = 40 # number of time points\n",
    "# Using a linear skew-symmetric matrix\n",
    "mat = np.random.rand(n,n)-0.5\n",
    "Msk = mat - mat.transpose()\n",
    "\n",
    "def dt_fun(t, y):\n",
    "    return np.matmul(Msk, y)\n",
    "\n",
    "t0 = 0. # initial time of integration\n",
    "tf = 2. # final time of integration\n",
    "X0 = 2.*(np.random.rand(n)-0.5) # initial state\n",
    "t_points = np.linspace(t0, tf, ct)\n",
    "sol = solve_ivp(dt_fun, [t0,tf], X0, t_eval=t_points)\n",
    "X = sol.y.transpose()\n",
    "\n",
    "# standardize the X data\n",
    "X = X - np.mean(X)\n",
    "X = X / np.std(X)\n",
    "\n",
    "# create the block-matrix version of X\n",
    "Xtilde = sp.linalg.block_diag(*([X]*n))"
   ]
  },
  {
   "cell_type": "code",
   "execution_count": 54,
   "id": "pacific-desire",
   "metadata": {},
   "outputs": [],
   "source": [
    "# Create the H matrix\n",
    "n = X.shape[1]\n",
    "ct = X.shape[0]\n",
    "L = np.zeros((n,n), dtype=int)\n",
    "c = 0\n",
    "for row in range(n):\n",
    "    for col in range(row+1, n):\n",
    "        L[row, col] = c\n",
    "        L[col, row] = c\n",
    "        c += 1\n",
    "        \n",
    "H = np.zeros((n*n, int(0.5*n*(n-1))))\n",
    "for col in range(n):\n",
    "    for row in range(n):\n",
    "        if col > row:\n",
    "            H[n*col+row, L[col,row]] = 1.\n",
    "        elif row > col:\n",
    "            H[n*col+row, L[col,row]] = -1."
   ]
  },
  {
   "cell_type": "code",
   "execution_count": 55,
   "id": "finnish-jacksonville",
   "metadata": {},
   "outputs": [],
   "source": [
    "# Approximate the derivatives of X\n",
    "Xp = np.zeros_like(X)\n",
    "t_bit = t_points[1] - t_points[0]\n",
    "Xp[1:,:] = (X[1:,:] - X[:-1,:]) / t_bit\n",
    "\n",
    "# prev_row = np.zeros(n)\n",
    "# for row in range(1, ct):\n",
    "#     Xp[row-1,:] = (X[row,:] - X[row-1,:]) / t_bit\n",
    "# Xp[-1,:] = Xp[-2,:]\n",
    "\n",
    "xp = Xp.flatten('F')"
   ]
  },
  {
   "cell_type": "code",
   "execution_count": 56,
   "id": "greek-blowing",
   "metadata": {},
   "outputs": [
    {
     "name": "stdout",
     "output_type": "stream",
     "text": [
      "[[ 0.         -0.35340092  0.52222587 -0.10543001  0.11408025 -0.24255443]\n",
      " [ 0.35340092  0.          0.542875   -1.02418614  0.43698895 -0.21896857]\n",
      " [-0.52222587 -0.542875    0.         -0.66303951 -0.40146722  0.19494389]\n",
      " [ 0.10543001  1.02418614  0.66303951  0.         -0.24335933  0.55007975]\n",
      " [-0.11408025 -0.43698895  0.40146722  0.24335933  0.          0.57280916]\n",
      " [ 0.24255443  0.21896857 -0.19494389 -0.55007975 -0.57280916  0.        ]]\n",
      "[[ 0.         -0.18470449  0.87605911 -0.24233307 -0.47498955 -0.34227083]\n",
      " [ 0.18470449  0.          0.16014874 -0.91875513  0.34569415 -0.17027741]\n",
      " [-0.87605911 -0.16014874  0.         -0.25820942 -0.12366712 -0.36612742]\n",
      " [ 0.24233307  0.91875513  0.25820942  0.          0.0100411   0.49904048]\n",
      " [ 0.47498955 -0.34569415  0.12366712 -0.0100411   0.          0.30846109]\n",
      " [ 0.34227083  0.17027741  0.36612742 -0.49904048 -0.30846109  0.        ]]\n"
     ]
    }
   ],
   "source": [
    "# calculate the solution directly from the formula\n",
    "kstar = np.matmul(np.linalg.pinv(np.matmul(Xtilde, H)), xp)\n",
    "\n",
    "# reconstruct the matrix Msk that generated the data\n",
    "Mstar = np.matmul(H, kstar).reshape(n,n)\n",
    "print(Mstar)\n",
    "print(Msk)"
   ]
  },
  {
   "cell_type": "code",
   "execution_count": 57,
   "id": "medieval-scanning",
   "metadata": {},
   "outputs": [
    {
     "name": "stdout",
     "output_type": "stream",
     "text": [
      "1.667455619112301\n",
      "0.6783248931499707\n",
      "37.43646631939747\n",
      "2.6566131505044894\n"
     ]
    }
   ],
   "source": [
    "# Frobenius norm of the matrix difference\n",
    "# Mstar should be the transposed????\n",
    "norm1 = np.linalg.norm(Mstar- Msk)\n",
    "print(norm1)\n",
    "\n",
    "# Angle between Mstar and Msk\n",
    "angM= np.arccos( (Mstar*Msk).sum() / (np.linalg.norm(Mstar)*np.linalg.norm(Msk)))\n",
    "print(angM)\n",
    "\n",
    "# Frobenius norm of derivatives matrix minus its reconstruction\n",
    "Xp_rec = np.matmul(X, Mstar)\n",
    "norm2 = np.linalg.norm(Xp - Xp_rec)\n",
    "print(norm2)\n",
    "\n",
    "# Angle between Xp and its reconstruction\n",
    "ang = np.arccos( (Xp * Xp_rec).sum() / (np.linalg.norm(Xp)*np.linalg.norm(Xp_rec)) )\n",
    "print(ang)"
   ]
  },
  {
   "cell_type": "code",
   "execution_count": 58,
   "id": "scheduled-verse",
   "metadata": {},
   "outputs": [
    {
     "name": "stdout",
     "output_type": "stream",
     "text": [
      "H =\n",
      "[[ 0.  0.  0.  0.  0.  0.  0.  0.  0.  0.  0.  0.  0.  0.  0.]\n",
      " [-1.  0.  0.  0.  0.  0.  0.  0.  0.  0.  0.  0.  0.  0.  0.]\n",
      " [ 0. -1.  0.  0.  0.  0.  0.  0.  0.  0.  0.  0.  0.  0.  0.]\n",
      " [ 0.  0. -1.  0.  0.  0.  0.  0.  0.  0.  0.  0.  0.  0.  0.]\n",
      " [ 0.  0.  0. -1.  0.  0.  0.  0.  0.  0.  0.  0.  0.  0.  0.]\n",
      " [ 0.  0.  0.  0. -1.  0.  0.  0.  0.  0.  0.  0.  0.  0.  0.]\n",
      " [ 1.  0.  0.  0.  0.  0.  0.  0.  0.  0.  0.  0.  0.  0.  0.]\n",
      " [ 0.  0.  0.  0.  0.  0.  0.  0.  0.  0.  0.  0.  0.  0.  0.]\n",
      " [ 0.  0.  0.  0.  0. -1.  0.  0.  0.  0.  0.  0.  0.  0.  0.]\n",
      " [ 0.  0.  0.  0.  0.  0. -1.  0.  0.  0.  0.  0.  0.  0.  0.]\n",
      " [ 0.  0.  0.  0.  0.  0.  0. -1.  0.  0.  0.  0.  0.  0.  0.]\n",
      " [ 0.  0.  0.  0.  0.  0.  0.  0. -1.  0.  0.  0.  0.  0.  0.]\n",
      " [ 0.  1.  0.  0.  0.  0.  0.  0.  0.  0.  0.  0.  0.  0.  0.]\n",
      " [ 0.  0.  0.  0.  0.  1.  0.  0.  0.  0.  0.  0.  0.  0.  0.]\n",
      " [ 0.  0.  0.  0.  0.  0.  0.  0.  0.  0.  0.  0.  0.  0.  0.]\n",
      " [ 0.  0.  0.  0.  0.  0.  0.  0.  0. -1.  0.  0.  0.  0.  0.]\n",
      " [ 0.  0.  0.  0.  0.  0.  0.  0.  0.  0. -1.  0.  0.  0.  0.]\n",
      " [ 0.  0.  0.  0.  0.  0.  0.  0.  0.  0.  0. -1.  0.  0.  0.]\n",
      " [ 0.  0.  1.  0.  0.  0.  0.  0.  0.  0.  0.  0.  0.  0.  0.]\n",
      " [ 0.  0.  0.  0.  0.  0.  1.  0.  0.  0.  0.  0.  0.  0.  0.]\n",
      " [ 0.  0.  0.  0.  0.  0.  0.  0.  0.  1.  0.  0.  0.  0.  0.]\n",
      " [ 0.  0.  0.  0.  0.  0.  0.  0.  0.  0.  0.  0.  0.  0.  0.]\n",
      " [ 0.  0.  0.  0.  0.  0.  0.  0.  0.  0.  0.  0. -1.  0.  0.]\n",
      " [ 0.  0.  0.  0.  0.  0.  0.  0.  0.  0.  0.  0.  0. -1.  0.]\n",
      " [ 0.  0.  0.  1.  0.  0.  0.  0.  0.  0.  0.  0.  0.  0.  0.]\n",
      " [ 0.  0.  0.  0.  0.  0.  0.  1.  0.  0.  0.  0.  0.  0.  0.]\n",
      " [ 0.  0.  0.  0.  0.  0.  0.  0.  0.  0.  1.  0.  0.  0.  0.]\n",
      " [ 0.  0.  0.  0.  0.  0.  0.  0.  0.  0.  0.  0.  1.  0.  0.]\n",
      " [ 0.  0.  0.  0.  0.  0.  0.  0.  0.  0.  0.  0.  0.  0.  0.]\n",
      " [ 0.  0.  0.  0.  0.  0.  0.  0.  0.  0.  0.  0.  0.  0. -1.]\n",
      " [ 0.  0.  0.  0.  1.  0.  0.  0.  0.  0.  0.  0.  0.  0.  0.]\n",
      " [ 0.  0.  0.  0.  0.  0.  0.  0.  1.  0.  0.  0.  0.  0.  0.]\n",
      " [ 0.  0.  0.  0.  0.  0.  0.  0.  0.  0.  0.  1.  0.  0.  0.]\n",
      " [ 0.  0.  0.  0.  0.  0.  0.  0.  0.  0.  0.  0.  0.  1.  0.]\n",
      " [ 0.  0.  0.  0.  0.  0.  0.  0.  0.  0.  0.  0.  0.  0.  1.]\n",
      " [ 0.  0.  0.  0.  0.  0.  0.  0.  0.  0.  0.  0.  0.  0.  0.]]\n",
      "\n",
      "L =\n",
      "[[ 0  0  1  2  3  4]\n",
      " [ 0  0  5  6  7  8]\n",
      " [ 1  5  0  9 10 11]\n",
      " [ 2  6  9  0 12 13]\n",
      " [ 3  7 10 12  0 14]\n",
      " [ 4  8 11 13 14  0]]\n",
      "\n",
      "k =\n",
      "[ 1  2  3  4  5  6  7  8  9 10 11 12 13 14 15]\n",
      "\n",
      "M =\n",
      "[  0.  -1.  -2.  -3.  -4.  -5.   1.   0.  -6.  -7.  -8.  -9.   2.   6.\n",
      "   0. -10. -11. -12.   3.   7.  10.   0. -13. -14.   4.   8.  11.  13.\n",
      "   0. -15.   5.   9.  12.  14.  15.   0.]\n",
      "\n"
     ]
    }
   ],
   "source": [
    "# print H and the auxiliary matrices\n",
    "print(\"H =\")\n",
    "print(H, end='\\n\\n')\n",
    "print(\"L =\")\n",
    "print(L, end='\\n\\n')\n",
    "\n",
    "k = np.arange(1,int(0.5*n*(n-1)+1))\n",
    "print(\"k =\")\n",
    "print(k, end='\\n\\n')\n",
    "M = np.matmul(H,k)\n",
    "print(\"M =\")\n",
    "print(M, end='\\n\\n')"
   ]
  },
  {
   "cell_type": "code",
   "execution_count": 62,
   "id": "affiliated-population",
   "metadata": {},
   "outputs": [
    {
     "name": "stdout",
     "output_type": "stream",
     "text": [
      "R2 unconstrained: 0.988177\n",
      "R2 skew symmetric: -2.840164\n"
     ]
    }
   ],
   "source": [
    "# 2) Coefficients of determination\n",
    "# 2.1) Obtain unconstrained M matrix\n",
    "M_uncons = np.matmul(np.linalg.pinv(X), Xp)\n",
    "# 2.2) Reconstruct Xp with M_uncons\n",
    "Xp_uncons = np.matmul(X, M_uncons)\n",
    "# 2.3) Reconstruct Xp with Mstar\n",
    "Xp_skew = np.matmul(X, Mstar)\n",
    "# 2.4) Calculate residual sums of squares\n",
    "SSres_uncons = ((Xp - Xp_uncons) * (Xp - Xp_uncons)).sum()\n",
    "SSres_skew = ((Xp - Xp_skew) * (Xp - Xp_skew)).sum()\n",
    "# 2.5) Calculate the total sum of squares\n",
    "SStot = ((Xp-Xp.mean())*(Xp-Xp.mean())).sum()\n",
    "# 2.6) Calculate coefficients of determination\n",
    "R2_uncons = 1. - (SSres_uncons / SStot)\n",
    "R2_skew = 1. - (SSres_skew / SStot)\n",
    "\n",
    "print(\"R2 unconstrained: %f\" % (R2_uncons))\n",
    "print(\"R2 skew symmetric: %f\" % (R2_skew))"
   ]
  },
  {
   "cell_type": "code",
   "execution_count": 60,
   "id": "unknown-maintenance",
   "metadata": {},
   "outputs": [
    {
     "name": "stdout",
     "output_type": "stream",
     "text": [
      "[[ 0  1]\n",
      " [-1  0]]\n",
      "Eigenvalues: \n",
      "[0.+1.j 0.-1.j]\n",
      "Eigenvectors: \n",
      "[[0.70710678+0.j         0.70710678-0.j        ]\n",
      " [0.        +0.70710678j 0.        -0.70710678j]]\n"
     ]
    }
   ],
   "source": [
    "a = np.array([[0,1],[-1,0]])\n",
    "eig_vals, eig_vecs = np.linalg.eig(a)\n",
    "print(a)\n",
    "print(\"Eigenvalues: \")\n",
    "print(eig_vals)\n",
    "print(\"Eigenvectors: \")\n",
    "print(eig_vecs)"
   ]
  },
  {
   "cell_type": "code",
   "execution_count": null,
   "id": "statutory-suspension",
   "metadata": {},
   "outputs": [],
   "source": []
  }
 ],
 "metadata": {
  "kernelspec": {
   "display_name": "Python 3",
   "language": "python",
   "name": "python3"
  },
  "language_info": {
   "codemirror_mode": {
    "name": "ipython",
    "version": 3
   },
   "file_extension": ".py",
   "mimetype": "text/x-python",
   "name": "python",
   "nbconvert_exporter": "python",
   "pygments_lexer": "ipython3",
   "version": "3.9.2"
  }
 },
 "nbformat": 4,
 "nbformat_minor": 5
}
