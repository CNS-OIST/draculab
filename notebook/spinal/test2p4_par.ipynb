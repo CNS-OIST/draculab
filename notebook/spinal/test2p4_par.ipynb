{
 "cells": [
  {
   "cell_type": "markdown",
   "metadata": {},
   "source": [
    "# test2p4_par.ipynb\n",
    "\n",
    "A notebook to launch multiple parallel tests of the task in test2p4."
   ]
  },
  {
   "cell_type": "markdown",
   "metadata": {},
   "source": [
    "# PART 4\n",
    "Using a global error measure in the SPF__M learning rule."
   ]
  },
  {
   "cell_type": "code",
   "execution_count": 1,
   "metadata": {
    "collapsed": false
   },
   "outputs": [
    {
     "name": "stdout",
     "output_type": "stream",
     "text": [
      "/home/z/projects/draculab\n"
     ]
    }
   ],
   "source": [
    "%cd ../..\n",
    "from draculab import *\n",
    "import numpy as np\n",
    "import matplotlib.pyplot as plt\n",
    "import time\n",
    "from pathos.multiprocessing import ProcessingPool\n",
    "import sys"
   ]
  },
  {
   "cell_type": "code",
   "execution_count": 2,
   "metadata": {
    "collapsed": true
   },
   "outputs": [],
   "source": [
    "def haar_matrix(dim):\n",
    "    \"\"\" Returns an array with the normalized (2**dim x 2**dim) Haar matrix.\n",
    "    \n",
    "        Args:\n",
    "            dim: an integer.\n",
    "        Returns:\n",
    "            A 2D numpy array of shape (2**dim, 2**dim), where each row is a\n",
    "            Haar vector of norm 1.\n",
    "    \"\"\"\n",
    "    # Obtain the matrix using the iterative procedure with Kronecker products\n",
    "    h0 = np.array([1., 1.])\n",
    "    h1 = np.array([1., -1.])\n",
    "    haar = np.concatenate(([h0], [h1]))\n",
    "    for d in range(1,dim):\n",
    "        haar = np.concatenate((np.kron(haar, h0), \n",
    "                               np.kron(np.identity(2**d), h1)), axis=0)\n",
    "    # Normalize the rows of the Haar matrix\n",
    "    for idx, row in enumerate(haar):\n",
    "        haar[idx, :] = row / np.linalg.norm(row)\n",
    "    return haar"
   ]
  },
  {
   "cell_type": "code",
   "execution_count": 3,
   "metadata": {
    "collapsed": false
   },
   "outputs": [],
   "source": [
    "####################\n",
    "#  Configurations  #\n",
    "####################\n",
    "\n",
    "configs = [ \n",
    "    {\n",
    "    'N' : 2,\n",
    "    't_pres' : 80., \n",
    "    'M__P_type' : 'identity', \n",
    "    'M_type' : \"am2D\", \n",
    "    'SPF__M_syn_type' : synapse_types.rga_ge, \n",
    "    'om_var' : 1.,\n",
    "    'track_SPF__M_w' : True \n",
    "    },\n",
    "    {\n",
    "    'N' : 2,\n",
    "    't_pres' : 80., \n",
    "    'M__P_type' : 'haar', \n",
    "    'M_type' : \"am2D\", \n",
    "    'SPF__M_syn_type' : synapse_types.rga_ge, \n",
    "    'om_var' : 1.,\n",
    "    'track_SPF__M_w' : True\n",
    "    },\n",
    "    {\n",
    "    'N' : 2,\n",
    "    't_pres' : 80., \n",
    "    'M__P_type' : 'overcomplete', \n",
    "    'M_type' : \"am2D\", \n",
    "    'SPF__M_syn_type' : synapse_types.rga_ge, \n",
    "    'om_var' : 1.,\n",
    "    'track_SPF__M_w' : True\n",
    "    },\n",
    "    {\n",
    "    'N' : 2,\n",
    "    't_pres' : 80., \n",
    "    'M__P_type' : 'overcomplete2', \n",
    "    'M_type' : \"am2D\", \n",
    "    'SPF__M_syn_type' : synapse_types.rga_ge, \n",
    "    'om_var' : 1.,\n",
    "    'track_SPF__M_w' : True\n",
    "    }\n",
    "]"
   ]
  },
  {
   "cell_type": "code",
   "execution_count": 4,
   "metadata": {
    "code_folding": [
     0
    ],
    "collapsed": false
   },
   "outputs": [],
   "source": [
    "def create_t2p4_net(params):\n",
    "    \"\"\" Create a network to run a variation of test2 part 4. \n",
    "    \n",
    "        Args:\n",
    "            params : parameter dictionary with these entries: \n",
    "            N = size of each population\n",
    "            t_pres = duration of each pattern presentation\n",
    "            M__P_type = type of M__P connections. See M__P_mats below\n",
    "            M_type = oscillator model. Either \"am_pm\", \"am\", or \"am2D\"\n",
    "            SPF__M_syn_type = synapse_types.rga_ge. Not much choice here\n",
    "            om_var = omega frequency heterogeneity (float)\n",
    "            track_SPF__M_w = Boolean. Whether to track SPF__M weight for 1 M(E|I) unit\n",
    "        Returns:\n",
    "            The draculab network created with these parameters.\n",
    "    \"\"\"\n",
    "    N = params['N']\n",
    "    t_pres = params['t_pres']\n",
    "    M__P_type = params['M__P_type']\n",
    "    M_type = params['M_type']\n",
    "    SPF__M_syn_type = params['SPF__M_syn_type']\n",
    "    om_var = params['om_var']\n",
    "    track_SPF__M_w = params['track_SPF__M_w']\n",
    "    \n",
    "    #--------------------------------------------------------------\n",
    "\n",
    "    M__P_mats = {'identity' : 1.*np.eye(N),\n",
    "                 'haar' : haar_matrix(int(np.round(np.log(N)/np.log(2.)))),\n",
    "                 'overcomplete2' : np.random.random((N, 3*N))}\n",
    "    if N > 1:\n",
    "        M__P_mats['overcomplete'] = np.concatenate((M__P_mats['identity'], M__P_mats['haar']), axis=1)\n",
    "    norms = np.linalg.norm(M__P_mats['overcomplete2'], axis=0)\n",
    "    M__P_mats['overcomplete2'] = M__P_mats['overcomplete2']/norms\n",
    "    W = M__P_mats[M__P_type]\n",
    "    M_N = W.shape[1]\n",
    "\n",
    "    des_pat = np.zeros(N) # desired pattern in SP\n",
    "    des_pats = np.random.random((2000, N)) # many desired patterns for SP\n",
    "    des_pat[np.arange(0,N,2)] = .9 # a 'one' every other entry\n",
    "    par_heter = 0.1 # range of heterogeneity as a fraction of the original value\n",
    "    randz = lambda : (1. + par_heter*(np.random.rand(N)-0.5))\n",
    "\n",
    "    net_params = {'min_delay' : 0.001,\n",
    "                  'min_buff_size' : 10 }\n",
    "    GE_params = {'type' : unit_types.sigmoidal,\n",
    "                 'thresh' : 0.4,\n",
    "                 'slope' : 4.,\n",
    "                 'tau' : 0.02,\n",
    "                 'tau_fast': 0.05,\n",
    "                 'tau_mid' : 1.,\n",
    "                 'delay' : 0.3,\n",
    "                 'extra_requirements' : ['lpf_fast', 'lpf_mid'],\n",
    "                 'init_val' : 0.2 }\n",
    "    SF_params = {'type' : unit_types.sigmoidal,\n",
    "                 'thresh' : 0. * randz(),\n",
    "                 'slope' : 1. * randz(),\n",
    "                 'init_val' : 0.2 * randz(),\n",
    "                 'tau' : 0.05 }#* randz() }\n",
    "    SP_params = {'type' : unit_types.source,\n",
    "                 'init_val' : 0.5,\n",
    "                 'function' : lambda x: None }\n",
    "    SPF1_params = {'type' : unit_types.out_norm_sig,\n",
    "                  'thresh' : 0.3 * randz(), # 0.5 originally\n",
    "                  'slope' : 6. * randz(),  # 4. originally\n",
    "                  'delay' : 0.3,\n",
    "                  'init_val' : 0.3 * randz(),\n",
    "                  'tau_fast': 0.01, # 0.005\n",
    "                  'tau_mid': 0.2,  # 0.05\n",
    "                  'tau_slow' : 10., # 5\n",
    "                  'tau' : 0.05, #* randz(),\n",
    "                  'des_out_w_abs_sum' : 2. }\n",
    "    SPF2_params = SPF1_params\n",
    "    P_params = {'type' : unit_types.linear,\n",
    "                'init_val' : 0.,\n",
    "                'tau' : 0.05 }#* randz() }\n",
    "\n",
    "    if M_type == \"am_pm\":\n",
    "        init_base = np.array([0.5, 0.5, 2.*np.pi, 0.5])\n",
    "        M_syn_type = unit_types.am_pm_oscillator\n",
    "    elif M_type == \"am2D\":\n",
    "        init_base = np.array([0.5, 0.5])\n",
    "        M_syn_type = unit_types.am_oscillator2D \n",
    "    elif M_type == \"am\":\n",
    "        init_base = np.array([0.5, 0.5, 0.5])\n",
    "        M_syn_type = unit_types.am_oscillator \n",
    "    M_params = {'type' : M_syn_type,\n",
    "                'integ_meth' : 'odeint',\n",
    "                'tau_u' : 0.1,\n",
    "                'tau_c' : .1, # originally 0.2\n",
    "                'init_val' : [(r+1.)*init_base for r in 0.2*(np.random.random(M_N)-0.5)],\n",
    "                'multidim' : True,\n",
    "                'n_ports' : 3,\n",
    "                'omega' : 1.*np.pi,\n",
    "                'custom_inp_del' : 200,\n",
    "                'tau_fast': 0.01,\n",
    "                'tau_mid' : 0.1,\n",
    "                'tau_slow' : 1.,\n",
    "                'delay' : 0.24,\n",
    "                'A' : 1.,\n",
    "                'mu' : 0.,\n",
    "                'sigma' : 0.0 }\n",
    "\n",
    "    def create_freqs_steps(n, w, r):\n",
    "        \"\"\" Returns a 2-tuple with the lists required for heterogeneous frequencies.\n",
    "\n",
    "            Args:\n",
    "                n : number of units\n",
    "                w : base angular (rad/s)\n",
    "                r : amplitude of noise\n",
    "            Returns\n",
    "                2-tuple : (freqs, steps)\n",
    "                freqs : a list with n angular frequencies.\n",
    "                steps : a list with the corresponding delays. \n",
    "        \"\"\"\n",
    "        ws = w + r*(np.random.random(n) - 0.5)\n",
    "        #ws = ws / M_params['tau_t'] # angular frequencies\n",
    "        mp_del = np.arctan(P_params['tau']*ws)/ws\n",
    "        psf_del = np.arctan(SF_params['tau']*ws)/ws\n",
    "        sfspf_del = np.arctan(SPF1_params['tau']*ws)/ws\n",
    "        spfm_del1 = np.arctan(M_params['tau_c']*ws)/ws\n",
    "        spfm_del2 = np.arctan(M_params['tau_u']*ws)/ws\n",
    "        d1 = mp_del + psf_del + sfspf_del + 4.*0.02\n",
    "        del_steps = [int(d) for d in np.ceil(d1/net_params['min_delay'])]\n",
    "        return (list(ws), del_steps)\n",
    "\n",
    "    # creating units\n",
    "    net = network(net_params)\n",
    "    GE = net.create(1, GE_params)\n",
    "    SF = net.create(N, SF_params)\n",
    "    SP = net.create(N, SP_params)\n",
    "    SPF1 = net.create(N, SPF1_params)\n",
    "    SPF2 = net.create(N, SPF2_params)\n",
    "    P = net.create(N, P_params)\n",
    "\n",
    "    omegasE, del_stepsE = create_freqs_steps(M_N, M_params['omega'], om_var)\n",
    "    M_params['omega'] = omegasE\n",
    "    M_params['custom_inp_del'] = del_stepsE\n",
    "    M_params['delay'] = net_params['min_delay'] * (del_stepsE[0]+2)\n",
    "    ME = net.create(M_N, M_params)\n",
    "\n",
    "    omegasI, del_stepsI = create_freqs_steps(M_N, M_params['omega'], om_var)\n",
    "    M_params['omega'] = omegasI\n",
    "    M_params['custom_inp_del'] = del_stepsI\n",
    "    M_params['delay'] = net_params['min_delay'] * (del_stepsE[0]+2)\n",
    "    MI = net.create(M_N, M_params)\n",
    "\n",
    "    pops = {'GE' : GE, 'SF':SF, 'SP':SP, 'SPF1':SPF1, 'SPF2':SPF2, 'P':P, 'ME':ME, 'MI':MI}\n",
    "    \n",
    "    # set the pattern in SP\n",
    "    def make_fun(idx):\n",
    "        #return lambda t: des_pat[idx]\n",
    "        return lambda t: des_pats[int(round(t/t_pres)),idx]\n",
    "    for idx, u in enumerate(SP):\n",
    "        net.units[u].set_function(make_fun(idx))\n",
    "\n",
    "    # Create the connections. See note on \"detecting layer distances\" in cortex wiki\n",
    "    GE__ME_conn  = {'rule' : 'all_to_all',\n",
    "                    'delay' : 0.02 }\n",
    "    GE__ME_syn = {'type' : synapse_types.static,\n",
    "                  'inp_ports' : 2,\n",
    "                  'init_w' : 1. }\n",
    "    GE__MI_conn  = GE__ME_conn\n",
    "    GE__MI_syn = GE__ME_syn\n",
    "    SF__SPF1_conn = {'rule' : \"one_to_one\",\n",
    "                     'delay' : 0.02 }\n",
    "    SF__SPF2_conn = SF__SPF1_conn\n",
    "    SF__SPF1_syn = {'type' : synapse_types.static,\n",
    "                   'init_w' : -1. }\n",
    "    SF__SPF2_syn = {'type' : synapse_types.static,\n",
    "                   'init_w' : 1. }\n",
    "    SP__SPF1_conn = {'rule' : \"one_to_one\",\n",
    "                    'delay' : 0.02 }\n",
    "    SP__SPF2_conn = SP__SPF1_conn\n",
    "    SP__SPF1_syn = {'type' : synapse_types.static,\n",
    "                   'init_w' : 1. }\n",
    "    SP__SPF2_syn = {'type' : synapse_types.static,\n",
    "                   'init_w' : -1. }\n",
    "    SPF1__GE_conn = {'rule' : 'all_to_all',\n",
    "                     'delay' : 0.02 }\n",
    "    SPF1__GE_syn = {'type' : synapse_types.static,\n",
    "                    'init_w' : 1./N }\n",
    "    SPF2__GE_conn = SPF1__GE_conn\n",
    "    SPF2__GE_syn = SPF1__GE_syn\n",
    "    SPF1__ME_conn = {'rule': 'all_to_all',\n",
    "                    'delay': 0.02 }\n",
    "    SPF2__ME_conn = SPF1__ME_conn\n",
    "    SPF1__MI_conn = SPF1__ME_conn\n",
    "    SPF2__MI_conn = SPF1__ME_conn\n",
    "    SPF1__ME_syn = {'type' : SPF__M_syn_type,\n",
    "                    'lrate': 4.,\n",
    "                    #'post_delay': del_steps,\n",
    "                    'inp_ports': 0,\n",
    "                    'max_w' : 2.,\n",
    "                    'min_w' : 0.,\n",
    "                    'sig1' : .2,\n",
    "                    'sig2' : .2,\n",
    "                    'init_w' : {'distribution':'uniform', 'low':0.05, 'high':.1} }\n",
    "    SPF2__ME_syn = SPF1__ME_syn\n",
    "    SPF1__MI_syn = SPF1__ME_syn\n",
    "    SPF2__MI_syn = SPF1__ME_syn\n",
    "\n",
    "    # Specify the connection matrix from ME/MI to P\n",
    "    #W = 2.*np.eye(N)\n",
    "    #W = haar_matrix(3) # only for N = 2**dim\n",
    "\n",
    "    # connect ME/MI to P\n",
    "    ME__P_conn = {'rule': 'all_to_all',\n",
    "                  'delay': 0.02 }\n",
    "    ME__P_syn = {'type': synapse_types.static_l0_normal,\n",
    "                 'w_sum' : 2.,\n",
    "                 'tau_norml' : 5.,\n",
    "                 'init_w' : W.flatten() }\n",
    "    MI__P_conn = ME__P_conn\n",
    "    MI__P_syn = {'type': synapse_types.static_l0_normal,\n",
    "                 'w_sum' : 2.,\n",
    "                 'tau_norml' : 5.,\n",
    "                 'init_w' : -W.flatten() }\n",
    "    # From P to SF\n",
    "    P__SF_conn = {'rule' : 'one_to_one',\n",
    "                  'delay' : 0.02 }\n",
    "    P__SF_syn = {'type' : synapse_types.static,\n",
    "                 'init_w' : 3. }\n",
    "    # lateral connections in M\n",
    "    ME__ME_conn = {'rule': 'all_to_all',\n",
    "                   'allow_autapses' : False,\n",
    "                   'delay' : 0.02 }\n",
    "    ME__ME_syn = {'type' : synapse_types.static,\n",
    "                  'lrate' : 0.1,\n",
    "                  'inp_ports': 1,\n",
    "                  'init_w' : -0.01/N }\n",
    "    ME__MI_conn = {'rule': 'one_to_one',\n",
    "                   'delay' : 0.02 }\n",
    "    ME__MI_syn = {'type' : synapse_types.static,\n",
    "                  'inp_ports': 1,\n",
    "                  'init_w' : -0.5 } # -0.5 }\n",
    "    MI__ME_conn = ME__MI_conn\n",
    "    MI__ME_syn = ME__MI_syn\n",
    "    MI__MI_conn = ME__ME_conn\n",
    "    MI__MI_syn = ME__ME_syn\n",
    "\n",
    "    net.connect(GE, ME, GE__ME_conn, GE__ME_syn)\n",
    "    net.connect(GE, MI, GE__MI_conn, GE__MI_syn)\n",
    "    net.connect(SF, SPF1, SF__SPF1_conn, SF__SPF1_syn)\n",
    "    net.connect(SF, SPF2, SF__SPF2_conn, SF__SPF2_syn)\n",
    "    net.connect(SP, SPF1, SP__SPF1_conn, SP__SPF1_syn)\n",
    "    net.connect(SP, SPF2, SP__SPF2_conn, SP__SPF2_syn)\n",
    "    net.connect(SPF1, GE, SPF1__GE_conn, SPF1__GE_syn)\n",
    "    net.connect(SPF2, GE, SPF2__GE_conn, SPF2__GE_syn)\n",
    "    net.connect(SPF1, ME, SPF1__ME_conn, SPF1__ME_syn)\n",
    "    net.connect(SPF1, MI, SPF1__MI_conn, SPF1__MI_syn)\n",
    "    net.connect(SPF2, ME, SPF2__ME_conn, SPF2__ME_syn)\n",
    "    net.connect(SPF2, MI, SPF2__MI_conn, SPF2__MI_syn)\n",
    "    net.connect(ME, P, ME__P_conn, ME__P_syn)\n",
    "    net.connect(MI, P, MI__P_conn, MI__P_syn)\n",
    "    net.connect(P, SF, P__SF_conn, P__SF_syn)\n",
    "    net.connect(ME, ME, ME__ME_conn, ME__ME_syn)\n",
    "    net.connect(MI, MI, MI__MI_conn, MI__MI_syn)\n",
    "    net.connect(ME, MI, ME__MI_conn, ME__MI_syn)\n",
    "    net.connect(MI, ME, MI__ME_conn, MI__ME_syn)\n",
    "\n",
    "    # tracking state variables of the am_pm_oscillator\n",
    "    track_params = {'type' : unit_types.source,\n",
    "                    'init_val' : 0.02,\n",
    "                    'function' : lambda t: None }\n",
    "    def create_state_track(uid, var_id):\n",
    "        return lambda t: net.units[uid].buffer[var_id,-1]\n",
    "    if M_type == \"am\":\n",
    "        n_track = 3\n",
    "    elif M_type == \"am2D\":\n",
    "        n_track = 2\n",
    "    elif M_type == \"am_pm\":\n",
    "        n_track = 4\n",
    "    M_track = net.create(n_track, track_params)\n",
    "    for var in range(n_track):\n",
    "        net.units[M_track[var]].set_function(create_state_track(ME[0],var))\n",
    "    pops['M_track'] = M_track\n",
    "\n",
    "    if track_SPF__M_w:\n",
    "        # tracking SPF__ME weights\n",
    "        SPF__M_track = net.create(2*N, track_params)\n",
    "        SPF__M_syns = [syn for syn in net.syns[ME[0]] if syn.port == SPF1__ME_syn['inp_ports']]\n",
    "        def SPF__M_fun(idx):\n",
    "            \"\"\" Creates a function to track a weight from SPF to ME. \"\"\"\n",
    "            return lambda t: SPF__M_syns[idx].w\n",
    "        for idx in range(len(SPF1+SPF2)):\n",
    "            net.units[SPF__M_track[idx]].set_function(SPF__M_fun(idx))\n",
    "        pops['SPF__M_track'] = SPF__M_track\n",
    "    \n",
    "    return net, pops"
   ]
  },
  {
   "cell_type": "code",
   "execution_count": 5,
   "metadata": {
    "code_folding": [],
    "collapsed": false
   },
   "outputs": [],
   "source": [
    "class t2p4_runner():\n",
    "    \"\"\" A class to launch parallel runs of test2 part 4. \n",
    "    \n",
    "        Args:\n",
    "            configs: a list whose elements are parameter dictionaries for\"\"\"\n",
    "    def __init__(self, configs):\n",
    "        self.name = 'initial_test'\n",
    "        self.n_procs = len(configs) # how many processes\n",
    "        self.n_nets = len(configs) # how many nets\n",
    "        self.nets = [create_t2p4_net(conf) for conf in configs]\n",
    "        self.pops = [n[1] for n in self.nets]\n",
    "        self.nets = [n[0] for n in self.nets]\n",
    "        \n",
    "    def run_net(self, arg):\n",
    "        net = arg[0]\n",
    "        sim_time = arg[1]\n",
    "        #print('Running network %d' % (net_num))\n",
    "        print('Running a network')\n",
    "        data = net.run(sim_time)\n",
    "        return net, data\n",
    "    \n",
    "    def run_all(self, sim_time):\n",
    "        sys.setrecursionlimit(5000)  # otherwise the networks can't be pickled\n",
    "        pool = ProcessingPool(nodes=self.n_procs) \n",
    "        print('Starting %d processes, %d networks' % (self.n_procs, self.n_nets))\n",
    "        start_time = time.time()\n",
    "        #self.all_data = pool.map(self.run_net, zip(range(self.n_nets),[sim_time]*self.n_nets))\n",
    "        self.nets_data = pool.map(self.run_net, zip(self.nets,[sim_time]*self.n_nets))\n",
    "        print('****** Processing finished after %s seconds ******' % (time.time() - start_time)) \n",
    "        pool.close()\n",
    "        pool.join()\n",
    "        #return self.data\n",
    "#         if save:\n",
    "#             for net in self.nets:\n",
    "#                 net.history.append('net object being saved in container t2p4_runner object ' + self.name)\n",
    "#             F = open(self.name+'.pkl', 'wb')\n",
    "#             dill.dump(self, F)\n",
    "#             F.close()\n",
    "#         if log:\n",
    "#             self.log()\n",
    "                \n",
    "#     def log(self, file_name=log_file):\n",
    "#         for net in self.nets:\n",
    "#             net.log(file_name, params=(net.net_number == 0))\n",
    "            "
   ]
  },
  {
   "cell_type": "code",
   "execution_count": 6,
   "metadata": {
    "collapsed": false
   },
   "outputs": [
    {
     "ename": "NameError",
     "evalue": "name 'nets' is not defined",
     "output_type": "error",
     "traceback": [
      "\u001b[0;31m---------------------------------------------------------------------------\u001b[0m",
      "\u001b[0;31mNameError\u001b[0m                                 Traceback (most recent call last)",
      "\u001b[0;32m<ipython-input-6-6c3c0271265a>\u001b[0m in \u001b[0;36m<module>\u001b[0;34m()\u001b[0m\n\u001b[0;32m----> 1\u001b[0;31m \u001b[0mlist\u001b[0m\u001b[0;34m(\u001b[0m\u001b[0mzip\u001b[0m\u001b[0;34m(\u001b[0m\u001b[0mnets\u001b[0m\u001b[0;34m,\u001b[0m\u001b[0;34m[\u001b[0m\u001b[0msim_time\u001b[0m\u001b[0;34m]\u001b[0m\u001b[0;34m*\u001b[0m\u001b[0mn_nets\u001b[0m\u001b[0;34m)\u001b[0m\u001b[0;34m)\u001b[0m\u001b[0;34m\u001b[0m\u001b[0m\n\u001b[0m",
      "\u001b[0;31mNameError\u001b[0m: name 'nets' is not defined"
     ]
    }
   ],
   "source": [
    "list(zip(nets,[sim_time]*n_nets))"
   ]
  },
  {
   "cell_type": "code",
   "execution_count": 8,
   "metadata": {
    "collapsed": false
   },
   "outputs": [
    {
     "name": "stdout",
     "output_type": "stream",
     "text": [
      "Starting 4 processes, 4 networks\n"
     ]
    },
    {
     "ename": "TypeError",
     "evalue": "run_net() missing 1 required positional argument: 'arg'",
     "output_type": "error",
     "traceback": [
      "\u001b[0;31m---------------------------------------------------------------------------\u001b[0m",
      "\u001b[0;31mRemoteTraceback\u001b[0m                           Traceback (most recent call last)",
      "\u001b[0;31mRemoteTraceback\u001b[0m: \n\"\"\"\nTraceback (most recent call last):\n  File \"/usr/local/lib/python3.5/dist-packages/multiprocess/pool.py\", line 119, in worker\n    result = (True, func(*args, **kwds))\n  File \"/usr/local/lib/python3.5/dist-packages/multiprocess/pool.py\", line 44, in mapstar\n    return list(map(*args))\n  File \"/usr/local/lib/python3.5/dist-packages/pathos/helpers/mp_helper.py\", line 15, in <lambda>\n    func = lambda args: f(*args)\nTypeError: run_net() missing 1 required positional argument: 'arg'\n\"\"\"",
      "\nThe above exception was the direct cause of the following exception:\n",
      "\u001b[0;31mTypeError\u001b[0m                                 Traceback (most recent call last)",
      "\u001b[0;32m<ipython-input-8-d419f1651972>\u001b[0m in \u001b[0;36m<module>\u001b[0;34m()\u001b[0m\n\u001b[1;32m     19\u001b[0m \u001b[0mstart_time\u001b[0m \u001b[0;34m=\u001b[0m \u001b[0mtime\u001b[0m\u001b[0;34m.\u001b[0m\u001b[0mtime\u001b[0m\u001b[0;34m(\u001b[0m\u001b[0;34m)\u001b[0m\u001b[0;34m\u001b[0m\u001b[0m\n\u001b[1;32m     20\u001b[0m \u001b[0;31m#self.all_data = pool.map(self.run_net, zip(range(self.n_nets),[sim_time]*self.n_nets))\u001b[0m\u001b[0;34m\u001b[0m\u001b[0;34m\u001b[0m\u001b[0m\n\u001b[0;32m---> 21\u001b[0;31m \u001b[0mnets_data\u001b[0m \u001b[0;34m=\u001b[0m \u001b[0mpool\u001b[0m\u001b[0;34m.\u001b[0m\u001b[0mmap\u001b[0m\u001b[0;34m(\u001b[0m\u001b[0mrun_net\u001b[0m\u001b[0;34m,\u001b[0m \u001b[0mlist\u001b[0m\u001b[0;34m(\u001b[0m\u001b[0mzip\u001b[0m\u001b[0;34m(\u001b[0m\u001b[0mnets\u001b[0m\u001b[0;34m,\u001b[0m\u001b[0;34m[\u001b[0m\u001b[0msim_time\u001b[0m\u001b[0;34m]\u001b[0m\u001b[0;34m*\u001b[0m\u001b[0mn_nets\u001b[0m\u001b[0;34m)\u001b[0m\u001b[0;34m)\u001b[0m\u001b[0;34m)\u001b[0m\u001b[0;34m\u001b[0m\u001b[0m\n\u001b[0m\u001b[1;32m     22\u001b[0m \u001b[0mprint\u001b[0m\u001b[0;34m(\u001b[0m\u001b[0;34m'****** Processing finished after %s seconds ******'\u001b[0m \u001b[0;34m%\u001b[0m \u001b[0;34m(\u001b[0m\u001b[0mtime\u001b[0m\u001b[0;34m.\u001b[0m\u001b[0mtime\u001b[0m\u001b[0;34m(\u001b[0m\u001b[0;34m)\u001b[0m \u001b[0;34m-\u001b[0m \u001b[0mstart_time\u001b[0m\u001b[0;34m)\u001b[0m\u001b[0;34m)\u001b[0m\u001b[0;34m\u001b[0m\u001b[0m\n\u001b[1;32m     23\u001b[0m \u001b[0mpool\u001b[0m\u001b[0;34m.\u001b[0m\u001b[0mclose\u001b[0m\u001b[0;34m(\u001b[0m\u001b[0;34m)\u001b[0m\u001b[0;34m\u001b[0m\u001b[0m\n",
      "\u001b[0;32m/usr/local/lib/python3.5/dist-packages/pathos/multiprocessing.py\u001b[0m in \u001b[0;36mmap\u001b[0;34m(self, f, *args, **kwds)\u001b[0m\n\u001b[1;32m    135\u001b[0m         \u001b[0mAbstractWorkerPool\u001b[0m\u001b[0;34m.\u001b[0m\u001b[0m_AbstractWorkerPool__map\u001b[0m\u001b[0;34m(\u001b[0m\u001b[0mself\u001b[0m\u001b[0;34m,\u001b[0m \u001b[0mf\u001b[0m\u001b[0;34m,\u001b[0m \u001b[0;34m*\u001b[0m\u001b[0margs\u001b[0m\u001b[0;34m,\u001b[0m \u001b[0;34m**\u001b[0m\u001b[0mkwds\u001b[0m\u001b[0;34m)\u001b[0m\u001b[0;34m\u001b[0m\u001b[0m\n\u001b[1;32m    136\u001b[0m         \u001b[0m_pool\u001b[0m \u001b[0;34m=\u001b[0m \u001b[0mself\u001b[0m\u001b[0;34m.\u001b[0m\u001b[0m_serve\u001b[0m\u001b[0;34m(\u001b[0m\u001b[0;34m)\u001b[0m\u001b[0;34m\u001b[0m\u001b[0m\n\u001b[0;32m--> 137\u001b[0;31m         \u001b[0;32mreturn\u001b[0m \u001b[0m_pool\u001b[0m\u001b[0;34m.\u001b[0m\u001b[0mmap\u001b[0m\u001b[0;34m(\u001b[0m\u001b[0mstar\u001b[0m\u001b[0;34m(\u001b[0m\u001b[0mf\u001b[0m\u001b[0;34m)\u001b[0m\u001b[0;34m,\u001b[0m \u001b[0mzip\u001b[0m\u001b[0;34m(\u001b[0m\u001b[0;34m*\u001b[0m\u001b[0margs\u001b[0m\u001b[0;34m)\u001b[0m\u001b[0;34m)\u001b[0m \u001b[0;31m# chunksize\u001b[0m\u001b[0;34m\u001b[0m\u001b[0m\n\u001b[0m\u001b[1;32m    138\u001b[0m     \u001b[0mmap\u001b[0m\u001b[0;34m.\u001b[0m\u001b[0m__doc__\u001b[0m \u001b[0;34m=\u001b[0m \u001b[0mAbstractWorkerPool\u001b[0m\u001b[0;34m.\u001b[0m\u001b[0mmap\u001b[0m\u001b[0;34m.\u001b[0m\u001b[0m__doc__\u001b[0m\u001b[0;34m\u001b[0m\u001b[0m\n\u001b[1;32m    139\u001b[0m     \u001b[0;32mdef\u001b[0m \u001b[0mimap\u001b[0m\u001b[0;34m(\u001b[0m\u001b[0mself\u001b[0m\u001b[0;34m,\u001b[0m \u001b[0mf\u001b[0m\u001b[0;34m,\u001b[0m \u001b[0;34m*\u001b[0m\u001b[0margs\u001b[0m\u001b[0;34m,\u001b[0m \u001b[0;34m**\u001b[0m\u001b[0mkwds\u001b[0m\u001b[0;34m)\u001b[0m\u001b[0;34m:\u001b[0m\u001b[0;34m\u001b[0m\u001b[0m\n",
      "\u001b[0;32m/usr/local/lib/python3.5/dist-packages/multiprocess/pool.py\u001b[0m in \u001b[0;36mmap\u001b[0;34m(self, func, iterable, chunksize)\u001b[0m\n\u001b[1;32m    258\u001b[0m         \u001b[0;32min\u001b[0m \u001b[0ma\u001b[0m \u001b[0mlist\u001b[0m \u001b[0mthat\u001b[0m \u001b[0;32mis\u001b[0m \u001b[0mreturned\u001b[0m\u001b[0;34m.\u001b[0m\u001b[0;34m\u001b[0m\u001b[0m\n\u001b[1;32m    259\u001b[0m         '''\n\u001b[0;32m--> 260\u001b[0;31m         \u001b[0;32mreturn\u001b[0m \u001b[0mself\u001b[0m\u001b[0;34m.\u001b[0m\u001b[0m_map_async\u001b[0m\u001b[0;34m(\u001b[0m\u001b[0mfunc\u001b[0m\u001b[0;34m,\u001b[0m \u001b[0miterable\u001b[0m\u001b[0;34m,\u001b[0m \u001b[0mmapstar\u001b[0m\u001b[0;34m,\u001b[0m \u001b[0mchunksize\u001b[0m\u001b[0;34m)\u001b[0m\u001b[0;34m.\u001b[0m\u001b[0mget\u001b[0m\u001b[0;34m(\u001b[0m\u001b[0;34m)\u001b[0m\u001b[0;34m\u001b[0m\u001b[0m\n\u001b[0m\u001b[1;32m    261\u001b[0m \u001b[0;34m\u001b[0m\u001b[0m\n\u001b[1;32m    262\u001b[0m     \u001b[0;32mdef\u001b[0m \u001b[0mstarmap\u001b[0m\u001b[0;34m(\u001b[0m\u001b[0mself\u001b[0m\u001b[0;34m,\u001b[0m \u001b[0mfunc\u001b[0m\u001b[0;34m,\u001b[0m \u001b[0miterable\u001b[0m\u001b[0;34m,\u001b[0m \u001b[0mchunksize\u001b[0m\u001b[0;34m=\u001b[0m\u001b[0;32mNone\u001b[0m\u001b[0;34m)\u001b[0m\u001b[0;34m:\u001b[0m\u001b[0;34m\u001b[0m\u001b[0m\n",
      "\u001b[0;32m/usr/local/lib/python3.5/dist-packages/multiprocess/pool.py\u001b[0m in \u001b[0;36mget\u001b[0;34m(self, timeout)\u001b[0m\n\u001b[1;32m    606\u001b[0m             \u001b[0;32mreturn\u001b[0m \u001b[0mself\u001b[0m\u001b[0;34m.\u001b[0m\u001b[0m_value\u001b[0m\u001b[0;34m\u001b[0m\u001b[0m\n\u001b[1;32m    607\u001b[0m         \u001b[0;32melse\u001b[0m\u001b[0;34m:\u001b[0m\u001b[0;34m\u001b[0m\u001b[0m\n\u001b[0;32m--> 608\u001b[0;31m             \u001b[0;32mraise\u001b[0m \u001b[0mself\u001b[0m\u001b[0;34m.\u001b[0m\u001b[0m_value\u001b[0m\u001b[0;34m\u001b[0m\u001b[0m\n\u001b[0m\u001b[1;32m    609\u001b[0m \u001b[0;34m\u001b[0m\u001b[0m\n\u001b[1;32m    610\u001b[0m     \u001b[0;32mdef\u001b[0m \u001b[0m_set\u001b[0m\u001b[0;34m(\u001b[0m\u001b[0mself\u001b[0m\u001b[0;34m,\u001b[0m \u001b[0mi\u001b[0m\u001b[0;34m,\u001b[0m \u001b[0mobj\u001b[0m\u001b[0;34m)\u001b[0m\u001b[0;34m:\u001b[0m\u001b[0;34m\u001b[0m\u001b[0m\n",
      "\u001b[0;31mTypeError\u001b[0m: run_net() missing 1 required positional argument: 'arg'"
     ]
    }
   ],
   "source": [
    "sim_time = 3.\n",
    "n_procs = len(configs) # how many processes\n",
    "n_nets = len(configs) # how many nets\n",
    "nets = [create_t2p4_net(conf) for conf in configs]\n",
    "pops = [n[1] for n in nets]\n",
    "nets = [n[0] for n in nets]\n",
    "\n",
    "def run_net(self, arg):\n",
    "    net = arg[0]\n",
    "    sim_time = arg[1]\n",
    "    #print('Running network %d' % (net_num))\n",
    "    print('Running a network')\n",
    "    data = net.run(sim_time)\n",
    "    return net, data\n",
    "\n",
    "sys.setrecursionlimit(5000)  # otherwise the networks can't be pickled\n",
    "pool = ProcessingPool(nodes=n_procs) \n",
    "print('Starting %d processes, %d networks' % (n_procs, n_nets))\n",
    "start_time = time.time()\n",
    "#self.all_data = pool.map(self.run_net, zip(range(self.n_nets),[sim_time]*self.n_nets))\n",
    "nets_data = pool.map(run_net, list(zip(nets,[sim_time]*n_nets)))\n",
    "print('****** Processing finished after %s seconds ******' % (time.time() - start_time)) \n",
    "pool.close()\n",
    "pool.join()"
   ]
  },
  {
   "cell_type": "code",
   "execution_count": 6,
   "metadata": {
    "collapsed": false
   },
   "outputs": [
    {
     "name": "stdout",
     "output_type": "stream",
     "text": [
      "Running a network\n",
      "Starting 4 processes, 4 networks\n",
      "Running a network\n",
      "Running a network\n",
      "Running a network\n",
      "****** Processing finished after 24.590734243392944 seconds ******\n"
     ]
    }
   ],
   "source": [
    "sim_time = 3.\n",
    "runna = t2p4_runner(configs)\n",
    "#all_data = runna.run_all(sim_time)\n",
    "runna.run_all(sim_time)\n",
    "#all_data = runna.all_data"
   ]
  },
  {
   "cell_type": "code",
   "execution_count": 8,
   "metadata": {
    "collapsed": false
   },
   "outputs": [],
   "source": [
    "n_conf = 1\n",
    "times, data, _ = runna.nets_data[n_conf][1]\n",
    "for name in runna.pops[n_conf]:\n",
    "    exec(name + '=' + str(runna.pops[n_conf][name]))\n",
    "data = np.array(data)\n",
    "N = configs[n_conf]['N']\n",
    "M_type = configs[n_conf]['M_type']"
   ]
  },
  {
   "cell_type": "code",
   "execution_count": 17,
   "metadata": {
    "collapsed": false
   },
   "outputs": [
    {
     "name": "stdout",
     "output_type": "stream",
     "text": [
      "Running network 0\n"
     ]
    }
   ],
   "source": [
    "runner = t2p4_runner(configs)\n",
    "times, data, _  = runner.run_net((0,10))\n",
    "\n",
    "data = np.array(data)\n",
    "pops = runner.pops[0]\n",
    "for name in pops:\n",
    "    exec(name + '=' + str(pops[name]))"
   ]
  },
  {
   "cell_type": "code",
   "execution_count": 9,
   "metadata": {
    "collapsed": true
   },
   "outputs": [],
   "source": [
    "n_conf = 2\n",
    "times, data, _ = all_data[n_conf]\n",
    "for name in runna.pops[n_conf]:\n",
    "    exec(name + '=' + str(runna.pops[n_conf][name]))\n",
    "data = np.array(data)\n",
    "N = configs[n_conf]['N']\n",
    "M_type = configs[n_conf]['M_type']"
   ]
  },
  {
   "cell_type": "code",
   "execution_count": 12,
   "metadata": {
    "collapsed": false
   },
   "outputs": [
    {
     "name": "stdout",
     "output_type": "stream",
     "text": [
      "Execution time is 27.206228256225586 seconds\n"
     ]
    }
   ],
   "source": [
    "N = 2\n",
    "M_type = 'am2D'\n",
    "M__P_type = 'identity'\n",
    "track_SPF__M_w = True\n",
    "\n",
    "params = {\n",
    "    'N' : N, # size of each population\n",
    "    't_pres' : 80., # duration of each pattern presentation\n",
    "    'M__P_type' : M__P_type, # type of M__P connections. See M__P_mats below\n",
    "    'M_type' : M_type, # \"am_pm\", \"am\", \"am2D\"\n",
    "    'SPF__M_syn_type' : synapse_types.rga_ge, # not much choice here\n",
    "    'om_var' : 1., # increases omega frequency heterogeneity\n",
    "    'track_SPF__M_w' : True # whether to track SPF__M weight for 1 M(E|I) unit\n",
    "    }\n",
    "\n",
    "#net, pops = create_t2p4_net(params)\n",
    "net, pops = create_t2p4_net(configs[0])\n",
    "sim_time = 10.\n",
    "start_time = time.time()\n",
    "times, data, _  = net.run(sim_time)\n",
    "#times, data, _  = net.flat_run(sim_time)\n",
    "print('Execution time is %s seconds' % (time.time() - start_time))\n",
    "data = np.array(data)\n",
    "for name in pops:\n",
    "    exec(name + '=' + str(pops[name]))\n"
   ]
  },
  {
   "cell_type": "raw",
   "metadata": {},
   "source": [
    "sim_time = 40.\n",
    "start_time = time.time()\n",
    "times, data, _  = net.flat_run(sim_time)\n",
    "print('Execution time is %s seconds' % (time.time() - start_time))\n",
    "data = np.array(data)"
   ]
  },
  {
   "cell_type": "raw",
   "metadata": {},
   "source": [
    "import cProfile\n",
    "import pstats\n",
    "sim_time = .2\n",
    "start_time = time.time()\n",
    "#cProfile.run('times, data, _  = net.run(sim_time)', 't2p3stats')\n",
    "cProfile.run('times, data, _  = net.flat_run(sim_time)', 't2p3stats')\n",
    "#times, data, _  = net.run(sim_time)\n",
    "print('Execution time is %s seconds' % (time.time() - start_time))\n",
    "data = np.array(data)"
   ]
  },
  {
   "cell_type": "raw",
   "metadata": {},
   "source": [
    "p = pstats.Stats('t2p3stats')\n",
    "p.sort_stats('cumtime').print_stats(30)"
   ]
  },
  {
   "cell_type": "code",
   "execution_count": 51,
   "metadata": {
    "collapsed": true
   },
   "outputs": [],
   "source": [
    "# reducing the scope of the plots\n",
    "data_back = data\n",
    "times_back = times\n",
    "\n",
    "t_steps = int(1./net_params['min_delay'])\n",
    "first_idx=3*t_steps\n",
    "second_idx=int(6*t_steps)\n",
    "times = times[first_idx:second_idx]\n",
    "data = data[:, first_idx:second_idx]"
   ]
  },
  {
   "cell_type": "code",
   "execution_count": 50,
   "metadata": {
    "collapsed": true
   },
   "outputs": [],
   "source": [
    "# recover the data\n",
    "data = data_back\n",
    "times = times_back"
   ]
  },
  {
   "cell_type": "code",
   "execution_count": 9,
   "metadata": {
    "collapsed": false,
    "scrolled": false
   },
   "outputs": [
    {
     "data": {
      "image/png": "[encoded data removed]",
      "text/plain": [
       "<Figure size 1008x432 with 1 Axes>"
      ]
     },
     "metadata": {},
     "output_type": "display_data"
    },
    {
     "name": "stdout",
     "output_type": "stream",
     "text": [
      "[0.31136841 0.30684083 0.31136841 0.30684083]\n"
     ]
    },
    {
     "data": {
      "image/png": "[encoded data removed]",
      "text/plain": [
       "<Figure size 1008x432 with 1 Axes>"
      ]
     },
     "metadata": {},
     "output_type": "display_data"
    },
    {
     "name": "stdout",
     "output_type": "stream",
     "text": [
      "[0.2 0.2 0.2 ... 0.2 0.2 0.2]\n"
     ]
    },
    {
     "data": {
      "image/png": "[encoded data removed]",
      "text/plain": [
       "<Figure size 1008x432 with 1 Axes>"
      ]
     },
     "metadata": {},
     "output_type": "display_data"
    },
    {
     "name": "stdout",
     "output_type": "stream",
     "text": [
      "[0.54369294 0.51173674]\n"
     ]
    },
    {
     "data": {
      "image/png": "[encoded data removed]",
      "text/plain": [
       "<Figure size 1008x432 with 1 Axes>"
      ]
     },
     "metadata": {},
     "output_type": "display_data"
    },
    {
     "name": "stdout",
     "output_type": "stream",
     "text": [
      "[0.54369294 0.51173674]\n"
     ]
    }
   ],
   "source": [
    "fs = (14,6)\n",
    "# SPF\n",
    "SPF_fig = plt.figure(figsize=fs)\n",
    "SPF_data = np.array(data[SPF1+SPF2])\n",
    "plt.plot(times, SPF_data.transpose())\n",
    "plt.title('SPF')\n",
    "plt.show()\n",
    "print(SPF_data[:,-1])\n",
    "\n",
    "# GE\n",
    "GE_fig = plt.figure(figsize=fs)\n",
    "GE_data = np.array(data[GE])\n",
    "plt.plot(times, GE_data[0])\n",
    "plt.plot(times, (1./N)*np.sum(SPF_data, axis=0), linewidth=2)\n",
    "plt.title('GE')\n",
    "plt.show()\n",
    "print(GE_data[-1])\n",
    "\n",
    "# M\n",
    "ME_fig = plt.figure(figsize=fs)\n",
    "ME_data = np.array(data[ME])\n",
    "plt.plot(times, ME_data.transpose())\n",
    "plt.title('ME')\n",
    "plt.show()\n",
    "print(ME_data[:,-1])\n",
    "\n",
    "MI_fig = plt.figure(figsize=fs)\n",
    "MI_data = np.array(data[MI])\n",
    "plt.plot(times, MI_data.transpose())\n",
    "plt.title('MI')\n",
    "plt.show()\n",
    "print(MI_data[:,-1])\n",
    "\n"
   ]
  },
  {
   "cell_type": "code",
   "execution_count": 10,
   "metadata": {
    "collapsed": false,
    "scrolled": false
   },
   "outputs": [
    {
     "data": {
      "image/png": "[encoded data removed]",
      "text/plain": [
       "<Figure size 1008x432 with 1 Axes>"
      ]
     },
     "metadata": {},
     "output_type": "display_data"
    },
    {
     "name": "stdout",
     "output_type": "stream",
     "text": [
      "[0. 0.]\n"
     ]
    },
    {
     "data": {
      "image/png": "[encoded data removed]",
      "text/plain": [
       "<Figure size 1008x432 with 1 Axes>"
      ]
     },
     "metadata": {},
     "output_type": "display_data"
    },
    {
     "name": "stdout",
     "output_type": "stream",
     "text": [
      "[0.19288352 0.19126425]\n",
      "[0.29186329 0.81136286]\n"
     ]
    },
    {
     "data": {
      "image/png": "[encoded data removed]",
      "text/plain": [
       "<Figure size 1008x432 with 1 Axes>"
      ]
     },
     "metadata": {},
     "output_type": "display_data"
    },
    {
     "data": {
      "image/png": "[encoded data removed]",
      "text/plain": [
       "<Figure size 1008x432 with 1 Axes>"
      ]
     },
     "metadata": {},
     "output_type": "display_data"
    }
   ],
   "source": [
    "fs = (14,6)\n",
    "# P\n",
    "P_fig = plt.figure(figsize=fs)\n",
    "P_data = np.array(data[P])\n",
    "plt.plot(times, P_data.transpose())\n",
    "plt.title('P')\n",
    "plt.show()\n",
    "print(P_data[:,-1])\n",
    "\n",
    "# SF\n",
    "SF_fig = plt.figure(figsize=fs)\n",
    "SF_data = np.array(data[SF])\n",
    "plt.plot(times, SF_data.transpose())\n",
    "plt.title('SF')\n",
    "plt.show()\n",
    "print(SF_data[:,-1])\n",
    "\n",
    "# SP\n",
    "SP_fig = plt.figure(figsize=fs)\n",
    "SP_data = np.array(data[SP])\n",
    "plt.plot(times, SP_data.transpose())\n",
    "plt.title('SP')\n",
    "print(SP_data[:,-1])\n",
    "\n",
    "# SP-SF\n",
    "SP_SF = SP_data - SF_data\n",
    "SP_SF_norm = np.linalg.norm(SP_SF, axis=0)\n",
    "SP_SF_fig = plt.figure(figsize=fs)\n",
    "plt.plot(times, SP_SF_norm)\n",
    "plt.title('norm of SP-SF')\n",
    "plt.show()\n"
   ]
  },
  {
   "cell_type": "code",
   "execution_count": 11,
   "metadata": {
    "collapsed": false,
    "scrolled": false
   },
   "outputs": [
    {
     "data": {
      "image/png": "[encoded data removed]",
      "text/plain": [
       "<Figure size 1008x432 with 1 Axes>"
      ]
     },
     "metadata": {},
     "output_type": "display_data"
    },
    {
     "data": {
      "image/png": "[encoded data removed]",
      "text/plain": [
       "<Figure size 1008x432 with 1 Axes>"
      ]
     },
     "metadata": {},
     "output_type": "display_data"
    },
    {
     "data": {
      "image/png": "[encoded data removed]",
      "text/plain": [
       "<Figure size 2217.6x950.4 with 4 Axes>"
      ]
     },
     "metadata": {},
     "output_type": "display_data"
    }
   ],
   "source": [
    "# state var trackers\n",
    "M_track_fig = plt.figure(figsize=fs)\n",
    "track_data = np.array(data[M_track])\n",
    "plt.plot(times, data[M_track[0]])\n",
    "plt.plot(times, data[M_track[1]])\n",
    "if M_type == \"am\":\n",
    "    plt.plot(times, data[M_track[2]])\n",
    "elif M_type == \"am_pm\":\n",
    "    plt.plot(times, data[M_track[3]])\n",
    "if M_type == \"am2D\":\n",
    "    plt.legend(['u','c'])\n",
    "else:\n",
    "    plt.legend(['u','c','I'])\n",
    "#plt.plot(times, track_data.trose())\n",
    "#plt.plot(times, data[ME[0],:],'r')\n",
    "plt.title(' state vars sample')\n",
    "\n",
    "# weight tracking\n",
    "W_fig1 = plt.figure(figsize=fs)\n",
    "w_track_data1 = np.array(data[SPF__M_track[0:N]])\n",
    "w_track_data2 = np.array(data[SPF__M_track[N:]])\n",
    "plt.plot(times, w_track_data1.transpose())\n",
    "SPF__M_legends1 = ['SPF1['+str(i)+']--M' for i in range(N)]\n",
    "plt.plot(times, w_track_data2.transpose())\n",
    "SPF__M_legends2 = ['SPF2['+str(i)+']--M' for i in range(N)]\n",
    "plt.legend(SPF__M_legends1+SPF__M_legends2)\n",
    "plt.title('SPF--M weights')\n",
    "\n",
    "# joint plot\n",
    "joint_fig, axs = plt.subplots(2, 2, figsize=(2.2*fs[0], 2.2*fs[1]))\n",
    "axs[0][0].plot(times, SPF_data.transpose(), linewidth=2)\n",
    "axs[0][0].set_title('SPF')\n",
    "axs[0][1].plot(times, GE_data[0])\n",
    "axs[0][1].set_title('GE')\n",
    "axs[1][0].plot(times, ME_data.transpose())\n",
    "axs[1][0].plot(times, MI_data.transpose())\n",
    "axs[1][0].set_title('ME, MI')\n",
    "axs[1][1].plot(times, SP_data.transpose())\n",
    "axs[1][1].plot(times, SF_data.transpose())\n",
    "axs[1][1].set_title('SP, SF')\n",
    "\n",
    "plt.show()"
   ]
  },
  {
   "cell_type": "code",
   "execution_count": 11,
   "metadata": {
    "collapsed": false
   },
   "outputs": [
    {
     "ename": "NameError",
     "evalue": "name 'runna' is not defined",
     "output_type": "error",
     "traceback": [
      "\u001b[0;31m---------------------------------------------------------------------------\u001b[0m",
      "\u001b[0;31mNameError\u001b[0m                                 Traceback (most recent call last)",
      "\u001b[0;32m<ipython-input-11-78fdfe04ca52>\u001b[0m in \u001b[0;36m<module>\u001b[0;34m()\u001b[0m\n\u001b[1;32m      1\u001b[0m \u001b[0mm_id\u001b[0m \u001b[0;34m=\u001b[0m \u001b[0;36m0\u001b[0m\u001b[0;34m\u001b[0m\u001b[0m\n\u001b[0;32m----> 2\u001b[0;31m \u001b[0mnet\u001b[0m \u001b[0;34m=\u001b[0m \u001b[0mrunna\u001b[0m\u001b[0;34m.\u001b[0m\u001b[0mnets\u001b[0m\u001b[0;34m[\u001b[0m\u001b[0mn_conf\u001b[0m\u001b[0;34m]\u001b[0m\u001b[0;34m\u001b[0m\u001b[0m\n\u001b[0m\u001b[1;32m      3\u001b[0m \u001b[0;32mfor\u001b[0m \u001b[0midx\u001b[0m\u001b[0;34m,\u001b[0m \u001b[0msyn\u001b[0m \u001b[0;32min\u001b[0m \u001b[0menumerate\u001b[0m\u001b[0;34m(\u001b[0m\u001b[0mnet\u001b[0m\u001b[0;34m.\u001b[0m\u001b[0msyns\u001b[0m\u001b[0;34m[\u001b[0m\u001b[0mME\u001b[0m\u001b[0;34m[\u001b[0m\u001b[0mm_id\u001b[0m\u001b[0;34m]\u001b[0m\u001b[0;34m]\u001b[0m\u001b[0;34m)\u001b[0m\u001b[0;34m:\u001b[0m\u001b[0;34m\u001b[0m\u001b[0m\n\u001b[1;32m      4\u001b[0m     \u001b[0mpre_id\u001b[0m \u001b[0;34m=\u001b[0m \u001b[0msyn\u001b[0m\u001b[0;34m.\u001b[0m\u001b[0mpreID\u001b[0m\u001b[0;34m\u001b[0m\u001b[0m\n\u001b[1;32m      5\u001b[0m     \u001b[0mpre_type\u001b[0m \u001b[0;34m=\u001b[0m \u001b[0mnet\u001b[0m\u001b[0;34m.\u001b[0m\u001b[0munits\u001b[0m\u001b[0;34m[\u001b[0m\u001b[0mpre_id\u001b[0m\u001b[0;34m]\u001b[0m\u001b[0;34m.\u001b[0m\u001b[0mtype\u001b[0m\u001b[0;34m\u001b[0m\u001b[0m\n",
      "\u001b[0;31mNameError\u001b[0m: name 'runna' is not defined"
     ]
    }
   ],
   "source": [
    "m_id = 0\n",
    "net = runna.nets[n_conf]\n",
    "for idx, syn in enumerate(net.syns[ME[m_id]]):\n",
    "    pre_id = syn.preID\n",
    "    pre_type = net.units[pre_id].type\n",
    "    if pre_id in SPF1:\n",
    "        pre_pop = 'SPF1'\n",
    "    elif pre_id in SPF2:\n",
    "        pre_pop = 'SPF2'\n",
    "    elif pre_id in MI:\n",
    "        pre_pop = 'MI'\n",
    "    elif pre_id in ME:\n",
    "        pre_pop = 'ME'\n",
    "    elif pre_id in GE:\n",
    "        pre_pop = 'GE'\n",
    "    else:\n",
    "        pre_pop = 'erroneous'\n",
    "    print('%d) %s (%d) --> ME[%d], w=%f, port=%d'%(idx, pre_pop, pre_id, m_id, syn.w, syn.port))"
   ]
  },
  {
   "cell_type": "code",
   "execution_count": 26,
   "metadata": {
    "collapsed": false
   },
   "outputs": [
    {
     "name": "stdout",
     "output_type": "stream",
     "text": [
      "0) GE (0) --> MI[0], w=1.000000, port=2\n",
      "1) SPF1 (5) --> MI[0], w=0.084141, port=0\n",
      "2) SPF1 (6) --> MI[0], w=0.069115, port=0\n",
      "3) SPF2 (7) --> MI[0], w=0.083853, port=0\n",
      "4) SPF2 (8) --> MI[0], w=0.058570, port=0\n",
      "5) MI (16) --> MI[0], w=-0.005000, port=1\n",
      "6) MI (17) --> MI[0], w=-0.005000, port=1\n",
      "7) MI (18) --> MI[0], w=-0.005000, port=1\n",
      "8) ME (11) --> MI[0], w=-0.500000, port=1\n"
     ]
    }
   ],
   "source": [
    "m_id = 0\n",
    "for idx, syn in enumerate(net.syns[MI[m_id]]):\n",
    "    pre_id = syn.preID\n",
    "    pre_type = net.units[pre_id].type\n",
    "    if pre_id in SPF1:\n",
    "        pre_pop = 'SPF1'\n",
    "    elif pre_id in SPF2:\n",
    "        pre_pop = 'SPF2'\n",
    "    elif pre_id in MI:\n",
    "        pre_pop = 'MI'\n",
    "    elif pre_id in ME:\n",
    "        pre_pop = 'ME'\n",
    "    elif pre_id in GE:\n",
    "        pre_pop = 'GE'\n",
    "    else:\n",
    "        pre_pop = 'erroneous'\n",
    "    print('%d) %s (%d) --> MI[%d], w=%f, port=%d'%(idx, pre_pop, pre_id, m_id, syn.w, syn.port))"
   ]
  },
  {
   "cell_type": "code",
   "execution_count": null,
   "metadata": {
    "collapsed": true
   },
   "outputs": [],
   "source": []
  },
  {
   "cell_type": "code",
   "execution_count": null,
   "metadata": {
    "collapsed": true
   },
   "outputs": [],
   "source": []
  }
 ],
 "metadata": {
  "kernelspec": {
   "display_name": "Python 3",
   "language": "python",
   "name": "python3"
  },
  "language_info": {
   "codemirror_mode": {
    "name": "ipython",
    "version": 3
   },
   "file_extension": ".py",
   "mimetype": "text/x-python",
   "name": "python",
   "nbconvert_exporter": "python",
   "pygments_lexer": "ipython3",
   "version": "3.5.2"
  }
 },
 "nbformat": 4,
 "nbformat_minor": 2
}
