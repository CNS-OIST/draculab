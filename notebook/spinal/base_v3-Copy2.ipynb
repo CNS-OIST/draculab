{
 "cells": [
  {
   "cell_type": "markdown",
   "metadata": {},
   "source": [
    "# base_v3-Copy2.ipynb\n",
    "\n",
    "1. Testing the ability to put the hand on the target when SF = SP.  \n",
    "\n",
    "2. After succeeding in this, testing the ability of the arm to put the hand on the target using the rest lengths."
   ]
  },
  {
   "cell_type": "code",
   "execution_count": 2,
   "metadata": {},
   "outputs": [
    {
     "name": "stdout",
     "output_type": "stream",
     "text": [
      "/home/z/projects/draculab\n"
     ]
    }
   ],
   "source": [
    "%cd ../..\n",
    "import numpy as np\n",
    "import matplotlib.pyplot as plt\n",
    "import time"
   ]
  },
  {
   "cell_type": "code",
   "execution_count": 3,
   "metadata": {},
   "outputs": [],
   "source": [
    "%load_ext Cython"
   ]
  },
  {
   "cell_type": "code",
   "execution_count": 4,
   "metadata": {},
   "outputs": [],
   "source": [
    "%%cython\n",
    "from draculab import *"
   ]
  },
  {
   "cell_type": "code",
   "execution_count": 5,
   "metadata": {},
   "outputs": [],
   "source": [
    "##################################\n",
    "####### Create the network #######\n",
    "##################################\n",
    "\n",
    "# simulation control parameters\n",
    "t_pres = 25. # number of seconds to hold each set of target lengths\n",
    "rand_w = True # whether to use random weights in M->C, AF->M\n",
    "\n",
    "# First the network object, the plant, the list of coordinates\n",
    "net_params = {'min_delay' : 0.005,\n",
    "              'min_buff_size' : 10 }\n",
    "P_params = {  'type' : plant_models.bouncy_planar_arm_v3,\n",
    "          'mass1': 1.,\n",
    "          'mass2': 1.,\n",
    "          's_min' : -0.4,\n",
    "          'p1' : (-0.01, 0.04),\n",
    "          'p2' : (0.29, 0.03),\n",
    "          'p3' : (0., 0.05),\n",
    "          'p5' : (0.01, -0.05),\n",
    "          'p10': (0.29, 0.03),\n",
    "          'init_q1': 0., #0.01397067, # coords of target 5\n",
    "          'init_q2':  np.pi/2., #1.72417477,\n",
    "          'init_q1p': 0.,\n",
    "          'init_q2p': 0.,\n",
    "          'l0_e' : np.array([0.98351679, 0.99357998, 1.00744474, 1.01716027, 0.94881256, 1.04506165]), #target 5\n",
    "          'g': 0.0,\n",
    "          'mu1': 1.,\n",
    "          'mu2': 1.,\n",
    "          'l_torque' : 0.01,\n",
    "          'l_visco' : 0.01,\n",
    "          'g_e' : 10., #10.,\n",
    "          'Ia_gain' : 2.5*np.array([3.,10.,10., 3.,10.,10.]),\n",
    "          'II_gain' : 2.*np.array([3., 8., 8., 3., 8., 8.]),\n",
    "          'Ib_gain' : 1.,\n",
    "          'T_0' : 10.,\n",
    "          'k_pe_e' : 50., #.008\n",
    "          'k_se_e' : 100., #.013\n",
    "          'b_e' : 5.,\n",
    "          'g_s' : 0.02,\n",
    "          'k_pe_s' : 2., \n",
    "          'k_se_s' : 2.,\n",
    "          'g_d' : 0.01,\n",
    "          'k_pe_d' : .2, #.1,\n",
    "          'k_se_d' : 1., #2.,\n",
    "          'b_s' : .5,\n",
    "          'b_d' : 2.,#3.,\n",
    "          'l0_s': .7,\n",
    "          'l0_d': .8,\n",
    "          'fs' : 0.1,\n",
    "          'se_II' : 0.5,\n",
    "          'cd' : 0.5,\n",
    "          'cs' : 0.5,\n",
    "          'tau' : 0.1   # ficticious time constant used in create_freqs_steps\n",
    "           }\n",
    "net = network(net_params)\n",
    "P = net.create(1, P_params)\n",
    "arm = net.plants[P]\n",
    "\n",
    "# We organize the spinal connections through 4 types of symmetric relations\n",
    "# these lists are used to set intraspinal connections and test connection matrices\n",
    "antagonists = [(0,3), (1,2), (4,5)]\n",
    "part_antag = [(0,2),(0,5), (3,4), (1,3)]\n",
    "synergists = [(0,1), (0,4), (2,3), (3,5)]\n",
    "part_syne = [(1,4), (2,5)]\n",
    "self_conn = [(x,x) for x in range(6)]\n",
    "\n",
    "#~~~~~~~~~~~~~~~~~~~~~~~~~~~~~~~~~~~~~~~~~~~~~~~~~~~~~~~~~~~~~~~~~~~~~~~~~~~~\n",
    "# UNIT PARAMETER DICTIONARIES\n",
    "#~~~~~~~~~~~~~~~~~~~~~~~~~~~~~~~~~~~~~~~~~~~~~~~~~~~~~~~~~~~~~~~~~~~~~~~~~~~~\n",
    "par_heter = 0.05 # range of heterogeneity as a fraction of the original value\n",
    "#randz1 = lambda : (1. + par_heter*(np.random.rand()-0.5))\n",
    "randz6 = lambda : (1. + par_heter*(np.random.rand(6)-0.5))\n",
    "randz12 = lambda : (1. + par_heter*(np.random.rand(12)-0.5))\n",
    "randz18 = lambda : (1. + par_heter*(np.random.rand(18)-0.5))\n",
    "randz36 = lambda : (1. + par_heter*(np.random.rand(36)-0.5))\n",
    "\n",
    "ACT_params = {'type' : unit_types.act,\n",
    "              'tau_u' : 500.,\n",
    "              'gamma' : 2.,\n",
    "              'g' : 3.,\n",
    "              'theta' : 1.4,\n",
    "              'tau_slow' : 5.,\n",
    "              'y_min' : 0.1,\n",
    "              'rst_thr' : 0.1,\n",
    "              'init_val' : 0. }\n",
    "spf_sum_min = .4 # value where no corrections are needed anymore\n",
    "y_min = 1./(1. + np.exp(-ACT_params['g']*(spf_sum_min - ACT_params['theta'])))\n",
    "ACT_params['y_min'] = y_min\n",
    "\n",
    "AF_params = {'type' : unit_types.chwr_linear, #logarithmic,\n",
    "             'init_val' : [1.53142510e-08, 1.53142510e-08, 2.14399514e-08, 1.83771012e-08, # steady state for target 5\n",
    "                           1.83771012e-08, 1.83771012e-08, 1.36087648e-02, 6.25453984e-02,\n",
    "                           5.81941537e-08, 1.89042657e-02, 1.03465730e-07, 7.42461866e-02,\n",
    "                           1.51034069e-02, 9.27909442e-02, 1.10262607e-07, 5.76940569e-03,\n",
    "                           9.08933945e-08, 9.50827869e-02]*2,\n",
    "#                           [0.05, 0.05, 0.07, 0.06, 0.06, 0.06, # long-term avg afferent values\n",
    "#                            0.09, 0.06, 0.19, 0.10, 0.14, 0.07,\n",
    "#                            0.25, 0.16, 0.36, 0.29, 0.27, 0.19]*2,\n",
    "             'tau' : 0.02 * randz36(),\n",
    "             'tau_fast': 0.005,\n",
    "             'tau_slow' : 500., # using a slow value, so init_val is important\n",
    "             'delay' : 0.1,\n",
    "             'thresh' : -.01 }\n",
    "AL_params = {'type' : unit_types.sigmoidal,\n",
    "             'thresh' : 0.3 * randz6(),\n",
    "             'slope' : 2. * randz6(),\n",
    "             'init_val' : 0.1 * randz6(),\n",
    "             'tau' : 0.05 * randz6() }\n",
    "CE_params = {'type' : unit_types.gated_rga_inpsel_adapt_sig,\n",
    "             'thresh' : 0.1 * randz6(),\n",
    "             'slope' : 2. * randz6(),\n",
    "             'init_val' : 0.2 * randz6(),\n",
    "             'tau' : 0.02 * randz6(),\n",
    "             'tau_fast': 0.01,\n",
    "             'tau_mid' : 0.05,\n",
    "             'tau_slow' : 6.,\n",
    "             'custom_inp_del' : 15,\n",
    "             'integ_amp' : .5,\n",
    "             'adapt_amp' : 8.,\n",
    "             'delay' : 0.2,\n",
    "             'des_out_w_abs_sum' : 1. }\n",
    "CI_params = {'type' : unit_types.gated_rga_inpsel_adapt_sig,\n",
    "             'thresh' : .5 * randz6(),\n",
    "             'slope' : 2. * randz6(),\n",
    "             'init_val' : 0.2 * randz6(),\n",
    "             'tau' : 0.5 * randz6(), #0.02 * randz6(),\n",
    "             'tau_fast': 0.01,\n",
    "             'tau_mid' : 0.05,\n",
    "             'tau_slow' : 6.,\n",
    "             'custom_inp_del' : 15,\n",
    "             'integ_amp' : .5,\n",
    "             'adapt_amp' : 8.,\n",
    "             'delay' : 0.2,\n",
    "             'des_out_w_abs_sum' : 1. }\n",
    "M_params = {'type' : unit_types.gated_out_norm_am_sig,\n",
    "            'thresh' : 0. * randz12(),\n",
    "            'slope' : 3. * randz12(),\n",
    "            'init_val' : 0.2 * randz12(),\n",
    "            'delay' : 0.2,\n",
    "            'tau_fast': 0.01,\n",
    "            'tau_mid': 0.05,\n",
    "            'tau_slow' : 2.,\n",
    "            'tau' : 0.01 * randz12(),\n",
    "            'p0_inp' : 0.0,\n",
    "            'des_out_w_abs_sum' : 1. }\n",
    "SF_params = {'type' : unit_types.sigmoidal,\n",
    "             'thresh' : np.array([0.02, 0.03, 0.01, 0.01, 0.03, 0.03,\n",
    "                                  0.03, 0.05, 0.01, 0.00, 0.04, 0.04]),\n",
    "             'slope' : 1.5*np.array([10.37, 7.83, 9.47, 10.4, 8.70, 8.70,\n",
    "                                 9.31, 6.61, 8.56, 10.7, 7.41, 8.07]),\n",
    "             'init_val' : 0.2 * randz12(),\n",
    "             'tau' : 0.03 * randz12() } \n",
    "SP_params = {'type' : unit_types.source,\n",
    "             'init_val' : 0.5,\n",
    "             'tau_fast' : 0.02,\n",
    "             'tau_mid' : 0.1,\n",
    "             'function' : lambda t: None }\n",
    "SP_CHG_params = {'type' : unit_types.sigmoidal,\n",
    "              'thresh' : 0.3,\n",
    "              'slope' : 9.,\n",
    "              'init_val' : 0.1,\n",
    "              'tau' : 0.01 }\n",
    "SPF_params = {'type' : unit_types.sigmoidal,\n",
    "              'thresh' : 0.4 * randz12(),\n",
    "              'slope' : 6. * randz12(),\n",
    "              'init_val' : 0.3 * randz12(),\n",
    "              'tau_fast': 0.005,\n",
    "              'tau_mid': 0.05,\n",
    "              'tau_slow' : 5.,\n",
    "              'tau' : 0.02 * randz12() }\n",
    "track_params = {'type' : unit_types.source,\n",
    "                'init_val' : 0.02,\n",
    "                'function' : lambda t: None }\n",
    "\n",
    "#~~~~~~~~~~~~~~~~~~~~~~~~~~~~~~~~~~~~~~~~~~~~~~~~~~~~~~~~~~~~~~~~~~~~~~~~~~~~\n",
    "# CONNECTION DICTIONARIES\n",
    "#~~~~~~~~~~~~~~~~~~~~~~~~~~~~~~~~~~~~~~~~~~~~~~~~~~~~~~~~~~~~~~~~~~~~~~~~~~~~\n",
    "\n",
    "# ACT to CE,CI ------------------------------------------------\n",
    "ACT__CE_conn = {'rule' : \"all_to_all\",\n",
    "                'delay' : 0.02 } \n",
    "ACT__CE_syn = {'type' : synapse_types.static,\n",
    "               'inp_ports' : 4,\n",
    "               'init_w' : 1. }\n",
    "ACT__CI_conn = {'rule' : \"all_to_all\",\n",
    "                'delay' : 0.02 } \n",
    "ACT__CI_syn = {'type' : synapse_types.static,\n",
    "               'inp_ports' : 4,\n",
    "               'init_w' : 1. }\n",
    "# AF to CE, CI --------------------------------------------------\n",
    "AF__CE_conn = {'rule' : 'all_to_all',\n",
    "               'delay' : 0.02 }\n",
    "AF__CE_syn = {'type' : synapse_types.gated_inp_sel,\n",
    "              'aff_port' : 2,\n",
    "              'inp_ports' : 2,\n",
    "              'error_port' : 0,\n",
    "              'normalize' : True,\n",
    "              'w_sum' : .3,\n",
    "              'lrate' : 5.,\n",
    "              'extra_steps' : 1,\n",
    "              'init_w' : 0.05 }\n",
    "AF__CI_conn = {'rule' : 'all_to_all',\n",
    "               'delay' : 0.02 }\n",
    "AF__CI_syn = {'type' : synapse_types.gated_inp_sel,\n",
    "              'aff_port' : 2,\n",
    "              'inp_ports' : 2,\n",
    "              'error_port' : 0,\n",
    "              'normalize' : True,\n",
    "              'w_sum' : .3,\n",
    "              'lrate' : 5.,\n",
    "              'extra_steps' : 1,\n",
    "              'init_w' : 0.05 }\n",
    "# AF to M ------------------------------------------------\n",
    "## Creating a test matrix\n",
    "if not rand_w:\n",
    "    raise NotImplementedError('Non-random weights still not ready')\n",
    "    AF_M = np.zeros((6, 18))\n",
    "    def a_m_connect(A_M, pair_list, weights):\n",
    "        for pair in pair_list:\n",
    "            A_M[pair[0], 3*pair[1]] = weights[0]\n",
    "            A_M[pair[0], 3*pair[1]+1] = weights[1]\n",
    "            A_M[pair[0], 3*pair[1]+2] = weights[2]\n",
    "            A_M[pair[1], 3*pair[0]] = weights[0]\n",
    "            A_M[pair[1], 3*pair[0]+1] = weights[1]\n",
    "            A_M[pair[1], 3*pair[0]+2] = weights[2]        \n",
    "    a_m_connect(AF_M, self_conn, (0., -0.4, 0.4))\n",
    "    a_m_connect(AF_M, synergists, (0., -0.2, 0.2))\n",
    "    a_m_connect(AF_M, part_syne, (0., 0., 0.))\n",
    "    a_m_connect(AF_M, part_antag, (0., 0.2, -0.2))\n",
    "    a_m_connect(AF_M, antagonists, (0., 0.4, -0.4))\n",
    "    AF_M = AF_M.transpose()\n",
    "else:\n",
    "    AF_M = 0.2*(np.random.random((36,12)) - 0.5) # random initial connections!!!!!\n",
    "AF__M_conn = {'rule' : 'all_to_all',\n",
    "             'delay' : 0.02 }\n",
    "AF__M_syn = {'type' : synapse_types.gated_inp_sel,\n",
    "            'aff_port' : 0,\n",
    "            'error_port' : 1,\n",
    "            'normalize' : False,\n",
    "            'w_sum' : 3.,\n",
    "            'inp_ports' : 0, # afferent for out_norm_am_sig\n",
    "            'input_type' : 'pred', # if using inp_corr\n",
    "            'lrate' : 1.,\n",
    "            'extra_steps' : None, # placeholder value; filled below,\n",
    "            'init_w' : AF_M.flatten() }\n",
    "# AF to SF ------------------------------------------------\n",
    "AF__SF_conn = {'rule' : 'one_to_one',\n",
    "              'delay' : 0.02 }\n",
    "AF__SF_syn = {'type' : synapse_types.static,\n",
    "             'init_w' : 1. }\n",
    "# AL to P ------------------------------------------------\n",
    "AL__P_conn = {'inp_ports' : list(range(6)),\n",
    "             'delays': 0.01 }\n",
    "AL__P_syn = {'type': synapse_types.static,\n",
    "            'init_w' : 1. }\n",
    "# CE, CI to AL ----------------------------------------------\n",
    "CE__AL_conn = {'rule' : 'one_to_one',\n",
    "               'delay' : 0.01 }\n",
    "CE__AL_syn = {'type' : synapse_types.static,\n",
    "              'init_w' : [1., 1., 1., 1., 1., 1.] }\n",
    "CI__AL_conn = {'rule' : 'one_to_one',\n",
    "               'delay' : 0.01 }\n",
    "CI__AL_syn = {'type' : synapse_types.static,\n",
    "              'init_w' : -1. }\n",
    "# CE,CI to CE,CI  ------------------------------------------------\n",
    "CE__CI_conn = {'rule' : 'one_to_one',\n",
    "               'delay' : 0.01 }\n",
    "CI__CE_conn = {'rule' : 'one_to_one',\n",
    "               'delay' : 0.01 }\n",
    "CE__CI_syn = {'type' : synapse_types.static,\n",
    "              'inp_ports' : 1,\n",
    "              'init_w' : .4 }\n",
    "CI__CE_syn = {'type' : synapse_types.static, #static, #corr_inh,\n",
    "              'inp_ports' : 1,\n",
    "              'lrate' : .0,\n",
    "              'des_act' : 0.5,\n",
    "              'init_w' : -1.5 }\n",
    "C__C_conn = {'rule': 'one_to_one',\n",
    "             'allow_autapses' : False,\n",
    "             'delay' : 0.015 }\n",
    "C__C_syn_antag = {'type' : synapse_types.bcm, #corr_inh,\n",
    "                  'inp_ports': 1,\n",
    "                  'init_w' : 1.,\n",
    "                  'lrate' : 1.,\n",
    "                  'des_act' : 0.5 }\n",
    "C__C_syn_p_antag = {'type' : synapse_types.bcm,\n",
    "                  'inp_ports': 1,\n",
    "                  'init_w' : .4,\n",
    "                  'lrate' : 1.,\n",
    "                  'des_act' : 0.5 }\n",
    "C__C_syn_syne = {'type' : synapse_types.static,\n",
    "                 'inp_ports': 1,\n",
    "                 'lrate' : 1.,\n",
    "                 'init_w' : 1. }\n",
    "C__C_syn_p_syne = {'type' : synapse_types.static,\n",
    "                   'inp_ports': 1,\n",
    "                   'lrate' : 1.,\n",
    "                   'init_w' : 0.4 }\n",
    "# M to CE,CI ----------------------------------------------\n",
    "# creating a test matrix\n",
    "if not rand_w:\n",
    "    raise NotImplementedError('rand_w=False not yet ready')\n",
    "    M_CE = np.zeros((6, 6))\n",
    "    M_CI = np.zeros((6, 6))\n",
    "    for x in range(6):\n",
    "        M_CI[x,x] = 1.\n",
    "        for pair in antagonists:\n",
    "            if x == pair[0]:\n",
    "                M_CE[x, pair[1]] = 1.\n",
    "                M_CE[pair[1], x] = 1.\n",
    "        for pair in part_antag:\n",
    "            if x == pair[0]:\n",
    "                M_CE[x, pair[1]] = 0.4\n",
    "                M_CE[pair[1], x] = 0.4\n",
    "        for pair in synergists:\n",
    "            if x == pair[0]:\n",
    "                M_CI[x, pair[1]] = 0.5\n",
    "                M_CI[pair[1], x] = 0.5\n",
    "        for pair in part_syne:\n",
    "            if x == pair[0]:\n",
    "                M_CI[x, pair[1]] = 0.3\n",
    "                M_CI[pair[1], x] = 0.3\n",
    "else:\n",
    "    M_CE = 0.4*(np.random.random((12,6)) - 0.5) # random initial connections!!!!!\n",
    "    M_CI = 0.4*(np.random.random((12,6)) - 0.5) # random initial connections!!!!!\n",
    "M__CE_conn = {'rule': 'all_to_all',\n",
    "             'delay': 0.02 }\n",
    "M__CE_syn = {'type' : synapse_types.gated_rga,\n",
    "             'inp_ports' : 0,\n",
    "             'lrate' : 50.,\n",
    "             'w_sum' : 2.,\n",
    "             'init_w' : M_CE.flatten() }\n",
    "M__CI_conn = {'rule': 'all_to_all',\n",
    "             'delay': 0.02 }\n",
    "M__CI_syn = {'type' : synapse_types.gated_rga,\n",
    "             'inp_ports' : 0,\n",
    "             'lrate' : 50,\n",
    "             'w_sum' : 2.5,\n",
    "             'init_w' : M_CI.flatten() }\n",
    "# P to AF  ---------------------------------------------------\n",
    "idx_aff = np.arange(22,40) # indexes for afferent output in the arm\n",
    "P__AF_conn = {'port_map' : [[(p,0)] for p in idx_aff],\n",
    "             'delays' : 0.02 }\n",
    "Pe__AF_syn = {'type' : synapse_types.static,\n",
    "              'init_w' : [1.]*18 } \n",
    "Pi__AF_syn = {'type' : synapse_types.static,\n",
    "            'init_w' :  [-1.]*18 }\n",
    "# SF, SP to SPF ------------------------------------------------\n",
    "SFe__SPF_conn = {'rule' : \"one_to_one\",\n",
    "                 'delay' : 0.01 }\n",
    "SFi__SPF_conn = {'rule' : \"one_to_one\",\n",
    "                 'delay' : 0.02 }\n",
    "SFe__SPF_syn = {'type' : synapse_types.static,\n",
    "                'init_w' : 1. }\n",
    "SFi__SPF_syn = {'type' : synapse_types.static,\n",
    "                'init_w' : -1. }\n",
    "SPe__SPF_conn = {'rule' : \"one_to_one\",\n",
    "                 'delay' : 0.01 }\n",
    "SPi__SPF_conn = {'rule' : \"one_to_one\",\n",
    "                 'delay' : 0.02 }\n",
    "SPe__SPF_syn = {'type' : synapse_types.static,\n",
    "                'init_w' : 1. }\n",
    "SPi__SPF_syn = {'type' : synapse_types.static,\n",
    "               'init_w' : -1. }\n",
    "# SP to SP_CHG ------------------------------------------------\n",
    "SP__SP_CHG_conn = {'rule' : 'all_to_all',\n",
    "                    'delay' : 0.01}\n",
    "SP__SP_CHG_syn = {'type' : synapse_types.chg,\n",
    "                  'init_w' : 0.,\n",
    "                  'lrate' : 20. }\n",
    "# SP_CHG to CE, CI ------------------------------------------------\n",
    "SP_CHG__CE_conn = {'rule' : \"all_to_all\",\n",
    "                  'delay' : 0.02 }\n",
    "SP_CHG__CE_syn = {'type' : synapse_types.static,\n",
    "                  'inp_ports' : 3,\n",
    "                  'init_w' : 1. }\n",
    "SP_CHG__CI_conn = {'rule' : \"all_to_all\",\n",
    "                   'delay' : 0.02 }\n",
    "SP_CHG__CI_syn = {'type' : synapse_types.static,\n",
    "                  'inp_ports' : 3,\n",
    "                  'init_w' : 1. }\n",
    "# SP_CHG to ACT ------------------------------------------------\n",
    "SP_CHG__ACT_conn = {'rule' : \"all_to_all\",\n",
    "                   'delay' : 0.02 }\n",
    "SP_CHG__ACT_syn = {'type' : synapse_types.static,\n",
    "                  'inp_ports' : 1,\n",
    "                  'init_w' : 1. }\n",
    "# SP_CHG to M ------------------------------------------------\n",
    "SP_CHG__M_conn = {'rule' : \"all_to_all\",\n",
    "                  'delay' : 0.02 }\n",
    "SP_CHG__M_syn = {'type' : synapse_types.static,\n",
    "                  'inp_ports' : 2,\n",
    "                  'init_w' : 1. }\n",
    "# SPF to ACT ------------------------------------------------\n",
    "SPF__ACT_conn = {'rule' : \"all_to_all\",\n",
    "                 'delay' : 0.02 }\n",
    "SPF__ACT_syn = {'type' : synapse_types.static,\n",
    "                'inp_ports' : 0,\n",
    "                'init_w' : 1. }\n",
    "# SPF to M  ------------------------------------------------\n",
    "SPF__M_conn = {'rule': 'one_to_one',\n",
    "               'delay': 0.01 }\n",
    "SPF__M_syn = {'type' : synapse_types.static, #synapse_types.inp_corr,\n",
    "              'inp_ports' : 1,\n",
    "              'lrate' : 0.,\n",
    "              'input_type' : 'error', # if using inp_corr\n",
    "              'init_w' : 2. }\n",
    "\n",
    "#*************************************************************\n",
    "# Setting the right delay for AF-->M\n",
    "f = 1. # going to estimate the extra delay of error inputs wrt afferent inputs at M\n",
    "w = 2.*np.pi*f\n",
    "sf_del = np.arctan(np.mean(SF_params['tau'])*w)/w\n",
    "spf_del = np.arctan(np.mean(SPF_params['tau'])*w)/w\n",
    "delay = spf_del + sf_del + AF__SF_conn['delay'] + SFe__SPF_conn['delay']\n",
    "steps = int(round(delay/net.min_delay))\n",
    "AF_params['delay'] = AF_params['delay'] + (\n",
    "                     net_params['min_delay'] * (np.ceil(delay/net_params['min_delay']) + 1))\n",
    "AF__M_syn['extra_steps'] = steps\n",
    "#*************************************************************\n",
    "# utilitiy function for the M-->C delays used in the rga rule\n",
    "def approx_del(f):\n",
    "    \"\"\" Returns an estimate fo the optimal delay for rga learning.\n",
    "    \n",
    "        We assume that the important loop for the learning rule in the C units\n",
    "        is the one going through C-AL-P-AF-M-C.\n",
    "        We also assume the delays to/from CI are the same as the ones for CE.\n",
    "        \n",
    "        Args:\n",
    "            f : oscillation frequency of E-I pair in C, in Hertz\n",
    "        Returns:\n",
    "            2-tuple : (time_del, del_steps)\n",
    "            time_del : A float with the time delay.\n",
    "            del_steps : time delay as integer number of min_del steps.\n",
    "    \"\"\"\n",
    "    w = 2.*np.pi*f\n",
    "    al_del = np.arctan(np.mean(AL_params['tau'])*w)/w\n",
    "    p_del = np.arctan(np.mean(P_params['tau'])*w)/w\n",
    "    af_del = np.arctan(np.mean(AF_params['tau'])*w)/w\n",
    "    m_del = np.arctan(np.mean(M_params['tau'])*w)/w\n",
    "    D = [CE__AL_conn['delay'], AL__P_conn['delays'], np.mean(P__AF_conn['delays']),\n",
    "         AF__M_conn['delay'], M__CE_conn['delay'] ]\n",
    "    time_del = al_del + p_del + af_del + m_del + sum(D)\n",
    "    del_steps = int(np.ceil(time_del/net_params['min_delay']))\n",
    "    time_del = del_steps*net_params['min_delay']\n",
    "    del_steps -= 1 # because this is an index, and indexes start at 0\n",
    "    return time_del, del_steps\n",
    "# Approximating the delays for the rga rule\n",
    "time_del, del_steps = approx_del(0.65) #0.65 is approximate CE/CI frequency observed in simulations\n",
    "CE_params['delay'] = time_del\n",
    "CI_params['delay'] = time_del\n",
    "M_params['delay'] = time_del\n",
    "CE_params['custom_inp_del'] = del_steps\n",
    "CI_params['custom_inp_del'] = del_steps\n",
    "#*************************************************************\n",
    "\n",
    "#~~~~~~~~~~~~~~~~~~~~~~~~~~~~~~~~~~~~~~~~~~~~~~~~~~~~~~~~~~~~~~~~~~~~~~~~~~~~\n",
    "# CREATING UNITS\n",
    "#~~~~~~~~~~~~~~~~~~~~~~~~~~~~~~~~~~~~~~~~~~~~~~~~~~~~~~~~~~~~~~~~~~~~~~~~~~~~\n",
    "ACT = net.create(1, ACT_params)\n",
    "AF = net.create(36, AF_params)\n",
    "AL = net.create(6, AL_params)\n",
    "CE = net.create(6, CE_params)\n",
    "CI = net.create(6, CI_params)\n",
    "M = net.create(12, M_params)\n",
    "SF = net.create(12, SF_params)\n",
    "SP = net.create(12, SP_params)\n",
    "SP_CHG = net.create(1, SP_CHG_params)\n",
    "SPF = net.create(12, SPF_params)\n",
    "\n",
    "# SET THE PATTERNS IN SP -----------------------------------------------------\n",
    "# list with hand coordinates [x,y] (meters)\n",
    "hand_coords = [[0.3, 0.45], \n",
    "               [0.35, 0.4],\n",
    "               [0.4, 0.35],\n",
    "               [0.35, 0.3],\n",
    "               [0.3, 0.25],\n",
    "               [0.25, 0.3],\n",
    "               [0.2, 0.35],\n",
    "               [0.25, 0.4]]\n",
    "               #[-0.1, 0.3],\n",
    "               #[-0.1, 0.35]] # experimental extra coordinates\n",
    "# list with muscle lengths corresponding to the hand coordinates\n",
    "m_lengths = []\n",
    "for coord in hand_coords:\n",
    "    m_lengths.append(arm.coords_to_lengths(coord))\n",
    "m_lengths = np.array(m_lengths)\n",
    "#(0)(0)(0)(0)(0)(0)(0)(0)(0)(0)(0)(0)(0)(0)(0)(0)(0)(0)(0)(0)(0)(0)(0)(0)(0)(0)(0)(0)(0)(0)(0)(0)(0)(0)\n",
    "# We need to translate these lengths to corresponding SF activity levels.\n",
    "# For that it is necessary to recreate all their transformations\n",
    "# The first transformation is from length to Ia, II afferent activity.\n",
    "### OUT OF THE 36 AFFERENT SIGNALS, WE TAKE THE POSITIVE Ia AND II ###\n",
    "par = net.plants[P].m_params\n",
    "# steady state tensions in the static and dynamic bag fibers (no gamma inputs)\n",
    "Ts_ss = (par['k_se_s']/(par['k_se_s']+par['k_pe_s'])) * (\n",
    "         par['k_pe_s']*(m_lengths - par['l0_s']))\n",
    "Td_ss = (par['k_se_d']/(par['k_se_d']+par['k_pe_d'])) * (\n",
    "         par['k_pe_d']*(m_lengths - par['l0_d']))\n",
    "# steady state afferent outputs (no gamma inputs)\n",
    "Ia_ss = par['fs']*(Ts_ss/par['k_se_s']) + (1.-par['fs'])*(Td_ss/par['k_se_d'])\n",
    "II_ss = par['se_II']*(Ts_ss/par['k_se_s']) + ((1.-par['se_II'])/par['k_pe_s'])*Ts_ss\n",
    "Ia_ss *= par['Ia_gain']\n",
    "II_ss *= par['II_gain']\n",
    "Ia_II_ss = np.concatenate((Ia_ss, II_ss), axis=1)\n",
    "# Next transformation is through the chwr_linear afferent units\n",
    "Pe__AF_ws = np.array(Pe__AF_syn['init_w'][6:18])\n",
    "# time averages\n",
    "Ia_II_avgs = np.array([0.09, 0.06, 0.19, 0.10, 0.14, 0.07, 0.25, 0.16, 0.36, 0.29, 0.27, 0.19])\n",
    "# target averages\n",
    "AF_thr = np.array([net.units[u].thresh for u in AF[6:18]])\n",
    "#AF_Ia = np.maximum((Ia_ss - AF_avgs[0:6])*Pe__AF_Ia_ws - AF_thr[0:6], 0.)\n",
    "#AF_II = np.maximum((II_ss - AF_avgs[6:12])*Pe__AF_II_ws - AF_thr[6:12], 0.)\n",
    "AF_Ia_II = np.maximum((Ia_II_ss - Ia_II_avgs)*Pe__AF_ws - AF_thr, 0.)\n",
    "#(0)(0)(0)(0)(0)(0)(0)(0)(0)(0)(0)(0)(0)(0)(0)(0)(0)(0)(0)(0)(0)(0)(0)(0)(0)(0)(0)(0)(0)(0)(0)(0)(0)(0)\n",
    "# Next is from AF to SF\n",
    "SF_arg = AF__SF_syn['init_w']*AF_Ia_II\n",
    "SF_out = 1./ (1. + np.exp(-SF_params['slope']*(SF_arg - SF_params['thresh'])))\n",
    "# now we set the values in SP\n",
    "m_idxs = np.random.randint(len(hand_coords), size=1000) # index of target lengths\n",
    "m_idxs[0] = 5 # for testing\n",
    "#AF_us = [net.units[u] for u in AF]\n",
    "\n",
    "def SF_sigmo(idx, arg):\n",
    "    \"\"\" The sigmoidal function for SF unit with index SF[idx]. \"\"\"\n",
    "    return 1./ (1. + np.exp(-SF_params['slope'][idx]*(arg - SF_params['thresh'][idx])))\n",
    "\n",
    "def cur_target(t):\n",
    "    \"\"\" Returns the index of the target at time t. \"\"\"\n",
    "    return m_idxs[int(np.floor(t/t_pres))]\n",
    "\n",
    "def make_fun(idx): #-------------------------------------------------------------------------------------------<<<<\n",
    "    \"\"\" create a function for the SP unit with index 'idx'. \"\"\"\n",
    "    return lambda t: SF_sigmo(idx, AF__SF_syn['init_w'] * (\n",
    "                    max(Ia_II_ss[cur_target(t)][idx] * Pe__AF_ws[idx] - \n",
    "                    net.units[AF[6+idx]].lpf_slow_sc_inp_sum - \n",
    "                    net.units[AF[6+idx]].thresh, 0.)))\n",
    "    #return lambda t: SF_out[m_idxs[int(np.floor(t/t_pres))]][idx]\n",
    "\n",
    "for idx, u in enumerate(SP):\n",
    "    net.units[u].set_function(make_fun(idx))\n",
    "\n",
    "# tracking units\n",
    "M_CE_track = net.create(len(M), track_params) # to track weights from M to CE\n",
    "#M_CI_track = net.create(len(M), track_params) # to track weights from M to CI\n",
    "AF_M0_track = net.create(18, track_params) # to track half the weights from AF to M0\n",
    "\n",
    "xp_track = net.create(1, track_params) # del_avg_inp_deriv of C0 at port 1\n",
    "up_track = net.create(1, track_params) # to track the derivative of CE0\n",
    "sp_track = net.create(1, track_params) # avg_inp_deriv_mp for CE0 at port 0\n",
    "spj_track = net.create(1, track_params) # input derivative for MX--CE0\n",
    "\n",
    "ipx_track = net.create(12, track_params) # x coordinates of insertion points\n",
    "ipy_track = net.create(12, track_params) # y coordinates of insertion points\n",
    "\n",
    "#~~~~~~~~~~~~~~~~~~~~~~~~~~~~~~~~~~~~~~~~~~~~~~~~~~~~~~~~~~~~~~~~~~~~~~~~~~~~\n",
    "# CONNECTING\n",
    "#~~~~~~~~~~~~~~~~~~~~~~~~~~~~~~~~~~~~~~~~~~~~~~~~~~~~~~~~~~~~~~~~~~~~~~~~~~~~\n",
    "# from M to CE\n",
    "net.connect(M, CE, M__CE_conn, M__CE_syn)\n",
    "# from M to CI\n",
    "net.connect(M, CI, M__CI_conn, M__CI_syn)\n",
    "# from CE to AL\n",
    "net.connect(CE, AL, CE__AL_conn, CE__AL_syn)\n",
    "# from CI to AL\n",
    "net.connect(CI, AL, CI__AL_conn, CI__AL_syn)\n",
    "# from AL to P\n",
    "net.set_plant_inputs(AL, P, AL__P_conn, AL__P_syn)\n",
    "# from P to AF\n",
    "net.set_plant_outputs(P, AF[0:18], P__AF_conn, Pe__AF_syn)\n",
    "net.set_plant_outputs(P, AF[18:36], P__AF_conn, Pi__AF_syn)\n",
    "# from AF to SF. Only positive Ia and II are selected\n",
    "net.connect(AF[6:18], SF, AF__SF_conn, AF__SF_syn)\n",
    "# from AF to M\n",
    "net.connect(AF, M, AF__M_conn, AF__M_syn) # should be made before SPF-->M\n",
    "# from AF to CE,CI\n",
    "net.connect(AF, CE, AF__CE_conn, AF__CE_syn)\n",
    "net.connect(AF, CI, AF__CI_conn, AF__CI_syn)\n",
    "# from SF, SP to SPF\n",
    "#net.connect(SF, SPF, SFe__SPF_conn, SFe__SPF_syn) # F-P\n",
    "net.connect(SF, SPF, SFi__SPF_conn, SFi__SPF_syn)  # P-F\n",
    "#net.connect(SP, SPF, SPi__SPF_conn, SPi__SPF_syn) # F-P\n",
    "net.connect(SP, SPF, SPe__SPF_conn, SPe__SPF_syn)  # P-F\n",
    "# from SPF to M\n",
    "net.connect(SPF, M, SPF__M_conn, SPF__M_syn) # should be after AF-->M\n",
    "# from SPF to ACT\n",
    "net.connect(SPF, ACT, SPF__ACT_conn, SPF__ACT_syn)\n",
    "# from SP to SP_CHG\n",
    "net.connect(SP, SP_CHG, SP__SP_CHG_conn, SP__SP_CHG_syn)\n",
    "# from SP_CHG to CE,CI\n",
    "net.connect(SP_CHG, CE, SP_CHG__CE_conn, SP_CHG__CE_syn)\n",
    "net.connect(SP_CHG, CI, SP_CHG__CI_conn, SP_CHG__CI_syn)\n",
    "# from SP_CHG to M\n",
    "net.connect(SP_CHG, M, SP_CHG__M_conn, SP_CHG__M_syn)\n",
    "# from SP_CHG to ACT\n",
    "net.connect(SP_CHG, ACT, SP_CHG__ACT_conn, SP_CHG__ACT_syn)\n",
    "# from ACT to CE, CI\n",
    "net.connect(ACT, CE, ACT__CE_conn, ACT__CE_syn)\n",
    "net.connect(ACT, CI, ACT__CI_conn, ACT__CI_syn)\n",
    "# intraspinal connections \n",
    "# from CE to CI, and CI to CE\n",
    "net.connect(CE, CI, CE__CI_conn, CE__CI_syn)\n",
    "net.connect(CI, CE, CI__CE_conn, CI__CE_syn)\n",
    "# agonists and antagonists\n",
    "EE_syn_dicts = [C__C_syn_syne, C__C_syn_p_syne]\n",
    "EI_syn_dicts = [C__C_syn_antag, C__C_syn_p_antag]\n",
    "EE_pair_lists = [synergists, part_syne] # order should match list above\n",
    "EI_pair_lists = [antagonists, part_antag] # order should match list above\n",
    "for pair_list, syn_dict in zip(EE_pair_lists, EE_syn_dicts):\n",
    "    firsts = [CE[p[0]] for p in pair_list]\n",
    "    seconds = [CE[p[1]] for p in pair_list]\n",
    "    net.connect(firsts, seconds, C__C_conn, syn_dict)\n",
    "    net.connect(seconds, firsts, C__C_conn, syn_dict)\n",
    "for pair_list, syn_dict in zip(EI_pair_lists, EI_syn_dicts):\n",
    "    firsts = [CE[p[0]] for p in pair_list] + [CE[p[1]] for p in pair_list]\n",
    "    seconds = [CI[p[1]] for p in pair_list] + [CI[p[0]] for p in pair_list]\n",
    "    net.connect(firsts, seconds, C__C_conn, syn_dict)\n",
    "\n",
    "# SETTING UP WEIGHT TRACKING -- depends on the order of statements above!!!!!!\n",
    "# This assumes the first connections to C are M-->C\n",
    "def M_CE0_fun(idx):\n",
    "    \"\"\" Creates a function to track a weight from M to CE0. \"\"\"\n",
    "    return lambda t: net.syns[CE[0]][idx].w\n",
    "for idx in range(len(M)):\n",
    "    net.units[M_CE_track[idx]].set_function(M_CE0_fun(idx))\n",
    "# This assumes the first connections to M are AF-->M    \n",
    "def AF_M0_fun(idx):\n",
    "    \"\"\" Creates a function to track a weight from AF to M0. \"\"\"\n",
    "    return lambda t: net.syns[M[0]][idx].w\n",
    "for idx in range(18):\n",
    "    net.units[AF_M0_track[idx]].set_function(AF_M0_fun(idx))\n",
    "\n",
    "# SETTING TRACKING OF PLASTICITY FACTORS FOR MX-->CE0\n",
    "X = 0 # index of the M unit we'll monitor\n",
    "\n",
    "net.units[xp_track[0]].set_function(lambda t: net.units[CE[0]].del_avg_inp_deriv_mp[1])\n",
    "po_de = net.units[CE[0]].custom_inp_del\n",
    "net.units[up_track[0]].set_function(lambda t: net.units[CE[0]].get_lpf_fast(po_de) - \n",
    "                                    net.units[CE[0]].get_lpf_mid(po_de))\n",
    "net.units[sp_track[0]].set_function(lambda t: net.units[CE[0]].avg_inp_deriv_mp[0])\n",
    "ds = net.syns[CE[0]][0].delay_steps\n",
    "net.units[spj_track[0]].set_function(lambda t: net.units[M[X]].get_lpf_fast(ds) - \n",
    "                                     net.units[M[X]].get_lpf_mid(ds))\n",
    "# TRACKING OF INSERTION POINTS (for the arm animation)\n",
    "# make the source units track the tensions\n",
    "def create_xtracker(arm_id, idx):\n",
    "    return lambda t: net.plants[arm_id].ip[idx][0]\n",
    "def create_ytracker(arm_id, idx):\n",
    "    return lambda t: net.plants[arm_id].ip[idx][1]\n",
    "for idx, uid in enumerate(ipx_track):\n",
    "    net.units[uid].set_function(create_xtracker(P, idx))\n",
    "for idx, uid in enumerate(ipy_track):\n",
    "    net.units[uid].set_function(create_ytracker(P, idx))"
   ]
  },
  {
   "cell_type": "markdown",
   "metadata": {},
   "source": [
    "## PART 1\n",
    "For the first part, you can set the initial position at the angles corresponding to, say, target 5 (obtained using the coords_to_angs method).\n",
    "\n",
    "Next thing is to weaken the k_pe_e, k_se_e spring constants (I set them to 0.008 and 0.013 respectively). Also, viscosity is made large; I set mu1, mu2 equal to 50.\n",
    "\n",
    "Finally, you need to set target 5 as the initial target.\n",
    "\n",
    "Once this is done, upon running a simulation the SF values should become equal to the SP values."
   ]
  },
  {
   "cell_type": "markdown",
   "metadata": {},
   "source": [
    "## PART 2\n",
    "For the second part of this test, you want to start at the normal reference position q1=0, q2=pi/2, and then have the rest lengths take the arm to target 5.\n",
    "\n",
    "What needs to be done is: \n",
    "\n",
    "1. obtain the muscle lengths at target 5, \n",
    "2. Obtain the muscle lengths at the normal reference position, \n",
    "3. Use the lengths in 1 divided by the lengths in 2 in order to initialize l0_e\n",
    "4. Simulate and let things settle. Make sure to first restore the spring constants of the extrafusal muscle, and reduce viscosity. Also, set a large value for tau_u in ACT_params."
   ]
  },
  {
   "cell_type": "markdown",
   "metadata": {},
   "source": [
    "To perform part 1 you set the initial conditions at target 5, and obtain the lengths using the muscle kinematics function with the current ips and c_elbow values."
   ]
  },
  {
   "cell_type": "code",
   "execution_count": 6,
   "metadata": {},
   "outputs": [
    {
     "name": "stdout",
     "output_type": "stream",
     "text": [
      "(array([0.29521891, 0.1037328 , 0.0955746 , 0.30531756, 0.08591863,\n",
      "       0.1050274 ]), array([0., 0., 0., 0., 0., 0.]))\n"
     ]
    }
   ],
   "source": [
    "# STEP 1\n",
    "arm = net.plants[0]\n",
    "print(arm.muscle_kinematics(0., 0., arm.c_elbow, arm.ip))"
   ]
  },
  {
   "cell_type": "markdown",
   "metadata": {},
   "source": [
    "To perform part 2 you do the same, but this time q1=0, and q2=pi/2"
   ]
  },
  {
   "cell_type": "code",
   "execution_count": 5,
   "metadata": {},
   "outputs": [
    {
     "name": "stdout",
     "output_type": "stream",
     "text": [
      "(array([0.30016662, 0.10440307, 0.09486833, 0.30016662, 0.09055385,\n",
      "       0.10049876]), array([0., 0., 0., 0., 0., 0.]))\n"
     ]
    },
    {
     "data": {
      "text/plain": [
       "array([0.30016662, 0.10440307, 0.09486833, 0.30016662, 0.09055385,\n",
       "       0.10049876])"
      ]
     },
     "execution_count": 5,
     "metadata": {},
     "output_type": "execute_result"
    }
   ],
   "source": [
    "# STEP 2\n",
    "arm = net.plants[0]\n",
    "print(arm.muscle_kinematics(0., 0., arm.c_elbow, arm.ip))\n",
    "# sanity check\n",
    "arm.ref_lengths"
   ]
  },
  {
   "cell_type": "markdown",
   "metadata": {},
   "source": [
    "For step 3 you obtain the quotient, and use it to initialize l0_e"
   ]
  },
  {
   "cell_type": "code",
   "execution_count": 7,
   "metadata": {},
   "outputs": [
    {
     "data": {
      "text/plain": [
       "array([0.98351679, 0.99357998, 1.00744474, 1.01716027, 0.94881256,\n",
       "       1.04506165])"
      ]
     },
     "execution_count": 7,
     "metadata": {},
     "output_type": "execute_result"
    }
   ],
   "source": [
    "# STEP 3\n",
    "(np.array([0.29521891, 0.1037328 , 0.0955746 , 0.30531756, 0.08591863, 0.1050274 ]) /\n",
    " np.array([0.30016662, 0.10440307, 0.09486833, 0.30016662, 0.09055385, 0.10049876]))"
   ]
  },
  {
   "cell_type": "code",
   "execution_count": 65,
   "metadata": {},
   "outputs": [
    {
     "name": "stdout",
     "output_type": "stream",
     "text": [
      "Execution time is 1125.031281709671 seconds\n"
     ]
    }
   ],
   "source": [
    "# SIMULATING\n",
    "start_time = time.time()\n",
    "times, data, plant_data  = net.flat_run(400.)\n",
    "#times, data, plant_data  = net.run(40.)\n",
    "print('Execution time is %s seconds' % (time.time() - start_time))\n",
    "data = np.array(data)\n",
    "#Execution time is 8.687349319458008 seconds  << before sc_inp_sum_mp, flat_run(5.)"
   ]
  },
  {
   "cell_type": "code",
   "execution_count": 5,
   "metadata": {},
   "outputs": [
    {
     "data": {
      "text/plain": [
       "array([0.30016662, 0.10440307, 0.09486833, 0.30016662, 0.09055385,\n",
       "       0.10049876])"
      ]
     },
     "execution_count": 5,
     "metadata": {},
     "output_type": "execute_result"
    }
   ],
   "source": [
    "net.plants[0].ref_lengths"
   ]
  },
  {
   "cell_type": "code",
   "execution_count": 10,
   "metadata": {},
   "outputs": [
    {
     "data": {
      "text/plain": [
       "array([0.25961954, 0.10372716, 0.09558052, 0.33577013, 0.0596722 ,\n",
       "       0.14498514])"
      ]
     },
     "execution_count": 10,
     "metadata": {},
     "output_type": "execute_result"
    }
   ],
   "source": [
    "net.plants[0].m_params['l0_e']"
   ]
  },
  {
   "cell_type": "code",
   "execution_count": 1,
   "metadata": {},
   "outputs": [
    {
     "ename": "NameError",
     "evalue": "name 'plt' is not defined",
     "output_type": "error",
     "traceback": [
      "\u001b[0;31m---------------------------------------------------------------------------\u001b[0m",
      "\u001b[0;31mNameError\u001b[0m                                 Traceback (most recent call last)",
      "\u001b[0;32m<ipython-input-1-99c5f64fa557>\u001b[0m in \u001b[0;36m<module>\u001b[0;34m()\u001b[0m\n\u001b[1;32m      1\u001b[0m \u001b[0;31m# plotting muscle tensions\u001b[0m\u001b[0;34m\u001b[0m\u001b[0;34m\u001b[0m\u001b[0m\n\u001b[0;32m----> 2\u001b[0;31m \u001b[0mfig\u001b[0m \u001b[0;34m=\u001b[0m \u001b[0mplt\u001b[0m\u001b[0;34m.\u001b[0m\u001b[0mfigure\u001b[0m\u001b[0;34m(\u001b[0m\u001b[0mfigsize\u001b[0m\u001b[0;34m=\u001b[0m\u001b[0;34m(\u001b[0m\u001b[0;36m12\u001b[0m\u001b[0;34m,\u001b[0m\u001b[0;36m10\u001b[0m\u001b[0;34m)\u001b[0m\u001b[0;34m)\u001b[0m\u001b[0;34m\u001b[0m\u001b[0m\n\u001b[0m\u001b[1;32m      3\u001b[0m \u001b[0mplt\u001b[0m\u001b[0;34m.\u001b[0m\u001b[0mplot\u001b[0m\u001b[0;34m(\u001b[0m\u001b[0mtimes\u001b[0m\u001b[0;34m,\u001b[0m \u001b[0mplant_data\u001b[0m\u001b[0;34m[\u001b[0m\u001b[0;36m0\u001b[0m\u001b[0;34m]\u001b[0m\u001b[0;34m[\u001b[0m\u001b[0;34m:\u001b[0m\u001b[0;34m,\u001b[0m\u001b[0;36m4\u001b[0m\u001b[0;34m:\u001b[0m\u001b[0;36m10\u001b[0m\u001b[0;34m]\u001b[0m\u001b[0;34m)\u001b[0m\u001b[0;34m\u001b[0m\u001b[0m\n\u001b[1;32m      4\u001b[0m \u001b[0mplt\u001b[0m\u001b[0;34m.\u001b[0m\u001b[0mlegend\u001b[0m\u001b[0;34m(\u001b[0m\u001b[0;34m[\u001b[0m\u001b[0mstr\u001b[0m\u001b[0;34m(\u001b[0m\u001b[0mi\u001b[0m\u001b[0;34m)\u001b[0m \u001b[0;32mfor\u001b[0m \u001b[0mi\u001b[0m \u001b[0;32min\u001b[0m \u001b[0mrange\u001b[0m\u001b[0;34m(\u001b[0m\u001b[0;36m6\u001b[0m\u001b[0;34m)\u001b[0m\u001b[0;34m]\u001b[0m\u001b[0;34m)\u001b[0m\u001b[0;34m\u001b[0m\u001b[0m\n\u001b[1;32m      5\u001b[0m \u001b[0mplt\u001b[0m\u001b[0;34m.\u001b[0m\u001b[0mplot\u001b[0m\u001b[0;34m(\u001b[0m\u001b[0mtimes\u001b[0m\u001b[0;34m,\u001b[0m \u001b[0mnp\u001b[0m\u001b[0;34m.\u001b[0m\u001b[0mzeros_like\u001b[0m\u001b[0;34m(\u001b[0m\u001b[0mtimes\u001b[0m\u001b[0;34m)\u001b[0m\u001b[0;34m,\u001b[0m \u001b[0;34m'k--'\u001b[0m\u001b[0;34m)\u001b[0m\u001b[0;34m\u001b[0m\u001b[0m\n",
      "\u001b[0;31mNameError\u001b[0m: name 'plt' is not defined"
     ]
    }
   ],
   "source": [
    "# plotting muscle tensions\n",
    "fig = plt.figure(figsize=(12,10))\n",
    "plt.plot(times, plant_data[0][:,4:10])\n",
    "plt.legend([str(i) for i in range(6)])\n",
    "plt.plot(times, np.zeros_like(times), 'k--')\n",
    "plt.show()"
   ]
  },
  {
   "cell_type": "markdown",
   "metadata": {},
   "source": [
    "Searching base parameters..."
   ]
  },
  {
   "cell_type": "code",
   "execution_count": 66,
   "metadata": {},
   "outputs": [
    {
     "data": {
      "application/vnd.jupyter.widget-view+json": {
       "model_id": "bd412e797a7e4d62a88fdfc8b57cdeca",
       "version_major": 2,
       "version_minor": 0
      },
      "text/html": [
       "<p>Failed to display Jupyter Widget of type <code>FigureCanvasNbAgg</code>.</p>\n",
       "<p>\n",
       "  If you're reading this message in the Jupyter Notebook or JupyterLab Notebook, it may mean\n",
       "  that the widgets JavaScript is still loading. If this message persists, it\n",
       "  likely means that the widgets JavaScript library is either not installed or\n",
       "  not enabled. See the <a href=\"https://ipywidgets.readthedocs.io/en/stable/user_install.html\">Jupyter\n",
       "  Widgets Documentation</a> for setup instructions.\n",
       "</p>\n",
       "<p>\n",
       "  If you're reading this message in another frontend (for example, a static\n",
       "  rendering on GitHub or <a href=\"https://nbviewer.jupyter.org/\">NBViewer</a>),\n",
       "  it may mean that your frontend doesn't currently support widgets.\n",
       "</p>\n"
      ],
      "text/plain": [
       "FigureCanvasNbAgg()"
      ]
     },
     "metadata": {},
     "output_type": "display_data"
    },
    {
     "name": "stdout",
     "output_type": "stream",
     "text": [
      "[0.08951276 0.06166245 0.28545657 0.08277761 0.23228841 0.06410654\n",
      " 0.07966272 0.06700421 0.40829182 0.07974153 0.30583679 0.07035976]\n"
     ]
    },
    {
     "data": {
      "application/vnd.jupyter.widget-view+json": {
       "model_id": "f058a133a977452683e095495e028240",
       "version_major": 2,
       "version_minor": 0
      },
      "text/html": [
       "<p>Failed to display Jupyter Widget of type <code>FigureCanvasNbAgg</code>.</p>\n",
       "<p>\n",
       "  If you're reading this message in the Jupyter Notebook or JupyterLab Notebook, it may mean\n",
       "  that the widgets JavaScript is still loading. If this message persists, it\n",
       "  likely means that the widgets JavaScript library is either not installed or\n",
       "  not enabled. See the <a href=\"https://ipywidgets.readthedocs.io/en/stable/user_install.html\">Jupyter\n",
       "  Widgets Documentation</a> for setup instructions.\n",
       "</p>\n",
       "<p>\n",
       "  If you're reading this message in another frontend (for example, a static\n",
       "  rendering on GitHub or <a href=\"https://nbviewer.jupyter.org/\">NBViewer</a>),\n",
       "  it may mean that your frontend doesn't currently support widgets.\n",
       "</p>\n"
      ],
      "text/plain": [
       "FigureCanvasNbAgg()"
      ]
     },
     "metadata": {},
     "output_type": "display_data"
    },
    {
     "name": "stdout",
     "output_type": "stream",
     "text": [
      "[0.08989203 0.0612393  0.28679444 0.08212534 0.23232761 0.06437027\n",
      " 0.07965659 0.06708913 0.41171373 0.07983291 0.3062903  0.06977641]\n"
     ]
    },
    {
     "data": {
      "application/vnd.jupyter.widget-view+json": {
       "model_id": "2a7bb38c88df4733985b760532e8a372",
       "version_major": 2,
       "version_minor": 0
      },
      "text/html": [
       "<p>Failed to display Jupyter Widget of type <code>FigureCanvasNbAgg</code>.</p>\n",
       "<p>\n",
       "  If you're reading this message in the Jupyter Notebook or JupyterLab Notebook, it may mean\n",
       "  that the widgets JavaScript is still loading. If this message persists, it\n",
       "  likely means that the widgets JavaScript library is either not installed or\n",
       "  not enabled. See the <a href=\"https://ipywidgets.readthedocs.io/en/stable/user_install.html\">Jupyter\n",
       "  Widgets Documentation</a> for setup instructions.\n",
       "</p>\n",
       "<p>\n",
       "  If you're reading this message in another frontend (for example, a static\n",
       "  rendering on GitHub or <a href=\"https://nbviewer.jupyter.org/\">NBViewer</a>),\n",
       "  it may mean that your frontend doesn't currently support widgets.\n",
       "</p>\n"
      ],
      "text/plain": [
       "FigureCanvasNbAgg()"
      ]
     },
     "metadata": {},
     "output_type": "display_data"
    },
    {
     "name": "stderr",
     "output_type": "stream",
     "text": [
      "/home/z/.local/lib/python3.5/site-packages/matplotlib/pyplot.py:522: RuntimeWarning: More than 20 figures have been opened. Figures created through the pyplot interface (`matplotlib.pyplot.figure`) are retained until explicitly closed and may consume too much memory. (To control this warning, see the rcParam `figure.max_open_warning`).\n",
      "  max_open_warning, RuntimeWarning)\n"
     ]
    },
    {
     "data": {
      "application/vnd.jupyter.widget-view+json": {
       "model_id": "256868a6108846d0a0153e94547c184f",
       "version_major": 2,
       "version_minor": 0
      },
      "text/html": [
       "<p>Failed to display Jupyter Widget of type <code>FigureCanvasNbAgg</code>.</p>\n",
       "<p>\n",
       "  If you're reading this message in the Jupyter Notebook or JupyterLab Notebook, it may mean\n",
       "  that the widgets JavaScript is still loading. If this message persists, it\n",
       "  likely means that the widgets JavaScript library is either not installed or\n",
       "  not enabled. See the <a href=\"https://ipywidgets.readthedocs.io/en/stable/user_install.html\">Jupyter\n",
       "  Widgets Documentation</a> for setup instructions.\n",
       "</p>\n",
       "<p>\n",
       "  If you're reading this message in another frontend (for example, a static\n",
       "  rendering on GitHub or <a href=\"https://nbviewer.jupyter.org/\">NBViewer</a>),\n",
       "  it may mean that your frontend doesn't currently support widgets.\n",
       "</p>\n"
      ],
      "text/plain": [
       "FigureCanvasNbAgg()"
      ]
     },
     "metadata": {},
     "output_type": "display_data"
    },
    {
     "data": {
      "application/vnd.jupyter.widget-view+json": {
       "model_id": "3095c9603dcd4798ac5a92112800fb4a",
       "version_major": 2,
       "version_minor": 0
      },
      "text/html": [
       "<p>Failed to display Jupyter Widget of type <code>FigureCanvasNbAgg</code>.</p>\n",
       "<p>\n",
       "  If you're reading this message in the Jupyter Notebook or JupyterLab Notebook, it may mean\n",
       "  that the widgets JavaScript is still loading. If this message persists, it\n",
       "  likely means that the widgets JavaScript library is either not installed or\n",
       "  not enabled. See the <a href=\"https://ipywidgets.readthedocs.io/en/stable/user_install.html\">Jupyter\n",
       "  Widgets Documentation</a> for setup instructions.\n",
       "</p>\n",
       "<p>\n",
       "  If you're reading this message in another frontend (for example, a static\n",
       "  rendering on GitHub or <a href=\"https://nbviewer.jupyter.org/\">NBViewer</a>),\n",
       "  it may mean that your frontend doesn't currently support widgets.\n",
       "</p>\n"
      ],
      "text/plain": [
       "FigureCanvasNbAgg()"
      ]
     },
     "metadata": {},
     "output_type": "display_data"
    }
   ],
   "source": [
    "arm_activs = plant_data[P]\n",
    "# SPF\n",
    "fs = (12,6)\n",
    "SPF_fig = plt.figure(figsize=fs)\n",
    "SPF_data = np.array(data[SPF])\n",
    "plt.plot(times, SPF_data.transpose())\n",
    "SPF_legends = ['SPF'+str(i) for i in range(len(SPF))]\n",
    "plt.legend(SPF_legends)\n",
    "plt.title('SPF')\n",
    "print(SPF_data[:,-1])\n",
    "\n",
    "# M\n",
    "M_fig = plt.figure(figsize=fs)\n",
    "M_data = np.array(data[M])\n",
    "plt.plot(times, M_data.transpose())\n",
    "M_legends = ['M'+str(i) for i in range(len(M))]\n",
    "plt.legend(M_legends)\n",
    "plt.title('M')\n",
    "print(M_data[:,-1])\n",
    "\n",
    "# C\n",
    "C_fig = plt.figure(figsize=fs)\n",
    "CE_data = np.array(data[CE])\n",
    "CI_data = np.array(data[CI])\n",
    "plt.plot(times, CE_data.transpose(), linewidth=2)\n",
    "plt.plot(times, CI_data.transpose(), '--')\n",
    "C_legends = ['CE'+str(i) for i in range(len(CE))]\n",
    "C_legends += ['CI'+str(i) for i in range(len(CI))]\n",
    "plt.legend(C_legends)\n",
    "plt.title('C')\n",
    "\n",
    "# M--CE0 weights\n",
    "W_fig1 = plt.figure(figsize=fs)\n",
    "w_track_data = np.array(data[M_CE_track])\n",
    "plt.plot(times, w_track_data.transpose())\n",
    "M_CE0_legends = ['M'+str(i)+'--CE0' for i in range(len(M_CE_track))]\n",
    "plt.legend(M_CE0_legends)\n",
    "plt.title('M--CE0 weights')\n",
    "\n",
    "# AF--M0 weights\n",
    "W_fig2 = plt.figure(figsize=fs)\n",
    "w_track_data2 = np.array(data[AF_M0_track])\n",
    "plt.plot(times, w_track_data2.transpose())\n",
    "AF_M0_legends = ['AF'+str(i)+'--M0' for i in range(len(AF_M0_track))]\n",
    "plt.legend(AF_M0_legends)\n",
    "plt.title('AF--M0 weights')\n",
    "\n",
    "plt.show()"
   ]
  },
  {
   "cell_type": "code",
   "execution_count": 67,
   "metadata": {},
   "outputs": [
    {
     "name": "stderr",
     "output_type": "stream",
     "text": [
      "/home/z/.local/lib/python3.5/site-packages/matplotlib/pyplot.py:522: RuntimeWarning: More than 20 figures have been opened. Figures created through the pyplot interface (`matplotlib.pyplot.figure`) are retained until explicitly closed and may consume too much memory. (To control this warning, see the rcParam `figure.max_open_warning`).\n",
      "  max_open_warning, RuntimeWarning)\n"
     ]
    },
    {
     "data": {
      "application/vnd.jupyter.widget-view+json": {
       "model_id": "48be76d2ccb74a22a90c24ff9a07fad2",
       "version_major": 2,
       "version_minor": 0
      },
      "text/html": [
       "<p>Failed to display Jupyter Widget of type <code>FigureCanvasNbAgg</code>.</p>\n",
       "<p>\n",
       "  If you're reading this message in the Jupyter Notebook or JupyterLab Notebook, it may mean\n",
       "  that the widgets JavaScript is still loading. If this message persists, it\n",
       "  likely means that the widgets JavaScript library is either not installed or\n",
       "  not enabled. See the <a href=\"https://ipywidgets.readthedocs.io/en/stable/user_install.html\">Jupyter\n",
       "  Widgets Documentation</a> for setup instructions.\n",
       "</p>\n",
       "<p>\n",
       "  If you're reading this message in another frontend (for example, a static\n",
       "  rendering on GitHub or <a href=\"https://nbviewer.jupyter.org/\">NBViewer</a>),\n",
       "  it may mean that your frontend doesn't currently support widgets.\n",
       "</p>\n"
      ],
      "text/plain": [
       "FigureCanvasNbAgg()"
      ]
     },
     "metadata": {},
     "output_type": "display_data"
    },
    {
     "data": {
      "application/vnd.jupyter.widget-view+json": {
       "model_id": "b2e3616bd78348f893ef0c4ac4e87d9b",
       "version_major": 2,
       "version_minor": 0
      },
      "text/html": [
       "<p>Failed to display Jupyter Widget of type <code>FigureCanvasNbAgg</code>.</p>\n",
       "<p>\n",
       "  If you're reading this message in the Jupyter Notebook or JupyterLab Notebook, it may mean\n",
       "  that the widgets JavaScript is still loading. If this message persists, it\n",
       "  likely means that the widgets JavaScript library is either not installed or\n",
       "  not enabled. See the <a href=\"https://ipywidgets.readthedocs.io/en/stable/user_install.html\">Jupyter\n",
       "  Widgets Documentation</a> for setup instructions.\n",
       "</p>\n",
       "<p>\n",
       "  If you're reading this message in another frontend (for example, a static\n",
       "  rendering on GitHub or <a href=\"https://nbviewer.jupyter.org/\">NBViewer</a>),\n",
       "  it may mean that your frontend doesn't currently support widgets.\n",
       "</p>\n"
      ],
      "text/plain": [
       "FigureCanvasNbAgg()"
      ]
     },
     "metadata": {},
     "output_type": "display_data"
    }
   ],
   "source": [
    "chg_fig = plt.figure(figsize=fs)\n",
    "chg_data = np.array(data[SP_CHG])[0]\n",
    "plt.plot(times, chg_data)\n",
    "plt.title('SP_CHG')\n",
    "\n",
    "act_fig = plt.figure(figsize=fs)\n",
    "act_data = np.array(data[ACT])[0]\n",
    "plt.plot(times, act_data)\n",
    "plt.plot(times, 0.8*np.ones_like(times), 'k--')\n",
    "\n",
    "plt.title('ACT')\n",
    "plt.show()"
   ]
  },
  {
   "cell_type": "code",
   "execution_count": 68,
   "metadata": {},
   "outputs": [
    {
     "name": "stderr",
     "output_type": "stream",
     "text": [
      "/home/z/.local/lib/python3.5/site-packages/matplotlib/pyplot.py:522: RuntimeWarning: More than 20 figures have been opened. Figures created through the pyplot interface (`matplotlib.pyplot.figure`) are retained until explicitly closed and may consume too much memory. (To control this warning, see the rcParam `figure.max_open_warning`).\n",
      "  max_open_warning, RuntimeWarning)\n"
     ]
    },
    {
     "data": {
      "application/vnd.jupyter.widget-view+json": {
       "model_id": "81b25b4304c2499cb4da8931030aeec1",
       "version_major": 2,
       "version_minor": 0
      },
      "text/html": [
       "<p>Failed to display Jupyter Widget of type <code>FigureCanvasNbAgg</code>.</p>\n",
       "<p>\n",
       "  If you're reading this message in the Jupyter Notebook or JupyterLab Notebook, it may mean\n",
       "  that the widgets JavaScript is still loading. If this message persists, it\n",
       "  likely means that the widgets JavaScript library is either not installed or\n",
       "  not enabled. See the <a href=\"https://ipywidgets.readthedocs.io/en/stable/user_install.html\">Jupyter\n",
       "  Widgets Documentation</a> for setup instructions.\n",
       "</p>\n",
       "<p>\n",
       "  If you're reading this message in another frontend (for example, a static\n",
       "  rendering on GitHub or <a href=\"https://nbviewer.jupyter.org/\">NBViewer</a>),\n",
       "  it may mean that your frontend doesn't currently support widgets.\n",
       "</p>\n"
      ],
      "text/plain": [
       "FigureCanvasNbAgg()"
      ]
     },
     "metadata": {},
     "output_type": "display_data"
    },
    {
     "name": "stdout",
     "output_type": "stream",
     "text": [
      "shoulder angle: 0.028932, shoulder vel: 1.738179\n"
     ]
    },
    {
     "data": {
      "application/vnd.jupyter.widget-view+json": {
       "model_id": "663862b84546413c9b5a82f254bce434",
       "version_major": 2,
       "version_minor": 0
      },
      "text/html": [
       "<p>Failed to display Jupyter Widget of type <code>FigureCanvasNbAgg</code>.</p>\n",
       "<p>\n",
       "  If you're reading this message in the Jupyter Notebook or JupyterLab Notebook, it may mean\n",
       "  that the widgets JavaScript is still loading. If this message persists, it\n",
       "  likely means that the widgets JavaScript library is either not installed or\n",
       "  not enabled. See the <a href=\"https://ipywidgets.readthedocs.io/en/stable/user_install.html\">Jupyter\n",
       "  Widgets Documentation</a> for setup instructions.\n",
       "</p>\n",
       "<p>\n",
       "  If you're reading this message in another frontend (for example, a static\n",
       "  rendering on GitHub or <a href=\"https://nbviewer.jupyter.org/\">NBViewer</a>),\n",
       "  it may mean that your frontend doesn't currently support widgets.\n",
       "</p>\n"
      ],
      "text/plain": [
       "FigureCanvasNbAgg()"
      ]
     },
     "metadata": {},
     "output_type": "display_data"
    },
    {
     "name": "stdout",
     "output_type": "stream",
     "text": [
      "AFe_data:\n",
      "[0.00731519 0.00763415 0.00780976 0.00662628 0.00883288 0.00774307\n",
      " 0.01058022 0.0129337  0.00739116 0.00986817 0.00908461 0.0112392\n",
      " 0.01172879 0.01497293 0.00585818 0.00958457 0.00963282 0.01123656]\n"
     ]
    },
    {
     "data": {
      "application/vnd.jupyter.widget-view+json": {
       "model_id": "a1383fc9bd2c42cb9cb31f76aceb5c92",
       "version_major": 2,
       "version_minor": 0
      },
      "text/html": [
       "<p>Failed to display Jupyter Widget of type <code>FigureCanvasNbAgg</code>.</p>\n",
       "<p>\n",
       "  If you're reading this message in the Jupyter Notebook or JupyterLab Notebook, it may mean\n",
       "  that the widgets JavaScript is still loading. If this message persists, it\n",
       "  likely means that the widgets JavaScript library is either not installed or\n",
       "  not enabled. See the <a href=\"https://ipywidgets.readthedocs.io/en/stable/user_install.html\">Jupyter\n",
       "  Widgets Documentation</a> for setup instructions.\n",
       "</p>\n",
       "<p>\n",
       "  If you're reading this message in another frontend (for example, a static\n",
       "  rendering on GitHub or <a href=\"https://nbviewer.jupyter.org/\">NBViewer</a>),\n",
       "  it may mean that your frontend doesn't currently support widgets.\n",
       "</p>\n"
      ],
      "text/plain": [
       "FigureCanvasNbAgg()"
      ]
     },
     "metadata": {},
     "output_type": "display_data"
    },
    {
     "name": "stdout",
     "output_type": "stream",
     "text": [
      "AFi_data:\n",
      "[0.01268481 0.01236585 0.01219024 0.01337372 0.01116712 0.01225693\n",
      " 0.00935217 0.00675561 0.01260884 0.01003792 0.01091539 0.00839198\n",
      " 0.00819618 0.00456613 0.01414182 0.01038677 0.01036718 0.00829112]\n"
     ]
    },
    {
     "data": {
      "application/vnd.jupyter.widget-view+json": {
       "model_id": "356f2695d56a4497b24de52fdf0a9a15",
       "version_major": 2,
       "version_minor": 0
      },
      "text/html": [
       "<p>Failed to display Jupyter Widget of type <code>FigureCanvasNbAgg</code>.</p>\n",
       "<p>\n",
       "  If you're reading this message in the Jupyter Notebook or JupyterLab Notebook, it may mean\n",
       "  that the widgets JavaScript is still loading. If this message persists, it\n",
       "  likely means that the widgets JavaScript library is either not installed or\n",
       "  not enabled. See the <a href=\"https://ipywidgets.readthedocs.io/en/stable/user_install.html\">Jupyter\n",
       "  Widgets Documentation</a> for setup instructions.\n",
       "</p>\n",
       "<p>\n",
       "  If you're reading this message in another frontend (for example, a static\n",
       "  rendering on GitHub or <a href=\"https://nbviewer.jupyter.org/\">NBViewer</a>),\n",
       "  it may mean that your frontend doesn't currently support widgets.\n",
       "</p>\n"
      ],
      "text/plain": [
       "FigureCanvasNbAgg()"
      ]
     },
     "metadata": {},
     "output_type": "display_data"
    },
    {
     "name": "stdout",
     "output_type": "stream",
     "text": [
      "SF = \n",
      "[0.46343636 0.45005448 0.49073877 0.49948362 0.43219195 0.43908907\n",
      " 0.43656374 0.41404017 0.48670651 0.53837114 0.41642857 0.41380272]\n",
      "SP = \n",
      "[0.45894552 0.41281267 0.74254768 0.50038917 0.63458289 0.40335626\n",
      " 0.42733173 0.37853995 0.82244206 0.54182328 0.68467508 0.38126085]\n",
      "SP - SF\n",
      "[-0.00449084 -0.03724181  0.25180891  0.00090555  0.20239094 -0.03573281\n",
      " -0.00923201 -0.03550022  0.33573554  0.00345214  0.26824651 -0.03254187]\n"
     ]
    }
   ],
   "source": [
    "# P\n",
    "P_fig = plt.figure(figsize=fs)\n",
    "P_state = plant_data[P][:,0:4:2]\n",
    "plt.plot(times, P_state)\n",
    "#plt.legend(['sh ang', 'sh ang vel', 'elb ang', 'elb ang vel'])\n",
    "plt.legend(['sh ang', 'elb ang',])\n",
    "plt.title('double pendulum state variables')\n",
    "print(\"shoulder angle: %f, shoulder vel: %f\" % (P_state[-1,0],P_state[-1,1]))\n",
    "\n",
    "# AF plus\n",
    "AFe_fig = plt.figure(figsize=fs)\n",
    "AFe_data = np.array(data[AF[0:18]])\n",
    "plt.plot(times, AFe_data.transpose())\n",
    "AF_legends = ['Ib' + str(i) for i in range(6)] + \\\n",
    "             ['Ia' + str(i) for i in range(6)] + \\\n",
    "             ['II' + str(i) for i in range(6)]\n",
    "plt.legend(AF_legends)\n",
    "plt.title('AF excited')\n",
    "print('AFe_data:')\n",
    "print(AFe_data[:,-1])\n",
    "\n",
    "# AF minus\n",
    "AFi_fig = plt.figure(figsize=fs)\n",
    "AFi_data = np.array(data[AF[18:36]])\n",
    "plt.plot(times, AFi_data.transpose())\n",
    "AF_legends = ['Ib' + str(i) for i in range(6)] + \\\n",
    "             ['Ia' + str(i) for i in range(6)] + \\\n",
    "             ['II' + str(i) for i in range(6)]\n",
    "plt.legend(AF_legends)\n",
    "plt.title('AF inhibited')\n",
    "print('AFi_data:')\n",
    "print(AFi_data[:,-1])\n",
    "\n",
    "# SF, SP\n",
    "SF_fig, axs = plt.subplots(2, 2, figsize=(fs[0], 2.2*fs[1]))\n",
    "SF_data = np.array(data[SF])\n",
    "SP_data = np.array(data[SP])\n",
    "for row in range(2):\n",
    "    for col in range(2):\n",
    "        ax = axs[row][col]\n",
    "        base = 3*col + 6*row\n",
    "        ax.plot(times, SF_data[base:base+3, :].transpose(), linewidth=2)\n",
    "        ax.plot(times, SP_data[base:base+3, :].transpose(), '--')\n",
    "        ax.set_title('SF, SP, units %d to %d' % (base, base+2))\n",
    "        SF_legends = ['SF '+ str(base+i) for i in range(3)]\n",
    "        SP_legends = ['SP '+ str(base+i) for i in range(3)]\n",
    "        ax.legend(SF_legends + SP_legends)\n",
    "\n",
    "plt.show()\n",
    "print('SF = ')\n",
    "print(SF_data[:,-1])\n",
    "print('SP = ')\n",
    "print(SP_data[:,-1])\n",
    "print('SP - SF')\n",
    "print(SP_data[:,-1] - SF_data[:,-1])"
   ]
  },
  {
   "cell_type": "code",
   "execution_count": 69,
   "metadata": {},
   "outputs": [
    {
     "name": "stdout",
     "output_type": "stream",
     "text": [
      "X=0\n"
     ]
    },
    {
     "name": "stderr",
     "output_type": "stream",
     "text": [
      "/home/z/.local/lib/python3.5/site-packages/matplotlib/pyplot.py:522: RuntimeWarning: More than 20 figures have been opened. Figures created through the pyplot interface (`matplotlib.pyplot.figure`) are retained until explicitly closed and may consume too much memory. (To control this warning, see the rcParam `figure.max_open_warning`).\n",
      "  max_open_warning, RuntimeWarning)\n"
     ]
    },
    {
     "data": {
      "application/vnd.jupyter.widget-view+json": {
       "model_id": "575ee0dacf014160a0d0e960431ae7cf",
       "version_major": 2,
       "version_minor": 0
      },
      "text/html": [
       "<p>Failed to display Jupyter Widget of type <code>FigureCanvasNbAgg</code>.</p>\n",
       "<p>\n",
       "  If you're reading this message in the Jupyter Notebook or JupyterLab Notebook, it may mean\n",
       "  that the widgets JavaScript is still loading. If this message persists, it\n",
       "  likely means that the widgets JavaScript library is either not installed or\n",
       "  not enabled. See the <a href=\"https://ipywidgets.readthedocs.io/en/stable/user_install.html\">Jupyter\n",
       "  Widgets Documentation</a> for setup instructions.\n",
       "</p>\n",
       "<p>\n",
       "  If you're reading this message in another frontend (for example, a static\n",
       "  rendering on GitHub or <a href=\"https://nbviewer.jupyter.org/\">NBViewer</a>),\n",
       "  it may mean that your frontend doesn't currently support widgets.\n",
       "</p>\n"
      ],
      "text/plain": [
       "FigureCanvasNbAgg()"
      ]
     },
     "metadata": {},
     "output_type": "display_data"
    },
    {
     "data": {
      "application/vnd.jupyter.widget-view+json": {
       "model_id": "9a38e4608cc345f2a28fd888509288dc",
       "version_major": 2,
       "version_minor": 0
      },
      "text/html": [
       "<p>Failed to display Jupyter Widget of type <code>FigureCanvasNbAgg</code>.</p>\n",
       "<p>\n",
       "  If you're reading this message in the Jupyter Notebook or JupyterLab Notebook, it may mean\n",
       "  that the widgets JavaScript is still loading. If this message persists, it\n",
       "  likely means that the widgets JavaScript library is either not installed or\n",
       "  not enabled. See the <a href=\"https://ipywidgets.readthedocs.io/en/stable/user_install.html\">Jupyter\n",
       "  Widgets Documentation</a> for setup instructions.\n",
       "</p>\n",
       "<p>\n",
       "  If you're reading this message in another frontend (for example, a static\n",
       "  rendering on GitHub or <a href=\"https://nbviewer.jupyter.org/\">NBViewer</a>),\n",
       "  it may mean that your frontend doesn't currently support widgets.\n",
       "</p>\n"
      ],
      "text/plain": [
       "FigureCanvasNbAgg()"
      ]
     },
     "metadata": {},
     "output_type": "display_data"
    }
   ],
   "source": [
    "# plot all factors in the MX--C0 synaptic plasticity\n",
    "print('X=%d' % (X))\n",
    "fs = (20,6)\n",
    "plastic_fig = plt.figure(figsize=fs)\n",
    "xp_data = np.array(data[xp_track[0]])\n",
    "up_data = np.array(data[up_track[0]])\n",
    "sp_data = np.array(data[sp_track[0]])\n",
    "spj_data = np.array(data[spj_track[0]])\n",
    "plt.plot(times, xp_data)\n",
    "plt.plot(times, up_data)\n",
    "plt.plot(times, sp_data)\n",
    "plt.plot(times, spj_data)\n",
    "plt.legend(['xp', 'up', 'sp', 'spj'])\n",
    "\n",
    "plastic_fig2 = plt.figure(figsize=fs)\n",
    "f1 = up_data - xp_data\n",
    "f2 = sp_data - spj_data\n",
    "rule = 500. * f1 * f2\n",
    "plt.plot(times, f1)\n",
    "plt.plot(times, f2)\n",
    "plt.plot(times, rule)\n",
    "plt.plot(times, np.zeros(len(times)), 'k', linewidth=1)\n",
    "plt.legend(['up - xp', 'sp - spj', 'prod'])\n",
    "plt.show()"
   ]
  },
  {
   "cell_type": "code",
   "execution_count": 70,
   "metadata": {
    "scrolled": false
   },
   "outputs": [
    {
     "name": "stderr",
     "output_type": "stream",
     "text": [
      "/home/z/.local/lib/python3.5/site-packages/matplotlib/pyplot.py:522: RuntimeWarning: More than 20 figures have been opened. Figures created through the pyplot interface (`matplotlib.pyplot.figure`) are retained until explicitly closed and may consume too much memory. (To control this warning, see the rcParam `figure.max_open_warning`).\n",
      "  max_open_warning, RuntimeWarning)\n"
     ]
    },
    {
     "data": {
      "application/vnd.jupyter.widget-view+json": {
       "model_id": "b0bbe95c43784035b2f26724f3338f11",
       "version_major": 2,
       "version_minor": 0
      },
      "text/html": [
       "<p>Failed to display Jupyter Widget of type <code>FigureCanvasNbAgg</code>.</p>\n",
       "<p>\n",
       "  If you're reading this message in the Jupyter Notebook or JupyterLab Notebook, it may mean\n",
       "  that the widgets JavaScript is still loading. If this message persists, it\n",
       "  likely means that the widgets JavaScript library is either not installed or\n",
       "  not enabled. See the <a href=\"https://ipywidgets.readthedocs.io/en/stable/user_install.html\">Jupyter\n",
       "  Widgets Documentation</a> for setup instructions.\n",
       "</p>\n",
       "<p>\n",
       "  If you're reading this message in another frontend (for example, a static\n",
       "  rendering on GitHub or <a href=\"https://nbviewer.jupyter.org/\">NBViewer</a>),\n",
       "  it may mean that your frontend doesn't currently support widgets.\n",
       "</p>\n"
      ],
      "text/plain": [
       "FigureCanvasNbAgg()"
      ]
     },
     "metadata": {},
     "output_type": "display_data"
    },
    {
     "name": "stdout",
     "output_type": "stream",
     "text": [
      "AL_data:\n",
      "[0.08369767 0.0820833  0.07241664 0.07426796 0.08344841 0.06915241]\n"
     ]
    },
    {
     "data": {
      "application/vnd.jupyter.widget-view+json": {
       "model_id": "50da2d247642452cb14bf17e77903e17",
       "version_major": 2,
       "version_minor": 0
      },
      "text/html": [
       "<p>Failed to display Jupyter Widget of type <code>FigureCanvasNbAgg</code>.</p>\n",
       "<p>\n",
       "  If you're reading this message in the Jupyter Notebook or JupyterLab Notebook, it may mean\n",
       "  that the widgets JavaScript is still loading. If this message persists, it\n",
       "  likely means that the widgets JavaScript library is either not installed or\n",
       "  not enabled. See the <a href=\"https://ipywidgets.readthedocs.io/en/stable/user_install.html\">Jupyter\n",
       "  Widgets Documentation</a> for setup instructions.\n",
       "</p>\n",
       "<p>\n",
       "  If you're reading this message in another frontend (for example, a static\n",
       "  rendering on GitHub or <a href=\"https://nbviewer.jupyter.org/\">NBViewer</a>),\n",
       "  it may mean that your frontend doesn't currently support widgets.\n",
       "</p>\n"
      ],
      "text/plain": [
       "FigureCanvasNbAgg()"
      ]
     },
     "metadata": {},
     "output_type": "display_data"
    },
    {
     "data": {
      "application/vnd.jupyter.widget-view+json": {
       "model_id": "cc2722aff6674d76bd2520ba9dbd6875",
       "version_major": 2,
       "version_minor": 0
      },
      "text/html": [
       "<p>Failed to display Jupyter Widget of type <code>FigureCanvasNbAgg</code>.</p>\n",
       "<p>\n",
       "  If you're reading this message in the Jupyter Notebook or JupyterLab Notebook, it may mean\n",
       "  that the widgets JavaScript is still loading. If this message persists, it\n",
       "  likely means that the widgets JavaScript library is either not installed or\n",
       "  not enabled. See the <a href=\"https://ipywidgets.readthedocs.io/en/stable/user_install.html\">Jupyter\n",
       "  Widgets Documentation</a> for setup instructions.\n",
       "</p>\n",
       "<p>\n",
       "  If you're reading this message in another frontend (for example, a static\n",
       "  rendering on GitHub or <a href=\"https://nbviewer.jupyter.org/\">NBViewer</a>),\n",
       "  it may mean that your frontend doesn't currently support widgets.\n",
       "</p>\n"
      ],
      "text/plain": [
       "FigureCanvasNbAgg()"
      ]
     },
     "metadata": {},
     "output_type": "display_data"
    },
    {
     "data": {
      "application/vnd.jupyter.widget-view+json": {
       "model_id": "e9887fc04efa431f8797bc221d8475ef",
       "version_major": 2,
       "version_minor": 0
      },
      "text/html": [
       "<p>Failed to display Jupyter Widget of type <code>FigureCanvasNbAgg</code>.</p>\n",
       "<p>\n",
       "  If you're reading this message in the Jupyter Notebook or JupyterLab Notebook, it may mean\n",
       "  that the widgets JavaScript is still loading. If this message persists, it\n",
       "  likely means that the widgets JavaScript library is either not installed or\n",
       "  not enabled. See the <a href=\"https://ipywidgets.readthedocs.io/en/stable/user_install.html\">Jupyter\n",
       "  Widgets Documentation</a> for setup instructions.\n",
       "</p>\n",
       "<p>\n",
       "  If you're reading this message in another frontend (for example, a static\n",
       "  rendering on GitHub or <a href=\"https://nbviewer.jupyter.org/\">NBViewer</a>),\n",
       "  it may mean that your frontend doesn't currently support widgets.\n",
       "</p>\n"
      ],
      "text/plain": [
       "FigureCanvasNbAgg()"
      ]
     },
     "metadata": {},
     "output_type": "display_data"
    },
    {
     "data": {
      "application/vnd.jupyter.widget-view+json": {
       "model_id": "094e785a4a3f49aebfe5044174462698",
       "version_major": 2,
       "version_minor": 0
      },
      "text/html": [
       "<p>Failed to display Jupyter Widget of type <code>FigureCanvasNbAgg</code>.</p>\n",
       "<p>\n",
       "  If you're reading this message in the Jupyter Notebook or JupyterLab Notebook, it may mean\n",
       "  that the widgets JavaScript is still loading. If this message persists, it\n",
       "  likely means that the widgets JavaScript library is either not installed or\n",
       "  not enabled. See the <a href=\"https://ipywidgets.readthedocs.io/en/stable/user_install.html\">Jupyter\n",
       "  Widgets Documentation</a> for setup instructions.\n",
       "</p>\n",
       "<p>\n",
       "  If you're reading this message in another frontend (for example, a static\n",
       "  rendering on GitHub or <a href=\"https://nbviewer.jupyter.org/\">NBViewer</a>),\n",
       "  it may mean that your frontend doesn't currently support widgets.\n",
       "</p>\n"
      ],
      "text/plain": [
       "FigureCanvasNbAgg()"
      ]
     },
     "metadata": {},
     "output_type": "display_data"
    },
    {
     "data": {
      "application/vnd.jupyter.widget-view+json": {
       "model_id": "adcba6e0c3e84a25980d9e5b343e25a4",
       "version_major": 2,
       "version_minor": 0
      },
      "text/html": [
       "<p>Failed to display Jupyter Widget of type <code>FigureCanvasNbAgg</code>.</p>\n",
       "<p>\n",
       "  If you're reading this message in the Jupyter Notebook or JupyterLab Notebook, it may mean\n",
       "  that the widgets JavaScript is still loading. If this message persists, it\n",
       "  likely means that the widgets JavaScript library is either not installed or\n",
       "  not enabled. See the <a href=\"https://ipywidgets.readthedocs.io/en/stable/user_install.html\">Jupyter\n",
       "  Widgets Documentation</a> for setup instructions.\n",
       "</p>\n",
       "<p>\n",
       "  If you're reading this message in another frontend (for example, a static\n",
       "  rendering on GitHub or <a href=\"https://nbviewer.jupyter.org/\">NBViewer</a>),\n",
       "  it may mean that your frontend doesn't currently support widgets.\n",
       "</p>\n"
      ],
      "text/plain": [
       "FigureCanvasNbAgg()"
      ]
     },
     "metadata": {},
     "output_type": "display_data"
    },
    {
     "data": {
      "application/vnd.jupyter.widget-view+json": {
       "model_id": "098400c03d4f48d480f37e040f2b1798",
       "version_major": 2,
       "version_minor": 0
      },
      "text/html": [
       "<p>Failed to display Jupyter Widget of type <code>FigureCanvasNbAgg</code>.</p>\n",
       "<p>\n",
       "  If you're reading this message in the Jupyter Notebook or JupyterLab Notebook, it may mean\n",
       "  that the widgets JavaScript is still loading. If this message persists, it\n",
       "  likely means that the widgets JavaScript library is either not installed or\n",
       "  not enabled. See the <a href=\"https://ipywidgets.readthedocs.io/en/stable/user_install.html\">Jupyter\n",
       "  Widgets Documentation</a> for setup instructions.\n",
       "</p>\n",
       "<p>\n",
       "  If you're reading this message in another frontend (for example, a static\n",
       "  rendering on GitHub or <a href=\"https://nbviewer.jupyter.org/\">NBViewer</a>),\n",
       "  it may mean that your frontend doesn't currently support widgets.\n",
       "</p>\n"
      ],
      "text/plain": [
       "FigureCanvasNbAgg()"
      ]
     },
     "metadata": {},
     "output_type": "display_data"
    }
   ],
   "source": [
    "# Alpha units\n",
    "AL_fig = plt.figure(figsize=fs)\n",
    "AL_data = np.array(data[AL])\n",
    "plt.plot(times, AL_data.transpose())\n",
    "AL_legends = ['AL'+str(i) for i in range(len(AL))]\n",
    "plt.legend(AL_legends)\n",
    "plt.title('AL')\n",
    "print('AL_data:')\n",
    "print(AL_data[:,-1])\n",
    "\n",
    "# plotting muscle outputs\n",
    "fs = (20,5)\n",
    "legs = ['Ib', 'Ia', 'II']\n",
    "\n",
    "for i in range(6):\n",
    "    next_fig = plt.figure(figsize=fs)\n",
    "    Ib = arm_activs[:,22+i]\n",
    "    Ia = arm_activs[:,28+i]\n",
    "    II = arm_activs[:,34+i]\n",
    "    plt.plot(times, Ib, times, Ia, times, II)\n",
    "    #plt.plot(times, Ib)\n",
    "    plt.legend(legs)\n",
    "    plt.title('m' + str(i))\n",
    "plt.show()"
   ]
  },
  {
   "cell_type": "code",
   "execution_count": 71,
   "metadata": {},
   "outputs": [
    {
     "name": "stderr",
     "output_type": "stream",
     "text": [
      "/home/z/.local/lib/python3.5/site-packages/matplotlib/pyplot.py:522: RuntimeWarning: More than 20 figures have been opened. Figures created through the pyplot interface (`matplotlib.pyplot.figure`) are retained until explicitly closed and may consume too much memory. (To control this warning, see the rcParam `figure.max_open_warning`).\n",
      "  max_open_warning, RuntimeWarning)\n"
     ]
    },
    {
     "data": {
      "application/vnd.jupyter.widget-view+json": {
       "model_id": "c35bc2231c32466195b2519d909cddb9",
       "version_major": 2,
       "version_minor": 0
      },
      "text/html": [
       "<p>Failed to display Jupyter Widget of type <code>FigureCanvasNbAgg</code>.</p>\n",
       "<p>\n",
       "  If you're reading this message in the Jupyter Notebook or JupyterLab Notebook, it may mean\n",
       "  that the widgets JavaScript is still loading. If this message persists, it\n",
       "  likely means that the widgets JavaScript library is either not installed or\n",
       "  not enabled. See the <a href=\"https://ipywidgets.readthedocs.io/en/stable/user_install.html\">Jupyter\n",
       "  Widgets Documentation</a> for setup instructions.\n",
       "</p>\n",
       "<p>\n",
       "  If you're reading this message in another frontend (for example, a static\n",
       "  rendering on GitHub or <a href=\"https://nbviewer.jupyter.org/\">NBViewer</a>),\n",
       "  it may mean that your frontend doesn't currently support widgets.\n",
       "</p>\n"
      ],
      "text/plain": [
       "FigureCanvasNbAgg()"
      ]
     },
     "metadata": {},
     "output_type": "display_data"
    }
   ],
   "source": [
    "MD = data[M,-50000:].transpose()\n",
    "MD_diff = np.gradient(MD, axis=0) / net.min_delay\n",
    "MD_diff_means = np.tile(np.mean(MD_diff, axis=1), (12,1)).transpose()\n",
    "MD_diff_center = MD_diff - MD_diff_means\n",
    "CED = data[CE,-500:].transpose()\n",
    "CED_diff = np.gradient(CED, axis=0) / net.min_delay\n",
    "fig, axs = plt.subplots(3, 1, figsize=(20, 18))\n",
    "axs[0].plot(MD)\n",
    "axs[0].set_title('motor unit activities')\n",
    "axs[1].plot(MD_diff)\n",
    "axs[1].set_title('derivatives for motor unit activities')\n",
    "axs[1].plot(np.zeros(MD_diff.shape[0]), 'k')\n",
    "axs[2].plot(MD_diff_center)\n",
    "axs[2].set_title('centered derivatives for motor unit activities')\n",
    "axs[2].plot(np.zeros(MD_diff_center.shape[0]), 'k')\n",
    "\n",
    "\n",
    "plt.show()"
   ]
  },
  {
   "cell_type": "code",
   "execution_count": 7,
   "metadata": {},
   "outputs": [
    {
     "name": "stdout",
     "output_type": "stream",
     "text": [
      "(6000, 12)\n"
     ]
    },
    {
     "data": {
      "text/plain": [
       "array([[3.65054993e-06, 3.65054993e-06, 3.65054993e-06],\n",
       "       [3.84094093e-06, 3.84094093e-06, 3.84094093e-06],\n",
       "       [3.84098224e-06, 3.84098224e-06, 3.84098224e-06],\n",
       "       [3.46027698e-06, 3.46027698e-06, 3.46027698e-06],\n",
       "       [3.46031437e-06, 3.46031437e-06, 3.46031437e-06],\n",
       "       [3.84110617e-06, 3.84110617e-06, 3.84110617e-06],\n",
       "       [3.65076636e-06, 3.65076636e-06, 3.65076636e-06],\n",
       "       [3.46042655e-06, 3.46042655e-06, 3.46042655e-06],\n",
       "       [3.84123010e-06, 3.84123010e-06, 3.84123010e-06],\n",
       "       [3.84127141e-06, 3.84127141e-06, 3.84127141e-06]])"
      ]
     },
     "execution_count": 7,
     "metadata": {},
     "output_type": "execute_result"
    }
   ],
   "source": [
    "MD_diff_means = np.tile(MD_diff_means, (12,1))\n",
    "print(MD_diff_means.shape)\n",
    "MD_diff_means[0:10, 0:3]"
   ]
  },
  {
   "cell_type": "code",
   "execution_count": 49,
   "metadata": {
    "scrolled": false
   },
   "outputs": [
    {
     "name": "stderr",
     "output_type": "stream",
     "text": [
      "/home/z/.local/lib/python3.5/site-packages/matplotlib/pyplot.py:522: RuntimeWarning: More than 20 figures have been opened. Figures created through the pyplot interface (`matplotlib.pyplot.figure`) are retained until explicitly closed and may consume too much memory. (To control this warning, see the rcParam `figure.max_open_warning`).\n",
      "  max_open_warning, RuntimeWarning)\n"
     ]
    },
    {
     "data": {
      "application/vnd.jupyter.widget-view+json": {
       "model_id": "",
       "version_major": 2,
       "version_minor": 0
      },
      "text/html": [
       "<p>Failed to display Jupyter Widget of type <code>FigureCanvasNbAgg</code>.</p>\n",
       "<p>\n",
       "  If you're reading this message in the Jupyter Notebook or JupyterLab Notebook, it may mean\n",
       "  that the widgets JavaScript is still loading. If this message persists, it\n",
       "  likely means that the widgets JavaScript library is either not installed or\n",
       "  not enabled. See the <a href=\"https://ipywidgets.readthedocs.io/en/stable/user_install.html\">Jupyter\n",
       "  Widgets Documentation</a> for setup instructions.\n",
       "</p>\n",
       "<p>\n",
       "  If you're reading this message in another frontend (for example, a static\n",
       "  rendering on GitHub or <a href=\"https://nbviewer.jupyter.org/\">NBViewer</a>),\n",
       "  it may mean that your frontend doesn't currently support widgets.\n",
       "</p>\n"
      ],
      "text/plain": [
       "FigureCanvasNbAgg()"
      ]
     },
     "metadata": {},
     "output_type": "display_data"
    },
    {
     "name": "stdout",
     "output_type": "stream",
     "text": [
      "AL_data:\n",
      "[0.11061794 0.11382263 0.06830925 0.0755632  0.10907144 0.06795241]\n"
     ]
    },
    {
     "data": {
      "application/vnd.jupyter.widget-view+json": {
       "model_id": "",
       "version_major": 2,
       "version_minor": 0
      },
      "text/html": [
       "<p>Failed to display Jupyter Widget of type <code>FigureCanvasNbAgg</code>.</p>\n",
       "<p>\n",
       "  If you're reading this message in the Jupyter Notebook or JupyterLab Notebook, it may mean\n",
       "  that the widgets JavaScript is still loading. If this message persists, it\n",
       "  likely means that the widgets JavaScript library is either not installed or\n",
       "  not enabled. See the <a href=\"https://ipywidgets.readthedocs.io/en/stable/user_install.html\">Jupyter\n",
       "  Widgets Documentation</a> for setup instructions.\n",
       "</p>\n",
       "<p>\n",
       "  If you're reading this message in another frontend (for example, a static\n",
       "  rendering on GitHub or <a href=\"https://nbviewer.jupyter.org/\">NBViewer</a>),\n",
       "  it may mean that your frontend doesn't currently support widgets.\n",
       "</p>\n"
      ],
      "text/plain": [
       "FigureCanvasNbAgg()"
      ]
     },
     "metadata": {},
     "output_type": "display_data"
    },
    {
     "data": {
      "application/vnd.jupyter.widget-view+json": {
       "model_id": "",
       "version_major": 2,
       "version_minor": 0
      },
      "text/html": [
       "<p>Failed to display Jupyter Widget of type <code>FigureCanvasNbAgg</code>.</p>\n",
       "<p>\n",
       "  If you're reading this message in the Jupyter Notebook or JupyterLab Notebook, it may mean\n",
       "  that the widgets JavaScript is still loading. If this message persists, it\n",
       "  likely means that the widgets JavaScript library is either not installed or\n",
       "  not enabled. See the <a href=\"https://ipywidgets.readthedocs.io/en/stable/user_install.html\">Jupyter\n",
       "  Widgets Documentation</a> for setup instructions.\n",
       "</p>\n",
       "<p>\n",
       "  If you're reading this message in another frontend (for example, a static\n",
       "  rendering on GitHub or <a href=\"https://nbviewer.jupyter.org/\">NBViewer</a>),\n",
       "  it may mean that your frontend doesn't currently support widgets.\n",
       "</p>\n"
      ],
      "text/plain": [
       "FigureCanvasNbAgg()"
      ]
     },
     "metadata": {},
     "output_type": "display_data"
    },
    {
     "data": {
      "application/vnd.jupyter.widget-view+json": {
       "model_id": "",
       "version_major": 2,
       "version_minor": 0
      },
      "text/html": [
       "<p>Failed to display Jupyter Widget of type <code>FigureCanvasNbAgg</code>.</p>\n",
       "<p>\n",
       "  If you're reading this message in the Jupyter Notebook or JupyterLab Notebook, it may mean\n",
       "  that the widgets JavaScript is still loading. If this message persists, it\n",
       "  likely means that the widgets JavaScript library is either not installed or\n",
       "  not enabled. See the <a href=\"https://ipywidgets.readthedocs.io/en/stable/user_install.html\">Jupyter\n",
       "  Widgets Documentation</a> for setup instructions.\n",
       "</p>\n",
       "<p>\n",
       "  If you're reading this message in another frontend (for example, a static\n",
       "  rendering on GitHub or <a href=\"https://nbviewer.jupyter.org/\">NBViewer</a>),\n",
       "  it may mean that your frontend doesn't currently support widgets.\n",
       "</p>\n"
      ],
      "text/plain": [
       "FigureCanvasNbAgg()"
      ]
     },
     "metadata": {},
     "output_type": "display_data"
    },
    {
     "data": {
      "application/vnd.jupyter.widget-view+json": {
       "model_id": "",
       "version_major": 2,
       "version_minor": 0
      },
      "text/html": [
       "<p>Failed to display Jupyter Widget of type <code>FigureCanvasNbAgg</code>.</p>\n",
       "<p>\n",
       "  If you're reading this message in the Jupyter Notebook or JupyterLab Notebook, it may mean\n",
       "  that the widgets JavaScript is still loading. If this message persists, it\n",
       "  likely means that the widgets JavaScript library is either not installed or\n",
       "  not enabled. See the <a href=\"https://ipywidgets.readthedocs.io/en/stable/user_install.html\">Jupyter\n",
       "  Widgets Documentation</a> for setup instructions.\n",
       "</p>\n",
       "<p>\n",
       "  If you're reading this message in another frontend (for example, a static\n",
       "  rendering on GitHub or <a href=\"https://nbviewer.jupyter.org/\">NBViewer</a>),\n",
       "  it may mean that your frontend doesn't currently support widgets.\n",
       "</p>\n"
      ],
      "text/plain": [
       "FigureCanvasNbAgg()"
      ]
     },
     "metadata": {},
     "output_type": "display_data"
    },
    {
     "data": {
      "application/vnd.jupyter.widget-view+json": {
       "model_id": "",
       "version_major": 2,
       "version_minor": 0
      },
      "text/html": [
       "<p>Failed to display Jupyter Widget of type <code>FigureCanvasNbAgg</code>.</p>\n",
       "<p>\n",
       "  If you're reading this message in the Jupyter Notebook or JupyterLab Notebook, it may mean\n",
       "  that the widgets JavaScript is still loading. If this message persists, it\n",
       "  likely means that the widgets JavaScript library is either not installed or\n",
       "  not enabled. See the <a href=\"https://ipywidgets.readthedocs.io/en/stable/user_install.html\">Jupyter\n",
       "  Widgets Documentation</a> for setup instructions.\n",
       "</p>\n",
       "<p>\n",
       "  If you're reading this message in another frontend (for example, a static\n",
       "  rendering on GitHub or <a href=\"https://nbviewer.jupyter.org/\">NBViewer</a>),\n",
       "  it may mean that your frontend doesn't currently support widgets.\n",
       "</p>\n"
      ],
      "text/plain": [
       "FigureCanvasNbAgg()"
      ]
     },
     "metadata": {},
     "output_type": "display_data"
    },
    {
     "data": {
      "application/vnd.jupyter.widget-view+json": {
       "model_id": "",
       "version_major": 2,
       "version_minor": 0
      },
      "text/html": [
       "<p>Failed to display Jupyter Widget of type <code>FigureCanvasNbAgg</code>.</p>\n",
       "<p>\n",
       "  If you're reading this message in the Jupyter Notebook or JupyterLab Notebook, it may mean\n",
       "  that the widgets JavaScript is still loading. If this message persists, it\n",
       "  likely means that the widgets JavaScript library is either not installed or\n",
       "  not enabled. See the <a href=\"https://ipywidgets.readthedocs.io/en/stable/user_install.html\">Jupyter\n",
       "  Widgets Documentation</a> for setup instructions.\n",
       "</p>\n",
       "<p>\n",
       "  If you're reading this message in another frontend (for example, a static\n",
       "  rendering on GitHub or <a href=\"https://nbviewer.jupyter.org/\">NBViewer</a>),\n",
       "  it may mean that your frontend doesn't currently support widgets.\n",
       "</p>\n"
      ],
      "text/plain": [
       "FigureCanvasNbAgg()"
      ]
     },
     "metadata": {},
     "output_type": "display_data"
    }
   ],
   "source": [
    "# Alpha units\n",
    "AL_fig = plt.figure(figsize=fs)\n",
    "AL_data = np.array(data[AL])\n",
    "plt.plot(times, AL_data.transpose())\n",
    "AL_legends = ['AL'+str(i) for i in range(len(AL))]\n",
    "plt.legend(AL_legends)\n",
    "plt.title('AL')\n",
    "print('AL_data:')\n",
    "print(AL_data[:,-1])\n",
    "\n",
    "# plotting muscle outputs\n",
    "fs = (20,5)\n",
    "legs = ['Ib', 'Ia', 'II']\n",
    "\n",
    "for i in range(6):\n",
    "    next_fig = plt.figure(figsize=fs)\n",
    "    Ib = arm_activs[:,22+i]\n",
    "    Ia = arm_activs[:,28+i]\n",
    "    II = arm_activs[:,34+i]\n",
    "    plt.plot(times, Ib, times, Ia, times, II)\n",
    "    #plt.plot(times, Ib)\n",
    "    plt.legend(legs)\n",
    "    plt.title('m' + str(i))\n",
    "plt.show()"
   ]
  },
  {
   "cell_type": "code",
   "execution_count": 17,
   "metadata": {},
   "outputs": [
    {
     "name": "stdout",
     "output_type": "stream",
     "text": [
      "[0.09979727 0.11435208 0.10999472 0.10488231 0.09773674 0.12190137]\n",
      "[0.25647319 0.24521763 0.23332098 0.28478659 0.18327405 0.27523193]\n",
      "[1.96805537e-05 0.00000000e+00 1.63680811e-08 0.00000000e+00\n",
      " 1.90543069e-05 0.00000000e+00]\n"
     ]
    }
   ],
   "source": [
    "# extracting afferent means\n",
    "Ia_means = np.zeros(6)\n",
    "II_means = np.zeros(6)\n",
    "Ib_means = np.zeros(6)\n",
    "for m in range(6):\n",
    "    Ia_means[m] = np.mean(arm_activs[:,28+m])\n",
    "    II_means[m] = np.mean(arm_activs[:,34+m])\n",
    "    Ib_means[m] = np.mean(arm_activs[:,22+m])\n",
    "print(Ia_means)\n",
    "print(II_means)\n",
    "print(Ib_means)"
   ]
  },
  {
   "cell_type": "code",
   "execution_count": 7,
   "metadata": {},
   "outputs": [
    {
     "data": {
      "text/plain": [
       "array([0.09388466, 0.1141021 , 0.11025823, 0.10903265, 0.07869697,\n",
       "       0.1357043 , 0.25530681, 0.24520521, 0.23333416, 0.28560278,\n",
       "       0.18024746, 0.27742614])"
      ]
     },
     "execution_count": 7,
     "metadata": {},
     "output_type": "execute_result"
    }
   ],
   "source": [
    "Ia_II = [1.36087648e-02, 6.25453984e-02,\n",
    " 5.81941537e-08, 1.89042657e-02, 1.03465730e-07, 7.42461866e-02,\n",
    " 1.51034069e-02, 9.27909442e-02, 1.10262607e-07, 5.76940569e-03,\n",
    " 9.08933945e-08, 9.50827869e-02]\n",
    "Ia_II_ss[5,:]"
   ]
  },
  {
   "cell_type": "code",
   "execution_count": 64,
   "metadata": {},
   "outputs": [
    {
     "name": "stdout",
     "output_type": "stream",
     "text": [
      "Connections to motor units\n",
      "0) AF (1) --> M, w=0.080304, port=0, plant_out=None\n",
      "1) AF (2) --> M, w=-0.030452, port=0, plant_out=None\n",
      "2) AF (3) --> M, w=0.011378, port=0, plant_out=None\n",
      "3) AF (4) --> M, w=-0.073837, port=0, plant_out=None\n",
      "4) AF (5) --> M, w=0.048580, port=0, plant_out=None\n",
      "5) AF (6) --> M, w=0.094359, port=0, plant_out=None\n",
      "6) AF (7) --> M, w=-0.051494, port=0, plant_out=None\n",
      "7) AF (8) --> M, w=0.076937, port=0, plant_out=None\n",
      "8) AF (9) --> M, w=0.081476, port=0, plant_out=None\n",
      "9) AF (10) --> M, w=-0.063296, port=0, plant_out=None\n",
      "10) AF (11) --> M, w=0.082720, port=0, plant_out=None\n",
      "11) AF (12) --> M, w=0.043713, port=0, plant_out=None\n",
      "12) AF (13) --> M, w=-0.059007, port=0, plant_out=None\n",
      "13) AF (14) --> M, w=0.028685, port=0, plant_out=None\n",
      "14) AF (15) --> M, w=-0.068404, port=0, plant_out=None\n",
      "15) AF (16) --> M, w=0.099422, port=0, plant_out=None\n",
      "16) AF (17) --> M, w=-0.095049, port=0, plant_out=None\n",
      "17) AF (18) --> M, w=0.024177, port=0, plant_out=None\n",
      "18) AF (19) --> M, w=-0.032136, port=0, plant_out=None\n",
      "19) AF (20) --> M, w=-0.047865, port=0, plant_out=None\n",
      "20) AF (21) --> M, w=0.092793, port=0, plant_out=None\n",
      "21) AF (22) --> M, w=-0.030847, port=0, plant_out=None\n",
      "22) AF (23) --> M, w=-0.001252, port=0, plant_out=None\n",
      "23) AF (24) --> M, w=-0.084035, port=0, plant_out=None\n",
      "24) AF (25) --> M, w=-0.088841, port=0, plant_out=None\n",
      "25) AF (26) --> M, w=0.062037, port=0, plant_out=None\n",
      "26) AF (27) --> M, w=0.001778, port=0, plant_out=None\n",
      "27) AF (28) --> M, w=0.030549, port=0, plant_out=None\n",
      "28) AF (29) --> M, w=0.070529, port=0, plant_out=None\n",
      "29) AF (30) --> M, w=0.064830, port=0, plant_out=None\n",
      "30) AF (31) --> M, w=-0.025454, port=0, plant_out=None\n",
      "31) AF (32) --> M, w=0.031321, port=0, plant_out=None\n",
      "32) AF (33) --> M, w=0.029938, port=0, plant_out=None\n",
      "33) AF (34) --> M, w=-0.059097, port=0, plant_out=None\n",
      "34) AF (35) --> M, w=0.011329, port=0, plant_out=None\n",
      "35) AF (36) --> M, w=0.080444, port=0, plant_out=None\n",
      "36) SPF (92) --> M, w=2.000000, port=1, plant_out=None\n",
      "37) erroneous (91) --> M, w=1.000000, port=2, plant_out=None\n",
      "-------------------------\n",
      "\n",
      "Connections to afferent units\n",
      "0) other (0) --> A, w=1.000000, port=0, plant_out=None\n",
      "-------------------------\n",
      "\n",
      "Connections to spinal units\n",
      "0) M (55) --> CE, w=-0.432315, port=0, plant_out=None\n",
      "1) M (56) --> CE, w=-0.013651, port=0, plant_out=None\n",
      "2) M (57) --> CE, w=-0.032692, port=0, plant_out=None\n",
      "3) M (58) --> CE, w=0.589954, port=0, plant_out=None\n",
      "4) M (59) --> CE, w=-0.423843, port=0, plant_out=None\n",
      "5) M (60) --> CE, w=-0.291209, port=0, plant_out=None\n",
      "6) M (61) --> CE, w=-0.130182, port=0, plant_out=None\n",
      "7) M (62) --> CE, w=-0.286212, port=0, plant_out=None\n",
      "8) M (63) --> CE, w=0.218943, port=0, plant_out=None\n",
      "9) M (64) --> CE, w=0.424568, port=0, plant_out=None\n",
      "10) M (65) --> CE, w=-0.381679, port=0, plant_out=None\n",
      "11) M (66) --> CE, w=0.340770, port=0, plant_out=None\n",
      "12) AF (1) --> CE, w=-0.000994, port=2, plant_out=None\n",
      "13) AF (2) --> CE, w=-0.003560, port=2, plant_out=None\n",
      "14) AF (3) --> CE, w=0.006198, port=2, plant_out=None\n",
      "15) AF (4) --> CE, w=0.013021, port=2, plant_out=None\n",
      "16) AF (5) --> CE, w=-0.006111, port=2, plant_out=None\n",
      "17) AF (6) --> CE, w=0.009710, port=2, plant_out=None\n",
      "18) AF (7) --> CE, w=0.003457, port=2, plant_out=None\n",
      "19) AF (8) --> CE, w=0.005192, port=2, plant_out=None\n",
      "20) AF (9) --> CE, w=0.000448, port=2, plant_out=None\n",
      "21) AF (10) --> CE, w=0.006082, port=2, plant_out=None\n",
      "22) AF (11) --> CE, w=-0.002460, port=2, plant_out=None\n",
      "23) AF (12) --> CE, w=0.013376, port=2, plant_out=None\n",
      "24) AF (13) --> CE, w=-0.013782, port=2, plant_out=None\n",
      "25) AF (14) --> CE, w=-0.019748, port=2, plant_out=None\n",
      "26) AF (15) --> CE, w=0.016233, port=2, plant_out=None\n",
      "27) AF (16) --> CE, w=0.002970, port=2, plant_out=None\n",
      "28) AF (17) --> CE, w=-0.008663, port=2, plant_out=None\n",
      "29) AF (18) --> CE, w=0.006509, port=2, plant_out=None\n",
      "30) AF (19) --> CE, w=0.011035, port=2, plant_out=None\n",
      "31) AF (20) --> CE, w=0.010430, port=2, plant_out=None\n",
      "32) AF (21) --> CE, w=0.008489, port=2, plant_out=None\n",
      "33) AF (22) --> CE, w=0.003665, port=2, plant_out=None\n",
      "34) AF (23) --> CE, w=0.010468, port=2, plant_out=None\n",
      "35) AF (24) --> CE, w=0.009140, port=2, plant_out=None\n",
      "36) AF (25) --> CE, w=0.011483, port=2, plant_out=None\n",
      "37) AF (26) --> CE, w=0.013407, port=2, plant_out=None\n",
      "38) AF (27) --> CE, w=0.003209, port=2, plant_out=None\n",
      "39) AF (28) --> CE, w=0.006713, port=2, plant_out=None\n",
      "40) AF (29) --> CE, w=0.012676, port=2, plant_out=None\n",
      "41) AF (30) --> CE, w=0.007140, port=2, plant_out=None\n",
      "42) AF (31) --> CE, w=0.012718, port=2, plant_out=None\n",
      "43) AF (32) --> CE, w=0.016325, port=2, plant_out=None\n",
      "44) AF (33) --> CE, w=-0.001532, port=2, plant_out=None\n",
      "45) AF (34) --> CE, w=0.004713, port=2, plant_out=None\n",
      "46) AF (35) --> CE, w=0.012227, port=2, plant_out=None\n",
      "47) AF (36) --> CE, w=0.006115, port=2, plant_out=None\n",
      "48) other (91) --> CE, w=1.000000, port=3, plant_out=None\n",
      "49) other (0) --> CE, w=1.000000, port=4, plant_out=None\n",
      "50) CI (51) --> CE, w=-1.500000, port=1, plant_out=None\n",
      "51) CE (46) --> CE, w=1.000000, port=1, plant_out=None\n",
      "52) CE (48) --> CE, w=0.400000, port=1, plant_out=None\n",
      "-------------------------\n",
      "\n",
      "0) M (55) --> CI, w=-0.410476, port=0, plant_out=None\n",
      "1) M (56) --> CI, w=0.246802, port=0, plant_out=None\n",
      "2) M (57) --> CI, w=0.708708, port=0, plant_out=None\n",
      "3) M (58) --> CI, w=0.193999, port=0, plant_out=None\n",
      "4) M (59) --> CI, w=0.842824, port=0, plant_out=None\n",
      "5) M (60) --> CI, w=0.411540, port=0, plant_out=None\n",
      "6) M (61) --> CI, w=0.515595, port=0, plant_out=None\n",
      "7) M (62) --> CI, w=-0.184513, port=0, plant_out=None\n",
      "8) M (63) --> CI, w=0.656556, port=0, plant_out=None\n",
      "9) M (64) --> CI, w=0.389019, port=0, plant_out=None\n",
      "10) M (65) --> CI, w=-0.313533, port=0, plant_out=None\n",
      "11) M (66) --> CI, w=0.668910, port=0, plant_out=None\n",
      "12) AF (1) --> CI, w=-0.005241, port=2, plant_out=None\n",
      "13) AF (2) --> CI, w=-0.010198, port=2, plant_out=None\n",
      "14) AF (3) --> CI, w=0.005361, port=2, plant_out=None\n",
      "15) AF (4) --> CI, w=0.002600, port=2, plant_out=None\n",
      "16) AF (5) --> CI, w=-0.014061, port=2, plant_out=None\n",
      "17) AF (6) --> CI, w=0.013644, port=2, plant_out=None\n",
      "18) AF (7) --> CI, w=0.010038, port=2, plant_out=None\n",
      "19) AF (8) --> CI, w=0.029574, port=2, plant_out=None\n",
      "20) AF (9) --> CI, w=-0.024405, port=2, plant_out=None\n",
      "21) AF (10) --> CI, w=-0.005677, port=2, plant_out=None\n",
      "22) AF (11) --> CI, w=0.005910, port=2, plant_out=None\n",
      "23) AF (12) --> CI, w=-0.002543, port=2, plant_out=None\n",
      "24) AF (13) --> CI, w=0.011066, port=2, plant_out=None\n",
      "25) AF (14) --> CI, w=0.017672, port=2, plant_out=None\n",
      "26) AF (15) --> CI, w=-0.015865, port=2, plant_out=None\n",
      "27) AF (16) --> CI, w=-0.007426, port=2, plant_out=None\n",
      "28) AF (17) --> CI, w=0.013805, port=2, plant_out=None\n",
      "29) AF (18) --> CI, w=-0.009818, port=2, plant_out=None\n",
      "30) AF (19) --> CI, w=0.006756, port=2, plant_out=None\n",
      "31) AF (20) --> CI, w=0.010495, port=2, plant_out=None\n",
      "32) AF (21) --> CI, w=0.000121, port=2, plant_out=None\n",
      "33) AF (22) --> CI, w=0.004178, port=2, plant_out=None\n",
      "34) AF (23) --> CI, w=0.013011, port=2, plant_out=None\n",
      "35) AF (24) --> CI, w=-0.002481, port=2, plant_out=None\n",
      "36) AF (25) --> CI, w=0.000787, port=2, plant_out=None\n",
      "37) AF (26) --> CI, w=-0.002904, port=2, plant_out=None\n",
      "38) AF (27) --> CI, w=0.016703, port=2, plant_out=None\n",
      "39) AF (28) --> CI, w=0.006580, port=2, plant_out=None\n",
      "40) AF (29) --> CI, w=-0.000082, port=2, plant_out=None\n",
      "41) AF (30) --> CI, w=0.006365, port=2, plant_out=None\n",
      "42) AF (31) --> CI, w=0.000772, port=2, plant_out=None\n",
      "43) AF (32) --> CI, w=-0.001889, port=2, plant_out=None\n",
      "44) AF (33) --> CI, w=0.006829, port=2, plant_out=None\n",
      "45) AF (34) --> CI, w=0.006942, port=2, plant_out=None\n",
      "46) AF (35) --> CI, w=-0.000497, port=2, plant_out=None\n",
      "47) AF (36) --> CI, w=0.007703, port=2, plant_out=None\n",
      "48) other (91) --> CI, w=1.000000, port=3, plant_out=None\n",
      "49) other (0) --> CI, w=1.000000, port=4, plant_out=None\n",
      "50) CE (43) --> CI, w=0.400000, port=1, plant_out=None\n",
      "51) CE (46) --> CI, w=15.132505, port=1, plant_out=None\n",
      "52) CE (45) --> CI, w=8.965096, port=1, plant_out=None\n",
      "53) CE (48) --> CI, w=7.798614, port=1, plant_out=None\n",
      "-------------------------\n",
      "\n",
      "Connections to plant\n",
      "0) AL (37, unit_types.sigmoidal) --> P, w=1.000000\n",
      "-------------------------\n",
      "\n",
      "Connections to SF units\n",
      "0) AF (7) --> SF, w=1.000000, port=0, plant_out=None\n"
     ]
    }
   ],
   "source": [
    "# checking some connections\n",
    "print(\"Connections to motor units\")\n",
    "for idx, syn in enumerate(net.syns[M[0]]):\n",
    "    pre_id = syn.preID\n",
    "    pre_type = net.units[pre_id].type\n",
    "    if pre_type is plant_models.planar_arm_v3:\n",
    "        pre_pop = 'P'\n",
    "    elif pre_id in AF:\n",
    "        pre_pop = 'AF'\n",
    "    elif pre_id in SPF:\n",
    "        pre_pop = 'SPF'\n",
    "    else:\n",
    "        pre_pop = 'erroneous'\n",
    "    if pre_pop == 'P':\n",
    "        plant_out = str(syn.plant_out)\n",
    "    else:\n",
    "        plant_out = 'None'\n",
    "    print('%d) %s (%d) --> M, w=%f, port=%d, plant_out=%s'%(idx, pre_pop, pre_id, syn.w, syn.port, plant_out))\n",
    "print(\"-------------------------\\n\")\n",
    "    \n",
    "print(\"Connections to afferent units\")\n",
    "for idx, syn in enumerate(net.syns[AF[0]]):\n",
    "    pre_id = syn.preID\n",
    "    pre_type = net.units[pre_id].type\n",
    "    if pre_type is plant_models.planar_arm_v3:\n",
    "        pre_pop = 'P'\n",
    "    elif pre_id in AF:\n",
    "        pre_pop = 'A'\n",
    "    elif pre_id in SPF:\n",
    "        pre_pop = 'SPF'\n",
    "    else:\n",
    "        pre_pop = 'other'\n",
    "    if pre_pop == 'P':\n",
    "        plant_out = str(syn.plant_out)\n",
    "    else:\n",
    "        plant_out = 'None'\n",
    "    print('%d) %s (%d) --> A, w=%f, port=%d, plant_out=%s'%(idx, pre_pop, pre_id, syn.w, syn.port, plant_out))\n",
    "print(\"-------------------------\\n\")\n",
    "    \n",
    "print(\"Connections to spinal units\")\n",
    "for idx, syn in enumerate(net.syns[CE[2]]):\n",
    "    pre_id = syn.preID\n",
    "    pre_type = net.units[pre_id].type\n",
    "    if pre_type is plant_models.planar_arm_v3:\n",
    "        pre_pop = 'P'\n",
    "    elif pre_id in AF:\n",
    "        pre_pop = 'AF'\n",
    "    elif pre_id in SPF:\n",
    "        pre_pop = 'SPF'\n",
    "    elif pre_id in M:\n",
    "        pre_pop = 'M'\n",
    "    elif pre_id in CE:\n",
    "        pre_pop = 'CE'\n",
    "    elif pre_id in CI:\n",
    "        pre_pop = 'CI'\n",
    "    else:\n",
    "        pre_pop = 'other'\n",
    "    if pre_pop == 'P':\n",
    "        plant_out = str(syn.plant_out)\n",
    "    else:\n",
    "        plant_out = 'None'\n",
    "    print('%d) %s (%d) --> CE, w=%f, port=%d, plant_out=%s'%(idx, pre_pop, pre_id, syn.w, syn.port, plant_out))\n",
    "print(\"-------------------------\\n\")\n",
    "\n",
    "for idx, syn in enumerate(net.syns[CI[0]]):\n",
    "    pre_id = syn.preID\n",
    "    pre_type = net.units[pre_id].type\n",
    "    if pre_type is plant_models.planar_arm_v3:\n",
    "        pre_pop = 'P'\n",
    "    elif pre_id in AF:\n",
    "        pre_pop = 'AF'\n",
    "    elif pre_id in SPF:\n",
    "        pre_pop = 'SPF'\n",
    "    elif pre_id in M:\n",
    "        pre_pop = 'M'\n",
    "    elif pre_id in CE:\n",
    "        pre_pop = 'CE'\n",
    "    elif pre_id in CI:\n",
    "        pre_pop = 'CI'\n",
    "    else:\n",
    "        pre_pop = 'other'\n",
    "    if pre_pop == 'P':\n",
    "        plant_out = str(syn.plant_out)\n",
    "    else:\n",
    "        plant_out = 'None'\n",
    "    print('%d) %s (%d) --> CI, w=%f, port=%d, plant_out=%s'%(idx, pre_pop, pre_id, syn.w, syn.port, plant_out))\n",
    "print(\"-------------------------\\n\")\n",
    "\n",
    "\n",
    "print(\"Connections to plant\")\n",
    "for idx, syn in enumerate(net.plants[P].inp_syns[0]):\n",
    "    pre_id = syn.preID\n",
    "    pre_type = net.units[pre_id].type\n",
    "    if pre_id in AL:\n",
    "        pre_pop = 'AL'\n",
    "    else:\n",
    "        pre_pop = 'erroneous'\n",
    "    print('%d) %s (%d, %s) --> P, w=%f'%(idx, pre_pop, pre_id, pre_type, syn.w))\n",
    "print(\"-------------------------\\n\")\n",
    "\n",
    "print(\"Connections to SF units\")\n",
    "for idx, syn in enumerate(net.syns[SF[0]]):\n",
    "    pre_id = syn.preID\n",
    "    pre_type = net.units[pre_id].type\n",
    "    if pre_id == P:\n",
    "        pre_pop = 'P'\n",
    "    elif pre_id in AF:\n",
    "        pre_pop = 'AF'\n",
    "    elif pre_id in SPF:\n",
    "        pre_pop = 'SPF'\n",
    "    elif pre_id in M:\n",
    "        pre_pop = 'M'\n",
    "    else:\n",
    "        pre_pop = 'erroneous'\n",
    "    if pre_pop == 'P':\n",
    "        plant_out = str(syn.plant_out)\n",
    "    else:\n",
    "        plant_out = 'None'\n",
    "    print('%d) %s (%d) --> SF, w=%f, port=%d, plant_out=%s'%(idx, pre_pop, pre_id, syn.w, syn.port, plant_out))"
   ]
  },
  {
   "cell_type": "raw",
   "metadata": {},
   "source": [
    "Here are some weights for the M-CE, M-CI, and A-M connections that I'd ideally would like to see develop in PART 2.\n",
    "* When M and SPF have 6 units each, and SPF has SP-SF:\n",
    "\n",
    "    MX to CEY\n",
    "        0. iff X=Y, \n",
    "        0. if Y is agonist, \n",
    "        0. if partial agonist, \n",
    "        0.3 if partial antagonist, \n",
    "        1. if antagonist.\n",
    "        \n",
    "    MX to CIY\n",
    "        1. iff X=Y, \n",
    "        0.3 if Y is agonist, \n",
    "        0.1 if partial agonist, \n",
    "        0. if partial antagonist, \n",
    "        0. if antagonist.   \n",
    "\n",
    "    AX to MY\n",
    "        (0., -0.4, 0.4) if X corresponds to Y\n",
    "        (0, -0.2, 0.2) if X corresponds to an agonist of Y\n",
    "        (0., 0., 0.) if X corresponds to a partial agonist of Y\n",
    "        (0., 0.2, -0.2) if X corresponds to a partial antagonist of Y\n",
    "        (0., 0.4, -0.4) if X corresponds to an antagonist of Y\n"
   ]
  },
  {
   "cell_type": "markdown",
   "metadata": {},
   "source": [
    "---"
   ]
  },
  {
   "cell_type": "code",
   "execution_count": 2,
   "metadata": {},
   "outputs": [
    {
     "ename": "NameError",
     "evalue": "name 'arm_activs' is not defined",
     "output_type": "error",
     "traceback": [
      "\u001b[0;31m---------------------------------------------------------------------------\u001b[0m",
      "\u001b[0;31mNameError\u001b[0m                                 Traceback (most recent call last)",
      "\u001b[0;32m<ipython-input-2-2ab8103c13e7>\u001b[0m in \u001b[0;36m<module>\u001b[0;34m()\u001b[0m\n\u001b[1;32m      5\u001b[0m \u001b[0;34m\u001b[0m\u001b[0m\n\u001b[1;32m      6\u001b[0m \u001b[0;31m# angles of shoulder and elbow\u001b[0m\u001b[0;34m\u001b[0m\u001b[0;34m\u001b[0m\u001b[0m\n\u001b[0;32m----> 7\u001b[0;31m \u001b[0mtheta_s\u001b[0m \u001b[0;34m=\u001b[0m \u001b[0marm_activs\u001b[0m\u001b[0;34m[\u001b[0m\u001b[0;34m:\u001b[0m\u001b[0;34m,\u001b[0m\u001b[0;36m0\u001b[0m\u001b[0;34m]\u001b[0m\u001b[0;34m\u001b[0m\u001b[0m\n\u001b[0m\u001b[1;32m      8\u001b[0m \u001b[0mtheta_e\u001b[0m \u001b[0;34m=\u001b[0m \u001b[0marm_activs\u001b[0m\u001b[0;34m[\u001b[0m\u001b[0;34m:\u001b[0m\u001b[0;34m,\u001b[0m\u001b[0;36m2\u001b[0m\u001b[0;34m]\u001b[0m\u001b[0;34m\u001b[0m\u001b[0m\n\u001b[1;32m      9\u001b[0m \u001b[0mphi\u001b[0m \u001b[0;34m=\u001b[0m \u001b[0mtheta_s\u001b[0m \u001b[0;34m+\u001b[0m \u001b[0mtheta_e\u001b[0m \u001b[0;31m# elbow angle wrt x axis\u001b[0m\u001b[0;34m\u001b[0m\u001b[0m\n",
      "\u001b[0;31mNameError\u001b[0m: name 'arm_activs' is not defined"
     ]
    }
   ],
   "source": [
    "#Animation of the arm and muscles\n",
    "%matplotlib widget\n",
    "from numpy import cos, sin\n",
    "from matplotlib.animation import FuncAnimation\n",
    "\n",
    "# angles of shoulder and elbow\n",
    "theta_s = arm_activs[:,0]\n",
    "theta_e = arm_activs[:,2]\n",
    "phi = theta_s + theta_e # elbow angle wrt x axis\n",
    "# data from tracking units\n",
    "acts = np.array(data[1])\n",
    "ipx = data[ipx_track]\n",
    "ipy = data[ipy_track]\n",
    "ten = arm_activs[:, np.array(range(4, 10))].transpose()\n",
    "# coordinates of hand and elbow\n",
    "l1 = net.plants[P].l_arm\n",
    "l2 = net.plants[P].l_farm\n",
    "xe = cos(theta_s)*l1\n",
    "ye = sin(theta_s)*l1\n",
    "xh = xe + cos(phi)*l2\n",
    "yh = ye + sin(phi)*l2\n",
    "# creating the figure and axis\n",
    "fig = plt.figure(figsize=(8,8))\n",
    "plt.axis('equal')\n",
    "ax = plt.gca()\n",
    "lim = l1 + l2\n",
    "ax.set_xlim([-lim, lim])\n",
    "ax.set_ylim([-lim, lim])\n",
    "ax.grid()\n",
    "# creating lines and points\n",
    "line, = ax.plot([], [], 'o-b', lw=2)\n",
    "points, = ax.plot([], [], '+k')\n",
    "target, = ax.plot([], [], 'gD')\n",
    "# preparing a colormap for the tensions\n",
    "ten_max = max(ten.max(), 1e-5)\n",
    "ten_min = min(ten.min(), -1e-5)\n",
    "for row_idx, row in enumerate(ten):\n",
    "    for ent_idx, entry in enumerate(row):\n",
    "        if entry > 0:\n",
    "            ten[row_idx, ent_idx] = entry/ten_max\n",
    "        else:\n",
    "            ten[row_idx, ent_idx] = entry/abs(ten_min)\n",
    "#ten = (ten / 2.) + 0.5 # we'll have only positive tensions\n",
    "mus_lines = []\n",
    "#cmap=plt.get_cmap('Reds')\n",
    "#cmap=plt.get_cmap('coolwarm')\n",
    "cmap=plt.get_cmap('bwr')\n",
    "for i in range(6):\n",
    "    mus_lines.append(ax.plot([], [], color=cmap(0.5))[0])\n",
    "# stuff used to plot the target\n",
    "strt_idx = int(np.round(times[0]/t_pres)) # initial index in m_idxs\n",
    "\n",
    "def init():\n",
    "    line.set_data([], [])\n",
    "    points.set_data([], [])\n",
    "    for i in range(6):\n",
    "        mus_lines = []\n",
    "        mus_lines.append(ax.plot([], [], color=cmap(0.5))[0])\n",
    "    return line, points, mus_lines\n",
    "\n",
    "def update(frame):\n",
    "    coord_x = [0, xe[frame], xh[frame]]\n",
    "    coord_y = [0, ye[frame], yh[frame]]\n",
    "    ip_x = ipx[:,frame]\n",
    "    ip_y = ipy[:,frame]\n",
    "    tens = ten[:, frame]\n",
    "    line.set_data(coord_x, coord_y)\n",
    "    points.set_data(ip_x, ip_y)\n",
    "    for i, ml in enumerate(mus_lines):\n",
    "        idx = 2*i\n",
    "        ml.set_data(ip_x[idx:idx+2], ip_y[idx:idx+2])\n",
    "        ml.set_color(cmap(tens[i]))\n",
    "    \n",
    "    cur_time = frame*net.min_delay\n",
    "    fig.suptitle('time: ' + '{:f}'.format(cur_time))\n",
    "    # plotting target\n",
    "    cur_idx = int(cur_time/t_pres) + strt_idx\n",
    "    x_coord, y_coord = hand_coords[m_idxs[cur_idx]]\n",
    "    target.set_data([x_coord], [y_coord])\n",
    "    \n",
    "    return line, points, mus_lines #muscle1\n",
    "\n",
    "ani = FuncAnimation(fig, update, frames=np.arange(0, len(theta_s), 20), init_func=init, blit=True, interval=20)\n",
    "\n",
    "plt.show()"
   ]
  },
  {
   "cell_type": "code",
   "execution_count": 6,
   "metadata": {},
   "outputs": [
    {
     "name": "stdout",
     "output_type": "stream",
     "text": [
      "Recommended AF__SF weights: 1 \n",
      "\n",
      "Recommended SF thresholds: \n",
      "[0.02051586 0.03230201 0.01017465 0.01276559 0.02716843 0.03277251\n",
      " 0.02916627 0.04708436 0.01437482 0.00496981 0.04492718 0.03762306]\n",
      "\n",
      "Recommended SF slopes: \n",
      "[10.3748608   7.82919646  9.46788888 10.49932696  8.6980101   8.70497844\n",
      "  9.30664232  6.60950129  8.55607539 10.68044915  7.41169433  8.06923034]\n",
      "\n"
     ]
    }
   ],
   "source": [
    "# Cell used to adjust parameters affecting the range of SF values\n",
    "# corresponding to the various targets\n",
    "\n",
    "# In the first cell we calculated the AF output for the 8 targets.\n",
    "# It is in the AF_Ia_II array, which is 8x12\n",
    "# We reduce AF_Ia_II in three ways: maximum, minimum, and mean for all targets\n",
    "AF_max = np.max(AF_Ia_II, axis=0)\n",
    "AF_min = np.min(AF_Ia_II, axis=0)\n",
    "AF_mean = np.mean(AF_Ia_II, axis=0)\n",
    "AF_spread = AF_max - AF_min\n",
    "\n",
    "# We adjust the SF parameters so the mean output averaged over targets is \n",
    "# around 0.5,and the spread is around 0.6. One way is to set \n",
    "# 1) All AF__SF weights to 1,\n",
    "# 2) The threshold equal to the AF_mean value (target average)\n",
    "# 3) The slope inversely related to the spread, as in slope = max_slope/(1.+ a*spread)\n",
    "max_slope = 12.\n",
    "a = 5.\n",
    "slopes = max_slope / (1. + a*AF_spread)\n",
    "print(\"Recommended AF__SF weights: 1 \", end=\"\\n\\n\")\n",
    "print(\"Recommended SF thresholds: \")\n",
    "print(AF_mean, end=\"\\n\\n\")\n",
    "print(\"Recommended SF slopes: \")\n",
    "print(slopes, end=\"\\n\\n\")\n"
   ]
  },
  {
   "cell_type": "code",
   "execution_count": 12,
   "metadata": {},
   "outputs": [
    {
     "name": "stdout",
     "output_type": "stream",
     "text": [
      "length spreads: \n",
      "[0.0208856  0.03423837 0.03386777 0.0190577  0.02544564 0.0237055 ]\n",
      "Recommended P__AF_syn['init_w']:\n",
      "[ -3.51294416 -15.81415791  -1.0082549   -2.36447156  -1.68367397\n",
      "  -4.04527051  17.15133356   7.76963701  -3.86862005 -28.94024146\n",
      " -21.0155792   29.71014218]\n"
     ]
    }
   ],
   "source": [
    "# Cell used to adjust parameters affecting the range of SF values\n",
    "# corresponding to the various targets\n",
    "\n",
    "min_len = np.min(m_lengths, axis=0) # m_lengths, etc. calclulated in the first cell\n",
    "max_len = np.max(m_lengths, axis=0)\n",
    "mean_lens = np.mean(m_lengths, axis=0)\n",
    "#print('length for muscle %d: min=%f, max=%f, mean=%f' % (muscl, min_len, max_len, mean_len))\n",
    "print('length spreads: ')\n",
    "print(max_len - min_len)\n",
    "\n",
    "# These lengths are used to obtain steady state tensions assuming zero velocity and\n",
    "# no gamma inputs. The steady state tensions are then used to produce steady state\n",
    "# Ia and II outputs Ia_ss and II_ss.\n",
    "\n",
    "# Using Ia_ss and II_ss the steady state output of the AF population is obtained.\n",
    "# This output comes from Ia and II minus their average values. We assume that these\n",
    "# values change slowly relative to the change in the target, or otherwise they would\n",
    "# approach the steady state of Ia and II for the present target. Moreover, we assume\n",
    "# that SP knows these averages.\n",
    "\n",
    "# We recommend weigths so the AF output for the mean target length is around 0.5\n",
    "par = net.plants[P].m_params\n",
    "Ts_ss_ml = (par['k_se_s']/(par['k_se_s']+par['k_pe_s'])) * (\n",
    "            par['k_pe_s']*(mean_lens - par['l0_s']))\n",
    "Td_ss_ml = (par['k_se_d']/(par['k_se_d']+par['k_pe_d'])) * (\n",
    "            par['k_pe_d']*(mean_lens - par['l0_d']))\n",
    "Ia_ss_ml = par['fs']*(Ts_ss_ml/par['k_se_s']) + (1.-par['fs'])*(Td_ss_ml/par['k_se_d'])\n",
    "II_ss_ml = par['se_II']*(Ts_ss_ml/par['k_se_s']) + ((1.-par['se_II'])/par['k_pe_s'])*Ts_ss_ml\n",
    "Ia_ss_ml *= par['Ia_gain']\n",
    "II_ss_ml *= par['II_gain']\n",
    "AF_ml = np.concatenate((Ia_ss_ml, II_ss_ml), axis=0)\n",
    "# Next transformation is through the chwr_linear afferent units\n",
    "#AF_Ia = np.maximum(Ia_ss*Pe__AF_Ia_ws - AF_avgs[0:6] - AF_thr[0:6], 0.)\n",
    "#AF_II = np.maximum(II_ss*Pe__AF_II_ws - AF_avgs[6:12] - AF_thr[6:12], 0.)\n",
    "# 0.5 = (Ia_ss_ml - AF_avgs[muscl])*w_Ia - AF_thr[muscl]\n",
    "# 0.5 = (II_ss_ml - AF_avgs[6+muscl])*w_II - AF_thr[6+muscl]\n",
    "w = (0.5 + AF_thr)/(AF_ml - AF_avgs)\n",
    "print(\"Recommended P__AF_syn['init_w']:\")\n",
    "print(w)\n",
    "\n",
    "# Next we want the  mean_aff value to produce sp output of roughly 0.5,\n",
    "# and we want an sp spread of roughly 0.6 .\n",
    "# This implies SF_params['thresh'] ~= 0.5*AF__SF_syn['init_w'], \n",
    "# and a SF_params['slope'] = s such that\n",
    "# sig(max_aff) - sig(min_aff) = 0.6, so\n",
    "# 1/(1+exp(-s*(max_aff-thr))) - 1/(1+exp(-s(min_aff-thr))) = 0.6\n",
    "\n",
    "# For the second criterion min_aff is always 0, but mean_aff changes\n",
    "# SF_params['thresh'] = AF__SF_syn['init_w']*mean_aff\n",
    "# 1/(1+exp(-slope*(max_aff-thr))) - 1/(1+exp(slope*thr)) = 0.6\n",
    "\n",
    "#sp_vals = sf_preds[:,muscl]\n",
    "#min_sp = min(sp_vals)\n",
    "#max_sp = max(sp_vals)\n",
    "#mean_sp = np.mean(sp_vals)\n",
    "#print('SP for muscle %d: min=%f, max=%f, mean=%f' % (muscl, min_sp, max_sp, mean_sp))\n",
    "#print('sp spread = %f' %(max_sp - min_sp))"
   ]
  },
  {
   "cell_type": "code",
   "execution_count": 10,
   "metadata": {},
   "outputs": [
    {
     "data": {
      "text/plain": [
       "array([0.24, 0.1 , 0.64, 0.31, 0.43, 0.2 , 0.24, 0.11, 0.43, 0.29, 0.3 ,\n",
       "       0.17])"
      ]
     },
     "execution_count": 10,
     "metadata": {},
     "output_type": "execute_result"
    }
   ],
   "source": [
    "AF_avgs"
   ]
  },
  {
   "cell_type": "code",
   "execution_count": 71,
   "metadata": {},
   "outputs": [],
   "source": [
    "# removing feedback to compare with Fink et al.\n",
    "for uid in CE+CI:\n",
    "    syn_list = net.syns[uid]\n",
    "    for syn in syn_list:\n",
    "        if syn.preID in AF:\n",
    "            #syn.w = 0.\n",
    "            syn.alpha = 1.\n",
    "            syn.normalize = False"
   ]
  },
  {
   "cell_type": "code",
   "execution_count": null,
   "metadata": {},
   "outputs": [],
   "source": []
  }
 ],
 "metadata": {
  "kernelspec": {
   "display_name": "Python 3",
   "language": "python",
   "name": "python3"
  },
  "language_info": {
   "codemirror_mode": {
    "name": "ipython",
    "version": 3
   },
   "file_extension": ".py",
   "mimetype": "text/x-python",
   "name": "python",
   "nbconvert_exporter": "python",
   "pygments_lexer": "ipython3",
   "version": "3.5.2"
  }
 },
 "nbformat": 4,
 "nbformat_minor": 2
}
