{
 "cells": [
  {
   "cell_type": "markdown",
   "metadata": {},
   "source": [
    "# rl5E_lite_par.ipynb\n",
    "\n",
    "Used to run parallel simulations of the model in `rl5E_lite`, returning the mean reward and the weight matrices for each."
   ]
  },
  {
   "cell_type": "code",
   "execution_count": 1,
   "metadata": {
    "collapsed": false,
    "jupyter": {
     "outputs_hidden": false
    }
   },
   "outputs": [
    {
     "name": "stdout",
     "output_type": "stream",
     "text": [
      "/home/z/projects/draculab\n"
     ]
    }
   ],
   "source": [
    "%cd /home/z/projects/draculab/\n",
    "# Move to the draculab home folder"
   ]
  },
  {
   "cell_type": "code",
   "execution_count": 2,
   "metadata": {
    "collapsed": false,
    "jupyter": {
     "outputs_hidden": false
    }
   },
   "outputs": [],
   "source": [
    "from draculab import *\n",
    "import numpy as np\n",
    "import matplotlib.pyplot as plt\n",
    "import time\n",
    "from tools.visualization import plotter\n",
    "from multiprocessing import Pool\n",
    "import pickle"
   ]
  },
  {
   "cell_type": "code",
   "execution_count": 3,
   "metadata": {},
   "outputs": [
    {
     "name": "stdout",
     "output_type": "stream",
     "text": [
      "/home/z/projects/draculab/notebook/spinal/rl\n"
     ]
    }
   ],
   "source": [
    "%cd /home/z/projects/draculab/notebook/spinal/rl\n",
    "# Move to the folder with the rl5E_lite_from_cfg file is\n",
    "from rl5E_lite_from_cfg import rl5E_net"
   ]
  },
  {
   "cell_type": "code",
   "execution_count": 4,
   "metadata": {},
   "outputs": [],
   "source": [
    "# The parameters and their ranges\n",
    "# Default values set to equal rl5E_lite.ipynb on 1/21/21\n",
    "ranges = {\"C_sigma\": {\"low\": 0.01, \"high\": 1., \"default\": 0.4 }, # yes\n",
    "          \"C_slope\": {\"low\": 1., \"high\": 3., \"default\": 2. },\n",
    "          \"C_thresh\": {\"low\": 0.0, \"high\": .2, \"default\":0.2},\n",
    "          \"C_integ_amp\": {\"low\": 0.0, \"high\": 1.5, \"default\": 0.0},\n",
    "          \"C_custom_inp_del\": {\"low\": 10, \"high\": 300, \"default\": 150}, # seemingly replaced in the code\n",
    "          \"M_des_out_w_abs_sum\": {\"low\": 0.5, \"high\": 3., \"default\":1.6},\n",
    "          \"P_mu\": {\"low\": .1, \"high\": 2., \"default\":1.},\n",
    "          \"P_inp_gain\": {\"low\": 0.5, \"high\": 4., \"default\":2.},\n",
    "          \"SF_slope\": {'low':0.5, \"high\":3., \"default\":2.},\n",
    "          \"V_slope\": {\"low\": 0.3, \"high\": 2.5, \"default\":1.5}, #yes\n",
    "          \"V_delta\": {\"low\": .2, \"high\": 4., \"default\":1.}, #yes\n",
    "          \"V_thresh\": {\"low\": -0.1, \"high\": 2., \"default\":0.}, \n",
    "          \"V_td_lrate\": {\"low\": 0.2, \"high\": 7., \"default\": 1.}, # yes\n",
    "          \"V_td_gamma\": {\"low\": 0.1, \"high\": .99, \"default\": .6}, # yes\n",
    "          \"V_w_sum\": {\"low\": 10., \"high\": 100., \"default\": 60.}, # yes\n",
    "          \"X_slope\": {\"low\": 2., \"high\": 10., \"default\":5.}, #yes\n",
    "          \"X_thresh\": {\"low\": -0.2, \"high\": 2., \"default\":1.}, # no\n",
    "          \"X_del\": {\"low\": 0., \"high\": 1.5, \"default\":0.35},\n",
    "          \"X_lrate\": {\"low\": 50., \"high\": 400., \"default\":200.},\n",
    "          \"X_w_sum\": {\"low\": 10., \"high\": 80., \"default\": 30.}, # yes\n",
    "          \"X_refr_per\": {\"low\": 0.5, \"high\": 4., \"default\":2.}, # yes\n",
    "          \"A__M_lrate\": {\"low\": 0.05, \"high\": 10., \"default\":5.},\n",
    "          \"A__M_w_sum\": {\"low\": 0.3, \"high\": 2., \"default\":.4},\n",
    "          \"A__M_w_max\": {\"low\": 0.2, \"high\": .4, \"default\":.3},\n",
    "          \"M__C_lrate\": {\"low\": 1., \"high\": 400., \"default\":100.}\n",
    "         }\n",
    "\n",
    "# Create a default configuration\n",
    "cfg = {}\n",
    "for name in ranges:\n",
    "    cfg[name] = ranges[name]['default']\n",
    "    \n",
    "cfg['sim_time1'] = 4000.  # simulation time with switching X\n",
    "cfg['sim_time2'] = 500.  # simulation time with free X\n",
    "cfg['pres_interv'] = 5.  # time per target presentation \n",
    "    \n",
    "#cfg"
   ]
  },
  {
   "cell_type": "code",
   "execution_count": 4,
   "metadata": {},
   "outputs": [],
   "source": [
    "def eval_config(cfg):\n",
    "    \"\"\" Returns mean reward and weights for a given configuration. \n",
    "    \n",
    "        Two simulations are run, one with switching X for cfg['sim_time1'] seconds,\n",
    "        and one without switching X for cfg['sim_time2'] seconds.\n",
    "        \n",
    "        Args:\n",
    "            cfg : parameter dictionary to initialze rl5E_net. \n",
    "            \n",
    "        Returns:\n",
    "            A dictionary with 4 entries:\n",
    "                'mean_R1' : mean reward in the first (X switch) simulation.\n",
    "                'mean_R2' : mean reward in the second (X free) simulation.\n",
    "                'Vw' : L__V weight vector.\n",
    "                'Xw' : L__X weight vector.\n",
    "    \"\"\"\n",
    "    net, pops_dict = rl5E_net(cfg, \n",
    "                          pres_interv=cfg['pres_interv'],\n",
    "                          rand_w=False,\n",
    "                          par_heter=0.1,\n",
    "                          x_switch=True,\n",
    "                          V_normalize=True,\n",
    "                          X_normalize=True)\n",
    "    \n",
    "    R = pops_dict['R']\n",
    "    V = pops_dict['V']\n",
    "    X = pops_dict['X']\n",
    "    \n",
    "    times1, data1, plant_data1 = net.run(cfg['sim_time1'])\n",
    "    R_data1 = data1[R[0]]\n",
    "    mean_R1 = np.mean(R_data1)\n",
    "    \n",
    "    net.units[pops_dict['X'][0]].switch = False # stop swtiching\n",
    "    #net.units[V[0]].alpha = 0.1 * net.min_delay # decrease L__V learning rate\n",
    "    #net.units[X[0]].alpha = 0.05                # decrease L__X learning rate\n",
    "    \n",
    "    times2, data2, plant_data2 = net.run(cfg['sim_time2'])\n",
    "    R_data2 = data2[R[0]]\n",
    "    mean_R2 = np.mean(R_data2)\n",
    "    \n",
    "    Vw = net.units[V[0]].buffer[1:,-1]\n",
    "    Xw = net.units[X[0]].buffer[1:,-1]\n",
    "    \n",
    "    results = {'mean_R1' : mean_R1,\n",
    "               'mean_R2' : mean_R2,\n",
    "               'Vw' : Vw,\n",
    "               'Xw' : Xw }\n",
    "    \n",
    "    return results"
   ]
  },
  {
   "cell_type": "code",
   "execution_count": 6,
   "metadata": {
    "jupyter": {
     "source_hidden": true
    }
   },
   "outputs": [],
   "source": [
    "# Create the list of configurations (X_type=x_net)\n",
    "\n",
    "# one configuration from rl5E_lite_hyper\n",
    "gene_cfg = {'V_slope': 1.5,\n",
    "            'V_delta': 2.5,\n",
    "            'V_td_lrate': 0.3350351863301838, \n",
    "            'V_td_gamma': 0.1, \n",
    "            'V_w_sum': 60.0, \n",
    "            'X_slope': 5.0, \n",
    "            'X_del': 0.3, \n",
    "            'X_lrate': 300.0, \n",
    "            'X_w_sum': 55.0, \n",
    "            'fitness': 0.2601113238633763, \n",
    "            'n_evals': 1, \n",
    "            'C_sigma': 0.4, \n",
    "            'C_slope': 2.0, \n",
    "            'C_thresh': 0.2, \n",
    "            'C_integ_amp': 0.0, \n",
    "            'C_custom_inp_del': 150, \n",
    "            'M_des_out_w_abs_sum': 1.6, \n",
    "            'P_mu': 1.0, \n",
    "            'P_inp_gain': 2.0, \n",
    "            'V_thresh': 0.0, \n",
    "            'X_thresh': 0.0, \n",
    "            'A__M_lrate': 5.0, \n",
    "            'A__M_w_sum': 0.4, \n",
    "            'A__M_w_max': 0.3, \n",
    "            \"SF_slope\": 2.,\n",
    "            'M__C_lrate': 100.0}\n",
    "\n",
    "gene_cfg2 = {'V_slope': 2.0,\n",
    "         'V_delta': 1.9351772436025465,\n",
    "         'V_td_lrate': 4.25,\n",
    "         'V_td_gamma': 0.95,\n",
    "         'V_w_sum': 35.0,\n",
    "         'X_slope': 3.5,\n",
    "         'X_del': 0.9,\n",
    "         'X_lrate': 200.0,\n",
    "         'X_w_sum': 62.666806463642374,\n",
    "         'fitness': 0.2863618487384629,\n",
    "         'n_evals': 2,\n",
    "         'C_sigma': 0.4,\n",
    "         'C_slope': 2.0,\n",
    "         'C_thresh': 0.2,\n",
    "         'C_integ_amp': 0.0,\n",
    "         'C_custom_inp_del': 150,\n",
    "         'M_des_out_w_abs_sum': 1.6,\n",
    "         'P_mu': 1.0,\n",
    "         'P_inp_gain': 2.0,\n",
    "         'V_thresh': 0.0,\n",
    "         'X_thresh': 0.0,\n",
    "         'A__M_lrate': 5.0,\n",
    "         'A__M_w_sum': 0.4,\n",
    "         'A__M_w_max': 0.3,\n",
    "         'M__C_lrate': 100.0,\n",
    "         'SF_slope': 2.0}\n",
    "\n",
    "gene_cfg3 = {'V_slope': 0.9, \n",
    "             'V_delta': 0.6, \n",
    "             'V_td_lrate': 1.5, \n",
    "             'V_td_gamma': 0.6, \n",
    "             'V_w_sum': 40.60398356202898, \n",
    "             'X_slope': 5.0, \n",
    "             'X_del': 0.9, \n",
    "             'X_w_sum': 55.0, \n",
    "             'fitness': 0.24819411511566303, \n",
    "             'n_evals': 1, \n",
    "             'C_sigma': 0.4, \n",
    "             'C_slope': 2.0, \n",
    "             'C_thresh': 0.2, \n",
    "             'C_integ_amp': 0.0, \n",
    "             'C_custom_inp_del': 150, \n",
    "             'M_des_out_w_abs_sum': 1.6, \n",
    "             'P_mu': 1.0, \n",
    "             'P_inp_gain': 2.0, \n",
    "             'V_thresh': 0.0, \n",
    "             'X_thresh': 0.0, \n",
    "             'A__M_lrate': 5.0, \n",
    "             'A__M_w_sum': 0.4, \n",
    "             'A__M_w_max': 0.3, \n",
    "             'M__C_lrate': 100.0, \n",
    "             'SF_slope': 2.0, \n",
    "             'X_lrate': 200.0}\n",
    "\n",
    "\n",
    "configs = [cfg.copy() for _ in range(7)]\n",
    "\n",
    "# ----- configs[0] ----- first generation winner\n",
    "n=0\n",
    "configs[n] = gene_cfg.copy()\n",
    "# ----- configs[1] ----- second generation winner\n",
    "n=1\n",
    "configs[n] = gene_cfg2.copy()\n",
    "# ----- configs[2] ----- defaults, -copy1, gene1 hybrid\n",
    "n=2\n",
    "configs[n]['P_inp_gain'] = 3.\n",
    "configs[n]['SF_slope'] = 2.\n",
    "configs[n]['V_slope'] = 1.5\n",
    "configs[n]['V_delta'] = 2.\n",
    "configs[n]['V_w_sum'] = 50.\n",
    "configs[n]['X_w_sum'] = 50.\n",
    "configs[n]['pres_interv'] = 5.\n",
    "configs[n]['V_td_lrate'] = .5\n",
    "configs[n]['X_lrate'] = 250.\n",
    "configs[n]['td_gamma'] = 0.8\n",
    "configs[n]['X_del'] = 0.3\n",
    "# ----- configs[3] ----- gene_cfg with higher X delay\n",
    "n=3\n",
    "configs[n] = gene_cfg.copy()\n",
    "configs[n]['X_del'] = 0.5\n",
    "# ----- configs[4] ----- gene1 hybrid with higher X delay\n",
    "n=4\n",
    "configs[n]['P_inp_gain'] = 3.\n",
    "configs[n]['SF_slope'] = 2.\n",
    "configs[n]['V_slope'] = 2.\n",
    "configs[n]['V_delta'] = 2.\n",
    "configs[n]['V_w_sum'] = 50.\n",
    "configs[n]['X_w_sum'] = 50.\n",
    "configs[n]['pres_interv'] = 5.\n",
    "configs[n]['V_td_lrate'] = .5\n",
    "configs[n]['X_lrate'] = 250.\n",
    "configs[n]['td_gamma'] = 0.8\n",
    "configs[n]['X_del'] = 0.6\n",
    "# ----- configs[5] ----- defaults, gene2, -Copy1 hybrid\n",
    "n=5\n",
    "configs[n] = gene_cfg2.copy()\n",
    "configs[n]['P_inp_gain'] = 3.\n",
    "configs[n]['SF_slope'] = 2.\n",
    "configs[n]['V_slope'] = 1.5\n",
    "configs[n]['V_w_sum'] = 50.\n",
    "configs[n]['X_w_sum'] = 60.\n",
    "configs[n]['V_td_lrate'] = 2.\n",
    "configs[n]['X_lrate'] = 150.\n",
    "configs[n]['td_gamma'] = 0.9\n",
    "\n",
    "# ----- configs[6] ----- third generation winner\n",
    "n=6\n",
    "configs[n] = gene_cfg3.copy()\n",
    "\n",
    "\n",
    "n_reps = 5\n",
    "n_configs = len(configs)\n",
    "\n",
    "for cf in configs:\n",
    "    cf['sim_time1'] = 4000.  # simulation time with switching X\n",
    "    cf['sim_time2'] = 500.  # simulation time with free X\n",
    "    cf['pres_interv'] = 5.  # time per target presentation \n",
    "\n",
    "configs = n_reps*configs"
   ]
  },
  {
   "cell_type": "code",
   "execution_count": 7,
   "metadata": {},
   "outputs": [],
   "source": [
    "# configurations for x_netB\n",
    "cfg = configs[0]\n",
    "# cfg['X_type'] = unit_types.x_netB\n",
    "# cfg['r_thr'] = np.pi/6.\n",
    "# cfg['X_lrate'] = 20.\n",
    "cfg['X_thresh'] = 1.2 # roughly mean input when X_w_sum=40\n",
    "cfg['X_lrate'] = 25.\n",
    "\n",
    "configs = [cfg.copy() for _ in range(16)]\n",
    "# ------ configs[0] ------- Default parameters\n",
    "# ------ configs[1] ------- \n",
    "n = 1\n",
    "configs[n]['X_tau_slow'] = 300.\n",
    "# ------ configs[2] ------- \n",
    "n = 2\n",
    "configs[n]['X_refr_per'] = 1.\n",
    "# ------ configs[3] ------- \n",
    "n = 3\n",
    "configs[n]['X_tau_slow'] = 300.\n",
    "configs[n]['X_refr_per'] = 1.\n",
    "# ------ configs[4] ------- \n",
    "n = 4\n",
    "configs[n]['V_delta'] = 2.\n",
    "# ------ configs[5] ------- \n",
    "n = 5\n",
    "configs[n]['V_delta'] = 2.\n",
    "configs[n]['X_tau_slow'] = 300.\n",
    "# ------ configs[6] ------- \n",
    "n = 6\n",
    "configs[n]['V_delta'] = 2.\n",
    "configs[n]['X_refr_per'] = 1.\n",
    "# ------ configs[7] ------- \n",
    "n = 7\n",
    "configs[n]['V_delta'] = 2.\n",
    "configs[n]['X_tau_slow'] = 300.\n",
    "configs[n]['X_refr_per'] = 1.\n",
    "# ------ configs[8:15] ------\n",
    "for idx, cfg in enumerate(configs[:8]):\n",
    "    configs[8+idx] = cfg.copy()\n",
    "    configs[8+idx]['pres_interv'] = 4.\n",
    "\n",
    "n_reps = 6\n",
    "n_configs = len(configs)\n",
    "\n",
    "for cf in configs:\n",
    "    cf['sim_time1'] = 2000.  # simulation time with switching X\n",
    "    cf['sim_time2'] = 500.  # simulation time with free X\n",
    "    #cf['pres_interv'] = 5.  # time per target presentation \n",
    "\n",
    "configs = n_reps*configs"
   ]
  },
  {
   "cell_type": "code",
   "execution_count": 7,
   "metadata": {},
   "outputs": [
    {
     "name": "stdout",
     "output_type": "stream",
     "text": [
      "/home/z/projects/draculab/saves\n"
     ]
    }
   ],
   "source": [
    "# Configurations from running rl5E_lite_hyper\n",
    "# Load the results from a previous run of rl5E_hyper\n",
    "%cd /home/z/projects/draculab/saves\n",
    "#%cd /home/sergio/projects/draculab/notebook/spinal/rl\n",
    "fname = 'rl5E_lite_hyper_2021-03-18__11_23'\n",
    "with (open(fname, \"rb\")) as f:\n",
    "    pop = pickle.load(f)\n",
    "    f.close()\n",
    "    \n",
    "# If the results are form a run with fewer parameters\n",
    "# fill it with the default values.\n",
    "for cfg in pop:\n",
    "    for name in ranges:\n",
    "        if not name in cfg:\n",
    "            cfg[name] = ranges[name]['default']\n",
    "            \n",
    "configs = pop[0:6]\n",
    "n_reps = 20\n",
    "n_configs = len(configs)\n",
    "\n",
    "for cf in configs:\n",
    "    cf['sim_time1'] = 1800.  # simulation time with switching X\n",
    "    cf['sim_time2'] = 400.  # simulation time with free X\n",
    "    #cf['pres_interv'] = 5.  # time per target presentation \n",
    "\n",
    "configs = n_reps*configs"
   ]
  },
  {
   "cell_type": "code",
   "execution_count": 5,
   "metadata": {},
   "outputs": [],
   "source": [
    "# A configuration based on the 'rl5E_lite_hyper_2021-03-18__11_23'\n",
    "# ('rl5E_lite_par_2021-03-22__09_35') configurations\n",
    "cfg = {'C_sigma': 0.4,\n",
    "     'C_slope': 2.0,\n",
    "     'C_thresh': 0.2,\n",
    "     'C_integ_amp': 0.0,\n",
    "     'C_custom_inp_del': 150,\n",
    "     'M_des_out_w_abs_sum': 1.6,\n",
    "     'P_mu': 1.0,\n",
    "     'P_inp_gain': 2.0,\n",
    "     'SF_slope': 2.0,\n",
    "     'V_slope': 1.5,\n",
    "     'V_delta': 3.,\n",
    "     'V_thresh': 0.0,\n",
    "     'V_td_lrate': 1.0,\n",
    "     'V_td_gamma': 0.6,\n",
    "     'V_w_sum': 60.0,\n",
    "     'X_slope': 5.0,\n",
    "     'X_thresh': 1.2,\n",
    "     'X_del': 0.4,\n",
    "     'X_lrate': 30.,\n",
    "     'X_w_sum': 40., #70.,\n",
    "     'A__M_lrate': 5.0,\n",
    "     'A__M_w_sum': 0.4,\n",
    "     'A__M_w_max': 0.3,\n",
    "     'M__C_lrate': 100.0,\n",
    "     'sim_time1': 1200.0,\n",
    "     'sim_time2': 400.0,\n",
    "     'pres_interv': 4.0,\n",
    "     'X_type': unit_types.x_netB,\n",
    "     'r_thr': 0.5235987755982988,\n",
    "     'X_tau_slow': 200.0,\n",
    "     'X_refr_per': 1.,\n",
    "     'fitness': None,\n",
    "     'n_evals': 0}\n",
    "\n",
    "n_reps = 20\n",
    "n_configs = 1\n",
    "configs = [cfg.copy() for _ in range(n_reps)]\n",
    "for cf in configs:\n",
    "    cf['sim_time1'] = 1800.  # simulation time with switching X\n",
    "    cf['sim_time2'] = 400.  # simulation time with free X\n"
   ]
  },
  {
   "cell_type": "code",
   "execution_count": 6,
   "metadata": {},
   "outputs": [
    {
     "name": "stdout",
     "output_type": "stream",
     "text": [
      "Starting 20 processes\n",
      "****** Processing finished after 5012.957389831543 seconds ******\n"
     ]
    }
   ],
   "source": [
    "# Parallel runs of 'eval_config'\n",
    "n_procs = 20\n",
    "print('Starting %d processes' % (n_procs))\n",
    "start_time = time.time()\n",
    "#all_results = list(map(eval_config, configs)) giga\n",
    "with Pool(n_procs) as p:\n",
    "    all_results = list(p.map(eval_config, configs))\n",
    "    #all_results = p.map(eval_config, configs)\n",
    "    p.close()\n",
    "    p.join()\n",
    "print('****** Processing finished after %s seconds ******' % (time.time() - start_time)) "
   ]
  },
  {
   "cell_type": "code",
   "execution_count": 8,
   "metadata": {},
   "outputs": [
    {
     "name": "stdout",
     "output_type": "stream",
     "text": [
      "rl5E_lite_hyper_2021-03-18__11_23  rl5E_lite_par_2021-03-17__22_28\n",
      "rl5E_lite_par_2021-01-27__15_17    rl5E_lite_par_2021-03-19__16_17\n",
      "rl5E_lite_par_2021-03-16__14_04\n"
     ]
    }
   ],
   "source": [
    "%ls /home/z/projects/draculab/saves"
   ]
  },
  {
   "cell_type": "code",
   "execution_count": 7,
   "metadata": {},
   "outputs": [],
   "source": [
    "# save the results\n",
    "from datetime import datetime\n",
    "import pickle\n",
    "fname = \"rl5E_lite_par\"\n",
    "fname += \"_\" + datetime.now().strftime('%Y-%m-%d__%H_%M')\n",
    "with open(fname, 'wb') as f:\n",
    "    pickle.dump({'configs':configs, 'all_results':all_results}, f)\n",
    "    f.close()\n",
    "\n",
    "#all_results"
   ]
  },
  {
   "cell_type": "code",
   "execution_count": 8,
   "metadata": {
    "collapsed": true,
    "jupyter": {
     "outputs_hidden": true
    }
   },
   "outputs": [
    {
     "name": "stdout",
     "output_type": "stream",
     "text": [
      "index:0, R1: 0.646105, R2: 0.778693, diff=0.132589 \n",
      "index:1, R1: 0.617606, R2: 0.755224, diff=0.137619 \n",
      "index:2, R1: 0.631159, R2: 0.751959, diff=0.120800 \n",
      "index:3, R1: 0.566581, R2: 0.720342, diff=0.153761 \n",
      "index:4, R1: 0.617751, R2: 0.781421, diff=0.163670 \n",
      "index:5, R1: 0.627082, R2: 0.734828, diff=0.107746 \n",
      "index:6, R1: 0.620941, R2: 0.746391, diff=0.125449 \n",
      "index:7, R1: 0.573079, R2: 0.698449, diff=0.125369 \n",
      "index:8, R1: 0.607678, R2: 0.764029, diff=0.156351 \n",
      "index:9, R1: 0.614628, R2: 0.769874, diff=0.155246 \n",
      "index:10, R1: 0.631214, R2: 0.771546, diff=0.140331 \n",
      "index:11, R1: 0.599063, R2: 0.742972, diff=0.143909 \n",
      "index:12, R1: 0.584762, R2: 0.741448, diff=0.156686 \n",
      "index:13, R1: 0.635280, R2: 0.772437, diff=0.137156 \n",
      "index:14, R1: 0.634550, R2: 0.734355, diff=0.099806 \n",
      "index:15, R1: 0.539394, R2: 0.716559, diff=0.177165 \n",
      "index:16, R1: 0.619139, R2: 0.756541, diff=0.137402 \n",
      "index:17, R1: 0.626580, R2: 0.755002, diff=0.128422 \n",
      "index:18, R1: 0.596942, R2: 0.760745, diff=0.163803 \n",
      "index:19, R1: 0.615412, R2: 0.743658, diff=0.128245 \n",
      "index:20, R1: 0.612755, R2: 0.771155, diff=0.158400 \n",
      "index:21, R1: 0.531515, R2: 0.704132, diff=0.172617 \n",
      "index:22, R1: 0.615495, R2: 0.727965, diff=0.112470 \n",
      "index:23, R1: 0.519129, R2: 0.663973, diff=0.144844 \n",
      "index:24, R1: 0.613013, R2: 0.765046, diff=0.152033 \n",
      "index:25, R1: 0.640327, R2: 0.768350, diff=0.128023 \n",
      "index:26, R1: 0.625145, R2: 0.742183, diff=0.117038 \n",
      "index:27, R1: 0.638411, R2: 0.772886, diff=0.134476 \n",
      "index:28, R1: 0.614323, R2: 0.733278, diff=0.118954 \n",
      "index:29, R1: 0.664144, R2: 0.789825, diff=0.125681 \n",
      "index:30, R1: 0.643107, R2: 0.774887, diff=0.131780 \n",
      "index:31, R1: 0.647943, R2: 0.761773, diff=0.113830 \n",
      "index:32, R1: 0.589597, R2: 0.733451, diff=0.143854 \n",
      "index:33, R1: 0.639779, R2: 0.767732, diff=0.127952 \n",
      "index:34, R1: 0.645464, R2: 0.753733, diff=0.108269 \n",
      "index:35, R1: 0.639885, R2: 0.783509, diff=0.143624 \n",
      "index:36, R1: 0.655705, R2: 0.770688, diff=0.114983 \n",
      "index:37, R1: 0.639430, R2: 0.769789, diff=0.130359 \n",
      "index:38, R1: 0.639786, R2: 0.770109, diff=0.130323 \n",
      "index:39, R1: 0.626090, R2: 0.794158, diff=0.168067 \n",
      "index:40, R1: 0.616489, R2: 0.763562, diff=0.147072 \n",
      "index:41, R1: 0.616689, R2: 0.760199, diff=0.143510 \n",
      "index:42, R1: 0.633674, R2: 0.746948, diff=0.113274 \n",
      "index:43, R1: 0.635144, R2: 0.783882, diff=0.148738 \n",
      "index:44, R1: 0.601733, R2: 0.754070, diff=0.152338 \n",
      "index:45, R1: 0.610154, R2: 0.771091, diff=0.160937 \n",
      "index:46, R1: 0.540950, R2: 0.744800, diff=0.203850 \n",
      "index:47, R1: 0.626823, R2: 0.776961, diff=0.150138 \n",
      "index:48, R1: 0.629890, R2: 0.768506, diff=0.138616 \n",
      "index:49, R1: 0.628829, R2: 0.793061, diff=0.164231 \n",
      "index:50, R1: 0.613646, R2: 0.747188, diff=0.133542 \n",
      "index:51, R1: 0.644256, R2: 0.759070, diff=0.114814 \n",
      "index:52, R1: 0.578124, R2: 0.671093, diff=0.092969 \n",
      "index:53, R1: 0.621007, R2: 0.736870, diff=0.115863 \n",
      "index:54, R1: 0.641900, R2: 0.787639, diff=0.145738 \n",
      "index:55, R1: 0.602887, R2: 0.748554, diff=0.145667 \n",
      "index:56, R1: 0.610870, R2: 0.805721, diff=0.194851 \n",
      "index:57, R1: 0.634698, R2: 0.760653, diff=0.125955 \n",
      "index:58, R1: 0.637293, R2: 0.778766, diff=0.141473 \n",
      "index:59, R1: 0.652109, R2: 0.778799, diff=0.126691 \n",
      "index:60, R1: 0.626739, R2: 0.743952, diff=0.117212 \n",
      "index:61, R1: 0.611158, R2: 0.743318, diff=0.132160 \n",
      "index:62, R1: 0.612070, R2: 0.732285, diff=0.120215 \n",
      "index:63, R1: 0.565861, R2: 0.734914, diff=0.169054 \n",
      "index:64, R1: 0.537974, R2: 0.650742, diff=0.112768 \n",
      "index:65, R1: 0.614883, R2: 0.752513, diff=0.137630 \n",
      "index:66, R1: 0.555098, R2: 0.698404, diff=0.143306 \n",
      "index:67, R1: 0.565944, R2: 0.716542, diff=0.150598 \n",
      "index:68, R1: 0.577357, R2: 0.695409, diff=0.118053 \n",
      "index:69, R1: 0.653930, R2: 0.799864, diff=0.145933 \n",
      "index:70, R1: 0.667785, R2: 0.784993, diff=0.117207 \n",
      "index:71, R1: 0.600500, R2: 0.762909, diff=0.162408 \n",
      "index:72, R1: 0.568235, R2: 0.731474, diff=0.163239 \n",
      "index:73, R1: 0.578772, R2: 0.724403, diff=0.145630 \n",
      "index:74, R1: 0.649686, R2: 0.761475, diff=0.111789 \n",
      "index:75, R1: 0.620648, R2: 0.767341, diff=0.146693 \n",
      "index:76, R1: 0.639766, R2: 0.792041, diff=0.152275 \n",
      "index:77, R1: 0.606005, R2: 0.764436, diff=0.158431 \n",
      "index:78, R1: 0.640576, R2: 0.775155, diff=0.134579 \n",
      "index:79, R1: 0.618024, R2: 0.815707, diff=0.197682 \n",
      "index:80, R1: 0.644724, R2: 0.769858, diff=0.125134 \n",
      "index:81, R1: 0.651307, R2: 0.764139, diff=0.112833 \n",
      "index:82, R1: 0.666282, R2: 0.751293, diff=0.085011 \n",
      "index:83, R1: 0.620748, R2: 0.755538, diff=0.134790 \n",
      "index:84, R1: 0.641694, R2: 0.762593, diff=0.120899 \n",
      "index:85, R1: 0.629871, R2: 0.786322, diff=0.156452 \n",
      "index:86, R1: 0.605880, R2: 0.761774, diff=0.155894 \n",
      "index:87, R1: 0.654090, R2: 0.769951, diff=0.115861 \n",
      "index:88, R1: 0.566020, R2: 0.709099, diff=0.143079 \n",
      "index:89, R1: 0.631637, R2: 0.785758, diff=0.154121 \n",
      "index:90, R1: 0.665899, R2: 0.769266, diff=0.103367 \n",
      "index:91, R1: 0.620323, R2: 0.779896, diff=0.159573 \n",
      "index:92, R1: 0.638554, R2: 0.769530, diff=0.130975 \n",
      "index:93, R1: 0.645456, R2: 0.738455, diff=0.092999 \n",
      "index:94, R1: 0.644855, R2: 0.771200, diff=0.126345 \n",
      "index:95, R1: 0.641222, R2: 0.759007, diff=0.117785 \n",
      "index:96, R1: 0.658377, R2: 0.773241, diff=0.114864 \n",
      "index:97, R1: 0.620195, R2: 0.771310, diff=0.151115 \n",
      "index:98, R1: 0.666782, R2: 0.774697, diff=0.107916 \n",
      "index:99, R1: 0.563234, R2: 0.725612, diff=0.162379 \n"
     ]
    }
   ],
   "source": [
    "for i, result in enumerate(all_results):\n",
    "    print(\"index:%d, R1: %f, R2: %f, diff=%f \" % (i, result['mean_R1'], result['mean_R2'], result['mean_R2']-result['mean_R1']))"
   ]
  },
  {
   "cell_type": "code",
   "execution_count": 1,
   "metadata": {},
   "outputs": [
    {
     "ename": "NameError",
     "evalue": "name 'configs' is not defined",
     "output_type": "error",
     "traceback": [
      "\u001b[0;31m---------------------------------------------------------------------------\u001b[0m",
      "\u001b[0;31mNameError\u001b[0m                                 Traceback (most recent call last)",
      "\u001b[0;32m<ipython-input-1-d0392eb50215>\u001b[0m in \u001b[0;36m<module>\u001b[0;34m\u001b[0m\n\u001b[0;32m----> 1\u001b[0;31m \u001b[0mconfigs\u001b[0m\u001b[0;34m[\u001b[0m\u001b[0;36m0\u001b[0m\u001b[0;34m]\u001b[0m\u001b[0;34m\u001b[0m\u001b[0;34m\u001b[0m\u001b[0m\n\u001b[0m",
      "\u001b[0;31mNameError\u001b[0m: name 'configs' is not defined"
     ]
    }
   ],
   "source": [
    "configs[3]"
   ]
  },
  {
   "cell_type": "code",
   "execution_count": 7,
   "metadata": {},
   "outputs": [],
   "source": [
    "# compare two configurations\n",
    "n_cfg1 = 0\n",
    "n_cfg2 = 3\n",
    "for name in configs[n_cfg1]:\n",
    "    if name in configs[n_cfg2] and configs[n_cfg2][name] != configs[n_cfg1][name]:\n",
    "        print('cfg1: ' + name + '=' + str(configs[n_cfg1][name]), end='; ')\n",
    "        print('cfg2: ' + name + '=' + str(configs[n_cfg2][name]))"
   ]
  },
  {
   "cell_type": "code",
   "execution_count": 6,
   "metadata": {},
   "outputs": [
    {
     "name": "stdout",
     "output_type": "stream",
     "text": [
      "/home/z/projects/draculab/saves\n"
     ]
    }
   ],
   "source": [
    "# Load the results from a previous run of rl5E_lite_par\n",
    "# You need to adjust according to the number of repetitions\n",
    "%cd /home/z/projects/draculab/saves\n",
    "#%cd /home/sergio/projects/draculab/notebook/spinal/rl\n",
    "#fname = 'rl5E_lite_par_2021-01-27__15_17'\n",
    "#fname = 'rl5E_lite_par_2021-03-17__22_28'\n",
    "fname = 'rl5E_lite_par_2021-03-22__09_35'\n",
    "with (open(fname, \"rb\")) as f:\n",
    "    res_dict = pickle.load(f)\n",
    "    f.close()\n",
    "    \n",
    "configs = res_dict['configs']\n",
    "all_results = res_dict['all_results']\n",
    "n_reps = 20 # this needs to be adjusted accordingly !!!!!!\n",
    "n_configs = int(np.round(len(configs)/n_reps))"
   ]
  },
  {
   "cell_type": "markdown",
   "metadata": {},
   "source": [
    "To produce the graphs used in figure 6 of the paper:\n",
    "* Load 'rl5E_lite_par_2021-01-27__15_17' in the cell above, using n_reps=20\n",
    "* Run the next 3 cells below \n",
    "    * In the next cell (\"plot rewards before/after learning for a given configuration\") use cfg_num=0\n",
    "    * In the second cell (\"display connection matrices\") use n_rep=6"
   ]
  },
  {
   "cell_type": "code",
   "execution_count": 8,
   "metadata": {},
   "outputs": [
    {
     "name": "stdout",
     "output_type": "stream",
     "text": [
      "0.12509160464087773\n"
     ]
    },
    {
     "data": {
      "text/plain": [
       "Ttest_relResult(statistic=-24.99285486943504, pvalue=5.35505087506717e-16)"
      ]
     },
     "execution_count": 8,
     "metadata": {},
     "output_type": "execute_result"
    },
    {
     "data": {
      "image/png": "[encoded data removed]",
      "text/plain": [
       "<Figure size 1800x720 with 1 Axes>"
      ]
     },
     "metadata": {
      "needs_background": "light"
     },
     "output_type": "display_data"
    }
   ],
   "source": [
    "# plot rewards before/after learning for a given configuration\n",
    "cfg_num = 0\n",
    "idxs = list(range(cfg_num, len(configs), n_configs))\n",
    "\n",
    "res_fig0 = plt.figure(figsize=(25,10))\n",
    "mR1 = np.array([all_results[i]['mean_R1'] for i in idxs])\n",
    "mR2 = np.array([all_results[i]['mean_R2'] for i in idxs])\n",
    "plt.scatter(np.ones_like(idxs), mR1, marker='o', s=800, c='r')\n",
    "plt.scatter(2.*np.ones_like(idxs), mR2, marker='^', s=800, c='b')\n",
    "plt.plot([1., 2.], [np.mean(mR1), np.mean(mR2)], c='c')\n",
    "mid = (max(mR1) + min(mR2)) / 2.\n",
    "plt.plot([.7, 2.3], [mid, mid], 'k--')\n",
    "plt.xticks([1, 2], ['R1', 'R2'], fontsize=30)\n",
    "ax = plt.gca()\n",
    "ax.yaxis.set_tick_params(labelsize=25)\n",
    "plt.xlim(0.6,2.4)\n",
    "\n",
    "# print average difference value and t-test\n",
    "r_diffs = np.array([all_results[i]['mean_R2'] - all_results[i]['mean_R1'] for i in idxs])\n",
    "print(np.mean(r_diffs))\n",
    "from scipy import stats\n",
    "#stats.ttest_ind(mR1, mR2)\n",
    "stats.ttest_rel(mR1, mR2)"
   ]
  },
  {
   "cell_type": "code",
   "execution_count": 9,
   "metadata": {},
   "outputs": [
    {
     "data": {
      "text/plain": [
       "Text(0.5, 1.0, 'L--X weights')"
      ]
     },
     "execution_count": 9,
     "metadata": {},
     "output_type": "execute_result"
    },
    {
     "data": {
      "image/png": "[encoded data removed]",
      "text/plain": [
       "<Figure size 1800x720 with 2 Axes>"
      ]
     },
     "metadata": {
      "needs_background": "light"
     },
     "output_type": "display_data"
    }
   ],
   "source": [
    "# display connection matrices\n",
    "n_rep = 0 # for which repetition of the configuration (chosen in the previous cell)\n",
    "mat_fig0 , mat_axs0 = plt.subplots(1, 2, figsize=(25, 10))\n",
    "xs0 = mat_axs0[0]\n",
    "xs1 = mat_axs0[1]\n",
    "xs0.matshow(all_results[idxs[n_rep]]['Vw'].reshape(10,10))\n",
    "xs1.matshow(all_results[idxs[n_rep]]['Xw'].reshape(10,10))\n",
    "\n",
    "xs0.set_ylabel('desired angle [rads]', fontsize=25)\n",
    "xs0.set_xlabel('current angle [rads]', fontsize=25)\n",
    "ticks = np.linspace(0.,9,5)\n",
    "labels = ['{:.2f}'.format(i) for i in np.linspace(0.,2.*np.pi,5)]\n",
    "xs0.set_xticks(ticks)\n",
    "xs0.set_xticklabels(labels)\n",
    "xs0.xaxis.set_tick_params(labelsize=25)\n",
    "xs0.set_yticks(ticks)\n",
    "xs0.set_yticklabels(labels)\n",
    "xs0.yaxis.set_tick_params(labelsize=25)\n",
    "xs0.set_title('L--V weights', fontsize=30)\n",
    "\n",
    "#xs1.set_ylabel('desired angle [rads]', fontsize=25)\n",
    "xs1.set_xlabel('current angle [rads]', fontsize=25)\n",
    "xs1.set_xticks(ticks)\n",
    "xs1.set_xticklabels(labels)\n",
    "xs1.xaxis.set_tick_params(labelsize=25)\n",
    "xs1.set_yticks(ticks)\n",
    "xs1.set_yticklabels(labels)\n",
    "xs1.yaxis.set_tick_params(labelsize=25)\n",
    "xs1.set_title('L--X weights', fontsize=30)"
   ]
  },
  {
   "cell_type": "code",
   "execution_count": 10,
   "metadata": {},
   "outputs": [
    {
     "data": {
      "text/plain": [
       "Text(0.5, 1.0, 'X output')"
      ]
     },
     "execution_count": 10,
     "metadata": {},
     "output_type": "execute_result"
    },
    {
     "data": {
      "image/png": "[encoded data removed]",
      "text/plain": [
       "<Figure size 1800x720 with 2 Axes>"
      ]
     },
     "metadata": {
      "needs_background": "light"
     },
     "output_type": "display_data"
    }
   ],
   "source": [
    "# Display outputs of V and X for the L centers\n",
    "\n",
    "# For the purpose of plotting, we instantiate a network\n",
    "net, pops_dict = rl5E_net(configs[idxs[n_rep]], \n",
    "                          pres_interv=cfg['pres_interv'],\n",
    "                          rand_w=False,\n",
    "                          par_heter=0.1,\n",
    "                          x_switch=True,\n",
    "                          V_normalize=True,\n",
    "                          X_normalize=True)\n",
    "X = pops_dict['X']\n",
    "V = pops_dict['V']\n",
    "x = net.units[X[0]]\n",
    "v = net.units[V[0]]\n",
    "x_weights = all_results[idxs[n_rep]]['Xw']\n",
    "v_weights = all_results[idxs[n_rep]]['Vw']\n",
    "x_outs = np.zeros(len(x.centers))\n",
    "v_outs = np.zeros(len(v.centers))\n",
    "I_x = np.zeros_like(x_outs)\n",
    "I_v = np.zeros_like(v_outs)\n",
    "\n",
    "for idx, angles in enumerate(x.centers):\n",
    "    d = x.dists(angles)\n",
    "    l_acts = np.exp(-x.L_wid * d * d)\n",
    "    I_x[idx] = (l_acts*x_weights).sum()\n",
    "\n",
    "for idx, angles in enumerate(v.centers):\n",
    "    d = v.dists(angles)\n",
    "    l_acts = np.exp(-v.L_wid * d * d)\n",
    "    I_v[idx] = (l_acts*v_weights).sum()\n",
    "    \n",
    "I_x_m = np.mean(I_x)\n",
    "I_v_m = np.mean(I_v)\n",
    "x_outs = np.sign(np.array([x.f(i - I_x_m) for i in I_x])-0.5)\n",
    "v_outs = np.array([v.f(i - I_x_m) for i in I_v])\n",
    "\n",
    "mat_fig1 , mat_axs1 = plt.subplots(1, 2, figsize=(25, 10))\n",
    "xs0 = mat_axs1[0]\n",
    "xs1 = mat_axs1[1]\n",
    "xs0.matshow(v_outs.reshape(10,10))\n",
    "xs1.matshow(x_outs.reshape(10,10))\n",
    "\n",
    "xs0.set_ylabel('desired angle [rads]', fontsize=25)\n",
    "xs0.set_xlabel('current angle [rads]', fontsize=25)\n",
    "ticks = np.linspace(0.,9,5)\n",
    "labels = ['{:.2f}'.format(i) for i in np.linspace(0.,2.*np.pi,5)]\n",
    "xs0.set_xticks(ticks)\n",
    "xs0.set_xticklabels(labels)\n",
    "xs0.xaxis.set_tick_params(labelsize=25)\n",
    "xs0.set_yticks(ticks)\n",
    "xs0.set_yticklabels(labels)\n",
    "xs0.yaxis.set_tick_params(labelsize=25)\n",
    "xs0.set_title('V output', fontsize=30)\n",
    "\n",
    "#xs1.set_ylabel('desired angle [rads]', fontsize=25)\n",
    "xs1.set_xlabel('current angle [rads]', fontsize=25)\n",
    "xs1.set_xticks(ticks)\n",
    "xs1.set_xticklabels(labels)\n",
    "xs1.xaxis.set_tick_params(labelsize=25)\n",
    "xs1.set_yticks(ticks)\n",
    "xs1.set_yticklabels(labels)\n",
    "xs1.yaxis.set_tick_params(labelsize=25)\n",
    "xs1.set_title('X output', fontsize=30)"
   ]
  },
  {
   "cell_type": "code",
   "execution_count": 12,
   "metadata": {},
   "outputs": [
    {
     "data": {
      "image/png": "[encoded data removed]",
      "text/plain": [
       "<Figure size 1800x576 with 1 Axes>"
      ]
     },
     "metadata": {
      "needs_background": "light"
     },
     "output_type": "display_data"
    },
    {
     "data": {
      "image/png": "[encoded data removed]",
      "text/plain": [
       "<Figure size 1800x576 with 1 Axes>"
      ]
     },
     "metadata": {
      "needs_background": "light"
     },
     "output_type": "display_data"
    },
    {
     "name": "stdout",
     "output_type": "stream",
     "text": [
      "Number of times R2 > R1:\n"
     ]
    },
    {
     "data": {
      "text/plain": [
       "array([4.])"
      ]
     },
     "execution_count": 12,
     "metadata": {},
     "output_type": "execute_result"
    }
   ],
   "source": [
    "res_fig1 = plt.figure(figsize=(25,8))\n",
    "markers = ['o' ,'v', '^', '<', '>', '8', 's', 'p', '*', 'h', 'H', 'D', 'd', 'P', 'X', 'o']\n",
    "mstyle1 = dict(s=100, c='b')\n",
    "mstyle2 = dict(s=100, c='r')\n",
    "for r in range(n_reps):\n",
    "    for c in range(n_configs):\n",
    "        plt.scatter([c],[all_results[r*n_configs+c]['mean_R2']],marker=markers[c], **mstyle1)\n",
    "        plt.scatter([c],[all_results[r*n_configs+c]['mean_R1']],marker=markers[c], **mstyle2)\n",
    "        \n",
    "res_fig2 = plt.figure(figsize=(25,8))\n",
    "for r in range(n_reps):\n",
    "    for c in range(n_configs):\n",
    "        plt.scatter([c],[all_results[r*n_configs+c]['mean_R2']-all_results[r*n_configs+c]['mean_R1']],marker=markers[c], **mstyle1)\n",
    "plt.plot(range(n_configs), np.zeros(n_configs), 'k-')\n",
    "        \n",
    "plt.show()\n",
    "\n",
    "wins = np.zeros(n_configs)\n",
    "for r in range(n_reps):\n",
    "    for c in range(n_configs):\n",
    "        if all_results[r*n_configs+c]['mean_R2'] > all_results[r*n_configs+c]['mean_R1']:\n",
    "            wins[c] += 1\n",
    "\n",
    "print(\"Number of times R2 > R1:\")\n",
    "wins"
   ]
  },
  {
   "cell_type": "code",
   "execution_count": 17,
   "metadata": {},
   "outputs": [
    {
     "ename": "IndexError",
     "evalue": "too many indices for array: array is 1-dimensional, but 2 were indexed",
     "output_type": "error",
     "traceback": [
      "\u001b[0;31m---------------------------------------------------------------------------\u001b[0m",
      "\u001b[0;31mIndexError\u001b[0m                                Traceback (most recent call last)",
      "\u001b[0;32m<ipython-input-17-a92e9e55bd5d>\u001b[0m in \u001b[0;36m<module>\u001b[0;34m\u001b[0m\n\u001b[1;32m     11\u001b[0m \u001b[0;32mfor\u001b[0m \u001b[0mconf\u001b[0m \u001b[0;32min\u001b[0m \u001b[0mrange\u001b[0m\u001b[0;34m(\u001b[0m\u001b[0mn_confs\u001b[0m\u001b[0;34m)\u001b[0m\u001b[0;34m:\u001b[0m\u001b[0;34m\u001b[0m\u001b[0;34m\u001b[0m\u001b[0m\n\u001b[1;32m     12\u001b[0m     \u001b[0;32mfor\u001b[0m \u001b[0mrep\u001b[0m \u001b[0;32min\u001b[0m \u001b[0mrange\u001b[0m\u001b[0;34m(\u001b[0m\u001b[0mn_reps\u001b[0m\u001b[0;34m)\u001b[0m\u001b[0;34m:\u001b[0m\u001b[0;34m\u001b[0m\u001b[0;34m\u001b[0m\u001b[0m\n\u001b[0;32m---> 13\u001b[0;31m         \u001b[0max\u001b[0m \u001b[0;34m=\u001b[0m \u001b[0mall_Vw_axs\u001b[0m\u001b[0;34m[\u001b[0m\u001b[0mrep\u001b[0m\u001b[0;34m,\u001b[0m \u001b[0mconf\u001b[0m\u001b[0;34m]\u001b[0m\u001b[0;34m\u001b[0m\u001b[0;34m\u001b[0m\u001b[0m\n\u001b[0m\u001b[1;32m     14\u001b[0m         \u001b[0max\u001b[0m\u001b[0;34m.\u001b[0m\u001b[0mmatshow\u001b[0m\u001b[0;34m(\u001b[0m\u001b[0mall_results\u001b[0m\u001b[0;34m[\u001b[0m\u001b[0mrep\u001b[0m\u001b[0;34m*\u001b[0m\u001b[0mn_confs\u001b[0m\u001b[0;34m+\u001b[0m\u001b[0mconf\u001b[0m\u001b[0;34m]\u001b[0m\u001b[0;34m[\u001b[0m\u001b[0;34m'Vw'\u001b[0m\u001b[0;34m]\u001b[0m\u001b[0;34m.\u001b[0m\u001b[0mreshape\u001b[0m\u001b[0;34m(\u001b[0m\u001b[0;36m10\u001b[0m\u001b[0;34m,\u001b[0m\u001b[0;36m10\u001b[0m\u001b[0;34m)\u001b[0m\u001b[0;34m)\u001b[0m\u001b[0;34m\u001b[0m\u001b[0;34m\u001b[0m\u001b[0m\n\u001b[1;32m     15\u001b[0m \u001b[0mplt\u001b[0m\u001b[0;34m.\u001b[0m\u001b[0mshow\u001b[0m\u001b[0;34m(\u001b[0m\u001b[0;34m)\u001b[0m\u001b[0;34m\u001b[0m\u001b[0;34m\u001b[0m\u001b[0m\n",
      "\u001b[0;31mIndexError\u001b[0m: too many indices for array: array is 1-dimensional, but 2 were indexed"
     ]
    },
    {
     "data": {
      "image/png": "[encoded data removed]",
      "text/plain": [
       "<Figure size 432x864 with 4 Axes>"
      ]
     },
     "metadata": {
      "needs_background": "light"
     },
     "output_type": "display_data"
    },
    {
     "data": {
      "image/png": "[encoded data removed]",
      "text/plain": [
       "<Figure size 288x576 with 4 Axes>"
      ]
     },
     "metadata": {
      "needs_background": "light"
     },
     "output_type": "display_data"
    }
   ],
   "source": [
    "n_reps = 4\n",
    "n_confs = 1\n",
    "all_Xw_fig , all_Xw_axs = plt.subplots(n_reps,n_confs, figsize=(6*n_configs,3*n_reps))\n",
    "all_Xw_axs = all_Xw_axs.reshape((4,1))\n",
    "for conf in range(n_confs):\n",
    "    for rep in range(n_reps):\n",
    "        ax = all_Xw_axs[rep, conf]\n",
    "        ax.matshow(all_results[rep*n_confs+conf]['Xw'].reshape(10,10))\n",
    "        \n",
    "all_Vw_fig , all_Vw_axs = plt.subplots(n_reps,n_confs, figsize=(4*n_configs,2*n_reps))\n",
    "for conf in range(n_confs):\n",
    "    for rep in range(n_reps):\n",
    "        ax = all_Vw_axs[rep, conf]\n",
    "        ax.matshow(all_results[rep*n_confs+conf]['Vw'].reshape(10,10))\n",
    "plt.show()"
   ]
  },
  {
   "cell_type": "code",
   "execution_count": 16,
   "metadata": {},
   "outputs": [
    {
     "data": {
      "image/png": "[encoded data removed]",
      "text/plain": [
       "<Figure size 720x720 with 2 Axes>"
      ]
     },
     "metadata": {
      "needs_background": "light"
     },
     "output_type": "display_data"
    },
    {
     "data": {
      "image/png": "[encoded data removed]",
      "text/plain": [
       "<Figure size 720x720 with 2 Axes>"
      ]
     },
     "metadata": {
      "needs_background": "light"
     },
     "output_type": "display_data"
    }
   ],
   "source": [
    "n = 3\n",
    "Xw = all_results[n]['Xw']\n",
    "Vw = all_results[n]['Vw']\n",
    "\n",
    "V_fig = plt.figure(figsize=(10,10))\n",
    "V_ax = plt.subplot(1,1,1)\n",
    "Vcs = V_ax.imshow(Vw.reshape(10,10))\n",
    "V_fig.colorbar(Vcs)\n",
    "\n",
    "X_fig = plt.figure(figsize=(10,10))\n",
    "X_ax = plt.subplot(1,1,1)\n",
    "Xcs = X_ax.imshow(Xw.reshape(10,10))\n",
    "X_fig.colorbar(Xcs)\n",
    "\n",
    "plt.show()"
   ]
  },
  {
   "cell_type": "code",
   "execution_count": null,
   "metadata": {},
   "outputs": [],
   "source": [
    "# Setting a static value for X\n",
    "net.units[X[0]].switch = False # stop switching\n",
    "net.units[X[0]].thresh = 0."
   ]
  },
  {
   "cell_type": "code",
   "execution_count": null,
   "metadata": {},
   "outputs": [],
   "source": [
    "# Setting, fixing controller weights\n",
    "# standard values:\n",
    "# A__M_mat = np.rray([[0.27141863, 0.29511766, 0.23279135, 0.20067437],\n",
    "#                     [0.23307357, 0.1957229 , 0.28739239, 0.28380952]])\n",
    "\n",
    "# M__C_mat = np.array([[0.0295056,  2.05108517],\n",
    "#                      [2.05111951, 0.02950648]])\n",
    "# limit values:\n",
    "A__M_mat = np.array([[0.4, .5, 0.08, 0.018],\n",
    "                    [0.05, 0. , 0.4, 0.5]])\n",
    "\n",
    "M__C_mat = np.array([[0.,  2.15],\n",
    "                     [2.15, 0.]])\n",
    "\n",
    "\n",
    "for m_idx, m_id in enumerate(M):\n",
    "    for c_idx, c_id in enumerate(C):\n",
    "        syn_list = net.syns[c_id]\n",
    "        for syn in syn_list:\n",
    "            if syn.preID == m_id:\n",
    "                syn.w = M__C_mat[c_idx, m_idx]\n",
    "                syn.alpha = 1e-4 # slowing down learning\n",
    "                break\n",
    "\n",
    "for a_idx, a_id in enumerate(A):\n",
    "    for m_idx, m_id in enumerate(M):\n",
    "        syn_list = net.syns[m_id]\n",
    "        for syn in syn_list:\n",
    "            if syn.preID == a_id:\n",
    "                syn.w = A__M_mat[m_idx, a_idx]\n",
    "                syn.alpha = 1e-4 # slowing down learning\n",
    "                break\n",
    "                "
   ]
  },
  {
   "cell_type": "code",
   "execution_count": null,
   "metadata": {
    "collapsed": false,
    "jupyter": {
     "outputs_hidden": false
    }
   },
   "outputs": [],
   "source": [
    "sim_time = 4.\n",
    "#ratio = 15.1 # cns-amd\n",
    "ratio = 1.4 # breaker\n",
    "#ratio = 1.6 # breaker, no L,V\n",
    "secs2finish = sim_time * ratio\n",
    "lt1 = time.localtime()\n",
    "hrs, hrs_rem = divmod(secs2finish, 3600)\n",
    "mins, mns_rem = divmod(hrs_rem, 60)\n",
    "xtra_hrs, new_mins = divmod(lt1.tm_min+mins, 60)\n",
    "print(\"Expecting to finish at: %d:%d (%d seconds)\" % \n",
    "      (lt1.tm_hour+hrs+xtra_hrs, new_mins, secs2finish))\n",
    "start_time = time.time()\n",
    "\n",
    "times, data, plant_data  = net.run(sim_time)\n",
    "\n",
    "print('Execution time is %s seconds' % (time.time() - start_time))\n",
    "lt2 = time.localtime\n",
    "print(\"Finished at \" + time.strftime('%H:%M'))\n",
    "data = np.array(data)\n",
    "\n",
    "# import cProfile\n",
    "# import pstats\n",
    "# cProfile.run('times, data, plant_data = net.run(2.)', 'restats')\n",
    "# prof = pstats.Stats('restats')\n",
    "# prof.sort_stats('cumulative').print_stats(30)\n",
    "# data = np.array(data"
   ]
  },
  {
   "cell_type": "code",
   "execution_count": null,
   "metadata": {},
   "outputs": [],
   "source": [
    "# running in two stages. Initial high learning rate and viscosity.\n",
    "sim_time = 150.\n",
    "#ratio = 15.1 # cns-amd\n",
    "#ratio = 20. # breaker\n",
    "ratio = 1.6 # breaker, no L,V\n",
    "secs2finish = sim_time * ratio\n",
    "lt1 = time.localtime()\n",
    "hrs, hrs_rem = divmod(secs2finish, 3600)\n",
    "mins, mns_rem = divmod(hrs_rem, 60)\n",
    "xtra_hrs, new_mins = divmod(lt1.tm_min+mins, 60)\n",
    "print(\"Expecting to finish firstst simulation at %d:%d (%d seconds)\" % \n",
    "      (lt1.tm_hour+hrs+xtra_hrs, new_mins, secs2finish))\n",
    "start_time = time.time()\n",
    "\n",
    "times, data, plant_data  = net.run(sim_time)\n",
    "\n",
    "print('Initial execution time is %s seconds' % (time.time() - start_time))\n",
    "lt2 = time.localtime\n",
    "print(\"Finished at \" + time.strftime('%H:%M'))\n",
    "data = np.array(data)\n",
    "\n",
    "sim_time = 100.\n",
    "net.plants[0].mu = 0.5\n",
    "for i in [0,1]:\n",
    "    for syn in net.syns[C[i]]:\n",
    "        if syn.type == 'rga_21':\n",
    "            syn.lrate = 100.\n",
    "            syn.alpha = syn.lrate * net.min_delay\n",
    "\n",
    "secs2finish = sim_time * ratio\n",
    "lt1 = time.localtime()\n",
    "hrs, hrs_rem = divmod(secs2finish, 3600)\n",
    "mins, mns_rem = divmod(hrs_rem, 60)\n",
    "xtra_hrs, new_mins = divmod(lt1.tm_min+mins, 60)\n",
    "print(\"Expecting to finish at: %d:%d (%d seconds)\" % \n",
    "      (lt1.tm_hour+hrs+xtra_hrs, new_mins, secs2finish))\n",
    "start_time = time.time()\n",
    "\n",
    "times, data, plant_data  = net.run(sim_time)\n",
    "\n",
    "print('Second execution time is %s seconds' % (time.time() - start_time))\n",
    "lt2 = time.localtime\n",
    "print(\"Finished at \" + time.strftime('%H:%M'))\n",
    "data = np.array(data)"
   ]
  },
  {
   "cell_type": "code",
   "execution_count": null,
   "metadata": {},
   "outputs": [],
   "source": [
    "net.units[SP[0]].set_function(lambda t: des_sf[int(round(t/15.))])"
   ]
  },
  {
   "cell_type": "code",
   "execution_count": null,
   "metadata": {},
   "outputs": [],
   "source": [
    "# reducing the scope of the plots\n",
    "data_back = data\n",
    "times_back = times\n",
    "plant_data_back = [np.array([])]\n",
    "plant_data_back[0] = plant_data[0]\n",
    "\n",
    "first_idx=0*200\n",
    "second_idx=1*200\n",
    "times = times[first_idx:second_idx]\n",
    "data = data[:, first_idx:second_idx]\n",
    "plant_data[0] = plant_data[0][first_idx:second_idx,:]"
   ]
  },
  {
   "cell_type": "code",
   "execution_count": null,
   "metadata": {},
   "outputs": [],
   "source": [
    "# recover the data\n",
    "data = data_back\n",
    "plant_data[0] = plant_data_back[0]\n",
    "times = times_back"
   ]
  },
  {
   "cell_type": "code",
   "execution_count": null,
   "metadata": {},
   "outputs": [],
   "source": [
    "fs = (20,6)\n",
    "\n",
    "# M\n",
    "M_fig = plt.figure(figsize=fs)\n",
    "M_data = np.array(data[M])\n",
    "plt.plot(times, M_data.transpose())\n",
    "plt.legend(['M0', 'M1'])\n",
    "plt.title('M0, M1')\n",
    "#print(M_data[:,-1])\n",
    "\n",
    "# MPLEX\n",
    "MPLEX_fig = plt.figure(figsize=fs) #(30,12))\n",
    "MPLEX_data = np.array(data[MPLEX])\n",
    "plt.plot(times, MPLEX_data.transpose())\n",
    "plt.legend(['MPLEX0', 'MPLEX1'])\n",
    "plt.title('MPLEX0, MPLEX1')\n",
    "\n",
    "# V, R\n",
    "V_fig = plt.figure(figsize=(30,10)) #fs)\n",
    "V_data = np.array(data[V])\n",
    "R_data = np.array(data[R])\n",
    "#R = np.exp(-net.units[V[0]].R_wid * np.abs(MPLEX_data[0,:]-MPLEX_data[1,:]))\n",
    "plt.plot(times, V_data.transpose())\n",
    "plt.plot(times, R_data.transpose())\n",
    "plt.title('V, R')\n",
    "#plt.plot(times, R, linewidth=4)\n",
    "plt.legend(['V', 'R'])\n",
    "\n",
    "# # M--C0 weights\n",
    "# W_fig1 = plt.figure(figsize=fs)\n",
    "# w_track_data = np.array(data[M_C0_track])\n",
    "# plt.plot(times, w_track_data.transpose())\n",
    "# plt.legend(['M0-C0', 'M1-C0'])\n",
    "# plt.title('M--C0 weights')\n",
    "\n",
    "# # A--M0 weights\n",
    "# W_fig2 = plt.figure(figsize=fs)\n",
    "# w_track_data2 = np.array(data[A_M0_track])\n",
    "# plt.plot(times, w_track_data2.transpose())\n",
    "# plt.legend(['A0-M0', 'A1-M0', 'A2-M0', 'A3-M0'])\n",
    "# plt.title('A--M0 weights')\n",
    "\n",
    "plt.show()"
   ]
  },
  {
   "cell_type": "code",
   "execution_count": null,
   "metadata": {},
   "outputs": [],
   "source": [
    "# X\n",
    "X_fig = plt.figure(figsize=fs)\n",
    "X_data = np.array(data[X])\n",
    "plt.plot(times, X_data.transpose())\n",
    "plt.plot(times, 0.5*np.ones(len(times)), 'k', linewidth=1)\n",
    "#plt.ylim([-0.05,1.05])\n",
    "#plt.legend(['X'])\n",
    "plt.title('X')\n",
    "\n",
    "# SF, SP\n",
    "SF_fig = plt.figure(figsize=fs)\n",
    "SF_data = np.array(data[SF])\n",
    "SP_data = np.array(data[SP])\n",
    "plt.plot(times, SF_data.transpose(), label='SF')\n",
    "plt.plot(times, SP_data.transpose(), label='SP', linewidth=4)\n",
    "plt.legend()\n",
    "plt.title('SF, SP')\n",
    "plt.show()\n",
    "#print('SF = [%f]' % (SF_data[0,-1]))\n",
    "#print('SP = [%f]' % (SP_data[0,-1]))\n",
    "\n",
    "# SPF\n",
    "fs = (20,6)\n",
    "SPF_fig = plt.figure(figsize=fs)\n",
    "SPF_data = np.array(data[SPF])\n",
    "plt.plot(times, SPF_data.transpose())\n",
    "plt.legend(['SPF0', 'SPF1'])\n",
    "plt.title('SPF')"
   ]
  },
  {
   "cell_type": "code",
   "execution_count": null,
   "metadata": {
    "collapsed": false,
    "jupyter": {
     "outputs_hidden": false
    }
   },
   "outputs": [],
   "source": [
    "# P, DA\n",
    "pres_interv=5.\n",
    "P_fig = plt.figure(figsize=fs)\n",
    "P_data = plant_data[P]\n",
    "plt.plot(times, P_data[:,0], label='angle')\n",
    "plt.plot(times, P_data[:,1], label='ang vel')\n",
    "plt.plot(times, des_angs[(times/pres_interv).astype(int)], label='des_ang')\n",
    "plt.legend()\n",
    "plt.title('pendulum')\n",
    "#print(\"angle: %f, vel: %f\" % (P_data[-1,0],P_data[-1,1]))\n",
    "\n",
    "# A\n",
    "A_fig = plt.figure(figsize=fs)\n",
    "A_data = np.array(data[A])\n",
    "plt.plot(times, A_data.transpose())\n",
    "plt.legend(['A0', 'A1', 'A2', 'A3'])\n",
    "plt.title('A')\n",
    "#print(A_data[:,-1])\n",
    "\n",
    "# L\n",
    "# L_fig = plt.figure(figsize=fs)\n",
    "# L_data = np.array(data[L])\n",
    "# plt.plot(times, L_data.transpose())\n",
    "# plt.title('L')\n",
    "\n",
    "# C0\n",
    "C0_fig = plt.figure(figsize=fs)\n",
    "C0_data = np.array(data[C[0]])\n",
    "plt.plot(times, C0_data.transpose())\n",
    "#plt.plot(times, data[dc_track[0]], linewidth=3)\n",
    "plt.title('C0')\n",
    "#print(C0_data[-1])\n",
    "\n",
    "# C1\n",
    "C1_fig = plt.figure(figsize=fs)\n",
    "C1_data = np.array(data[C[1]])\n",
    "plt.plot(times, C1_data.transpose())\n",
    "#plt.plot(times, data[dc_track[1]], linewidth=3)\n",
    "plt.title('C1')\n",
    "#print(C1_data[-1])\n"
   ]
  },
  {
   "cell_type": "code",
   "execution_count": null,
   "metadata": {},
   "outputs": [],
   "source": [
    "max(net.units[V[0]].buffer[1:,-1]) - min(net.units[V[0]].buffer[1:,-1])"
   ]
  },
  {
   "cell_type": "code",
   "execution_count": null,
   "metadata": {},
   "outputs": [],
   "source": [
    "net.units[V[0]].buffer[1:,-1]"
   ]
  },
  {
   "cell_type": "code",
   "execution_count": null,
   "metadata": {},
   "outputs": [],
   "source": [
    "net.units[V[0]].buffer[1:,-1]\n",
    "d_fig = plt.figure(figsize=(10,10))\n",
    "d_ax = plt.subplot(1,1,1)\n",
    "cs = d_ax.imshow(net.units[V[0]].buffer[1:,-1].reshape(10,10))\n",
    "d_fig.colorbar(cs)\n",
    "plt.show()"
   ]
  },
  {
   "cell_type": "code",
   "execution_count": null,
   "metadata": {},
   "outputs": [],
   "source": [
    "max(net.units[X[0]].buffer[1:,-1]) - min(net.units[X[0]].buffer[1:,-1])"
   ]
  },
  {
   "cell_type": "code",
   "execution_count": null,
   "metadata": {},
   "outputs": [],
   "source": [
    "net.units[V[0]].buffer[1:,-1].sum()"
   ]
  },
  {
   "cell_type": "code",
   "execution_count": null,
   "metadata": {},
   "outputs": [],
   "source": [
    "# Visualize L__V weights\n",
    "n_plots = 20 # number of plots, each at a different time\n",
    "n_rows = int(np.ceil(np.sqrt(n_plots)))\n",
    "n_cols = int(np.ceil(n_plots/n_rows))\n",
    "t_idxs = [int(i) for i in np.linspace(0, len(times)-1, n_plots)]\n",
    "\n",
    "L__V_fig, L__V_axs = plt.subplots(n_rows, n_cols, figsize=(fs[0], n_cols*fs[1]))\n",
    "for i_plot in range(n_plots):\n",
    "    row, col = np.divmod(i_plot, n_cols)\n",
    "    ax = L__V_axs[row][col]\n",
    "    cs = ax.imshow(data[v_track][:,t_idxs[i_plot]].reshape(No2,No2))\n",
    "    ax.set_title('t='+str(times[t_idxs[i_plot]]))\n",
    "    \n",
    "plt.show()"
   ]
  },
  {
   "cell_type": "code",
   "execution_count": null,
   "metadata": {},
   "outputs": [],
   "source": [
    "# Visualize L__X weights\n",
    "n_plots = 20 # number of plots, each at a different time\n",
    "n_rows = int(np.ceil(np.sqrt(n_plots)))\n",
    "n_cols = int(np.ceil(n_plots/n_rows))\n",
    "t_idxs = [int(i) for i in np.linspace(0, len(times)-1, n_plots)]\n",
    "\n",
    "L__X_fig, L__X_axs = plt.subplots(n_rows, n_cols, figsize=(fs[0], n_cols*fs[1]))\n",
    "for i_plot in range(n_plots):\n",
    "    row, col = np.divmod(i_plot, n_cols)\n",
    "    ax = L__X_axs[row][col]\n",
    "    cs = ax.imshow(data[x_track][:,t_idxs[i_plot]].reshape(No2,No2))\n",
    "    ax.set_title('t='+str(times[t_idxs[i_plot]]))\n",
    "    \n",
    "plt.show()"
   ]
  },
  {
   "cell_type": "code",
   "execution_count": null,
   "metadata": {},
   "outputs": [],
   "source": [
    "L_out_fig = plt.figure(figsize=(8,8))\n",
    "axs = plt.subplot(1,1,1)\n",
    "cs = axs.imshow(net.units[V[0]].L_out_copy.reshape(10,10))\n",
    "L_out_fig.colorbar(cs)\n",
    "plt.show()"
   ]
  },
  {
   "cell_type": "code",
   "execution_count": null,
   "metadata": {},
   "outputs": [],
   "source": [
    "net.units[V[0]].L_out_copy.sum()"
   ]
  },
  {
   "cell_type": "code",
   "execution_count": null,
   "metadata": {},
   "outputs": [],
   "source": [
    "# Storing the M__C and A__M connections\n",
    "M__C_mat = np.zeros((2,2)) # rows are target (C) neurons\n",
    "for m_idx, m_id in enumerate(M):\n",
    "    for c_idx, c_id in enumerate(C):\n",
    "        syn_list = net.syns[c_id]\n",
    "        for syn in syn_list:\n",
    "            if syn.preID == m_id:\n",
    "                M__C_mat[c_idx, m_idx] = syn.w\n",
    "                break\n",
    "                \n",
    "A__M_mat = np.zeros((2,4)) # rows are target (M) neurons\n",
    "for a_idx, a_id in enumerate(A):\n",
    "    for m_idx, m_id in enumerate(M):\n",
    "        syn_list = net.syns[m_id]\n",
    "        for syn in syn_list:\n",
    "            if syn.preID == a_id:\n",
    "                A__M_mat[m_idx, a_idx] = syn.w\n",
    "                break\n",
    "print(M__C_mat)\n",
    "print(A__M_mat)"
   ]
  },
  {
   "cell_type": "code",
   "execution_count": null,
   "metadata": {},
   "outputs": [],
   "source": [
    "plotty = plotter(net, times, data)"
   ]
  },
  {
   "cell_type": "code",
   "execution_count": null,
   "metadata": {},
   "outputs": [],
   "source": [
    "plotty.act_anim(S1+S2+L+R+V, 0.5, interv=10, slider=False)"
   ]
  },
  {
   "cell_type": "code",
   "execution_count": null,
   "metadata": {},
   "outputs": [],
   "source": [
    "plotty.conn_anim(L, V)"
   ]
  },
  {
   "cell_type": "code",
   "execution_count": null,
   "metadata": {},
   "outputs": [],
   "source": [
    "# A figure with more formatting\n",
    "SPF_fig = plt.figure(figsize=(20,10))\n",
    "SF_data = np.array(data[SF])\n",
    "SP_data = np.array(data[SP])\n",
    "plt.plot(times, SF_data.transpose(), label='$S_P$', linewidth=2)\n",
    "plt.plot(times, SP_data.transpose(), label='$S_D$', linewidth=4)\n",
    "plt.xticks(fontsize=25)\n",
    "plt.yticks(fontsize=25)\n",
    "plt.legend(fontsize=25)\n",
    "plt.xlabel('time (s)', fontsize =25)\n",
    "plt.title('$S_D, S_P$', fontsize=30)\n",
    "plt.show()"
   ]
  },
  {
   "cell_type": "code",
   "execution_count": null,
   "metadata": {},
   "outputs": [],
   "source": [
    "# good initial weights\n",
    "\n",
    "# M__C\n",
    "# M[0] has the F-D error, so you want C[0] (which exerts positive torque)\n",
    "# to be driven by M[1] instead, and C[1] to be driven by M[0]\n",
    "shift = 0\n",
    "while not net.syns[C[0]][shift].type is synapse_types.rga:\n",
    "    shift += 1\n",
    "net.syns[C[0]][shift].w = 0.1\n",
    "net.syns[C[0]][shift+1].w = 0.8 # C[0] driven by M[1]\n",
    "net.syns[C[1]][shift].w = 0.8\n",
    "net.syns[C[1]][shift+1].w = 0.1\n",
    "\n",
    "# L__X, L__V\n",
    "scale = 1. # maximum weight value\n",
    "def dist(c1, c2):\n",
    "    \"\"\" Periodic distance between 2-dim coordinates c1 and c2. \n",
    "\n",
    "        Assumes c1 and c2 are inside the box with corners [-0.5, -0.5], [0.5, 0.5].\n",
    "    \"\"\"\n",
    "    x_dist = min(max(c1[0], c2[0]) - min(c1[0], c2[0]),  # \"inner\" distance\n",
    "                 0.5-max(c1[0], c2[0]) + (min(c1[0], c2[0])+0.5) ) # \"outer\" distance\n",
    "    y_dist = min(max(c1[1], c2[1]) - min(c1[1], c2[1]),  # \"inner\" distance\n",
    "                 0.5-max(c1[1], c2[1]) + (min(c1[1], c2[1])+0.5) ) # \"outer\" distance\n",
    "    return np.sqrt(x_dist*x_dist + y_dist*y_dist)\n",
    "\n",
    "#L__V_iw = np.zeros((No2, No2))\n",
    "j = 0\n",
    "for i in range(len(L)):  # Setting L__V weights\n",
    "    u = net.units[L[i]]\n",
    "    c = u.coordinates\n",
    "    d = dist(c, [c[1], c[1]])\n",
    "    Vsyn = net.syns[V[0]][i]\n",
    "    Xsyn = net.syns[X[0]][i+j]\n",
    "    while Xsyn.type != synapse_types.diff_rm_hebbian:\n",
    "        j +=1\n",
    "        Xsyn = net.syns[X[0]][i+j]\n",
    "    if Vsyn.preID == u.ID and Xsyn.preID == u.ID:\n",
    "        a, b = divmod(i, No2)\n",
    "        Vsyn.w = scale*(.5 - d)\n",
    "        Xsyn.w = 0.01 if abs(c[1]-c[0]) < 0.5-max(c[1],c[0]) + min(c[1],c[0])+0.5 else .8\n",
    "    else:\n",
    "        print(\"FAILED!!!!!!!\")"
   ]
  },
  {
   "cell_type": "code",
   "execution_count": null,
   "metadata": {},
   "outputs": [],
   "source": [
    "#===================================================================\n",
    "#================ CREATE THE NETWORK ===============================\n",
    "#===================================================================\n",
    "net, pops_dict = rl5E_net(cfg, \n",
    "                          pres_interv=5.,\n",
    "                          rand_w=False,\n",
    "                          par_heter=0.1,\n",
    "                          x_switch=True,\n",
    "                          V_normalize=True,\n",
    "                          X_normalize=True)\n",
    "\n",
    "for name in pops_dict:\n",
    "    exec(name + '=' + str(pops_dict[name]))\n",
    "des_angs = np.array(des_angs)"
   ]
  },
  {
   "cell_type": "code",
   "execution_count": null,
   "metadata": {
    "collapsed": false,
    "jupyter": {
     "outputs_hidden": false
    }
   },
   "outputs": [],
   "source": [
    "# plot all factors in the M--C0 synaptic plasticity\n",
    "fs = (20,6)\n",
    "plastic_fig = plt.figure(figsize=fs)\n",
    "xp_data = np.array(data[xp_track[0]])\n",
    "up_data = np.array(data[up_track[0]])\n",
    "sp_data = np.array(data[sp_track[0]])\n",
    "spj_data = np.array(data[spj_track[0]])\n",
    "plt.plot(times, xp_data)\n",
    "plt.plot(times, up_data)\n",
    "plt.plot(times, sp_data)\n",
    "plt.plot(times, spj_data)\n",
    "plt.legend(['xp', 'up', 'sp', 'spj'])\n",
    "\n",
    "plastic_fig2 = plt.figure(figsize=fs)\n",
    "f1 = up_data - xp_data\n",
    "f2 = sp_data - spj_data\n",
    "rule = 500. * f1 * f2\n",
    "plt.plot(times, f1)\n",
    "plt.plot(times, f2)\n",
    "plt.plot(times, rule)\n",
    "plt.plot(times, np.zeros(len(times)), 'k', linewidth=1)\n",
    "plt.legend(['up - xp', 'sp - spj', 'prod'])\n",
    "plt.show()"
   ]
  },
  {
   "cell_type": "code",
   "execution_count": null,
   "metadata": {
    "collapsed": false,
    "jupyter": {
     "outputs_hidden": false
    }
   },
   "outputs": [],
   "source": [
    "# checking some connections\n",
    "print(\"Connections to M0 unit\")\n",
    "for idx, syn in enumerate(net.syns[M[0]]):\n",
    "    pre_id = syn.preID\n",
    "    pre_type = net.units[pre_id].type\n",
    "    if pre_id == P and hasattr(syn, 'plant_out'):\n",
    "        pre_pop = 'P'\n",
    "    elif pre_id in A:\n",
    "        pre_pop = 'A'\n",
    "    #elif pre_id in L:\n",
    "    #    pre_pop = 'L'\n",
    "    elif pre_id in M:\n",
    "        pre_pop = 'M'\n",
    "    #elif pre_id in V:\n",
    "    #    pre_pop = 'V'\n",
    "    elif pre_id in SPF:\n",
    "        pre_pop = 'SPF'\n",
    "    else:\n",
    "        pre_pop = 'erroneous'\n",
    "    if pre_pop == 'P':\n",
    "        plant_out = str(syn.plant_out)\n",
    "    else:\n",
    "        plant_out = 'None'\n",
    "    print('%d) %s (%d) --> M0, w=%f, port=%d, plant_out=%s'%(idx, pre_pop, pre_id, syn.w, syn.port, plant_out))\n",
    "\n",
    "print(\"Connections to M1 unit\")\n",
    "for idx, syn in enumerate(net.syns[M[1]]):\n",
    "    pre_id = syn.preID\n",
    "    pre_type = net.units[pre_id].type\n",
    "    if pre_id == P and hasattr(syn, 'plant_out'):\n",
    "        pre_pop = 'P'\n",
    "    elif pre_id in A:\n",
    "        pre_pop = 'A'\n",
    "    #elif pre_id in L:\n",
    "    #    pre_pop = 'L'\n",
    "    elif pre_id in M:\n",
    "        pre_pop = 'M'\n",
    "    #elif pre_id in V:\n",
    "    #    pre_pop = 'V'\n",
    "    elif pre_id in SPF:\n",
    "        pre_pop = 'SPF'\n",
    "    else:\n",
    "        pre_pop = 'erroneous'\n",
    "    if pre_pop == 'P':\n",
    "        plant_out = str(syn.plant_out)\n",
    "    else:\n",
    "        plant_out = 'None'\n",
    "    print('%d) %s (%d) --> M1, w=%f, port=%d, plant_out=%s'%(idx, pre_pop, pre_id, syn.w, syn.port, plant_out))\n",
    "    \n",
    "print(\"Connections to C0 unit\")\n",
    "for idx, syn in enumerate(net.syns[C[0]]):\n",
    "    pre_id = syn.preID\n",
    "    pre_type = net.units[pre_id].type\n",
    "    if pre_id == P and hasattr(syn, 'plant_out'):\n",
    "        pre_pop = 'P'\n",
    "    elif pre_id in A:\n",
    "        pre_pop = 'A'\n",
    "    elif pre_id in M:\n",
    "        pre_pop = 'M'\n",
    "    elif pre_id in C:\n",
    "        pre_pop = 'C'\n",
    "    else:\n",
    "        pre_pop = 'erroneous'\n",
    "    if pre_pop == 'P':\n",
    "        plant_out = str(syn.plant_out)\n",
    "    else:\n",
    "        plant_out = 'None'\n",
    "    print('%d) %s (%d) --> C0, w=%f, port=%d, plant_out=%s'%(idx, pre_pop, pre_id, syn.w, syn.port, plant_out))  \n",
    "\n",
    "print(\"Connections to C1 unit\")\n",
    "for idx, syn in enumerate(net.syns[C[1]]):\n",
    "    pre_id = syn.preID\n",
    "    pre_type = net.units[pre_id].type\n",
    "    if pre_id == P and hasattr(syn, 'plant_out'):\n",
    "        pre_pop = 'P'\n",
    "    elif pre_id in A:\n",
    "        pre_pop = 'A'\n",
    "    elif pre_id in M:\n",
    "        pre_pop = 'M'\n",
    "    elif pre_id in C:\n",
    "        pre_pop = 'C'\n",
    "    else:\n",
    "        pre_pop = 'erroneous'\n",
    "    if pre_pop == 'P':\n",
    "        plant_out = str(syn.plant_out)\n",
    "    else:\n",
    "        plant_out = 'None'\n",
    "    print('%d) %s (%d) --> C1, w=%f, port=%d, plant_out=%s'%(idx, pre_pop, pre_id, syn.w, syn.port, plant_out))  \n",
    "\n",
    "    \n",
    "print(\"Connections to afferent units\")\n",
    "for idx, syn in enumerate(net.syns[A[2]]):\n",
    "    pre_id = syn.preID\n",
    "    pre_type = net.units[pre_id].type\n",
    "    if pre_id == P and hasattr(syn, 'plant_out'):\n",
    "        pre_pop = 'P'\n",
    "    elif pre_id in A:\n",
    "        pre_pop = 'A'\n",
    "    else:\n",
    "        pre_pop = 'erroneous'\n",
    "    if pre_pop == 'P':\n",
    "        plant_out = str(syn.plant_out)\n",
    "    else:\n",
    "        plant_out = 'None'\n",
    "    print('%d) %s (%d) --> A, w=%f, port=%d, plant_out=%s'%(idx, pre_pop, pre_id, syn.w, syn.port, plant_out))\n",
    "\n",
    "print(\"Connections to plant\")\n",
    "for idx, syn in enumerate(net.plants[P].inp_syns[0]):\n",
    "    pre_id = syn.preID\n",
    "    pre_type = net.units[pre_id].type\n",
    "    if pre_id in C:\n",
    "        pre_pop = 'C'\n",
    "    else:\n",
    "        pre_pop = 'erroneous'\n",
    "    print('%d) %s (%d, %s) --> P, w=%f'%(idx, pre_pop, pre_id, pre_type, syn.w))\n",
    "    \n",
    "print(\"Connections to MPLEX units\")\n",
    "for idx, syn in enumerate(net.syns[MPLEX[0]]):\n",
    "    pre_id = syn.preID\n",
    "    pre_type = net.units[pre_id].type\n",
    "    if pre_id in X:\n",
    "        pre_pop = 'X'\n",
    "    elif pre_id in SF:\n",
    "        pre_pop = 'SF'\n",
    "    elif pre_id in SP:\n",
    "        pre_pop = 'SP'\n",
    "    else:\n",
    "        pre_pop = 'erroneous'\n",
    "    print('%d) %s (%d) --> MPLEX, w=%f, port=%d'%(idx, pre_pop, pre_id, syn.w, syn.port))  \n",
    "\n",
    "print(\"Connections to SF units\")\n",
    "for idx, syn in enumerate(net.syns[SF[1]]):\n",
    "    pre_id = syn.preID\n",
    "    pre_type = net.units[pre_id].type\n",
    "    if pre_id == P and hasattr(syn, 'plant_out'):\n",
    "        pre_pop = 'P'\n",
    "    elif pre_id in T:\n",
    "        pre_pop = 'T'\n",
    "    else:\n",
    "        pre_pop = 'erroneous'\n",
    "    print('%d) %s (%d) --> SF, w=%f, port=%d, plant_out=%s'%\n",
    "          (idx, pre_pop, pre_id, syn.w, syn.port, plant_out))\n",
    "\n",
    "print(\"Connections to X unit\")\n",
    "for idx, syn in enumerate(net.syns[X[0]]):\n",
    "    pre_id = syn.preID\n",
    "    pre_type = net.units[pre_id].type\n",
    "    if pre_id in V:\n",
    "        pre_pop = 'V'\n",
    "    elif pre_id in MPLEX:\n",
    "        pre_pop = 'MPLEX'\n",
    "    else:\n",
    "        pre_pop = 'erroneous'\n",
    "    print('%d) %s (%d) --> X, w=%f, port=%d'%(idx, pre_pop, pre_id, syn.w, syn.port))  \n",
    "    \n",
    "print(\"Connections to V unit\")\n",
    "for idx, syn in enumerate(net.syns[V[0]]):\n",
    "    pre_id = syn.preID\n",
    "    pre_type = net.units[pre_id].type\n",
    "    if pre_id in MPLEX:\n",
    "        pre_pop = 'MPLEX'\n",
    "    elif pre_id in R:\n",
    "        pre_pop = 'R'\n",
    "    else:\n",
    "        pre_pop = 'erroneous'\n",
    "    print('%d) %s (%d) --> V, w=%f, port=%d'%(idx, pre_pop, pre_id, syn.w, syn.port))  \n"
   ]
  },
  {
   "cell_type": "markdown",
   "metadata": {},
   "source": [
    "---"
   ]
  },
  {
   "cell_type": "code",
   "execution_count": null,
   "metadata": {},
   "outputs": [],
   "source": []
  }
 ],
 "metadata": {
  "kernelspec": {
   "display_name": "Python 3",
   "language": "python",
   "name": "python3"
  },
  "language_info": {
   "codemirror_mode": {
    "name": "ipython",
    "version": 3
   },
   "file_extension": ".py",
   "mimetype": "text/x-python",
   "name": "python",
   "nbconvert_exporter": "python",
   "pygments_lexer": "ipython3",
   "version": "3.9.2"
  }
 },
 "nbformat": 4,
 "nbformat_minor": 4
}
