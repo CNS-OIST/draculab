{
 "cells": [
  {
   "cell_type": "markdown",
   "metadata": {},
   "source": [
    "# rl2.ipynb\n",
    "\n",
    "This notebook contains the second step in the 5-step process outlined in November 13th, 2020, in order to produce an actor-critic architecture for pendulum control.\n",
    "\n",
    "In step 1 we create a network with N units that takes the activity of 1 unit and transforms it into a bell-shaped representation.\n",
    "In here we put 2 of those as the inputs to a (N/2)x(N/2) grid, and visualize.\n",
    "\n",
    "To achieve bell-shaped tuning, we use the `bell_shaped_1D` unit model."
   ]
  },
  {
   "cell_type": "code",
   "execution_count": 1,
   "metadata": {},
   "outputs": [
    {
     "name": "stdout",
     "output_type": "stream",
     "text": [
      "/home/z/projects/draculab/notebook\n"
     ]
    }
   ],
   "source": [
    "%cd ../..\n",
    "import numpy as np\n",
    "import matplotlib.pyplot as plt\n",
    "import time\n",
    "from draculab import *"
   ]
  },
  {
   "cell_type": "code",
   "execution_count": 2,
   "metadata": {},
   "outputs": [],
   "source": [
    "N = 10 # number of units in each S network\n",
    "No2 = int(np.ceil(N/2))\n",
    "net_params = {'min_delay' : 0.005,\n",
    "              'min_buff_size' : 10 }\n",
    "A_params = {'type' : unit_types.source,\n",
    "            'init_val' : 0.5,\n",
    "            'function' : lambda t: None}\n",
    "L_params = {'type' : unit_types.sigmoidal,\n",
    "            'thresh' : 0.5,\n",
    "            'slope' : 4.,\n",
    "            'tau' : 0.02,\n",
    "            'init_val' : 0.5 }\n",
    "L_geom = {'shape' : 'sheet',\n",
    "          'arrangement' : 'grid',\n",
    "          'rows' : No2,\n",
    "          'columns' : No2,\n",
    "          'center' : [0., 0.],\n",
    "          'extent' : [1., 1.] }\n",
    "S_params = {'type' : unit_types.bell_shaped_1D,\n",
    "            'init_val' : 0.1,\n",
    "            'tau' : 0.01,\n",
    "            'center' : list(np.linspace(0., 1., N)),\n",
    "            'b' : 30. }\n",
    "S1_params = S_params.copy()\n",
    "S2_params = S_params.copy()\n",
    "S1_params['coordinates'] = [np.array([-.6, -.5 + i/N]) for i in range(N)]\n",
    "S2_params['coordinates'] = [np.array([-.5 + i/N, -.5]) for i in range(N)]\n",
    "\n",
    "# S1_geom = {'shape' : 'sheet',\n",
    "#            'arrangement' : 'grid',\n",
    "#            'rows' : N,\n",
    "#            'columns' : 1,\n",
    "#            'center' : [-1.5, 0.],\n",
    "#            'extent' : [.5, 1.] }\n",
    "# S2_geom = {'shape' : 'sheet',\n",
    "#            'arrangement' : 'grid',\n",
    "#            'rows' : 1,\n",
    "#            'columns' : N,\n",
    "#            'center' : [0., -1.5],\n",
    "#            'extent' : [1., .5] }\n",
    "\n",
    "\n",
    "net = network(net_params)\n",
    "topo = topology()\n",
    "A = net.create(2, A_params)\n",
    "S1 = net.create(N, S1_params)\n",
    "S2 = net.create(N, S2_params)\n",
    "L = topo.create_group(net, L_geom, L_params)\n",
    "\n",
    "net.units[A[0]].set_function(lambda t: 0.5*(np.sin(t)+1.))\n",
    "net.units[A[1]].set_function(lambda t: 0.5*(np.cos(t)+1.))\n",
    "\n",
    "A__S_conn = {'rule' : 'all_to_all',\n",
    "             'delay' : 0.01 }\n",
    "A__S_syn = {'type' : synapse_types.static,\n",
    "            'init_w' : 1. }\n",
    "S1__L_conn_spec = {'connection_type' : 'divergent',\n",
    "                  'mask' : {'circular' : {'radius' : 2. }},\n",
    "                  'kernel' : 1.,\n",
    "                  'delays' : {'linear' : {'c' : 0.01, 'a': 0.01}},\n",
    "                  'weights' : {'gaussian' : {'w_center' : 1., 'sigma' : 0.1}},\n",
    "                  'dist_dim' : 'y',\n",
    "                  'edge_wrap' : True,\n",
    "                  'boundary' : {'center' : [-0.05, 0.], 'extent':[1.1, 1.]} }\n",
    "S2__L_conn_spec = S1__L_conn_spec.copy()\n",
    "S2__L_conn_spec['dist_dim'] = 'x'\n",
    "S2__L_conn_spec['boundary'] = {'center' : [0., -0.05], 'extent':[1., 1.1]}\n",
    "S1__L_syn_spec = {'type' : synapse_types.static }\n",
    "S2__L_syn_spec = {'type' : synapse_types.static }\n",
    "\n",
    "net.connect([A[0]], S1, A__S_conn, A__S_syn)\n",
    "net.connect([A[1]], S2, A__S_conn, A__S_syn)\n",
    "topo.topo_connect(net, S1, L, S1__L_conn_spec, S1__L_syn_spec)\n",
    "topo.topo_connect(net, S2, L, S2__L_conn_spec, S2__L_syn_spec)"
   ]
  },
  {
   "cell_type": "code",
   "execution_count": 5,
   "metadata": {},
   "outputs": [
    {
     "name": "stdout",
     "output_type": "stream",
     "text": [
      "Execution time is 4.789627313613892 seconds\n"
     ]
    }
   ],
   "source": [
    "start_time = time.time()\n",
    "#times, activs, _ = net.run(10.)\n",
    "times, activs, _ = net.flat_run(10.)\n",
    "print('Execution time is %s seconds' % (time.time() - start_time))\n",
    "activs = np.array(activs)"
   ]
  },
  {
   "cell_type": "code",
   "execution_count": 6,
   "metadata": {},
   "outputs": [],
   "source": [
    "fs = (20,6)\n",
    "A_fig = plt.figure(figsize=fs)\n",
    "A_activs = np.array(activs[A])\n",
    "plt.plot(times, A_activs.transpose())\n",
    "plt.title('A')\n",
    "\n",
    "S1_fig = plt.figure(figsize=fs)\n",
    "S1_activs = np.array(activs[S1])\n",
    "plt.plot(times, S1_activs.transpose())\n",
    "S1_legends = [str(ctr) for ctr in S1_params['center']]\n",
    "plt.legend(S1_legends)\n",
    "plt.title('S1')\n",
    "\n",
    "S2_fig = plt.figure(figsize=fs)\n",
    "S2_activs = np.array(activs[S2])\n",
    "plt.plot(times, S2_activs.transpose())\n",
    "S2_legends = [str(ctr) for ctr in S2_params['center']]\n",
    "plt.legend(S2_legends)\n",
    "plt.title('S2')\n",
    "\n",
    "plt.show()"
   ]
  },
  {
   "cell_type": "code",
   "execution_count": 11,
   "metadata": {},
   "outputs": [
    {
     "data": {
      "text/plain": [
       "2000"
      ]
     },
     "execution_count": 11,
     "metadata": {},
     "output_type": "execute_result"
    }
   ],
   "source": [
    "len(activs[0])"
   ]
  },
  {
   "cell_type": "code",
   "execution_count": 13,
   "metadata": {},
   "outputs": [
    {
     "data": {
      "text/plain": [
       "<matplotlib.animation.FuncAnimation at 0x7f884021af70>"
      ]
     },
     "execution_count": 13,
     "metadata": {},
     "output_type": "execute_result"
    },
    {
     "name": "stderr",
     "output_type": "stream",
     "text": [
      "Traceback (most recent call last):\n",
      "  File \"/home/z/.conda/envs/draculab/lib/python3.8/site-packages/matplotlib/cbook/__init__.py\", line 224, in process\n",
      "    func(*args, **kwargs)\n",
      "  File \"/home/z/.conda/envs/draculab/lib/python3.8/site-packages/matplotlib/animation.py\", line 959, in _start\n",
      "    self._init_draw()\n",
      "  File \"/home/z/.conda/envs/draculab/lib/python3.8/site-packages/matplotlib/animation.py\", line 1703, in _init_draw\n",
      "    self._draw_frame(next(self.new_frame_seq()))\n",
      "  File \"/home/z/.conda/envs/draculab/lib/python3.8/site-packages/matplotlib/animation.py\", line 1726, in _draw_frame\n",
      "    self._drawn_artists = self._func(framedata, *self._args)\n",
      "  File \"<ipython-input-13-54c1d9ad2a68>\", line 31, in update_act_anim\n",
      "    scat.set_sizes(300.*activs[act_anim_pop,idx])\n",
      "NameError: name 'scat' is not defined\n"
     ]
    }
   ],
   "source": [
    "%matplotlib qt5\n",
    "# values from act_anim are not reaching update_act_anim because I got rid of 'self'\n",
    "\n",
    "def act_anim(pop, thr, interv=100, slider=False):\n",
    "    \"\"\" An animation to visualize the activity of a set of units. \n",
    "\n",
    "        pop : an array or list with the IDs of the units to visualize.\n",
    "        interv : refresh interval of the simulation.\n",
    "        slider : When set to True the animation is substituted by a slider widget.\n",
    "        thr : units whose activity surpasses 'thr' will be highligthted.\n",
    "    \"\"\"\n",
    "    unit_fig = plt.figure(figsize=(10,10))\n",
    "    ax = unit_fig.add_axes([0., 0., 1., 1.], frameon=False)\n",
    "    xcoords = [ u.coordinates[0] for u in [net.units[i] for i in pop] ]\n",
    "    ycoords = [ u.coordinates[1] for u in [net.units[i] for i in pop] ]\n",
    "    min_x = min(xcoords) - 0.1;     max_x = max(xcoords) + 0.1\n",
    "    min_y = min(ycoords) - 0.1;     max_y = max(ycoords) + 0.1\n",
    "    ax.set_xlim(min_x, max_x), ax.set_xticks([])\n",
    "    ax.set_ylim(min_y, max_y), ax.set_yticks([])\n",
    "    scat = ax.scatter(xcoords, ycoords, s=20.*activs[pop,0])\n",
    "    n_data = len(activs[0])\n",
    "    act_thr = thr\n",
    "    act_anim_pop = pop\n",
    "    \n",
    "    animation = FuncAnimation(unit_fig, update_act_anim,\n",
    "                            interval=interv, save_count=int(round(net.sim_time/net.min_delay)))\n",
    "    return animation\n",
    "\n",
    "def update_act_anim(frame):\n",
    "    # Each frame advances one simulation step (min_delay time units)\n",
    "    idx = frame%n_data\n",
    "    cur_time = net.min_delay*idx\n",
    "    scat.set_sizes(300.*activs[act_anim_pop,idx])\n",
    "    scat.set_color(color_fun(activs[act_anim_pop, idx]))\n",
    "    unit_fig.suptitle('Time: ' + '{:f}'.format(cur_time))\n",
    "    return ax,\n",
    "\n",
    "act_anim(L, thr=0.1)"
   ]
  },
  {
   "cell_type": "code",
   "execution_count": 4,
   "metadata": {},
   "outputs": [
    {
     "name": "stderr",
     "output_type": "stream",
     "text": [
      "*c* argument looks like a single numeric RGB or RGBA sequence, which should be avoided as value-mapping will have precedence in case its length matches with *x* & *y*.  Please use the *color* keyword-argument or provide a 2-D array with a single row if you intend to specify the same RGB or RGBA value for all points.\n",
      "*c* argument looks like a single numeric RGB or RGBA sequence, which should be avoided as value-mapping will have precedence in case its length matches with *x* & *y*.  Please use the *color* keyword-argument or provide a 2-D array with a single row if you intend to specify the same RGB or RGBA value for all points.\n",
      "*c* argument looks like a single numeric RGB or RGBA sequence, which should be avoided as value-mapping will have precedence in case its length matches with *x* & *y*.  Please use the *color* keyword-argument or provide a 2-D array with a single row if you intend to specify the same RGB or RGBA value for all points.\n",
      "*c* argument looks like a single numeric RGB or RGBA sequence, which should be avoided as value-mapping will have precedence in case its length matches with *x* & *y*.  Please use the *color* keyword-argument or provide a 2-D array with a single row if you intend to specify the same RGB or RGBA value for all points.\n"
     ]
    }
   ],
   "source": [
    "# Visualization for connections\n",
    "\n",
    "# visualizing the connections \n",
    "%matplotlib qt5\n",
    "# The 'notebook' backend is compatible with FuncAnimation\n",
    "from matplotlib.animation import FuncAnimation\n",
    "    \n",
    "sourceIDs = S2\n",
    "sinkIDs = L\n",
    "# the update function below will use these variables\n",
    "all_coords = [u.coordinates for u in [net.units[uid] for uid in sourceIDs]]\n",
    "source = sourceIDs #[u.ID for u in net.units]\n",
    "sink = sinkIDs # [u.ID for u in net.units]\n",
    "len_source = len(sourceIDs)\n",
    "len_sink = len(sinkIDs)\n",
    "source_0 = sourceIDs[0]\n",
    "sink_0 = sinkIDs[0]\n",
    "\n",
    "# flattening net.syns\n",
    "all_syns = []\n",
    "for syn_list in [net.syns[i] for i in sinkIDs]:\n",
    "    all_syns.extend([s for s in syn_list if s.preID in sourceIDs])\n",
    "\n",
    "# getting lists with the coordinates of all source, sink units\n",
    "source_coords = [u.coordinates for u in [net.units[i] for i in sourceIDs]]\n",
    "sink_coords = [u.coordinates for u in [net.units[i] for i in sinkIDs]]\n",
    "source_x = [c[0] for c in source_coords]\n",
    "source_y = [c[1] for c in source_coords]\n",
    "sink_x = [c[0] for c in sink_coords]\n",
    "sink_y = [c[1] for c in sink_coords]\n",
    "\n",
    "# id2src[n] maps the unit with network id 'n' to its index in the 'source' list\n",
    "id2src = np.array([1e8 for _ in range(len(net.units))], dtype=int) # 1e8 if not in source\n",
    "for src_idx, net_idx in enumerate(sourceIDs):\n",
    "    id2src[net_idx] = src_idx\n",
    "# id2snk[n] maps the unit with network id 'n' to its index in the 'sink' list\n",
    "id2snk = np.array([1e8 for _ in range(len(net.units))], dtype=int) # 1e8 if not in sink\n",
    "for snk_idx, net_idx in enumerate(sinkIDs):\n",
    "    id2snk[net_idx] = snk_idx\n",
    "\n",
    "# setting colors\n",
    "std_src = [0., 0.5, 0., 0.5]\n",
    "std_snk = [0.5, 0., 0., 0.5]\n",
    "big_src = [0., 0., 1., 1.]\n",
    "big_snk = [0., 0., 1., 1.]\n",
    "\n",
    "# constructing figure, axes, path collections\n",
    "conn_fig = plt.figure(figsize=(10,6))\n",
    "ax1 = conn_fig.add_axes([0.02, 0.01, .47, 0.95], frameon=True, aspect=1)\n",
    "ax2 = conn_fig.add_axes([0.51, 0.01, .47, 0.95], frameon=True, aspect=1)\n",
    "src_col1 = ax1.scatter(source_x, source_y, s=2, c=std_src)\n",
    "snk_col1 = ax1.scatter(sink_x, sink_y, s=2, c=std_snk)\n",
    "src_col2 = ax2.scatter(source_x, source_y, s=2, c=std_src)\n",
    "snk_col2 = ax2.scatter(sink_x, sink_y, s=2, c=std_snk)\n",
    "ax1.set_title('sent connections')\n",
    "ax2.set_title('received connections')\n",
    "ax2.set_yticks([])\n",
    "\n",
    "# preparing to print weights\n",
    "w_mat = np.zeros((len(sinkIDs), len(sourceIDs)))\n",
    "for syn in all_syns: \n",
    "    w_mat[id2snk[syn.postID], id2src[syn.preID]] = abs(syn.w)\n",
    "w_mat /= np.amax(w_mat) # normalizing (maximum is 1)\n",
    "cmap = plt.get_cmap('Reds') # getting colormap\n",
    "\n",
    "# At each frame we'll visualize the connections arising from a single unit\n",
    "def update(frame): \n",
    "    sou_u = frame%len_source # source unit whose receivers we'll visualize\n",
    "    snk_u = frame%len_sink # sink unit whose senders we'll visualize\n",
    "\n",
    "    # PLOTTING THE RECEIVERS OF sou_u ON THE LEFT AXIS\n",
    "    source_sizes = np.tile(2, len_source)\n",
    "    sink_sizes = 2. + 400.*w_mat[:,sou_u]\n",
    "    source_colors = np.tile(std_src,(len_source,1))\n",
    "    sink_colors = cmap.__call__(w_mat[:,sou_u])\n",
    "    source_sizes[sou_u] = 320\n",
    "    source_colors[sou_u] = big_src\n",
    "    src_col1.set_sizes(source_sizes)\n",
    "    snk_col1.set_sizes(sink_sizes)\n",
    "    snk_col1.set_color(sink_colors)\n",
    "    src_col1.set_color(source_colors)\n",
    "\n",
    "    # PLOTTING THE SENDERS TO snk_u ON THE RIGHT AXIS\n",
    "    source_sizes = 2. + 400.*w_mat[snk_u,:]\n",
    "    sink_sizes = np.tile(2, len_sink)\n",
    "    source_colors = cmap.__call__(w_mat[snk_u,:])\n",
    "    sink_colors = np.tile(std_snk, (len_sink,1))\n",
    "    sink_sizes[snk_u] = 30\n",
    "    sink_colors[snk_u] = big_snk\n",
    "    src_col2.set_sizes(source_sizes)\n",
    "    snk_col2.set_sizes(sink_sizes)\n",
    "    src_col2.set_color(source_colors)\n",
    "    snk_col2.set_color(sink_colors)\n",
    "\n",
    "    return ax1, ax2,\n",
    "\n",
    "animation = FuncAnimation(conn_fig, update, interval=250, blit=True)\n",
    "plt.show()"
   ]
  },
  {
   "cell_type": "code",
   "execution_count": null,
   "metadata": {},
   "outputs": [],
   "source": [
    "len(net.units)"
   ]
  },
  {
   "cell_type": "code",
   "execution_count": null,
   "metadata": {},
   "outputs": [],
   "source": []
  }
 ],
 "metadata": {
  "kernelspec": {
   "display_name": "Python 3",
   "language": "python",
   "name": "python3"
  },
  "language_info": {
   "codemirror_mode": {
    "name": "ipython",
    "version": 3
   },
   "file_extension": ".py",
   "mimetype": "text/x-python",
   "name": "python",
   "nbconvert_exporter": "python",
   "pygments_lexer": "ipython3",
   "version": "3.8.5"
  }
 },
 "nbformat": 4,
 "nbformat_minor": 4
}
