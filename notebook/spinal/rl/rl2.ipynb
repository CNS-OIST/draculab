{
 "cells": [
  {
   "cell_type": "markdown",
   "metadata": {},
   "source": [
    "# rl2.ipynb\n",
    "\n",
    "This notebook contains the second step in the 5-step process outlined in November 13th, 2020, in order to produce an actor-critic architecture for pendulum control.\n",
    "\n",
    "In step 1 we create a network with N units that takes the activity of 1 unit and transforms it into a bell-shaped representation.\n",
    "In here we put 2 of those as the inputs to a (N/2)x(N/2) grid, and visualize.\n",
    "\n",
    "To achieve bell-shaped tuning, we use the `bell_shaped_1D` unit model."
   ]
  },
  {
   "cell_type": "code",
   "execution_count": 7,
   "metadata": {},
   "outputs": [
    {
     "name": "stdout",
     "output_type": "stream",
     "text": [
      "/home\n"
     ]
    }
   ],
   "source": [
    "%cd ../..\n",
    "import numpy as np\n",
    "import matplotlib.pyplot as plt\n",
    "import time\n",
    "from draculab import *\n",
    "from tools.visualization import plotter"
   ]
  },
  {
   "cell_type": "code",
   "execution_count": 13,
   "metadata": {},
   "outputs": [],
   "source": [
    "N = 20 # number of units in each S network\n",
    "No2 = int(np.ceil(N/2))\n",
    "net_params = {'min_delay' : 0.005,\n",
    "              'min_buff_size' : 10 }\n",
    "A_params = {'type' : unit_types.source,\n",
    "            'init_val' : 0.5,\n",
    "            'function' : lambda t: None}\n",
    "L_params = {'type' : unit_types.sigmoidal,\n",
    "            'thresh' : 1.5,\n",
    "            'slope' : 5.,\n",
    "            'tau' : 0.02,\n",
    "            'init_val' : 0.5 }\n",
    "L_geom = {'shape' : 'sheet',\n",
    "          'arrangement' : 'grid',\n",
    "          'rows' : No2,\n",
    "          'columns' : No2,\n",
    "          'center' : [0., 0.],\n",
    "          'extent' : [1., 1.] }\n",
    "S_params = {'type' : unit_types.bell_shaped_1D,\n",
    "            'init_val' : 0.1,\n",
    "            'tau' : 0.01,\n",
    "            'center' : list(np.linspace(0., 1., N)),\n",
    "            'b' : 30. }\n",
    "S1_params = S_params.copy()\n",
    "S2_params = S_params.copy()\n",
    "S1_params['coordinates'] = [np.array([-.6, -.5 + i/N]) for i in range(N)]\n",
    "S2_params['coordinates'] = [np.array([-.5 + i/N, -.6]) for i in range(N)]\n",
    "\n",
    "net = network(net_params)\n",
    "topo = topology()\n",
    "A = net.create(2, A_params)\n",
    "S1 = net.create(N, S1_params)\n",
    "S2 = net.create(N, S2_params)\n",
    "L = topo.create_group(net, L_geom, L_params)\n",
    "\n",
    "net.units[A[0]].set_function(lambda t: 0.5*(np.sin(t)+1.))\n",
    "net.units[A[1]].set_function(lambda t: 0.5*(np.cos(t)+1.))\n",
    "\n",
    "A__S_conn = {'rule' : 'all_to_all',\n",
    "             'delay' : 0.01 }\n",
    "A__S_syn = {'type' : synapse_types.static,\n",
    "            'init_w' : 1. }\n",
    "S1__L_conn_spec = {'connection_type' : 'divergent',\n",
    "                  'mask' : {'circular' : {'radius' : 2. }},\n",
    "                  'kernel' : 1.,\n",
    "                  'delays' : {'linear' : {'c' : 0.01, 'a': 0.01}},\n",
    "                  'weights' : {'gaussian' : {'w_center' : 1., 'sigma' : 0.05}},\n",
    "                  'dist_dim' : 'y',\n",
    "                  'edge_wrap' : True,\n",
    "                  'boundary' : {'center' : [-0.05, 0.], 'extent':[1.1, 1.]} }\n",
    "S2__L_conn_spec = S1__L_conn_spec.copy()\n",
    "S2__L_conn_spec['dist_dim'] = 'x'\n",
    "S2__L_conn_spec['boundary'] = {'center' : [0., -0.05], 'extent':[1., 1.1]}\n",
    "S1__L_syn_spec = {'type' : synapse_types.static }\n",
    "S2__L_syn_spec = {'type' : synapse_types.static }\n",
    "\n",
    "net.connect([A[0]], S1, A__S_conn, A__S_syn)\n",
    "net.connect([A[1]], S2, A__S_conn, A__S_syn)\n",
    "topo.topo_connect(net, S1, L, S1__L_conn_spec, S1__L_syn_spec)\n",
    "topo.topo_connect(net, S2, L, S2__L_conn_spec, S2__L_syn_spec)"
   ]
  },
  {
   "cell_type": "code",
   "execution_count": 9,
   "metadata": {},
   "outputs": [
    {
     "name": "stdout",
     "output_type": "stream",
     "text": [
      "Execution time is 2.584442377090454 seconds\n"
     ]
    }
   ],
   "source": [
    "start_time = time.time()\n",
    "#times, activs, _ = net.run(10.)\n",
    "times, activs, _ = net.flat_run(1.)\n",
    "print('Execution time is %s seconds' % (time.time() - start_time))\n",
    "activs = np.array(activs)"
   ]
  },
  {
   "cell_type": "code",
   "execution_count": 10,
   "metadata": {},
   "outputs": [],
   "source": [
    "# plot of sources\n",
    "fs = (20,6)\n",
    "A_fig = plt.figure(figsize=fs)\n",
    "A_activs = np.array(activs[A])\n",
    "plt.plot(times, A_activs.transpose())\n",
    "plt.title('A')\n",
    "\n",
    "S1_fig = plt.figure(figsize=fs)\n",
    "S1_activs = np.array(activs[S1])\n",
    "plt.plot(times, S1_activs.transpose())\n",
    "S1_legends = [str(ctr) for ctr in S1_params['center']]\n",
    "plt.legend(S1_legends)\n",
    "plt.title('S1')\n",
    "\n",
    "S2_fig = plt.figure(figsize=fs)\n",
    "S2_activs = np.array(activs[S2])\n",
    "plt.plot(times, S2_activs.transpose())\n",
    "S2_legends = [str(ctr) for ctr in S2_params['center']]\n",
    "plt.legend(S2_legends)\n",
    "plt.title('S2')\n",
    "\n",
    "plt.show()"
   ]
  },
  {
   "cell_type": "code",
   "execution_count": 11,
   "metadata": {},
   "outputs": [
    {
     "data": {
      "text/plain": [
       "<matplotlib.animation.FuncAnimation at 0x7f30340b8850>"
      ]
     },
     "execution_count": 11,
     "metadata": {},
     "output_type": "execute_result"
    }
   ],
   "source": [
    "plotty = plotter(net, times, activs)\n",
    "plotty.act_anim(S1+S2+L, 0.1, interv=30, slider=False)\n"
   ]
  },
  {
   "cell_type": "code",
   "execution_count": 12,
   "metadata": {},
   "outputs": [
    {
     "data": {
      "text/plain": [
       "<matplotlib.animation.FuncAnimation at 0x7f30280e3460>"
      ]
     },
     "execution_count": 12,
     "metadata": {},
     "output_type": "execute_result"
    }
   ],
   "source": [
    "plotty.conn_anim(S1+S2, L, interv=200, slider=False)"
   ]
  },
  {
   "cell_type": "code",
   "execution_count": null,
   "metadata": {},
   "outputs": [],
   "source": []
  }
 ],
 "metadata": {
  "kernelspec": {
   "display_name": "Python 3",
   "language": "python",
   "name": "python3"
  },
  "language_info": {
   "codemirror_mode": {
    "name": "ipython",
    "version": 3
   },
   "file_extension": ".py",
   "mimetype": "text/x-python",
   "name": "python",
   "nbconvert_exporter": "python",
   "pygments_lexer": "ipython3",
   "version": "3.8.5"
  }
 },
 "nbformat": 4,
 "nbformat_minor": 4
}
