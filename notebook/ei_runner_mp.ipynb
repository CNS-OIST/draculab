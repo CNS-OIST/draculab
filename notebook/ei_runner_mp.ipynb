{
 "cells": [
  {
   "cell_type": "markdown",
   "metadata": {},
   "source": [
    "## ei_runner_mp.ipynb \n",
    "A version of ei_runner capable of multiprocess simulations using the ei_net class.  \n",
    "By Sergio Verduzco  \n",
    "January 2018"
   ]
  },
  {
   "cell_type": "code",
   "execution_count": null,
   "metadata": {
    "code_folding": []
   },
   "outputs": [],
   "source": [
    "# importing libraries\n",
    "%cd ..\n",
    "from ei_net import *\n",
    "from pathos.multiprocessing import ProcessingPool\n",
    "import sys "
   ]
  },
  {
   "cell_type": "code",
   "execution_count": null,
   "metadata": {
    "code_folding": []
   },
   "outputs": [],
   "source": [
    "# This is the name of the file where logging will happen\n",
    "log_file = \"./logs/ei_net_mp_log\" + time.strftime(\"_%m-%d-%y.txt\")"
   ]
  },
  {
   "cell_type": "code",
   "execution_count": null,
   "metadata": {
    "code_folding": []
   },
   "outputs": [],
   "source": [
    "%%capture capt \n",
    "# logging draculab version used for this session\n",
    "print('#======================================================')\n",
    "print('#             | Latest git commit: |')\n",
    "print('#====================================================== \\n#', end=' ')\n",
    "!git log -1 --oneline --color=never"
   ]
  },
  {
   "cell_type": "code",
   "execution_count": null,
   "metadata": {
    "code_folding": []
   },
   "outputs": [],
   "source": [
    "# Write the output of the cell above in the simulation log\n",
    "f = open(log_file, mode='a')\n",
    "f.write(capt.stdout)\n",
    "f.close()"
   ]
  },
  {
   "cell_type": "code",
   "execution_count": null,
   "metadata": {
    "scrolled": true
   },
   "outputs": [],
   "source": [
    "# Creating input patterns\n",
    "n_pat = 4  # number of input patterns\n",
    "pat_arr = np.zeros((4, 25)) # ei_runner.n['x'])) # array with all input patterns\n",
    "\n",
    "for row in range(5):\n",
    "    for col in range(5):\n",
    "        idx = 5*col + row\n",
    "        if row == col or row+col == 4: # The X input pattern\n",
    "            pat_arr[0,idx] = 1\n",
    "        if row == 2 or col == 2:  # The + input pattern\n",
    "            pat_arr[1,idx] = 1\n",
    "        if row == 1 or row == 3:  # The = input pattern\n",
    "            pat_arr[2,idx] = 1\n",
    "        if col == 1 or col == 3:  # The || input pattern\n",
    "            pat_arr[3,idx] = 1\n",
    "pat_arr = pat_arr / 5.\n",
    "\n",
    "def inp_pat(pres, rows, columns, random=True):\n",
    "    # The function that creates the input pattern shown at each presentation in ei_net.run\n",
    "    if random:\n",
    "        idx = np.random.randint(4)\n",
    "    else:\n",
    "        idx = pres % 4\n",
    "    return pat_arr[idx, :]\n",
    "#for i in range(6):\n",
    "#    print(np.reshape(inp_pat(5, 4, 2),(5,5)))"
   ]
  },
  {
   "cell_type": "code",
   "execution_count": null,
   "metadata": {},
   "outputs": [],
   "source": [
    "class mp_ei_runner():\n",
    "    def __init__(self):\n",
    "        self.name = 'mp_ei_runner_test0'\n",
    "        self.n_procs = 7\n",
    "        self.n_nets = 7\n",
    "        self.n_pres = [40]*self.n_nets  # number of presentations for each net\n",
    "        self.pres_t = [1.]*self.n_nets # duration of presentations for each net\n",
    "        self.inp_pats = [inp_pat]*self.n_nets # input pattern creator for each net\n",
    "        self.inp_funcs = [None]*self.n_nets  # input function creator for each net. None sets the default.\n",
    "        \n",
    "        self.nets = [ei_net(i) for i in range(self.n_nets)]\n",
    "        \n",
    "        # Setting the parameter changes for all networks\n",
    "        ## First, set baseline changes\n",
    "        for idx, net in enumerate(self.nets):\n",
    "            net.annotate('This is network ' + str(idx) + ' in a run of an mp_ei_runner object called ' + self.name)\n",
    "            net.annotate('This is mp_ei_runner\\'s maiden voyage.')\n",
    "            #----------------------------------\n",
    "            net.annotate(\"Adjusting size of e,i groups.\")\n",
    "            net.set_param('e_geom', 'rows', 16)\n",
    "            net.set_param('e_geom', 'columns', 16)\n",
    "            net.set_param('i_geom', 'rows', 8)\n",
    "            net.set_param('i_geom', 'columns', 8)\n",
    "            net.annotate(\"Compensating for the ratio of excitatory to inhibitory units.\")\n",
    "            net.set_param('ee_conn', 'weights',{'uniform' : {'low': .01, 'high' : 0.3}})\n",
    "            net.set_param('ei_conn', 'weights',{'uniform' : {'low': .01, 'high' : 0.3}})\n",
    "            net.set_param('ie_conn', 'weights',{'uniform' : {'low': -1.3, 'high' : -0.01}})\n",
    "            net.set_param('ii_conn', 'weights',{'uniform' : {'low': -1., 'high' : -0.01}})\n",
    "            #----------------------------------\n",
    "            net.annotate(\"Setting input parameters\")\n",
    "            net.set_param('x_geom', 'rows', 5) \n",
    "            net.set_param('x_geom', 'columns', 5) \n",
    "            net.set_param('xe_conn', 'weights', {'uniform' : {'low': 0.05, 'high' : 4.}})\n",
    "            net.set_param('xi_conn', 'weights', {'uniform' : {'low': 0.05, 'high' : 4.}})\n",
    "            net.set_param('xe_conn', 'mask', {'circular': {'radius': .3}})\n",
    "            net.set_param('xi_conn', 'mask', {'circular': {'radius': .3}})\n",
    "            #----------------------------------\n",
    "            net.annotate(\"Using Oja input synapses\")\n",
    "            net.set_param('xe_syn', 'type', synapse_types.oja)\n",
    "            net.set_param('xe_syn', 'lrate', 1./100.)\n",
    "            net.set_param('xi_syn', 'type', synapse_types.oja)\n",
    "            net.set_param('xi_syn', 'lrate', 1./100.)\n",
    "            #----------------------------------\n",
    "            net.annotate(\"Using sq_hebb_subsnorm EE synapses\")\n",
    "            net.set_param('ee_syn', 'type', synapse_types.sq_hebbsnorm)\n",
    "            net.set_param('ee_syn', 'lrate', 1./100.)\n",
    "            net.set_param('ee_syn', 'omega', 2.)\n",
    "            #----------------------------------\n",
    "            net.annotate(\"Using corr_homeo_inhib IE synapses\")\n",
    "            net.set_param('ie_syn', 'type', synapse_types.corr_inh)\n",
    "            net.set_param('ie_syn', 'lrate', 1./50.)\n",
    "            net.set_param('e_pars', 'des_act', 0.4)\n",
    "            #----------------------------------\n",
    "            net.annotate(\"Using anti_cov_pre EI synapses\")\n",
    "            net.set_param('ei_syn', 'type', synapse_types.anticov_pre)\n",
    "            net.set_param('ei_syn', 'lrate', .01)\n",
    "            #----------------------------------\n",
    "            net.annotate(\"Using exp_dist_sig_thr units for the excitatory population.\")\n",
    "            net.set_param('e_pars', 'type', unit_types.exp_dist_sig_thr)\n",
    "            net.set_param('e_pars', 'tau_thr', 0.005)\n",
    "            net.set_param('e_pars', 'c', 3.)\n",
    "            #----------------------------------\n",
    "            net.set_param('n', 'w_track', 16)\n",
    "            #----------------------------------\n",
    "        ## Now adjust networks individually\n",
    "        ### network 0 is the baseline\n",
    "        ### network 1\n",
    "        self.nets[1].annotate('This network has 5X faster learning rates')\n",
    "        self.nets[1].set_param('xe_syn', 'lrate', 1./20.)\n",
    "        self.nets[1].set_param('xi_syn', 'lrate', 1./20.)\n",
    "        self.nets[1].set_param('ee_syn', 'lrate', 1./20.)\n",
    "        self.nets[1].set_param('ie_syn', 'lrate', 1./10.)\n",
    "        self.nets[1].set_param('ei_syn', 'lrate', .05)\n",
    "        ### network 2\n",
    "        self.nets[2].annotate('This network has a 2X faster threshold adaptation')\n",
    "        self.nets[2].set_param('e_pars', 'tau_thr', 0.01)\n",
    "        ### network 3\n",
    "        self.nets[3].annotate('This network has 2X faster learning rates, thr adaptation, and presentations. ')\n",
    "        self.nets[3].set_param('xe_syn', 'lrate', 1./50.)\n",
    "        self.nets[3].set_param('xi_syn', 'lrate', 1./50.)\n",
    "        self.nets[3].set_param('ee_syn', 'lrate', 1./50.)\n",
    "        self.nets[3].set_param('ie_syn', 'lrate', 1./25.)\n",
    "        self.nets[3].set_param('ei_syn', 'lrate', .02)\n",
    "        self.nets[3].set_param('e_pars', 'tau_thr', 0.005)\n",
    "        self.pres_t[3] = 0.5\n",
    "        ### Network 4\n",
    "        self.nets[4].annotate('This network uses exp_dist_sig_thr units for the inhibitory population')\n",
    "        self.nets[4].set_param('i_pars', 'type', unit_types.exp_dist_sig_thr)\n",
    "        self.nets[4].set_param('i_pars', 'tau_thr', 0.005)\n",
    "        self.nets[4].set_param('i_pars', 'c', 3.)\n",
    "        ### Network 5\n",
    "        self.nets[5].annotate('This network has covariance II synapses')\n",
    "        self.nets[5].set_param('ii_syn', 'type', synapse_types.cov)\n",
    "        self.nets[5].set_param('ii_syn', 'lrate', 0.01)\n",
    "        ### Network 6\n",
    "        self.nets[6].annotate('This network has anti_cov_pre II synapses')\n",
    "        self.nets[6].set_param('ii_syn', 'type', synapse_types.anticov_pre)\n",
    "        self.nets[6].set_param('ii_syn', 'lrate', 0.01)\n",
    "        \n",
    "        # Building the networks\n",
    "        for net in self.nets:\n",
    "            net.build()\n",
    "        \n",
    "        \n",
    "    def run_net(self, net_num):\n",
    "        print('Running network %d' % (net_num))\n",
    "        return self.nets[net_num].run(self.n_pres[net_num], self.pres_t[net_num], self.inp_pats[net_num], self.inp_funcs[net_num])\n",
    "    \n",
    "    \n",
    "    def run_all(self, save=True, log=False):\n",
    "        sys.setrecursionlimit(5000)  # otherwise the networks can't be pickled\n",
    "        pool = ProcessingPool(nodes=self.n_procs) \n",
    "        print('Starting %d processes, %d networks' % (self.n_procs, self.n_nets))\n",
    "        start_time = time.time()\n",
    "        self.nets = pool.map(self.run_net, range(self.n_nets))\n",
    "        print('****** Processing finished after %s seconds ******' % (time.time() - start_time)) \n",
    "        pool.close()\n",
    "        pool.join()\n",
    "        if save:\n",
    "            for net in self.nets:\n",
    "                net.history.append('ei_net object being saved in container mp_ei_runner object ' + self.name)\n",
    "            F = open(self.name+'.pkl', 'wb')\n",
    "            dill.dump(self, F)\n",
    "            F.close()\n",
    "        if log:\n",
    "            for net in self.nets:\n",
    "                net.log(log_file)"
   ]
  },
  {
   "cell_type": "code",
   "execution_count": null,
   "metadata": {
    "scrolled": true
   },
   "outputs": [],
   "source": [
    "# Simulating\n",
    "mp_ei_obj = mp_ei_runner()\n",
    "mp_ei_obj.run_all(save=False, log=False)"
   ]
  },
  {
   "cell_type": "code",
   "execution_count": null,
   "metadata": {
    "scrolled": false
   },
   "outputs": [],
   "source": [
    "# basic plot \n",
    "%matplotlib inline\n",
    "net_num = 6\n",
    "ei_runner = mp_ei_obj.nets[net_num]\n",
    "print(ei_runner.notes)\n",
    "ei_runner.basic_plot()"
   ]
  },
  {
   "cell_type": "code",
   "execution_count": null,
   "metadata": {},
   "outputs": [],
   "source": [
    "ei_runner.double_anim(ei_runner.e, slider=False, interv=20, nbins=20, thr=0.9, pdf=True)"
   ]
  },
  {
   "cell_type": "code",
   "execution_count": null,
   "metadata": {},
   "outputs": [],
   "source": [
    "# Plot the highest excitatory unit activities\n",
    "%matplotlib inline\n",
    "n_top = 4  # how many units to plot\n",
    "top_pop = np.array(ei_runner.e)  # population to visualize\n",
    "top_units = ei_runner.all_activs[top_pop].sum(1).argpartition(-n_top)[-n_top:]\n",
    "print(top_units)\n",
    "top_act_fig = plt.figure(figsize=(18,8))\n",
    "top_acts = ei_runner.all_activs[top_pop[top_units]].transpose()\n",
    "plt.plot(ei_runner.all_times, top_acts)\n",
    "plt.show()"
   ]
  },
  {
   "cell_type": "code",
   "execution_count": null,
   "metadata": {},
   "outputs": [],
   "source": [
    "# Plot the lowest excitatory unit activities\n",
    "n_bottom = 20  # how many units to plot\n",
    "bottom_pop = np.array(ei_runner.e)  # population to visualize\n",
    "bottom_units = ei_runner.all_activs[bottom_pop].sum(1).argpartition(n_bottom)[0:n_bottom-1]\n",
    "print(bottom_units)\n",
    "bottom_act_fig = plt.figure(figsize=(18,8))\n",
    "bottom_acts = ei_runner.all_activs[bottom_pop[bottom_units]].transpose()\n",
    "plt.plot(ei_runner.all_times, bottom_acts)\n",
    "plt.show()"
   ]
  },
  {
   "cell_type": "code",
   "execution_count": null,
   "metadata": {
    "code_folding": []
   },
   "outputs": [],
   "source": [
    "# Annotations and log\n",
    "ei_runner.annotate('These simulations show that even when the exponent of the distribution is negative, ', make_history=False)\n",
    "ei_runner.annotate('exp_dist_sig_thr units can reasonably maintain the distribution and make the network', make_history=False)\n",
    "ei_runner.annotate('selective, unlike exp_dist_sig units.', make_history=False)\n",
    "#ei_runner.annotate('2) the response to each pattern consists of a largely non-overlaping set of units,', make_history=False)\n",
    "#ei_runner.annotate('3) the steady-state response roughly follows the exponential distribution.', make_history=False)\n",
    "ei_runner.log(name=log_file,params=False)"
   ]
  },
  {
   "cell_type": "code",
   "execution_count": null,
   "metadata": {
    "scrolled": true
   },
   "outputs": [],
   "source": [
    "ei_runner.history"
   ]
  },
  {
   "cell_type": "code",
   "execution_count": null,
   "metadata": {},
   "outputs": [],
   "source": [
    "ei_runner.conn_anim(ei_runner.x, ei_runner.e, slider=True, weights=True)"
   ]
  },
  {
   "cell_type": "code",
   "execution_count": null,
   "metadata": {},
   "outputs": [],
   "source": [
    "ei_runner.act_anim(ei_runner.e, 0.9, interv=20, slider=True)"
   ]
  },
  {
   "cell_type": "code",
   "execution_count": null,
   "metadata": {},
   "outputs": [],
   "source": [
    "ei_runner.hist_anim(ei_runner.e, slider=True, nbins=20, pdf=True)"
   ]
  },
  {
   "cell_type": "code",
   "execution_count": null,
   "metadata": {},
   "outputs": [],
   "source": []
  }
 ],
 "metadata": {
  "kernelspec": {
   "display_name": "Python 3",
   "language": "python",
   "name": "python3"
  },
  "language_info": {
   "codemirror_mode": {
    "name": "ipython",
    "version": 3
   },
   "file_extension": ".py",
   "mimetype": "text/x-python",
   "name": "python",
   "nbconvert_exporter": "python",
   "pygments_lexer": "ipython3",
   "version": "3.5.2"
  }
 },
 "nbformat": 4,
 "nbformat_minor": 2
}
