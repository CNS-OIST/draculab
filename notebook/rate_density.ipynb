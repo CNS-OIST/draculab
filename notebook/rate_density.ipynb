{
 "cells": [
  {
   "cell_type": "markdown",
   "metadata": {},
   "source": [
    "## rate_density.ipynb \n",
    "Scripts to explore learning rules that produce particular probability density functions for the distribution of firing rates in a network.  \n",
    "By Sergio Verduzco  \n",
    "November 2017"
   ]
  },
  {
   "cell_type": "markdown",
   "metadata": {},
   "source": [
    "Searching for ways to break the uniformity in E-I networks (all-or-none behaviour) I came up with this idea:\n",
    "\n",
    "Let $u$ denote a stimulation level in a neural field. Not the stimulation level at any particular location, just a stimulation level.  \n",
    "If the network has heterogeneous activation then you would expect that there would be a distribution of stimulation levels $\\rho(u)$ that is not concentrated at a single value.  \n",
    "The idea is to use steady-state weights $\\omega$ that are a function of the activation levels, as in the steady-state when using a correlational learning rule.  \n",
    "A self-consistency equation is:\n",
    "\n",
    "$u = \\int_\\Re \\omega(f(u), f(u')) \\rho(u') du'$,\n",
    "\n",
    "where $f = (1 + \\text{e}^{-x})^{-1}$. For example, if you wanted a distribution of stimulations that was constant in the interval $[a, b]$ then you could use \n",
    "\n",
    "$u = \\frac{1}{b-a} \\int_{[a,b]} \\omega(f(u), f(u')) du'$.\n",
    "\n",
    "The solution to this self-consistency equation is not unique. A simple approach is to have $\\omega(x,y) = f^{-1}(x) g(f^{-1}(y))$, where $\\int_a^b g(u)du = 1$. For example, we can have $g(u) = 2u/(b^2-a^2)$.  \n",
    "Considering that $f^{-1}(x) = - \\text{log}\\left(\\frac{1-x}{x}\\right)$, then for the simple case when we want our stimulations evenly distributed in the [0,1] interval, we would have the stationary weights:  \n",
    "$\\omega_s(x,y) = 2 \\ \\text{log}\\left(\\frac{1-x}{x} \\right) \\text{log}\\left(\\frac{1-y}{y} \\right) $.\n",
    "\n",
    "A learning rule to produce such stationary weight distribution could be:  \n",
    "$\\frac{d\\omega}{dt} = \\alpha \\ (\\omega_s - \\omega) = \\alpha \\ \\left( 2 \\ \\text{log}\\left(\\frac{1-x}{x} \\right) \\text{log}\\left(\\frac{1-y}{y} \\right) - \\omega \\right)$,  \n",
    "where $x$ and $y$ are presynaptic and postsynaptic activity respectively, although this rule is symmetric regarding pre and post switches.\n",
    "\n",
    "The rule could be summarized as follows: changes are positive for similar activities, negative for different activities. Changes increase as activities move away from the point $(0.5, 0.5)$.\n",
    "It is somewhat reminiscent of the correlation rule."
   ]
  },
  {
   "cell_type": "code",
   "execution_count": 1,
   "metadata": {
    "code_folding": []
   },
   "outputs": [
    {
     "name": "stdout",
     "output_type": "stream",
     "text": [
      "/home/z/projects/draculab\n"
     ]
    }
   ],
   "source": [
    "# importing libraries\n",
    "%cd ..\n",
    "\n",
    "import matplotlib.pyplot as plt\n",
    "from matplotlib.animation import FuncAnimation\n",
    "from matplotlib import cm\n",
    "import numpy as np\n",
    "import time\n",
    "import dill\n",
    "from draculab import *"
   ]
  },
  {
   "cell_type": "code",
   "execution_count": 2,
   "metadata": {
    "code_folding": []
   },
   "outputs": [],
   "source": [
    "# This is the name of the file where logging will happen\n",
    "log_file = \"rate_density_simlog.txt\""
   ]
  },
  {
   "cell_type": "code",
   "execution_count": 3,
   "metadata": {
    "code_folding": []
   },
   "outputs": [],
   "source": [
    "%%capture capt \n",
    "# logging draculab version used for this session\n",
    "print('======================================================')\n",
    "print('| Latest git commit: |')\n",
    "print('======================================================')\n",
    "!git log -1 --oneline --color=never"
   ]
  },
  {
   "cell_type": "code",
   "execution_count": 29,
   "metadata": {
    "code_folding": [
     0
    ]
   },
   "outputs": [],
   "source": [
    "# Write the output of the cell above in the simulation log\n",
    "with open(log_file, 'a') as f:\n",
    "    f.write(capt.stdout)\n",
    "    f.close()"
   ]
  },
  {
   "cell_type": "code",
   "execution_count": 2,
   "metadata": {
    "code_folding": [
     73,
     115,
     116,
     127,
     132,
     142,
     143,
     181,
     208,
     209,
     240,
     245,
     254,
     255,
     331,
     373,
     406,
     407,
     447,
     457,
     458,
     505,
     519,
     525,
     526,
     537,
     538
    ],
    "hideCode": false,
    "hidePrompt": false
   },
   "outputs": [],
   "source": [
    "# The class used to run simulations and visualize results\n",
    "class exp_distro():\n",
    "    def __init__(self):\n",
    "        # The history list will store strings containing the instructions doing parameter changes, \n",
    "        # building the network, or running a simulation.\n",
    "        self.history = [\"__init__ at \" + time.ctime()]\n",
    "        self.notes = '' # comments after visualizing simulation results\n",
    "        # fixing random seed\n",
    "        seed = 19680801\n",
    "        np.random.seed(seed)\n",
    "        self.history.append('np.random.seed = ' + str(seed))\n",
    "        \n",
    "        \"\"\" All the default parameter dictionaries are below. \n",
    "            Time units are seconds for compatibility with the pendulum model.\n",
    "            Length units for geometry dictionaries are centimeters.\n",
    "            Axonal conduction speed is ~1 m/s, synaptic delay about 1 ms, but 5 ms for the population response.\n",
    "        \"\"\"\n",
    "        # parameter dictionary for the network\n",
    "        self.net_params = {'min_delay' : 0.005, # notice delays below are set using this value\n",
    "                           'min_buff_size' : 10,\n",
    "                           'rtol' : 1e-5,\n",
    "                           'atol' : 1e-5 } \n",
    "        # parameter dictionaries for the units\n",
    "        self.geom = {'shape':'sheet', \n",
    "                     'extent':[1.,1.], # 1 square centimeter grid\n",
    "                     'center':[0.,0.], \n",
    "                     'arrangement':'grid', \n",
    "                     'rows':20, \n",
    "                     'columns':20,  # 400 units\n",
    "                     'jitter' : 0.02 }\n",
    "        self.unit_pars = {'init_val' : np.random.rand(self.geom['rows']*self.geom['columns']), \n",
    "                          'slope' : 1.,\n",
    "                          'thresh' : 0.,\n",
    "                          'tau' : 0.02,  # 20 ms time constant\n",
    "                          'tau_fast' : 0.04, # 40 ms for fast low-pass filter\n",
    "                          'tau_mid' : .1, # 100 ms for medium low-pass filter\n",
    "                          'tau_scale' : 0.05, # for exp_dist_sigmoidal units\n",
    "                          'c' : 2., # for exp_dist_sigmoidal units\n",
    "                          'Kp' : 0.05, # for exp_dist_sigmoidal units\n",
    "                          'tau_thr' : 0.05, # for trdc models\n",
    "                          'n_ports' : 1, # for multiport models (e.g. sig_ssrdc)\n",
    "                          'rdc_port' : 0, # for multiport models\n",
    "                          'type' : unit_types.sigmoidal }\n",
    "        # parameter dictionary for the inputs. Weight tracking units use the same dictionary.\n",
    "        self.n_units = {'inp' : 1, # number of input units\n",
    "                        'w_track': 6 } # number of weight tracking units\n",
    "        self.inp_pars = {'type' : unit_types.source,\n",
    "                         'init_val' : 0.,\n",
    "                         'tau_fast' : 0.04,\n",
    "                         'coordinates' : np.array([0.,0.]), # for plotting purposes\n",
    "                         'function' : lambda x: None }\n",
    "        # connections among units\n",
    "        self.conn = {'connection_type' : 'divergent',\n",
    "            'mask' : {'circular': {'radius': 10.}}, # contains all the unit grid for all-to-all connectivity\n",
    "            'kernel' : 1.,\n",
    "            'delays' : {'linear' : {'c' : self.net_params['min_delay'], 'a' : 10.}},\n",
    "            'weights' :{'uniform' : {'low': -0.5, 'high' : 0.5}},\n",
    "            'allow_autapses' : True,\n",
    "            'allow_multapses' : False,\n",
    "            'edge_wrap' : False,\n",
    "            'boundary' : {'center': np.array(self.geom['center']), 'extent' : self.geom['extent']} }\n",
    "        self.syn = {'type' : synapse_types.exp_rate_dist,\n",
    "                    'lrate' : 0.1,\n",
    "                    'c' : 1.,\n",
    "                    'wshift' : 1. }\n",
    "        # Input connections\n",
    "        self.i2u_conn = {'rule' : 'all_to_all',\n",
    "                 'delay' : self.net_params['min_delay'] }\n",
    "        self.i2u_syn = {'type' : synapse_types.static,\n",
    "                'lrate' : 0.05,\n",
    "                'inp_port' : 0,\n",
    "                'init_w' : {'distribution' : 'equal_norm', 'norm' : 1.} }      \n",
    "        \n",
    "    def build(self):\n",
    "        \"\"\" Create the draculab network. \"\"\"\n",
    "        # store record of network being built\n",
    "        self.history.append('build()')\n",
    "        # Set derived parameters\n",
    "        self.conn['delays'] = {'linear' : {'c' : self.net_params['min_delay'], 'a' : 0.01}}\n",
    "        self.conn['boundary'] = {'center': np.array(self.geom['center']), 'extent' : self.geom['extent']}\n",
    "        self.unit_pars['init_val'] = np.random.rand(self.geom['rows']*self.geom['columns'])\n",
    "        # Create an auxiliary topology object\n",
    "        topo = topology()\n",
    "        # Create network\n",
    "        self.net = network(self.net_params)\n",
    "        # Create unit population\n",
    "        self.units = topo.create_group(self.net, self.geom, self.unit_pars)\n",
    "        # Create input units\n",
    "        self.inp = self.net.create(self.n_units['inp'], self.inp_pars)\n",
    "        # Create weight tracking units\n",
    "        self.w_track = self.net.create(self.n_units['w_track'], self.inp_pars)\n",
    "        # Create connections\n",
    "        topo.topo_connect(self.net, self.units, self.units, self.conn, self.syn)\n",
    "        self.net.connect(self.inp, self.units, self.i2u_conn, self.i2u_syn)\n",
    "        # Set the function of the w_track units to follow randomly chosen weights\n",
    "        n_u = int(np.floor(np.sqrt(self.n_units['w_track']))) # For how many units we'll track weights\n",
    "        n_syns, remainder = divmod(self.n_units['w_track'], n_u) # how many synapses per unit\n",
    "        which_u = np.random.choice(self.units, n_u) # ID's of the units we'll track\n",
    "        self.tracked = which_u # so basic plot knows which units we tracked\n",
    "        which_syns = [[] for i in range(n_u)]\n",
    "        for uid,u in enumerate(which_u[0:-1]):\n",
    "            which_syns[uid] = np.random.choice(range(len(self.net.syns[u])), n_syns)\n",
    "        which_syns[n_u-1] = np.random.choice(range(len(self.net.syns[which_u[-1]])), n_syns+remainder)\n",
    "        for uid,u in enumerate(which_u):\n",
    "            for sid,s in enumerate(which_syns[uid]):\n",
    "                self.net.units[self.w_track[uid*n_syns+sid]].set_function(self.net.syns[u][s].get_w)\n",
    "        # If there are exp_dist_sigmoidal units, create some units to track their scale factors\n",
    "        if self.unit_pars['type'] == unit_types.exp_dist_sig:\n",
    "            self.sc_track = self.net.create(self.n_units['w_track'], self.inp_pars)\n",
    "            def scale_tracker(u,s):\n",
    "                return lambda x: self.net.units[u].scale_facs[s]\n",
    "            for uid,u in enumerate(which_u):\n",
    "                for sid,s in enumerate(which_syns[uid]):\n",
    "                    self.net.units[self.sc_track[uid*n_syns+sid]].set_function(scale_tracker(u,s))\n",
    "        \n",
    "    def set_param(self, dictionary, entry, value):\n",
    "        \"\"\" Change a value in a parameter dictionary. \n",
    "        \n",
    "            dictionary: a string with the name of one of the parameter dictionaries in __init__\n",
    "            entry: a string with the name of the entry we'll modify\n",
    "            value: the value we'll assign (can be any appropriate Python object) \n",
    "        \"\"\"\n",
    "        if 'build()' in self.history:\n",
    "            raise AssertionError('Setting a parameter value after network has been built')     \n",
    "        self.__getattribute__(dictionary)[entry] = value  # set the new value\n",
    "        self.history.append(dictionary + '[\\'' + entry + '\\'] = ' + str(value) ) # record assignment\n",
    "            \n",
    "    def make_sin_pulse(self, t_init, t_end, per, amp): \n",
    "        \"\"\" This function returns a function implementing a localized sinusoidal bump(s). \"\"\"\n",
    "        return lambda t : amp * ( np.sqrt( 0.5 * (1. + \n",
    "                      np.sin( np.pi*( 2.*(t - t_init)/per - 0.5 ) ) ) ) ) if (t_init < t and t < min(t_init+per,t_end)) else 0.\n",
    "    \n",
    "    def input_vector(self):\n",
    "        \"\"\"This function returns an input vector. Different distributions can be implemented with this. \"\"\"\n",
    "        ## random vector with unit norm, positive entries\n",
    "        # vec = np.random.uniform(0., 1., self.n_units['inp'])\n",
    "        # return  vec / np.linalg.norm(vec)\n",
    "        \n",
    "        ## random vector with unit norm, positive and negative entries\n",
    "        vec = np.random.uniform(0., 1., self.n_units['inp']) - np.random.uniform(0., 1., self.n_units['inp'])\n",
    "        return  vec / np.linalg.norm(vec)\n",
    "        \n",
    "    def run(self, n_pres, inp_time, inp_amp, pres_time, alpha=0.):\n",
    "        \"\"\" Run a simulation, presenting n_pres patterns, each lasting pres_time, \n",
    "            with inputs of amplitude inp_amp and lasting inp_time at the beginning of each presentation.\n",
    "            \n",
    "            The argument alpha determines how fast the input amplitudes drift.\n",
    "            \n",
    "            Updates:\n",
    "                self.all_times: 1-D numpy array with the times for each data point in all_activs.\n",
    "                self.all_activs: 2-D numpy array with the activity of all units at each point in all_times. \n",
    "        \"\"\"\n",
    "        # store a record of this simulation\n",
    "        self.history.append('run(%d, %f, %f, %f, %f)' % (n_pres, inp_time, inp_amp, pres_time, alpha)) \n",
    "        # initialize storage of results\n",
    "        self.all_times = []\n",
    "        self.all_activs = []\n",
    "        start_time = time.time()\n",
    "        inp_vel = np.zeros(self.n_units['inp']) # initial velocity for the input drift\n",
    "        inp_vec = inp_amp*self.input_vector() # initial amplitudes of the inputs\n",
    "        # present input patterns\n",
    "        for pres in range(n_pres):\n",
    "            print('Simulating presentation ' + str(pres), end='\\r')\n",
    "            pres_start = time.time()\n",
    "            t = self.net.sim_time\n",
    "            inp_accel = inp_amp*self.input_vector() # having an acceleration confers \"momentum\" to the input drift\n",
    "            inp_vel = (1.-alpha)*inp_vel + alpha*inp_accel \n",
    "            inp_vec = (1.-alpha)*inp_vec + alpha*inp_vel\n",
    "            for i in self.inp:\n",
    "                self.net.units[i].set_function(self.make_sin_pulse(t, t+pres_time, inp_time, inp_vec[i-self.inp[0]]))\n",
    "        \n",
    "            times, activs, plants = self.net.run(pres_time)\n",
    "            self.all_times.append(times)\n",
    "            self.all_activs.append(activs)\n",
    "            print('Presentation %s lasted %s seconds.' % (pres, time.time() - pres_start), end='\\n')\n",
    "\n",
    "        self.all_times = np.concatenate(self.all_times)\n",
    "        self.all_activs = np.concatenate(self.all_activs, axis=1)\n",
    "        print('Execution time is %s seconds' % (time.time() - start_time)) \n",
    "        return self # see rant on multiprocessing    \n",
    "    \n",
    "    def basic_plot(self):\n",
    "        #%matplotlib inline\n",
    "        inp_fig = plt.figure(figsize=(10,5))\n",
    "        inputs = np.transpose([self.all_activs[i] for i in self.inp])\n",
    "        plt.plot(self.all_times, inputs, linewidth=1, figure=inp_fig)\n",
    "        plt.title('Inputs')\n",
    "\n",
    "        unit_fig = plt.figure(figsize=(10,5))\n",
    "        some_acts = np.transpose(self.all_activs[[self.units[i] for i in self.tracked]])\n",
    "        plt.plot(self.all_times, some_acts, figure=unit_fig)\n",
    "        plt.title('Some unit activities')\n",
    "        \n",
    "        # Plot the evolution of the synaptic weights\n",
    "        w_fig = plt.figure(figsize=(10,5))\n",
    "        weights = np.transpose([self.all_activs[self.w_track[i]] for i in range(self.n_units['w_track'])])\n",
    "        plt.plot(self.all_times, weights, linewidth=1)\n",
    "        plt.title('Some synaptic weights')\n",
    "        \n",
    "        # Plot the evolution of the synaptic scale factors\n",
    "        if self.unit_pars['type'] == unit_types.exp_dist_sig:\n",
    "            sc_fig = plt.figure(figsize=(10,5))\n",
    "            factors = np.transpose([self.all_activs[self.sc_track[i]] for i in range(self.n_units['w_track'])])\n",
    "            plt.plot(self.all_times, factors, linewidth=1)\n",
    "            plt.title('Some synaptic scale factors')\n",
    "\n",
    "        plt.show()\n",
    "        \n",
    "    def activ_anim(self, thr, interv=100, slider=False):\n",
    "        \"\"\" An animation to visualize the activity of the excitatory units. \n",
    "        \n",
    "            interv : refresh interval of the simulation.\n",
    "            slider : When set to True the animation is substituted by a slider widget.\n",
    "            \n",
    "            Units whose activity surpasses 'thr' will be highlighted.\n",
    "            It is assumed that this import statement has happened:\n",
    "            from matplotlib.animation import FuncAnimation\n",
    "        \"\"\"\n",
    "        %matplotlib qt5\n",
    "        # notebook or qt5 \n",
    "\n",
    "        self.unit_fig = plt.figure(figsize=(10,10))\n",
    "        self.ax = self.unit_fig.add_axes([0, 0, 1, 1], frameon=False)\n",
    "        self.ax.set_xlim(-1, 1), self.ax.set_xticks([])\n",
    "        self.ax.set_ylim(-1, 1), self.ax.set_yticks([])\n",
    "        xcoords = [ u.coordinates[0] for u in [self.net.units[i] for i in self.units] ]\n",
    "        ycoords = [ u.coordinates[1] for u in [self.net.units[i] for i in self.units] ]\n",
    "        self.scat = self.ax.scatter(xcoords, ycoords, s=20.*self.all_activs[self.units,0])\n",
    "        self.n_data = len(self.all_activs[0])\n",
    "        self.act_thr = thr\n",
    "        \n",
    "        if not slider:\n",
    "            animation = FuncAnimation(self.unit_fig, self.update_act_anim, \n",
    "                                  interval=interv, save_count=int(round(self.net.sim_time/self.net.min_delay)))    \n",
    "            return animation\n",
    "        else:\n",
    "            from ipywidgets import interact\n",
    "            widget = interact(self.update_act_anim, frame=(1,self.n_data))\n",
    "            return widget\n",
    "        \n",
    "    def color_fun(self, activ):\n",
    "        # given the units activity, maps into a color. activ may be an array.\n",
    "        activ =  np.maximum(0.1,  activ*np.maximum(np.sign(activ - self.act_thr), 0.))\n",
    "        return np.outer(activ, np.array([0., .5, .999, .5]))\n",
    "\n",
    "    def update_act_anim(self, frame):\n",
    "        # Each frame advances one simulation step (min_delay time units)\n",
    "        idx = frame%self.n_data\n",
    "        cur_time = self.net.min_delay*idx\n",
    "        self.scat.set_sizes(300.*self.all_activs[self.units,idx])\n",
    "        self.scat.set_color(self.color_fun(self.all_activs[self.units,idx]))\n",
    "        self.unit_fig.suptitle('Time: ' + '{:f}'.format(cur_time))\n",
    "        return self.ax,\n",
    "    \n",
    "    def conn_anim(self, source, sink, interv=100, slider=False, weights=False):\n",
    "        \"\"\" An animation to visualize the connectivity of populations. \n",
    "    \n",
    "            source and sink are lists with the IDs of the units whose connections we'll\n",
    "            visualize. Each frame of the animation shows: for a particular unit in source,\n",
    "            all the neurons in sink that receive connections from it (left plot), and for \n",
    "            a particular unit in sink, all the units in source that send it connections\n",
    "            (right plot).\n",
    "        \n",
    "            interv is the refresh interval (in ms) used by FuncAnimation.\n",
    "            \n",
    "            If weights=True, then the dots size and color will reflect the connection weight.\n",
    "        \n",
    "            It is assumed that this import statement has happened:\n",
    "            from matplotlib.animation import FuncAnimation\n",
    "        \"\"\"\n",
    "        %matplotlib qt5\n",
    "        # notebook or qt5 \n",
    "        \n",
    "        # update_conn_anim uses these values\n",
    "        self.len_source = len(source)\n",
    "        self.len_sink = len(sink)\n",
    "        self.source_0 = source[0]\n",
    "        self.sink_0 = sink[0]\n",
    "\n",
    "        # flattening net.syns, leaving only the source-sink connections \n",
    "        self.all_syns = []\n",
    "        for syn_list in [self.net.syns[i] for i in sink]:\n",
    "            syn_list = [s for s in syn_list if s.preID in source]\n",
    "            self.all_syns += syn_list\n",
    "    \n",
    "        # getting lists with the coordinates of all source, sink units\n",
    "        source_coords = [u.coordinates for u in [self.net.units[i] for i in source]]\n",
    "        sink_coords = [u.coordinates for u in [self.net.units[i] for i in sink]]\n",
    "        source_x = [c[0] for c in source_coords]\n",
    "        source_y = [c[1] for c in source_coords]\n",
    "        sink_x = [c[0] for c in sink_coords]\n",
    "        sink_y = [c[1] for c in sink_coords]\n",
    "\n",
    "        # setting colors\n",
    "        self.std_src = [0., 0.5, 0., 0.5]\n",
    "        self.std_snk = [0.5, 0., 0., 0.5]\n",
    "        self.big_src = [0., 0., 1., 1.]\n",
    "        self.big_snk = [0., 0., 1., 1.]\n",
    "\n",
    "        # constructing figure, axes, path collections\n",
    "        self.conn_fig = plt.figure(figsize=(12,7))\n",
    "        self.ax1 = self.conn_fig.add_axes([0.0, 0.01, .49, 0.95], frameon=True, aspect=1)\n",
    "        self.ax2 = self.conn_fig.add_axes([0.51, 0.01, .49, 0.95], frameon=True, aspect=1)\n",
    "        self.src_col1 = self.ax1.scatter(source_x, source_y, s=2, c=self.std_src)\n",
    "        self.snk_col1 = self.ax1.scatter(sink_x, sink_y, s=2, c=self.std_snk)\n",
    "        self.src_col2 = self.ax2.scatter(source_x, source_y, s=2, c=self.std_src)\n",
    "        self.snk_col2 = self.ax2.scatter(sink_x, sink_y, s=2, c=self.std_snk)\n",
    "        self.ax1.set_title('sent connections')\n",
    "        self.ax2.set_title('received connections')\n",
    "        self.ax2.set_yticks([])\n",
    "        \n",
    "        if weights:\n",
    "            update_fun = self.update_weight_anim\n",
    "            # extract the weight matrix\n",
    "            self.w_mat = np.zeros((len(sink), len(source)))\n",
    "            for syn in self.all_syns:\n",
    "                self.w_mat[syn.postID - sink[0], syn.preID - source[0]] = abs(syn.w)\n",
    "            self.w_mat /= np.amax(self.w_mat) # normalizing (maximum is 1)\n",
    "            self.cmap = plt.get_cmap('Reds') # getting colormap\n",
    "            #print(self.w_mat)\n",
    "        else:\n",
    "            update_fun = self.update_conn_anim\n",
    "            \n",
    "        if not slider:\n",
    "            animation = FuncAnimation(self.conn_fig, update_fun, interval=interv, blit=True)\n",
    "            return animation\n",
    "        else:\n",
    "            from ipywidgets import interact\n",
    "            widget = interact(update_fun, frame=(1, max(self.len_source, self.len_sink)))\n",
    "            return widget\n",
    "    \n",
    "    def update_conn_anim(self, frame): \n",
    "        sou_u = frame%self.len_source # source unit whose receivers we'll visualize\n",
    "        snk_u = frame%self.len_sink # sink unit whose senders we'll visualize\n",
    "    \n",
    "        # PLOTTING THE RECEIVERS OF sou_u ON THE LEFT AXIS\n",
    "        source_sizes = np.tile(2, self.len_source)\n",
    "        sink_sizes = np.tile(2, self.len_sink)\n",
    "        source_colors = np.tile(self.std_src,(self.len_source,1))\n",
    "        sink_colors = np.tile(self.std_snk, (self.len_sink,1))\n",
    "        source_sizes[sou_u] = 30\n",
    "        source_colors[sou_u] = self.big_src\n",
    "        \n",
    "        # getting targets of projections from the unit 'sou_u'\n",
    "        targets = [syn.postID - self.sink_0 for syn in self.all_syns if syn.preID == sou_u + self.source_0]\n",
    "        # setting the colors and sizes\n",
    "        sink_colors[targets] = self.big_snk\n",
    "        sink_sizes[targets] = 15\n",
    "        #ax1.get_children()[0].set_sizes(source_sizes)   # sizes for the source units\n",
    "        self.snk_col1.set_sizes(sink_sizes)   \n",
    "        self.src_col1.set_sizes(source_sizes)\n",
    "        self.snk_col1.set_color(sink_colors)\n",
    "        self.src_col1.set_color(source_colors)\n",
    "        \n",
    "        # PLOTTING THE SENDERS TO snk_u ON THE RIGHT AXIS\n",
    "        source_sizes = np.tile(2, self.len_source)\n",
    "        sink_sizes = np.tile(2, self.len_sink)\n",
    "        source_colors = np.tile(self.std_src, (self.len_source,1))\n",
    "        sink_colors = np.tile(self.std_snk, (self.len_sink,1))\n",
    "        sink_sizes[snk_u] = 30\n",
    "        sink_colors[snk_u] = self.big_snk\n",
    "        # getting senders of projections to the unit 'snk_u'\n",
    "        senders = [syn.preID - self.source_0 for syn in self.all_syns if syn.postID == snk_u + self.sink_0]\n",
    "        # setting the colors and sizes\n",
    "        source_colors[senders] = self.big_src\n",
    "        source_sizes[senders] = 15\n",
    "        self.src_col2.set_sizes(source_sizes)\n",
    "        self.snk_col2.set_sizes(sink_sizes)   \n",
    "        self.src_col2.set_color(source_colors)\n",
    "        self.snk_col2.set_color(sink_colors)\n",
    "    \n",
    "        return self.ax1, self.ax2,\n",
    "    \n",
    "    def update_weight_anim(self, frame): \n",
    "        sou_u = frame%self.len_source # source unit whose receivers we'll visualize\n",
    "        snk_u = frame%self.len_sink # sink unit whose senders we'll visualize\n",
    "        if sou_u == 30:\n",
    "            print(self.w_mat)\n",
    "            \n",
    "        # PLOTTING THE RECEIVERS OF sou_u ON THE LEFT AXIS\n",
    "        source_sizes = np.tile(2, self.len_source)\n",
    "        sink_sizes =  2. + 400.*self.w_mat[:,sou_u]\n",
    "        source_colors = np.tile(self.std_src,(self.len_source,1))\n",
    "        sink_colors =  self.cmap.__call__(self.w_mat[:,sou_u])\n",
    "        source_sizes[sou_u] = 320\n",
    "        sink_colors[sou_u] = self.big_src\n",
    "        source_colors[sou_u] = self.big_src\n",
    "        self.src_col1.set_sizes(source_sizes)\n",
    "        self.snk_col1.set_sizes(sink_sizes)   \n",
    "        self.snk_col1.set_color(sink_colors)\n",
    "        self.src_col1.set_color(source_colors)\n",
    "        \n",
    "        # PLOTTING THE SENDERS TO snk_u ON THE RIGHT AXIS\n",
    "        source_sizes = 2. + 400.*self.w_mat[snk_u,:]\n",
    "        sink_sizes = np.tile(2, self.len_sink)\n",
    "        source_colors = self.cmap.__call__(self.w_mat[snk_u,:])\n",
    "        sink_colors = np.tile(self.std_snk, (self.len_sink,1))\n",
    "        sink_sizes[snk_u] = 30\n",
    "        sink_colors[snk_u] = self.big_snk\n",
    "        self.src_col2.set_sizes(source_sizes)\n",
    "        self.snk_col2.set_sizes(sink_sizes)   \n",
    "        self.src_col2.set_color(source_colors)\n",
    "        self.snk_col2.set_color(sink_colors)\n",
    "    \n",
    "        return self.ax1, self.ax2,\n",
    "    \n",
    "    def hist_anim(self, nbins=15, interv=100, slider=False, pdf=False):\n",
    "        \"\"\" An animation to visualize the firing rate histogram through time. \n",
    "        \n",
    "            interv : refresh interval of the simulation.\n",
    "            slider : When set to True the animation is substituted by a slider widget.\n",
    "            nbins : number of bins in the histogram\n",
    "            pdf: include a plot of the exponential PDF?\n",
    "            \n",
    "            It is assumed that this import statement has happened:\n",
    "            from matplotlib.animation import FuncAnimation\n",
    "        \"\"\"\n",
    "        %matplotlib qt5\n",
    "        # notebook or qt5 \n",
    "        self.hist_fig = plt.figure(figsize=(10,10))\n",
    "        if pdf:\n",
    "            if self.unit_pars['type'] == unit_types.exp_dist_sig:\n",
    "                c = self.net.units[0].c\n",
    "            else:\n",
    "                c = self.syn['c']\n",
    "            # plot the exponential distro on the same figure\n",
    "            k = len(self.units) * c / (1. - np.exp(-c)) / nbins\n",
    "            plt.plot(np.linspace(0,1,100), k * np.exp(-c*np.linspace(0,1,100)))\n",
    "            upper_tick = round(max(1., np.exp(-c)) * k)  + 5.\n",
    "        else:\n",
    "            upper_tick = len(self.units)\n",
    "        # initial histogram plot\n",
    "        hist, bins, self.patches = plt.hist(self.all_activs[self.units,0], bins=nbins, range=(0.,1.001))\n",
    "        plt.yticks([0.,upper_tick])\n",
    "        \n",
    "        self.n_data = len(self.all_activs[0])\n",
    "        self.n_bins = nbins\n",
    "                \n",
    "        if not slider:\n",
    "            animation = FuncAnimation(self.hist_fig, self.update_hist_anim, \n",
    "                                  interval=interv, save_count=int(round(self.net.sim_time/self.net.min_delay)))    \n",
    "            return animation\n",
    "        else:\n",
    "            from ipywidgets import interact\n",
    "            widget = interact(self.update_hist_anim, frame=(1,self.n_data))\n",
    "            return widget\n",
    "\n",
    "    def update_hist_anim(self, frame):\n",
    "        # Each frame advances one simulation step (min_delay time units)\n",
    "        idx = frame%self.n_data\n",
    "        cur_time = self.net.min_delay*idx\n",
    "        binz, valz = np.histogram(self.all_activs[self.units,idx], bins=self.n_bins, range=(0.,1.001))\n",
    "        for count, patch in zip(binz, self.patches):\n",
    "            patch.set_height(count)\n",
    "        self.hist_fig.suptitle('Time: ' + '{:f}'.format(cur_time))\n",
    "        return \n",
    "    \n",
    "    def double_anim(self, nbins=15, interv=100, slider=False, thr=0.9, pdf=False):\n",
    "        \"\"\" An animation of both firing rate histograms and unit activities. \n",
    "        \n",
    "            bins = number of bins in the firing rate histogram\n",
    "            inter = refresh interval in ms\n",
    "            slider = whether to use an interactive slider instead of an animation\n",
    "            thr = value at which the dots change color in the unit activity diagram\n",
    "            pdf = whehter to overlay a plot of the exponential pdf the histogram should approach\n",
    "        \"\"\"\n",
    "        %matplotlib qt5\n",
    "        \n",
    "        self.double_fig = plt.figure(figsize=(16,8))\n",
    "        self.n_bins = nbins\n",
    "        self.act_thr = thr\n",
    "        self.n_data = len(self.all_activs[0])\n",
    "        # Histogram figure and axis\n",
    "        self.hist_ax = self.double_fig.add_axes([0.02, .04, .47, .92])\n",
    "        if pdf:\n",
    "            #if self.unit_pars['type'] == unit_types.exp_dist_sig:\n",
    "            if hasattr(self.net.units[0], 'c'):\n",
    "                c = self.net.units[0].c\n",
    "            else:\n",
    "                c = self.syn['c']\n",
    "            # plot the exponential distro on the left axis\n",
    "            k = len(self.units) * c / (1. - np.exp(-c)) / nbins\n",
    "            self.hist_ax.plot(np.linspace(0,1,100), k * np.exp(-c*np.linspace(0,1,100)), 'y')\n",
    "            y_lim = round(max(1., np.exp(-c)) * k)  + 5.\n",
    "        else:\n",
    "            y_lim = len(self.units)\n",
    "        hist, bins, self.patches = self.hist_ax.hist(self.all_activs[self.units,0], bins=nbins, range=(0.,1.001))\n",
    "        self.hist_ax.set_ylim(top=y_lim) \n",
    "        # Activity figure and axis\n",
    "        self.act_ax = self.double_fig.add_axes([.51, .02, .47, .94], frameon=False)\n",
    "        self.act_ax.set_xlim(-1, 1), self.act_ax.set_xticks([])\n",
    "        self.act_ax.set_ylim(-1, 1), self.act_ax.set_yticks([])\n",
    "        xcoords = [ u.coordinates[0] for u in [self.net.units[i] for i in self.units] ]\n",
    "        ycoords = [ u.coordinates[1] for u in [self.net.units[i] for i in self.units] ]\n",
    "        self.scat = self.act_ax.scatter(xcoords, ycoords, s=20.*self.all_activs[self.units,0])\n",
    "        # select viewing mode\n",
    "        if not slider:\n",
    "            animation = FuncAnimation(self.double_fig, self.update_double_anim, \n",
    "                                  interval=interv, save_count=int(round(self.net.sim_time/self.net.min_delay)))    \n",
    "            return animation\n",
    "        else:\n",
    "            from ipywidgets import interact\n",
    "            widget = interact(self.update_double_anim, frame=(1,self.n_data))\n",
    "            return widget\n",
    "    \n",
    "    def update_double_anim(self, frame):\n",
    "        # Each frame advances one simulation step (min_delay time units)\n",
    "        idx = frame%self.n_data\n",
    "        cur_time = self.net.min_delay*idx\n",
    "        # updating histogram\n",
    "        binz, valz = np.histogram(self.all_activs[self.units,idx], bins=self.n_bins, range=(0.,1.001))\n",
    "        for count, patch in zip(binz, self.patches):\n",
    "            patch.set_height(count)\n",
    "        # updating activities\n",
    "        self.scat.set_sizes(300.*self.all_activs[self.units,idx])\n",
    "        self.scat.set_color(self.color_fun(self.all_activs[self.units,idx]))\n",
    "        self.double_fig.suptitle('Time: ' + '{:f}'.format(cur_time))\n",
    "        return self.hist_ax, self.act_ax,\n",
    "    \n",
    "    def annotate(self, string, make_history=True):\n",
    "        \"\"\" Append a string to self.notes and self.history. \"\"\"\n",
    "        self.notes += '# NOTE: ' + string + '\\n'\n",
    "        if make_history:\n",
    "            self.history.append('#' + string)\n",
    "            \n",
    "    def log(self, name=\"rate_density_simlog.txt\"):\n",
    "        with open(name, 'a') as f:\n",
    "            f.write('#~~~~~~~~~~~~~~~~~~~~~~~~~~~~~~~~~~~~~~~\\n')\n",
    "            f.write('#---------Logging exp_distro object---------\\n')\n",
    "            f.write('# HISTORY #\\n')\n",
    "            for entry in self.history:\n",
    "                f.write(entry + '\\n')\n",
    "            f.write('# NOTES #\\n')\n",
    "            f.write(self.notes)\n",
    "            f.write('\\n')\n",
    "            f.close()\n",
    "        \n",
    "    def save(self, name=\"rate_density_pickled.pkl\"):\n",
    "        \"\"\" Saving simulation results. \n",
    "            A draculab network contains lists with functions, so it is not picklable. \n",
    "            But it can be serialized with dill: https://github.com/uqfoundation/dill \n",
    "            \n",
    "            After saving, retrieve object using, for example:\n",
    "            F = open(\"rate_density_pickled.pkl\", 'rb')\n",
    "            ei = dill.load(F)\n",
    "            F.close()\n",
    "        \"\"\"\n",
    "        self.history.append('# exp_distro object being saved as ' + name)\n",
    "        F = open(name, 'wb')\n",
    "        dill.dump(self, F)\n",
    "        F.close()"
   ]
  },
  {
   "cell_type": "code",
   "execution_count": 3,
   "metadata": {
    "code_folding": []
   },
   "outputs": [],
   "source": [
    "# Runner configuration\n",
    "dist_runner = exp_distro()\n",
    "#----------------------------------\n",
    "#dist_runner.annotate(\"Testing exp_dist_sig with partial connectivity.\")\n",
    "dist_runner.set_param('geom', 'rows', 12)\n",
    "dist_runner.set_param('geom', 'columns', 12)\n",
    "dist_runner.set_param('conn', 'mask', {'circular': {'radius': .3}})\n",
    "dist_runner.set_param('conn', 'kernel', 0.9)\n",
    "dist_runner.set_param('conn', 'edge_wrap', True)\n",
    "#----------------------------------\n",
    "#dist_runner.annotate(\"This is so the input at each presentation changes.\")\n",
    "#dist_runner.set_param('n_units', 'inp', 3) # 3 input units\n",
    "#----------------------------------\n",
    "\"\"\"\n",
    "#dist_runner.annotate('Using exp_rate_dist synapses.')\n",
    "dist_runner.set_param('syn', 'type', synapse_types.static)\n",
    "dist_runner.set_param('syn', 'lrate', 1.5)\n",
    "dist_runner.set_param('syn', 'wshift', 5.)\n",
    "dist_runner.set_param('syn', 'c', 2.)\n",
    "\"\"\"\n",
    "#----------------------------------\n",
    " \n",
    "#dist_runner.annotate(\"Using exp_dist_sig units.\")\n",
    "dist_runner.set_param('unit_pars', 'type', unit_types.exp_dist_sig_thr)\n",
    "dist_runner.set_param('unit_pars', 'n_ports', 1)\n",
    "dist_runner.set_param('syn', 'type', synapse_types.static)\n",
    "dist_runner.set_param('unit_pars', 'tau_scale', .1)\n",
    "dist_runner.set_param('unit_pars', 'c', 3.)\n",
    "dist_runner.set_param('unit_pars', 'Kp', .5)\n",
    "dist_runner.set_param('unit_pars', 'tau_thr', .05)\n",
    "dist_runner.set_param('i2u_syn', 'inp_port', 0)\n",
    "\n",
    "#----------------------------------\n",
    "dist_runner.annotate('This network has heterogeneous units.')\n",
    "num_units = dist_runner.geom['rows']*dist_runner.geom['columns']\n",
    "dist_runner.set_param('unit_pars', 'slope', 0.5 + 3.*np.random.random(num_units))\n",
    "dist_runner.set_param('unit_pars', 'thresh', -0.2 + 0.6*np.random.random(num_units))\n",
    "dist_runner.set_param('unit_pars', 'tau', 0.01 + 0.04*np.random.random(num_units))\n",
    "\n",
    "dist_runner.set_param('n_units', 'w_track', 16)\n",
    "\n",
    "dist_runner.build()"
   ]
  },
  {
   "cell_type": "code",
   "execution_count": 4,
   "metadata": {
    "scrolled": true
   },
   "outputs": [
    {
     "name": "stdout",
     "output_type": "stream",
     "text": [
      "Presentation 0 lasted 34.056199073791504 seconds.\n",
      "Presentation 1 lasted 33.14109683036804 seconds.\n",
      "Execution time is 67.19879817962646 seconds\n"
     ]
    },
    {
     "data": {
      "text/plain": [
       "<__main__.exp_distro at 0x7ff5f082c390>"
      ]
     },
     "execution_count": 4,
     "metadata": {},
     "output_type": "execute_result"
    }
   ],
   "source": [
    "# Simulating\n",
    "n_pres = 2\n",
    "inp_time = 1.\n",
    "inp_amp = 0.5\n",
    "pres_time = 3.\n",
    "dist_runner.run(n_pres, inp_time, inp_amp, pres_time, alpha=0.5)\n",
    "#126 s"
   ]
  },
  {
   "cell_type": "code",
   "execution_count": 5,
   "metadata": {
    "scrolled": false
   },
   "outputs": [
    {
     "data": {
      "image/png": "[encoded data removed]",
      "text/plain": [
       "<Figure size 720x360 with 1 Axes>"
      ]
     },
     "metadata": {},
     "output_type": "display_data"
    },
    {
     "data": {
      "image/png": "[encoded data removed]",
      "text/plain": [
       "<Figure size 720x360 with 1 Axes>"
      ]
     },
     "metadata": {},
     "output_type": "display_data"
    },
    {
     "data": {
      "image/png": "[encoded data removed]",
      "text/plain": [
       "<Figure size 720x360 with 1 Axes>"
      ]
     },
     "metadata": {},
     "output_type": "display_data"
    }
   ],
   "source": [
    "%matplotlib inline\n",
    "dist_runner.basic_plot()"
   ]
  },
  {
   "cell_type": "code",
   "execution_count": 7,
   "metadata": {},
   "outputs": [
    {
     "data": {
      "text/plain": [
       "<matplotlib.animation.FuncAnimation at 0x7ff57ed5db38>"
      ]
     },
     "execution_count": 7,
     "metadata": {},
     "output_type": "execute_result"
    }
   ],
   "source": [
    "dist_runner.double_anim(slider=False, interv=20, nbins=20, pdf=True)"
   ]
  },
  {
   "cell_type": "code",
   "execution_count": 8,
   "metadata": {},
   "outputs": [
    {
     "name": "stdout",
     "output_type": "stream",
     "text": [
      "[ 69 220 103 165 151  68  92  54 156 200]\n"
     ]
    },
    {
     "data": {
      "image/png": "[encoded data removed]",
      "text/plain": [
       "<Figure size 1296x576 with 1 Axes>"
      ]
     },
     "metadata": {},
     "output_type": "display_data"
    }
   ],
   "source": [
    "# Plot the highest unit activities\n",
    "%matplotlib inline\n",
    "n_top = 10\n",
    "top_units = dist_runner.all_activs[dist_runner.units].sum(1).argpartition(-n_top)[-n_top:]\n",
    "print(top_units)\n",
    "top_act_fig = plt.figure(figsize=(18,8))\n",
    "top_acts = dist_runner.all_activs[top_units].transpose()\n",
    "plt.plot(dist_runner.all_times, top_acts)\n",
    "plt.show()"
   ]
  },
  {
   "cell_type": "code",
   "execution_count": 9,
   "metadata": {},
   "outputs": [
    {
     "name": "stdout",
     "output_type": "stream",
     "text": [
      "[110  39  29 201   4  71   6 186 176  72  77 150 146 144 137   0 130  17\n",
      " 125 108 135 188  26   1  67  32  52  57 171 206]\n"
     ]
    },
    {
     "data": {
      "image/png": "[encoded data removed]",
      "text/plain": [
       "<Figure size 1296x576 with 1 Axes>"
      ]
     },
     "metadata": {},
     "output_type": "display_data"
    }
   ],
   "source": [
    "# Plot the lowest unit activities\n",
    "n_bottom = 30\n",
    "bottom_units = dist_runner.all_activs[dist_runner.units].sum(1).argpartition(n_bottom)[0:n_bottom]\n",
    "print(bottom_units)\n",
    "bottom_act_fig = plt.figure(figsize=(18,8))\n",
    "bottom_acts = dist_runner.all_activs[bottom_units].transpose()\n",
    "plt.plot(dist_runner.all_times, bottom_acts)\n",
    "plt.show()"
   ]
  },
  {
   "cell_type": "code",
   "execution_count": 31,
   "metadata": {},
   "outputs": [
    {
     "data": {
      "application/vnd.jupyter.widget-view+json": {
       "model_id": "cfb4786c3ddd4f4aae342a30a7c49b71",
       "version_major": 2,
       "version_minor": 0
      },
      "text/html": [
       "<p>Failed to display Jupyter Widget of type <code>interactive</code>.</p>\n",
       "<p>\n",
       "  If you're reading this message in the Jupyter Notebook or JupyterLab Notebook, it may mean\n",
       "  that the widgets JavaScript is still loading. If this message persists, it\n",
       "  likely means that the widgets JavaScript library is either not installed or\n",
       "  not enabled. See the <a href=\"https://ipywidgets.readthedocs.io/en/stable/user_install.html\">Jupyter\n",
       "  Widgets Documentation</a> for setup instructions.\n",
       "</p>\n",
       "<p>\n",
       "  If you're reading this message in another frontend (for example, a static\n",
       "  rendering on GitHub or <a href=\"https://nbviewer.jupyter.org/\">NBViewer</a>),\n",
       "  it may mean that your frontend doesn't currently support widgets.\n",
       "</p>\n"
      ],
      "text/plain": [
       "interactive(children=(IntSlider(value=113, description='frame', max=225, min=1), Output()), _dom_classes=('widget-interact',))"
      ]
     },
     "metadata": {},
     "output_type": "display_data"
    },
    {
     "data": {
      "text/plain": [
       "<function ipywidgets.widgets.interaction._InteractFactory.__call__.<locals>.<lambda>>"
      ]
     },
     "execution_count": 31,
     "metadata": {},
     "output_type": "execute_result"
    }
   ],
   "source": [
    "dist_runner.conn_anim(dist_runner.units, dist_runner.units, slider=True, weights=True)"
   ]
  },
  {
   "cell_type": "code",
   "execution_count": 30,
   "metadata": {
    "code_folding": []
   },
   "outputs": [],
   "source": [
    "# Annotations and log\n",
    "dist_runner.annotate('This simulation shows that exp_dist_sig units can actually perform well for positive c when', make_history=False)\n",
    "dist_runner.annotate('the connectivity is partial.', make_history=False)\n",
    "#dist_runner.annotate('When it was run, the f = max( min( .999, f), 0.001) was commented out.', make_history=False)\n",
    "#dist_runner.save(name=\"proto_rate_density_pickled.pkl\")\n",
    "dist_runner.log()"
   ]
  },
  {
   "cell_type": "code",
   "execution_count": 36,
   "metadata": {
    "scrolled": true
   },
   "outputs": [
    {
     "data": {
      "text/plain": [
       "['__init__ at Tue Dec 19 11:36:49 2017',\n",
       " 'np.random.seed = 19680801',\n",
       " '#Testing exp_dist_sig with partial connectivity.',\n",
       " \"unit_pars['type'] = unit_types.exp_dist_sig\",\n",
       " \"syn['type'] = synapse_types.static\",\n",
       " \"geom['rows'] = 15\",\n",
       " \"geom['columns'] = 15\",\n",
       " \"conn['mask'] = {'circular': {'radius': 0.3}}\",\n",
       " \"conn['kernel'] = 0.9\",\n",
       " \"conn['edge_wrap'] = True\",\n",
       " \"unit_pars['tau_scale'] = 0.1\",\n",
       " \"unit_pars['c'] = 4.0\",\n",
       " \"unit_pars['Kp'] = 0.1\",\n",
       " \"n_units['w_track'] = 16\",\n",
       " '#This network has heterogeneous units.',\n",
       " \"unit_pars['slope'] = [ 2.22933901  3.3859767   1.64130351  3.4249308   1.58011216  1.99325196\\n  1.75750518  1.19506705  0.78320081  1.97150903  2.30434662  3.07332363\\n  1.75798577  0.89528029  0.70432045  1.23044902  1.39653242  2.36879591\\n  1.32714947  0.64969695  2.72292219  1.80197381  1.37539825  1.33566853\\n  2.59896768  2.26791049  3.45403186  1.31700295  3.4058757   2.60149923\\n  3.09108936  3.10105206  2.04371656  1.38321327  3.22305296  2.21274576\\n  2.38713509  3.27091269  1.08869434  3.30387699  2.99255743  1.763335\\n  2.99462746  1.77480916  1.15994208  3.4479052   1.64603986  2.71753774\\n  0.82097229  1.08805563  2.67646973  2.8208651   1.77737035  1.64601375\\n  1.17097749  2.24045537  2.56483821  2.59284816  0.68819699  2.7582504\\n  0.58835219  2.79349206  2.67568726  1.61319341  2.44870954  0.93202459\\n  1.89238197  2.17142638  2.23065424  1.12272757  0.50338111  2.75531178\\n  3.44852462  1.29947151  0.82524792  0.93968964  2.54960477  0.86534746\\n  2.03969168  1.791384    2.61355763  2.61532068  3.11222023  1.35179824\\n  3.19787594  2.22478764  0.62351859  2.64009215  3.41721001  2.6724905\\n  3.22137173  1.75925753  3.06091697  1.80702022  3.34947174  0.66313829\\n  1.5718024   0.68708549  0.64192836  1.90941683  2.9199092   0.82040429\\n  2.72971612  2.2474685   1.85608332  0.67957298  1.73263149  2.55302589\\n  3.33873712  1.30610318  2.09167272  0.78292702  2.28004891  1.94379913\\n  2.85014299  0.84640324  1.51409481  2.90040707  1.48140412  2.65846594\\n  0.70150846  0.72556201  2.29708846  1.36075543  1.41515398  1.66704135\\n  3.26314517  1.74278534  1.72503384  1.52922208  3.17420103  2.46680967\\n  2.00802702  2.60053386  0.72498306  1.8420532   3.13288637  2.13282107\\n  3.0581145   2.11640123  0.9754381   2.2772998   0.58658432  1.61991568\\n  1.7749221   0.73428244  2.10904132  0.64256239  0.89144199  3.12950461\\n  2.5419519   1.23973322  3.1425201   2.70506667  1.3641241   2.77562309\\n  3.44223537  3.40023342  2.25312678  3.40531136  2.14657381  1.94322646\\n  1.4498344   1.03195727  2.16156238  2.52870627  0.58036701  3.38171799\\n  0.7067802   1.46024352  3.34226479  2.43510066  0.72752788  1.32560922\\n  1.82319791  1.27730679  2.04159311  2.99308987  1.45941087  1.28486401\\n  2.04596478  1.41175692  0.97804377  2.84771113  1.94798085  2.66108689\\n  3.34167839  0.80642256  1.7105123   1.75727811  1.66076059  0.72585283\\n  1.87894372  2.06176837  1.37819752  0.62546134  3.36154908  1.75415919\\n  0.66704906  2.20777478  0.81284401  3.07226063  2.33780807  0.90545263\\n  2.41343473  1.31625159  2.53497847  1.6463211   1.03750086  2.76767458\\n  2.50266331  3.00713464  1.14620868  1.14240571  1.73156749  2.31413431\\n  1.02387734  2.23535289  0.81473562  1.30488529  3.23026734  3.09490874\\n  2.071899    0.7537245   2.11112651]\",\n",
       " \"unit_pars['thresh'] = [ 0.19925616  0.21775776  0.14319664  0.2846857  -0.04512044  0.04994275\\n  0.23415693  0.30021367  0.2799931  -0.16054291 -0.11708834  0.13914929\\n -0.14384274  0.21860588  0.08262892  0.21547109  0.0168117   0.00044052\\n  0.38697259  0.29703288  0.1294343  -0.06492803 -0.11629499  0.2568484\\n -0.08633973  0.3560697   0.33655332 -0.16438549  0.22393245  0.20934111\\n  0.32773763  0.3529053   0.31357617  0.22364955  0.2332496   0.24135075\\n  0.14019043 -0.05564298  0.1728985   0.16919839  0.31679647  0.29227597\\n  0.24234221  0.32514312 -0.14441586  0.15607283  0.35146256  0.30588495\\n  0.02631358 -0.13733817  0.15060542  0.28696028  0.32908426  0.19914143\\n -0.1896169   0.17063738  0.23035685  0.18398771 -0.08501388 -0.14514089\\n  0.08784886 -0.01524497  0.27655857  0.11979011  0.07885246  0.26800652\\n  0.21088016  0.35202185 -0.15258585  0.14502475  0.1309091   0.38056032\\n  0.04651118  0.08848134  0.10069983  0.02959277 -0.07152422  0.29530988\\n  0.28157003  0.1664444   0.28469246  0.07359127  0.26878091  0.28404173\\n  0.05740522  0.23200199  0.23703031 -0.18714597  0.10523867  0.21638948\\n  0.08404989  0.23194409 -0.11030987 -0.08921557 -0.14727683 -0.09382364\\n -0.19708623 -0.09869188  0.12804598  0.33287741  0.20061112 -0.08760797\\n  0.34207489 -0.16714075  0.2179479   0.20602309  0.287995    0.12932074\\n  0.30528836  0.3278797   0.24400463  0.35388734 -0.13646623  0.23772762\\n -0.17159895  0.2337366  -0.0592819   0.09323719  0.37235365 -0.13411343\\n -0.00752058  0.20035531  0.0180836   0.35336755  0.06199606  0.18155367\\n  0.16690179  0.10662775  0.14684917  0.00805532 -0.14041734  0.25393796\\n -0.12386074  0.37518721  0.06312957  0.07732333  0.13732931  0.34799497\\n  0.13600869 -0.03030553 -0.04035023 -0.07867726 -0.10949176 -0.10738486\\n  0.36769157 -0.04809476  0.39777784 -0.16348758 -0.00303641 -0.16212093\\n -0.03012948  0.17399569  0.06776242  0.39960543 -0.06347028  0.16109323\\n  0.14529223 -0.18853409  0.12234883  0.04096508  0.25627599  0.0574321\\n  0.35576932  0.33726143  0.08221081 -0.18155903 -0.11308404  0.17559002\\n -0.04203585  0.23229568  0.27550542  0.1115686   0.22989847  0.28321319\\n -0.07619774 -0.04496045  0.00085323  0.29397489 -0.06805983 -0.08849256\\n  0.22722738  0.10369512  0.36617472  0.32377888  0.34088257 -0.15319397\\n -0.17334996 -0.17928669  0.32239999 -0.14268295  0.03751622 -0.0389168\\n  0.22465202  0.2481746   0.1242818   0.06612694 -0.1156612   0.06965493\\n -0.15450388 -0.01800297  0.043067    0.06961944 -0.01158878 -0.09264158\\n  0.17247327 -0.04141286  0.17322905 -0.10648517  0.30402815  0.17628273\\n  0.34394957  0.0380275  -0.07335837  0.07776466 -0.11898493 -0.0779872\\n  0.03878697  0.30385522  0.28871672  0.31279993 -0.1777794   0.11577232\\n  0.35180593  0.28170187  0.28447022]\",\n",
       " \"unit_pars['tau'] = [ 0.01855088  0.04662735  0.01330903  0.027633    0.0322939   0.0440614\\n  0.03737457  0.02833353  0.0112919   0.0136866   0.04434797  0.02704009\\n  0.01187435  0.01279518  0.04565923  0.04889248  0.03475077  0.03905334\\n  0.04103639  0.04201651  0.04184875  0.0310567   0.0127653   0.02737476\\n  0.01179188  0.03040565  0.03667102  0.04251086  0.01936548  0.01892437\\n  0.03653201  0.02261385  0.03378046  0.0309223   0.04366737  0.01391876\\n  0.02720996  0.04935638  0.04003735  0.02581557  0.01073364  0.02788967\\n  0.02368285  0.03953425  0.03005737  0.03028678  0.02156343  0.04928053\\n  0.02719598  0.02095723  0.01026468  0.02285096  0.01755327  0.04647072\\n  0.01885587  0.03756975  0.01496656  0.0256872   0.02902875  0.04582872\\n  0.01024183  0.02090272  0.04097331  0.03110815  0.01569199  0.01546688\\n  0.02870764  0.02522713  0.01356568  0.02966353  0.0305152   0.03335637\\n  0.04704187  0.02906348  0.02795404  0.019076    0.04854529  0.0354504\\n  0.04711001  0.04842662  0.04072373  0.02286879  0.0411697   0.0356055\\n  0.02493261  0.03649023  0.02666096  0.01325336  0.03641513  0.02245735\\n  0.04140369  0.02397108  0.02379523  0.01778435  0.04327356  0.02387154\\n  0.02636947  0.02844635  0.0492071   0.03964177  0.02881086  0.04442848\\n  0.04654377  0.02200732  0.01019851  0.03145501  0.04449723  0.03399069\\n  0.02253449  0.02187889  0.01807512  0.01441584  0.01761156  0.03924633\\n  0.03941192  0.0308625   0.01316284  0.04035416  0.04495701  0.03585786\\n  0.03665187  0.04567995  0.04505392  0.01382818  0.02492032  0.02874058\\n  0.04019159  0.03728446  0.03985695  0.04487285  0.04366196  0.03910435\\n  0.02028442  0.0386306   0.02972112  0.03051655  0.04517059  0.03301381\\n  0.04050421  0.0370365   0.01770616  0.01544787  0.04523872  0.02087666\\n  0.01168487  0.01841059  0.03957824  0.03686354  0.01288079  0.02499172\\n  0.0496288   0.01090568  0.04224403  0.02087147  0.03968593  0.02072735\\n  0.02078     0.01499707  0.01242009  0.02005654  0.01893621  0.03080902\\n  0.04921288  0.03612086  0.04025193  0.01643017  0.03373614  0.03544485\\n  0.01393409  0.01309751  0.04119012  0.03688535  0.03091854  0.02882249\\n  0.04219648  0.02906016  0.02734225  0.04217821  0.01250038  0.03337725\\n  0.01826784  0.02413435  0.01784843  0.01823625  0.01232825  0.0409545\\n  0.04087516  0.02689498  0.01294852  0.03688481  0.04238743  0.01844303\\n  0.03267424  0.01733419  0.02994351  0.03663838  0.03480417  0.03461267\\n  0.01684061  0.03852957  0.01130406  0.04242122  0.0414009   0.04834295\\n  0.013619    0.02031203  0.01903207  0.04496353  0.0225995   0.03751705\\n  0.03727379  0.03806048  0.03067468  0.01630405  0.01879686  0.03919684\\n  0.04894247  0.02598907  0.02422272  0.03694786  0.03577186  0.03896774\\n  0.0346505   0.02533332  0.02609184]\",\n",
       " 'build()',\n",
       " 'run(8, 1.000000, 0.000000, 1.000000, 0.500000)']"
      ]
     },
     "execution_count": 36,
     "metadata": {},
     "output_type": "execute_result"
    }
   ],
   "source": [
    "dist_runner.history"
   ]
  },
  {
   "cell_type": "code",
   "execution_count": null,
   "metadata": {
    "collapsed": true
   },
   "outputs": [],
   "source": [
    "dist_runner.activ_anim(0.9, interv=10, slider=False)"
   ]
  },
  {
   "cell_type": "code",
   "execution_count": 56,
   "metadata": {},
   "outputs": [
    {
     "data": {
      "text/plain": [
       "<matplotlib.animation.FuncAnimation at 0x7fecb1e54f98>"
      ]
     },
     "execution_count": 56,
     "metadata": {},
     "output_type": "execute_result"
    }
   ],
   "source": [
    "dist_runner.hist_anim(pdf=True)"
   ]
  },
  {
   "cell_type": "raw",
   "metadata": {},
   "source": [
    "\"Profiling cell\"\n",
    "import cProfile\n",
    "import pstats\n",
    "# init \n",
    "exp_net = exp_distro()\n",
    "# parameter changes\n",
    "exp_net.set_param('net_params', 'rtol', 5e-5)\n",
    "exp_net.set_param('net_params', 'atol', 5e-5)\n",
    "exp_net.set_param('geom', 'rows', 12)\n",
    "exp_net.set_param('geom', 'columns', 12)\n",
    "# build\n",
    "exp_net.build()\n",
    "# simulate\n",
    "n_pres = 1\n",
    "inp_time = .1\n",
    "inp_amp = 0.\n",
    "pres_time = .5\n",
    "cProfile.run('exp_net.run(n_pres, inp_time, inp_amp, pres_time, alpha=0.)', 'restats')\n",
    "prof = pstats.Stats('restats')\n",
    "prof.sort_stats('cumulative').print_stats(30)"
   ]
  },
  {
   "cell_type": "code",
   "execution_count": null,
   "metadata": {
    "code_folding": [],
    "collapsed": true
   },
   "outputs": [],
   "source": [
    "# Some code to visualize the shape of the learning rule\n",
    "f = lambda x: np.log( x/(1.-x) )\n",
    "x = np.linspace(0.005, 0.99, 200)\n",
    "#plt.plot(x, f(x))\n",
    "y = np.linspace(0.005, 0.99, 200)\n",
    "x,y = np.meshgrid(x,y)\n",
    "k = np.exp(1.)/(1. - np.exp(-1))\n",
    "#z = 0.1*f(x)*np.exp(y)/(y*(y-1))\n",
    "z =  k * x * np.exp(y)/(144.*y*(1.-y))\n",
    "%matplotlib qt5\n",
    "fig = plt.figure(figsize=(15,15))\n",
    "ax = fig.gca(projection='3d')\n",
    "surf = ax.plot_surface(x, y, z, cmap=cm.coolwarm, rcount=60, ccount=60, antialiased=False)\n",
    "ax.set_xlabel('post rate')\n",
    "ax.set_ylabel('pre rate')\n",
    "ax.set_zlabel('ss weight')\n",
    "plt.show()"
   ]
  },
  {
   "cell_type": "code",
   "execution_count": 52,
   "metadata": {},
   "outputs": [
    {
     "data": {
      "text/plain": [
       "False"
      ]
     },
     "execution_count": 52,
     "metadata": {},
     "output_type": "execute_result"
    }
   ],
   "source": [
    "a = {'a' : 1, 'b' : 2}\n",
    "c = {'a' : 1, 'b' : 2, 'c' : 3}\n",
    "a == c"
   ]
  },
  {
   "cell_type": "code",
   "execution_count": null,
   "metadata": {},
   "outputs": [],
   "source": []
  }
 ],
 "metadata": {
  "kernelspec": {
   "display_name": "Python 3",
   "language": "python",
   "name": "python3"
  },
  "language_info": {
   "codemirror_mode": {
    "name": "ipython",
    "version": 3
   },
   "file_extension": ".py",
   "mimetype": "text/x-python",
   "name": "python",
   "nbconvert_exporter": "python",
   "pygments_lexer": "ipython3",
   "version": "3.5.2"
  }
 },
 "nbformat": 4,
 "nbformat_minor": 2
}
