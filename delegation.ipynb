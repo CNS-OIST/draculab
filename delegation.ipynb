{
 "cells": [
  {
   "cell_type": "markdown",
   "metadata": {},
   "source": [
    "# delegation.ipynb\n",
    "\n",
    "This notebook is used to test the implementatin of 'delegation' synapses in draculab.\n",
    "\n",
    "Delegation synapses: \n",
    "* `diff_hebb_subsnorm_synapse`\n",
    "\n",
    "By: Sergio Verduzco Flores                                \n",
    "August-September 2017"
   ]
  },
  {
   "cell_type": "code",
   "execution_count": 2,
   "metadata": {
    "collapsed": true
   },
   "outputs": [],
   "source": [
    "from draculab import *\n",
    "from matplotlib import pyplot as plt\n",
    "import time"
   ]
  },
  {
   "cell_type": "markdown",
   "metadata": {},
   "source": [
    "In this simulation you have a unit receiving several inputs. Among them, one is an increasing function of the unit's activity. This means $I(t) = f(u(t-\\Delta))$, and $x_2 > x_1 \\Rightarrow f(x_2) \\geq f(x_1)$, where $I$ is the input, $u$ is the unit's activity, and $\\Delta$ is the delay of the input. The other inputs will be random processes independent of $u$.\n",
    "\n",
    "The rule will work if the synapse for $I$ becomes the one with the largest weight."
   ]
  },
  {
   "cell_type": "code",
   "execution_count": null,
   "metadata": {
    "collapsed": true
   },
   "outputs": [],
   "source": [
    "N = 2 # number of additional inputs\n",
    "\n",
    "# Create the network\n",
    "net = network()\n",
    "# Create the units"
   ]
  },
  {
   "cell_type": "markdown",
   "metadata": {},
   "source": [
    "In this simulation you have a pendulum with no friction, being moved by gravity, a random torque, and a positive torque that comes from the output of a unit. Among the inputs of the unit are sigmoidal functions of the pendulum's angle (modulo $2\\pi$) and its angular velocity. Other inputs are either random and uncorrelated to the pendulum's state, or nonmonotonic functions of a state variable.\n",
    "\n",
    "As before, the learning rule must select the inputs from angle and angular velocity."
   ]
  },
  {
   "cell_type": "code",
   "execution_count": null,
   "metadata": {
    "collapsed": true
   },
   "outputs": [],
   "source": []
  }
 ],
 "metadata": {
  "kernelspec": {
   "display_name": "Python 3",
   "language": "python",
   "name": "python3"
  },
  "language_info": {
   "codemirror_mode": {
    "name": "ipython",
    "version": 3
   },
   "file_extension": ".py",
   "mimetype": "text/x-python",
   "name": "python",
   "nbconvert_exporter": "python",
   "pygments_lexer": "ipython3",
   "version": "3.5.2"
  }
 },
 "nbformat": 4,
 "nbformat_minor": 2
}
