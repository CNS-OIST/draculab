{
 "cells": [
  {
   "cell_type": "markdown",
   "metadata": {},
   "source": [
    "# tutorial 5\n",
    "\n",
    "Creating new units, synapses, and plants"
   ]
  },
  {
   "cell_type": "markdown",
   "metadata": {},
   "source": [
    "## Part 1\n",
    "### Creating a new type of unit\n",
    "\n",
    "Suppose you want to create a unit that outputs the value $-1$ when the sum of its inputs is below a threshold $\\theta$, and outputs $1$ otherwise.  \n",
    "Because Draculab's units are continuous-time dynamical systems, the unit we'll create is not quite the same as a typical binary unit. Switching the output value from $-1$ to $1$ (and viceversa) will happen gradually, with a time constant $\\tau$, and the unit will approach its end values asymptotically. If the $i$-th unit has output $x_i$, then its dynamics are described by:  \n",
    "$ \\dot{x_i} = \n",
    "\\begin{cases}\n",
    "-1/\\tau \\text{  if  } I > \\theta , \\\\\n",
    "1/\\tau \\text{  if  } I \\leq \\theta .\n",
    "\\end{cases} \\\\\n",
    "\\text{where } I = \\sum_j \\omega_{ij} x_j. $\n",
    "\n",
    "Creating a new type of unit can be divided into 3 steps:\n",
    "\n",
    "1. Register the name of the new unit in `draculab.py`.  \n",
    "The unit class will be written into `custom_units.py`, where you:  \n",
    "2. Add the `__init__` method.  \n",
    "3. Add the `derivatives` (or `dt_fun`) method."
   ]
  },
  {
   "cell_type": "markdown",
   "metadata": {},
   "source": [
    "Tor register the name of a new unit type open the `draculab.py` and locate the `unit_types` class, which is an [enum](https://docs.python.org/3/library/enum.html).\n",
    "\n",
    "In the `unit_type` class we define an attribute with the name of the unit, and assign it a unique integer value to identify it. In the case of our unit, we could call it \"binary\", and assign it the value 101.\n",
    "\n",
    "Next, in the `unit_types.get_class` method we need to associate the name of the type (e.g. \"binary\") with the name of the class implementing it in `custom_units.py`. Once this is done we can create this type of units using `network.create(n, params_dict)`, where the paramters dictionary contains the entry `'type' = unit_types.binary`. In general it is better to have the type name and the name of the class being equal, but for the purpose of this tutorial, the class implementing binary units will be `binary_unit`."
   ]
  },
  {
   "cell_type": "code",
   "execution_count": null,
   "metadata": {},
   "outputs": [],
   "source": [
    "# The code to be entered in the unit_types class is thus\n",
    "binary = 101\n",
    "# among the other unit names, and\n",
    "elif self == unit_types.binary:\n",
    "    unit_class = binary_unit\n",
    "# among the elif statements of the get_class method"
   ]
  },
  {
   "cell_type": "markdown",
   "metadata": {},
   "source": [
    "Let's now write the class implementing the unit in `custom_units.py`."
   ]
  },
  {
   "cell_type": "code",
   "execution_count": null,
   "metadata": {},
   "outputs": [],
   "source": [
    "class binary_unit(unit):\n",
    "    \"\"\" The unit type created in tutorial 5. \"\"\"\n",
    "    def __init__(self, ID, params, network):\n",
    "        \"\"\" The unit constructor. \n",
    "        \n",
    "        Args:\n",
    "            ID, params, network: same as in the 'unit' parent class.\n",
    "            In adittion, params should have the following entries.\n",
    "            REQUIRED PARAMETERS\n",
    "            tau: time constant for the update dynamics.\n",
    "            theta: unit's threshold.\n",
    "        \"\"\"\n",
    "        unit.__init__(self, ID, params, network) # parent's constructor\n",
    "        self.tau = params['tau']\n",
    "        self.theta = params['theta']\n",
    "        \n",
    "    def derivatives(self, y, t):\n",
    "        \"\"\" Derivative function of the binary unit.\n",
    "        \n",
    "        Args:\n",
    "            y: a 1-element array with the current firing rate.\n",
    "            t: time when the derivative is evaluated.\n",
    "        \"\"\"\n",
    "        I = self.get_input_sum(t)\n",
    "        if I < self.theta:\n",
    "            return (-1. - y[0])/self.tau\n",
    "        else:\n",
    "            return (1. - y[0])/self.tau\n",
    "        \n",
    "    def dt_fun(self, y, s):\n",
    "        \"\"\" The derivative function used by flat networks.\n",
    "        \n",
    "        Args:\n",
    "            y: a scalar value with the current firing rate.\n",
    "            s: index used to retrieve the input sum to use.\n",
    "        \"\"\"\n",
    "        I = self.inp_sum[s]\n",
    "        if I < self.theta:\n",
    "            return (-1. - y)/self.tau\n",
    "        else:\n",
    "            return (1. - y)/self.tau"
   ]
  },
  {
   "cell_type": "markdown",
   "metadata": {},
   "source": [
    "After changing the source code, you neeed to reset the kernel of the Jupyter notebook and import draculab once more.  \n",
    "Now the unit is ready to use!\n",
    "\n",
    "Some comments about the class definition:\n",
    "* The `__init__` method always begins with `unit.__init__(self, ID, params, network)`. This provides the new unit type with all the functionality of the `unit` class. For more information type `help(unit.__init__)`.\n",
    "* the `derivatives` method is used by `unit.update`, whereas `unit.flat_update` calls `dt_fun`. It is not necessary to write both methods, but adding them both allows our unit to work in simulations with regular and flat networks.\n",
    "* The `get_input_sum` method is a utility provided by the `unit` class. It returns the sum of all the inputs received by the unit at a given time, each input multiplied by its corresponding synaptic weight. Moreover, all the inputs are obtained considering their corresponding delays. Other methods provided by the unit class are `get_inputs`, and `get_weights`. These can be used to make the `derivatives` function easier to write and read.\n",
    "* When the network is flat, the unit will have an `inp_sum` attribute, which provides the scaled sum of inputs at various points in time. `inp_sum[0]` is the input sum at the beginning of the current simulation step. `inp_sum[1]` is the input sum at `min_delay/min_buff_size` time units later, and so forth. Unless we're writing a new integration it is not necessary to understand these details. What's important is to know that `imp_sum[s]` is the input. If for some reason the \"raw\" inputs are required, these are in the `unit.step_inps` array (see `unit.upd_flat_inp_sum`).\n",
    "* Unit types that use multiple input ports need to override `unit.get_mp_input_sum` in order to specify how to interpret the inputs that arrive at different ports. Such a thing is not part of this tutorial. "
   ]
  },
  {
   "cell_type": "code",
   "execution_count": 1,
   "metadata": {},
   "outputs": [
    {
     "name": "stderr",
     "output_type": "stream",
     "text": [
      "/home/z/projects/draculab/network.py:840: UserWarning: Integration method odeint subsituted by Forward Euler in some units\n",
      "  ' subsituted by Forward Euler in some units', UserWarning)\n"
     ]
    },
    {
     "data": {
      "image/png": "[encoded data removed]",
      "text/plain": [
       "<Figure size 432x288 with 1 Axes>"
      ]
     },
     "metadata": {},
     "output_type": "display_data"
    }
   ],
   "source": [
    "# A quick test of the unit\n",
    "from draculab import *\n",
    "from matplotlib import pyplot as plt\n",
    "\n",
    "# create a network\n",
    "net_params = { 'min_delay':.1, 'min_buff_size':10}\n",
    "net = network(net_params)\n",
    "\n",
    "# create a test unit and an input unit\n",
    "test_unit_params = {'type': unit_types.binary, #### this is new\n",
    "               'theta': 1.,\n",
    "               'tau': 0.5,\n",
    "               'init_val':0.}\n",
    "input_unit_params = {'type': unit_types.source,\n",
    "                     'init_val': -1.,\n",
    "                     'function': lambda t: -1 + .2*t }\n",
    "test_unit = net.create(1, test_unit_params)\n",
    "input_unit = net.create(1, input_unit_params)\n",
    "\n",
    "# connect them\n",
    "conn_spec = {'rule': 'one_to_one',\n",
    "             'delay': 1. }\n",
    "syn_spec = {'type': synapse_types.static,\n",
    "            'init_w': 1. }\n",
    "net.connect(input_unit, test_unit, conn_spec, syn_spec)\n",
    "\n",
    "# simulate\n",
    "times, activs, _ = net.run(20.)\n",
    "#times, activs, _ = net.flat_run(20.)\n",
    "\n",
    "# plot\n",
    "fig = plt.figure\n",
    "plt.plot(times, activs[0], 'b', times, activs[1], 'r')\n",
    "plt.show()"
   ]
  },
  {
   "cell_type": "markdown",
   "metadata": {},
   "source": [
    "## Part 2\n",
    "### Creating a new synapse type\n",
    "\n",
    "Now let's assume that we want to create a new type of synapse. This synapse will have a weight that will adopt one of two values, -1 or 1 (clearly not biologically realistic). Let $\\langle x_{pre} \\rangle$ be the average value of the presynaptic activity, and $\\langle x_{post} \\rangle$ be the average postsynaptic activity. Our synapse will be such that the weigth will move to -1 if $\\langle x_{pre} \\rangle > \\langle x_{post} \\rangle$, and to 1 otherwise.\n",
    "\n",
    "Before we proceed to write the synapse class, we should specify how the average activity is calculated. The average of a continuous function $f$ is usually defined as\n",
    "$ \\frac{1}{T} \\int_{t_0}^{t_0 + T} f(s) ds $. Using this type of average for our rule, however, is not very practical; the reason is that it gives the same importance to values that occurred in the distant past compared to recent values. After a while, the values of the average become slower, and slower to respond.\n",
    "\n",
    "A simple way to obtain an average that places more importance on the most recent values is to use a first order *low-pass filter*. A simple, yet effective version is defined by:\n",
    "$\\frac{d \\langle x \\rangle}{dt} = \\frac{ x - \\langle x \\rangle }{ \\tau_f } $.\n",
    "\n",
    "Such a quantity can be calculated by the unit and made available to all its synapses if the unit contains a low-pass filter *requirement*. In general, a requirement can be added to a unit if the requirement's name is added to `syn_needs`, which is an object of the *set* data type in the unit. This can be done in the unit's constructor. The name of all available requirements can be seen in the `syn_reqs` enum class of `draculab.py`. Alternatively, they are displayed by the command `syn_reqs.list_names()`. Documentation about a particular requirement can be found in the methods of the `requirements.py`; in particular, in the methods called `add_<requirement name>`.\n",
    "\n",
    "In the case of requirements used by synapses, it is not necessary to add them in the constructors of the units we'll use. If we specify which requirements will be used by the synapse in its constructor, these will be automatically added to the relevant units by `network.connect`. The code in this example will illustrate this.\n",
    "\n",
    "Similarly to the case of units, to create the new synapse type we will follow 3 steps:\n",
    "1. Register the name of the synapse in the synapse_types enum at `draculab.py`. This is basically the same as the first step to create a new unit type.\n",
    "2. Create the synapse class, with an __init__ method.\n",
    "3. Write the function that the synapse uses to update its weight in the `update` method.\n",
    "\n",
    "Our new type of synapse will be called *switcher*, and so will its corresponding class."
   ]
  },
  {
   "cell_type": "code",
   "execution_count": 3,
   "metadata": {},
   "outputs": [
    {
     "ename": "SyntaxError",
     "evalue": "invalid syntax (<ipython-input-3-7ed4d493a622>, line 4)",
     "output_type": "error",
     "traceback": [
      "\u001b[0;36m  File \u001b[0;32m\"<ipython-input-3-7ed4d493a622>\"\u001b[0;36m, line \u001b[0;32m4\u001b[0m\n\u001b[0;31m    elif self == synapse_types.switcher:\u001b[0m\n\u001b[0m       ^\u001b[0m\n\u001b[0;31mSyntaxError\u001b[0m\u001b[0;31m:\u001b[0m invalid syntax\n"
     ]
    }
   ],
   "source": [
    "# In draculab.py you need to write\n",
    "switcher = 101\n",
    "# in the synapse_types class, and\n",
    "elif self == synapse_types.switcher:\n",
    "        syn_class = switcher\n",
    "# in the get_class method."
   ]
  },
  {
   "cell_type": "code",
   "execution_count": null,
   "metadata": {},
   "outputs": [],
   "source": [
    "class switcher(synapse):\n",
    "    \"\"\" The synapse created in part 2 of tutorial 5. \"\"\"\n",
    "    def __init__(self, params, network):\n",
    "        \"\"\" The class constructor. \n",
    "        \n",
    "        Args:\n",
    "            params: same as the 'synapse' parent class, with these additions\n",
    "            'lrate': learning rate; a scalar that multiplies the weight's derivative\n",
    "        \"\"\"\n",
    "        synapse.__init__(self, params, network) # calling the parent's constructor\n",
    "        self.lrate = params['lrate'] # learning rate\n",
    "        self.upd_requirements = set([syn_reqs.lpf_mid, pre_lpf_mid])\n",
    "        self.alpha = self.lrate * self.net.min_delay # factor that scales the update rule \n",
    "        \n",
    "    def update(self, time):\n",
    "        \"\"\" Updates the synaptic weight at each simulation step. \"\"\"\n",
    "        pre_avg = self.net.units[self.preID].get_lpf_mid(self.delay_steps)\n",
    "        post_avg = self.net.units[self.postID].get_lpf_mid(0)\n",
    "        if pre_avg > post_avg:\n",
    "            self.w += self.alpha * (-1. - self.w)\n",
    "        else:\n",
    "            self.w += self.alpha * (1. - self.w)"
   ]
  }
 ],
 "metadata": {
  "kernelspec": {
   "display_name": "Python 3",
   "language": "python",
   "name": "python3"
  },
  "language_info": {
   "codemirror_mode": {
    "name": "ipython",
    "version": 3
   },
   "file_extension": ".py",
   "mimetype": "text/x-python",
   "name": "python",
   "nbconvert_exporter": "python",
   "pygments_lexer": "ipython3",
   "version": "3.5.2"
  }
 },
 "nbformat": 4,
 "nbformat_minor": 2
}
