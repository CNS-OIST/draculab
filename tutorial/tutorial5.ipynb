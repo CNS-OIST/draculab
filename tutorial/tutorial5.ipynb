{
 "cells": [
  {
   "cell_type": "markdown",
   "metadata": {},
   "source": [
    "# tutorial 5\n",
    "\n",
    "Creating new units, synapses, and plants"
   ]
  },
  {
   "cell_type": "markdown",
   "metadata": {},
   "source": [
    "**NOTE:**\n",
    "In this tutorial you'll enter code in the Draculab source files. For purposes of the tutorial you may use any conventions you like for naming variables. Notice, however, that `camel_case` is the usual standard."
   ]
  },
  {
   "cell_type": "markdown",
   "metadata": {},
   "source": [
    "## Part 1\n",
    "### Creating a new type of unit\n",
    "\n",
    "Suppose you want to create a unit that outputs the value $-1$ when the sum of its inputs is below a threshold $\\theta$, and outputs $1$ otherwise.  \n",
    "Because Draculab's units are continuous-time dynamical systems, the unit we'll create is not quite the same as a typical binary unit. Switching the output value from $-1$ to $1$ (and viceversa) will happen gradually, with a time constant $\\tau$, and the unit will approach its end values asymptotically. If the $i$-th unit has output $x_i$, then its dynamics are described by:  \n",
    "$ \\dot{x_i} = \n",
    "\\begin{cases}\n",
    "-1/\\tau \\text{  if  } I > \\theta , \\\\\n",
    "1/\\tau \\text{  if  } I \\leq \\theta .\n",
    "\\end{cases} \\\\\n",
    "\\text{where } I = \\sum_j \\omega_{ij} x_j. $\n",
    "\n",
    "Creating a new type of unit can be divided into 3 steps:\n",
    "\n",
    "1. Register the name of the new unit in `draculab.py`.  \n",
    "The unit class will be written into `custom_units.py`, where you:  \n",
    "2. Add the `__init__` method.  \n",
    "3. Add the `derivatives` (or `dt_fun`) method."
   ]
  },
  {
   "cell_type": "markdown",
   "metadata": {},
   "source": [
    "Tor register the name of a new unit type open the `draculab.py` and locate the `unit_types` class, which is an [enum](https://docs.python.org/3/library/enum.html).\n",
    "\n",
    "In the `unit_type` class we define an attribute with the name of the unit, and assign it a unique integer value to identify it. In the case of our unit, we could call it \"binary\", and assign it the value 101.\n",
    "\n",
    "Next, in the `unit_types.get_class` method we need to associate the name of the type (e.g. \"binary\") with the name of the class implementing it in `custom_units.py`. Once this is done we can create this type of units using `network.create(n, params_dict)`, where the paramters dictionary contains the entry `'type' = unit_types.binary`. In general it is better to have the type name and the name of the class being equal, but for the purpose of this tutorial, the class implementing binary units will be `binary_unit`."
   ]
  },
  {
   "cell_type": "code",
   "execution_count": null,
   "metadata": {
    "collapsed": true
   },
   "outputs": [],
   "source": [
    "# The code to be entered in the unit_types class is thus\n",
    "binary = 101\n",
    "# among the other unit names, and\n",
    "elif self == unit_types.binary:\n",
    "    unit_class = binary_unit\n",
    "# among the elif statements of the get_class method"
   ]
  },
  {
   "cell_type": "markdown",
   "metadata": {},
   "source": [
    "Let's now write the class implementing the unit in `custom_units.py`."
   ]
  },
  {
   "cell_type": "code",
   "execution_count": null,
   "metadata": {
    "collapsed": true
   },
   "outputs": [],
   "source": [
    "class binary_unit(unit):\n",
    "    \"\"\" The unit type created in tutorial 5. \"\"\"\n",
    "    def __init__(self, ID, params, network):\n",
    "        \"\"\" The unit constructor. \n",
    "        \n",
    "        Args:\n",
    "            ID, params, network: same as in the 'unit' parent class.\n",
    "            In adittion, params should have the following entries.\n",
    "            REQUIRED PARAMETERS\n",
    "            tau: time constant for the update dynamics.\n",
    "            theta: unit's threshold.\n",
    "        \"\"\"\n",
    "        unit.__init__(self, ID, params, network) # parent's constructor\n",
    "        self.tau = params['tau']\n",
    "        self.theta = params['theta']\n",
    "        \n",
    "    def derivatives(self, y, t):\n",
    "        \"\"\" Derivative function of the binary unit.\n",
    "        \n",
    "        Args:\n",
    "            y: a 1-element array with the current firing rate.\n",
    "            t: time when the derivative is evaluated.\n",
    "        \"\"\"\n",
    "        I = self.get_input_sum(t)\n",
    "        if I < self.theta:\n",
    "            return (-1. - y[0])/self.tau\n",
    "        else:\n",
    "            return (1. - y[0])/self.tau\n",
    "        \n",
    "    def dt_fun(self, y, s):\n",
    "        \"\"\" The derivative function used by flat networks.\n",
    "        \n",
    "        Args:\n",
    "            y: a scalar value with the current firing rate.\n",
    "            s: index used to retrieve the input sum to use.\n",
    "        \"\"\"\n",
    "        I = self.inp_sum[s]\n",
    "        if I < self.theta:\n",
    "            return (-1. - y)/self.tau\n",
    "        else:\n",
    "            return (1. - y)/self.tau"
   ]
  },
  {
   "cell_type": "markdown",
   "metadata": {},
   "source": [
    "After changing the source code, you neeed to reset the kernel of the Jupyter notebook and import draculab once more.  \n",
    "Now the unit is ready to use!\n",
    "\n",
    "Some comments about the class definition:\n",
    "* The `__init__` method always begins with `unit.__init__(self, ID, params, network)`. This provides the new unit type with all the functionality of the `unit` class. For more information type `help(unit.__init__)`.\n",
    "* the `derivatives` method is used by `unit.update`, whereas `unit.flat_update` calls `dt_fun`. It is not necessary to write both methods, but adding them both allows our unit to work in simulations with regular and flat networks.\n",
    "* The `get_input_sum` method is a utility provided by the `unit` class. It returns the sum of all the inputs received by the unit at a given time, each input multiplied by its corresponding synaptic weight. Moreover, all the inputs are obtained considering their corresponding delays. Other methods provided by the unit class are `get_inputs`, and `get_weights`. These can be used to make the `derivatives` function easier to write and read.\n",
    "* When the network is flat, the unit will have an `inp_sum` attribute, which provides the scaled sum of inputs at various points in time. `inp_sum[0]` is the input sum at the beginning of the current simulation step. `inp_sum[1]` is the input sum at `min_delay/min_buff_size` time units later, and so forth. Unless we're writing a new integration it is not necessary to understand these details. What's important is to know that `imp_sum[s]` is the input. If for some reason the \"raw\" inputs are required, these are in the `unit.step_inps` array (see `unit.upd_flat_inp_sum`).\n",
    "* Unit types that use multiple input ports need to override `unit.get_mp_input_sum` in order to specify how to interpret the inputs that arrive at different ports. Such a thing is not part of this tutorial. "
   ]
  },
  {
   "cell_type": "code",
   "execution_count": 1,
   "metadata": {},
   "outputs": [
    {
     "name": "stderr",
     "output_type": "stream",
     "text": [
      "/home/z/projects/draculab/network.py:840: UserWarning: Integration method odeint subsituted by Forward Euler in some units\n",
      "  ' subsituted by Forward Euler in some units', UserWarning)\n"
     ]
    },
    {
     "data": {
      "image/png": "[encoded data removed]",
      "text/plain": [
       "<Figure size 432x288 with 1 Axes>"
      ]
     },
     "metadata": {},
     "output_type": "display_data"
    }
   ],
   "source": [
    "# A quick test of the unit\n",
    "from draculab import *\n",
    "from matplotlib import pyplot as plt\n",
    "\n",
    "# create a network\n",
    "net_params = { 'min_delay':.1, 'min_buff_size':10}\n",
    "net = network(net_params)\n",
    "\n",
    "# create a test unit and an input unit\n",
    "test_unit_params = {'type': unit_types.binary, #### this is new\n",
    "               'theta': 1.,\n",
    "               'tau': 0.5,\n",
    "               'init_val':0.}\n",
    "input_unit_params = {'type': unit_types.source,\n",
    "                     'init_val': -1.,\n",
    "                     'function': lambda t: -1 + .2*t }\n",
    "test_unit = net.create(1, test_unit_params)\n",
    "input_unit = net.create(1, input_unit_params)\n",
    "\n",
    "# connect them\n",
    "conn_spec = {'rule': 'one_to_one',\n",
    "             'delay': 1. }\n",
    "syn_spec = {'type': synapse_types.static,\n",
    "            'init_w': 1. }\n",
    "net.connect(input_unit, test_unit, conn_spec, syn_spec)\n",
    "\n",
    "# simulate\n",
    "times, activs, _ = net.run(20.)\n",
    "#times, activs, _ = net.flat_run(20.)\n",
    "\n",
    "# plot\n",
    "fig = plt.figure\n",
    "plt.plot(times, activs[0], 'b', times, activs[1], 'r')\n",
    "plt.show()"
   ]
  },
  {
   "cell_type": "markdown",
   "metadata": {},
   "source": [
    "## Part 2\n",
    "### Creating a new synapse type\n",
    "\n",
    "Now let's assume that we want to create a new type of synapse. This synapse will have a weight that will adopt one of two values, -1 or 1 (clearly not biologically realistic). Let $\\langle x_{pre} \\rangle$ be the average value of the presynaptic activity, and $\\langle x_{post} \\rangle$ be the average postsynaptic activity. Our synapse will be such that the weigth will move to 1 if $\\langle x_{pre} \\rangle > \\langle x_{post} \\rangle$, and to -1 otherwise.\n",
    "\n",
    "Before we proceed to write the synapse class, we should specify how the average activity is calculated. The average of a continuous function $f$ is usually defined as\n",
    "$ \\frac{1}{T} \\int_{t_0}^{t_0 + T} f(s) ds $. Using this type of average for our rule, however, is not very practical; the reason is that it gives the same importance to values that occurred in the distant past compared to recent values. After a while, the values of the average become slower, and slower to respond.\n",
    "\n",
    "A simple way to obtain an average that places more importance on the most recent values is to use a first order *low-pass filter*. A simple, yet effective version is defined by:\n",
    "$\\frac{d \\langle x \\rangle}{dt} = \\frac{ x - \\langle x \\rangle }{ \\tau_f } $.\n",
    "\n",
    "Such a quantity can be calculated by the unit and made available to all its synapses if the unit contains a low-pass filter *requirement*. In general, a requirement can be added to a unit if the requirement's name is added to `syn_needs`, which is an object of the *set* data type in the unit. This can be done in the unit's constructor. The name of all available requirements can be seen in the `syn_reqs` enum class of `draculab.py`. Alternatively, they are displayed by the command `syn_reqs.list_names()`. Documentation about a particular requirement can be found in the methods of the `requirements.py`; in particular, in the methods called `add_<requirement name>`.\n",
    "\n",
    "In the case of requirements used by synapses, it is not necessary to add them in the constructors of the units we'll use. If we specify which requirements will be used by the synapse in its constructor, these will be automatically added to the relevant units by `network.connect`. The code in this example will illustrate this.\n",
    "\n",
    "Similarly to the case of units, to create the new synapse type we will follow 3 steps:\n",
    "1. Register the name of the synapse in the synapse_types enum at `draculab.py`. This is basically the same as the first step to create a new unit type.\n",
    "2. Create the synapse class, with an `__init__` method.\n",
    "3. Write the function that the synapse uses to update its weight in the `update` method. This method is called every `min_delay` time units during the simulation.\n",
    "\n",
    "Our new type of synapse will be called *switcher*, and so will its corresponding class."
   ]
  },
  {
   "cell_type": "code",
   "execution_count": 3,
   "metadata": {},
   "outputs": [
    {
     "ename": "SyntaxError",
     "evalue": "invalid syntax (<ipython-input-3-7ed4d493a622>, line 4)",
     "output_type": "error",
     "traceback": [
      "\u001b[0;36m  File \u001b[0;32m\"<ipython-input-3-7ed4d493a622>\"\u001b[0;36m, line \u001b[0;32m4\u001b[0m\n\u001b[0;31m    elif self == synapse_types.switcher:\u001b[0m\n\u001b[0m       ^\u001b[0m\n\u001b[0;31mSyntaxError\u001b[0m\u001b[0;31m:\u001b[0m invalid syntax\n"
     ]
    }
   ],
   "source": [
    "# In draculab.py you need to write\n",
    "switcher = 101\n",
    "# in the synapse_types class, and\n",
    "elif self == synapse_types.switcher:\n",
    "        syn_class = switcher\n",
    "# in the get_class method."
   ]
  },
  {
   "cell_type": "code",
   "execution_count": null,
   "metadata": {
    "collapsed": true
   },
   "outputs": [],
   "source": [
    "# In synapses.py add this class\n",
    "class switcher(synapse):\n",
    "    \"\"\" The synapse created in part 2 of tutorial 5. \"\"\"\n",
    "    def __init__(self, params, network):\n",
    "        \"\"\" The class constructor. \n",
    "        \n",
    "        Args:\n",
    "            params: same as the 'synapse' parent class, with these additions\n",
    "            'lrate': learning rate; a scalar that multiplies the weight's derivative\n",
    "        \"\"\"\n",
    "        synapse.__init__(self, params, network) # calling the parent's constructor\n",
    "        self.lrate = params['lrate'] # learning rate\n",
    "        self.upd_requirements = set([syn_reqs.lpf_mid, syn_reqs.pre_lpf_mid])\n",
    "        self.alpha = self.lrate * self.net.min_delay # factor that scales the update rule \n",
    "        \n",
    "    def update(self, time):\n",
    "        \"\"\" Updates the synaptic weight at each simulation step. \"\"\"\n",
    "        pre_avg = self.net.units[self.preID].get_lpf_mid(self.delay_steps)\n",
    "        post_avg = self.net.units[self.postID].get_lpf_mid(0)\n",
    "        if pre_avg > post_avg:\n",
    "            self.w += self.alpha * (1. - self.w)\n",
    "        else:\n",
    "            self.w += self.alpha * (-1. - self.w)"
   ]
  },
  {
   "cell_type": "markdown",
   "metadata": {},
   "source": [
    "In the `__init__` method there is one set called `upd_requirements`. In here you can put any *requirements* you want to have available in the `update` method. The `lpf_mid` method is a first order low-pass filter, which is supposed to have a time constant that is not too fast and not too slow. In practice the user sets any time constant she wants. There are 3 filter *requirements* available, (`lpf_fast`, `lpf_mid`, and `lpf_slow`), and their names are supposed to help keep track of how fast they are compared to each other.\n",
    "\n",
    "There is another entry in `upd_requirements`, namely `pre_lpf_mid`. This is also a mid-speed low-pass filter, but whereas `lpf_mid` creates the requirement in the postsynaptic unit, `pre_lpf_mid` creates it in the presynaptic unit. In this way we can have a correlational learning rule that uses averaged activities from pre- and post-synaptic units.\n",
    "\n",
    "The `update` method is rather straightforward, except for the `get_lpf_mid` functions. These are _getter_ functions for the `lpf_mid` value in a unit. Getter functions are often recommended for object-oriented programming, but they are not important in Python. In general, requirements don't need a getter function; there is a variable in the unit whose name matches the requirement name, and it can directly be retrived (e.g. `value = unit.lpf_mid`). In the case of the LPF requirements, however, it is important to have a getter function because we want to retrieve *past* values of the requirement. Since there is a transmission delay, the average value of the *presynaptic* unit is know with that delay. The synapse stores this delay in the `delay_steps` variable, using \"time step\" time units, where a time step has a `min_delay` duration. The function `get_lpf_mid(n)` returns the value of `lpf_mid` as it was `n` time steps ago. For the postsynaptic unit, where the synapse is supposed to be located, this value is known instantaneously, but for the presynaptic unit it is know after a delay.\n",
    "\n",
    "Now we need to test our *switcher* synapse in a simulation. Let's combine it with our new binary units."
   ]
  },
  {
   "cell_type": "code",
   "execution_count": 1,
   "metadata": {},
   "outputs": [
    {
     "data": {
      "image/png": "[encoded data removed]",
      "text/plain": [
       "<Figure size 432x288 with 1 Axes>"
      ]
     },
     "metadata": {},
     "output_type": "display_data"
    }
   ],
   "source": [
    "# For the first test we modify the simulation of Part 1 with a different input,\n",
    "# and insert a 'switcher' synapse. Moreover, we want to observe the weight of\n",
    "# the synapse, so we introduce a 'tracker' unit.\n",
    "from draculab import *\n",
    "from matplotlib import pyplot as plt\n",
    "from numpy import cos\n",
    "\n",
    "# create a network\n",
    "net_params = { 'min_delay':.1, 'min_buff_size':10}\n",
    "net = network(net_params)\n",
    "\n",
    "# create a test unit and an input unit\n",
    "test_unit_params = {'type': unit_types.binary,\n",
    "               'theta': 1.,\n",
    "               'tau': 0.5,\n",
    "               'tau_mid': 0.1, # Needed to get lpf_mid\n",
    "               'init_val':0.}\n",
    "input_unit_params = {'type': unit_types.source,\n",
    "                     'init_val': -1.,\n",
    "                     'tau_mid': 0.1, # Needed to get lpf_mid\n",
    "                     'function': lambda t: 2.*cos(.2*t) }\n",
    "tracker_unit_params = {'type': unit_types.source,\n",
    "                       'init_val': 1.,\n",
    "                       'function': lambda t: None }\n",
    "test_unit = net.create(1, test_unit_params)\n",
    "input_unit = net.create(1, input_unit_params)\n",
    "tracker_unit = net.create(1, tracker_unit_params)\n",
    "\n",
    "# set the tracker unit to record the synaptic weight\n",
    "net.units[tracker_unit[0]].set_function(lambda t: net.syns[test_unit[0]][0].w)\n",
    "\n",
    "# connect them\n",
    "conn_spec = {'rule': 'one_to_one',\n",
    "             'delay': 1. }\n",
    "syn_spec = {'type': synapse_types.switcher,\n",
    "            'init_w': 1.,\n",
    "            'lrate': 0.5 }\n",
    "net.connect(input_unit, test_unit, conn_spec, syn_spec)\n",
    "\n",
    "# simulate\n",
    "times, activs, _ = net.run(40.)\n",
    "#times, activs, _ = net.flat_run(40.)\n",
    "\n",
    "# plot\n",
    "fig = plt.figure\n",
    "plt.plot(times, activs[0], 'b', times, activs[1], 'r', times, activs[2], 'y')\n",
    "plt.show()"
   ]
  },
  {
   "cell_type": "markdown",
   "metadata": {},
   "source": [
    "### Exercise 1\n",
    "Make sense of the plot produced by the cell above."
   ]
  },
  {
   "cell_type": "markdown",
   "metadata": {},
   "source": [
    "### Exercise 2\n",
    "Run the simulation with flat_run instead of run.\n",
    "Is there a difference?\n",
    "If so, how do you explain it?"
   ]
  },
  {
   "cell_type": "markdown",
   "metadata": {},
   "source": [
    "## Part 3\n",
    "### Creating a new plant"
   ]
  },
  {
   "cell_type": "markdown",
   "metadata": {},
   "source": [
    "Plants are very similar to units, but they may have high-dimensional outputs, which makes their treatment a bit different.\n",
    "\n",
    "At this point it is probably not instructive anymore to copy-paste code in the right places as in the previous two parts, since the procedure is basically the same. Therefore, we use a plant model already in the source code, and pretend we are creating it. We will \"create\" the *point_mass* model.\n",
    "\n",
    "Suppose we have a point mass floating in 2-dimensional space, and suppose it can be pushed in two directions (in an absolute reference frame), described by vectors $\\bf{v}_1$ and $\\bf{v}_2$. We will set things up so that inputs arriving at port 0 of the plant will push the mass in the direction $\\bf{v}_1$, and inputs in port 1 will push it in the direction of $\\bf{v}_2$.\n",
    "\n",
    "As before, creation of the plant involves 3 steps:\n",
    "1. Registering the plant name in the `plant_models` enum of draculab.py.\n",
    "2. Writing an `__init__` method.\n",
    "3. Writing a `derivatives` method.\n",
    "\n",
    "For step 1, you can check that in the `plant_models` class of `draculab.py` there are lines:\n",
    "\n",
    "    point_mass_2D = 2\n",
    "    . . .\n",
    "    elif self == plant_models.point_mass_2D:\n",
    "        plant_class = point_mass_2D\n",
    "\n",
    "The function of these is the same as in the previous parts."
   ]
  },
  {
   "cell_type": "markdown",
   "metadata": {},
   "source": [
    "### Exercise 3. The __init__ method.\n",
    "\n",
    "In this exercise you'll be asked to write the `point_mass_2D.__init__` method. The solution of the exercise is, of course, the source code in `plants.py`.\n",
    "\n",
    "There is a lot of freedom regarding the data that you can put into a plant object, but there are 3 attributes that are mandatory in the parameters dictionary given to the `plant` constructor: the `type` of the unit, the `dimension` of the plant's ODE model, and the input dimensionality (`inp_dim`). The `dimension` and `inp_dim` attributes are not something that the user should specify in the parameter dictionary, since these are fixed. \n",
    "\n",
    "The first thing that the `__init__` method of `point_mass_2D` does is to fix the values of `dimension` and `inp_dim`.  \n",
    "Then it calls its parent constructor.  \n",
    "Next it sets the value of the `init_state` vector, which is a Numpy 1D array with the initial values of the state variables.  \n",
    "Finally, the `buffer` array is created. This is a 2D Numpy array. Its number of rows is the `buff_width` variable set by the parent constructor, and each row is a copy of the `init_state` vector.\n",
    "\n",
    "The exercise is to write the `__init__` method, with the steps outlined above, and the initialization of any other required attributes."
   ]
  },
  {
   "cell_type": "code",
   "execution_count": null,
   "metadata": {
    "collapsed": true
   },
   "outputs": [],
   "source": [
    "class point_mass_2D(plant):\n",
    "    \"\"\" A point mass moving in two dimensions, with force exerted by the inputs. \n",
    "    \n",
    "        Inputs may arrive at ports 0 or 1.\n",
    "        Inputs at port 0 push the mass in the direction of 'vec0' with a force\n",
    "        equal to the input activity times the synaptic weight times a 'g0' gain\n",
    "        parameter. \n",
    "        Inputs at port 1 push the mass in the direction of 'vec1' with a force\n",
    "        equal to the input activity times the synaptic weight times a 'g1' gain\n",
    "        parameter.\n",
    "        \n",
    "        Mass is in units of kilograms, distance in meters, force in Newtons,\n",
    "        time in seconds. Position is specified in Cartesian coordinates.\n",
    "    \"\"\"\n",
    "    def __init__(self, ID, params, network):\n",
    "        \"\"\" The class constructor. \n",
    "        \n",
    "        Args:\n",
    "            ID: an integer serving as a unique identifier in the network\n",
    "            network: the network containing the plant\n",
    "            params: a dictionary with parameters to initialize the model\n",
    "            REQUIRED PARAMETERS\n",
    "                type: this should have the plant_models.point_mass_2D value.\n",
    "                mass: mass in kilograms.\n",
    "                init_pos: a 2-element array-like with the initial (x,y) position.\n",
    "                init_vel: a 2-element array-like with the initial (x,y) velocity.\n",
    "                vec0: 2-element array-like with direction of force for port 0 inputs.\n",
    "                vec1: 2-element array-like with direction of force for port 1 inputs.\n",
    "                g0: force in Newtons exerted by an input sum of magnitude 1 at port 0.\n",
    "                g1: force in Newtons exerted by an input sum of magnitude 1 at port 1.\n",
    "        \"\"\"\n",
    "        # This is the stuff that goes into all model constructors. Adjust accordingly. \n",
    "        #-------------------------------------------------------------------------------\n",
    "        \n",
    "        \n",
    "        #-------------------------------------------------------------------------------\n",
    "        # Initialize the parameters specific to this model\n",
    "        "
   ]
  },
  {
   "cell_type": "markdown",
   "metadata": {},
   "source": [
    "### Exercise 4. The derivatives method.\n",
    "The derivatives method is simple once you know how to obtain the inputs.\n",
    "\n",
    "`self.get_input_sum(t,0)` retrieves the sum of inputs from port 0 at time `t`.\n",
    "`self.get_input_sum(t,1)` retrieves the sum of inputs from port 1 at time `t`.\n",
    "\n",
    "Using this write the `derivatives` method."
   ]
  },
  {
   "cell_type": "code",
   "execution_count": 5,
   "metadata": {},
   "outputs": [
    {
     "data": {
      "text/plain": [
       "(4, 3)"
      ]
     },
     "execution_count": 5,
     "metadata": {},
     "output_type": "execute_result"
    }
   ],
   "source": [
    "\n",
    "    def derivatives(self, y, t):\n",
    "        \"\"\" Returns the derivtives of the state variables at time 't'. \n",
    "        \n",
    "        Args:\n",
    "            y[0]: x-coordinate [meters]\n",
    "            y[1]: y-coordinate [meters]\n",
    "            y[2]: x-velocity [meters / second]\n",
    "            y[3]: y-velocity [meters / second]\n",
    "            t: time when the derivative is evaluated [seconds]\n",
    "        Returns:\n",
    "            4-element Numpy array with [x_vel, y_vel, x_accel, y_accel]\n",
    "        \"\"\"\n",
    "\n",
    "        "
   ]
  },
  {
   "cell_type": "markdown",
   "metadata": {},
   "source": [
    "**NOTE:** Nothing extra has to be done in order to make the plant compatible with flat networks. In a flat network the model is integrated with `solve_ivp` instead of `odeint`, but this is transparent to the user."
   ]
  },
  {
   "cell_type": "code",
   "execution_count": 2,
   "metadata": {},
   "outputs": [
    {
     "name": "stdout",
     "output_type": "stream",
     "text": [
      "Help on function set_plant_inputs in module network:\n",
      "\n",
      "set_plant_inputs(self, unitIDs, plantID, conn_spec, syn_spec)\n",
      "    Set the activity of some units as the inputs to a plant.\n",
      "    \n",
      "    Args:\n",
      "        unitIDs: a list with the IDs of the input units\n",
      "        plantID: ID of the plant that will receive the inputs\n",
      "        conn_spec: a dictionary with the connection specifications\n",
      "            REQUIRED ENTRIES\n",
      "            'inp_ports' : A list. The i-th entry determines the input type of\n",
      "                          the i-th element in the unitIDs list.\n",
      "            'delays' : Delay value for the inputs. A scalar, or a list of length len(unitIDs)\n",
      "                       Delays should be multiples of the network minimum delay.\n",
      "        syn_spec: a dictionary with the synapse specifications.\n",
      "            REQUIRED ENTRIES\n",
      "            'type' : one of the synapse_types. Currently only 'static' allowed, because the\n",
      "                     plant does not update the synapse dynamics in its update method.\n",
      "            'init_w': initial synaptic weight. A scalar, a list of length len(unitIDs), or\n",
      "                      a dictionary specifying a distribution. Distributions:\n",
      "                      'uniform' - the delay dictionary must also include 'low' and 'high' values.\n",
      "                      Example: {..., 'init_w':{'distribution':'uniform', 'low':0.1, 'high':1.} }\n",
      "    \n",
      "    Raises:\n",
      "        ValueError, NotImplementedError\n",
      "\n"
     ]
    }
   ],
   "source": [
    "\"\"\"\n",
    "To learn to set the plant's inputs,\n",
    "it helps to look at the documentation.\n",
    "\"\"\"\n",
    "help(network.set_plant_inputs)"
   ]
  },
  {
   "cell_type": "code",
   "execution_count": 63,
   "metadata": {},
   "outputs": [
    {
     "data": {
      "image/png": "[encoded data removed]",
      "text/plain": [
       "<Figure size 720x720 with 1 Axes>"
      ]
     },
     "metadata": {},
     "output_type": "display_data"
    },
    {
     "data": {
      "image/png": "[encoded data removed]",
      "text/plain": [
       "<Figure size 720x360 with 1 Axes>"
      ]
     },
     "metadata": {},
     "output_type": "display_data"
    }
   ],
   "source": [
    "# A quick test of the point_mass_2D plant model.\n",
    "# We want the point mass to move in a circle using two inputs.\n",
    "from draculab import *\n",
    "from matplotlib import pyplot as plt\n",
    "from numpy import cos, sin\n",
    "\n",
    "# create a network\n",
    "net_params = { 'min_delay':.1, 'min_buff_size':10}\n",
    "net = network(net_params)\n",
    "\n",
    "# create a point_mass_2D instance\n",
    "plant_params = {'type': plant_models.point_mass_2D,\n",
    "                'mass': 1.,\n",
    "                'init_pos': (1., 0.),\n",
    "                'init_vel': (0., 1.),\n",
    "                'vec0': (1., 0.),\n",
    "                'vec1': (0., 1),\n",
    "                'g0': 1.,\n",
    "                'g1': 1. }\n",
    "pm = net.create(1, plant_params)\n",
    "\n",
    "# create inputs to the plant. A sine and a cosine\n",
    "input_unit_params = {'type': unit_types.source,\n",
    "                     'init_val': -1.,\n",
    "                     'function': lambda t: -np.cos(t) }\n",
    "input_units = net.create(2, input_unit_params)\n",
    "net.units[input_units[1]].set_function(lambda t: -np.sin(t))\n",
    "\n",
    "# connect\n",
    "conn_spec = {'inp_ports': [0, 1],\n",
    "             'delays': [0.001, 0.001] }\n",
    "syn_spec = {'type': synapse_types.static,\n",
    "            'init_w': 1. }\n",
    "net.set_plant_inputs(input_units, pm, conn_spec, syn_spec)\n",
    "\n",
    "# simulate\n",
    "times, activs, st_vars = net.run(20.)\n",
    "\n",
    "# plot the trajectory of the point mass\n",
    "fig1 = plt.figure(figsize=(10,10))\n",
    "plt.plot(st_vars[0][:,0], st_vars[0][:,1])\n",
    "fig1.suptitle('Trajectory of the point in 2D space')\n",
    "fig2 = plt.figure(figsize=(10,5))\n",
    "plt.plot(times, activs[0], 'b', times, activs[1], 'r')\n",
    "fig2.suptitle('Input forces in x and y axis')\n",
    "plt.show()"
   ]
  },
  {
   "cell_type": "code",
   "execution_count": 61,
   "metadata": {},
   "outputs": [
    {
     "data": {
      "text/plain": [
       "20"
      ]
     },
     "execution_count": 61,
     "metadata": {},
     "output_type": "execute_result"
    }
   ],
   "source": [
    "net.plants[0].buff_width"
   ]
  },
  {
   "cell_type": "markdown",
   "metadata": {},
   "source": [
    "### EXERCISE 5\n",
    "The forces are $f_x(t) = -\\cos(t)$ in the $x$ axis, and $f_y(t) = -\\sin(t)$ in the $y$ axis. These correspond to the second derivatives of trajectories $x(t) = cos(t)$, and $y(t) = sin(t)$. The mass, both gains, and the synaptic weights have value 1. Moreover, the initial conditions are also consistent with these trajectories, which describe a circle.\n",
    "\n",
    "Why is the trajectory from the simulation not a circle?"
   ]
  },
  {
   "cell_type": "raw",
   "metadata": {},
   "source": [
    "EXERCISE SOLUTIONS BELOW\n",
    "\n",
    "\n",
    "\n",
    "\n",
    "                                ,_-=(!7(7/zs_.\n",
    "                             .='  ' .`/,/!(=)Zm.\n",
    "               .._,,._..  ,-`- `,\\ ` -` -`\\\\7//WW.\n",
    "          ,v=~/.-,-\\- -!|V-s.)iT-|s|\\-.'   `///mK%.\n",
    "        v!`i!-.e]-g`bT/i(/[=.Z/m)K(YNYi..   /-]i44M.\n",
    "      v`/,`|v]-DvLcfZ/eV/iDLN\\D/ZK@%8W[Z..   `/d!Z8m\n",
    "     //,c\\(2(X/NYNY8]ZZ/bZd\\()/\\7WY%WKKW)   -'|(][%4.\n",
    "   ,\\\\i\\c(e)WX@WKKZKDKWMZ8(b5/ZK8]Z7%ffVM,   -.Y!bNMi\n",
    "   /-iit5N)KWG%%8%%%%W8%ZWM(8YZvD)XN(@.  [   \\]!/GXW[\n",
    "  / ))G8\\NMN%W%%%%%%%%%%8KK@WZKYK*ZG5KMi,-   vi[NZGM[\n",
    " i\\!(44Y8K%8%%%**~YZYZ@%%%%%4KWZ/PKN)ZDZ7   c=//WZK%!\n",
    ",\\v\\YtMZW8W%%f`,`.t/bNZZK%%W%%ZXb*K(K5DZ   -c\\\\/KM48\n",
    "-|c5PbM4DDW%f  v./c\\[tMY8W%PMW%D@KW)Gbf   -/(=ZZKM8[\n",
    "2(N8YXWK85@K   -'c|K4/KKK%@  V%@@WD8e~  .//ct)8ZK%8`\n",
    "=)b%]Nd)@KM[  !'\\cG!iWYK%%|   !M@KZf    -c\\))ZDKW%`\n",
    "YYKWZGNM4/Pb  '-VscP4]b@W%     'Mf`   -L\\///KM(%W!\n",
    "!KKW4ZK/W7)Z. '/cttbY)DKW%     -`  .',\\v)K(5KW%%f\n",
    "'W)KWKZZg)Z2/,!/L(-DYYb54%  ,,`, -\\-/v(((KK5WW%f\n",
    " \\M4NDDKZZ(e!/\\7vNTtZd)8\\Mi!\\-,-/i-v((tKNGN%W%%\n",
    " 'M8M88(Zd))///((|D\\tDY\\\\KK-`/-i(=)KtNNN@W%%%@%[\n",
    "  !8%@KW5KKN4///s(\\Pd!ROBY8/=2(/4ZdzKD%K%%%M8@%%\n",
    "   '%%%W%dGNtPK(c\\/2\\[Z(ttNYZ2NZW8W8K%%%%YKM%M%%.\n",
    "     *%%W%GW5@/%!e]_tZdY()v)ZXMZW%W%%%*5Y]K%ZK%8[\n",
    "      '*%%%%8%8WK\\)[/ZmZ/Zi]!/M%%%%@f\\ \\Y/NNMK%%!\n",
    "        'VM%%%%W%WN5Z/Gt5/b)((cV@f`  - |cZbMKW%%|\n",
    "           'V*M%%%WZ/ZG\\t5((+)L'-,,/  -)X(NWW%%\n",
    "                `~`MZ/DZGNZG5(((\\,    ,t\\\\Z)KW%@\n",
    "                   'M8K%8GN8\\5(5///]i!v\\K)85W%%f\n",
    "                     YWWKKKKWZ8G54X/GGMeK@WM8%@\n",
    "                      !M8%8%48WG@KWYbW%WWW%%%@\n",
    "                        VM%WKWK%8K%%8WWWW%%%@`\n",
    "                          ~*%%%%%%W%%%%%%%@~\n",
    "                             ~*MM%%%%%%@f`\n",
    "                                 '''''\n",
    "\n",
    "\n",
    "\n",
    "\n",
    "                                ,_-=(!7(7/zs_.\n",
    "                             .='  ' .`/,/!(=)Zm.\n",
    "               .._,,._..  ,-`- `,\\ ` -` -`\\\\7//WW.\n",
    "          ,v=~/.-,-\\- -!|V-s.)iT-|s|\\-.'   `///mK%.\n",
    "        v!`i!-.e]-g`bT/i(/[=.Z/m)K(YNYi..   /-]i44M.\n",
    "      v`/,`|v]-DvLcfZ/eV/iDLN\\D/ZK@%8W[Z..   `/d!Z8m\n",
    "     //,c\\(2(X/NYNY8]ZZ/bZd\\()/\\7WY%WKKW)   -'|(][%4.\n",
    "   ,\\\\i\\c(e)WX@WKKZKDKWMZ8(b5/ZK8]Z7%ffVM,   -.Y!bNMi\n",
    "   /-iit5N)KWG%%8%%%%W8%ZWM(8YZvD)XN(@.  [   \\]!/GXW[\n",
    "  / ))G8\\NMN%W%%%%%%%%%%8KK@WZKYK*ZG5KMi,-   vi[NZGM[\n",
    " i\\!(44Y8K%8%%%**~YZYZ@%%%%%4KWZ/PKN)ZDZ7   c=//WZK%!\n",
    ",\\v\\YtMZW8W%%f`,`.t/bNZZK%%W%%ZXb*K(K5DZ   -c\\\\/KM48\n",
    "-|c5PbM4DDW%f  v./c\\[tMY8W%PMW%D@KW)Gbf   -/(=ZZKM8[\n",
    "2(N8YXWK85@K   -'c|K4/KKK%@  V%@@WD8e~  .//ct)8ZK%8`\n",
    "=)b%]Nd)@KM[  !'\\cG!iWYK%%|   !M@KZf    -c\\))ZDKW%`\n",
    "YYKWZGNM4/Pb  '-VscP4]b@W%     'Mf`   -L\\///KM(%W!\n",
    "!KKW4ZK/W7)Z. '/cttbY)DKW%     -`  .',\\v)K(5KW%%f\n",
    "'W)KWKZZg)Z2/,!/L(-DYYb54%  ,,`, -\\-/v(((KK5WW%f\n",
    " \\M4NDDKZZ(e!/\\7vNTtZd)8\\Mi!\\-,-/i-v((tKNGN%W%%\n",
    " 'M8M88(Zd))///((|D\\tDY\\\\KK-`/-i(=)KtNNN@W%%%@%[\n",
    "  !8%@KW5KKN4///s(\\Pd!ROBY8/=2(/4ZdzKD%K%%%M8@%%\n",
    "   '%%%W%dGNtPK(c\\/2\\[Z(ttNYZ2NZW8W8K%%%%YKM%M%%.\n",
    "     *%%W%GW5@/%!e]_tZdY()v)ZXMZW%W%%%*5Y]K%ZK%8[\n",
    "      '*%%%%8%8WK\\)[/ZmZ/Zi]!/M%%%%@f\\ \\Y/NNMK%%!\n",
    "        'VM%%%%W%WN5Z/Gt5/b)((cV@f`  - |cZbMKW%%|\n",
    "           'V*M%%%WZ/ZG\\t5((+)L'-,,/  -)X(NWW%%\n",
    "                `~`MZ/DZGNZG5(((\\,    ,t\\\\Z)KW%@\n",
    "                   'M8K%8GN8\\5(5///]i!v\\K)85W%%f\n",
    "                     YWWKKKKWZ8G54X/GGMeK@WM8%@\n",
    "                      !M8%8%48WG@KWYbW%WWW%%%@\n",
    "                        VM%WKWK%8K%%8WWWW%%%@`\n",
    "                          ~*%%%%%%W%%%%%%%@~\n",
    "                             ~*MM%%%%%%@f`\n",
    "                                 '''''\n",
    "\n",
    "\n",
    "\n",
    "\n",
    "\n",
    "                 ______\n",
    "                /     /\\\n",
    "               /     /##\\\n",
    "              /     /####\\\n",
    "             /     /######\\\n",
    "            /     /########\\\n",
    "           /     /##########\\\n",
    "          /     /#####/\\#####\\\n",
    "         /     /#####/++\\#####\\\n",
    "        /     /#####/++++\\#####\\\n",
    "       /     /#####/\\+++++\\#####\\\n",
    "      /     /#####/  \\+++++\\#####\\\n",
    "     /     /#####/    \\+++++\\#####\\\n",
    "    /     /#####/      \\+++++\\#####\\\n",
    "   /     /#####/        \\+++++\\#####\\\n",
    "  /     /#####/__________\\+++++\\#####\\\n",
    " /                        \\+++++\\#####\\\n",
    "/__________________________\\+++++\\####/\n",
    "\\+++++++++++++++++++++++++++++++++\\##/\n",
    " \\+++++++++++++++++++++++++++++++++\\/\n",
    "  ``````````````````````````````````\n",
    "\n"
   ]
  },
  {
   "cell_type": "markdown",
   "metadata": {},
   "source": [
    "### SOLUTION TO EXERCISE 1\n",
    "\n",
    "When the input (presynaptic activity, red line) is larger than the postsynaptic activity (e.g. red line above blue line) the weight (yellow line) starts to grow after a tiny delay, approaching the value 1. When the blue line is above the red line then the weight approaches -1."
   ]
  },
  {
   "cell_type": "markdown",
   "metadata": {},
   "source": [
    "### SOLUTION TO EXERCISE 2\n",
    "You should be able to observe a small difference at latter times in the simulation. Since no integration method was specified in the parameters of the binary unit, `odeint` is used by default. This integratator uses adaptive steps size and automatically switches between methods in order to achieve a desired accuracy. For details, se the notes on the \"lsoda\" integrator [here](https://docs.scipy.org/doc/scipy/reference/generated/scipy.integrate.ode.html#scipy.integrate.ode). In our case, the accuracy of integration used by `odeint` is set by the network parameters `atol` and `rtol`. These two were not explicitly written in the `net_params` dictionary, so they adopted their default $10^{-6}$ value, which is very precise (and relatively slow).\n",
    "\n",
    "On the other hand, when this tutorial was written, draculab would by default use a forward Euler integrator when `flat_run` was called. The forward Euler method has an error that depends linearly on the step size. Despite its simplicity and speed it can be very inaccurate, and even unstable for certain ODE systems. Therefore, in a simulation with the forward Euler solver it is important to be aware of that the step size is `min_delay`/`min_buff_size`, and that it is good practice to corroborate results using smaller step sizes, or a different solver.\n",
    "\n",
    "In the case of the synapse, its `update` method is in effect a forward Euler solver. This is acceptable when the synapse changes slowly compared to the `min_delay` value. If there was a case where this wasn't true, the synapse would need a more accurate integration method in its `update` function."
   ]
  },
  {
   "cell_type": "markdown",
   "metadata": {
    "collapsed": true
   },
   "source": [
    "### SOLUTION TO EXERCISE 5\n",
    "The trajectory is not a circle because there are transmission delays in the forces. Reducing the transmission delay makes the trajectory more circular."
   ]
  },
  {
   "cell_type": "code",
   "execution_count": null,
   "metadata": {},
   "outputs": [],
   "source": []
  }
 ],
 "metadata": {
  "kernelspec": {
   "display_name": "Python 3",
   "language": "python",
   "name": "python3"
  },
  "language_info": {
   "codemirror_mode": {
    "name": "ipython",
    "version": 3
   },
   "file_extension": ".py",
   "mimetype": "text/x-python",
   "name": "python",
   "nbconvert_exporter": "python",
   "pygments_lexer": "ipython3",
   "version": "3.5.2"
  }
 },
 "nbformat": 4,
 "nbformat_minor": 2
}
