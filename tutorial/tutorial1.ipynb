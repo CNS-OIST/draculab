{
 "cells": [
  {
   "cell_type": "markdown",
   "metadata": {},
   "source": [
    "# tutorial1.ipynb\n",
    "\n",
    "In this lesson a simple network with 10 sigmoidal units is created. Inputs are added to the units, and their activity is visualized."
   ]
  },
  {
   "cell_type": "markdown",
   "metadata": {},
   "source": [
    "## Part 1\n",
    "Create a network, run a simulation, visualize the activity of the units."
   ]
  },
  {
   "cell_type": "code",
   "execution_count": null,
   "metadata": {},
   "outputs": [],
   "source": [
    "# First, let's import draculab\n",
    "# For the draculab module to be available, the path to the draculab files should be either in the\n",
    "# PYTHONPATH environment variable, or it should be the current working directory.\n",
    "# Assuming the current working directory is the ../tutorial folder, the next line\n",
    "# moves it to the folder containing the draculab modules\n",
    "%cd .. \n",
    "from draculab import *\n",
    "\n",
    "# For users who want to \"cythonize\" the draculab module, instructions are at the last cell of this 'Part 1'."
   ]
  },
  {
   "cell_type": "code",
   "execution_count": null,
   "metadata": {},
   "outputs": [],
   "source": [
    "# We want to create a network, so let's have a look at the constructor of the network class\n",
    "help(network.__init__)"
   ]
  },
  {
   "cell_type": "code",
   "execution_count": null,
   "metadata": {},
   "outputs": [],
   "source": [
    "# To create create the network first we need a parameters dictionary\n",
    "net_params = {\n",
    "    'min_delay' : 0.005, # minimum delay in all the network's connections (in seconds)\n",
    "    'min_buff_size' : 10 } # minimum buffer size. How many values are stored per simulation step. \n",
    "# Then we call the constructor\n",
    "net = network(net_params)"
   ]
  },
  {
   "cell_type": "code",
   "execution_count": null,
   "metadata": {
    "code_folding": [],
    "scrolled": true
   },
   "outputs": [],
   "source": [
    "# We will create 10 sigmoidal units\n",
    "help(network.create)\n",
    "help(network.create_units)"
   ]
  },
  {
   "cell_type": "code",
   "execution_count": null,
   "metadata": {},
   "outputs": [],
   "source": [
    "# Here's how to create the sigmoidal units\n",
    "n_units = 10 # how many units to create\n",
    "\n",
    "## first the parameters dictionary\n",
    "sig_params = {\n",
    "    'type' : unit_types.sigmoidal,  # unit_types is an Enum in draculab.py. See class unit_types.\n",
    "    'init_val' : 0.5, # initial value\n",
    "    'thresh' : .1, # all sigmoidal units will have threshold 1\n",
    "    'slope' : np.random.uniform(0.5, 2., n_units), # the slopes come from a random distribution\n",
    "    'tau' : 0.02 } # time constant for the dynamics of all sigmoidal units\n",
    "\n",
    "## then we call the creator\n",
    "sig_ids = net.create(n_units, sig_params)\n",
    "# this puts the ID's of the created units in the sig_ids list. The ID of a unit is an integer that uniquely \n",
    "# identifies it in the network. We will later use the sig_ids list to connect the units.\n",
    "\n",
    "# TIP\n",
    "# To see the names of all implemented unit models type: \n",
    "# unit_types.list_names()\n",
    "# The name of the model is not necessarily the name of the class that implements it. To get the class\n",
    "# associated with a given model name you can use the function\n",
    "# unit_types.get_class(unit_types.<name>)"
   ]
  },
  {
   "cell_type": "code",
   "execution_count": null,
   "metadata": {},
   "outputs": [],
   "source": [
    "# Now we create an input. \n",
    "# It will come from a 'source' unit, whose activity comes from a Python function that\n",
    "# takes time as its argument. The function we will use is a cosine.\n",
    "input_params = {\n",
    "    'type' : unit_types.source,\n",
    "    'init_val' : 1.,\n",
    "    'function' : lambda t: np.cos(t) } # numpy is imported as np in the draculab module\n",
    "inp_ids = net.create(1, input_params)"
   ]
  },
  {
   "cell_type": "code",
   "execution_count": null,
   "metadata": {
    "scrolled": true
   },
   "outputs": [],
   "source": [
    "# Next we should connect our input unit to the sigmoidal units.\n",
    "# For this we use the network.connect method.\n",
    "# In preparation, we need to create conn_spec and syn_spec dictionaries, which \n",
    "# configure various details about the connection and about its synapse.\n",
    "conn_spec = {\n",
    "    'rule' : 'all_to_all',  # all sources connect to all targets\n",
    "    'delay' : {'distribution': 'uniform', 'low': 0.01, 'high':0.1} }# connection delays will be uniformly distributed\n",
    "syn_spec = {\n",
    "    'type': synapse_types.static, # synapse_types is an Enum in draculab.py\n",
    "    'init_w' : [0.1*n for n in range(n_units)] } # the initial weights range from 0. to 0.9\n",
    "\n",
    "# There are many options for connections and synapses:\n",
    "help(network.connect)\n",
    "# In addition to network.connect, there is a 'topology' module that can create\n",
    "# spatially-arranged connections. This module is covered in another tutorial."
   ]
  },
  {
   "cell_type": "code",
   "execution_count": null,
   "metadata": {},
   "outputs": [],
   "source": [
    "# Create the connection\n",
    "net.connect(inp_ids, sig_ids, conn_spec, syn_spec)"
   ]
  },
  {
   "cell_type": "code",
   "execution_count": null,
   "metadata": {
    "scrolled": true
   },
   "outputs": [],
   "source": [
    "# The method that runs the simulation is straightforward\n",
    "help(network.run)"
   ]
  },
  {
   "cell_type": "code",
   "execution_count": null,
   "metadata": {},
   "outputs": [],
   "source": [
    "# We can now simulate for a few seconds\n",
    "sim_time = 10. # simulation time\n",
    "times, unit_acts, _ = net.run(sim_time)"
   ]
  },
  {
   "cell_type": "code",
   "execution_count": null,
   "metadata": {},
   "outputs": [],
   "source": [
    "# We can plot the activities of the units using Matplotlib\n",
    "import matplotlib.pyplot as plt\n",
    "\n",
    "fig = plt.figure(figsize=(20,10))\n",
    "# Plot the activity of a single sigmoidal unit\n",
    "plt.subplot(221)\n",
    "plt.plot(times, unit_acts[sig_ids[2]])\n",
    "plt.title('one sigmoidal')\n",
    "# Plot the activity of the input unit\n",
    "plt.subplot(222)\n",
    "plt.plot(times, unit_acts[inp_ids[0]])\n",
    "plt.title('one input')\n",
    "# Plot the activity of all units\n",
    "plt.subplot(223)\n",
    "plt.plot(times, np.transpose(unit_acts))\n",
    "plt.title('all units')\n",
    "# Plot the activity of all sigmoidal units\n",
    "plt.subplot(224)\n",
    "sig_acts = [ unit_acts[u] for u in sig_ids ]\n",
    "plt.plot(times, np.transpose(sig_acts))\n",
    "plt.title('sigmoidal units')\n",
    "plt.show()"
   ]
  },
  {
   "cell_type": "markdown",
   "metadata": {},
   "source": [
    "### Technical note:\n",
    "Importing a \"cythonized\" draculab is easy to do from the Jupyter notebook. The `from draculab import * ` command must be replaced by two separate cells. The first one contains the following:\n",
    "\n",
    "    %load_ext Cython\n",
    "\n",
    "The second cell contains this:\n",
    "\n",
    "    %%cython\n",
    "    from draculab import *"
   ]
  },
  {
   "cell_type": "markdown",
   "metadata": {},
   "source": [
    "## Part 2\n",
    "The main attributes of the `network` object."
   ]
  },
  {
   "cell_type": "markdown",
   "metadata": {},
   "source": [
    "The network created in Part 1 has 10 sigmoidal units, each one receiving one connection. \n",
    "Morevoer, each connection has a particular delay, and its own synapse. The delays are scalar values,\n",
    "but synapses are objects with their own attributes.\n",
    "\n",
    "All the connection information in draculab is stored in 3 lists, which are attributes of the network object.\n",
    "* **delays**. `delays[i]` is a list that contains the delays for all the connections received by the unit whose ID is `i`. `delays[i][j]` is the delay of the j-th connection to unit i. \n",
    "* **syns**. `syns[i]` is a list that contains the synapses of all the connections received by the unit whose ID is `i`. `syns[i][j]` is the synapse object for the j-th connection to unit i.\n",
    "* **act**. `act[i]` is a list whose elements are Python functions. `act[i][j]` is the function from which unit i obtains its j-th input.\n",
    "\n",
    "All the units created are stored in the `network.units` list. `network.units[i]` is the unit object whose ID is `i`.\n",
    "When plants are created, they are stored in the `network.plants` list."
   ]
  },
  {
   "cell_type": "code",
   "execution_count": null,
   "metadata": {},
   "outputs": [],
   "source": [
    "# We can look at the units of the network created in part 1\n",
    "net.units"
   ]
  },
  {
   "cell_type": "code",
   "execution_count": null,
   "metadata": {},
   "outputs": [],
   "source": [
    "# Similarly, we can look at the delays, synapses, and activity functions.\n",
    "net.delays"
   ]
  },
  {
   "cell_type": "code",
   "execution_count": null,
   "metadata": {},
   "outputs": [],
   "source": [
    "# The attribute containing the synaptic weight in the synapse objects is called w\n",
    "net.syns[2][0].w  # for unit 'n', w = 0.1*n"
   ]
  },
  {
   "cell_type": "code",
   "execution_count": null,
   "metadata": {},
   "outputs": [],
   "source": [
    "# Another useful attribute in the synapses are the IDs of the presynaptic and postsynaptic units,\n",
    "# contained in the preID and postID attributes respectively\n",
    "net.syns[2][0].preID"
   ]
  },
  {
   "cell_type": "code",
   "execution_count": null,
   "metadata": {},
   "outputs": [],
   "source": [
    "# All sigmoidals obtain their inputs from the same cosine function\n",
    "net.act[0][0](3.141592)"
   ]
  },
  {
   "cell_type": "markdown",
   "metadata": {},
   "source": [
    "## Part 3\n",
    "Create 10 input units, connect them to the 10 sigmoidals.\n",
    "\n",
    "This unit is intended to show the proper way to initialize the function of source units.\n",
    "\n",
    "***Plase reset the kernel before continuing***"
   ]
  },
  {
   "cell_type": "code",
   "execution_count": null,
   "metadata": {},
   "outputs": [],
   "source": [
    "# Importing...\n",
    "%cd .. \n",
    "from draculab import *\n",
    "import matplotlib.pyplot as plt"
   ]
  },
  {
   "cell_type": "code",
   "execution_count": null,
   "metadata": {},
   "outputs": [],
   "source": [
    "# We once more create the network as before, this time with 10 source units\n",
    "net_params = {\n",
    "    'min_delay' : 0.005, # minimum delay in all the network's connections (in seconds)\n",
    "    'min_buff_size' : 10 } # minimum buffer size. How many values are stored per simulation step. \n",
    "net = network(net_params)\n",
    "\n",
    "n_sigs = 10 # how many sigmoidal units to create\n",
    "sig_params = {\n",
    "    'type' : unit_types.sigmoidal,  # unit_types is an Enum in draculab.py\n",
    "    'init_val' : 0.5, # initial value\n",
    "    'thresh' : .1, # all sigmoidal units will have threshold 1\n",
    "    'slope' : np.random.uniform(0.5, 2., n_sigs), # the slopes come from a random distribution\n",
    "    'tau' : 0.02 } # time constant for the dynamics of all sigmoidal units\n",
    "sig_ids = net.create(n_sigs, sig_params)\n",
    "\n",
    "n_sources = 10 # how many input units to create\n",
    "input_params = {\n",
    "    'type' : unit_types.source,\n",
    "    'init_val' : 0.5,\n",
    "    'function' : lambda t: None } \n",
    "inp_ids = net.create(n_sources, input_params)\n",
    "\n",
    "# Notice that the created source units have a function that returns 'None'. \n",
    "# We need to initialize their functions. To do this we create an auxiliary function.\n",
    "\n",
    "def create_cosine(ang_freq, phase):\n",
    "    return lambda t: np.cos(ang_freq*(t - phase))\n",
    "\n",
    "# With our auxiliary function we now initialize the function of all source units\n",
    "for idx, uid in enumerate(inp_ids):\n",
    "    net.units[uid].set_function(create_cosine(2.*np.pi, 0.1*idx))"
   ]
  },
  {
   "cell_type": "markdown",
   "metadata": {},
   "source": [
    "### The whole point of part 3 is to show that the auxiliary function is necessary.\n",
    "In other words, initializing the source units using\n",
    "```\n",
    "for idx, uid in enumerate(inp_ids):\n",
    "    net.units[uid].set_function(lambda t : np.cos(2.*np.pi*t - 0.1*idx))\n",
    "```\n",
    "will lead to a subtle error. If interested see: https://eev.ee/blog/2011/04/24/gotcha-python-scoping-closures/"
   ]
  },
  {
   "cell_type": "code",
   "execution_count": null,
   "metadata": {},
   "outputs": [],
   "source": [
    "# We connect the units, and run the simulation\n",
    "# This time, each sigmoidal unit gets its own input, with a unique phase\n",
    "conn_spec = {\n",
    "    'rule' : 'one_to_one',  # all sources connect to all targets\n",
    "    'delay' : {'distribution': 'uniform', 'low': 0.01, 'high':0.1} }# connection delays will be uniformly distributed\n",
    "syn_spec = {\n",
    "    'type': synapse_types.static, # synapse_types is an Enum in draculab.py\n",
    "    'init_w' : [0.1*n for n in range(n_sigs)] } # the initial weights range from 0. to 0.9\n",
    "net.connect(inp_ids, sig_ids, conn_spec, syn_spec)\n",
    "\n",
    "sim_time = 10. # simulation time\n",
    "times, unit_acts, _ = net.run(sim_time)"
   ]
  },
  {
   "cell_type": "code",
   "execution_count": null,
   "metadata": {},
   "outputs": [],
   "source": [
    "# Plot the activities of the units using Matplotlib\n",
    "\n",
    "fig = plt.figure(figsize=(20,10))\n",
    "# Plot the activity of a single sigmoidal unit\n",
    "plt.subplot(221)\n",
    "plt.plot(times, unit_acts[sig_ids[2]])\n",
    "plt.title('one sigmoidal')\n",
    "# Plot the activity of one input unit\n",
    "plt.subplot(222)\n",
    "plt.plot(times, unit_acts[inp_ids[5]])\n",
    "plt.title('one input')\n",
    "# Plot the activity of all inputs\n",
    "inp_acts = [ unit_acts[u] for u in inp_ids ]\n",
    "plt.subplot(223)\n",
    "plt.plot(times, np.transpose(inp_acts))\n",
    "plt.title('all inputs')\n",
    "# Plot the activity of all sigmoidal units\n",
    "plt.subplot(224)\n",
    "sig_acts = [ unit_acts[u] for u in sig_ids ]\n",
    "plt.plot(times, np.transpose(sig_acts))\n",
    "plt.title('all sigmoidal units')\n",
    "plt.show()"
   ]
  },
  {
   "cell_type": "markdown",
   "metadata": {},
   "source": [
    "### Exercise 1\n",
    "Create a numpy 2D array `weights` that contains all the synaptic weights.\n",
    "`weights[i,j]` should be the weight of the connection from unit `j` to unit `i`. If the units are not connected it should equal zero.\n",
    "\n",
    "***BONUS:***\n",
    "Plot the connection matrix as an image\n",
    "\n",
    "Solution is below."
   ]
  },
  {
   "cell_type": "markdown",
   "metadata": {},
   "source": [
    "### Exercise 2\n",
    "What happens if you don't use the auxiliary function to initialize the input in part 3?"
   ]
  },
  {
   "cell_type": "markdown",
   "metadata": {},
   "source": [
    "### Exercise 3\n",
    "Repeat part 3, but this time connect the sigmoidal units so that unit 0 projects to unit 1, unit 1 to unit 2, ..., unit 9 to unit 0.  \n",
    "Use delays of 0.01, and static synapses with weight 0.5."
   ]
  },
  {
   "cell_type": "raw",
   "metadata": {},
   "source": [
    "EXERCISE SOLUTIONS BELOW\n",
    "\n",
    "\n",
    "\n",
    "\n",
    "                                ,_-=(!7(7/zs_.\n",
    "                             .='  ' .`/,/!(=)Zm.\n",
    "               .._,,._..  ,-`- `,\\ ` -` -`\\\\7//WW.\n",
    "          ,v=~/.-,-\\- -!|V-s.)iT-|s|\\-.'   `///mK%.\n",
    "        v!`i!-.e]-g`bT/i(/[=.Z/m)K(YNYi..   /-]i44M.\n",
    "      v`/,`|v]-DvLcfZ/eV/iDLN\\D/ZK@%8W[Z..   `/d!Z8m\n",
    "     //,c\\(2(X/NYNY8]ZZ/bZd\\()/\\7WY%WKKW)   -'|(][%4.\n",
    "   ,\\\\i\\c(e)WX@WKKZKDKWMZ8(b5/ZK8]Z7%ffVM,   -.Y!bNMi\n",
    "   /-iit5N)KWG%%8%%%%W8%ZWM(8YZvD)XN(@.  [   \\]!/GXW[\n",
    "  / ))G8\\NMN%W%%%%%%%%%%8KK@WZKYK*ZG5KMi,-   vi[NZGM[\n",
    " i\\!(44Y8K%8%%%**~YZYZ@%%%%%4KWZ/PKN)ZDZ7   c=//WZK%!\n",
    ",\\v\\YtMZW8W%%f`,`.t/bNZZK%%W%%ZXb*K(K5DZ   -c\\\\/KM48\n",
    "-|c5PbM4DDW%f  v./c\\[tMY8W%PMW%D@KW)Gbf   -/(=ZZKM8[\n",
    "2(N8YXWK85@K   -'c|K4/KKK%@  V%@@WD8e~  .//ct)8ZK%8`\n",
    "=)b%]Nd)@KM[  !'\\cG!iWYK%%|   !M@KZf    -c\\))ZDKW%`\n",
    "YYKWZGNM4/Pb  '-VscP4]b@W%     'Mf`   -L\\///KM(%W!\n",
    "!KKW4ZK/W7)Z. '/cttbY)DKW%     -`  .',\\v)K(5KW%%f\n",
    "'W)KWKZZg)Z2/,!/L(-DYYb54%  ,,`, -\\-/v(((KK5WW%f\n",
    " \\M4NDDKZZ(e!/\\7vNTtZd)8\\Mi!\\-,-/i-v((tKNGN%W%%\n",
    " 'M8M88(Zd))///((|D\\tDY\\\\KK-`/-i(=)KtNNN@W%%%@%[\n",
    "  !8%@KW5KKN4///s(\\Pd!ROBY8/=2(/4ZdzKD%K%%%M8@%%\n",
    "   '%%%W%dGNtPK(c\\/2\\[Z(ttNYZ2NZW8W8K%%%%YKM%M%%.\n",
    "     *%%W%GW5@/%!e]_tZdY()v)ZXMZW%W%%%*5Y]K%ZK%8[\n",
    "      '*%%%%8%8WK\\)[/ZmZ/Zi]!/M%%%%@f\\ \\Y/NNMK%%!\n",
    "        'VM%%%%W%WN5Z/Gt5/b)((cV@f`  - |cZbMKW%%|\n",
    "           'V*M%%%WZ/ZG\\t5((+)L'-,,/  -)X(NWW%%\n",
    "                `~`MZ/DZGNZG5(((\\,    ,t\\\\Z)KW%@\n",
    "                   'M8K%8GN8\\5(5///]i!v\\K)85W%%f\n",
    "                     YWWKKKKWZ8G54X/GGMeK@WM8%@\n",
    "                      !M8%8%48WG@KWYbW%WWW%%%@\n",
    "                        VM%WKWK%8K%%8WWWW%%%@`\n",
    "                          ~*%%%%%%W%%%%%%%@~\n",
    "                             ~*MM%%%%%%@f`\n",
    "                                 '''''\n",
    "\n",
    "\n",
    "\n",
    "\n",
    "                                ,_-=(!7(7/zs_.\n",
    "                             .='  ' .`/,/!(=)Zm.\n",
    "               .._,,._..  ,-`- `,\\ ` -` -`\\\\7//WW.\n",
    "          ,v=~/.-,-\\- -!|V-s.)iT-|s|\\-.'   `///mK%.\n",
    "        v!`i!-.e]-g`bT/i(/[=.Z/m)K(YNYi..   /-]i44M.\n",
    "      v`/,`|v]-DvLcfZ/eV/iDLN\\D/ZK@%8W[Z..   `/d!Z8m\n",
    "     //,c\\(2(X/NYNY8]ZZ/bZd\\()/\\7WY%WKKW)   -'|(][%4.\n",
    "   ,\\\\i\\c(e)WX@WKKZKDKWMZ8(b5/ZK8]Z7%ffVM,   -.Y!bNMi\n",
    "   /-iit5N)KWG%%8%%%%W8%ZWM(8YZvD)XN(@.  [   \\]!/GXW[\n",
    "  / ))G8\\NMN%W%%%%%%%%%%8KK@WZKYK*ZG5KMi,-   vi[NZGM[\n",
    " i\\!(44Y8K%8%%%**~YZYZ@%%%%%4KWZ/PKN)ZDZ7   c=//WZK%!\n",
    ",\\v\\YtMZW8W%%f`,`.t/bNZZK%%W%%ZXb*K(K5DZ   -c\\\\/KM48\n",
    "-|c5PbM4DDW%f  v./c\\[tMY8W%PMW%D@KW)Gbf   -/(=ZZKM8[\n",
    "2(N8YXWK85@K   -'c|K4/KKK%@  V%@@WD8e~  .//ct)8ZK%8`\n",
    "=)b%]Nd)@KM[  !'\\cG!iWYK%%|   !M@KZf    -c\\))ZDKW%`\n",
    "YYKWZGNM4/Pb  '-VscP4]b@W%     'Mf`   -L\\///KM(%W!\n",
    "!KKW4ZK/W7)Z. '/cttbY)DKW%     -`  .',\\v)K(5KW%%f\n",
    "'W)KWKZZg)Z2/,!/L(-DYYb54%  ,,`, -\\-/v(((KK5WW%f\n",
    " \\M4NDDKZZ(e!/\\7vNTtZd)8\\Mi!\\-,-/i-v((tKNGN%W%%\n",
    " 'M8M88(Zd))///((|D\\tDY\\\\KK-`/-i(=)KtNNN@W%%%@%[\n",
    "  !8%@KW5KKN4///s(\\Pd!ROBY8/=2(/4ZdzKD%K%%%M8@%%\n",
    "   '%%%W%dGNtPK(c\\/2\\[Z(ttNYZ2NZW8W8K%%%%YKM%M%%.\n",
    "     *%%W%GW5@/%!e]_tZdY()v)ZXMZW%W%%%*5Y]K%ZK%8[\n",
    "      '*%%%%8%8WK\\)[/ZmZ/Zi]!/M%%%%@f\\ \\Y/NNMK%%!\n",
    "        'VM%%%%W%WN5Z/Gt5/b)((cV@f`  - |cZbMKW%%|\n",
    "           'V*M%%%WZ/ZG\\t5((+)L'-,,/  -)X(NWW%%\n",
    "                `~`MZ/DZGNZG5(((\\,    ,t\\\\Z)KW%@\n",
    "                   'M8K%8GN8\\5(5///]i!v\\K)85W%%f\n",
    "                     YWWKKKKWZ8G54X/GGMeK@WM8%@\n",
    "                      !M8%8%48WG@KWYbW%WWW%%%@\n",
    "                        VM%WKWK%8K%%8WWWW%%%@`\n",
    "                          ~*%%%%%%W%%%%%%%@~\n",
    "                             ~*MM%%%%%%@f`\n",
    "                                 '''''\n",
    "\n",
    "\n",
    "\n",
    "\n",
    "\n",
    "                 ______\n",
    "                /     /\\\n",
    "               /     /##\\\n",
    "              /     /####\\\n",
    "             /     /######\\\n",
    "            /     /########\\\n",
    "           /     /##########\\\n",
    "          /     /#####/\\#####\\\n",
    "         /     /#####/++\\#####\\\n",
    "        /     /#####/++++\\#####\\\n",
    "       /     /#####/\\+++++\\#####\\\n",
    "      /     /#####/  \\+++++\\#####\\\n",
    "     /     /#####/    \\+++++\\#####\\\n",
    "    /     /#####/      \\+++++\\#####\\\n",
    "   /     /#####/        \\+++++\\#####\\\n",
    "  /     /#####/__________\\+++++\\#####\\\n",
    " /                        \\+++++\\#####\\\n",
    "/__________________________\\+++++\\####/\n",
    "\\+++++++++++++++++++++++++++++++++\\##/\n",
    " \\+++++++++++++++++++++++++++++++++\\/\n",
    "  ``````````````````````````````````\n",
    "\n",
    "\n"
   ]
  },
  {
   "cell_type": "code",
   "execution_count": null,
   "metadata": {
    "code_folding": [
     0
    ],
    "scrolled": false
   },
   "outputs": [],
   "source": [
    "# SOLUTION TO EXERCISE 1\n",
    "N = len(net.units) # number of units\n",
    "weights = np.zeros((N,N)) \n",
    "for syn_list in net.syns:\n",
    "    for syn in syn_list:\n",
    "        weights[syn.postID, syn.preID] = syn.w\n",
    "\n",
    "# BONUS\n",
    "fig_ex1 = plt.figure(figsize=(10,10))\n",
    "ax = fig_ex1.add_axes([0., 0., 1., 1.], aspect=1)\n",
    "ax.set_xticks(list(range(N)))\n",
    "ax.set_yticks(list(range(N)))\n",
    "ax.imshow(weights)\n",
    "plt.show()"
   ]
  },
  {
   "cell_type": "code",
   "execution_count": null,
   "metadata": {
    "code_folding": [
     0
    ]
   },
   "outputs": [],
   "source": [
    "# SOLUTION TO EXERCISE 2\n",
    "\n",
    "# All the input units are initialized with the same function."
   ]
  },
  {
   "cell_type": "code",
   "execution_count": null,
   "metadata": {
    "code_folding": [
     0
    ]
   },
   "outputs": [],
   "source": [
    "# SOLUTION TO EXERCISE 3\n",
    "#--------------- copy-paste ---------------\n",
    "%cd .. \n",
    "from draculab import *\n",
    "import matplotlib.pyplot as plt\n",
    "\n",
    "net_params = {\n",
    "    'min_delay' : 0.005, # minimum delay in all the network's connections (in seconds)\n",
    "    'min_buff_size' : 10 } # minimum buffer size. How many values are stored per simulation step. \n",
    "net = network(net_params)\n",
    "\n",
    "n_sigs = 10 # how many sigmoidal units to create\n",
    "sig_params = {\n",
    "    'type' : unit_types.sigmoidal,  # unit_types is an Enum in draculab.py\n",
    "    'init_val' : 0.5, # initial value\n",
    "    'thresh' : .1, # all sigmoidal units will have threshold 1\n",
    "    'slope' : np.random.uniform(0.5, 2., n_sigs), # the slopes come from a random distribution\n",
    "    'tau' : 0.02 } # time constant for the dynamics of all sigmoidal units\n",
    "sig_ids = net.create(n_sigs, sig_params)\n",
    "\n",
    "n_sources = 10 # how many input units to create\n",
    "input_params = {\n",
    "    'type' : unit_types.source,\n",
    "    'init_val' : 0.5,\n",
    "    'function' : lambda t: None } \n",
    "inp_ids = net.create(n_sources, input_params)\n",
    "\n",
    "def create_cosine(ang_freq, phase):\n",
    "    return lambda t: np.cos(ang_freq*(t - phase))\n",
    "\n",
    "for idx, uid in enumerate(inp_ids):\n",
    "    net.units[uid].set_function(create_cosine(2.*np.pi, 0.1*idx))\n",
    "    \n",
    "conn_spec = {\n",
    "    'rule' : 'one_to_one',  # all sources connect to all targets\n",
    "    'delay' : {'distribution': 'uniform', 'low': 0.01, 'high':0.1} }# connection delays will be uniformly distributed\n",
    "syn_spec = {\n",
    "    'type': synapse_types.static, # synapse_types is an Enum in draculab.py\n",
    "    'init_w' : [0.1*n for n in range(n_sigs)] } # the initial weights range from 0. to 0.9\n",
    "net.connect(inp_ids, sig_ids, conn_spec, syn_spec)\n",
    "#--------------------------------------\n",
    "\n",
    "# THE ACTUAL SOLUTION\n",
    "s2s_conn_spec = {\n",
    "    'rule' : 'one_to_one',  \n",
    "    'delay' : 0.01 }\n",
    "s2s_syn_spec = {\n",
    "    'type': synapse_types.static, \n",
    "    'init_w' : 0.5 }\n",
    "target_ids = [(i+1)%n_sigs for i in sig_ids] # assuming sig_ids range from 0 to n_sigs...\n",
    "net.connect(sig_ids, target_ids, s2s_conn_spec, s2s_syn_spec)\n",
    "\n",
    "#-------- more copy-paste ----------\n",
    "sim_time = 10. # simulation time\n",
    "times, unit_acts, _ = net.run(sim_time)\n",
    "\n",
    "fig = plt.figure(figsize=(20,10))\n",
    "# Plot the activity of a single sigmoidal unit\n",
    "plt.subplot(221)\n",
    "plt.plot(times, unit_acts[sig_ids[2]])\n",
    "plt.title('one sigmoidal')\n",
    "# Plot the activity of one input unit\n",
    "plt.subplot(222)\n",
    "plt.plot(times, unit_acts[inp_ids[5]])\n",
    "plt.title('one input')\n",
    "# Plot the activity of all inputs\n",
    "inp_acts = [ unit_acts[u] for u in inp_ids ]\n",
    "plt.subplot(223)\n",
    "plt.plot(times, np.transpose(inp_acts))\n",
    "plt.title('all inputs')\n",
    "# Plot the activity of all sigmoidal units\n",
    "plt.subplot(224)\n",
    "sig_acts = [ unit_acts[u] for u in sig_ids ]\n",
    "plt.plot(times, np.transpose(sig_acts))\n",
    "plt.title('all sigmoidal units')\n",
    "plt.show()"
   ]
  },
  {
   "cell_type": "code",
   "execution_count": null,
   "metadata": {
    "code_folding": [
     0
    ]
   },
   "outputs": [],
   "source": [
    "# Using the solution to exercise 1 to visualize the connections made in exercise 3\n",
    "N = len(net.units) # number of units\n",
    "weights = np.zeros((N,N)) \n",
    "for syn_list in net.syns:\n",
    "    for syn in syn_list:\n",
    "        weights[syn.postID, syn.preID] = syn.w\n",
    "\n",
    "fig_ex1 = plt.figure(figsize=(10,10))\n",
    "ax = fig_ex1.add_axes([0., 0., 1., 1.], aspect=1)\n",
    "ax.set_xticks(list(range(N)))\n",
    "ax.set_yticks(list(range(N)))\n",
    "ax.imshow(weights)\n",
    "plt.show()"
   ]
  },
  {
   "cell_type": "code",
   "execution_count": null,
   "metadata": {},
   "outputs": [],
   "source": []
  }
 ],
 "metadata": {
  "kernelspec": {
   "display_name": "Python 3",
   "language": "python",
   "name": "python3"
  },
  "language_info": {
   "codemirror_mode": {
    "name": "ipython",
    "version": 3
   },
   "file_extension": ".py",
   "mimetype": "text/x-python",
   "name": "python",
   "nbconvert_exporter": "python",
   "pygments_lexer": "ipython3",
   "version": "3.5.2"
  }
 },
 "nbformat": 4,
 "nbformat_minor": 2
}
