{
 "cells": [
  {
   "cell_type": "markdown",
   "metadata": {},
   "source": [
    "# tutorial1.ipynb\n",
    "\n",
    "In this lesson a simple network with 10 sigmoidal units is created. Inputs are added to the units, and their activity is visualized."
   ]
  },
  {
   "cell_type": "markdown",
   "metadata": {},
   "source": [
    "## Part 1\n",
    "Create a network, run a simulation, visualize the activity of the units."
   ]
  },
  {
   "cell_type": "code",
   "execution_count": 1,
   "metadata": {},
   "outputs": [
    {
     "name": "stdout",
     "output_type": "stream",
     "text": [
      "/home/z/projects/draculab\n"
     ]
    }
   ],
   "source": [
    "# First, let's import draculab\n",
    "# Assuming we are currently the ../tutorial folder. The working directory must be where the source code is.\n",
    "%cd .. \n",
    "from draculab import *"
   ]
  },
  {
   "cell_type": "code",
   "execution_count": 2,
   "metadata": {},
   "outputs": [
    {
     "name": "stdout",
     "output_type": "stream",
     "text": [
      "Help on function __init__ in module network:\n",
      "\n",
      "__init__(self, params)\n",
      "    The network class constructor.\n",
      "    \n",
      "    Args:\n",
      "        params : parameter dictionary\n",
      "        REQUIRED PARAMETERS\n",
      "            min_delay : minimum transmission delay, and simulation step size\n",
      "            min_buff_size : number of network states to store for each simulation step.\n",
      "        OPTIONAL PARAMETERS \n",
      "            rtol = relative tolerance in the ODE integrator.\n",
      "            atol = absolute tolerance in the ODE integrator.\n",
      "            See: https://docs.scipy.org/doc/scipy/reference/generated/scipy.integrate.odeint.html\n",
      "\n"
     ]
    }
   ],
   "source": [
    "# We want to create a network, so let's have a look at the constructor of the network class\n",
    "help(network.__init__)"
   ]
  },
  {
   "cell_type": "code",
   "execution_count": 3,
   "metadata": {},
   "outputs": [],
   "source": [
    "# To create create the network first we need a parameters dictionary\n",
    "net_params = {\n",
    "    'min_delay' : 0.005, # minimum delay in all the network's connections (in seconds)\n",
    "    'min_buff_size' : 10 } # minimum buffer size. How many values are stored per simulation step. \n",
    "# Then we call the constructor\n",
    "net = network(net_params)"
   ]
  },
  {
   "cell_type": "code",
   "execution_count": 4,
   "metadata": {
    "code_folding": [],
    "scrolled": true
   },
   "outputs": [
    {
     "name": "stdout",
     "output_type": "stream",
     "text": [
      "Help on function create in module network:\n",
      "\n",
      "create(self, n, params)\n",
      "    This method is just a front to find out whether we're creating units or a plant.\n",
      "    \n",
      "    If we're creating units, it will call create_units(n, params).\n",
      "    If we're creating a plant, it will call create_plant(n, params).\n",
      "    \n",
      "    Raises:\n",
      "        TypeError.\n",
      "\n",
      "Help on function create_units in module network:\n",
      "\n",
      "create_units(self, n, params)\n",
      "    create 'n' units of type 'params['type']' and parameters from 'params'.\n",
      "    \n",
      "    The method returns a list with the ID's of the created units.\n",
      "    If you want one of the parameters to have different values for each unit, you can have a list\n",
      "    (or numpy array) of length 'n' in the corresponding 'params' entry\n",
      "    \n",
      "    In addition, this function can give a particular spatial arrangement to the \n",
      "    created units by appropriately setting their 'coordinates' attribute.\n",
      "    \n",
      "    Args:\n",
      "        n: an integer indicating how many units to create.\n",
      "        params: a dictionary with the parameters used to initialize the units.\n",
      "            REQUIRED PARAMETERS\n",
      "            type: a unit model form the unit_types enum.\n",
      "            init_val: initial activation value (also required for source units).\n",
      "            OPTIONAL PARAMETERS\n",
      "            coordinates: The spatial location of the units can be specified in 2 ways:\n",
      "                            * One numpy array (a single point). All units will have this location.\n",
      "                            * A list of n arrays. Each unit will be assigned one array.\n",
      "                                      \n",
      "            For other required and optional parameters, consult the specific unit models.\n",
      "    \n",
      "    Returns: a list with the ID's of the created units.\n",
      "        \n",
      "    Raises:\n",
      "        ValueError, TypeError, NotImplementedError\n",
      "\n"
     ]
    }
   ],
   "source": [
    "# We will create 10 sigmoidal units\n",
    "help(network.create)\n",
    "help(network.create_units)"
   ]
  },
  {
   "cell_type": "code",
   "execution_count": 5,
   "metadata": {},
   "outputs": [],
   "source": [
    "# Here's how to create the sigmoidal units\n",
    "n_units = 10 # how many units to create\n",
    "\n",
    "## first the parameters dictionary\n",
    "sig_params = {\n",
    "    'type' : unit_types.sigmoidal,  # unit_types is an Enum in draculab.py. See class unit_types.\n",
    "    'init_val' : 0.5, # initial value\n",
    "    'thresh' : .1, # all sigmoidal units will have threshold 1\n",
    "    'slope' : np.random.uniform(0.5, 2., n_units), # the slopes come from a random distribution\n",
    "    'tau' : 0.02 } # time constant for the dynamics of all sigmoidal units\n",
    "\n",
    "## then we call the creator\n",
    "sig_ids = net.create(n_units, sig_params)\n",
    "# this puts the ID's of the created units in the sig_ids list. The ID of a unit is an integer that uniquely \n",
    "# identifies it in the network. We will later use the sig_ids list to connect the units.\n",
    "\n",
    "# TIP\n",
    "# To see the names of all implemented unit models type: \n",
    "# unit_types.list_names()\n",
    "# The name of the model is not necessarily the name of the class that implements it. To get the class\n",
    "# associated with a given model name you can use the function\n",
    "# unit_types.get_class(unit_types.<name>)"
   ]
  },
  {
   "cell_type": "code",
   "execution_count": 6,
   "metadata": {},
   "outputs": [],
   "source": [
    "# Now we create an input. \n",
    "# It will come from a 'source' unit, whose activity comes from a Python function that\n",
    "# takes time as its argument. The function we will use is a cosine.\n",
    "input_params = {\n",
    "    'type' : unit_types.source,\n",
    "    'init_val' : 1.,\n",
    "    'function' : lambda t: np.cos(t) } # numpy is imported as np in the draculab module\n",
    "inp_ids = net.create(1, input_params)"
   ]
  },
  {
   "cell_type": "code",
   "execution_count": 7,
   "metadata": {
    "scrolled": true
   },
   "outputs": [
    {
     "name": "stdout",
     "output_type": "stream",
     "text": [
      "Help on function connect in module network:\n",
      "\n",
      "connect(self, from_list, to_list, conn_spec, syn_spec)\n",
      "    Connect units using delayed transmission lines and synaptic connections.\n",
      "    \n",
      "    connect the units in the 'from_list' to the units in the 'to_list' using the\n",
      "    connection specifications in the 'conn_spec' dictionary, and the\n",
      "    synapse specfications in the 'syn_spec' dictionary.\n",
      "    \n",
      "    Args:\n",
      "        from_list: A list with the IDs of the units sending the connections\n",
      "    \n",
      "        to_list: A list the IDs of the units receiving the connections\n",
      "        \n",
      "        conn_spec: A dictionary specifying a connection rule, and delays.\n",
      "            REQUIRED PARAMETERS\n",
      "            'rule' : a string specifying a rule on how to create the connections. \n",
      "                    Currently implemented: \n",
      "                    'fixed_outdegree' - an 'outdegree' integer entry must also be in conn_spec.\n",
      "                    'fixed_indegree' - an 'indegree' integer entry must also be in conn_spec.\n",
      "                    'one_to_one' - from_list and to_list should have the same length.\n",
      "                    'all_to_all'.\n",
      "            'delay' : either a dictionary specifying a distribution, a scalar delay value that\n",
      "                    will be applied to all connections, or a list with a delay value for each one\n",
      "                    of the connections to be made. Implemented distributions:\n",
      "                    'uniform' - the delay dictionary must also include 'low' and 'high' values.\n",
      "                        Example:\n",
      "                        {...,'delay':{'distribution':'uniform', 'low':0.1, 'high':0.3}, ...}\n",
      "                    Delays should be multiples of the network minimum delay.\n",
      "            OPTIONAL PARAMETERS\n",
      "            'allow_autapses' : True or False. Can units connect to themselves? Default is True.\n",
      "            'allow_multapses' : Can units send many connections to another unit?  Default is False.\n",
      "    \n",
      "        syn_spec: A dictionary used to initialize the synapses in the connections.\n",
      "            REQUIRED PARAMETERS\n",
      "            'type' : a synapse type from the synapse_types enum.\n",
      "            'init_w' : Initial weight values. Either a dictionary specifying a distribution, a\n",
      "                    scalar value to be applied for all created synapses, or a list with length equal\n",
      "                    to the number of connections to be made. Distributions:\n",
      "                    'uniform' : the delay dictionary must also include 'low' and 'high' values.\n",
      "                    Example: {..., 'init_w':{'distribution':'uniform', 'low':0.1, 'high':1.} }\n",
      "                    'equal_norm' : the weight vectors for units in 'to_list' are uniformly sampled\n",
      "                                  from the space of vectors with a given norm. The delay\n",
      "                                  dictionary must also include the 'norm' parameter.\n",
      "                    Example: {..., 'init_w':{'distribution':'equal_norm', 'norm':1.5} }\n",
      "                    If using a list to specify the initial weights, the first entries in the\n",
      "                    list correspond to the connections from unit 'from_list[0]', the following\n",
      "                    to the connections from unit 'from_list[1]', and so on.\n",
      "            Any other required parameters (e.g. 'lrate') depend on the synapse type.\n",
      "            OPTIONAL PARAMETERS\n",
      "            'inp_ports' : input ports of the connections. Either a single integer, or a list.\n",
      "                        If using a list, its length must match the number of connections being\n",
      "                        created, which depends on the conection rule. The first entries in the\n",
      "                        list correspond to the connections from unit 'from_list[0]', the following\n",
      "                        to the connections from unit 'from_list[1]', and so on. In practice it is\n",
      "                        not recommended to use many input ports in a single call to 'connect'.\n",
      "                \n",
      "    Raises:\n",
      "        ValueError, TypeError, NotImplementedError.\n",
      "\n"
     ]
    }
   ],
   "source": [
    "# Next we should connect our input unit to the sigmoidal units.\n",
    "# For this we use the network.connect method.\n",
    "# In preparation, we need to create conn_spec and syn_spec dictionaries, which \n",
    "# configure various details about the connection and about its synapse.\n",
    "conn_spec = {\n",
    "    'rule' : 'all_to_all',  # all sources connect to all targets\n",
    "    'delay' : {'distribution': 'uniform', 'low': 0.01, 'high':0.1} }# connection delays will be uniformly distributed\n",
    "syn_spec = {\n",
    "    'type': synapse_types.static, # synapse_types is an Enum in draculab.py\n",
    "    'init_w' : [0.1*n for n in range(n_units+2)] } # the initial weights range from 0. to 0.9\n",
    "\n",
    "# There are many options for connections and synapses:\n",
    "help(network.connect)\n",
    "# In addition to network.connect, there is a 'topology' module that can create\n",
    "# spatially-arranged connections. This module is covered in another tutorial."
   ]
  },
  {
   "cell_type": "code",
   "execution_count": 8,
   "metadata": {},
   "outputs": [
    {
     "ename": "ValueError",
     "evalue": "Received wrong number of weights to initialize connections",
     "output_type": "error",
     "traceback": [
      "\u001b[0;31m---------------------------------------------------------------------------\u001b[0m",
      "\u001b[0;31mValueError\u001b[0m                                Traceback (most recent call last)",
      "\u001b[0;32m<ipython-input-8-6d0899567d7d>\u001b[0m in \u001b[0;36m<module>\u001b[0;34m()\u001b[0m\n\u001b[1;32m      1\u001b[0m \u001b[0;31m# Create the connection\u001b[0m\u001b[0;34m\u001b[0m\u001b[0;34m\u001b[0m\u001b[0m\n\u001b[0;32m----> 2\u001b[0;31m \u001b[0mnet\u001b[0m\u001b[0;34m.\u001b[0m\u001b[0mconnect\u001b[0m\u001b[0;34m(\u001b[0m\u001b[0minp_ids\u001b[0m\u001b[0;34m,\u001b[0m \u001b[0msig_ids\u001b[0m\u001b[0;34m,\u001b[0m \u001b[0mconn_spec\u001b[0m\u001b[0;34m,\u001b[0m \u001b[0msyn_spec\u001b[0m\u001b[0;34m)\u001b[0m\u001b[0;34m\u001b[0m\u001b[0m\n\u001b[0m",
      "\u001b[0;32m~/projects/draculab/network.py\u001b[0m in \u001b[0;36mconnect\u001b[0;34m(self, from_list, to_list, conn_spec, syn_spec)\u001b[0m\n\u001b[1;32m    379\u001b[0m             \u001b[0;32melse\u001b[0m\u001b[0;34m:\u001b[0m\u001b[0;34m\u001b[0m\u001b[0m\n\u001b[1;32m    380\u001b[0m                 raise ValueError('Received wrong number of ' + \\\n\u001b[0;32m--> 381\u001b[0;31m                                  'weights to initialize connections')\n\u001b[0m\u001b[1;32m    382\u001b[0m         \u001b[0;32melse\u001b[0m\u001b[0;34m:\u001b[0m\u001b[0;34m\u001b[0m\u001b[0m\n\u001b[1;32m    383\u001b[0m             \u001b[0;32mraise\u001b[0m \u001b[0mTypeError\u001b[0m\u001b[0;34m(\u001b[0m\u001b[0;34m'The value given to the initial weights is of the wrong type'\u001b[0m\u001b[0;34m)\u001b[0m\u001b[0;34m\u001b[0m\u001b[0m\n",
      "\u001b[0;31mValueError\u001b[0m: Received wrong number of weights to initialize connections"
     ]
    }
   ],
   "source": [
    "# Create the connection\n",
    "net.connect(inp_ids, sig_ids, conn_spec, syn_spec)"
   ]
  },
  {
   "cell_type": "code",
   "execution_count": null,
   "metadata": {
    "scrolled": true
   },
   "outputs": [],
   "source": [
    "# The method that runs the simulation is straightforward\n",
    "help(network.run)"
   ]
  },
  {
   "cell_type": "code",
   "execution_count": null,
   "metadata": {},
   "outputs": [],
   "source": [
    "# We can now simulate for a few seconds\n",
    "sim_time = 10. # simulation time\n",
    "times, unit_acts, _ = net.run(sim_time)"
   ]
  },
  {
   "cell_type": "code",
   "execution_count": null,
   "metadata": {},
   "outputs": [],
   "source": [
    "# We can plot the activities of the units using Matplotlib\n",
    "import matplotlib.pyplot as plt\n",
    "\n",
    "fig = plt.figure(figsize=(20,10))\n",
    "# Plot the activity of a single sigmoidal unit\n",
    "plt.subplot(221)\n",
    "plt.plot(times, unit_acts[sig_ids[2]])\n",
    "plt.title('one sigmoidal')\n",
    "# Plot the activity of the input unit\n",
    "plt.subplot(222)\n",
    "plt.plot(times, unit_acts[inp_ids[0]])\n",
    "plt.title('one input')\n",
    "# Plot the activity of all units\n",
    "plt.subplot(223)\n",
    "plt.plot(times, np.transpose(unit_acts))\n",
    "plt.title('all units')\n",
    "# Plot the activity of all sigmoidal units\n",
    "plt.subplot(224)\n",
    "sig_acts = [ unit_acts[u] for u in sig_ids ]\n",
    "plt.plot(times, np.transpose(sig_acts))\n",
    "plt.title('sigmoidal units')\n",
    "plt.show()"
   ]
  },
  {
   "cell_type": "markdown",
   "metadata": {},
   "source": [
    "## Part 2\n",
    "The main attributes of the `network` object."
   ]
  },
  {
   "cell_type": "markdown",
   "metadata": {},
   "source": [
    "The network created in Part 1 has 10 sigmoidal units, each one receiving one connection. \n",
    "Morevoer, each connection has a particular delay, and its own synapse. The delays are scalar values,\n",
    "but synapses are objects with their own attributes.\n",
    "\n",
    "All the connection information in draculab is stored in 3 lists, which are attributes of the network object.\n",
    "* **delays**. `delays[i]` is a list that contains the delays for all the connections received by the unit whose ID is `i`. `delays[i][j]` is the delay of the j-th connection to unit i. \n",
    "* **syns**. `syns[i]` is a list that contains the synapses of all the connections received by the unit whose ID is `i`. `syns[i][j]` is the synapse object for the j-th connection to unit i.\n",
    "* **act**. `act[i]` is a list whose elements are Python functions. `act[i][j]` is the function from which unit i obtains its j-th input.\n",
    "\n",
    "All the units created are stored in the `network.units` list. `network.units[i]` is the unit object whose ID is `i`.\n",
    "When plants are created, they are stored in the `network.plants` list."
   ]
  },
  {
   "cell_type": "code",
   "execution_count": null,
   "metadata": {},
   "outputs": [],
   "source": [
    "# We can look at the units of the network created in part 1\n",
    "net.units"
   ]
  },
  {
   "cell_type": "code",
   "execution_count": null,
   "metadata": {},
   "outputs": [],
   "source": [
    "# Similarly, we can look at the delays, synapses, and activity functions.\n",
    "net.delays"
   ]
  },
  {
   "cell_type": "code",
   "execution_count": null,
   "metadata": {},
   "outputs": [],
   "source": [
    "# The attribute containing the synaptic weight in the synapse objects is called w\n",
    "net.syns[2][0].w  # for unit 'n', w = 0.1*n"
   ]
  },
  {
   "cell_type": "code",
   "execution_count": null,
   "metadata": {},
   "outputs": [],
   "source": [
    "# Another useful attribute in the synapses are the IDs of the presynaptic and postsynaptic units,\n",
    "# contained in the preID and postID attributes respectively\n",
    "net.syns[2][0].preID"
   ]
  },
  {
   "cell_type": "code",
   "execution_count": null,
   "metadata": {},
   "outputs": [],
   "source": [
    "# All sigmoidals obtain their inputs from the same cosine function\n",
    "net.act[0][0](3.141592)"
   ]
  },
  {
   "cell_type": "markdown",
   "metadata": {},
   "source": [
    "## Part 3\n",
    "Create 10 input units, connect them to the 10 sigmoidals.\n",
    "\n",
    "This unit is intended to show the proper way to initialize the function of source units.\n",
    "\n",
    "***Plase reset the kernel before continuing***"
   ]
  },
  {
   "cell_type": "code",
   "execution_count": null,
   "metadata": {},
   "outputs": [],
   "source": [
    "# Importing...\n",
    "%cd .. \n",
    "from draculab import *\n",
    "import matplotlib.pyplot as plt"
   ]
  },
  {
   "cell_type": "code",
   "execution_count": null,
   "metadata": {},
   "outputs": [],
   "source": [
    "# We once more create the network as before, this time with 10 source units\n",
    "net_params = {\n",
    "    'min_delay' : 0.005, # minimum delay in all the network's connections (in seconds)\n",
    "    'min_buff_size' : 10 } # minimum buffer size. How many values are stored per simulation step. \n",
    "net = network(net_params)\n",
    "\n",
    "n_sigs = 10 # how many sigmoidal units to create\n",
    "sig_params = {\n",
    "    'type' : unit_types.sigmoidal,  # unit_types is an Enum in draculab.py\n",
    "    'init_val' : 0.5, # initial value\n",
    "    'thresh' : .1, # all sigmoidal units will have threshold 1\n",
    "    'slope' : np.random.uniform(0.5, 2., n_sigs), # the slopes come from a random distribution\n",
    "    'tau' : 0.02 } # time constant for the dynamics of all sigmoidal units\n",
    "sig_ids = net.create(n_sigs, sig_params)\n",
    "\n",
    "n_sources = 10 # how many input units to create\n",
    "input_params = {\n",
    "    'type' : unit_types.source,\n",
    "    'init_val' : 0.5,\n",
    "    'function' : lambda t: None } \n",
    "inp_ids = net.create(n_sources, input_params)\n",
    "\n",
    "# Notice that the created source units have a function that returns 'None'. \n",
    "# We need to initialize their functions. To do this we create an auxiliary function.\n",
    "\n",
    "def create_cosine(ang_freq, phase):\n",
    "    return lambda t: np.cos(ang_freq*(t - phase))\n",
    "\n",
    "# With our auxiliary function we now initialize the function of all source units\n",
    "for idx, uid in enumerate(inp_ids):\n",
    "    net.units[uid].set_function(create_cosine(2.*np.pi, 0.1*idx))"
   ]
  },
  {
   "cell_type": "markdown",
   "metadata": {},
   "source": [
    "### The whole point of part 3 is to show that the auxiliary function is necessary.\n",
    "In other words, initializing the source units using\n",
    "```\n",
    "for idx, uid in enumerate(inp_ids):\n",
    "    net.units[uid].set_function(lambda t : np.cos(2.*np.pi*t - 0.1*idx))\n",
    "```\n",
    "will lead to a subtle error. If interested see: https://eev.ee/blog/2011/04/24/gotcha-python-scoping-closures/"
   ]
  },
  {
   "cell_type": "code",
   "execution_count": null,
   "metadata": {},
   "outputs": [],
   "source": [
    "# We connect the units, and run the simulation\n",
    "# This time, each sigmoidal unit gets its own input, with a unique phase\n",
    "conn_spec = {\n",
    "    'rule' : 'one_to_one',  # all sources connect to all targets\n",
    "    'delay' : {'distribution': 'uniform', 'low': 0.01, 'high':0.1} }# connection delays will be uniformly distributed\n",
    "syn_spec = {\n",
    "    'type': synapse_types.static, # synapse_types is an Enum in draculab.py\n",
    "    'init_w' : [0.1*n for n in range(n_sigs)] } # the initial weights range from 0. to 0.9\n",
    "net.connect(inp_ids, sig_ids, conn_spec, syn_spec)\n",
    "\n",
    "sim_time = 10. # simulation time\n",
    "times, unit_acts, _ = net.run(sim_time)"
   ]
  },
  {
   "cell_type": "code",
   "execution_count": null,
   "metadata": {},
   "outputs": [],
   "source": [
    "# Plot the activities of the units using Matplotlib\n",
    "\n",
    "fig = plt.figure(figsize=(20,10))\n",
    "# Plot the activity of a single sigmoidal unit\n",
    "plt.subplot(221)\n",
    "plt.plot(times, unit_acts[sig_ids[2]])\n",
    "plt.title('one sigmoidal')\n",
    "# Plot the activity of one input unit\n",
    "plt.subplot(222)\n",
    "plt.plot(times, unit_acts[inp_ids[5]])\n",
    "plt.title('one input')\n",
    "# Plot the activity of all inputs\n",
    "inp_acts = [ unit_acts[u] for u in inp_ids ]\n",
    "plt.subplot(223)\n",
    "plt.plot(times, np.transpose(inp_acts))\n",
    "plt.title('all inputs')\n",
    "# Plot the activity of all sigmoidal units\n",
    "plt.subplot(224)\n",
    "sig_acts = [ unit_acts[u] for u in sig_ids ]\n",
    "plt.plot(times, np.transpose(sig_acts))\n",
    "plt.title('all sigmoidal units')\n",
    "plt.show()"
   ]
  },
  {
   "cell_type": "markdown",
   "metadata": {},
   "source": [
    "### Exercise 1\n",
    "Create a numpy 2D array `weights` that contains all the synaptic weights.\n",
    "`weights[i,j]` should be the weight of the connection from unit `j` to unit `i`. If the units are not connected it should equal zero.\n",
    "\n",
    "***BONUS:***\n",
    "Plot the connection matrix as an image\n",
    "\n",
    "Solution is below."
   ]
  },
  {
   "cell_type": "markdown",
   "metadata": {},
   "source": [
    "### Exercise 2\n",
    "What happens if you don't use the auxiliary function to initialize the input in part 3?"
   ]
  },
  {
   "cell_type": "markdown",
   "metadata": {},
   "source": [
    "### Exercise 3\n",
    "Repeat part 3, but this time connect the sigmoidal units so that unit 0 projects to unit 1, unit 1 to unit 2, ..., unit 9 to unit 0.  \n",
    "Use delays of 0.01, and static synapses with weight 0.5."
   ]
  },
  {
   "cell_type": "raw",
   "metadata": {},
   "source": [
    "EXERCISE SOLUTIONS BELOW\n",
    "\n",
    "\n",
    "\n",
    "\n",
    "                                ,_-=(!7(7/zs_.\n",
    "                             .='  ' .`/,/!(=)Zm.\n",
    "               .._,,._..  ,-`- `,\\ ` -` -`\\\\7//WW.\n",
    "          ,v=~/.-,-\\- -!|V-s.)iT-|s|\\-.'   `///mK%.\n",
    "        v!`i!-.e]-g`bT/i(/[=.Z/m)K(YNYi..   /-]i44M.\n",
    "      v`/,`|v]-DvLcfZ/eV/iDLN\\D/ZK@%8W[Z..   `/d!Z8m\n",
    "     //,c\\(2(X/NYNY8]ZZ/bZd\\()/\\7WY%WKKW)   -'|(][%4.\n",
    "   ,\\\\i\\c(e)WX@WKKZKDKWMZ8(b5/ZK8]Z7%ffVM,   -.Y!bNMi\n",
    "   /-iit5N)KWG%%8%%%%W8%ZWM(8YZvD)XN(@.  [   \\]!/GXW[\n",
    "  / ))G8\\NMN%W%%%%%%%%%%8KK@WZKYK*ZG5KMi,-   vi[NZGM[\n",
    " i\\!(44Y8K%8%%%**~YZYZ@%%%%%4KWZ/PKN)ZDZ7   c=//WZK%!\n",
    ",\\v\\YtMZW8W%%f`,`.t/bNZZK%%W%%ZXb*K(K5DZ   -c\\\\/KM48\n",
    "-|c5PbM4DDW%f  v./c\\[tMY8W%PMW%D@KW)Gbf   -/(=ZZKM8[\n",
    "2(N8YXWK85@K   -'c|K4/KKK%@  V%@@WD8e~  .//ct)8ZK%8`\n",
    "=)b%]Nd)@KM[  !'\\cG!iWYK%%|   !M@KZf    -c\\))ZDKW%`\n",
    "YYKWZGNM4/Pb  '-VscP4]b@W%     'Mf`   -L\\///KM(%W!\n",
    "!KKW4ZK/W7)Z. '/cttbY)DKW%     -`  .',\\v)K(5KW%%f\n",
    "'W)KWKZZg)Z2/,!/L(-DYYb54%  ,,`, -\\-/v(((KK5WW%f\n",
    " \\M4NDDKZZ(e!/\\7vNTtZd)8\\Mi!\\-,-/i-v((tKNGN%W%%\n",
    " 'M8M88(Zd))///((|D\\tDY\\\\KK-`/-i(=)KtNNN@W%%%@%[\n",
    "  !8%@KW5KKN4///s(\\Pd!ROBY8/=2(/4ZdzKD%K%%%M8@%%\n",
    "   '%%%W%dGNtPK(c\\/2\\[Z(ttNYZ2NZW8W8K%%%%YKM%M%%.\n",
    "     *%%W%GW5@/%!e]_tZdY()v)ZXMZW%W%%%*5Y]K%ZK%8[\n",
    "      '*%%%%8%8WK\\)[/ZmZ/Zi]!/M%%%%@f\\ \\Y/NNMK%%!\n",
    "        'VM%%%%W%WN5Z/Gt5/b)((cV@f`  - |cZbMKW%%|\n",
    "           'V*M%%%WZ/ZG\\t5((+)L'-,,/  -)X(NWW%%\n",
    "                `~`MZ/DZGNZG5(((\\,    ,t\\\\Z)KW%@\n",
    "                   'M8K%8GN8\\5(5///]i!v\\K)85W%%f\n",
    "                     YWWKKKKWZ8G54X/GGMeK@WM8%@\n",
    "                      !M8%8%48WG@KWYbW%WWW%%%@\n",
    "                        VM%WKWK%8K%%8WWWW%%%@`\n",
    "                          ~*%%%%%%W%%%%%%%@~\n",
    "                             ~*MM%%%%%%@f`\n",
    "                                 '''''\n",
    "\n",
    "\n",
    "\n",
    "\n",
    "                                ,_-=(!7(7/zs_.\n",
    "                             .='  ' .`/,/!(=)Zm.\n",
    "               .._,,._..  ,-`- `,\\ ` -` -`\\\\7//WW.\n",
    "          ,v=~/.-,-\\- -!|V-s.)iT-|s|\\-.'   `///mK%.\n",
    "        v!`i!-.e]-g`bT/i(/[=.Z/m)K(YNYi..   /-]i44M.\n",
    "      v`/,`|v]-DvLcfZ/eV/iDLN\\D/ZK@%8W[Z..   `/d!Z8m\n",
    "     //,c\\(2(X/NYNY8]ZZ/bZd\\()/\\7WY%WKKW)   -'|(][%4.\n",
    "   ,\\\\i\\c(e)WX@WKKZKDKWMZ8(b5/ZK8]Z7%ffVM,   -.Y!bNMi\n",
    "   /-iit5N)KWG%%8%%%%W8%ZWM(8YZvD)XN(@.  [   \\]!/GXW[\n",
    "  / ))G8\\NMN%W%%%%%%%%%%8KK@WZKYK*ZG5KMi,-   vi[NZGM[\n",
    " i\\!(44Y8K%8%%%**~YZYZ@%%%%%4KWZ/PKN)ZDZ7   c=//WZK%!\n",
    ",\\v\\YtMZW8W%%f`,`.t/bNZZK%%W%%ZXb*K(K5DZ   -c\\\\/KM48\n",
    "-|c5PbM4DDW%f  v./c\\[tMY8W%PMW%D@KW)Gbf   -/(=ZZKM8[\n",
    "2(N8YXWK85@K   -'c|K4/KKK%@  V%@@WD8e~  .//ct)8ZK%8`\n",
    "=)b%]Nd)@KM[  !'\\cG!iWYK%%|   !M@KZf    -c\\))ZDKW%`\n",
    "YYKWZGNM4/Pb  '-VscP4]b@W%     'Mf`   -L\\///KM(%W!\n",
    "!KKW4ZK/W7)Z. '/cttbY)DKW%     -`  .',\\v)K(5KW%%f\n",
    "'W)KWKZZg)Z2/,!/L(-DYYb54%  ,,`, -\\-/v(((KK5WW%f\n",
    " \\M4NDDKZZ(e!/\\7vNTtZd)8\\Mi!\\-,-/i-v((tKNGN%W%%\n",
    " 'M8M88(Zd))///((|D\\tDY\\\\KK-`/-i(=)KtNNN@W%%%@%[\n",
    "  !8%@KW5KKN4///s(\\Pd!ROBY8/=2(/4ZdzKD%K%%%M8@%%\n",
    "   '%%%W%dGNtPK(c\\/2\\[Z(ttNYZ2NZW8W8K%%%%YKM%M%%.\n",
    "     *%%W%GW5@/%!e]_tZdY()v)ZXMZW%W%%%*5Y]K%ZK%8[\n",
    "      '*%%%%8%8WK\\)[/ZmZ/Zi]!/M%%%%@f\\ \\Y/NNMK%%!\n",
    "        'VM%%%%W%WN5Z/Gt5/b)((cV@f`  - |cZbMKW%%|\n",
    "           'V*M%%%WZ/ZG\\t5((+)L'-,,/  -)X(NWW%%\n",
    "                `~`MZ/DZGNZG5(((\\,    ,t\\\\Z)KW%@\n",
    "                   'M8K%8GN8\\5(5///]i!v\\K)85W%%f\n",
    "                     YWWKKKKWZ8G54X/GGMeK@WM8%@\n",
    "                      !M8%8%48WG@KWYbW%WWW%%%@\n",
    "                        VM%WKWK%8K%%8WWWW%%%@`\n",
    "                          ~*%%%%%%W%%%%%%%@~\n",
    "                             ~*MM%%%%%%@f`\n",
    "                                 '''''\n",
    "\n",
    "\n",
    "\n",
    "\n",
    "\n",
    "                 ______\n",
    "                /     /\\\n",
    "               /     /##\\\n",
    "              /     /####\\\n",
    "             /     /######\\\n",
    "            /     /########\\\n",
    "           /     /##########\\\n",
    "          /     /#####/\\#####\\\n",
    "         /     /#####/++\\#####\\\n",
    "        /     /#####/++++\\#####\\\n",
    "       /     /#####/\\+++++\\#####\\\n",
    "      /     /#####/  \\+++++\\#####\\\n",
    "     /     /#####/    \\+++++\\#####\\\n",
    "    /     /#####/      \\+++++\\#####\\\n",
    "   /     /#####/        \\+++++\\#####\\\n",
    "  /     /#####/__________\\+++++\\#####\\\n",
    " /                        \\+++++\\#####\\\n",
    "/__________________________\\+++++\\####/\n",
    "\\+++++++++++++++++++++++++++++++++\\##/\n",
    " \\+++++++++++++++++++++++++++++++++\\/\n",
    "  ``````````````````````````````````\n",
    "\n",
    "\n"
   ]
  },
  {
   "cell_type": "code",
   "execution_count": null,
   "metadata": {
    "code_folding": [
     0
    ],
    "scrolled": false
   },
   "outputs": [],
   "source": [
    "# SOLUTION TO EXERCISE 1\n",
    "N = len(net.units) # number of units\n",
    "weights = np.zeros((N,N)) \n",
    "for syn_list in net.syns:\n",
    "    for syn in syn_list:\n",
    "        weights[syn.postID, syn.preID] = syn.w\n",
    "\n",
    "# BONUS\n",
    "fig_ex1 = plt.figure(figsize=(10,10))\n",
    "ax = fig_ex1.add_axes([0., 0., 1., 1.], aspect=1)\n",
    "ax.set_xticks(list(range(N)))\n",
    "ax.set_yticks(list(range(N)))\n",
    "ax.imshow(weights)\n",
    "plt.show()"
   ]
  },
  {
   "cell_type": "code",
   "execution_count": null,
   "metadata": {
    "code_folding": [
     0
    ]
   },
   "outputs": [],
   "source": [
    "# SOLUTION TO EXERCISE 2\n",
    "\n",
    "# All the input units are initialized with the same function."
   ]
  },
  {
   "cell_type": "code",
   "execution_count": null,
   "metadata": {
    "code_folding": [
     0
    ]
   },
   "outputs": [],
   "source": [
    "# SOLUTION TO EXERCISE 3\n",
    "#--------------- copy-paste ---------------\n",
    "%cd .. \n",
    "from draculab import *\n",
    "import matplotlib.pyplot as plt\n",
    "\n",
    "net_params = {\n",
    "    'min_delay' : 0.005, # minimum delay in all the network's connections (in seconds)\n",
    "    'min_buff_size' : 10 } # minimum buffer size. How many values are stored per simulation step. \n",
    "net = network(net_params)\n",
    "\n",
    "n_sigs = 10 # how many sigmoidal units to create\n",
    "sig_params = {\n",
    "    'type' : unit_types.sigmoidal,  # unit_types is an Enum in draculab.py\n",
    "    'init_val' : 0.5, # initial value\n",
    "    'thresh' : .1, # all sigmoidal units will have threshold 1\n",
    "    'slope' : np.random.uniform(0.5, 2., n_sigs), # the slopes come from a random distribution\n",
    "    'tau' : 0.02 } # time constant for the dynamics of all sigmoidal units\n",
    "sig_ids = net.create(n_sigs, sig_params)\n",
    "\n",
    "n_sources = 10 # how many input units to create\n",
    "input_params = {\n",
    "    'type' : unit_types.source,\n",
    "    'init_val' : 0.5,\n",
    "    'function' : lambda t: None } \n",
    "inp_ids = net.create(n_sources, input_params)\n",
    "\n",
    "def create_cosine(ang_freq, phase):\n",
    "    return lambda t: np.cos(ang_freq*(t - phase))\n",
    "\n",
    "for idx, uid in enumerate(inp_ids):\n",
    "    net.units[uid].set_function(create_cosine(2.*np.pi, 0.1*idx))\n",
    "    \n",
    "conn_spec = {\n",
    "    'rule' : 'one_to_one',  # all sources connect to all targets\n",
    "    'delay' : {'distribution': 'uniform', 'low': 0.01, 'high':0.1} }# connection delays will be uniformly distributed\n",
    "syn_spec = {\n",
    "    'type': synapse_types.static, # synapse_types is an Enum in draculab.py\n",
    "    'init_w' : [0.1*n for n in range(n_sigs)] } # the initial weights range from 0. to 0.9\n",
    "net.connect(inp_ids, sig_ids, conn_spec, syn_spec)\n",
    "#--------------------------------------\n",
    "\n",
    "# THE ACTUAL SOLUTION\n",
    "s2s_conn_spec = {\n",
    "    'rule' : 'one_to_one',  \n",
    "    'delay' : 0.01 }\n",
    "s2s_syn_spec = {\n",
    "    'type': synapse_types.static, \n",
    "    'init_w' : 0.5 }\n",
    "target_ids = [(i+1)%n_sigs for i in sig_ids] # assuming sig_ids range from 0 to n_sigs...\n",
    "net.connect(sig_ids, target_ids, s2s_conn_spec, s2s_syn_spec)\n",
    "\n",
    "#-------- more copy-paste ----------\n",
    "sim_time = 10. # simulation time\n",
    "times, unit_acts, _ = net.run(sim_time)\n",
    "\n",
    "fig = plt.figure(figsize=(20,10))\n",
    "# Plot the activity of a single sigmoidal unit\n",
    "plt.subplot(221)\n",
    "plt.plot(times, unit_acts[sig_ids[2]])\n",
    "plt.title('one sigmoidal')\n",
    "# Plot the activity of one input unit\n",
    "plt.subplot(222)\n",
    "plt.plot(times, unit_acts[inp_ids[5]])\n",
    "plt.title('one input')\n",
    "# Plot the activity of all inputs\n",
    "inp_acts = [ unit_acts[u] for u in inp_ids ]\n",
    "plt.subplot(223)\n",
    "plt.plot(times, np.transpose(inp_acts))\n",
    "plt.title('all inputs')\n",
    "# Plot the activity of all sigmoidal units\n",
    "plt.subplot(224)\n",
    "sig_acts = [ unit_acts[u] for u in sig_ids ]\n",
    "plt.plot(times, np.transpose(sig_acts))\n",
    "plt.title('all sigmoidal units')\n",
    "plt.show()"
   ]
  },
  {
   "cell_type": "code",
   "execution_count": null,
   "metadata": {
    "code_folding": [
     0
    ]
   },
   "outputs": [],
   "source": [
    "# Using the solution to exercise 1 to visualize the connections made in exercise 3\n",
    "N = len(net.units) # number of units\n",
    "weights = np.zeros((N,N)) \n",
    "for syn_list in net.syns:\n",
    "    for syn in syn_list:\n",
    "        weights[syn.postID, syn.preID] = syn.w\n",
    "\n",
    "fig_ex1 = plt.figure(figsize=(10,10))\n",
    "ax = fig_ex1.add_axes([0., 0., 1., 1.], aspect=1)\n",
    "ax.set_xticks(list(range(N)))\n",
    "ax.set_yticks(list(range(N)))\n",
    "ax.imshow(weights)\n",
    "plt.show()"
   ]
  },
  {
   "cell_type": "code",
   "execution_count": null,
   "metadata": {},
   "outputs": [],
   "source": []
  }
 ],
 "metadata": {
  "kernelspec": {
   "display_name": "Python 3",
   "language": "python",
   "name": "python3"
  },
  "language_info": {
   "codemirror_mode": {
    "name": "ipython",
    "version": 3
   },
   "file_extension": ".py",
   "mimetype": "text/x-python",
   "name": "python",
   "nbconvert_exporter": "python",
   "pygments_lexer": "ipython3",
   "version": "3.5.2"
  }
 },
 "nbformat": 4,
 "nbformat_minor": 2
}
