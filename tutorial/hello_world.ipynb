{
 "cells": [
  {
   "cell_type": "markdown",
   "metadata": {},
   "source": [
    "Hello world example for the Draculab paper"
   ]
  },
  {
   "cell_type": "code",
   "execution_count": 1,
   "metadata": {},
   "outputs": [
    {
     "name": "stdout",
     "output_type": "stream",
     "text": [
      "/home/z/projects/draculab\n"
     ]
    },
    {
     "ename": "TypeError",
     "evalue": "list indices must be integers or slices, not list",
     "output_type": "error",
     "traceback": [
      "\u001b[0;31m---------------------------------------------------------------------------\u001b[0m",
      "\u001b[0;31mTypeError\u001b[0m                                 Traceback (most recent call last)",
      "\u001b[0;32m<ipython-input-1-67906cbafab2>\u001b[0m in \u001b[0;36m<module>\u001b[0;34m()\u001b[0m\n\u001b[1;32m     46\u001b[0m \u001b[0max1\u001b[0m \u001b[0;34m=\u001b[0m \u001b[0mfig\u001b[0m\u001b[0;34m.\u001b[0m\u001b[0madd_axes\u001b[0m\u001b[0;34m(\u001b[0m\u001b[0;34m[\u001b[0m\u001b[0;36m0.05\u001b[0m\u001b[0;34m,\u001b[0m \u001b[0;36m0.05\u001b[0m\u001b[0;34m,\u001b[0m \u001b[0;36m.95\u001b[0m\u001b[0;34m,\u001b[0m \u001b[0;36m.95\u001b[0m\u001b[0;34m]\u001b[0m\u001b[0;34m)\u001b[0m\u001b[0;34m\u001b[0m\u001b[0m\n\u001b[1;32m     47\u001b[0m \u001b[0max1\u001b[0m\u001b[0;34m.\u001b[0m\u001b[0mtick_params\u001b[0m\u001b[0;34m(\u001b[0m\u001b[0mlabelsize\u001b[0m\u001b[0;34m=\u001b[0m\u001b[0;36m30\u001b[0m\u001b[0;34m)\u001b[0m\u001b[0;34m\u001b[0m\u001b[0m\n\u001b[0;32m---> 48\u001b[0;31m \u001b[0msig_activs\u001b[0m \u001b[0;34m=\u001b[0m \u001b[0msim_data\u001b[0m\u001b[0;34m[\u001b[0m\u001b[0;36m1\u001b[0m\u001b[0;34m]\u001b[0m\u001b[0;34m[\u001b[0m\u001b[0msig_units\u001b[0m\u001b[0;34m]\u001b[0m\u001b[0;34m\u001b[0m\u001b[0m\n\u001b[0m\u001b[1;32m     49\u001b[0m \u001b[0max1\u001b[0m\u001b[0;34m.\u001b[0m\u001b[0mplot\u001b[0m\u001b[0;34m(\u001b[0m\u001b[0msim_data\u001b[0m\u001b[0;34m[\u001b[0m\u001b[0;36m0\u001b[0m\u001b[0;34m]\u001b[0m\u001b[0;34m,\u001b[0m \u001b[0msig_activs\u001b[0m\u001b[0;34m.\u001b[0m\u001b[0mtranspose\u001b[0m\u001b[0;34m(\u001b[0m\u001b[0;34m)\u001b[0m\u001b[0;34m,\u001b[0m \u001b[0mlinewidth\u001b[0m\u001b[0;34m=\u001b[0m\u001b[0;36m4\u001b[0m\u001b[0;34m)\u001b[0m\u001b[0;34m\u001b[0m\u001b[0m\n\u001b[1;32m     50\u001b[0m \u001b[0mplt\u001b[0m\u001b[0;34m.\u001b[0m\u001b[0mshow\u001b[0m\u001b[0;34m(\u001b[0m\u001b[0;34m)\u001b[0m\u001b[0;34m\u001b[0m\u001b[0m\n",
      "\u001b[0;31mTypeError\u001b[0m: list indices must be integers or slices, not list"
     ]
    }
   ],
   "source": [
    "%cd ..\n",
    "from draculab import *\n",
    "import numpy as np\n",
    "import matplotlib.pyplot as plt\n",
    "\n",
    "# create a network object\n",
    "net_params = {'min_delay': 0.1,     # minimum connection delay\n",
    "              'min_buff_size': 10 } # minimum buffer size\n",
    "net = network(net_params) # creates the network\n",
    "\n",
    "# create units in the network\n",
    "sig_params = {'type': unit_types.sigmoidal, # unit model\n",
    "               'init_val': 0.5,  # initial value for all sigmoidal units\n",
    "               'slope': 1,       # slope of the sigmoidal function\n",
    "               'thresh': 0.,     # threshold of the sigmoidal function\n",
    "               'tau': 0.2,       # time constant of the sigmoidal unit\n",
    "               'tau_fast': 0.1 } # time constant of the 'fast' low-pass filter\n",
    "             \n",
    "inp_params = {'type': unit_types.source, # source units provide inputs\n",
    "              'init_val': 1.,\n",
    "              'function': lambda t: np.cos(t) } # a cosine function\n",
    "sig_units = net.create(10, sig_params) # create 10 sigmoidal units\n",
    "inp_unit = net.create(1, inp_params)  # create 1 input unit\n",
    "\n",
    "# create connections between the sigmoidal units\n",
    "conn_spec = {'rule': 'fixed_outdegree', # rule to create connections\n",
    "             'outdegree': 2,    # each unit sends 2 projections randomly\n",
    "             'delay': 0.2 }      # all connections have a delay of .2 time units\n",
    "syn_spec = {'type': synapse_types.oja, # synapses use the Oja learning rule\n",
    "            'init_w': {'distribution': 'uniform', 'low': 0.1, 'high': 1.},\n",
    "            'lrate': 0.1 }  # learning rate for the Oja rule\n",
    "net.connect(sig_units, sig_units, conn_spec, syn_spec) # create the connections\n",
    "\n",
    "# connect the input to the sigmoidal units\n",
    "conn_spec_2 = {'rule': 'all_to_all', # rule to create connections\n",
    "             'delay': 0.1 } # all connections have a delay of .1 time units\n",
    "syn_spec_2 = {'type': synapse_types.static, # synapses don't change\n",
    "            'init_w': 0.5 } # all synapses have this initial weight\n",
    "net.connect(inp_unit, sig_units, conn_spec_2, syn_spec_2) # create the connections\n",
    "\n",
    "# run the simulation for 10 time units\n",
    "sim_data = net.run(100.)\n",
    "\n",
    "# visualize using standard Matplotlib tools\n",
    "fig = plt.figure(figsize=(16,9))\n",
    "ax1 = fig.add_axes([0.05, 0.05, .95, .95])\n",
    "ax1.tick_params(labelsize=30)\n",
    "sig_activs = sim_data[1][sig_units] \n",
    "ax1.plot(sim_data[0], sig_activs.transpose(), linewidth=4)\n",
    "plt.show()"
   ]
  },
  {
   "cell_type": "code",
   "execution_count": 6,
   "metadata": {},
   "outputs": [
    {
     "data": {
      "text/plain": [
       "list"
      ]
     },
     "execution_count": 6,
     "metadata": {},
     "output_type": "execute_result"
    }
   ],
   "source": [
    "type(sim_data[2])"
   ]
  },
  {
   "cell_type": "code",
   "execution_count": null,
   "metadata": {},
   "outputs": [],
   "source": []
  }
 ],
 "metadata": {
  "kernelspec": {
   "display_name": "Python 3",
   "language": "python",
   "name": "python3"
  },
  "language_info": {
   "codemirror_mode": {
    "name": "ipython",
    "version": 3
   },
   "file_extension": ".py",
   "mimetype": "text/x-python",
   "name": "python",
   "nbconvert_exporter": "python",
   "pygments_lexer": "ipython3",
   "version": "3.5.2"
  }
 },
 "nbformat": 4,
 "nbformat_minor": 2
}
