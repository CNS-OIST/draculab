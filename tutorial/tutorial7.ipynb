{
 "cells": [
  {
   "cell_type": "markdown",
   "metadata": {},
   "source": [
    "# Tutorial 7\n",
    "\n",
    "## Multidimensional units"
   ]
  },
  {
   "cell_type": "markdown",
   "metadata": {},
   "source": [
    "In draculab all units have a one-dimensional output, but they may have many-dimensional dynamics, with the output being one of their state variables.\n",
    "\n",
    "The `multidim` Boolean attribute indicates whether the unit uses more than one state variable. When `multidim` is not specified it is assumed that the dynamics are one-dimensional, and `multidim` is automatically set to `False`.\n",
    "\n",
    "When `multidim` is set to `True` the dimensionality of the state vectors are obtained from the length of the `init_val` argument. Notice that if `multidim` is `False` and `init_val` is a list of length longer than 1, it is assumed that the dynamics are one-dimensional, and the values of `initi_val` are used to initialize several units.\n",
    "\n",
    "Obviously, besides setting `multidim` to `True`, in order to create a multidimensional unit we need to create a `derivatives` or `dt_fun` method that updates all the state variables. By convention, the **first** (index 0) state variable is the unit's activity, and gets transmitted when the unit is connected to other units or plants."
   ]
  },
  {
   "cell_type": "code",
   "execution_count": null,
   "metadata": {},
   "outputs": [],
   "source": [
    "# Let's have a quick look at the arguments of the 'unit' constructor, where\n",
    "# 'init_val' and 'multidim' are described\n",
    "from draculab import *\n",
    "from units.units import unit\n",
    "import matplotlib.pyplot as plt\n",
    "import numpy as np"
   ]
  },
  {
   "cell_type": "code",
   "execution_count": null,
   "metadata": {},
   "outputs": [],
   "source": [
    "help(unit.__init__)"
   ]
  },
  {
   "cell_type": "markdown",
   "metadata": {},
   "source": [
    "Next there is a simple example on how to create a multidimensional unit. The unit has the dynamics of a sinusuodial, e.g.\n",
    "\n",
    "$y' = \\omega x$  \n",
    "$x' = -\\omega y$\n",
    "\n",
    "where y is the unit's activity, and $\\omega$ is the oscillation frequency.\n",
    "\n",
    "The code for this unit is in the `units/custom_units.py` file. We now look at it."
   ]
  },
  {
   "cell_type": "code",
   "execution_count": null,
   "metadata": {},
   "outputs": [],
   "source": [
    "from units.custom_units import test_oscillator\n",
    "help(test_oscillator.__init__)"
   ]
  },
  {
   "cell_type": "code",
   "execution_count": null,
   "metadata": {},
   "outputs": [],
   "source": [
    "# Here is the source code of the constructor\n",
    "\n",
    "def __init__(self, ID, params, network):\n",
    "        \"\"\" The unit's constructor.\n",
    "\n",
    "        Args:\n",
    "            ID, params, network, same as in unit.__init__, butthe 'init_val' parameter\n",
    "            needs to be a 1D array with two elements, corresponding to the initial values\n",
    "            of y and x.\n",
    "            In addition, params should have the following entries.\n",
    "            REQUIRED PARAMETERS\n",
    "            'tau' : Time constant of the update dynamics. Also, reciprocal of the \n",
    "                    oscillator's frequency.\n",
    "            OPTIONAL PARAMETERS\n",
    "            'mu' : mean of white noise when using noisy integration\n",
    "            'sigma' : standard deviation of noise for noisy integration.\n",
    "        \"\"\"\n",
    "        params['multidim'] = True\n",
    "        unit.__init__(self, ID, params, network)\n",
    "        self.tau = params['tau']\n",
    "        self.w = 1/self.tau\n",
    "        if 'mu' in params:\n",
    "            self.mu = params['mu']\n",
    "        if 'sigma' in params:\n",
    "            self.sigma = params['sigma']\n",
    "        self.mudt = self.mu * self.time_bit # used by flat updaters\n",
    "        self.mudt_vec = np.zeros(self.dim)\n",
    "        self.mudt_vec[0] = self.mudt\n",
    "        self.sqrdt = np.sqrt(self.time_bit) # used by flat updater"
   ]
  },
  {
   "cell_type": "markdown",
   "metadata": {},
   "source": [
    "Notice that the first thing we do ist to set `multidim` to `True`.  \n",
    "Next, the parameters of the model are obtained.\n",
    "\n",
    "The rest of the constructor fills parameters used by the Euler_Maruyama (`euler_maru`) integrator, and are included for completeness. The final four lines are only required when using Euler_Maruyama together with a flat network.\n",
    "\n",
    "Next we can look at the methods that implement the dynamics."
   ]
  },
  {
   "cell_type": "code",
   "execution_count": null,
   "metadata": {},
   "outputs": [],
   "source": [
    "    def derivatives(self, y, t):\n",
    "        \"\"\" Implements the ODE of the oscillator.\n",
    "\n",
    "        Args:\n",
    "            y : 1D, 2-element array with the values of the state variables.\n",
    "            t : time when the derivative is evaluated (not used).\n",
    "        Returns:\n",
    "            numpy array with [w*y[1], -w*y[0]]\n",
    "        \"\"\"\n",
    "        return np.array([self.w*y[1], -self.w*y[0]])\n",
    "\n",
    "    def dt_fun(self, y, s):\n",
    "        \"\"\" The derivatives function used for flat networks. \n",
    "\n",
    "        Args:\n",
    "            y : 1D, 2-element array with the values of the state variables.\n",
    "            s: index to the inp_sum array (not used).\n",
    "        Returns:\n",
    "            Numpy array with 2 elements.\n",
    "\n",
    "        \"\"\"\n",
    "        return np.array([self.w*y[1], -self.w*y[0]])"
   ]
  },
  {
   "cell_type": "markdown",
   "metadata": {},
   "source": [
    "The implementation of the `derivatives` or `dt_fun` methods is a straightforward generalization of what was done before: we now return an array of derivatives, rather than a single value. when multidim is `True` draculab automatically uses a multidimensional solver to advance the unit's dynamics. The name of these solvers ends with \"`_md`\" .\n",
    "\n",
    "The default integrator for multidimentional units in non-flat networks is `odeint`. The other options are `euler_maru`, and `solve_ivp`. For flat networks the two options are `euler` and `euler_maru`; specifying other integration methods will result in either `euler` being used, or in an exception.\n",
    "\n",
    "Let's create some `test_oscillator` units and simulate."
   ]
  },
  {
   "cell_type": "code",
   "execution_count": null,
   "metadata": {},
   "outputs": [],
   "source": [
    "net_params = {'min_delay' : 0.05,\n",
    "              'min_buff_size' : 20 }\n",
    "unit_params = {'type' : unit_types.test_oscillator,\n",
    "               'integ_meth' : 'solve_ivp',\n",
    "               'tau' : .5,\n",
    "               'multidim' : True, # not really necessary in this case\n",
    "               'init_val' : [[1., 1.], [0, np.sqrt(2.)]],\n",
    "               'mu' : 0.,\n",
    "               'sigma' : 0.}\n",
    "src_params = {'type' : unit_types.source,\n",
    "              'init_val' : 0.,\n",
    "              'function' : lambda t: np.sin(t) }\n",
    "net = network(net_params)\n",
    "net.create(2, unit_params)"
   ]
  },
  {
   "cell_type": "markdown",
   "metadata": {},
   "source": [
    "Notice that two units are created, and their initial values are specified using a list where each element is another list."
   ]
  },
  {
   "cell_type": "code",
   "execution_count": null,
   "metadata": {},
   "outputs": [],
   "source": [
    "#times, data, _  = net.flat_run(10.)\n",
    "times, data, _  = net.run(10.)\n",
    "data = np.array(data)"
   ]
  },
  {
   "cell_type": "code",
   "execution_count": null,
   "metadata": {},
   "outputs": [],
   "source": [
    "# We can compare the results against the analytical solution (a sine function)\n",
    "fig = plt.figure(figsize=(15,8))\n",
    "plt.plot(times, data.transpose())\n",
    "plt.plot(times, np.sqrt(2.)*np.sin(2.*times), 'r')\n",
    "plt.legend(['0', '1', 'sin'])\n",
    "plt.show()"
   ]
  },
  {
   "cell_type": "markdown",
   "metadata": {},
   "source": [
    "### EXPLORATION\n",
    "This is an opportunity to test the accuracy of different solvers under different `min_delay` and `min_buff_size` settings."
   ]
  },
  {
   "cell_type": "code",
   "execution_count": null,
   "metadata": {},
   "outputs": [],
   "source": []
  }
 ],
 "metadata": {
  "kernelspec": {
   "display_name": "Python 3",
   "language": "python",
   "name": "python3"
  },
  "language_info": {
   "codemirror_mode": {
    "name": "ipython",
    "version": 3
   },
   "file_extension": ".py",
   "mimetype": "text/x-python",
   "name": "python",
   "nbconvert_exporter": "python",
   "pygments_lexer": "ipython3",
   "version": "3.5.2"
  }
 },
 "nbformat": 4,
 "nbformat_minor": 2
}
