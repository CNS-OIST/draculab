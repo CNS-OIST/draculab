{
 "cells": [
  {
   "cell_type": "markdown",
   "metadata": {},
   "source": [
    "# compare_accuracy.ipynb\n",
    "This notebook is used to compare the accuracy and simulation times as various parameters are varied.\n",
    "First, a reference network is simulated with high precision. This high precision comes from:\n",
    "1. Cubic spline interpolation for the buffer values.\n",
    "2. A relatively large minimum buffer size = 40.\n",
    "3. Use of the `odeint` solver with `rtol` = 1e-5, `atol` = 1e-5.\n",
    "4. A small `min_delay` (minimum delay) value (0.001).\n",
    "\n",
    "Each of these four factors will be altered individually. For each variation, the maximum difference in the unit activities with respect to the high-precision simulation will be reported, along with simulation time. In addition, variations for factors 2 and 3 will be run for flat networks."
   ]
  },
  {
   "cell_type": "markdown",
   "metadata": {},
   "source": [
    "## initial setup for the reference network\n",
    "Before running this simulation, the code in `units.py` was modified so that the `unit.get_act` method had the contents:\n",
    "\n",
    "    return self.interpolator(time)\n",
    "    \n",
    "Moreover, in `unit.__init__` there should be a line:\n",
    "\n",
    "    self.using_interp1d = True\n",
    "    \n",
    "Configuration of `interp1d` is in `unit.upd_interpolator`, and was set as:\n",
    "    \n",
    "    self.interpolator = interp1d(self.times, self.buffer, kind='cubic',\n",
    "                                 bounds_error=False, copy=False,\n",
    "                                 fill_value=\"extrapolate\", assume_sorted=True)\n",
    "                                \n",
    "The simulated network consists of an excitatory and an inhibitory population, called `e` and `i` respectively. Each population consists of 50 sigmoidal units, arranged in a 5x10 grid. Connections are made randomly, so that each excitatory unit sends projections to 10 other excitatory units (with delay 0.2), and to 15 inhibitory units (with delay 0.5). Each inhibitory unit sends projections to 10 excitatory units with delay 0.5.\n",
    "\n",
    "The simulation starts from random initial parameters, and lasts for 10 seconds. After 5 seconds a step-like input is provided half of the excitatory units, and this input is maintained until the end of the simulation."
   ]
  },
  {
   "cell_type": "code",
   "execution_count": null,
   "metadata": {},
   "outputs": [],
   "source": [
    "from tools.ei_net import *\n",
    "import pickle\n",
    "from scipy.interpolate import interp1d"
   ]
  },
  {
   "cell_type": "code",
   "execution_count": null,
   "metadata": {},
   "outputs": [],
   "source": [
    "def create_ref_net():\n",
    "    \"\"\" Returns an ei_net with parameter dictionaries for the high-accuracy configuration. \"\"\"\n",
    "    ei = ei_net()\n",
    "    # network dictionary\n",
    "    ei.set_param('net_params', 'min_delay', 0.001)\n",
    "    ei.set_param('net_params', 'min_buff_size', 40)\n",
    "    ei.set_param('net_params', 'rtol', 1e-5)\n",
    "    ei.set_param('net_params', 'atol', 1e-5)\n",
    "    # geometry dictionaries\n",
    "    ei.set_param('e_geom', 'rows', 5)\n",
    "    ei.set_param('e_geom', 'columns', 10)\n",
    "    ei.set_param('e_geom', 'jitter', 0.)\n",
    "    ei.set_param('i_geom', 'rows', 5)\n",
    "    ei.set_param('i_geom', 'columns', 10)\n",
    "    ei.set_param('i_geom', 'jitter', 0.)\n",
    "    ei.set_param('n', 'w_track', 5)\n",
    "    # connection dictionaries\n",
    "    ei.set_param('ee_conn', 'mask', {'circular': {'radius' : 5.}}) # large mask\n",
    "    ei.set_param('ee_conn', 'kernel', 1.) # deterministic kernel\n",
    "    ei.set_param('ee_conn', 'number_of_connections', 10)\n",
    "    ei.set_param('ee_conn', 'delays', {'linear': {'c': 0.2, 'a':0.}})\n",
    "    ei.set_param('ee_conn', 'weights', {'uniform': {'low': 0.5, 'high':0.5}})\n",
    "        \n",
    "    ei.set_param('ei_conn', 'mask', {'circular': {'radius' : 5.}})\n",
    "    ei.set_param('ei_conn', 'kernel', 1.)\n",
    "    ei.set_param('ei_conn', 'number_of_connections', 15)\n",
    "    ei.set_param('ei_conn', 'delays', {'linear': {'c': 0.5, 'a':0.}})\n",
    "    ei.set_param('ei_conn', 'weights', {'uniform': {'low': 0.2, 'high':0.2}})\n",
    "        \n",
    "    ei.set_param('ie_conn', 'mask', {'circular': {'radius' : 5.}})\n",
    "    ei.set_param('ie_conn', 'kernel', 1.)\n",
    "    ei.set_param('ie_conn', 'number_of_connections', 10)\n",
    "    ei.set_param('ie_conn', 'delays', {'linear': {'c': 0.5, 'a':0.}})\n",
    "    ei.set_param('ie_conn', 'weights', {'uniform': {'low': -0.4, 'high':-0.4}})\n",
    "        \n",
    "    ei.set_param('xe_conn', 'mask', {'circular': {'radius' : 5.}})\n",
    "    ei.set_param('xe_conn', 'kernel', 1.)\n",
    "    ei.set_param('xe_conn', 'number_of_connections', 25)\n",
    "    ei.set_param('xe_conn', 'delays', {'linear': {'c': 0.1, 'a':0.}})\n",
    "    ei.set_param('xe_conn', 'weights', {'uniform': {'low': 1., 'high':1.}})\n",
    "        \n",
    "    ei.set_param('ii_conn', 'number_of_connections', 0)\n",
    "    ei.set_param('xi_conn', 'number_of_connections', 0)\n",
    "        \n",
    "    return ei\n",
    "    "
   ]
  },
  {
   "cell_type": "code",
   "execution_count": null,
   "metadata": {},
   "outputs": [],
   "source": [
    "# here is one object to run the comparisons\n",
    "class comparator():\n",
    "    def __init__(self):\n",
    "        self.ei = create_ref_net()\n",
    "        \n",
    "    def build(self):\n",
    "        self.ei.build()\n",
    "    \n",
    "    def run(self, n_pres=4, pres_time=1., flat_run=False):\n",
    "        def inp_pat(pres, rows, columns):\n",
    "            return np.ones(rows*columns) if pres >= 2 else np.zeros(rows*columns)\n",
    "        self.ei.run(n_pres, pres_time, set_inp_pat=inp_pat, flat=flat_run)\n",
    "        \n",
    "    def compare(self, file_name='ref_data.pkl'):\n",
    "        \"\"\" Compare with the reference simulation. \"\"\"\n",
    "        # load the data for the reference simulation\n",
    "        opened_file = open(file_name, 'rb')\n",
    "        read_times, read_activs = pickle.load(opened_file)\n",
    "        opened_file.close()\n",
    "        # index used to isolate the activities of e and i populations\n",
    "        ei_idx = np.array(self.ei.e + self.ei.i)\n",
    "        read_activs = read_activs[ei_idx]\n",
    "        # use interpolation to set the activities at the same time points\n",
    "        if len(self.ei.all_times) <= len(read_times): # the ref sim has more points\n",
    "            ref_sol = interp1d(read_times, read_activs, axis=1)\n",
    "            times = self.ei.all_times\n",
    "            ref_activs = ref_sol(times)\n",
    "            comp_activs = self.ei.all_activs[ei_idx]\n",
    "        else:\n",
    "            comp_sol = interp1d(self.ei.all_times, self.ei.all_activs[ei_idx], axis=1)\n",
    "            times = read_times\n",
    "            comp_activs = comp_sol(times)\n",
    "            ref_activs = read_activs\n",
    "\n",
    "        diff = ref_activs - comp_activs\n",
    "        self.max_diff = np.amax(np.abs(diff))\n",
    "        self.mean_diff = np.mean(np.abs(diff))\n",
    "        print(\"Maximum difference in all values: %f \" % (self.max_diff))\n",
    "        print(\"Mean difference for all values: %f\" %(self.mean_diff))\n",
    "        \n",
    "        # Plotting the activity of the units with the maximum difference\n",
    "        unit, tpoint = np.unravel_index([np.argmax(np.abs(diff))], diff.shape)\n",
    "        fig = plt.figure(figsize=(20,10))\n",
    "        plt.plot(times, comp_activs[unit[0]], 'b')\n",
    "        plt.plot(times, ref_activs[unit[0]], 'r')"
   ]
  },
  {
   "cell_type": "code",
   "execution_count": null,
   "metadata": {},
   "outputs": [],
   "source": [
    "# Create and build the ei_net object\n",
    "ref_net = comparator()\n",
    "ref_net.build()\n",
    "ref_net.run()"
   ]
  },
  {
   "cell_type": "code",
   "execution_count": null,
   "metadata": {},
   "outputs": [],
   "source": [
    "# Save the simlation data for the reference network\n",
    "ref_data_file = open('ref_data.pkl', 'wb')\n",
    "pickle.dump((ref_net.ei.all_times, ref_net.ei.all_activs), ref_data_file)\n",
    "ref_data_file.close()"
   ]
  },
  {
   "cell_type": "code",
   "execution_count": null,
   "metadata": {},
   "outputs": [],
   "source": [
    "ref_net.ei.basic_plot()"
   ]
  },
  {
   "cell_type": "code",
   "execution_count": null,
   "metadata": {},
   "outputs": [],
   "source": [
    "#%matplotlib qt5\n",
    "ref_net.ei.act_anim(ref_net.ei.e, 0.6, slider=False)"
   ]
  },
  {
   "cell_type": "markdown",
   "metadata": {},
   "source": [
    "## Comparator class"
   ]
  },
  {
   "cell_type": "markdown",
   "metadata": {},
   "source": [
    "## Variation 1: change interpolation method\n",
    "**Variation 1a**: use `interp1d` with linear interpolation. All that is required is to change `kind` from `cubic` to `linear` in the `unit.upd_interpolator` method.\n",
    "\n",
    "--- \n",
    "\n",
    "**Variation 1b**: use draculab's own linear interpolator.\n",
    "In `unit.__init__` the variable `using_interp1d` was set to `False`, and in `unit.get_act` the content was:\n",
    "\n",
    "    return cython_get_act3(time, self.times[0], self.time_bit, self.buff_size, self.buffer)\n",
    "    \n",
    "Before each variation, make sure to reset the kernel and run the first 3 cells."
   ]
  },
  {
   "cell_type": "code",
   "execution_count": null,
   "metadata": {},
   "outputs": [],
   "source": [
    "# these variations don't require chnages to the comparator object\n",
    "var1a = comparator()\n",
    "var1a.build()\n",
    "var1a.run()\n",
    "var1a.compare()"
   ]
  },
  {
   "cell_type": "code",
   "execution_count": null,
   "metadata": {},
   "outputs": [],
   "source": [
    "var1b = comparator()\n",
    "var1b.build()\n",
    "var1b.run()\n",
    "var1b.compare()"
   ]
  },
  {
   "cell_type": "markdown",
   "metadata": {},
   "source": [
    "## Variation 2: change the minimum buffer size\n",
    "Interpolation was set back to cubic splines, as in the reference network.\n",
    "\n",
    "**Variation 2a**: set `min_buff_size = 20`\n",
    "\n",
    "**Variation 2b**: set `min_buff_size = 5`"
   ]
  },
  {
   "cell_type": "code",
   "execution_count": null,
   "metadata": {},
   "outputs": [],
   "source": [
    "var2a = comparator()\n",
    "var2a.ei.set_param('net_params', 'min_buff_size', 20)\n",
    "var2a.build()\n",
    "var2a.run()\n",
    "var2a.compare()"
   ]
  },
  {
   "cell_type": "code",
   "execution_count": null,
   "metadata": {},
   "outputs": [],
   "source": [
    "var2b = comparator()\n",
    "var2b.ei.set_param('net_params', 'min_buff_size', 5)\n",
    "var2b.build()\n",
    "var2b.run()\n",
    "var2b.compare()"
   ]
  },
  {
   "cell_type": "markdown",
   "metadata": {},
   "source": [
    "## Variation 3: change the tolerances of the `odeint` integrator\n",
    "\n",
    "**Variation 3a**: set them to 1e-3\n",
    "\n",
    "**Variation 3b**: set them to 1e-1\n",
    "\n",
    "**Variation 3c**: use the `euler` integration method.\n",
    "\n",
    "**Variation 3d**: use the `euler` integration method, and draculab's linear interpolation.\n",
    "\n",
    "**Variation 3e**: Use `euler` integration with a flat network."
   ]
  },
  {
   "cell_type": "code",
   "execution_count": null,
   "metadata": {},
   "outputs": [],
   "source": [
    "var3a = comparator()\n",
    "var3a.ei.set_param('net_params', 'rtol', 1e-3)\n",
    "var3a.ei.set_param('net_params', 'atol', 1e-3)\n",
    "var3a.build()\n",
    "var3a.run()\n",
    "var3a.compare()"
   ]
  },
  {
   "cell_type": "code",
   "execution_count": null,
   "metadata": {},
   "outputs": [],
   "source": [
    "var3b = comparator()\n",
    "var3b.ei.set_param('net_params', 'rtol', 0.1)\n",
    "var3b.ei.set_param('net_params', 'atol', 0.1)\n",
    "var3b.build()\n",
    "var3b.run()\n",
    "var3b.compare()"
   ]
  },
  {
   "cell_type": "code",
   "execution_count": null,
   "metadata": {},
   "outputs": [],
   "source": [
    "var3c = comparator()\n",
    "var3c.ei.set_param('e_pars', 'integ_meth', 'euler')\n",
    "var3c.ei.set_param('i_pars', 'integ_meth', 'euler')\n",
    "var3c.build()\n",
    "var3c.run()\n",
    "var3c.compare()"
   ]
  },
  {
   "cell_type": "code",
   "execution_count": null,
   "metadata": {},
   "outputs": [],
   "source": [
    "# the code in 'unit' was changed before running this\n",
    "var3d = comparator()\n",
    "var3d.ei.set_param('e_pars', 'integ_meth', 'euler')\n",
    "var3d.ei.set_param('i_pars', 'integ_meth', 'euler')\n",
    "var3d.build()\n",
    "var3d.run()\n",
    "var3d.compare()"
   ]
  },
  {
   "cell_type": "code",
   "execution_count": null,
   "metadata": {},
   "outputs": [],
   "source": [
    "# the code in 'unit' was changed before running this\n",
    "var3e = comparator()\n",
    "var3e.ei.set_param('e_pars', 'integ_meth', 'euler')\n",
    "var3e.ei.set_param('i_pars', 'integ_meth', 'euler')\n",
    "var3e.build()\n",
    "var3e.run(flat_run=True)\n",
    "var3e.compare()"
   ]
  },
  {
   "cell_type": "markdown",
   "metadata": {},
   "source": [
    "## Variation 4: Increase `min_delay`\n",
    "\n",
    "**Variation 4a**: set `min_delay=0.02`\n",
    "\n",
    "**Variation 4b**: set `min_delay=0.2`"
   ]
  },
  {
   "cell_type": "code",
   "execution_count": null,
   "metadata": {},
   "outputs": [],
   "source": [
    "var4a = comparator()\n",
    "var4a.ei.set_param('net_params', 'min_delay', 0.02)\n",
    "var4a.build()\n",
    "var4a.run()\n",
    "var4a.compare()"
   ]
  },
  {
   "cell_type": "code",
   "execution_count": null,
   "metadata": {},
   "outputs": [],
   "source": [
    "var4b = comparator()\n",
    "var4b.ei.set_param('net_params', 'min_delay', 0.2)\n",
    "var4b.build()\n",
    "var4b.run()\n",
    "var4b.compare()"
   ]
  },
  {
   "cell_type": "markdown",
   "metadata": {},
   "source": [
    "## Variation 5: extra configurations\n",
    "\n",
    "**Variation 5a**: Flat network using Euler integration and a very `min_delay` size can be both fast and accurate.\n",
    "\n",
    "**Variation 5b**: Euler integration can become unstable when increasing `min_delay`."
   ]
  },
  {
   "cell_type": "code",
   "execution_count": null,
   "metadata": {},
   "outputs": [],
   "source": [
    "var5a = comparator()\n",
    "var5a.ei.set_param('e_pars', 'integ_meth', 'euler')\n",
    "var5a.ei.set_param('i_pars', 'integ_meth', 'euler')\n",
    "var5a.ei.set_param('net_params', 'min_delay', 0.0001)\n",
    "var5a.build()\n",
    "var5a.run(flat_run=True)\n",
    "var5a.compare()"
   ]
  },
  {
   "cell_type": "code",
   "execution_count": null,
   "metadata": {},
   "outputs": [],
   "source": [
    "var5b = comparator()\n",
    "var5b.ei.set_param('e_pars', 'integ_meth', 'euler')\n",
    "var5b.ei.set_param('i_pars', 'integ_meth', 'euler')\n",
    "var5b.ei.set_param('net_params', 'min_delay', 0.01)\n",
    "var5b.build()\n",
    "var5b.run()\n",
    "var5b.compare()"
   ]
  },
  {
   "cell_type": "code",
   "execution_count": null,
   "metadata": {},
   "outputs": [],
   "source": [
    "simlog = []\n",
    "simlog.append('Reference network has total simulation time of 190.0531768798828 seconds')\n",
    "simlog.append('Variation 1a has a maximum difference of 0.000091')\n",
    "simlog.append('Variation 1a has a mean difference of 0.000001')\n",
    "simlog.append('Variation 1a has total execution time of 178.8929660320282 seconds')\n",
    "simlog.append('Variation 1b has a maximum difference of 0.015439')\n",
    "simlog.append('Variation 1b has a mean difference of 0.000068')\n",
    "simlog.append('Variation 1b has total execution time of 14.997355937957764 seconds')\n",
    "\n",
    "simlog.append('Variation 2a has a maximum difference of 0.000104')\n",
    "simlog.append('Variation 2a has a mean difference of 0.000001')\n",
    "simlog.append('Variation 2a has total execution time of 177.83505034446716 seconds')\n",
    "simlog.append('Variation 2b has a maximum difference of 0.000483')\n",
    "simlog.append('Variation 2b has a mean difference of 0.000008')\n",
    "simlog.append('Variation 2b has total execution time of 180.77159214019775 seconds')\n",
    "\n",
    "simlog.append('Variation 3a has a maximum difference of 0.003741')\n",
    "simlog.append('Variation 3a has a mean difference of 0.000034')\n",
    "simlog.append('Variation 3a has total execution time of 168.95755577087402 seconds')\n",
    "simlog.append('Variation 3b has a maximum difference of 0.021991')\n",
    "simlog.append('Variation 3b has a mean difference of 0.000089')\n",
    "simlog.append('Variation 3b has total execution time of 165.59642910957336 seconds')\n",
    "\n",
    "simlog.append('Variation 3c has a maximum difference of 0.001637 ')\n",
    "simlog.append('Variation 3c has a mean difference of 0.000012')\n",
    "simlog.append('Variation 3c has total execution time of 835.5624017715454 seconds')\n",
    "simlog.append('Variation 3d has a maximum difference of 0.014383')\n",
    "simlog.append('Variation 3d has a mean difference of 0.000051')\n",
    "simlog.append('Variation 3d has total execution time of 55.047154903411865 seconds')\n",
    "\n",
    "simlog.append('Variation 3e has a maximum difference of 0.004005')\n",
    "simlog.append('Variation 3e has a mean difference of 0.000019')\n",
    "simlog.append('Variation 3e has total execution time of 10.121306896209717 seconds')\n",
    "\n",
    "simlog.append('Variation 4a has a maximum difference of 76.03545141220093')\n",
    "simlog.append('Variation 4a has a mean difference of 0.519283 ')\n",
    "simlog.append('Variation 4a has total execution time of 0.004028 seconds')\n",
    "simlog.append('Variation 4b has a maximum difference of 0.982132')\n",
    "simlog.append('Variation 4b has a mean difference of 0.0.072404')\n",
    "simlog.append('Variation 4b has total execution time of 22.515557289123535 seconds')\n",
    "\n",
    "simlog.append('Variation 5a has a maximum difference of ')\n",
    "simlog.append('Variation 5a has a mean difference of ')\n",
    "simlog.append('Variation 5a has total execution time of seconds')\n"
   ]
  },
  {
   "cell_type": "code",
   "execution_count": null,
   "metadata": {},
   "outputs": [],
   "source": [
    "simlog"
   ]
  },
  {
   "cell_type": "code",
   "execution_count": null,
   "metadata": {},
   "outputs": [],
   "source": []
  }
 ],
 "metadata": {
  "kernelspec": {
   "display_name": "Python 3",
   "language": "python",
   "name": "python3"
  },
  "language_info": {
   "codemirror_mode": {
    "name": "ipython",
    "version": 3
   },
   "file_extension": ".py",
   "mimetype": "text/x-python",
   "name": "python",
   "nbconvert_exporter": "python",
   "pygments_lexer": "ipython3",
   "version": "3.5.2"
  }
 },
 "nbformat": 4,
 "nbformat_minor": 2
}
