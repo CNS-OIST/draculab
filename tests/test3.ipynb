{
 "cells": [
  {
   "cell_type": "code",
   "execution_count": 1,
   "metadata": {},
   "outputs": [],
   "source": [
    "# This notebook is used for testing learning in single units using the draculab module.\n",
    "\n",
    "# In particular, the Oja learning rule is tested by presenting a set of patterns. The learning rule\n",
    "# is expected to extract the leading eigenvector of the input correlation matrix.\n",
    "# In the last cell some of the connection methods are tested a bit.\n",
    "\n",
    "# By Sergio Verduzco Flores        June 2017"
   ]
  },
  {
   "cell_type": "code",
   "execution_count": 1,
   "metadata": {},
   "outputs": [
    {
     "name": "stdout",
     "output_type": "stream",
     "text": [
      "/home/z/projects/draculab\n"
     ]
    }
   ],
   "source": [
    "# This file is supposed to be in .../draculab/tests/ , so cd before importing:\n",
    "%cd ..\n",
    "\n",
    "from draculab import *\n",
    "import numpy as np\n",
    "import time\n",
    "from matplotlib import pyplot as plt\n",
    "from mpl_toolkits.axes_grid1 import ImageGrid"
   ]
  },
  {
   "cell_type": "code",
   "execution_count": 2,
   "metadata": {},
   "outputs": [],
   "source": [
    "def conn_mat(net):\n",
    "    # Get the connection matrix of a network in a Numpy array\n",
    "    conns = np.zeros((net.n_units,net.n_units))\n",
    "    for syn_list in net.syns:\n",
    "        for syn in syn_list:\n",
    "            conns[syn.postID,syn.preID] = syn.w\n",
    "    return conns\n",
    "\n",
    "def plot_stuff(data, fig):\n",
    "    fig.clf()\n",
    "    plt.close()\n",
    "    fig = plt.figure(figsize=(10,10))\n",
    "    for i in range(9):\n",
    "        ax = fig.add_subplot(3,3,i+1)\n",
    "        ax.clear()\n",
    "        plt.ylim(-0.01,0.5)\n",
    "        ax.plot(data[0], data[1][i], 'r', figure=fig)\n",
    "    fig.canvas.draw()\n",
    "    plt.show()\n",
    "    "
   ]
  },
  {
   "cell_type": "code",
   "execution_count": 3,
   "metadata": {
    "scrolled": false
   },
   "outputs": [
    {
     "name": "stdout",
     "output_type": "stream",
     "text": [
      "Presentation 0 weight Diff. Sq. norm: 0.001181787008701665\n",
      "Presentation 10 weight Diff. Sq. norm: 0.00105682121965509\n",
      "Presentation 20 weight Diff. Sq. norm: 0.0009942956416612275\n",
      "Presentation 30 weight Diff. Sq. norm: 0.0019285031913741214\n",
      "Presentation 40 weight Diff. Sq. norm: 0.0005659619504033377\n",
      "Presentation 50 weight Diff. Sq. norm: 0.0010029117442984566\n",
      "Presentation 60 weight Diff. Sq. norm: 0.001666096784782307\n",
      "Presentation 70 weight Diff. Sq. norm: 0.0007449874138442632\n",
      "Presentation 80 weight Diff. Sq. norm: 0.001925092710768139\n",
      "Presentation 90 weight Diff. Sq. norm: 0.0012031040376366867\n",
      "Execution time: 5.930403232574463 seconds\n"
     ]
    }
   ],
   "source": [
    "\n",
    "################# TEST 1 ####################\n",
    "######### 1) Create a network\n",
    "net_params = {'min_delay' : 0.05, 'min_buff_size' : 4 } # parameter dictionary for the network\n",
    "n1 = network(net_params)\n",
    "\n",
    "######### 2) Put some units in the network\n",
    "# default parameters for the units\n",
    "pars = { 'coordinates' : np.array([0., 0., 0.]), 'function' : lambda x : None,\n",
    "         'delay' : 1., 'init_val' : 0.5, 'tau_fast' : 1.,\n",
    "         'slope' : 1., 'thresh' : 0.0, 'tau' : 0.02,\n",
    "         'type' : unit_types.source } \n",
    "inputs = n1.create(9,pars) # creating nine input sources\n",
    "pars['type'] = unit_types.linear\n",
    "unit = n1.create(1,pars) # creating one linear unit\n",
    "\n",
    "######### 3) Connect the units in the network\n",
    "conn_spec = {'rule' : 'all_to_all', 'delay' : 1.,\n",
    "             'allow_autapses' : False} # connection specification dictionary\n",
    "syn_pars = {'init_w' : {'distribution':'uniform', 'low':0.1, 'high':0.5}, \n",
    "            'lrate' : 0.02, 'type' : synapse_types.oja} # synapse parameters dictionary\n",
    "n1.connect(inputs, unit, conn_spec, syn_pars)\n",
    "\n",
    "######### 4) Running and visualizing \n",
    "\n",
    "####### SETTING THE INPUT FUNCTIONS\n",
    "### You are going to present 4 input patterns that randomly switch over time.\n",
    "### Imagine the 9 inputs arranged in a grid, like a tic-tac-toe board, numbered\n",
    "### from left to right and from top to bottom:\n",
    "### 1 2 3\n",
    "### 4 5 6\n",
    "### 7 8 9\n",
    "### You'll have input patterns\n",
    "### 0 X 0   0 0 0   X 0 X   0 X 0\n",
    "### 0 X 0   X X X   0 0 0   X 0 X\n",
    "### 0 X 0   0 0 0   X 0 X   0 X 0\n",
    "### The input is always a normalized linear combination of one or two of these patterns.\n",
    "### Pattern pat1 is presented alone for t_pat time units, and then there is a transition period\n",
    "### during which pat1 becomes pat2 by presenting at time t an input \n",
    "### c*(t_pat+t_trans - t)*pat1 + c*(t - tpat)*pat2\n",
    "### where c = 1/t_trans, and t_trans is the duration of the transition period. \n",
    "### At time t_pat+t_trans, pat2 is presented by itself for t_pat time units.\n",
    "### \n",
    "# here are the patterns as arrays\n",
    "patterns = [np.zeros(9) for i in range(4)]\n",
    "patterns[0] = np.array([0., 1., 0., 0., 1., 0., 0., 1., 0.])/3.\n",
    "patterns[1] = np.array([0., 0., 0., 1., 1., 1., 0., 0., 0.])/3.\n",
    "patterns[2] = np.array([1., 0., 1., 0., 0., 0., 1., 0., 1.])/4.\n",
    "patterns[3] = np.array([0., 1., 0., 1., 0., 1., 0., 1., 0.])/4.\n",
    "\n",
    "n_pres = 100  # number of times some pattern will be presented\n",
    "t_pat = 10. # as above\n",
    "t_trans = 4.\n",
    "c = 1/t_trans # auxiliary variable\n",
    "pats = range(4) # auxiliary variable\n",
    "cur_pat = np.random.choice(pats)  # pattern currently presented\n",
    "next_pat = np.random.choice(pats) # next pattern to be presented\n",
    "last_t = 0.\n",
    "weights = np.array(n1.units[9].get_weights(n1.sim_time)) # initial weights of the linear unit\n",
    "start_time = time.time()\n",
    "\n",
    "def make_fun1(idx):  \n",
    "    # This creates a constant function with value: patterns[cur_pat][idx]\n",
    "    # thus avoiding a scoping problem that is sometimes hard to see:\n",
    "    # https://eev.ee/blog/2011/04/24/gotcha-python-scoping-closures/\n",
    "    fun = lambda t : patterns[cur_pat][idx]\n",
    "    return fun\n",
    "\n",
    "def make_fun2(idx, last_t):\n",
    "    # Creates a function for the pattern transition\n",
    "    fun = lambda t : c * ( (t_trans - (t-last_t))*patterns[cur_pat][idx] +\n",
    "                           (t-last_t)*patterns[next_pat][idx] )\n",
    "    return fun\n",
    "\n",
    "fig = plt.figure(figsize=(10,10))\n",
    "plt.ion()\n",
    "\n",
    "for pres in range(n_pres):\n",
    "# For each cycle you'll set the input functions and simulate, once with a single pattern,\n",
    "# once with a mix of patterns, as described above\n",
    "    \n",
    "    # first, we present a single pattern\n",
    "    for u in range(9):\n",
    "        n1.units[inputs[u]].set_function( make_fun1(u) )\n",
    "        \n",
    "    #sim_dat = n1.run(t_pat)  # simulating\n",
    "    sim_dat = n1.flat_run(t_pat,3)  # simulating\n",
    "    last_t = n1.sim_time # simulation time after last pattern presentation\n",
    "    \n",
    "    #plot_stuff(sim_dat,fig)\n",
    "    #input('Fixed pattern presented: ' + str(cur_pat))\n",
    "    #plt.plot(sim_dat[0], sim_dat[1][9])\n",
    "    #plt.show()\n",
    "    \n",
    "    # now one pattern turns into the next\n",
    "    for u in range(9):\n",
    "        n1.units[inputs[u]].set_function(make_fun2(u, last_t))\n",
    "    \n",
    "    #sim_dat = n1.run(t_trans) # simulating\n",
    "    sim_dat = n1.flat_run(t_trans,3) # simulating\n",
    "    \n",
    "    #plot_stuff(sim_dat,fig)\n",
    "    #input('Transitioned to pattern: ' + str(next_pat))\n",
    "    #plt.plot(sim_dat[0], sim_dat[1][9])\n",
    "    #plt.show()\n",
    "\n",
    "    # choose the pattern you'll present next\n",
    "    cur_pat = next_pat\n",
    "    next_pat = np.random.choice(pats)\n",
    "    \n",
    "    new_weights = np.array(n1.units[9].get_weights(n1.sim_time))\n",
    "    weight_diff = new_weights - weights\n",
    "    weights = new_weights\n",
    "    if pres%10 == 0:\n",
    "        print('Presentation ' + str(pres) + ' weight Diff. Sq. norm: ' + str(sum(weight_diff*weight_diff)))\n",
    "\n",
    "print('Execution time: %s seconds' % (time.time() - start_time))  # around 7.2 seconds"
   ]
  },
  {
   "cell_type": "code",
   "execution_count": 4,
   "metadata": {
    "scrolled": false
   },
   "outputs": [
    {
     "name": "stdout",
     "output_type": "stream",
     "text": [
      "Max eigenvalue: 0.6021883298706364, index: 2\n",
      "['0.00', '0.43', '0.00', '0.43', '0.50', '0.43', '0.00', '0.43', '0.00']\n",
      "['0.04', '0.41', '0.05', '0.48', '0.46', '0.47', '0.04', '0.41', '0.04']\n"
     ]
    },
    {
     "data": {
      "text/plain": [
       "<Figure size 720x720 with 0 Axes>"
      ]
     },
     "metadata": {},
     "output_type": "display_data"
    },
    {
     "data": {
      "image/png": "[encoded data removed]",
      "text/plain": [
       "<Figure size 720x720 with 18 Axes>"
      ]
     },
     "metadata": {},
     "output_type": "display_data"
    },
    {
     "data": {
      "image/png": "[encoded data removed]",
      "text/plain": [
       "<Figure size 864x360 with 4 Axes>"
      ]
     },
     "metadata": {},
     "output_type": "display_data"
    }
   ],
   "source": [
    "#### Comparing the weight vector with the leading eigenvector of the correlation matrix\n",
    "#######################################################################################\n",
    "\n",
    "weights = np.array(n1.units[9].get_weights(n1.sim_time))\n",
    "\n",
    "# Obtaining eigenvectors of the correlation matrix\n",
    "#pat_mat = np.matrix(patterns)\n",
    "#corr = (pat_mat.T)*pat_mat # input correlation matrix\n",
    "pat_arr = np.array(patterns)\n",
    "corr = np.matmul(pat_arr.transpose(), pat_arr)\n",
    "eigs = np.linalg.eig(corr) # extracting eigenvalues and eigenvectors\n",
    "evals = eigs[0] # eigenvalues\n",
    "evecs = [eigs[1][:,i] for i in range(9)] # eigenvectors\n",
    "\n",
    "# obtaining the leading eigenvector\n",
    "max_index, max_value = max(enumerate(evals), key=lambda p:p[1])\n",
    "print('Max eigenvalue: ' + str(max_value) + ', index: ' + str(max_index))\n",
    "max_evector = evecs[max_index]\n",
    "    \n",
    "# plotting all eigenvectors in 3x3 format\n",
    "fig3 = plt.figure(figsize=(10,10))\n",
    "ev_grid = ImageGrid(fig3, 111, nrows_ncols=(3,3), axes_pad=0.05)\n",
    "for idx,vec in enumerate(evecs):\n",
    "    vec.shape = 3,3\n",
    "    ev_grid[idx].imshow(vec)\n",
    "\n",
    "# plotting leading eigenvector VS weight vector in 3x3 format\n",
    "fig4 = plt.figure(figsize=(12,5))\n",
    "sp_ev_grid = ImageGrid(fig4, 111, nrows_ncols=(1,2), axes_pad=0.2)\n",
    "for idx,vec in enumerate([-max_evector, weights]):\n",
    "    vec.shape = 3,3\n",
    "    sp_ev_grid[idx].imshow(vec)\n",
    "    print([\"%.2f\" % float(v[0]) for v in vec.reshape(9,1)])\n"
   ]
  },
  {
   "cell_type": "code",
   "execution_count": 5,
   "metadata": {},
   "outputs": [
    {
     "name": "stdout",
     "output_type": "stream",
     "text": [
      "['0.0', '0.0', '0.0', '0.0', '0.0', '0.0', '0.0', '0.0', '0.0', '0.0', '0.0', '0.0', '0.0', '0.0']\n",
      "['0.0', '0.0', '0.0', '0.0', '0.0', '0.0', '0.0', '0.0', '0.0', '0.0', '0.0', '0.0', '0.0', '0.0']\n",
      "['0.0', '0.0', '0.0', '0.0', '0.0', '0.0', '0.0', '0.0', '0.0', '0.0', '0.0', '0.0', '0.0', '0.0']\n",
      "['0.0', '0.0', '0.0', '0.0', '0.0', '0.0', '0.0', '0.0', '0.0', '0.0', '0.0', '0.0', '0.0', '0.0']\n",
      "['0.0', '0.0', '0.0', '0.0', '0.0', '0.0', '0.0', '0.0', '0.0', '0.0', '0.0', '0.6', '0.3', '0.0']\n",
      "['0.0', '0.0', '0.0', '0.0', '0.0', '0.0', '0.0', '0.4', '0.0', '0.7', '0.0', '0.0', '0.0', '0.0']\n",
      "['1.0', '0.0', '0.0', '0.0', '0.0', '0.0', '0.0', '0.3', '0.0', '0.6', '0.0', '0.0', '0.0', '0.0']\n",
      "['0.0', '1.0', '0.0', '0.0', '0.0', '0.0', '0.0', '0.0', '0.3', '0.0', '0.0', '0.0', '0.2', '0.3']\n",
      "['0.0', '0.0', '1.0', '0.0', '0.5', '0.0', '0.4', '0.0', '0.5', '0.0', '0.0', '0.0', '0.3', '0.0']\n",
      "['0.0', '0.0', '0.0', '1.0', '0.2', '0.1', '0.0', '0.0', '0.0', '0.0', '0.3', '0.0', '0.0', '0.0']\n",
      "['0.0', '0.0', '0.0', '0.0', '0.0', '0.0', '0.0', '0.0', '0.1', '0.0', '0.5', '0.0', '0.6', '0.0']\n",
      "['0.0', '0.0', '0.0', '0.0', '0.3', '0.0', '0.0', '0.5', '0.3', '0.0', '0.0', '0.0', '0.0', '0.0']\n",
      "['0.0', '0.0', '0.0', '0.0', '0.0', '0.6', '0.0', '0.4', '0.0', '0.0', '0.0', '0.0', '0.0', '0.0']\n",
      "['0.0', '0.0', '0.0', '0.0', '0.0', '0.0', '0.5', '0.0', '0.3', '0.0', '0.0', '0.0', '0.7', '0.0']\n"
     ]
    },
    {
     "data": {
      "text/plain": [
       "<matplotlib.image.AxesImage at 0x7fc0b0c1e7f0>"
      ]
     },
     "execution_count": 5,
     "metadata": {},
     "output_type": "execute_result"
    },
    {
     "data": {
      "image/png": "[encoded data removed]",
      "text/plain": [
       "<Figure size 864x864 with 2 Axes>"
      ]
     },
     "metadata": {},
     "output_type": "display_data"
    }
   ],
   "source": [
    "# testing conn_spec rules and syn_par specifications\n",
    "net_params = {'min_delay' : 0.1, 'min_buff_size' : 4 } # parameter dictionary for the network\n",
    "n2 = network(net_params)\n",
    "\n",
    "######### 2) Put some units in the network\n",
    "# default parameters for the units\n",
    "pars = { 'coordinates' : np.array([0., 0., 0.]), 'function' : lambda x:None,\n",
    "         'delay' : 1., 'init_val' : 0.5, 'tau_fast' : 1.,\n",
    "         'slope' : 1., 'thresh' : 0.0, 'tau' : 0.02,\n",
    "         'type' : unit_types.source } \n",
    "inputs = n2.create(4,pars) # creating input sources\n",
    "pars['type'] = unit_types.sigmoidal\n",
    "sigs = n2.create(10,pars) # creating sig units\n",
    "\n",
    "######### 3) Connect the units in the network\n",
    "conn_spec = {'rule' : 'one_to_one', 'indegree' : 4, 'outdegree' : 5, 'delay' : 1.,\n",
    "             'allow_autapses' : True, 'allow_multapses' : True } # connection specification dictionary\n",
    "syn_pars = {'init_w' : 1, 'lrate' : 0.01, \n",
    "            'type' : synapse_types.oja} # synapse parameters dictionary\n",
    "n2.connect(inputs, sigs[2:6], conn_spec, syn_pars)\n",
    "#print(conn_mat(n2))\n",
    "syn_pars['init_w'] = {\"distribution\" : 'uniform', 'low' : 0.1, 'high' : 0.7}\n",
    "conn_spec['rule'] = 'fixed_indegree'\n",
    "n2.connect(sigs, sigs, conn_spec, syn_pars)\n",
    "C = conn_mat(n2)\n",
    "for row in C:\n",
    "    print([\"{0:0.1f}\".format(i) for i in row])\n",
    "\n",
    "fig5 = plt.figure(figsize=(12,12))\n",
    "conn_grid = ImageGrid(fig5, 111, nrows_ncols=(1,1), axes_pad=0.2)\n",
    "conn_grid[0].imshow(C)\n"
   ]
  },
  {
   "cell_type": "code",
   "execution_count": 7,
   "metadata": {},
   "outputs": [
    {
     "name": "stdout",
     "output_type": "stream",
     "text": [
      " (4,13)\n",
      " (5,13)\n",
      " (12,13)\n",
      " (10,13)\n"
     ]
    }
   ],
   "source": [
    "for syn in n2.syns[sigs[9]]:\n",
    "    print(\" (%d,%d)\" % (syn.preID, syn.postID))"
   ]
  },
  {
   "cell_type": "code",
   "execution_count": null,
   "metadata": {},
   "outputs": [],
   "source": []
  }
 ],
 "metadata": {
  "kernelspec": {
   "display_name": "Python 3",
   "language": "python",
   "name": "python3"
  },
  "language_info": {
   "codemirror_mode": {
    "name": "ipython",
    "version": 3
   },
   "file_extension": ".py",
   "mimetype": "text/x-python",
   "name": "python",
   "nbconvert_exporter": "python",
   "pygments_lexer": "ipython3",
   "version": "3.5.2"
  }
 },
 "nbformat": 4,
 "nbformat_minor": 2
}
