{
 "cells": [
  {
   "cell_type": "code",
   "execution_count": 3,
   "metadata": {
    "collapsed": false
   },
   "outputs": [
    {
     "ename": "ImportError",
     "evalue": "No module named 'dill'",
     "output_type": "error",
     "traceback": [
      "\u001b[0;31m---------------------------------------------------------------------------\u001b[0m",
      "\u001b[0;31mImportError\u001b[0m                               Traceback (most recent call last)",
      "\u001b[0;32m<ipython-input-3-ebaeeac9f9eb>\u001b[0m in \u001b[0;36m<module>\u001b[0;34m()\u001b[0m\n\u001b[1;32m     11\u001b[0m \"\"\"\n\u001b[1;32m     12\u001b[0m \u001b[0;34m\u001b[0m\u001b[0m\n\u001b[0;32m---> 13\u001b[0;31m \u001b[0;32mimport\u001b[0m \u001b[0mdill\u001b[0m \u001b[0;32mas\u001b[0m \u001b[0mpickle\u001b[0m\u001b[0;34m\u001b[0m\u001b[0m\n\u001b[0m\u001b[1;32m     14\u001b[0m \u001b[0mpickle\u001b[0m\u001b[0;34m.\u001b[0m\u001b[0msettings\u001b[0m\u001b[0;34m[\u001b[0m\u001b[0;34m'recurse'\u001b[0m\u001b[0;34m]\u001b[0m \u001b[0;34m=\u001b[0m \u001b[0;32mTrue\u001b[0m\u001b[0;34m\u001b[0m\u001b[0m\n\u001b[1;32m     15\u001b[0m \u001b[0;31m#pickle.debug.trace(True)\u001b[0m\u001b[0;34m\u001b[0m\u001b[0;34m\u001b[0m\u001b[0m\n",
      "\u001b[0;31mImportError\u001b[0m: No module named 'dill'"
     ]
    }
   ],
   "source": [
    "#!/usr/bin/env python\n",
    "#\n",
    "# Author: Mike McKerns (mmckerns @caltech and @uqfoundation)\n",
    "# Copyright (c) 2008-2016 California Institute of Technology.\n",
    "# Copyright (c) 2016-2017 The Uncertainty Quantification Foundation.\n",
    "# License: 3-clause BSD.  The full license text is available at:\n",
    "#  - https://github.com/uqfoundation/dill/blob/master/LICENSE\n",
    "\"\"\"\n",
    "demonstrate dill's ability to pickle different python types\n",
    "test pickling of all Python Standard Library objects (currently: CH 1-14 @ 2.7)\n",
    "\"\"\"\n",
    "\n",
    "import dill as pickle\n",
    "pickle.settings['recurse'] = True\n",
    "#pickle.debug.trace(True)\n",
    "#import pickle\n",
    "\n",
    "# get all objects for testing\n",
    "from dill import load_types, objects, extend\n",
    "load_types(pickleable=True,unpickleable=False)\n",
    "\n",
    "# uncomment the next two lines to test cloudpickle\n",
    "#extend(False)\n",
    "#import cloudpickle as pickle\n",
    "\n",
    "# helper objects\n",
    "class _class:\n",
    "    def _method(self):\n",
    "        pass\n",
    "\n",
    "# objects that *fail* if imported\n",
    "special = {}\n",
    "special['LambdaType'] = _lambda = lambda x: lambda y: x\n",
    "special['MethodType'] = _method = _class()._method\n",
    "special['UnboundMethodType'] = _class._method\n",
    "objects.update(special)\n",
    "\n",
    "def pickles(name, exact=False):\n",
    "    \"\"\"quick check if object pickles with dill\"\"\"\n",
    "    obj = objects[name]\n",
    "    try:\n",
    "        pik = pickle.loads(pickle.dumps(obj))\n",
    "        if exact:\n",
    "            try:\n",
    "                assert pik == obj\n",
    "            except AssertionError:\n",
    "                assert type(obj) == type(pik)\n",
    "                print (\"weak: %s %s\" % (name, type(obj)))\n",
    "        else:\n",
    "            assert type(obj) == type(pik)\n",
    "    except Exception:\n",
    "        print (\"fails: %s %s\" % (name, type(obj)))\n",
    "\n",
    "\n",
    "def test_objects():\n",
    "    for member in objects.keys():\n",
    "       #pickles(member, exact=True)\n",
    "        pickles(member, exact=False)\n",
    "\n",
    "\n",
    "if __name__ == '__main__':\n",
    "    test_objects()"
   ]
  },
  {
   "cell_type": "code",
   "execution_count": null,
   "metadata": {
    "collapsed": true
   },
   "outputs": [],
   "source": []
  }
 ],
 "metadata": {
  "kernelspec": {
   "display_name": "Python 3",
   "language": "python",
   "name": "python3"
  },
  "language_info": {
   "codemirror_mode": {
    "name": "ipython",
    "version": 3
   },
   "file_extension": ".py",
   "mimetype": "text/x-python",
   "name": "python",
   "nbconvert_exporter": "python",
   "pygments_lexer": "ipython3",
   "version": "3.5.2"
  }
 },
 "nbformat": 4,
 "nbformat_minor": 2
}
