{
 "cells": [
  {
   "cell_type": "markdown",
   "metadata": {},
   "source": [
    " ## test10.ipynb\n",
    "\n",
    "Testing the various versions of the double sigma units, and networks that use them.\n",
    "\n",
    "By `Sergio Verduzco`  \n",
    "May, June 2018"
   ]
  },
  {
   "cell_type": "code",
   "execution_count": 1,
   "metadata": {},
   "outputs": [
    {
     "name": "stdout",
     "output_type": "stream",
     "text": [
      "/home/z/projects/draculab\n"
     ]
    }
   ],
   "source": [
    "%cd ..\n",
    "from draculab import *\n",
    "import numpy as np"
   ]
  },
  {
   "cell_type": "code",
   "execution_count": 2,
   "metadata": {},
   "outputs": [],
   "source": [
    "net_params = {'min_delay' : 0.02, 'min_buff_size' : 8 } # parameter dictionary for the network\n",
    "unit_params = {'type' : unit_types.double_sigma, \n",
    "               'init_val' : 0.5, \n",
    "               'n_ports' : 3,\n",
    "               'slope_out' : 1.,\n",
    "               'thresh_out' : 0.,\n",
    "               'tau' : 0.01,\n",
    "               'branch_params' : {\n",
    "                   'branch_w' : [0.2, 0.3, 0.5],\n",
    "                   'slopes' : 1.,\n",
    "                   'threshs' : 0.\n",
    "                                  }\n",
    "              }\n",
    "net = network(net_params)  # creating a newtwork\n",
    "units = net.create(2,unit_params) # source units"
   ]
  },
  {
   "cell_type": "code",
   "execution_count": 5,
   "metadata": {},
   "outputs": [
    {
     "ename": "AttributeError",
     "evalue": "'double_sigma' object has no attribute 'port_idx'",
     "output_type": "error",
     "traceback": [
      "\u001b[0;31m---------------------------------------------------------------------------\u001b[0m",
      "\u001b[0;31mAttributeError\u001b[0m                            Traceback (most recent call last)",
      "\u001b[0;32m<ipython-input-5-8dd4ae3984e4>\u001b[0m in \u001b[0;36m<module>\u001b[0;34m()\u001b[0m\n\u001b[0;32m----> 1\u001b[0;31m \u001b[0mnet\u001b[0m\u001b[0;34m.\u001b[0m\u001b[0munits\u001b[0m\u001b[0;34m[\u001b[0m\u001b[0;36m0\u001b[0m\u001b[0;34m]\u001b[0m\u001b[0;34m.\u001b[0m\u001b[0mport_idx\u001b[0m\u001b[0;34m\u001b[0m\u001b[0m\n\u001b[0m",
      "\u001b[0;31mAttributeError\u001b[0m: 'double_sigma' object has no attribute 'port_idx'"
     ]
    }
   ],
   "source": [
    "net.units[0].port_idx"
   ]
  },
  {
   "cell_type": "code",
   "execution_count": null,
   "metadata": {},
   "outputs": [],
   "source": []
  }
 ],
 "metadata": {
  "kernelspec": {
   "display_name": "Python 3",
   "language": "python",
   "name": "python3"
  },
  "language_info": {
   "codemirror_mode": {
    "name": "ipython",
    "version": 3
   },
   "file_extension": ".py",
   "mimetype": "text/x-python",
   "name": "python",
   "nbconvert_exporter": "python",
   "pygments_lexer": "ipython3",
   "version": "3.5.2"
  }
 },
 "nbformat": 4,
 "nbformat_minor": 2
}
