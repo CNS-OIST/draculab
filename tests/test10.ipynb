{
 "cells": [
  {
   "cell_type": "markdown",
   "metadata": {},
   "source": [
    " ## test10.ipynb\n",
    "\n",
    "Testing the various versions of the double sigma units, and networks that use them.\n",
    "\n",
    "By `Sergio Verduzco`  \n",
    "May, June 2018"
   ]
  },
  {
   "cell_type": "code",
   "execution_count": null,
   "metadata": {},
   "outputs": [],
   "source": [
    "%cd ..\n",
    "from draculab import *\n",
    "import numpy as np"
   ]
  },
  {
   "cell_type": "markdown",
   "metadata": {},
   "source": [
    "### Test 0\n",
    "Check the `port_idx` lists created after connecting double sigma units."
   ]
  },
  {
   "cell_type": "code",
   "execution_count": null,
   "metadata": {
    "code_folding": []
   },
   "outputs": [],
   "source": [
    "# Create two groups of 3 double sigma units \n",
    "net_params = {'min_delay' : 0.02, 'min_buff_size' : 8 } # parameter dictionary for the network\n",
    "unit_params = {'type' : unit_types.double_sigma, \n",
    "               'init_val' : 0.5, \n",
    "               'n_ports' : 3,\n",
    "               'slope' : 1.,\n",
    "               'thresh' : 0.,\n",
    "               'tau' : 0.01,\n",
    "               'phi' : 0,\n",
    "               'branch_params' : {\n",
    "                   'branch_w' : [0.2, 0.3, 0.5],\n",
    "                   'slopes' : 1.,\n",
    "                   'threshs' : 0.\n",
    "                                  }\n",
    "              }\n",
    "net = network(net_params)  # creating a newtwork\n",
    "units1 = net.create(3,unit_params) # first group\n",
    "units2 = net.create(3,unit_params) # second group\n",
    "\n",
    "# connect the units\n",
    "conn_spec = { 'rule' : 'all_to_all',\n",
    "              'delay' : net_params['min_delay'],\n",
    "              'allow_autapses' : True }\n",
    "syn_spec = { 'type' : synapse_types.static,\n",
    "             'init_w' : 1.0,\n",
    "             'inp_ports' : [0, 1, 2]*3 } # the 3 units will project to ports 0, 1, 2\n",
    "net.connect(units1, units2, conn_spec, syn_spec) \n",
    "\n",
    "syn_spec['inp_ports'] = [0, 2, 0]*3 # the 3 units project to ports 0, 2, 0\n",
    "net.connect(units2, units1, conn_spec, syn_spec) # second unit projects to port 1\n",
    "\n",
    "syn_spec['inp_ports'] = 0\n",
    "net.connect([units1[0]], units1, conn_spec, syn_spec)\n",
    "\n",
    "# Predicting these is a mind twister. You should have: \n",
    "# net.units1[0].port_idx = [ [0, 1, 2, 3], [], [] ]   -- remember these are indexes, not unit IDs\n",
    "# net.units1[1].port_idx = [ [3], [], [0, 1, 2] ]\n",
    "# net.units1[2].port_idx = [ [0, 1, 2, 3], [], []]\n",
    "# net.units2[0].port_idx = [ [0, 1, 2], [], [] ]\n",
    "# net.units2[1].port_idx = [ [], [0, 1, 2], [] ]\n",
    "# net.units2[2].port_idx = [ [], [], [0, 1, 2] ]\n",
    "\n",
    "units1_port_idx = ( [ [0, 1, 2, 3], [], [] ], [ [3], [], [0, 1, 2] ], [ [0, 1, 2, 3], [], [] ] )\n",
    "units2_port_idx = ( [ [0, 1, 2], [], [] ], [ [], [0, 1, 2], [] ], [ [], [], [0, 1, 2] ] )\n"
   ]
  },
  {
   "cell_type": "code",
   "execution_count": null,
   "metadata": {
    "code_folding": []
   },
   "outputs": [],
   "source": [
    "# compare with predicted values\n",
    "for i in [0,1,2]:\n",
    "    print(units1_port_idx[i] == net.units[units1[i]].port_idx)\n",
    "    print(units2_port_idx[i] == net.units[units2[i]].port_idx)\n"
   ]
  },
  {
   "cell_type": "markdown",
   "metadata": {},
   "source": [
    "### Test 1\n",
    "Check the get_mp_input_sum function for `double_sigma` units"
   ]
  },
  {
   "cell_type": "code",
   "execution_count": null,
   "metadata": {},
   "outputs": [],
   "source": [
    "print(net.units[1].get_mp_inputs(0.))\n",
    "print(net.units[1].get_mp_weights(0.))"
   ]
  },
  {
   "cell_type": "code",
   "execution_count": null,
   "metadata": {
    "code_folding": []
   },
   "outputs": [],
   "source": [
    "# compare get_mp_inpt_sum against explicitly calculated values\n",
    "f = lambda x: 1./(1. + np.exp(-x))\n",
    "ohs = np.array([0.2,0.3,0.5])\n",
    "for unit in range(6):\n",
    "    inputs = net.units[unit].get_mp_inputs(0.)\n",
    "    weights = net.units[unit].get_mp_weights(0.)\n",
    "    ret1 = sum([ o*f(np.dot(w,i)) for o,w,i in zip(ohs, inputs, weights) ])\n",
    "    ret2 = net.units[unit].get_mp_input_sum(0.)\n",
    "    print(abs(ret1 - ret2) < 1e-5)"
   ]
  },
  {
   "cell_type": "code",
   "execution_count": null,
   "metadata": {
    "code_folding": [
     0
    ]
   },
   "outputs": [],
   "source": [
    "# In this cell you can compare the time of the two versions of get_mp_input_sum\n",
    "%timeit [net.units[i].get_mp_input_sum(0.) for i in range(6)]\n",
    "# Using version 1 (big zip): 78.7 µs ± 1.49 µs per loop (mean ± std. dev. of 7 runs, 10000 loops each)\n",
    "# Using version 2 (accumulator): 83.8 µs ± 3.67 µs per loop (mean ± std. dev. of 7 runs, 10000 loops each)"
   ]
  },
  {
   "cell_type": "markdown",
   "metadata": {},
   "source": [
    "### Test 2\n",
    "A single `double_sigma` unit implementing an AND constraint on its branches.  \n",
    "__Proceed here directly after reset.__"
   ]
  },
  {
   "cell_type": "code",
   "execution_count": null,
   "metadata": {
    "code_folding": []
   },
   "outputs": [],
   "source": [
    "# create the network using the ei_net tools\n",
    "%cd ..\n",
    "from tools.ei_net import *"
   ]
  },
  {
   "cell_type": "markdown",
   "metadata": {},
   "source": [
    "__Creating the input patterns__  \n",
    "The input layer is simply 4 rows and 4 columns.\n",
    "Each or the columns is an input to the corresponding branch. Your unit has 4 input branches, each with 4 synapses.\n",
    "The idea is to have 5 presentations. On the i-th presentation the input will match the weight vectors of i-1 branches.\n",
    "This gives an idea of the activation profile for the unit.\n",
    "The input weight vector matrix is:\n",
    "\n",
    " $\\begin{bmatrix} .5 & 0. & 0. & .5 \\\\\n",
    "                  .5 & 0. & .5 & 0. \\\\\n",
    "                  0. & .5 & 0. & .5 \\\\\n",
    "                  0. & .5 & .5 & 0.\n",
    " \\end{bmatrix}$\n",
    " \n",
    "If the sum of the input vector's elements is 1, you'd expect an average inner product of 0.25, so using the uniform\n",
    "branch weights [.25, .25, .25, .25] you can expect an average activation of $f(0.25)\\approx.562$, whereas the maximum activation is around .622.\n",
    "Setting the threshold around .3 should do the trick.\n",
    "\n",
    "The 5 input patterns are:\n",
    "\n",
    "$\\begin{bmatrix} .25 & .25 & .25 & .25 \\\\\n",
    "                 .25 & .25 & .25 & .25 \\\\\n",
    "                 .25 & .25 & .25 & .25 \\\\\n",
    "                 .25 & .25 & .25 & .25 \\end{bmatrix}$\n",
    "$\\begin{bmatrix} .5 & .25 & .25 & .25 \\\\\n",
    "                 .5 & .25 & .25 & .25 \\\\\n",
    "                 0. & .25 & .25 & .25 \\\\\n",
    "                 0. & .25 & .25 & .25 \\end{bmatrix}$\n",
    "$\\begin{bmatrix} .5 & 0. & .25 & .25 \\\\\n",
    "                 .5 & 0. & .25 & .25 \\\\\n",
    "                 0. & .5 & .25 & .25 \\\\\n",
    "                 0. & .5 & .25 & .25 \\end{bmatrix}$\n",
    "$\\begin{bmatrix}  .5 & 0. & 0. & .25 \\\\\n",
    "                  .5 & 0. & .5 & .25 \\\\\n",
    "                  0. & .5 & 0. & .25 \\\\\n",
    "                  0. & .5 & .5 & .25 \\end{bmatrix}$\n",
    "$\\begin{bmatrix} .5 & 0. & 0. & .5 \\\\\n",
    "                  .5 & 0. & .5 & 0. \\\\\n",
    "                  0. & .5 & 0. & .5 \\\\\n",
    "                  0. & .5 & .5 & 0. \\end{bmatrix}$\n",
    "\n",
    "where each column corresponds to the input to one branch. The input pattern function (`inp_pat`) will return one of those matrices strecthed as a vector, going column by column. This format is because I wrote this before I had `mr_run` and its associated methods."
   ]
  },
  {
   "cell_type": "code",
   "execution_count": null,
   "metadata": {},
   "outputs": [],
   "source": [
    "# Creating input pattern function\n",
    "## all the input pattern are in this nested list\n",
    "all_inps = [ [ .25]*16,\n",
    "            [.5, .5, 0., 0.]+([.25]*12),\n",
    "            [.5, .5, 0., 0.]+[0., 0., .5, .5]+([.25]*8),\n",
    "            [.5, .5, 0., 0.]+[0., 0., .5, .5]+[0., .5, 0., .5]+([.25]*4),\n",
    "            [.5, .5, 0., 0.]+[0., 0., .5, .5]+[0., .5, 0., .5]+[.5, 0., .5, 0.]\n",
    "          ]\n",
    "def inp_pat(pres, rows, cols):\n",
    "    return all_inps[pres%5]\n",
    "\n",
    "## The next input pattern function was implemented after the ei_net.mr_run() method was finished.\n",
    "## It is meant to be equivalent to the function above.\n",
    "all_inps_mr = [ [ [.25]*4, [.25]*4, [.25]*4, [.25]*4 ],\n",
    "                [ [.5, .5, 0., 0.], [.25]*4, [.25]*4, [.25]*4, ],\n",
    "                [ [.5, .5, 0., 0.], [0., 0., .5, .5], [.25]*4, [.25]*4 ],\n",
    "                [ [.5, .5, 0., 0.], [0., 0., .5, .5], [0., .5, 0., .5], [.25]*4 ],\n",
    "                [ [.5, .5, 0., 0.], [0., 0., .5, .5], [0., .5, 0., .5], [.5, 0., .5, 0.] ] ]\n",
    "def inp_pat_mr(pres, rows, cols, port):\n",
    "    return all_inps_mr[pres%5][port]"
   ]
  },
  {
   "cell_type": "code",
   "execution_count": null,
   "metadata": {},
   "outputs": [],
   "source": [
    "# Create the ei_net object\n",
    "xnet = ei_net()"
   ]
  },
  {
   "cell_type": "code",
   "execution_count": null,
   "metadata": {},
   "outputs": [],
   "source": [
    "# Set its parameters\n",
    "## geometry\n",
    "xnet.set_param('e_geom', 'rows', 1)\n",
    "xnet.set_param('e_geom', 'columns', 1)\n",
    "xnet.set_param('i_geom', 'rows', 0)\n",
    "xnet.set_param('i_geom', 'colums', 0)\n",
    "xnet.set_param('x_geom', 'rows', 4)\n",
    "xnet.set_param('x_geom', 'columns', 4)\n",
    "xnet.set_param('n', 'w_track', 1)\n",
    "\n",
    "## double sigma unit parameters\n",
    "xnet.set_param('e_pars', 'type', unit_types.double_sigma)\n",
    "xnet.set_param('e_pars', 'slope_min', 5.)\n",
    "xnet.set_param('e_pars', 'slope_wid', 0.)\n",
    "xnet.set_param('e_pars', 'thresh_min', .8)\n",
    "xnet.set_param('e_pars', 'thresh_wid', 0.)\n",
    "xnet.set_param('e_pars', 'phi', 0)\n",
    "xnet.set_param('e_pars', 'n_ports', 4)\n",
    "xnet.set_param('e_pars', 'branch_params', {'branch_w' : [0.25]*4, 'slopes' : 4, 'threshs' : 0.4})\n",
    "\n",
    "## connection parameters\n",
    "xnet.set_param('ee_conn', 'allow_autapses', False)\n",
    "xnet.set_param('xe_conn', 'connection_type', 'divergent')\n",
    "xnet.set_param('xe_conn', 'mask', {'circular' : {'radius' : 10}})\n",
    "xnet.set_param('xe_conn', 'kernel', 1.)\n",
    "del xnet.xe_conn['weights'] # so I can set weights with 'init_w'\n",
    "# The weights you choose affect the test below\n",
    "xnet.set_param('xe_syn', 'init_w',    [.5, .5, 0., 0.]+[0., 0., .5, .5]+[0., .5, 0., .5]+[.5, 0., .5, 0.])\n",
    "#xnet.set_param('xe_syn', 'init_w',    [1., 1., 0., 0.]+[0., 0., 1., 1.]+[0., 1., 0., 1.]+[1., 0., 1., 0.])\n",
    "xnet.set_param('xe_syn', 'inp_ports', [ 0,  0,  0, 0,]+[ 1,  1,  1,  1]+[ 2,  2,  2,  2]+[ 3,  3,  3,  3])\n",
    "\n",
    "## build the network\n",
    "xnet.build()"
   ]
  },
  {
   "cell_type": "code",
   "execution_count": null,
   "metadata": {},
   "outputs": [],
   "source": [
    "# Simulate\n",
    "n_pres = 5\n",
    "pres_time = 1.\n",
    "# These two run calls should give the same results\n",
    "#xnet.run(n_pres, pres_time, inp_pat)   \n",
    "xnet.mr_run(n_pres, pres_time, inp_pat_mr, flat=True)"
   ]
  },
  {
   "cell_type": "code",
   "execution_count": null,
   "metadata": {
    "scrolled": false
   },
   "outputs": [],
   "source": [
    "xnet.basic_plot()"
   ]
  },
  {
   "cell_type": "code",
   "execution_count": null,
   "metadata": {},
   "outputs": [],
   "source": [
    "# Compare the output of the cell at each presentation with explicitly calculated values\n",
    "## calculate the value at each presentation\n",
    "f = lambda x, sl, th : 1./(1. + np.exp(-sl*(x - th)))\n",
    "calc_vals = []\n",
    "slope = xnet.e_pars['slope_min']\n",
    "thresh = xnet.e_pars['thresh_min']\n",
    "sl = xnet.e_pars['branch_params']['slopes']\n",
    "th = xnet.e_pars['branch_params']['threshs']\n",
    "for i in range(5):\n",
    "    inp = 0.25*( (0.5*.25*2)*(4-i) + (0.5*0.5*2)*i )\n",
    "    calc_vals.append(f( f(inp, sl, th), slope, thresh))\n",
    "\n",
    "## extract the values from the simulation and compare with explicit values\n",
    "for i in range(5):\n",
    "    sim_val = xnet.all_activs[xnet.e[0]][200*(i+1) - 1] # min_delay=.005 => 200 data points per second\n",
    "    print( calc_vals[i] - sim_val) # < 1e-4 )"
   ]
  },
  {
   "cell_type": "markdown",
   "metadata": {},
   "source": [
    "### Test 3\n",
    "Reproduce the ei_net results with double_sigma units (obtained with ei_runner in January 2018)  \n",
    "__Proceed here directly after reset.__\n",
    "\n",
    "We will use double_sigma units with two branches, one for layer inputs (port 0), and one for external inputs (port 1).  \n",
    "In the case of `sigma_double_sigma`-type units we use 3 ports. Port 0 is the \"soma\" port (for IE connections), port 1 the EE and rdc port, and port 2 the inputs port."
   ]
  },
  {
   "cell_type": "code",
   "execution_count": null,
   "metadata": {
    "code_folding": []
   },
   "outputs": [],
   "source": [
    "# create the network using the ei_net tools\n",
    "%cd ..\n",
    "from tools.ei_net import *"
   ]
  },
  {
   "cell_type": "code",
   "execution_count": null,
   "metadata": {
    "code_folding": []
   },
   "outputs": [],
   "source": [
    "# Creating input patterns\n",
    "n_pat = 4  # number of input patterns\n",
    "pat_arr = np.zeros((4, 25)) # ei_runner.n['x'])) # array with all input patterns\n",
    "\n",
    "for row in range(5):\n",
    "    for col in range(5):\n",
    "        idx = 5*col + row\n",
    "        if row == col or row+col == 4: # The X input pattern\n",
    "            pat_arr[0,idx] = 1\n",
    "        if row == 2 or col == 2:  # The + input pattern\n",
    "            pat_arr[1,idx] = 1\n",
    "        if row == 1 or row == 3:  # The = input pattern\n",
    "            pat_arr[2,idx] = 1\n",
    "        if col == 1 or col == 3:  # The || input pattern\n",
    "            pat_arr[3,idx] = 1\n",
    "pat_arr = pat_arr / 5.\n",
    "\n",
    "def inp_pat(pres, rows, columns, port=0, random=False):\n",
    "    # The function that creates the input pattern shown at each presentation in ei_net.run\n",
    "    if random:\n",
    "        idx = np.random.randint(4)\n",
    "    else:\n",
    "        idx = pres % 4\n",
    "    return pat_arr[idx, :]\n",
    "#for i in range(6):\n",
    "#    print(np.reshape(inp_pat(5, 4, 2),(5,5)))"
   ]
  },
  {
   "cell_type": "code",
   "execution_count": null,
   "metadata": {
    "code_folding": []
   },
   "outputs": [],
   "source": [
    "# Setting parameters\n",
    "ei_runner = ei_net()\n",
    "#----------------------------------\n",
    "## double sigma unit parameters\n",
    "ei_runner.set_param('e_pars', 'type', unit_types.sigma_double_sigma)       #ds_n_trdc)\n",
    "ei_runner.set_param('e_pars', 'slope_min', 6.)\n",
    "ei_runner.set_param('e_pars', 'slope_wid', .1)\n",
    "ei_runner.set_param('e_pars', 'thresh_min', 0.) #.3)\n",
    "ei_runner.set_param('e_pars', 'thresh_wid', 0.1)\n",
    "ei_runner.set_param('e_pars', 'n_ports', 3) #2\n",
    "ei_runner.set_param('e_pars', 'branch_params', {'branch_w' : [0.5, 0.5], 'slopes' : 4, 'threshs' : 0.1})\n",
    "ei_runner.set_param('e_pars', 'tau_slow', 10.)\n",
    "ei_runner.set_param('e_pars', 'tau_fast', 0.05)\n",
    "ei_runner.set_param('e_pars', 'c', 2.)\n",
    "ei_runner.set_param('e_pars', 'tau_thr', .002)\n",
    "ei_runner.set_param('e_pars', 'rdc_port', 0)\n",
    "ei_runner.set_param('e_pars', 'phi', 0.)\n",
    "#----------------------------------\n",
    "ei_runner.annotate(\"Adjusting size of e,i groups.\")\n",
    "ei_runner.set_param('e_geom', 'rows', 8)\n",
    "ei_runner.set_param('e_geom', 'columns', 8)\n",
    "ei_runner.set_param('i_geom', 'rows', 4)\n",
    "ei_runner.set_param('i_geom', 'columns', 4)\n",
    "ei_runner.annotate(\"Compensating for the ratio of excitatory to inhibitory units.\")\n",
    "ei_runner.set_param('ee_conn', 'weights',{'uniform' : {'low': .01, 'high' : 0.3}})\n",
    "ei_runner.set_param('ei_conn', 'weights',{'uniform' : {'low': .01, 'high' : 0.3}})\n",
    "ei_runner.set_param('ie_conn', 'weights',{'uniform' : {'low': -1., 'high' : -.1}})\n",
    "ei_runner.set_param('ii_conn', 'weights',{'uniform' : {'low': -1., 'high' : -0.01}})\n",
    "#----------------------------------\n",
    "ei_runner.annotate(\"Setting input parameters\")\n",
    "ei_runner.set_param('x_geom', 'rows', 5) \n",
    "ei_runner.set_param('x_geom', 'columns', 5) \n",
    "ei_runner.set_param('xe_conn', 'weights', {'uniform' : {'low': 0.05, 'high' : 4.}})\n",
    "ei_runner.set_param('xi_conn', 'weights', {'uniform' : {'low': 0.05, 'high' : 4.}})\n",
    "ei_runner.set_param('xe_conn', 'mask', {'circular': {'radius': .3}})\n",
    "ei_runner.set_param('xi_conn', 'mask', {'circular': {'radius': .3}})\n",
    "#-----------------------------------\n",
    "# specifying input ports\n",
    "ei_runner.set_param('ee_syn', 'inp_ports', 2) # ee should be at input 0 for trdc units\n",
    "ei_runner.set_param('xe_syn', 'inp_ports', 1)\n",
    "#ei_runner.set_param('xi_syn', 'inp_ports', 1)\n",
    "ei_runner.set_param('ie_syn', 'inp_ports', 0)\n",
    "#----------------------------------\n",
    "ei_runner.annotate(\"Using Oja input synapses\")\n",
    "ei_runner.set_param('xe_syn', 'type', synapse_types.hebbsnorm)\n",
    "ei_runner.set_param('xe_syn', 'lrate', 1./100.)\n",
    "ei_runner.set_param('xi_syn', 'type', synapse_types.oja)\n",
    "ei_runner.set_param('xi_syn', 'lrate', 1./100.)\n",
    "#----------------------------------\n",
    "ei_runner.annotate(\"Using BCM EE synapses\")\n",
    "ei_runner.set_param('ee_syn', 'type', synapse_types.bcm)\n",
    "ei_runner.set_param('ee_syn', 'lrate', 1./100.)\n",
    "#ei_runner.set_param('ee_syn', 'omega', 2.)\n",
    "#----------------------------------\n",
    "ei_runner.annotate(\"Using corr_homeo_inhib IE synapses\")\n",
    "ei_runner.set_param('ie_syn', 'type', synapse_types.corr_inh)\n",
    "ei_runner.set_param('ie_syn', 'lrate', 1./20.)\n",
    "ei_runner.set_param('e_pars', 'des_act', 0.4)\n",
    "#----------------------------------\n",
    "ei_runner.annotate(\"Using anti_cov_pre EI synapses\")\n",
    "ei_runner.set_param('ei_syn', 'type', synapse_types.anticov_pre)\n",
    "ei_runner.set_param('ei_syn', 'lrate', .02)\n",
    "#----------------------------------\n",
    "\"\"\"\n",
    "ei_runner.annotate('Using exp_rate_dist ee synapses.')\n",
    "ei_runner.set_param('ee_syn', 'type', synapse_types.exp_rate_dist)\n",
    "ei_runner.set_param('ee_syn', 'lrate', 1.)\n",
    "ei_runner.set_param('ee_syn', 'wshift', 10.)\n",
    "ei_runner.set_param('ee_syn', 'c', 2.)\n",
    "\"\"\"\n",
    "#----------------------------------\n",
    "\"\"\"\n",
    "ei_runner.annotate(\"Using exp_dist_sig units for the excitatory population.\")\n",
    "ei_runner.set_param('e_pars', 'type', unit_types.exp_dist_sig)\n",
    "ei_runner.set_param('e_pars', 'tau_scale', 0.1)\n",
    "ei_runner.set_param('e_pars', 'c', 3.)\n",
    "ei_runner.set_param('e_pars', 'Kp', .1)\n",
    "\n",
    "ei_runner.annotate(\"Using exp_dist_sig units for the inhibitory population.\")\n",
    "ei_runner.set_param('i_pars', 'type', unit_types.exp_dist_sig)\n",
    "ei_runner.set_param('i_pars', 'tau_scale', 0.1)\n",
    "ei_runner.set_param('i_pars', 'c', 3.)\n",
    "ei_runner.set_param('i_pars', 'Kp', .1)\n",
    "\"\"\"\n",
    "#----------------------------------\n",
    "\"\"\"\n",
    "ei_runner.annotate(\"Using exp_dist_sig_thr units for the excitatory population.\")\n",
    "ei_runner.set_param('e_pars', 'type', unit_types.exp_dist_sig_thr)\n",
    "ei_runner.set_param('e_pars', 'tau_thr', 0.005)\n",
    "ei_runner.set_param('e_pars', 'c', 3.)\n",
    "\n",
    "ei_runner.annotate(\"Using exp_dist_sig_thr units for the inhibitory population.\")\n",
    "ei_runner.set_param('i_pars', 'type', unit_types.exp_dist_sig_thr)\n",
    "ei_runner.set_param('i_pars', 'tau_thr', 0.001)\n",
    "ei_runner.set_param('i_pars', 'c', 3.)\n",
    "\"\"\"\n",
    "#----------------------------------\n",
    "ei_runner.set_param('n', 'w_track', 16)\n",
    "#----------------------------------\n",
    "ei_runner.build()"
   ]
  },
  {
   "cell_type": "code",
   "execution_count": null,
   "metadata": {
    "code_folding": []
   },
   "outputs": [],
   "source": [
    "# Simulating\n",
    "n_pres = 2\n",
    "pres_time = 1.\n",
    "# since all inputs arrive at the same port in both populations, you can use run()\n",
    "ei_runner.run(n_pres, pres_time, set_inp_pat=inp_pat,flat=True)\n",
    "# accumulator: Total execution time is 228.0182638168335 seconds, 44.9 secs\n",
    "# big zip: Total execution time is 212.02345871925354 seconds"
   ]
  },
  {
   "cell_type": "code",
   "execution_count": null,
   "metadata": {},
   "outputs": [],
   "source": [
    "%matplotlib inline\n",
    "ei_runner.basic_plot()"
   ]
  },
  {
   "cell_type": "code",
   "execution_count": null,
   "metadata": {
    "scrolled": false
   },
   "outputs": [],
   "source": [
    "%matplotlib inline\n",
    "ei_runner.basic_plot()"
   ]
  },
  {
   "cell_type": "code",
   "execution_count": null,
   "metadata": {},
   "outputs": [],
   "source": [
    "ei_runner.double_anim(ei_runner.e, slider=False, interv=20, nbins=20, thr=0.3, pdf=True)"
   ]
  },
  {
   "cell_type": "code",
   "execution_count": null,
   "metadata": {},
   "outputs": [],
   "source": [
    "# Plot the highest excitatory unit activities\n",
    "%matplotlib inline\n",
    "n_top = 5  # how many units to plot\n",
    "top_pop = np.array(ei_runner.e)  # population to visualize\n",
    "top_units = ei_runner.all_activs[top_pop].sum(1).argpartition(-n_top)[-n_top:]\n",
    "print(top_units)\n",
    "top_act_fig = plt.figure(figsize=(18,8))\n",
    "top_acts = ei_runner.all_activs[top_pop[top_units]].transpose()\n",
    "plt.plot(ei_runner.all_times, top_acts)\n",
    "plt.show()"
   ]
  },
  {
   "cell_type": "code",
   "execution_count": null,
   "metadata": {
    "code_folding": [],
    "scrolled": false
   },
   "outputs": [],
   "source": [
    "# Plot the highest excitatory unit activities\n",
    "%matplotlib inline\n",
    "n_top = 5  # how many units to plot\n",
    "top_pop = np.array(ei_runner.e)  # population to visualize\n",
    "top_units = ei_runner.all_activs[top_pop].sum(1).argpartition(-n_top)[-n_top:]\n",
    "print(top_units)\n",
    "top_act_fig = plt.figure(figsize=(18,8))\n",
    "top_acts = ei_runner.all_activs[top_pop[top_units]].transpose()\n",
    "plt.plot(ei_runner.all_times, top_acts)\n",
    "plt.show()"
   ]
  },
  {
   "cell_type": "code",
   "execution_count": null,
   "metadata": {
    "code_folding": [],
    "scrolled": false
   },
   "outputs": [],
   "source": [
    "# Plot the lowest excitatory unit activities\n",
    "n_bottom = 10  # how many units to plot\n",
    "bottom_pop = np.array(ei_runner.i)  # population to visualize\n",
    "bottom_units = ei_runner.all_activs[bottom_pop].sum(1).argpartition(n_bottom)[0:n_bottom-1]\n",
    "print(bottom_units)\n",
    "bottom_act_fig = plt.figure(figsize=(18,8))\n",
    "bottom_acts = ei_runner.all_activs[bottom_pop[bottom_units]].transpose()\n",
    "plt.plot(ei_runner.all_times, bottom_acts)\n",
    "plt.show()"
   ]
  },
  {
   "cell_type": "code",
   "execution_count": null,
   "metadata": {
    "code_folding": [],
    "scrolled": false
   },
   "outputs": [],
   "source": [
    "# Plot the lowest excitatory unit activities\n",
    "n_bottom = 10  # how many units to plot\n",
    "bottom_pop = np.array(ei_runner.i)  # population to visualize\n",
    "bottom_units = ei_runner.all_activs[bottom_pop].sum(1).argpartition(n_bottom)[0:n_bottom-1]\n",
    "print(bottom_units)\n",
    "bottom_act_fig = plt.figure(figsize=(18,8))\n",
    "bottom_acts = ei_runner.all_activs[bottom_pop[bottom_units]].transpose()\n",
    "plt.plot(ei_runner.all_times, bottom_acts)\n",
    "plt.show()"
   ]
  },
  {
   "cell_type": "code",
   "execution_count": null,
   "metadata": {
    "code_folding": []
   },
   "outputs": [],
   "source": [
    "# Look at the connections\n",
    "ei_runner.conn_anim(ei_runner.x, ei_runner.e, interv=80, slider=True, weights=True)"
   ]
  },
  {
   "cell_type": "markdown",
   "metadata": {},
   "source": [
    "### Test 4\n",
    "Same as test 3, but using switchable rate distribution control (\"sharpen\" units).  \n",
    "__Proceed here directly after reset.__\n",
    "\n",
    "The `sharpen` port will be 2, and the `rdc` port will be 0, where e,i inputs will arrive. Inputs arrive at port 1. \n",
    "Inputs to the sharpen port are set manually (without ei_net methods).\n"
   ]
  },
  {
   "cell_type": "code",
   "execution_count": null,
   "metadata": {},
   "outputs": [],
   "source": [
    "# create the network using the ei_net tools\n",
    "%cd ..\n",
    "from tools.ei_net import *"
   ]
  },
  {
   "cell_type": "code",
   "execution_count": null,
   "metadata": {
    "code_folding": [
     0
    ]
   },
   "outputs": [],
   "source": [
    "# Creating input patterns\n",
    "n_pat = 4  # number of input patterns\n",
    "pat_arr = np.zeros((4, 25)) # ei_runner.n['x'])) # array with all input patterns\n",
    "\n",
    "for row in range(5):\n",
    "    for col in range(5):\n",
    "        idx = 5*col + row\n",
    "        if row == col or row+col == 4: # The X input pattern\n",
    "            pat_arr[0,idx] = 1\n",
    "        if row == 2 or col == 2:  # The + input pattern\n",
    "            pat_arr[1,idx] = 1\n",
    "        if row == 1 or row == 3:  # The = input pattern\n",
    "            pat_arr[2,idx] = 1\n",
    "        if col == 1 or col == 3:  # The || input pattern\n",
    "            pat_arr[3,idx] = 1\n",
    "pat_arr = pat_arr / 5.\n",
    "\n",
    "def inp_pat(pres, rows, columns, port=0, random=False):\n",
    "    # The function that creates the input pattern shown at each presentation in ei_net.run\n",
    "    if random:\n",
    "        idx = np.random.randint(4)\n",
    "    else:\n",
    "        idx = pres % 4\n",
    "    return pat_arr[idx, :]\n",
    "#for i in range(6):\n",
    "#    print(np.reshape(inp_pat(5, 4, 2),(5,5)))"
   ]
  },
  {
   "cell_type": "code",
   "execution_count": null,
   "metadata": {
    "code_folding": [
     0
    ]
   },
   "outputs": [],
   "source": [
    "# Setting parameters \n",
    "ei_runner = ei_net()\n",
    "#----------------------------------\n",
    "## double sigma unit parameters\n",
    "ei_runner.set_param('e_pars', 'type', unit_types.ds_sharp)\n",
    "ei_runner.set_param('e_pars', 'slope_min', 6.)\n",
    "ei_runner.set_param('e_pars', 'slope_wid', .1)\n",
    "ei_runner.set_param('e_pars', 'thresh_min', .3)\n",
    "ei_runner.set_param('e_pars', 'thresh_wid', 0.1)\n",
    "ei_runner.set_param('e_pars', 'n_ports', 3)\n",
    "ei_runner.set_param('e_pars', 'branch_params', {'branch_w' : [0.5, 0.5], 'slopes' : 4, 'threshs' : 0.1})\n",
    "ei_runner.set_param('e_pars', 'tau_slow', 10.)\n",
    "ei_runner.set_param('e_pars', 'tau_fast', 0.05)\n",
    "ei_runner.set_param('e_pars', 'c', 2.)\n",
    "ei_runner.set_param('e_pars', 'tau_thr', .002)\n",
    "ei_runner.set_param('e_pars', 'rdc_port', 0)\n",
    "ei_runner.set_param('e_pars', 'thr_fix', 0.2)\n",
    "ei_runner.set_param('e_pars', 'sharpen_port', 2)\n",
    "#----------------------------------\n",
    "ei_runner.annotate(\"Adjusting size of e,i groups.\")\n",
    "ei_runner.set_param('e_geom', 'rows', 8)\n",
    "ei_runner.set_param('e_geom', 'columns', 8)\n",
    "ei_runner.set_param('i_geom', 'rows', 4)\n",
    "ei_runner.set_param('i_geom', 'columns', 4)\n",
    "ei_runner.annotate(\"Compensating for the ratio of excitatory to inhibitory units.\")\n",
    "ei_runner.set_param('ee_conn', 'weights',{'uniform' : {'low': .01, 'high' : 0.3}})\n",
    "ei_runner.set_param('ei_conn', 'weights',{'uniform' : {'low': .01, 'high' : 0.3}})\n",
    "ei_runner.set_param('ie_conn', 'weights',{'uniform' : {'low': -1.5, 'high' : -.1}})\n",
    "ei_runner.set_param('ii_conn', 'weights',{'uniform' : {'low': -1., 'high' : -0.01}})\n",
    "#----------------------------------\n",
    "ei_runner.annotate(\"Setting input parameters\")\n",
    "ei_runner.set_param('x_geom', 'rows', 5) \n",
    "ei_runner.set_param('x_geom', 'columns', 5) \n",
    "ei_runner.set_param('xe_conn', 'weights', {'uniform' : {'low': 0.05, 'high' : 4.}})\n",
    "ei_runner.set_param('xi_conn', 'weights', {'uniform' : {'low': 0.05, 'high' : 4.}})\n",
    "ei_runner.set_param('xe_conn', 'mask', {'circular': {'radius': .3}})\n",
    "ei_runner.set_param('xi_conn', 'mask', {'circular': {'radius': .3}})\n",
    "#-----------------------------------\n",
    "# specifying input ports\n",
    "ei_runner.set_param('ee_syn', 'inp_ports', 0) # ee should be at input 0 for trdc units\n",
    "ei_runner.set_param('xe_syn', 'inp_ports', 1)\n",
    "#ei_runner.set_param('xi_syn', 'inp_ports', 1)\n",
    "ei_runner.set_param('ie_syn', 'inp_ports', 0)\n",
    "#----------------------------------\n",
    "ei_runner.annotate(\"Using Oja input synapses\")\n",
    "ei_runner.set_param('xe_syn', 'type', synapse_types.oja)\n",
    "ei_runner.set_param('xe_syn', 'lrate', 1./100.)\n",
    "ei_runner.set_param('xi_syn', 'type', synapse_types.oja)\n",
    "ei_runner.set_param('xi_syn', 'lrate', 1./100.)\n",
    "#----------------------------------\n",
    "ei_runner.annotate(\"Using BCM EE synapses\")\n",
    "ei_runner.set_param('ee_syn', 'type', synapse_types.bcm)\n",
    "ei_runner.set_param('ee_syn', 'lrate', 1./100.)\n",
    "#ei_runner.set_param('ee_syn', 'omega', 2.)\n",
    "#----------------------------------\n",
    "ei_runner.annotate(\"Using corr_homeo_inhib IE synapses\")\n",
    "ei_runner.set_param('ie_syn', 'type', synapse_types.corr_inh)\n",
    "ei_runner.set_param('ie_syn', 'lrate', 1./20.)\n",
    "ei_runner.set_param('e_pars', 'des_act', 0.4)\n",
    "#----------------------------------\n",
    "ei_runner.annotate(\"Using anti_cov_pre EI synapses\")\n",
    "ei_runner.set_param('ei_syn', 'type', synapse_types.anticov_pre)\n",
    "ei_runner.set_param('ei_syn', 'lrate', .02)\n",
    "#----------------------------------\n",
    "\"\"\"\n",
    "ei_runner.annotate('Using exp_rate_dist ee synapses.')\n",
    "ei_runner.set_param('ee_syn', 'type', synapse_types.exp_rate_dist)\n",
    "ei_runner.set_param('ee_syn', 'lrate', 1.)\n",
    "ei_runner.set_param('ee_syn', 'wshift', 10.)\n",
    "ei_runner.set_param('ee_syn', 'c', 2.)\n",
    "\"\"\"\n",
    "#----------------------------------\n",
    "\"\"\"\n",
    "ei_runner.annotate(\"Using exp_dist_sig units for the excitatory population.\")\n",
    "ei_runner.set_param('e_pars', 'type', unit_types.exp_dist_sig)\n",
    "ei_runner.set_param('e_pars', 'tau_scale', 0.1)\n",
    "ei_runner.set_param('e_pars', 'c', 3.)\n",
    "ei_runner.set_param('e_pars', 'Kp', .1)\n",
    "\n",
    "ei_runner.annotate(\"Using exp_dist_sig units for the inhibitory population.\")\n",
    "ei_runner.set_param('i_pars', 'type', unit_types.exp_dist_sig)\n",
    "ei_runner.set_param('i_pars', 'tau_scale', 0.1)\n",
    "ei_runner.set_param('i_pars', 'c', 3.)\n",
    "ei_runner.set_param('i_pars', 'Kp', .1)\n",
    "\"\"\"\n",
    "#----------------------------------\n",
    "\"\"\"\n",
    "ei_runner.annotate(\"Using exp_dist_sig_thr units for the excitatory population.\")\n",
    "ei_runner.set_param('e_pars', 'type', unit_types.exp_dist_sig_thr)\n",
    "ei_runner.set_param('e_pars', 'tau_thr', 0.005)\n",
    "ei_runner.set_param('e_pars', 'c', 3.)\n",
    "\n",
    "ei_runner.annotate(\"Using exp_dist_sig_thr units for the inhibitory population.\")\n",
    "ei_runner.set_param('i_pars', 'type', unit_types.exp_dist_sig_thr)\n",
    "ei_runner.set_param('i_pars', 'tau_thr', 0.001)\n",
    "ei_runner.set_param('i_pars', 'c', 3.)\n",
    "\"\"\"\n",
    "#----------------------------------\n",
    "ei_runner.set_param('n', 'w_track', 16)\n",
    "#----------------------------------\n",
    "ei_runner.build()"
   ]
  },
  {
   "cell_type": "code",
   "execution_count": null,
   "metadata": {
    "code_folding": [],
    "scrolled": true
   },
   "outputs": [],
   "source": [
    "# Manually setting the inputs to the sharpen port\n",
    "\n",
    "## create the input unit\n",
    "x_pars = ei_runner.x_pars\n",
    "x_pars['function'] = lambda x : None\n",
    "x_pars['init_val'] = 1.\n",
    "x_pars['coordinates'] = np.array([0.,0.])\n",
    "shrp_inp = ei_runner.net.create(1, x_pars)\n",
    "## connect the input unit\n",
    "xe_conn = ei_runner.xe_conn\n",
    "xe_conn['mask'] = {'circular': {'radius': 10.}}\n",
    "xe_conn['kernel'] = 1.\n",
    "del xe_conn['weights'] \n",
    "xe_syn = ei_runner.xe_syn\n",
    "xe_syn['init_w'] = 1.0\n",
    "xe_syn['inp_ports'] = ei_runner.e_pars['sharpen_port']\n",
    "topo = topology()\n",
    "topo.topo_connect(ei_runner.net, shrp_inp, ei_runner.e, xe_conn, xe_syn)\n"
   ]
  },
  {
   "cell_type": "code",
   "execution_count": null,
   "metadata": {
    "code_folding": [],
    "scrolled": false
   },
   "outputs": [],
   "source": [
    "# Simulating\n",
    "n_pres = 10\n",
    "pres_time = 2\n",
    "## The following input function to the sharpen port removes the input when the simulation time is close to a\n",
    "## multiple of the presentation time for single patterns\n",
    "def shrp_fun(time):\n",
    "    eps = .25 # distance to the input change where sharpening is released\n",
    "    t = time % pres_time\n",
    "    if t < eps or t > pres_time - eps:\n",
    "        return 0.\n",
    "    else:\n",
    "        return 1.\n",
    "ei_runner.net.units[shrp_inp[0]].set_function(shrp_fun)\n",
    "#print(np.random.get_state())\n",
    "# since all inputs arrive at the same port in both populations, you can use run()\n",
    "ei_runner.run(n_pres, pres_time, set_inp_pat=inp_pat)\n",
    "# accumulator: Total execution time is 228.0182638168335 seconds, 44.9 secs\n",
    "# big zip: Total execution time is 212.02345871925354 seconds"
   ]
  },
  {
   "cell_type": "code",
   "execution_count": null,
   "metadata": {
    "scrolled": false
   },
   "outputs": [],
   "source": [
    "%matplotlib inline\n",
    "ei_runner.basic_plot()"
   ]
  },
  {
   "cell_type": "code",
   "execution_count": null,
   "metadata": {},
   "outputs": [],
   "source": [
    "ei_runner.double_anim(ei_runner.e, slider=False, interv=20, nbins=20, thr=0.3, pdf=True)"
   ]
  },
  {
   "cell_type": "code",
   "execution_count": null,
   "metadata": {
    "code_folding": [
     0
    ],
    "scrolled": false
   },
   "outputs": [],
   "source": [
    "# Plot the highest excitatory unit activities\n",
    "%matplotlib inline\n",
    "n_top = 5  # how many units to plot\n",
    "top_pop = np.array(ei_runner.e)  # population to visualize\n",
    "top_units = ei_runner.all_activs[top_pop].sum(1).argpartition(-n_top)[-n_top:]\n",
    "print(top_units)\n",
    "top_act_fig = plt.figure(figsize=(18,8))\n",
    "top_acts = ei_runner.all_activs[top_pop[top_units]].transpose()\n",
    "plt.plot(ei_runner.all_times, top_acts)\n",
    "plt.show()"
   ]
  },
  {
   "cell_type": "code",
   "execution_count": null,
   "metadata": {
    "scrolled": false
   },
   "outputs": [],
   "source": [
    "# Plot the lowest excitatory unit activities\n",
    "n_bottom = 10  # how many units to plot\n",
    "bottom_pop = np.array(ei_runner.e)  # population to visualize\n",
    "bottom_units = ei_runner.all_activs[bottom_pop].sum(1).argpartition(n_bottom)[0:n_bottom-1]\n",
    "print(bottom_units)\n",
    "bottom_act_fig = plt.figure(figsize=(18,8))\n",
    "bottom_acts = ei_runner.all_activs[bottom_pop[bottom_units]].transpose()\n",
    "plt.plot(ei_runner.all_times, bottom_acts)\n",
    "plt.show()"
   ]
  },
  {
   "cell_type": "code",
   "execution_count": null,
   "metadata": {},
   "outputs": [],
   "source": [
    "a = list(range(10))\n",
    "vals = [v**2 for v in a]\n",
    "rem = 5\n",
    "idx = a[0:rem]+a[rem+1:]\n",
    "print(vals)\n",
    "print(idx)\n",
    "#print(vals[idx])\n",
    "del vals[rem]\n",
    "print(vals)\n",
    "2 in vals"
   ]
  },
  {
   "cell_type": "code",
   "execution_count": null,
   "metadata": {},
   "outputs": [],
   "source": []
  }
 ],
 "metadata": {
  "kernelspec": {
   "display_name": "Python 3",
   "language": "python",
   "name": "python3"
  },
  "language_info": {
   "codemirror_mode": {
    "name": "ipython",
    "version": 3
   },
   "file_extension": ".py",
   "mimetype": "text/x-python",
   "name": "python",
   "nbconvert_exporter": "python",
   "pygments_lexer": "ipython3",
   "version": "3.5.2"
  }
 },
 "nbformat": 4,
 "nbformat_minor": 2
}
