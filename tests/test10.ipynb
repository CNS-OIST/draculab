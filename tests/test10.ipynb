{
 "cells": [
  {
   "cell_type": "markdown",
   "metadata": {},
   "source": [
    " ## test10.ipynb\n",
    "\n",
    "Testing the various versions of the double sigma units, and networks that use them.\n",
    "\n",
    "By `Sergio Verduzco`  \n",
    "May, June 2018"
   ]
  },
  {
   "cell_type": "code",
   "execution_count": 1,
   "metadata": {},
   "outputs": [
    {
     "name": "stdout",
     "output_type": "stream",
     "text": [
      "/home/z/projects/draculab\n"
     ]
    }
   ],
   "source": [
    "%cd ..\n",
    "from draculab import *\n",
    "import numpy as np"
   ]
  },
  {
   "cell_type": "markdown",
   "metadata": {},
   "source": [
    "### Test 0\n",
    "Check the `port_idx` lists created after connecting double sigma units."
   ]
  },
  {
   "cell_type": "code",
   "execution_count": 2,
   "metadata": {},
   "outputs": [],
   "source": [
    "# Create two groups of 3 double sigma units \n",
    "net_params = {'min_delay' : 0.02, 'min_buff_size' : 8 } # parameter dictionary for the network\n",
    "unit_params = {'type' : unit_types.double_sigma, \n",
    "               'init_val' : 0.5, \n",
    "               'n_ports' : 3,\n",
    "               'slope_out' : 1.,\n",
    "               'thresh_out' : 0.,\n",
    "               'tau' : 0.01,\n",
    "               'branch_params' : {\n",
    "                   'branch_w' : [0.2, 0.3, 0.5],\n",
    "                   'slopes' : 1.,\n",
    "                   'threshs' : 0.\n",
    "                                  }\n",
    "              }\n",
    "net = network(net_params)  # creating a newtwork\n",
    "units1 = net.create(3,unit_params) # first group\n",
    "units2 = net.create(3,unit_params) # second group\n",
    "\n",
    "# connect the units\n",
    "conn_spec = { 'rule' : 'all_to_all',\n",
    "              'delay' : net_params['min_delay'],\n",
    "              'allow_autapses' : True }\n",
    "syn_spec = { 'type' : synapse_types.static,\n",
    "             'init_w' : 1.0,\n",
    "             'inp_ports' : [0, 1, 2]*3 } # the 3 units will project to ports 0, 1, 2\n",
    "net.connect(units1, units2, conn_spec, syn_spec) \n",
    "\n",
    "syn_spec['inp_ports'] = [0, 2, 0]*3 # first unit projects to port 0, second to port 2, third to port 0\n",
    "net.connect(units2, units1, conn_spec, syn_spec) # second unit projects to port 1\n",
    "\n",
    "syn_spec['inp_ports'] = 0\n",
    "net.connect([units1[0]], units1, conn_spec, syn_spec)\n",
    "\n",
    "# Predicting these is a mind twister. You should have: \n",
    "# net.units1[0].port_idx = [ [0, 1, 2, 3], [], [] ]   -- remember these are indexes, not unit IDs\n",
    "# net.units1[1].port_idx = [ [3], [], [0, 1, 2] ]\n",
    "# net.units1[2].port_idx = [ [0, 1, 2, 3], [], []]\n",
    "# net.units2[0].port_idx = [ [0, 1, 2], [], [] ]\n",
    "# net.units2[1].port_idx = [ [], [0, 1, 2], [] ]\n",
    "# net.units2[2].port_idx = [ [], [], [0, 1, 2] ]\n",
    "\n",
    "units1_port_idx = ( [ [0, 1, 2, 3], [], [] ], [ [3], [], [0, 1, 2] ], [ [0, 1, 2, 3], [], [] ] )\n",
    "units2_port_idx = ( [ [0, 1, 2], [], [] ], [ [], [0, 1, 2], [] ], [ [], [], [0, 1, 2] ] )\n"
   ]
  },
  {
   "cell_type": "code",
   "execution_count": 3,
   "metadata": {
    "code_folding": [
     0
    ]
   },
   "outputs": [
    {
     "name": "stdout",
     "output_type": "stream",
     "text": [
      "True\n",
      "True\n",
      "True\n",
      "True\n",
      "True\n",
      "True\n"
     ]
    }
   ],
   "source": [
    "# compare with predicted values\n",
    "for i in [0,1,2]:\n",
    "    print(units1_port_idx[i] == net.units[units1[i]].port_idx)\n",
    "    print(units2_port_idx[i] == net.units[units2[i]].port_idx)\n"
   ]
  },
  {
   "cell_type": "code",
   "execution_count": 4,
   "metadata": {},
   "outputs": [
    {
     "data": {
      "text/plain": [
       "[array([], dtype=float64), array([ 0.5,  0.5,  0.5]), array([], dtype=float64)]"
      ]
     },
     "execution_count": 4,
     "metadata": {},
     "output_type": "execute_result"
    }
   ],
   "source": [
    "net.units[4].get_mp_inputs(0.)"
   ]
  },
  {
   "cell_type": "code",
   "execution_count": 5,
   "metadata": {},
   "outputs": [
    {
     "data": {
      "text/plain": [
       "[array([], dtype=float64), array([ 1.,  1.,  1.]), array([], dtype=float64)]"
      ]
     },
     "execution_count": 5,
     "metadata": {},
     "output_type": "execute_result"
    }
   ],
   "source": [
    "net.units[4].get_mp_weights(0.)"
   ]
  },
  {
   "cell_type": "code",
   "execution_count": 5,
   "metadata": {},
   "outputs": [],
   "source": [
    "# Implement AND and OR units"
   ]
  }
 ],
 "metadata": {
  "kernelspec": {
   "display_name": "Python 3",
   "language": "python",
   "name": "python3"
  },
  "language_info": {
   "codemirror_mode": {
    "name": "ipython",
    "version": 3
   },
   "file_extension": ".py",
   "mimetype": "text/x-python",
   "name": "python",
   "nbconvert_exporter": "python",
   "pygments_lexer": "ipython3",
   "version": "3.5.2"
  }
 },
 "nbformat": 4,
 "nbformat_minor": 2
}
