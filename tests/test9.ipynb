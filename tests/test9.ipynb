{
 "cells": [
  {
   "cell_type": "markdown",
   "metadata": {},
   "source": [
    "## test9.ipynb\n",
    "\n",
    "Compare a ei_network simulation against an equivalent ei_net simulation.\n",
    "\n",
    "By Sergio Verduzco\n",
    "January 2018"
   ]
  },
  {
   "cell_type": "code",
   "execution_count": 1,
   "metadata": {},
   "outputs": [
    {
     "name": "stdout",
     "output_type": "stream",
     "text": [
      "/home/z/projects/draculab\n"
     ]
    }
   ],
   "source": [
    "%cd ..\n",
    "#import ei_network\n",
    "from ei_network import *\n",
    "from ei_net import *"
   ]
  },
  {
   "cell_type": "code",
   "execution_count": 2,
   "metadata": {},
   "outputs": [],
   "source": [
    "# Create ei_network network\n",
    "layer_names = ['LD', 'LU', 'RD', 'RU'] # left down, left up, right down, right up\n",
    "net1 = ei_network(layer_names)"
   ]
  },
  {
   "cell_type": "code",
   "execution_count": 3,
   "metadata": {},
   "outputs": [],
   "source": [
    "# Configure layer parameters\n",
    "LD = net1.layers['LD']\n",
    "LU = net1.layers['LU']\n",
    "RD = net1.layers['RD']\n",
    "RU = net1.layers['RU']\n",
    "\n",
    "centers = ( [-0.5,-0.5], [-0.5, 0.5], [0.5,-0.5], [0.5, 0.5] )\n",
    "layers = [LD, LU, RD, RU]\n",
    "for lyr, cntr in zip(layers, centers):\n",
    "    for geom in ['e_geom', 'i_geom', 'x_geom']:\n",
    "        lyr.set_param(geom, 'center', cntr)\n",
    "        lyr.set_param(geom, 'extent', [1., 1.])\n",
    "        lyr.set_param(geom, 'jitter', 0.)\n",
    "        lyr.set_param(geom, 'rows', 4)\n",
    "        lyr.set_param(geom, 'columns', 4)\n",
    "    # A single input unit per layer, located at the center of the layer\n",
    "    lyr.set_param('x_geom', 'rows', 1)\n",
    "    lyr.set_param('x_geom', 'columns', 1)\n",
    "    "
   ]
  },
  {
   "cell_type": "code",
   "execution_count": 4,
   "metadata": {},
   "outputs": [],
   "source": [
    "# Add interlayer connections\n",
    "pops = ['e', 'i']\n",
    "# We'll allow any two populations to connect\n",
    "for source in layer_names:\n",
    "    for target in layer_names:\n",
    "        if source != target:\n",
    "            for pop1 in pops:\n",
    "                for pop2 in pops:\n",
    "                    net1.add_connection((source, pop1), (target, pop2))"
   ]
  },
  {
   "cell_type": "code",
   "execution_count": 6,
   "metadata": {},
   "outputs": [],
   "source": [
    "# Configure interlayer connections\n",
    "# I don't need to setup any interlayer transformations, just avoid periodic boundaries\n",
    "for source in layer_names:\n",
    "    for target in layer_names:\n",
    "        if source != target:\n",
    "            for pop1 in pops:\n",
    "                for pop2 in pops:\n",
    "                    net1.set_param(source+pop1+'_'+target+pop2+'_conn', 'edge_wrap', False )"
   ]
  },
  {
   "cell_type": "code",
   "execution_count": 7,
   "metadata": {
    "scrolled": false
   },
   "outputs": [
    {
     "name": "stdout",
     "output_type": "stream",
     "text": [
      "Building layer RD\n",
      "Building layer RU\n",
      "Building layer LU\n",
      "Building layer LD\n",
      "Creating LDe_LUe connection\n",
      "Creating LDe_LUi connection\n",
      "Creating LDi_LUe connection\n",
      "Creating LDi_LUi connection\n",
      "Creating LDe_RDe connection\n",
      "Creating LDe_RDi connection\n",
      "Creating LDi_RDe connection\n",
      "Creating LDi_RDi connection\n",
      "Creating LDe_RUe connection\n",
      "Creating LDe_RUi connection\n",
      "Creating LDi_RUe connection\n",
      "Creating LDi_RUi connection\n",
      "Creating LUe_LDe connection\n",
      "Creating LUe_LDi connection\n",
      "Creating LUi_LDe connection\n",
      "Creating LUi_LDi connection\n",
      "Creating LUe_RDe connection\n",
      "Creating LUe_RDi connection\n",
      "Creating LUi_RDe connection\n",
      "Creating LUi_RDi connection\n",
      "Creating LUe_RUe connection\n",
      "Creating LUe_RUi connection\n",
      "Creating LUi_RUe connection\n",
      "Creating LUi_RUi connection\n",
      "Creating RDe_LDe connection\n",
      "Creating RDe_LDi connection\n",
      "Creating RDi_LDe connection\n",
      "Creating RDi_LDi connection\n",
      "Creating RDe_LUe connection\n",
      "Creating RDe_LUi connection\n",
      "Creating RDi_LUe connection\n",
      "Creating RDi_LUi connection\n",
      "Creating RDe_RUe connection\n",
      "Creating RDe_RUi connection\n",
      "Creating RDi_RUe connection\n",
      "Creating RDi_RUi connection\n",
      "Creating RUe_LDe connection\n",
      "Creating RUe_LDi connection\n",
      "Creating RUi_LDe connection\n",
      "Creating RUi_LDi connection\n",
      "Creating RUe_LUe connection\n",
      "Creating RUe_LUi connection\n",
      "Creating RUi_LUe connection\n",
      "Creating RUi_LUi connection\n",
      "Creating RUe_RDe connection\n",
      "Creating RUe_RDi connection\n",
      "Creating RUi_RDe connection\n",
      "Creating RUi_RDi connection\n"
     ]
    },
    {
     "name": "stderr",
     "output_type": "stream",
     "text": [
      "/home/z/projects/draculab/topology.py:390: UserWarning: Zero connections created with topo_connect\n",
      "  warn('Zero connections created with topo_connect', UserWarning)\n"
     ]
    }
   ],
   "source": [
    "net1.build()"
   ]
  },
  {
   "cell_type": "code",
   "execution_count": null,
   "metadata": {},
   "outputs": [],
   "source": [
    "ei_net.run(5, 1.)"
   ]
  },
  {
   "cell_type": "code",
   "execution_count": null,
   "metadata": {
    "scrolled": false
   },
   "outputs": [],
   "source": [
    "%matplotlib inline\n",
    "ei_net.basic_plot('S')"
   ]
  },
  {
   "cell_type": "code",
   "execution_count": null,
   "metadata": {
    "scrolled": false
   },
   "outputs": [],
   "source": [
    "ei_net.basic_plot('M')"
   ]
  },
  {
   "cell_type": "code",
   "execution_count": null,
   "metadata": {},
   "outputs": [],
   "source": [
    "ei_net.double_anim(M.e+S.e+S.x, thr=0.45)"
   ]
  },
  {
   "cell_type": "code",
   "execution_count": null,
   "metadata": {},
   "outputs": [],
   "source": [
    "# Plot the highest unit activities\n",
    "%matplotlib inline\n",
    "n_top = 4  # how many units to plot\n",
    "top_pop = np.array(S.e)  # population to visualize\n",
    "top_units = ei_net.all_activs[top_pop].sum(1).argpartition(-n_top)[-n_top:]\n",
    "print(top_units)\n",
    "top_act_fig = plt.figure(figsize=(18,8))\n",
    "top_acts = ei_net.all_activs[top_pop[top_units]].transpose()\n",
    "plt.plot(ei_net.all_times, top_acts)\n",
    "plt.show()"
   ]
  },
  {
   "cell_type": "code",
   "execution_count": null,
   "metadata": {},
   "outputs": [],
   "source": [
    "# Plot the lowest unit activities\n",
    "n_bottom = 4  # how many units to plot\n",
    "bottom_pop = np.array(M.e)  # population to visualize\n",
    "bottom_units = ei_net.all_activs[bottom_pop].sum(1).argpartition(n_bottom)[0:n_bottom-1]\n",
    "print(bottom_units)\n",
    "bottom_act_fig = plt.figure(figsize=(18,8))\n",
    "bottom_acts = ei_net.all_activs[bottom_pop[bottom_units]].transpose()\n",
    "plt.plot(ei_net.all_times, bottom_acts)\n",
    "plt.show()"
   ]
  },
  {
   "cell_type": "code",
   "execution_count": 8,
   "metadata": {},
   "outputs": [
    {
     "data": {
      "application/vnd.jupyter.widget-view+json": {
       "model_id": "87f308705e894a1ab44eb7f7eee34ab1",
       "version_major": 2,
       "version_minor": 0
      },
      "text/html": [
       "<p>Failed to display Jupyter Widget of type <code>interactive</code>.</p>\n",
       "<p>\n",
       "  If you're reading this message in the Jupyter Notebook or JupyterLab Notebook, it may mean\n",
       "  that the widgets JavaScript is still loading. If this message persists, it\n",
       "  likely means that the widgets JavaScript library is either not installed or\n",
       "  not enabled. See the <a href=\"https://ipywidgets.readthedocs.io/en/stable/user_install.html\">Jupyter\n",
       "  Widgets Documentation</a> for setup instructions.\n",
       "</p>\n",
       "<p>\n",
       "  If you're reading this message in another frontend (for example, a static\n",
       "  rendering on GitHub or <a href=\"https://nbviewer.jupyter.org/\">NBViewer</a>),\n",
       "  it may mean that your frontend doesn't currently support widgets.\n",
       "</p>\n"
      ],
      "text/plain": [
       "interactive(children=(IntSlider(value=8, description='frame', max=16, min=1), Output()), _dom_classes=('widget-interact',))"
      ]
     },
     "metadata": {},
     "output_type": "display_data"
    },
    {
     "data": {
      "text/plain": [
       "<function ipywidgets.widgets.interaction._InteractFactory.__call__.<locals>.<lambda>>"
      ]
     },
     "execution_count": 8,
     "metadata": {},
     "output_type": "execute_result"
    }
   ],
   "source": [
    "net1.conn_anim(LD.e, LD.e, slider=True)"
   ]
  },
  {
   "cell_type": "code",
   "execution_count": null,
   "metadata": {},
   "outputs": [],
   "source": [
    "ei_net.act_anim(S.e+M.e, 0.2)"
   ]
  },
  {
   "cell_type": "code",
   "execution_count": null,
   "metadata": {},
   "outputs": [],
   "source": [
    "ei_net.hist_anim(S.e+M.e)"
   ]
  },
  {
   "cell_type": "code",
   "execution_count": null,
   "metadata": {},
   "outputs": [],
   "source": [
    "# logging\n",
    "ei_net.log()"
   ]
  },
  {
   "cell_type": "raw",
   "metadata": {},
   "source": [
    "# Saving ei_network object as a pickle\n",
    "ei_net.save()"
   ]
  },
  {
   "cell_type": "raw",
   "metadata": {},
   "source": [
    "# Retrieving saved object\n",
    "F = open('ei_network_01-23-18.pkl','rb')\n",
    "ei_net = dill.load(F)\n",
    "F.close()"
   ]
  },
  {
   "cell_type": "raw",
   "metadata": {},
   "source": [
    "# counting synapses\n",
    "synsum = 0\n",
    "for slist in ei_net.net.syns:\n",
    "    synsum += len(slist)\n",
    "synsum"
   ]
  },
  {
   "cell_type": "code",
   "execution_count": null,
   "metadata": {},
   "outputs": [],
   "source": []
  }
 ],
 "metadata": {
  "kernelspec": {
   "display_name": "Python 3",
   "language": "python",
   "name": "python3"
  },
  "language_info": {
   "codemirror_mode": {
    "name": "ipython",
    "version": 3
   },
   "file_extension": ".py",
   "mimetype": "text/x-python",
   "name": "python",
   "nbconvert_exporter": "python",
   "pygments_lexer": "ipython3",
   "version": "3.5.2"
  }
 },
 "nbformat": 4,
 "nbformat_minor": 2
}
