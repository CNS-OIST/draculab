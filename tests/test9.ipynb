{
 "cells": [
  {
   "cell_type": "markdown",
   "metadata": {},
   "source": [
    "## test9.ipynb\n",
    "\n",
    "Compare a ei_network simulation against an equivalent ei_net simulation.\n",
    "\n",
    "Two simulations are compared. In the first one, an 8x8 grid of E and I units is created using ei_net.\n",
    "In the second one, the same grid is created as four 4x4 ei_network layers, each covering a \"quadrant\" of the original grid.\n",
    "\n",
    "By Sergio Verduzco\n",
    "January 2018"
   ]
  },
  {
   "cell_type": "code",
   "execution_count": 1,
   "metadata": {},
   "outputs": [
    {
     "name": "stdout",
     "output_type": "stream",
     "text": [
      "/home/z/projects/draculab\n"
     ]
    }
   ],
   "source": [
    "%cd ..\n",
    "#import ei_network and ei_net\n",
    "from ei_network import *\n",
    "from ei_net import *"
   ]
  },
  {
   "cell_type": "markdown",
   "metadata": {},
   "source": [
    "### ei_net creation"
   ]
  },
  {
   "cell_type": "code",
   "execution_count": 2,
   "metadata": {
    "code_folding": []
   },
   "outputs": [],
   "source": [
    "# Create the ei_net networkr some\n",
    "net0 = ei_net()"
   ]
  },
  {
   "cell_type": "code",
   "execution_count": 3,
   "metadata": {
    "code_folding": []
   },
   "outputs": [],
   "source": [
    "# Set the ei_net parameters\n",
    "# We homogeneize the connections\n",
    "for conn in ['ee_conn', 'ei_conn', 'ie_conn', 'ii_conn', 'xe_conn', 'xi_conn']:\n",
    "    net0.set_param(conn, 'edge_wrap', False)\n",
    "    net0.set_param(conn, 'mask',  {'circular': {'radius': .3}})\n",
    "    net0.set_param(conn, 'kernel',  1.)\n",
    "for conn in ['xe_conn', 'xi_conn']:\n",
    "    net0.set_param(conn, 'weights', {'linear' : {'c' : 2.5, 'a' : 2.}})\n",
    "for conn in ['ee_conn', 'ei_conn']:\n",
    "    net0.set_param(conn, 'weights', {'linear' : {'c' : .5, 'a' : 1.}})\n",
    "for conn in ['ie_conn', 'ii_conn']:\n",
    "    net0.set_param(conn, 'weights', {'linear' : {'c' : -.5, 'a' : 1.}})\n",
    "# Same geometry as the other network\n",
    "for geom in ['e_geom', 'i_geom', 'x_geom']:\n",
    "    net0.set_param(geom, 'center', [0., 0.])\n",
    "    net0.set_param(geom, 'extent', [2., 2.])\n",
    "    net0.set_param(geom, 'rows', 8)\n",
    "    net0.set_param(geom, 'columns', 8)\n",
    "    net0.set_param(geom, 'jitter', 0.)\n",
    "net0.set_param('x_geom', 'rows', 2)\n",
    "net0.set_param('x_geom', 'columns', 2)\n",
    "net0.n['w_track'] = 8\n",
    "# We remove heterogeneous parameters\n",
    "for pop in ['e', 'i']:\n",
    "    for par in ['slope', 'thresh', 'tau', 'init_val']:\n",
    "        net0.set_param(pop+'_pars', par+'_wid', 0.)"
   ]
  },
  {
   "cell_type": "code",
   "execution_count": 4,
   "metadata": {
    "code_folding": []
   },
   "outputs": [],
   "source": [
    "# Build the ei_net network\n",
    "net0.build()"
   ]
  },
  {
   "cell_type": "markdown",
   "metadata": {},
   "source": [
    "### ei_network creation"
   ]
  },
  {
   "cell_type": "code",
   "execution_count": 5,
   "metadata": {
    "code_folding": []
   },
   "outputs": [],
   "source": [
    "# Create ei_network network\n",
    "layer_names = ['LD', 'LU', 'RD', 'RU'] # left down, left up, right down, right up\n",
    "net1 = ei_network(layer_names)"
   ]
  },
  {
   "cell_type": "code",
   "execution_count": 6,
   "metadata": {
    "code_folding": []
   },
   "outputs": [],
   "source": [
    "# Configure layer parameters\n",
    "LD = net1.layers['LD']\n",
    "LU = net1.layers['LU']\n",
    "RD = net1.layers['RD']\n",
    "RU = net1.layers['RU']\n",
    "\n",
    "centers = ( [-0.5,-0.5], [-0.5, 0.5], [0.5,-0.5], [0.5, 0.5] )\n",
    "layers = [LD, LU, RD, RU]\n",
    "for lyr, cntr in zip(layers, centers):\n",
    "    for geom in ['e_geom', 'i_geom', 'x_geom']:\n",
    "        lyr.set_param(geom, 'center', cntr)\n",
    "        lyr.set_param(geom, 'extent', [1., 1.])\n",
    "        lyr.set_param(geom, 'jitter', 0.)\n",
    "        lyr.set_param(geom, 'rows', 4)\n",
    "        lyr.set_param(geom, 'columns', 4)\n",
    "    # A single input unit per layer, located at the center of the layer\n",
    "    lyr.set_param('x_geom', 'rows', 1)\n",
    "    lyr.set_param('x_geom', 'columns', 1)\n",
    "    # match the connection parameters\n",
    "    lyr.set_param('ee_conn', 'weights', {'linear' : {'c' : .5, 'a' : 1.}})\n",
    "    lyr.set_param('ei_conn', 'weights', {'linear' : {'c' : .5, 'a' : 1.}})\n",
    "    lyr.set_param('ie_conn', 'weights', {'linear' : {'c' : -.5, 'a' : 1.}})\n",
    "    lyr.set_param('ii_conn', 'weights', {'linear' : {'c' : -.5, 'a' : 1.}})\n",
    "    lyr.set_param('xe_conn', 'weights', {'linear' : {'c' : 2.5, 'a' : 2.}})\n",
    "    lyr.set_param('xi_conn', 'weights', {'linear' : {'c' : 2.5, 'a' : 2.}})\n",
    "    for conn in ['ee_conn', 'ei_conn', 'ie_conn', 'ii_conn', 'xe_conn', 'xi_conn']:\n",
    "        lyr.set_param(conn, 'edge_wrap', False)\n",
    "        lyr.set_param(conn, 'mask', {'circular': {'radius': .3}})\n",
    "        lyr.set_param(conn, 'kernel', 1.)\n",
    "    lyr.n['w_track'] = 2\n",
    "    # Remove heterogeneous parameters\n",
    "    for pop in ['e', 'i']:\n",
    "        for par in ['slope', 'thresh', 'tau', 'init_val']:\n",
    "            lyr.set_param(pop+'_pars', par+'_wid', 0.)"
   ]
  },
  {
   "cell_type": "code",
   "execution_count": 7,
   "metadata": {
    "code_folding": []
   },
   "outputs": [],
   "source": [
    "# Add interlayer connections\n",
    "pops = ['e', 'i']\n",
    "# We'll allow any two populations to connect\n",
    "for source in layer_names:\n",
    "    for target in layer_names:\n",
    "        if source != target:\n",
    "            for pop1 in pops:\n",
    "                for pop2 in pops:\n",
    "                    net1.add_connection((source, pop1), (target, pop2))"
   ]
  },
  {
   "cell_type": "code",
   "execution_count": 8,
   "metadata": {
    "code_folding": []
   },
   "outputs": [],
   "source": [
    "# Configure interlayer connections\n",
    "# I don't need to setup any interlayer transformations, just avoid periodic boundaries\n",
    "for source in layer_names:\n",
    "    for target in layer_names:\n",
    "        if source != target:\n",
    "            for pop1 in pops:\n",
    "                for pop2 in pops:\n",
    "                    net1.set_param(source+pop1+'_'+target+pop2+'_conn', 'edge_wrap', False )\n",
    "                    net1.set_param(source+pop1+'_'+target+pop2+'_conn', 'mask', {'circular': {'radius': .3}})\n",
    "                    net1.set_param(source+pop1+'_'+target+pop2+'_conn', 'kernel', 1.)\n",
    "                    net1.set_param(source+pop1+'_'+target+pop2+'_conn', 'transform', None)\n",
    "                    if pop1 == 'e':\n",
    "                        net1.set_param(source+pop1+'_'+target+pop2+'_conn', 'weights',  {'linear' : {'c' : .5, 'a' : 1.}})\n",
    "                    else:\n",
    "                        net1.set_param(source+pop1+'_'+target+pop2+'_conn', 'weights',  {'linear' : {'c' : -.5, 'a' : 1.}})"
   ]
  },
  {
   "cell_type": "code",
   "execution_count": 9,
   "metadata": {
    "code_folding": [],
    "scrolled": true
   },
   "outputs": [
    {
     "name": "stdout",
     "output_type": "stream",
     "text": [
      "Building layer RD\n",
      "Building layer LD\n",
      "Building layer LU\n",
      "Building layer RU\n",
      "\n",
      "\n",
      "Creating LDe_LUe connection\n",
      "Creating LDe_LUi connection\n",
      "Creating LDi_LUe connection\n",
      "Creating LDi_LUi connection\n",
      "Creating LDe_RDe connection\n",
      "Creating LDe_RDi connection\n",
      "Creating LDi_RDe connection\n",
      "Creating LDi_RDi connection\n",
      "Creating LDe_RUe connection\n",
      "Creating LDe_RUi connection\n",
      "Creating LDi_RUe connection\n",
      "Creating LDi_RUi connection\n",
      "Creating LUe_LDe connection\n",
      "Creating LUe_LDi connection\n",
      "Creating LUi_LDe connection\n",
      "Creating LUi_LDi connection\n",
      "Creating LUe_RDe connection\n",
      "Creating LUe_RDi connection\n",
      "Creating LUi_RDe connection\n",
      "Creating LUi_RDi connection\n",
      "Creating LUe_RUe connection\n",
      "Creating LUe_RUi connection\n",
      "Creating LUi_RUe connection\n",
      "Creating LUi_RUi connection\n",
      "Creating RDe_LDe connection\n",
      "Creating RDe_LDi connection\n",
      "Creating RDi_LDe connection\n",
      "Creating RDi_LDi connection\n",
      "Creating RDe_LUe connection\n",
      "Creating RDe_LUi connection\n",
      "Creating RDi_LUe connection\n",
      "Creating RDi_LUi connection\n",
      "Creating RDe_RUe connection\n",
      "Creating RDe_RUi connection\n",
      "Creating RDi_RUe connection\n",
      "Creating RDi_RUi connection\n",
      "Creating RUe_LDe connection\n",
      "Creating RUe_LDi connection\n",
      "Creating RUi_LDe connection\n",
      "Creating RUi_LDi connection\n",
      "Creating RUe_LUe connection\n",
      "Creating RUe_LUi connection\n",
      "Creating RUi_LUe connection\n",
      "Creating RUi_LUi connection\n",
      "Creating RUe_RDe connection\n",
      "Creating RUe_RDi connection\n",
      "Creating RUi_RDe connection\n",
      "Creating RUi_RDi connection\n"
     ]
    },
    {
     "name": "stderr",
     "output_type": "stream",
     "text": [
      "/home/z/projects/draculab/topology.py:427: UserWarning: Zero connections created with topo_connect\n",
      "  warn('Zero connections created with topo_connect', UserWarning)\n"
     ]
    }
   ],
   "source": [
    "# Build the ei_network network\n",
    "net1.build()"
   ]
  },
  {
   "cell_type": "markdown",
   "metadata": {},
   "source": [
    "### Comparing units and connections before simulation (numerical tests 0 and 1)"
   ]
  },
  {
   "cell_type": "code",
   "execution_count": 10,
   "metadata": {
    "code_folding": []
   },
   "outputs": [
    {
     "name": "stdout",
     "output_type": "stream",
     "text": [
      "UNITS - net0: 140, net1: 140 \n",
      "SYNAPSES - net0 : 1184, net1 : 1184\n"
     ]
    }
   ],
   "source": [
    "# counting units and synapses\n",
    "# Numerical test 0\n",
    "nu_n0 = len(net0.net.units)\n",
    "nu_n1 = len(net1.net.units)\n",
    "print(\"UNITS - net0: %d, net1: %d \" % (nu_n0, nu_n1))\n",
    "\n",
    "synsum0 = 0\n",
    "for slist in net0.net.syns:\n",
    "    synsum0 += len(slist)\n",
    "synsum1 = 0\n",
    "for slist in net1.net.syns:\n",
    "    synsum1 += len(slist)\n",
    "print(\"SYNAPSES - net0 : %d, net1 : %d\" % (synsum0, synsum1))"
   ]
  },
  {
   "cell_type": "code",
   "execution_count": 12,
   "metadata": {
    "code_folding": [
     0
    ],
    "scrolled": true
   },
   "outputs": [
    {
     "data": {
      "image/png": "[encoded data removed]",
      "text/plain": [
       "<Figure size 1080x720 with 2 Axes>"
      ]
     },
     "metadata": {},
     "output_type": "display_data"
    },
    {
     "data": {
      "image/png": "[encoded data removed]",
      "text/plain": [
       "<Figure size 576x576 with 1 Axes>"
      ]
     },
     "metadata": {},
     "output_type": "display_data"
    }
   ],
   "source": [
    "# comparing connection matrices and locations\n",
    "units0 = net0.e + net0.i + net0.x\n",
    "e = LD.e+LU.e+RD.e+RU.e \n",
    "x = LD.x+LU.x+RD.x+RU.x\n",
    "i = LD.i+LU.i+RD.i+RU.i\n",
    "units1 = e+x+i\n",
    "others0 = [u.ID for u in net0.net.units if u.ID not in units0]\n",
    "others1 = [u.ID for u in net1.net.units if u.ID not in units1]\n",
    "n0 = len(units0)\n",
    "n1 = len(units1)\n",
    "W0 = np.zeros((n0,n0))\n",
    "W1 = np.zeros((n1,n1))\n",
    "if n0 != n1:\n",
    "    print(\"Different number of units\")\n",
    "    \n",
    "for slist in net0.net.syns:\n",
    "    for syn in slist:\n",
    "        if syn.postID in units0 and syn.preID in units0:\n",
    "            W0[syn.postID, syn.preID] = syn.w\n",
    "\n",
    "# Let's find reorder the units in net1 so they are in the same order as net0\n",
    "net_map = np.zeros(n0, dtype=int) # from index in units1 to index in units0\n",
    "coord0 = [ net0.net.units[u].coordinates for u in units0 ]\n",
    "coord1 = [ net1.net.units[u].coordinates for u in units1 ]\n",
    "# one unit maps to another if they have the same coordinates and the same group\n",
    "for idx1 in range(n1):\n",
    "    found = False\n",
    "    for idx0 in range(n0):\n",
    "        if (coord0[idx0] == coord1[idx1]).all():\n",
    "            if ( (units0[idx0] in net0.e and units1[idx1] in e) or\n",
    "                 (units0[idx0] in net0.i and units1[idx1] in i) or\n",
    "                 (units0[idx0] in net0.x and units1[idx1] in x) ): \n",
    "                net_map[idx1] = idx0\n",
    "                found = True\n",
    "                break\n",
    "    if not found:\n",
    "        print(\"Did not find net0 unit with these coordinates: \", end=' ')\n",
    "        print(coord1[idx1])\n",
    "    \n",
    "for slist in net1.net.syns:\n",
    "    for syn in slist:\n",
    "        if syn.postID in units1 and syn.preID in units1:\n",
    "            post = net_map[units1.index(syn.postID)]\n",
    "            pre = net_map[units1.index(syn.preID)]\n",
    "            W1[post, pre] = syn.w\n",
    "\n",
    "# If there are differences in the connection matrices, print them\n",
    "# (Numerical test 1)\n",
    "for row in range(n0):\n",
    "    for column in range(n0):\n",
    "        diff = W0[row,column]-W1[row,column]\n",
    "        if diff != 0:\n",
    "            print(\"(%d, %d) = %f\" %(row,column,diff))\n",
    "        \n",
    "# A figure with the connection matrices\n",
    "wfig = plt.figure(figsize=(15,10))\n",
    "ax1 = wfig.add_axes([0.02, 0.01, .47, 0.95], frameon=True, aspect=1) \n",
    "ax2 = wfig.add_axes([0.51, 0.01, .47, 0.95], frameon=True, aspect=1) \n",
    "ax1.imshow(W0)\n",
    "ax2.imshow(W1)\n",
    "# A figure with the difference of the connection matrices\n",
    "wdiffig = plt.figure(figsize=(8,8))\n",
    "plt.imshow(W0-W1)\n",
    "plt.show()"
   ]
  },
  {
   "cell_type": "markdown",
   "metadata": {},
   "source": [
    "### Running simulations"
   ]
  },
  {
   "cell_type": "code",
   "execution_count": 13,
   "metadata": {
    "code_folding": []
   },
   "outputs": [],
   "source": [
    "# Preparing the input pattern functions\n",
    "def odd_even(pres, rows, cols):\n",
    "    # if pres is odd, odd-numbered entries activate,\n",
    "    # if pres is even, even-numbered entries activate\n",
    "    pat = np.zeros(rows*cols)\n",
    "    if pres%2 == 1: # if pres is odd\n",
    "        pat[0:len(pat):2] = 1.\n",
    "    else: # pres is even\n",
    "        pat[1:len(pat):2] = 1.\n",
    "    return pat\n",
    "\n",
    "def odd(pres, rows, cols):\n",
    "    # if pres is odd all units activate\n",
    "    if pres%2 == 1:\n",
    "        return np.ones(rows*cols)\n",
    "    else:\n",
    "        return np.zeros(rows*cols)\n",
    "\n",
    "def even(pres, rows, cols):\n",
    "    # if pres is even all units activate\n",
    "    if pres%2 == 0:\n",
    "        return np.ones(rows*cols)\n",
    "    else:\n",
    "        return np.zeros(rows*cols)"
   ]
  },
  {
   "cell_type": "code",
   "execution_count": 14,
   "metadata": {
    "code_folding": []
   },
   "outputs": [
    {
     "name": "stdout",
     "output_type": "stream",
     "text": [
      "Presentation 0 took 1.700822114944458 seconds.\n",
      "Presentation 1 took 1.559112787246704 seconds.\n",
      "Total execution time is 3.2606706619262695 seconds\n"
     ]
    },
    {
     "data": {
      "text/plain": [
       "<ei_net.ei_net at 0x7f172c53f780>"
      ]
     },
     "execution_count": 14,
     "metadata": {},
     "output_type": "execute_result"
    }
   ],
   "source": [
    "# Running net0 (ei_net)\n",
    "net0.run(2, .5, set_inp_pat=odd_even)"
   ]
  },
  {
   "cell_type": "code",
   "execution_count": 15,
   "metadata": {
    "code_folding": [
     0
    ]
   },
   "outputs": [
    {
     "name": "stdout",
     "output_type": "stream",
     "text": [
      "Starting presentation 0\n",
      "Presentation 0 took 1.6456873416900635 seconds \n",
      "Starting presentation 1\n",
      "Presentation 1 took 1.5442471504211426 seconds \n",
      "Total execution time is 3.1904540061950684 seconds \n",
      "----------------------\n"
     ]
    },
    {
     "data": {
      "text/plain": [
       "<ei_network.ei_network at 0x7f1710112630>"
      ]
     },
     "execution_count": 15,
     "metadata": {},
     "output_type": "execute_result"
    }
   ],
   "source": [
    "# Running net1 (ei_network)\n",
    "inp_pat = {'LD':odd, 'LU':even, 'RD':odd, 'RU':even}\n",
    "net1.run(2, .5, set_inp_pat=inp_pat)"
   ]
  },
  {
   "cell_type": "markdown",
   "metadata": {},
   "source": [
    "### Calculating maximum deviation (numerical test 2)"
   ]
  },
  {
   "cell_type": "code",
   "execution_count": 16,
   "metadata": {},
   "outputs": [
    {
     "name": "stdout",
     "output_type": "stream",
     "text": [
      "Maximum deviation: 0.013006\n"
     ]
    },
    {
     "data": {
      "image/png": "[encoded data removed]",
      "text/plain": [
       "<Figure size 1080x576 with 1 Axes>"
      ]
     },
     "metadata": {},
     "output_type": "display_data"
    }
   ],
   "source": [
    "act0 = net0.all_activs[net_map[range(len(units0))]]\n",
    "act1 = net1.all_activs[units1]\n",
    "# Numerical test2\n",
    "# This is the bottom line of the whole program\n",
    "print(\"Maximum deviation: %f\" % (np.amax(act0-act1)))\n",
    "\n",
    "dev_fig = plt.figure(figsize=(15,8))\n",
    "unit = 90\n",
    "plt.plot(net0.all_times, act0[unit])\n",
    "plt.plot(net1.all_times, act1[unit])\n",
    "plt.show()"
   ]
  },
  {
   "cell_type": "markdown",
   "metadata": {},
   "source": [
    "### More visualizations"
   ]
  },
  {
   "cell_type": "code",
   "execution_count": null,
   "metadata": {},
   "outputs": [],
   "source": [
    "net0.double_anim(net0.e+net0.x, thr=0.5, slider=False)"
   ]
  },
  {
   "cell_type": "code",
   "execution_count": null,
   "metadata": {},
   "outputs": [],
   "source": [
    "net1.double_anim(e+x, thr=0.5, slider=True)"
   ]
  },
  {
   "cell_type": "code",
   "execution_count": null,
   "metadata": {
    "scrolled": false
   },
   "outputs": [],
   "source": [
    "%matplotlib inline\n",
    "net1.basic_plot('LD')"
   ]
  },
  {
   "cell_type": "code",
   "execution_count": null,
   "metadata": {
    "scrolled": false
   },
   "outputs": [],
   "source": [
    "net0.basic_plot()"
   ]
  },
  {
   "cell_type": "code",
   "execution_count": null,
   "metadata": {
    "code_folding": [
     0
    ]
   },
   "outputs": [],
   "source": [
    "# Plot the highest unit activities\n",
    "%matplotlib inline\n",
    "n_top = 10  # how many units to plot\n",
    "top_pop0 = np.array(net0.e)  # population to visualize in net0\n",
    "top_pop1 = np.array(e)  # population to visualize in net1\n",
    "top_units0 = net0.all_activs[top_pop0].sum(1).argpartition(-n_top)[-n_top:]\n",
    "top_units1 = net1.all_activs[top_pop1].sum(1).argpartition(-n_top)[-n_top:]\n",
    "print(top_units0)\n",
    "print(top_units1)\n",
    "top_act_fig0 = plt.figure(figsize=(15,6))\n",
    "top_acts0 = net0.all_activs[top_pop0[top_units0]].transpose()\n",
    "plt.plot(net0.all_times, top_acts0)\n",
    "top_act_fig1 = plt.figure(figsize=(15,6))\n",
    "top_acts1 = net1.all_activs[top_pop1[top_units1]].transpose()\n",
    "plt.plot(net1.all_times, top_acts1)\n",
    "plt.show()"
   ]
  },
  {
   "cell_type": "code",
   "execution_count": null,
   "metadata": {
    "code_folding": [
     0
    ]
   },
   "outputs": [],
   "source": [
    "# Plot the lowest unit activities\n",
    "n_bottom = 4  # how many units to plot\n",
    "bottom_pop0 = np.array(net0.e)  # population to visualize in net0\n",
    "bottom_units0 = net0.all_activs[bottom_pop0].sum(1).argpartition(n_bottom)[0:n_bottom-1]\n",
    "print(bottom_units0)\n",
    "bottom_act_fig0 = plt.figure(figsize=(15,6))\n",
    "bottom_acts0 = net0.all_activs[bottom_pop0[bottom_units0]].transpose()\n",
    "plt.plot(net0.all_times, bottom_acts0)\n",
    "\n",
    "bottom_pop1 = np.array(e)  # population to visualize in net0\n",
    "bottom_units1 = net1.all_activs[bottom_pop1].sum(1).argpartition(n_bottom)[0:n_bottom-1]\n",
    "print(bottom_units1)\n",
    "bottom_act_fig1 = plt.figure(figsize=(15,6))\n",
    "bottom_acts1 = net1.all_activs[bottom_pop1[bottom_units1]].transpose()\n",
    "plt.plot(net1.all_times, bottom_acts1)\n",
    "\n",
    "plt.show()"
   ]
  },
  {
   "cell_type": "code",
   "execution_count": null,
   "metadata": {},
   "outputs": [],
   "source": [
    "e = LD.e+LU.e+RD.e+RU.e \n",
    "x = LD.x+LU.x+RD.x+RU.x\n",
    "i = LD.i+LU.i+RD.i+RU.i\n",
    "net1.conn_anim(e, e, slider=True, weights=True)"
   ]
  },
  {
   "cell_type": "code",
   "execution_count": null,
   "metadata": {},
   "outputs": [],
   "source": [
    "net0.conn_anim(net0.e+net0.x, net0.e, slider=True, weights=True)"
   ]
  },
  {
   "cell_type": "code",
   "execution_count": null,
   "metadata": {},
   "outputs": [],
   "source": []
  }
 ],
 "metadata": {
  "kernelspec": {
   "display_name": "Python 3",
   "language": "python",
   "name": "python3"
  },
  "language_info": {
   "codemirror_mode": {
    "name": "ipython",
    "version": 3
   },
   "file_extension": ".py",
   "mimetype": "text/x-python",
   "name": "python",
   "nbconvert_exporter": "python",
   "pygments_lexer": "ipython3",
   "version": "3.5.2"
  }
 },
 "nbformat": 4,
 "nbformat_minor": 2
}
