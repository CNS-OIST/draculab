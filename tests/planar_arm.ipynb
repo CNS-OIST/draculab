{
 "cells": [
  {
   "cell_type": "markdown",
   "metadata": {},
   "source": [
    "# planar_arm.ipynb\n",
    "The place to test equations for the planar arm"
   ]
  },
  {
   "cell_type": "markdown",
   "metadata": {},
   "source": [
    "## Muscle geometry initialization\n",
    "The planar arm has 6 muscles and 12 insertion points. The geometry is described by specifying the coordinates for all the insertion points when the arm is at a reference position. This, together with the coordinates of the elbow and the hand fully describe the arm's geometry.\n",
    "\n",
    "In the reference position the upper arm is aligned with the x axis (e.g. $\\theta_1 = 0$) and the forearm is aligned with the y axis ($\\theta_2 = \\pi/2$).\n",
    " "
   ]
  },
  {
   "cell_type": "code",
   "execution_count": 12,
   "metadata": {},
   "outputs": [],
   "source": [
    "from matplotlib import pyplot as plt\n",
    "import numpy as np"
   ]
  },
  {
   "cell_type": "code",
   "execution_count": 15,
   "metadata": {},
   "outputs": [],
   "source": [
    "## Coordinates for elbow and hand in the reference position\n",
    "# shoulder is at origin. Length units are meters.\n",
    "c_shoulder = (0., 0.)\n",
    "c_elbow = (0.3, 0.)\n",
    "c_hand = (0.3, 0.3)\n",
    "## Insertion point coordinates\n",
    "# biarticular biceps (muscle 1)\n",
    "i1 = (0., 0.04)  # proximal insertion point\n",
    "i2 = (0.29, 0.04) # distal insertion point\n",
    "# anterior deltoid, pectoral (muscle 2)\n",
    "i3 = (0., 0.04)\n",
    "i4 = (.1, 0.02)\n",
    "# posterior deltoid (muscle 3)\n",
    "i5 = (0., -.04)\n",
    "i6 = (.1, -0.02)\n",
    "# biarticular triceps (muscle 4)\n",
    "i7 = (0., -0.04)\n",
    "i8 = (.3, -0.03)\n",
    "# brachialis (muscle 5)\n",
    "i9 = (0.2, 0.02)\n",
    "i10 = (0.29, 0.04)\n",
    "# monoarticular triceps (muscle 6)\n",
    "i11 = (0.2, -0.02)\n",
    "i12 =(0.3, -0.03)"
   ]
  },
  {
   "cell_type": "code",
   "execution_count": 16,
   "metadata": {},
   "outputs": [
    {
     "data": {
      "image/png": "[encoded data removed]",
      "text/plain": [
       "<Figure size 864x864 with 1 Axes>"
      ]
     },
     "metadata": {
      "needs_background": "light"
     },
     "output_type": "display_data"
    }
   ],
   "source": [
    "# plot the arm\n",
    "fig = plt.figure(figsize = (12,12))\n",
    "# upper arm and forearm\n",
    "plt.plot([c_shoulder[0], c_elbow[0]], [c_shoulder[1],c_elbow[1]], 'k')\n",
    "plt.plot([c_elbow[0], c_hand[0]], [c_elbow[1], c_hand[0]], 'k')\n",
    "# insertion points\n",
    "points = [i1,i2,i3,i4,i5,i6,i7,i8,i9,i10,i11,i12]\n",
    "x_coords = [i[0] for i in points]\n",
    "y_coords = [i[1] for i in points]\n",
    "for idx in range(0,12,2):\n",
    "    plt.plot(x_coords[idx:idx+2], y_coords[idx:idx+2], 'r')\n",
    "plt.show()"
   ]
  },
  {
   "cell_type": "markdown",
   "metadata": {},
   "source": [
    "## Torque produced by each muscle given its tension\n",
    "For each muscle, given a Tension $T$, produce the torque $\\tau$ it produces with respect to either the shoulder or the elbow axis."
   ]
  },
  {
   "cell_type": "code",
   "execution_count": 4,
   "metadata": {},
   "outputs": [],
   "source": [
    "T = 1.\n",
    "\n",
    "def shoulder_torque(i_prox, i_dist, T):\n",
    "    \"\"\" Obtain the torque produced by a muscle wrt the shoulder joint.\n",
    "    \n",
    "        Args:\n",
    "            i_prox : coordinates of proximal insertion point (tuple)\n",
    "            i_dist : coordinates of distal insertion point (tuple)\n",
    "            T : muscle tension\n",
    "        Returns:\n",
    "            float\n",
    "    \"\"\"\n",
    "    v = np.array([i_prox[0] - i_dist[0], i_prox[1] - i_dist[1]])\n",
    "    v_norm = (sum(v*v))**(1./2.)\n",
    "    F = (T/v_norm) * v\n",
    "    tau = i_dist[0] * F[1] - i_dist[1] * F[0]\n",
    "    return tau\n",
    "\n",
    "def elbow_torque(i_prox, i_dist, T):\n",
    "    \"\"\" Obtain the torque produced by a muscle wrt the shoulder joint.\n",
    "    \n",
    "        Args:\n",
    "            i_prox : coordinates of proximal insertion point (tuple)\n",
    "            i_dist : coordinates of distal insertion point (tuple)\n",
    "            T : muscle tension\n",
    "        Returns:\n",
    "            float\n",
    "    \"\"\"\n",
    "    v = np.array([i_prox[0] - i_dist[0], i_prox[1] - i_dist[1]])\n",
    "    v_norm = (sum(v*v))**(1./2.)\n",
    "    F = (T/v_norm) * v\n",
    "    tau = (i_dist[0]-c_elbow[0]) * F[1] - (i_dist[1]-c_elbow[1]) * F[0]\n",
    "    return tau\n",
    "\n",
    "#ip = [np.array(p) for p in points]\n",
    "# muscle 1 wrt shouler\n",
    "tau1s = shoulder_torque(i1, i2, T)\n",
    "# muscle 1 wrt elbow\n",
    "tau1e = elbow_torque(i1, i2, T)\n",
    "# muscle 2 wrt shoulder\n",
    "tau2s = shoulder_torque(i3, i4, T)\n",
    "# muscle 3 wrt shoulder\n",
    "tau3s = shoulder_torque(i5, i6, T)\n",
    "# muscle 4 wrt shouler\n",
    "tau4s = shoulder_torque(i7, i8, T)\n",
    "# muscle 4 wrt elbow\n",
    "tau4e = elbow_torque(i7, i8, T)\n",
    "# muscle 5 wrt elbow\n",
    "tau5e = elbow_torque(i9, i10, T)\n",
    "# muscle 6 wrt elbow\n",
    "tau6e = elbow_torque(i11, i12, T)\n",
    "\n",
    "tau_shoulder = tau1s + tau2s + tau3s + tau4s\n",
    "tau_elbow = tau1e + tau4e + tau5e + tau6e"
   ]
  },
  {
   "cell_type": "code",
   "execution_count": 1,
   "metadata": {},
   "outputs": [],
   "source": [
    "from draculab import *\n",
    "params = {'l0': 0.9,\n",
    "          's' : 0.05,\n",
    "          'g1': 1.,\n",
    "          'g2': 0.5,\n",
    "          'g3': 0.5,\n",
    "          'dt': 0.01,\n",
    "          'p1': [0.,0.],\n",
    "          'p2': [.2,0.] }\n",
    "musk = spring_muscle(params)"
   ]
  },
  {
   "cell_type": "code",
   "execution_count": 2,
   "metadata": {},
   "outputs": [],
   "source": [
    "for pos in [.2+0.03*i for i in range(15)]:\n",
    "    musk.update((0.,0.),(pos,0), 1., 1., 1.)"
   ]
  },
  {
   "cell_type": "code",
   "execution_count": 3,
   "metadata": {},
   "outputs": [
    {
     "data": {
      "text/plain": [
       "0.986"
      ]
     },
     "execution_count": 3,
     "metadata": {},
     "output_type": "execute_result"
    }
   ],
   "source": [
    "musk.T"
   ]
  },
  {
   "cell_type": "code",
   "execution_count": 4,
   "metadata": {},
   "outputs": [
    {
     "name": "stdout",
     "output_type": "stream",
     "text": [
      "0.6025407133118306\n",
      "0.4050918153486639\n"
     ]
    }
   ],
   "source": [
    "print(musk.l_lpf_fast)\n",
    "print(musk.l_lpf_mid)"
   ]
  },
  {
   "cell_type": "code",
   "execution_count": 5,
   "metadata": {},
   "outputs": [
    {
     "data": {
      "text/plain": [
       "2.9617334694475"
      ]
     },
     "execution_count": 5,
     "metadata": {},
     "output_type": "execute_result"
    }
   ],
   "source": [
    "musk.v"
   ]
  },
  {
   "cell_type": "code",
   "execution_count": 17,
   "metadata": {},
   "outputs": [
    {
     "data": {
      "text/plain": [
       "3.1415926535897927"
      ]
     },
     "execution_count": 17,
     "metadata": {},
     "output_type": "execute_result"
    }
   ],
   "source": [
    "abs(-np.sqrt(np.arctan(1)*4)**2)"
   ]
  },
  {
   "cell_type": "markdown",
   "metadata": {},
   "source": [
    "## Testing an instance of the `planar_arm` class"
   ]
  },
  {
   "cell_type": "code",
   "execution_count": 1,
   "metadata": {},
   "outputs": [],
   "source": [
    "from draculab import *\n",
    "import numpy as np\n",
    "import matplotlib.pyplot as plt\n",
    "from matplotlib.animation import FuncAnimation\n",
    "import time\n",
    "%matplotlib widget"
   ]
  },
  {
   "cell_type": "code",
   "execution_count": 2,
   "metadata": {},
   "outputs": [],
   "source": [
    "net_params = {'min_delay':0.01,\n",
    "              'min_buff_size': 10 }\n",
    "\n",
    "arm_params = {'type': plant_models.planar_arm,\n",
    "          'mass1': 1.,\n",
    "          'mass2': 1.,\n",
    "          'init_q1': -0.1,\n",
    "          'init_q2': 0., #np.pi/4.,\n",
    "          'init_q1p': 0.,\n",
    "          'init_q2p': 0.,\n",
    "          'g': 0.,\n",
    "          'mu1': 0.05,\n",
    "          'mu2': 0.05\n",
    "         }\n",
    "track_params = {'type': unit_types.source,\n",
    "                'init_val': 0.,\n",
    "                'function' : lambda x: 0.}\n",
    "net = network(net_params)\n",
    "arm_id = net.create(1, arm_params)\n",
    "# create source units to track the insertion points\n",
    "ipx_track = net.create(12, track_params) # x coordinates\n",
    "ipy_track = net.create(12, track_params) # y coordinates\n",
    "# create source units to track the tensions\n",
    "ten_track = net.create(6, track_params)\n",
    "\n",
    "def create_xtracker(arm_id, idx):\n",
    "    return lambda t: net.plants[arm_id].ip[idx][0]\n",
    "\n",
    "def create_ytracker(arm_id, idx):\n",
    "    return lambda t: net.plants[arm_id].ip[idx][1]\n",
    "\n",
    "def create_tentracker(arm_id, idx):\n",
    "    return lambda t: net.plants[arm_id].muscles[idx].T\n",
    "\n",
    "for idx, uid in enumerate(ipx_track):\n",
    "    net.units[uid].set_function(create_xtracker(arm_id, idx))\n",
    "for idx, uid in enumerate(ipy_track):\n",
    "    net.units[uid].set_function(create_ytracker(arm_id, idx))\n",
    "for idx, uid in enumerate(ten_track):\n",
    "    net.units[uid].set_function(create_tentracker(arm_id, idx))"
   ]
  },
  {
   "cell_type": "code",
   "execution_count": 3,
   "metadata": {},
   "outputs": [
    {
     "name": "stdout",
     "output_type": "stream",
     "text": [
      "Execution time: 7.109247922897339 seconds\n"
     ]
    }
   ],
   "source": [
    "sim_time = 100. # simulation time\n",
    "start_time = time.time()\n",
    "sim_dat = net.run(sim_time)\n",
    "arm_activs = np.array(sim_dat[2][arm_id])\n",
    "print('Execution time: %s seconds' % (time.time() - start_time))"
   ]
  },
  {
   "cell_type": "code",
   "execution_count": 4,
   "metadata": {},
   "outputs": [
    {
     "data": {
      "image/png": "[encoded data removed]",
      "text/plain": [
       "<Figure size 432x288 with 1 Axes>"
      ]
     },
     "metadata": {
      "needs_background": "light"
     },
     "output_type": "display_data"
    }
   ],
   "source": [
    "# plotting the state variables\n",
    "fig = plt.figure()\n",
    "plt.plot(sim_dat[0], arm_activs)\n",
    "plt.show()"
   ]
  },
  {
   "cell_type": "code",
   "execution_count": 5,
   "metadata": {},
   "outputs": [
    {
     "data": {
      "application/vnd.jupyter.widget-view+json": {
       "model_id": "638d8b96acc04b02a42b97a03d697857",
       "version_major": 2,
       "version_minor": 0
      },
      "text/html": [
       "<p>Failed to display Jupyter Widget of type <code>FigureCanvasNbAgg</code>.</p>\n",
       "<p>\n",
       "  If you're reading this message in the Jupyter Notebook or JupyterLab Notebook, it may mean\n",
       "  that the widgets JavaScript is still loading. If this message persists, it\n",
       "  likely means that the widgets JavaScript library is either not installed or\n",
       "  not enabled. See the <a href=\"https://ipywidgets.readthedocs.io/en/stable/user_install.html\">Jupyter\n",
       "  Widgets Documentation</a> for setup instructions.\n",
       "</p>\n",
       "<p>\n",
       "  If you're reading this message in another frontend (for example, a static\n",
       "  rendering on GitHub or <a href=\"https://nbviewer.jupyter.org/\">NBViewer</a>),\n",
       "  it may mean that your frontend doesn't currently support widgets.\n",
       "</p>\n"
      ],
      "text/plain": [
       "FigureCanvasNbAgg()"
      ]
     },
     "metadata": {},
     "output_type": "display_data"
    }
   ],
   "source": [
    "#Animation of the arm and muscles\n",
    "%matplotlib widget\n",
    "from numpy import cos, sin\n",
    "\n",
    "# angles of shoulder and elbow\n",
    "theta_s = arm_activs[:,0]\n",
    "theta_e = arm_activs[:,2]\n",
    "phi = theta_s + theta_e # elbow angle wrt x axis\n",
    "# data from tracking units\n",
    "acts = np.array(sim_dat[1])\n",
    "ipx = acts[ipx_track]\n",
    "ipy = acts[ipy_track]\n",
    "ten = acts[ten_track] # muscle tensions\n",
    "# coordinates of hand and elbow\n",
    "l1 = net.plants[arm_id].l_arm\n",
    "l2 = net.plants[arm_id].l_farm\n",
    "xe = cos(theta_s)*l1\n",
    "ye = sin(theta_s)*l1\n",
    "xh = xe + cos(phi)*l2\n",
    "yh = ye + sin(phi)*l2\n",
    "# creating the figure and axis\n",
    "fig = plt.figure(figsize=(10,10))\n",
    "plt.axis('equal')\n",
    "ax = plt.gca()\n",
    "lim = l1 + l2\n",
    "ax.set_xlim([-lim, lim])\n",
    "ax.set_ylim([-lim, lim])\n",
    "ax.grid()\n",
    "# creating lines and points\n",
    "line, = ax.plot([], [], 'o-b', lw=2)\n",
    "points, = ax.plot([], [], '+k')\n",
    "# preparing a colormap for the tensions\n",
    "flat_ten = ten.flatten()\n",
    "ten_max = max(flat_ten)\n",
    "ten_min = min(flat_ten)\n",
    "#max_abs = max(abs(ten_max), abs(ten_min))\n",
    "ten = (ten-ten_min) / max(ten_max-ten_min, 1e-5)\n",
    "mus_lines = []\n",
    "cmap=plt.get_cmap('Reds')\n",
    "#cmap=plt.get_cmap('bwr')\n",
    "for i in range(6):\n",
    "    mus_lines.append(ax.plot([], [], color=cmap(0.5))[0])\n",
    "\n",
    "def init():\n",
    "    line.set_data([], [])\n",
    "    points.set_data([], [])\n",
    "    for i in range(6):\n",
    "        mus_lines = []\n",
    "        mus_lines.append(ax.plot([], [], color=cmap(0.5))[0])\n",
    "    return line, points, mus_lines\n",
    "\n",
    "def update(frame):\n",
    "    coord_x = [0, xe[frame], xh[frame]]\n",
    "    coord_y = [0, ye[frame], yh[frame]]\n",
    "    ip_x = ipx[:,frame]\n",
    "    ip_y = ipy[:,frame]\n",
    "    tens = ten[:, frame]\n",
    "    line.set_data(coord_x, coord_y)\n",
    "    points.set_data(ip_x, ip_y)\n",
    "    for i, ml in enumerate(mus_lines):\n",
    "        idx = 2*i\n",
    "        ml.set_data(ip_x[idx:idx+2], ip_y[idx:idx+2])\n",
    "        ml.set_color(cmap(tens[i]))\n",
    "    \n",
    "    cur_time = frame*0.01\n",
    "    fig.suptitle('time: ' + '{:f}'.format(cur_time))\n",
    "    return line, points, muls_lines #muscle1\n",
    "\n",
    "ani = FuncAnimation(fig, update, frames=np.arange(0, len(theta_s), 12), init_func=init, blit=True, interval=10)\n",
    "\n",
    "plt.show()"
   ]
  },
  {
   "cell_type": "code",
   "execution_count": 6,
   "metadata": {},
   "outputs": [
    {
     "data": {
      "application/vnd.jupyter.widget-view+json": {
       "model_id": "50c536ec45574f70942b0980b6a05130",
       "version_major": 2,
       "version_minor": 0
      },
      "text/html": [
       "<p>Failed to display Jupyter Widget of type <code>FigureCanvasNbAgg</code>.</p>\n",
       "<p>\n",
       "  If you're reading this message in the Jupyter Notebook or JupyterLab Notebook, it may mean\n",
       "  that the widgets JavaScript is still loading. If this message persists, it\n",
       "  likely means that the widgets JavaScript library is either not installed or\n",
       "  not enabled. See the <a href=\"https://ipywidgets.readthedocs.io/en/stable/user_install.html\">Jupyter\n",
       "  Widgets Documentation</a> for setup instructions.\n",
       "</p>\n",
       "<p>\n",
       "  If you're reading this message in another frontend (for example, a static\n",
       "  rendering on GitHub or <a href=\"https://nbviewer.jupyter.org/\">NBViewer</a>),\n",
       "  it may mean that your frontend doesn't currently support widgets.\n",
       "</p>\n"
      ],
      "text/plain": [
       "FigureCanvasNbAgg()"
      ]
     },
     "metadata": {},
     "output_type": "display_data"
    }
   ],
   "source": [
    "# plotting the tensions\n",
    "ten = acts[ten_track]\n",
    "fig = plt.figure()\n",
    "plt.plot(sim_dat[0], np.transpose(ten))\n",
    "plt.show()"
   ]
  },
  {
   "cell_type": "code",
   "execution_count": null,
   "metadata": {},
   "outputs": [],
   "source": []
  }
 ],
 "metadata": {
  "kernelspec": {
   "display_name": "Python 3",
   "language": "python",
   "name": "python3"
  },
  "language_info": {
   "codemirror_mode": {
    "name": "ipython",
    "version": 3
   },
   "file_extension": ".py",
   "mimetype": "text/x-python",
   "name": "python",
   "nbconvert_exporter": "python",
   "pygments_lexer": "ipython3",
   "version": "3.5.2"
  }
 },
 "nbformat": 4,
 "nbformat_minor": 2
}
