{
 "cells": [
  {
   "cell_type": "markdown",
   "metadata": {},
   "source": [
    "# planar_arm.ipynb\n",
    "The place to test equations for the planar arm"
   ]
  },
  {
   "cell_type": "markdown",
   "metadata": {},
   "source": [
    "## Muscle geometry initialization\n",
    "The planar arm has 6 muscles and 12 insertion points. The geometry is described by specifying the coordinates for all the insertion points when the arm is at a reference position. This, together with the coordinates of the elbow and the hand fully describe the arm's geometry.\n",
    "\n",
    "In the reference position the upper arm is aligned with the x axis (e.g. $\\theta_1 = 0$) and the forearm is aligned with the y axis ($\\theta_2 = \\pi/2$).\n",
    " "
   ]
  },
  {
   "cell_type": "code",
   "execution_count": 1,
   "metadata": {},
   "outputs": [],
   "source": [
    "from matplotlib import pyplot as plt\n",
    "import numpy as np"
   ]
  },
  {
   "cell_type": "code",
   "execution_count": 2,
   "metadata": {},
   "outputs": [],
   "source": [
    "## Coordinates for elbow and hand in the reference position\n",
    "# shoulder is at origin. Length units are meters.\n",
    "c_shoulder = (0., 0.)\n",
    "c_elbow = (0.3, 0.)\n",
    "c_hand = (0.3, 0.3)\n",
    "## Insertion point coordinates\n",
    "# biarticular biceps (muscle 1)\n",
    "i1 = (0., 0.03)  # proximal insertion point\n",
    "i2 = (0.29, 0.04) # distal insertion point\n",
    "# anterior deltoid, pectoral (muscle 2)\n",
    "i3 = (0., 0.04)\n",
    "i4 = (.1, 0.02)\n",
    "# posterior deltoid (muscle 3)\n",
    "i5 = (0., -.04)\n",
    "i6 = (.1, -0.02)\n",
    "# biarticular triceps (muscle 4)\n",
    "i7 = (0., -0.03)\n",
    "i8 = (.3, -0.03)\n",
    "# brachialis (muscle 5)\n",
    "i9 = (0.2, 0.02)\n",
    "i10 = (0.29, 0.04)\n",
    "# monoarticular triceps (muscle 6)\n",
    "i11 = (0.2, -0.02)\n",
    "i12 =(0.3, -0.03)"
   ]
  },
  {
   "cell_type": "code",
   "execution_count": 3,
   "metadata": {},
   "outputs": [
    {
     "data": {
      "image/png": "[encoded data removed]",
      "text/plain": [
       "<Figure size 864x864 with 1 Axes>"
      ]
     },
     "metadata": {
      "needs_background": "light"
     },
     "output_type": "display_data"
    }
   ],
   "source": [
    "# plot the arm\n",
    "fig = plt.figure(figsize = (12,12))\n",
    "# upper arm and forearm\n",
    "plt.plot([c_shoulder[0], c_elbow[0]], [c_shoulder[1],c_elbow[1]], 'k')\n",
    "plt.plot([c_elbow[0], c_hand[0]], [c_elbow[1], c_hand[0]], 'k')\n",
    "# insertion points\n",
    "points = [i1,i2,i3,i4,i5,i6,i7,i8,i9,i10,i11,i12]\n",
    "x_coords = [i[0] for i in points]\n",
    "y_coords = [i[1] for i in points]\n",
    "for idx in range(0,12,2):\n",
    "    plt.plot(x_coords[idx:idx+2], y_coords[idx:idx+2], 'r')\n",
    "plt.show()"
   ]
  },
  {
   "cell_type": "markdown",
   "metadata": {},
   "source": [
    "## Torque produced by each muscle given its tension\n",
    "For each muscle, given a Tension $T$, produce the torque $\\tau$ it produces with respect to either the shoulder or the elbow axis."
   ]
  },
  {
   "cell_type": "code",
   "execution_count": 4,
   "metadata": {},
   "outputs": [],
   "source": [
    "T = 1.\n",
    "\n",
    "def shoulder_torque(i_prox, i_dist, T):\n",
    "    \"\"\" Obtain the torque produced by a muscle wrt the shoulder joint.\n",
    "    \n",
    "        Args:\n",
    "            i_prox : coordinates of proximal insertion point (tuple)\n",
    "            i_dist : coordinates of distal insertion point (tuple)\n",
    "            T : muscle tension\n",
    "        Returns:\n",
    "            float\n",
    "    \"\"\"\n",
    "    v = np.array([i_prox[0] - i_dist[0], i_prox[1] - i_dist[1]])\n",
    "    v_norm = (sum(v*v))**(1./2.)\n",
    "    F = (T/v_norm) * v\n",
    "    tau = i_dist[0] * F[1] - i_dist[1] * F[0]\n",
    "    return tau\n",
    "\n",
    "def elbow_torque(i_prox, i_dist, T):\n",
    "    \"\"\" Obtain the torque produced by a muscle wrt the shoulder joint.\n",
    "    \n",
    "        Args:\n",
    "            i_prox : coordinates of proximal insertion point (tuple)\n",
    "            i_dist : coordinates of distal insertion point (tuple)\n",
    "            T : muscle tension\n",
    "        Returns:\n",
    "            float\n",
    "    \"\"\"\n",
    "    v = np.array([i_prox[0] - i_dist[0], i_prox[1] - i_dist[1]])\n",
    "    v_norm = (sum(v*v))**(1./2.)\n",
    "    F = (T/v_norm) * v\n",
    "    tau = (i_dist[0]-c_elbow[0]) * F[1] - (i_dist[1]-c_elbow[1]) * F[0]\n",
    "    return tau\n",
    "\n",
    "#ip = [np.array(p) for p in points]\n",
    "# muscle 1 wrt shouler\n",
    "tau1s = shoulder_torque(i1, i2, T)\n",
    "# muscle 1 wrt elbow\n",
    "tau1e = elbow_torque(i1, i2, T)\n",
    "# muscle 2 wrt shoulder\n",
    "tau2s = shoulder_torque(i3, i4, T)\n",
    "# muscle 3 wrt shoulder\n",
    "tau3s = shoulder_torque(i5, i6, T)\n",
    "# muscle 4 wrt shouler\n",
    "tau4s = shoulder_torque(i7, i8, T)\n",
    "# muscle 4 wrt elbow\n",
    "tau4e = elbow_torque(i7, i8, T)\n",
    "# muscle 5 wrt elbow\n",
    "tau5e = elbow_torque(i9, i10, T)\n",
    "# muscle 6 wrt elbow\n",
    "tau6e = elbow_torque(i11, i12, T)\n",
    "\n",
    "tau_shoulder = tau1s + tau2s + tau3s + tau4s\n",
    "tau_elbow = tau1e + tau4e + tau5e + tau6e"
   ]
  },
  {
   "cell_type": "code",
   "execution_count": 5,
   "metadata": {},
   "outputs": [
    {
     "data": {
      "text/plain": [
       "0.021686534011786298"
      ]
     },
     "execution_count": 5,
     "metadata": {},
     "output_type": "execute_result"
    }
   ],
   "source": [
    "tau_elbow"
   ]
  },
  {
   "cell_type": "code",
   "execution_count": null,
   "metadata": {},
   "outputs": [],
   "source": []
  }
 ],
 "metadata": {
  "kernelspec": {
   "display_name": "Python 3",
   "language": "python",
   "name": "python3"
  },
  "language_info": {
   "codemirror_mode": {
    "name": "ipython",
    "version": 3
   },
   "file_extension": ".py",
   "mimetype": "text/x-python",
   "name": "python",
   "nbconvert_exporter": "python",
   "pygments_lexer": "ipython3",
   "version": "3.5.2"
  }
 },
 "nbformat": 4,
 "nbformat_minor": 2
}
