{
 "cells": [
  {
   "cell_type": "markdown",
   "metadata": {},
   "source": [
    "This script is to test that the exp_dist_sig and sig_ssrdc_sharp units provide the same outputs when the sharpening signal is constantly active. At first this was false, so I had to manually inspect the values used in upd_exp_scale(_mp).\n"
   ]
  },
  {
   "cell_type": "code",
   "execution_count": 1,
   "metadata": {},
   "outputs": [
    {
     "name": "stdout",
     "output_type": "stream",
     "text": [
      "/home/z/projects/draculab\n"
     ]
    }
   ],
   "source": [
    "%cd ..\n",
    "from draculab import *\n",
    "import numpy as np\n",
    "from matplotlib import pyplot as plt"
   ]
  },
  {
   "cell_type": "markdown",
   "metadata": {},
   "source": [
    "Create a two units, give them the same inputs"
   ]
  },
  {
   "cell_type": "code",
   "execution_count": 2,
   "metadata": {},
   "outputs": [],
   "source": [
    "net_params = {'min_delay' : 0.005,\n",
    "            'min_buff_size' : 10,\n",
    "            'rtol' : 1e-5,\n",
    "            'atol' : 1e-5,\n",
    "            'cm_del' : .01 } \n",
    "conn_spec = {'rule' : 'all_to_all', \n",
    "             'delay' : 1.,\n",
    "             'allow_autapses' : False} # connection specification dictionary\n",
    "syn_pars = {'init_w' : 1, \n",
    "            'lrate' : 0.02, \n",
    "            'inp_ports' : 0,\n",
    "            'type' : synapse_types.static}\n",
    "unit_pars = {'init_val' : 0.5,\n",
    "            'slope' : 1.5, # minimum slope\n",
    "            'thresh' : 0.1,\n",
    "            'tau' : 0.02,  # 10 ms minimum time constant\n",
    "            'tau_fast' : 0.04, # 40 ms for fast low-pass filter\n",
    "            'tau_mid' : .1, # 100 ms for medium low-pass filter\n",
    "            'tau_slow' : 1, # 1 s for medium low-pass filter\n",
    "            'tau_scale' : 0.05, # for exp_dist_sigmoidal units\n",
    "            'tau_thr' : 0.001, # for exp_dist_sig_thr and other trdc units\n",
    "            'c' : 2., # for exp_dist_sigmoidal and exp_dist_sig_thr units \n",
    "            'Kp' : 0.05, # for exp_dist_sigmoidal units\n",
    "            'n_ports' : 1, # multiport units will alter this\n",
    "            'type' : unit_types.exp_dist_sig }\n",
    "inp_pars = { 'function' : lambda x : None,\n",
    "             'init_val' : 0.5, \n",
    "             'tau_fast' : .04,\n",
    "             'type' : unit_types.source } \n",
    "\n",
    "def one(x):\n",
    "    return 1.\n",
    "\n",
    "def cos(x):\n",
    "    return np.cos(x)\n",
    "\n",
    "net = network(net_params)\n",
    "ssrdc = net.create(1, unit_pars)\n",
    "\n",
    "unit_pars['type'] = unit_types.sig_ssrdc_sharp\n",
    "unit_pars['n_ports'] = 2\n",
    "ssrdc_sharp = net.create(1, unit_pars)\n",
    "\n",
    "inp = net.create(1, inp_pars)\n",
    "net.units[inp[0]].set_function(cos)\n",
    "\n",
    "shrp = net.create(1, inp_pars)\n",
    "net.units[shrp[0]].set_function(one)\n",
    "\n",
    "scale_track = net.create(2, inp_pars)\n",
    "net.connect(inp, ssrdc + ssrdc_sharp, conn_spec, syn_pars)\n",
    "syn_pars['inp_ports'] = 1\n",
    "net.connect(shrp, ssrdc_sharp, conn_spec, syn_pars)\n",
    "\n",
    "def scale_tracker(u,s):\n",
    "    return lambda x: net.units[u].scale_facs[s]\n",
    "    \n",
    "\n",
    "net.units[scale_track[0]].set_function(scale_tracker(ssrdc[0], 0))\n",
    "net.units[scale_track[1]].set_function(scale_tracker(ssrdc_sharp[0], 0))"
   ]
  },
  {
   "cell_type": "code",
   "execution_count": 3,
   "metadata": {},
   "outputs": [
    {
     "name": "stdout",
     "output_type": "stream",
     "text": [
      "0.548689860582\n",
      "0.548689860582\n"
     ]
    }
   ],
   "source": [
    "print(net.units[ssrdc[0]].get_exp_sc_input_sum(0.01))\n",
    "print(net.units[ssrdc_sharp[0]].get_mp_input_sum(0.01))"
   ]
  },
  {
   "cell_type": "code",
   "execution_count": 4,
   "metadata": {},
   "outputs": [
    {
     "name": "stdout",
     "output_type": "stream",
     "text": [
      "[array([ 0.54868986]), array([ 1.])]\n",
      "[array([ 1.]), array([ 1.])]\n",
      "[0.54868986058158753]\n",
      "[1.0]\n"
     ]
    }
   ],
   "source": [
    "inps = net.units[ssrdc_sharp[0]].get_mp_inputs(0.01)\n",
    "wigs = net.units[ssrdc_sharp[0]].get_mp_weights(0.01)\n",
    "print(inps)\n",
    "print(wigs)\n",
    "inps2 = net.units[ssrdc[0]].get_inputs(0.01)\n",
    "wigs2 = net.units[ssrdc[0]].get_weights(0.01)\n",
    "print(inps2)\n",
    "print(wigs2)"
   ]
  },
  {
   "cell_type": "code",
   "execution_count": 5,
   "metadata": {},
   "outputs": [
    {
     "name": "stdout",
     "output_type": "stream",
     "text": [
      "[ 0.5]\n",
      "[ 0.5]\n"
     ]
    }
   ],
   "source": [
    "print(net.units[ssrdc[0]].inp_vector)\n",
    "print(net.units[ssrdc_sharp[0]].mp_inputs[net.units[ssrdc_sharp[0]].rdc_port])"
   ]
  },
  {
   "cell_type": "code",
   "execution_count": 6,
   "metadata": {},
   "outputs": [
    {
     "name": "stdout",
     "output_type": "stream",
     "text": [
      "ssrcd: below=0.500000, above=0.500000 \n",
      "ssrcd_sharp: below=0.500000, above=0.500000 \n"
     ]
    }
   ],
   "source": [
    "print(\"ssrcd: below=%f, above=%f \" % (net.units[ssrdc[0]].below, net.units[ssrdc[0]].above))\n",
    "print(\"ssrcd_sharp: below=%f, above=%f \" % (net.units[ssrdc_sharp[0]].below, net.units[ssrdc_sharp[0]].above))"
   ]
  },
  {
   "cell_type": "code",
   "execution_count": 7,
   "metadata": {},
   "outputs": [
    {
     "name": "stdout",
     "output_type": "stream",
     "text": [
      "[ 1.]\n",
      "[ 1.  1.]\n"
     ]
    }
   ],
   "source": [
    "print(net.units[ssrdc[0]].scale_facs)\n",
    "print(net.units[ssrdc_sharp[0]].scale_facs)"
   ]
  },
  {
   "cell_type": "code",
   "execution_count": 8,
   "metadata": {},
   "outputs": [
    {
     "data": {
      "text/plain": [
       "array([ 0.5])"
      ]
     },
     "execution_count": 8,
     "metadata": {},
     "output_type": "execute_result"
    }
   ],
   "source": [
    "s = net.units[ssrdc[0]]\n",
    "time= 0.01\n",
    "r = s.get_lpf_fast(0)\n",
    "u = (np.log(r/(1.-r))/s.slope) + s.thresh\n",
    "weights = np.array([syn.w for syn in s.net.syns[s.ID]])\n",
    "I = np.sum( s.inp_vector[s.inh_idx] * weights[s.inh_idx] )\n",
    "s.inp_vector"
   ]
  },
  {
   "cell_type": "code",
   "execution_count": 9,
   "metadata": {},
   "outputs": [
    {
     "data": {
      "text/plain": [
       "[array([ 0.5]), array([ 0.5])]"
      ]
     },
     "execution_count": 9,
     "metadata": {},
     "output_type": "execute_result"
    }
   ],
   "source": [
    "s = net.units[ssrdc_sharp[0]]\n",
    "time= 0.01\n",
    "r = s.get_lpf_fast(0)\n",
    "u = (np.log(r/(1.-r))/s.slope) + s.thresh\n",
    "rdc_inputs = s.mp_inputs[s.rdc_port]\n",
    "rdc_weights = s.get_mp_weights(time)[s.rdc_port]\n",
    "I = u - np.dot(rdc_weights, rdc_inputs)\n",
    "s.mp_inputs"
   ]
  },
  {
   "cell_type": "code",
   "execution_count": 10,
   "metadata": {
    "scrolled": true
   },
   "outputs": [],
   "source": [
    "# simulate\n",
    "(times, units, _) = net.run(6.)"
   ]
  },
  {
   "cell_type": "code",
   "execution_count": 11,
   "metadata": {},
   "outputs": [
    {
     "data": {
      "image/png": "[encoded data removed]",
      "text/plain": [
       "<matplotlib.figure.Figure at 0x7f48548286d8>"
      ]
     },
     "metadata": {},
     "output_type": "display_data"
    }
   ],
   "source": [
    "# plot activities, inputs, and scale factors\n",
    "fig = plt.figure(figsize=(16,12))\n",
    "ax1 = fig.add_subplot(2,2,1)\n",
    "ax2 = fig.add_subplot(2,2,2)\n",
    "ax3 = fig.add_subplot(2,2,3)\n",
    "ax1.plot(times,units[ssrdc[0]], times, units[ssrdc_sharp[0]])\n",
    "ax2.plot(times, units[shrp[0]], times, units[inp[0]])\n",
    "ax3.plot(times, units[scale_track[0]], times, units[scale_track[1]])\n",
    "plt.show()"
   ]
  },
  {
   "cell_type": "code",
   "execution_count": null,
   "metadata": {
    "collapsed": true
   },
   "outputs": [],
   "source": []
  }
 ],
 "metadata": {
  "kernelspec": {
   "display_name": "Python 3",
   "language": "python",
   "name": "python3"
  },
  "language_info": {
   "codemirror_mode": {
    "name": "ipython",
    "version": 3
   },
   "file_extension": ".py",
   "mimetype": "text/x-python",
   "name": "python",
   "nbconvert_exporter": "python",
   "pygments_lexer": "ipython3",
   "version": "3.5.2"
  }
 },
 "nbformat": 4,
 "nbformat_minor": 2
}
