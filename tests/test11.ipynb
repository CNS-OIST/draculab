{
 "cells": [
  {
   "cell_type": "markdown",
   "metadata": {},
   "source": [
    "## test11.ipynb\n",
    "\n",
    "Test bed for delta units and delta synapses.\n",
    "\n",
    "This script is based on step1.ipynb part 3, but in here all the units in L are replaced for a single delta unit.\n",
    "Moreover, layers `upd` and `des` were added, each with a single unit that provide the update signal and the desired value respectively."
   ]
  },
  {
   "cell_type": "code",
   "execution_count": null,
   "metadata": {
    "code_folding": []
   },
   "outputs": [],
   "source": [
    "# import the ei_network class and draculab\n",
    "%cd ..\n",
    "from tools.ei_network import *"
   ]
  },
  {
   "cell_type": "code",
   "execution_count": null,
   "metadata": {
    "code_folding": []
   },
   "outputs": [],
   "source": [
    "# create the network using the ei_network tools\n",
    "layers = ['L', 'upd', 'des']  # L is the layer, upd is the update signal, des is the desired output\n",
    "net = ei_network(layers)"
   ]
  },
  {
   "cell_type": "code",
   "execution_count": null,
   "metadata": {
    "code_folding": []
   },
   "outputs": [],
   "source": [
    "# Configure layer parameters\n",
    "L = net.layers['L']\n",
    "upd = net.layers['upd']\n",
    "des = net.layers['des']\n",
    "#----------------------------------\n",
    "L.set_param('e_pars', 'type', unit_types.delta_linear)\n",
    "L.set_param('e_pars', 'slope_min', 6.)\n",
    "L.set_param('e_pars', 'slope_wid', .1)\n",
    "L.set_param('e_pars', 'thresh_min', .3)\n",
    "L.set_param('e_pars', 'thresh_wid', 0.1)\n",
    "L.set_param('e_pars', 'n_ports', 3)\n",
    "L.set_param('e_pars', 'branch_params', {'branch_w' : [0.5, 0.5], 'slopes' : 4, 'threshs' : 0.1})\n",
    "L.set_param('e_pars', 'tau_slow', 10.)\n",
    "L.set_param('e_pars', 'tau_fast', 0.02)\n",
    "L.set_param('e_pars', 'gain', 1.)\n",
    "L.set_param('e_pars', 'tau_e', .7) # gives roughly 0.5 seconds\n",
    "L.set_param('e_pars', 'bias_lrate', .0002)\n",
    "#----------------------------------\n",
    "L.annotate(\"Adjusting size of e,i groups.\")\n",
    "L.set_param('e_geom', 'rows', 1)\n",
    "L.set_param('e_geom', 'columns', 1)\n",
    "L.set_param('i_geom', 'rows', 0)\n",
    "L.set_param('ee_conn', 'weights',{'uniform' : {'low': 0., 'high' : 0.}})\n",
    "#----------------------------------\n",
    "L.annotate(\"Setting input parameters\")\n",
    "L.set_param('x_geom', 'rows', 5) \n",
    "L.set_param('x_geom', 'columns', 5) \n",
    "L.set_param('xe_conn', 'weights', {'uniform' : {'low': 0.05, 'high' : 1.}})\n",
    "L.set_param('xe_conn', 'mask', {'circular': {'radius': 10.}})\n",
    "#-----------------------------------\n",
    "# specifying input ports\n",
    "L.set_param('xe_syn', 'inp_ports', 0)\n",
    "#----------------------------------\n",
    "L.annotate(\"Using delta input synapses\")\n",
    "L.set_param('xe_syn', 'type', synapse_types.delta)\n",
    "L.set_param('xe_syn', 'lrate', 1.)\n",
    "#----------------------------------\n",
    "upd.annotate(\"Leaving a single input unit in the upd layer\")\n",
    "upd.set_param('e_geom', 'rows', 0)\n",
    "upd.set_param('i_geom', 'rows', 0)\n",
    "upd.set_param('x_geom', 'rows', 1)\n",
    "upd.set_param('x_geom', 'columns', 1)\n",
    "#----------------------------------\n",
    "upd.annotate(\"Configuring upd unit\")\n",
    "upd.set_param('x_pars', 'function', lambda x : None)\n",
    "upd.set_param('x_pars', 'init_val', 1.)\n",
    "upd.set_param('x_pars', 'coordinates', np.array([0.,0.]))\n",
    "#----------------------------------\n",
    "L.set_param('n', 'w_track', 16)\n",
    "upd.set_param('n', 'w_track', 0)\n",
    "des.set_param('n', 'w_track', 0)\n",
    "#----------------------------------\n",
    "des.annotate(\"Leaving a single input unit in the des layer\")\n",
    "des.set_param('e_geom', 'rows', 0)\n",
    "des.set_param('i_geom', 'rows', 0)\n",
    "des.set_param('x_geom', 'rows', 1)\n",
    "des.set_param('x_geom', 'columns', 1)\n",
    "#----------------------------------\n",
    "des.annotate(\"Configuring des unit\")\n",
    "des.set_param('x_pars', 'function', lambda x : None)\n",
    "des.set_param('x_pars', 'init_val', 1.)\n",
    "des.set_param('x_pars', 'coordinates', np.array([0.,0.]))\n",
    "des.set_param('x_pars', 'tau_slow', 5.)"
   ]
  },
  {
   "cell_type": "code",
   "execution_count": null,
   "metadata": {
    "code_folding": []
   },
   "outputs": [],
   "source": [
    "# Add interlayer connections\n",
    "net.add_connection(('upd','x'), ('L','e'))\n",
    "net.add_connection(('des','x'), ('L','e'))"
   ]
  },
  {
   "cell_type": "code",
   "execution_count": null,
   "metadata": {
    "code_folding": []
   },
   "outputs": [],
   "source": [
    "# Configure interlayer connections\n",
    "net.set_param('updx_Le_conn', 'mask',{'circular': {'radius': 10.}})\n",
    "net.set_param('updx_Le_conn', 'kernel', 1.)\n",
    "net.set_param('updx_Le_conn', 'weights', {'uniform' : {'low': 1., 'high': 1.}})\n",
    "net.set_param('updx_Le_syn', 'inp_ports', 2)\n",
    "net.set_param('desx_Le_conn', 'mask',{'circular': {'radius': 10.}})\n",
    "net.set_param('desx_Le_conn', 'kernel', 1.)\n",
    "net.set_param('desx_Le_conn', 'weights', {'uniform' : {'low': 1., 'high': 1.}})\n",
    "net.set_param('desx_Le_syn', 'inp_ports', 1)"
   ]
  },
  {
   "cell_type": "code",
   "execution_count": null,
   "metadata": {
    "code_folding": []
   },
   "outputs": [],
   "source": [
    "# Build the network\n",
    "net.build()"
   ]
  },
  {
   "cell_type": "code",
   "execution_count": null,
   "metadata": {
    "code_folding": []
   },
   "outputs": [],
   "source": [
    "# Creating input patterns\n",
    "## The patterns of L.x\n",
    "n_pat = 4  # number of input patterns\n",
    "pat_arr = np.zeros((4, 25)) # array with all input patterns\n",
    "\n",
    "for row in range(5):\n",
    "    for col in range(5):\n",
    "        idx = 5*col + row\n",
    "        if row == col or row+col == 4: # The X input pattern\n",
    "            pat_arr[0,idx] = 1\n",
    "        if row == 2 or col == 2:  # The + input pattern\n",
    "            pat_arr[1,idx] = 1\n",
    "        if row == 1 or row == 3:  # The = input pattern\n",
    "            pat_arr[2,idx] = 1\n",
    "        if col == 1 or col == 3:  # The || input pattern\n",
    "            pat_arr[3,idx] = 1\n",
    "pat_arr = pat_arr / 5.\n",
    "\n",
    "def inp_pat(pres, rows, columns, port=0, random=False):\n",
    "    # The function that creates the input pattern shown at each presentation in net.run\n",
    "    if random:\n",
    "        idx = np.random.randint(4)\n",
    "    else:\n",
    "        idx = pres % 4\n",
    "    return pat_arr[idx, :]\n",
    "\n",
    "upd_inp_pat = lambda p, r, c : 1.\n",
    "\n",
    "def make_upd_fun(prev_pat, cur_pat, init_time, pres_time, inp_units):\n",
    "    eps = .5 # update is started eps units before the next input\n",
    "    return lambda t : 1. if (t > init_time+pres_time-eps and t < init_time+pres_time-eps/2.) else 0.\n",
    "    #return lambda t: 1.  # constantly updating unit\n",
    "\n",
    "def set_upd_fun(pre_inp, cur_inp, init_time, pres_time, inp_units):\n",
    "    for unit in inp_units:\n",
    "            unit.set_function( make_upd_fun(pre_inp, cur_inp, init_time, pres_time, inp_units) )\n",
    "\n",
    "def des_pat(pres, rows, columns):\n",
    "    # assuming random=False in inp_pat, this will produce a desired output of\n",
    "    # 0.1 for the X pattern\n",
    "    # 0.35 for the + pattern\n",
    "    # 0.6 for the = pattern\n",
    "    # 0.85 for the || pattern\n",
    "    return np.array([(pres % 4) * .25 + 0.1])\n",
    "            \n",
    "            \n",
    "inp_pat_dic = {'L' : inp_pat, 'upd' : upd_inp_pat, 'des' : des_pat }\n",
    "inp_fun_dic = {'upd' : set_upd_fun }"
   ]
  },
  {
   "cell_type": "code",
   "execution_count": null,
   "metadata": {},
   "outputs": [],
   "source": [
    "# add tracking units for the learning and error variables\n",
    "trk_pars = {'type' : unit_types.source,  # parameters for \"tracking\" units\n",
    "            'init_val' : 0.,\n",
    "            'tau_fast' : 0.05,\n",
    "            'function' : lambda x: None }\n",
    "def create_lt(unit_id):\n",
    "    return lambda t : net.net.units[unit_id].learning\n",
    "\n",
    "def create_et(unit_id):\n",
    "    return lambda t : net.net.units[unit_id].error\n",
    "\n",
    "learn_trk = net.net.create(1, trk_pars)\n",
    "error_trk = net.net.create(1, trk_pars)\n",
    "net.net.units[learn_trk[0]].set_function(create_lt(L.e[0]))\n",
    "net.net.units[error_trk[0]].set_function(create_et(L.e[0]))"
   ]
  },
  {
   "cell_type": "code",
   "execution_count": null,
   "metadata": {
    "code_folding": [],
    "scrolled": true
   },
   "outputs": [],
   "source": [
    "# Simulating\n",
    "n_pres = 50\n",
    "pres_time = 1.5\n",
    "\n",
    "#net.run(n_pres, pres_time, set_inp_pat=inp_pat_dic, set_inp_fun=inp_fun_dic)\n",
    "\n",
    "import cProfile\n",
    "import pstats\n",
    "cProfile.run('net.run(n_pres, pres_time, set_inp_pat=inp_pat_dic, set_inp_fun=inp_fun_dic)', 'restats')\n",
    "prof = pstats.Stats('restats')\n",
    "prof.sort_stats('cumulative').print_stats(30)\n"
   ]
  },
  {
   "cell_type": "markdown",
   "metadata": {},
   "source": [
    "Tue Jul 31 13:52:40 2018    restats\n",
    "\n",
    "         21640874 function calls (21220874 primitive calls) in 18.112 seconds\n",
    "\n",
    "   Ordered by: cumulative time\n",
    "   List reduced from 95 to 30 due to restriction <30>\n",
    "\n",
    "   ncalls  tottime  percall  cumtime  percall filename:lineno(function)\n",
    "        1    0.000    0.000   18.112   18.112 {built-in method builtins.exec}\n",
    "        1    0.000    0.000   18.112   18.112 <string>:1(<module>)\n",
    "        1    0.001    0.001   18.112   18.112 /home/z/projects/draculab/ei_network.py:359(run)\n",
    "       50    0.387    0.008   18.078    0.362 /home/z/projects/draculab/network.py:675(run)\n",
    "    15000    0.215    0.000   10.040    0.001 /home/z/projects/draculab/units.py:210(update)\n",
    "    15000    0.031    0.000    8.681    0.001 /home/z/.local/lib/python3.5/site-packages/scipy/integrate/odepack.py:25(odeint)\n",
    "    15000    0.171    0.000    8.579    0.001 {built-in method scipy.integrate._odepack.odeint}\n",
    "   107702    0.089    0.000    8.408    0.000 /home/z/projects/draculab/units.py:4398(derivatives)\n",
    "   107702    0.216    0.000    8.319    0.000 /home/z/projects/draculab/units.py:4390(get_mp_input_sum)\n",
    "  3462449    2.762    0.000    7.895    0.000 /home/z/projects/draculab/ei_network.py:344(<lambda>)\n",
    "   107702    0.817    0.000    7.160    0.000 /home/z/projects/draculab/units.py:4392(<listcomp>)\n",
    "   420000    0.192    0.000    7.085    0.000 /home/z/projects/draculab/units.py:567(<lambda>)\n",
    "   420000    0.164    0.000    6.893    0.000 /home/z/projects/draculab/units.py:567(<listcomp>)\n",
    "   675000    0.201    0.000    6.889    0.000 /home/z/projects/draculab/units.py:2122(update)\n",
    "   375000    0.653    0.000    6.339    0.000 /home/z/projects/draculab/units.py:2134(upd_lpf_fast)\n",
    "840000/420000    3.964    0.000    5.472    0.000 /home/z/.local/lib/python3.5/site-packages/numpy/core/numeric.py:1343(roll)\n",
    "  6924898    5.133    0.000    5.133    0.000 /home/z/projects/draculab/ei_network.py:332(H)\n",
    "   420000    0.470    0.000    0.708    0.000 /home/z/.local/lib/python3.5/site-packages/numpy/core/numeric.py:1489(normalize_axis_tuple)\n",
    "   840101    0.275    0.000    0.340    0.000 /home/z/.local/lib/python3.5/site-packages/numpy/core/numeric.py:534(asanyarray)\n",
    "   107702    0.280    0.000    0.280    0.000 /home/z/projects/draculab/units.py:4393(<listcomp>)\n",
    "    15000    0.035    0.000    0.270    0.000 /home/z/projects/draculab/units.py:571(upd_lpf_fast)\n",
    "   107702    0.269    0.000    0.269    0.000 /home/z/projects/draculab/units.py:4395(<listcomp>)\n",
    "   107702    0.259    0.000    0.259    0.000 /home/z/projects/draculab/units.py:4394(<listcomp>)\n",
    "   375000    0.174    0.000    0.229    0.000 /home/z/projects/draculab/synapses.py:870(update)\n",
    "   840000    0.147    0.000    0.214    0.000 /home/z/.local/lib/python3.5/site-packages/numpy/core/numeric.py:1536(<genexpr>)\n",
    "   420001    0.155    0.000    0.155    0.000 {method 'reshape' of 'numpy.ndarray' objects}\n",
    "   122702    0.142    0.000    0.142    0.000 {built-in method builtins.sum}\n",
    "    15000    0.066    0.000    0.120    0.000 /home/z/projects/draculab/units.py:975(upd_error)\n",
    "   122702    0.060    0.000    0.120    0.000 /home/z/projects/draculab/units.py:242(get_act)\n",
    "   420000    0.102    0.000    0.102    0.000 {built-in method numpy.core.multiarray.empty_like}\n"
   ]
  },
  {
   "cell_type": "code",
   "execution_count": null,
   "metadata": {
    "scrolled": false
   },
   "outputs": [],
   "source": [
    "%matplotlib inline\n",
    "net.basic_plot('L')"
   ]
  },
  {
   "cell_type": "code",
   "execution_count": null,
   "metadata": {},
   "outputs": [],
   "source": [
    "# plot learning and error variables\n",
    "tr_fig = plt.figure(figsize=(15,5))\n",
    "plt.plot(net.all_times, net.all_activs[learn_trk[0]], net.all_times, np.tile(.5,len(net.all_times)), 'k--')\n",
    "err_fig = plt.figure(figsize=(15,5))\n",
    "#plt.plot(net.all_times[32000:], net.all_activs[error_trk[0]][32000:])\n",
    "plt.plot(net.all_times, net.all_activs[error_trk[0]])"
   ]
  },
  {
   "cell_type": "code",
   "execution_count": null,
   "metadata": {},
   "outputs": [],
   "source": [
    "# compare actual and desired outputs\n",
    "cmp_fig = plt.figure(figsize=(15,5))\n",
    "#plt.plot(net.all_times[32000:], net.all_activs[L.e[0]][32000:], net.all_times[32000:], net.all_activs[des.x[0]][32000:])#\n",
    "plt.plot(net.all_times, net.all_activs[L.e[0]], net.all_times, net.all_activs[des.x[0]])"
   ]
  },
  {
   "cell_type": "code",
   "execution_count": null,
   "metadata": {
    "scrolled": false
   },
   "outputs": [],
   "source": [
    "%matplotlib inline\n",
    "net.basic_plot('upd')"
   ]
  },
  {
   "cell_type": "code",
   "execution_count": null,
   "metadata": {},
   "outputs": [],
   "source": [
    "net.net.units[L.e[0]].bias"
   ]
  },
  {
   "cell_type": "code",
   "execution_count": null,
   "metadata": {},
   "outputs": [],
   "source": []
  }
 ],
 "metadata": {
  "kernelspec": {
   "display_name": "Python 3",
   "language": "python",
   "name": "python3"
  },
  "language_info": {
   "codemirror_mode": {
    "name": "ipython",
    "version": 3
   },
   "file_extension": ".py",
   "mimetype": "text/x-python",
   "name": "python",
   "nbconvert_exporter": "python",
   "pygments_lexer": "ipython3",
   "version": "3.5.2"
  }
 },
 "nbformat": 4,
 "nbformat_minor": 2
}
