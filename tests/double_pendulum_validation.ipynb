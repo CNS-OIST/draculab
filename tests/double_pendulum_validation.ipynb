{
 "cells": [
  {
   "cell_type": "markdown",
   "metadata": {},
   "source": [
    "# double_pendulum_validation.ipynb\n",
    "In this notebook the equations for the double pendulum are developed and validated with the aid of sympy.\n",
    "\n",
    "The equations are developed using the Euler-Lagrange equations, first for the simple double pendulum, and then for the physical (compound) double pendulum.\n",
    "\n",
    "The simple double pendulum equations are validated by comparing simulations against a model using equations copy-pasted from the PyDy website: https://www.pydy.org/examples/double_pendulum.html\n",
    "\n",
    "The physical double pendulum is validated by comparing the equations with three other derivations: \n",
    "1. Example 7.4 from: Ardema M.D. \"Analytical Dynamics: Theory and Applications\" Kluwer Academic/Plenum Publishers, New York, 2005.\n",
    "2. Section 7.3.2 from: Siciliano B. et al. \"Robotics: Modelling, Planning, and Control\" Springer, 2008.\n",
    "3. Equations 3 and 4 from: Hollerbach J.M and Flash T. \"Dynamic interactions between limb segments during planar arm movement\" Biol. Cybern. 44, 67-77, 1982.\n",
    "\n",
    "By Sergio Verduzco-Flores  \n",
    "March 2019"
   ]
  },
  {
   "cell_type": "markdown",
   "metadata": {},
   "source": [
    "---\n",
    "## 1. simple double pendulum using Lagrange's equation with generalized coordinates\n",
    "The simple double pendulum consists of two two point masses attached to massless rods.\n",
    "\n",
    "It is assumed that the torques are created by forces perpendicular to the rods applied at the point masses. Generalized forces Q1, Q2 are then created using the approach in chapter 6 of the Ardema 2005 textbook. This leads to a Q1 value that is not merely the torque at the first (shoulder) joint.\n",
    "\n",
    "Viscous friction is added through extra forces in the Lagrange equations (cf. Ardema 2005 Eq. 6.39)."
   ]
  },
  {
   "cell_type": "markdown",
   "metadata": {},
   "source": [
    "### 1.1 Obtaining the Lagrange equations"
   ]
  },
  {
   "cell_type": "code",
   "execution_count": null,
   "metadata": {
    "collapsed": true
   },
   "outputs": [],
   "source": [
    "from sympy import *\n",
    "import numpy\n",
    "from scipy.integrate import solve_ivp\n",
    "import matplotlib.pyplot as plt\n",
    "from matplotlib.animation import FuncAnimation\n",
    "%matplotlib widget\n",
    "init_printing(use_unicode=True)"
   ]
  },
  {
   "cell_type": "code",
   "execution_count": null,
   "metadata": {
    "collapsed": true
   },
   "outputs": [],
   "source": [
    "# create the starting symbols\n",
    "t = symbols('t')  # symbol for time\n",
    "θ_1 = Function('θ_1')(t)  # shoulder angle\n",
    "θ_2 = Function('θ_2')(t)  # elbow angle\n",
    "L1 = symbols('L1')  # Length of upper arm\n",
    "L2 = symbols('L2')  # Length of forearm\n",
    "m1 = symbols('m1')  # \"elbow\" mass\n",
    "m2 = symbols('m2')  # \"hand\" mass\n",
    "g = symbols('g')  # gravitation constant\n",
    "τ_1 = symbols('τ_1') # external torque at shoulder\n",
    "τ_2 = symbols('τ_2') # external torque at elbow\n",
    "μ_1 = symbols('μ_1') # viscous friction at shoulder\n",
    "μ_2 = symbols('μ_2') # viscous friction at elbow"
   ]
  },
  {
   "cell_type": "code",
   "execution_count": null,
   "metadata": {
    "collapsed": true
   },
   "outputs": [],
   "source": [
    "x1 = L1 * cos(θ_1)  # elbow x coordinate\n",
    "y1 = L1 * sin(θ_1)  # elbow y coordinate\n",
    "x2 = x1 + L2 * cos(θ_1 + θ_2) # hand x coordinate\n",
    "y2 = y1 + L2 * sin(θ_1 + θ_2) # hand y coordinate\n",
    "\n",
    "dx1dt = diff(x1, t)\n",
    "dy1dt = diff(y1, t)\n",
    "dx2dt = diff(x2, t)\n",
    "dy2dt = diff(y2, t)\n",
    "\n",
    "T = Rational(1,2) * (m1 * (dx1dt**2 + dy1dt**2) + m2 * (dx2dt**2 + dy2dt**2)) # kinetic energy\n",
    "T = simplify(T)\n",
    "V = m1* g * y1 + m2 * g * y2  # potential energy\n",
    "L = T-V # Laplacian\n",
    "\n",
    "# generalized forces\n",
    "# F is a component vector with the forces creating the torques\n",
    "F = [(τ_1/(L1**2)) * (-y1), (τ_1/(L1**2)) * (x1), (τ_2/(L2**2)) * (y1-y2), (τ_2/(L2**2)) * (x2-x1)]\n",
    "Q1 = sum([f * diff(u, θ_1) for f,u in zip(F, [x1,y1,x2,y2])])\n",
    "Q2 = sum([f * diff(u, θ_2) for f,u in zip(F, [x1,y1,x2,y2])])\n",
    "Q1 = Q1.simplify()\n",
    "Q2 = Q2.simplify()"
   ]
  },
  {
   "cell_type": "code",
   "execution_count": null,
   "metadata": {
    "collapsed": true
   },
   "outputs": [],
   "source": [
    "# The Lagrange equations\n",
    "LE1 = diff(L.diff(diff(θ_1,t)), t) - L.diff(θ_1) - Q1 + μ_1 * diff(θ_1, t)\n",
    "LE2 = diff(L.diff(diff(θ_2,t)), t) - L.diff(θ_2) - Q2 + μ_2 * diff(θ_2, t)\n",
    "LE1 = LE1.simplify()\n",
    "LE2 = LE2.simplify()"
   ]
  },
  {
   "cell_type": "markdown",
   "metadata": {},
   "source": [
    "### 1.2 Running simulations, comparing with a double pendulum using the PyDy equations"
   ]
  },
  {
   "cell_type": "code",
   "execution_count": null,
   "metadata": {
    "code_folding": [
     0
    ],
    "collapsed": true
   },
   "outputs": [],
   "source": [
    "class double_pendulum:\n",
    "    \"\"\" A double pendulum with the equations derived above.\n",
    "    \"\"\"\n",
    "    def __init__(self, LE1, LE2):\n",
    "        # solve for the second derivatives of theta_1, theta_2\n",
    "        sol = solve([LE1, LE2], [diff(diff(θ_1,t),t), diff(diff(θ_2,t),t)])\n",
    "        d2θ_1dt2 = sol[diff(diff(θ_1,t),t)]\n",
    "        d2θ_2dt2 = sol[diff(diff(θ_2,t),t)]\n",
    "\n",
    "        # Substitute the value of the parameters\n",
    "        self.mass1 = 1.\n",
    "        self.mass2 = 1.\n",
    "        self.gravity = 9.8\n",
    "        self.l1 = 1.\n",
    "        self.l2 = 1.\n",
    "        self.mu1 = 0.\n",
    "        self.mu2 = 0.\n",
    "        d2θ_1dt2 = d2θ_1dt2.subs([(m1, self.mass1), (m2, self.mass2), (g, self.gravity),\n",
    "                                  (L1, self.l1), (L2, self.l2), (μ_1, self.mu1), (μ_2, self.mu2)])\n",
    "        d2θ_2dt2 = d2θ_2dt2.subs([(m1, self.mass1), (m2, self.mass2), (g, self.gravity),\n",
    "                                  (L1, self.l1), (L2, self.l2), (μ_1, self.mu1), (μ_2, self.mu2)])\n",
    "        # substitute the first derivatives by dummy symbols\n",
    "        theta1_p = symbols('theta1_p') # dummy symbol for the first derivative of theta1\n",
    "        theta2_p = symbols('theta2_p') # dummy symbol for the first derivative of theta2\n",
    "        d2θ_1dt2 = d2θ_1dt2.subs(diff(θ_1,t), theta1_p)\n",
    "        d2θ_1dt2 = d2θ_1dt2.subs(diff(θ_2,t), theta2_p)\n",
    "        d2θ_2dt2 = d2θ_2dt2.subs(diff(θ_1,t), theta1_p)\n",
    "        d2θ_2dt2 = d2θ_2dt2.subs(diff(θ_2,t), theta2_p)\n",
    "\n",
    "        # lambdify the second derivatives\n",
    "        self.theta1_pp = lambdify((θ_1, theta1_p, θ_2, theta2_p, τ_1, τ_2), d2θ_1dt2, \"numpy\")\n",
    "        self.theta2_pp = lambdify((θ_1, theta1_p, θ_2, theta2_p, τ_1, τ_2), d2θ_2dt2, \"numpy\")\n",
    "        \n",
    "        # intial conditions\n",
    "        self.init = [0., 0.1, 0., -0.1]\n",
    "\n",
    "    def derivatives(self, t, S):\n",
    "        \"\"\" Implementation of the pendulum dynamics using thetaX_pp.\n",
    "            \n",
    "            Args:\n",
    "                S[0] = angle of shoulder [rad]\n",
    "                S[1] = angular velocity of shoulder [rad/s]\n",
    "                S[2] = angle of elbow [radians]\n",
    "                S[3] = elbow's angular velocity [rad/s]\n",
    "            Returns:\n",
    "                dsdt[0]: shouler's angular velocity [rad/s]\n",
    "                dsdt[1]: shoulder's angular acceleration [rad/s^2]\n",
    "                dsdt[2]: elbow's angular velocity [rad/s]\n",
    "                dsdt[3]: elbow's angular acceleration [rad/s]\n",
    "        \"\"\"\n",
    "        dsdt = numpy.zeros(4) \n",
    "        dsdt[0] = S[1] # shoulder's ang vel\n",
    "        dsdt[1] = self.theta1_pp(S[0], S[1], S[2], S[3], 0., 0.)\n",
    "        dsdt[2] = S[3]\n",
    "        dsdt[3] = self.theta2_pp(S[0], S[1], S[2], S[3], 0., 0.)\n",
    "        return dsdt\n",
    "    \n",
    "    def integrate(self, teval):\n",
    "        \"\"\" Integrate motion equations, returning the solution evaluated at the points teval. \"\"\"\n",
    "        T = teval[-1]\n",
    "        self.solution = solve_ivp(self.derivatives, [0., T], self.init, t_eval=teval)\n",
    "        "
   ]
  },
  {
   "cell_type": "code",
   "execution_count": null,
   "metadata": {
    "collapsed": true
   },
   "outputs": [],
   "source": [
    "dp = double_pendulum(LE1, LE2)\n",
    "sim_time = 10.\n",
    "dp.init = [0., 0., 0., 0.]\n",
    "teval = numpy.linspace(0., sim_time, 1000)\n",
    "dp.integrate(teval)"
   ]
  },
  {
   "cell_type": "code",
   "execution_count": null,
   "metadata": {},
   "outputs": [],
   "source": [
    "fig = plt.figure()\n",
    "plt.plot(dp.solution.t, numpy.transpose(dp.solution.y))\n",
    "#plt.plot(tp.solution.t, th_s, 'b', tp.solution.t, th_e, 'r')"
   ]
  },
  {
   "cell_type": "markdown",
   "metadata": {},
   "source": [
    "At this point you can procede to section 1.4"
   ]
  },
  {
   "cell_type": "code",
   "execution_count": null,
   "metadata": {
    "code_folding": [
     0
    ]
   },
   "outputs": [],
   "source": [
    "#Animation\n",
    "%matplotlib widget\n",
    "from numpy import cos, sin\n",
    "theta_s = dp.solution.y[0]\n",
    "theta_e = dp.solution.y[2]\n",
    "phi = theta_s + theta_e\n",
    "xe = cos(theta_s)*dp.l1\n",
    "ye = sin(theta_s)*dp.l1\n",
    "xh = xe + cos(phi)*dp.l2\n",
    "yh = ye + sin(phi)*dp.l2\n",
    "\n",
    "fig = plt.figure(figsize=(10,10))\n",
    "\n",
    "#ax = fig.add_subplot(111, autoscale_on=False, xlim=(-2, 2), ylim=(-2, 2))\n",
    "plt.axis('equal')\n",
    "ax = plt.gca()\n",
    "lim = dp.l1 + dp.l2\n",
    "ax.set_xlim([-lim, lim])\n",
    "ax.set_ylim([-lim, lim])\n",
    "ax.grid()\n",
    "\n",
    "line, = ax.plot([], [], 'o-b', lw=2)\n",
    "\n",
    "def init():\n",
    "    line.set_data([], [])\n",
    "    return line,\n",
    "\n",
    "def update(frame):\n",
    "    coord_x = [0, xe[frame], xh[frame]]\n",
    "    coord_y = [0, ye[frame], yh[frame]]\n",
    "    line.set_data(coord_x, coord_y)\n",
    "    cur_time = frame*0.01\n",
    "    fig.suptitle('time: ' + '{:f}'.format(cur_time))\n",
    "    return line,\n",
    "\n",
    "ani = FuncAnimation(fig, update, frames=numpy.arange(0, len(theta_s)), init_func=init, blit=True, interval=10)\n",
    "\n",
    "plt.show()"
   ]
  },
  {
   "cell_type": "code",
   "execution_count": null,
   "metadata": {
    "code_folding": [
     0
    ],
    "collapsed": true
   },
   "outputs": [],
   "source": [
    "class test_pendulum:\n",
    "    \"\"\" A pendulum with equation copy-pasted from:\n",
    "        http://www.pydy.org/examples/double_pendulum.html\n",
    "        \n",
    "        The order of the variables was modified in order to match those\n",
    "        in draculab's double_pendulum.\n",
    "    \"\"\"\n",
    "    def __init__(self):\n",
    "        self.g = 9.8 # gravity [m/s^2]\n",
    "        self.l = 1. # length of each rod\n",
    "        self.m = 1. # mass of points?\n",
    "        self.init = [0.5, 1., 0.5, 1.]\n",
    "        #self.init = [1.5, 0., 0.2, 0.]\n",
    "\n",
    "    def derivatives(self, t, S):\n",
    "        \"\"\" Copy-pasted equations with order arranged. \n",
    "            \n",
    "            Args:\n",
    "                S[0] = angle of shoulder [rad]\n",
    "                S[1] = angular velocity of shoulder [rad/s]\n",
    "                S[2] = angle of elbow [radians]\n",
    "                S[3] = elbow's angular velocity [rad/s]\n",
    "            Returns:\n",
    "                dsdt[0]: shouler's angular velocity [rad/s]\n",
    "                dsdt[1]: shoulder's angular acceleration [rad/s^2]\n",
    "                dsdt[2]: elbow's angular velocity [rad/s]\n",
    "                dsdt[3]: elbow's angular acceleration [rad/s]\n",
    "        \"\"\"\n",
    "        l = self.l\n",
    "        g = self.g\n",
    "        m = self.m\n",
    "        q1 = S[0]\n",
    "        q2 = S[2]\n",
    "        u1 = S[1]\n",
    "        u2 = S[3]\n",
    "        dsdt = numpy.zeros(4)\n",
    "        dsdt[0] = S[1] # shoulder's ang vel\n",
    "        dsdt[1] = ( (-g*sin(q1)*sin(q2)**2 + 2*g*sin(q1) - g*sin(q2)*cos(q1)*cos(q2) + \n",
    "                    2*l*u1**2*sin(q1)*cos(q1)*cos(q2)**2 - l*u1**2*sin(q1)*cos(q1) - \n",
    "                    2*l*u1**2*sin(q2)*cos(q1)**2*cos(q2) + l*u1**2*sin(q2)*cos(q2) +\n",
    "                    l*u2**2*sin(q1)*cos(q2) -\n",
    "                     l*u2**2*sin(q2)*cos(q1))/(l*(sin(q1)**2*sin(q2)**2 + 2*sin(q1)*sin(q2)*cos(q1)*cos(q2) + cos(q1)**2*cos(q2)**2 - 2)))\n",
    "        dsdt[2] = S[3]\n",
    "        dsdt[3] = ( (-sin(q1)*sin(q2)/2 - cos(q1)*cos(q2)/2) * \n",
    "                    (2*g*l*m*sin(q1) - l**2*m*(-sin(q1)*cos(q2) + sin(q2)*cos(q1))*u2**2) / \n",
    "                    (l**2*m*(sin(q1)*sin(q2)/2 + cos(q1)*cos(q2)/2)*(sin(q1)*sin(q2) + cos(q1)*cos(q2)) - l**2*m) +\n",
    "                    (g*l*m*sin(q2) - l**2*m*(sin(q1)*cos(q2) - sin(q2)*cos(q1))*u1**2) / \n",
    "                    (l**2*m*(sin(q1)*sin(q2)/2 + cos(q1)*cos(q2)/2)*(sin(q1)*sin(q2) + cos(q1)*cos(q2)) - l**2*m) )\n",
    "        return dsdt\n",
    "    \n",
    "    def integrate(self, teval):\n",
    "        \"\"\" Integrate the equations, returning the solution evaluated at the points teval. \"\"\"\n",
    "        T = teval[-1]\n",
    "        self.solution = solve_ivp(self.derivatives, [0., T], self.init, t_eval=teval)\n",
    "        "
   ]
  },
  {
   "cell_type": "code",
   "execution_count": null,
   "metadata": {
    "collapsed": true
   },
   "outputs": [],
   "source": [
    "# Run test_pendulum with the same parameters\n",
    "tp = test_pendulum()\n",
    "#dp_pars = dp_parameters\n",
    "tp.init = dp.init\n",
    "tp.init[0] = dp.init[0] + numpy.pi/2.\n",
    "tp.init[2] = dp.init[2] + tp.init[0]\n",
    "tp.integrate(teval)"
   ]
  },
  {
   "cell_type": "code",
   "execution_count": null,
   "metadata": {
    "collapsed": true
   },
   "outputs": [],
   "source": [
    "# Convert the angles back to the frame used in draculab\n",
    "th_s = tp.solution.y[0] - numpy.pi/2.\n",
    "th_e = tp.solution.y[2] - tp.solution.y[0]"
   ]
  },
  {
   "cell_type": "code",
   "execution_count": null,
   "metadata": {},
   "outputs": [],
   "source": [
    "fig = plt.figure(figsize=(12,8))\n",
    "plt.plot(tp.solution.t, th_s, 'b', tp.solution.t, th_e, 'r')\n",
    "plt.plot(dp.solution.t, dp.solution.y[0], 'c', dp.solution.t, dp.solution.y[2], 'y')"
   ]
  },
  {
   "cell_type": "code",
   "execution_count": null,
   "metadata": {
    "code_folding": [
     0
    ]
   },
   "outputs": [],
   "source": [
    "#Animation\n",
    "%matplotlib widget\n",
    "from numpy import cos, sin\n",
    "theta_s = th_s\n",
    "theta_e = th_e\n",
    "length1 = tp.l\n",
    "length2 = tp.l\n",
    "phi = theta_s + theta_e\n",
    "xe = cos(theta_s)*length1\n",
    "ye = sin(theta_s)*length1\n",
    "xh = xe + cos(phi)*length2\n",
    "yh = ye + sin(phi)*length2\n",
    "\n",
    "fig = plt.figure(figsize=(10,10))\n",
    "plt.axis('equal')\n",
    "ax = plt.gca()\n",
    "lim = length1 + length2\n",
    "ax.set_xlim([-lim, lim])\n",
    "ax.set_ylim([-lim, lim])\n",
    "ax.grid()\n",
    "line, = ax.plot([], [], 'o-b', lw=2)\n",
    "\n",
    "def init():\n",
    "    line.set_data([], [])\n",
    "    return line,\n",
    "\n",
    "def update(frame):\n",
    "    coord_x = [0, xe[frame], xh[frame]]\n",
    "    coord_y = [0, ye[frame], yh[frame]]\n",
    "    line.set_data(coord_x, coord_y)\n",
    "    return line,\n",
    "\n",
    "ani = FuncAnimation(fig, update, frames=numpy.arange(0, len(theta_s)), init_func=init, blit=True, interval=10)\n",
    "\n",
    "plt.show()"
   ]
  },
  {
   "cell_type": "markdown",
   "metadata": {},
   "source": [
    "### 1.3 Printing the equations as code to use in draculab"
   ]
  },
  {
   "cell_type": "code",
   "execution_count": null,
   "metadata": {},
   "outputs": [],
   "source": [
    "# Changing the notation in the Lagrange equations in order to print the equations in a format that can be copy-pasted into draculab\n",
    "# All variables get ASCII names to preserve Python 2 compatibility.\n",
    "q1, q2, q1p, q2p, q1pp, q2pp, tau1, tau2, mu1, mu2 = symbols(\"q1, q2, q1p, q2p, q1pp, q2pp, tau1, tau2, mu1, mu2\")\n",
    "\n",
    "LE1s = LE1.subs([(diff(diff(θ_1, t),t), q1pp), (diff(diff(θ_2,t),t), q2pp)])\n",
    "LE1s = LE1s.subs([(diff(θ_1,t), q1p), (diff(θ_2,t), q2p)])\n",
    "LE1s = LE1s.subs([(θ_1, q1), (θ_2, q2), (μ_1, mu1)])\n",
    "LE1s = LE1s.subs([(τ_1, tau1), (τ_2, tau2)])\n",
    "\n",
    "LE2s = LE2.subs([(diff(diff(θ_1, t),t), q1pp), (diff(diff(θ_2,t),t), q2pp)])\n",
    "LE2s = LE2s.subs([(diff(θ_1,t), q1p), (diff(θ_2,t), q2p)])\n",
    "LE2s = LE2s.subs([(θ_1, q1), (θ_2, q2), (τ_1, tau1), (τ_2, tau2), (μ_2, mu2)])\n",
    "\n",
    "sol = solve([LE1s, LE2s], [q1pp, q2pp])\n",
    "d2q1dt2 = sol[q1pp]\n",
    "d2q2dt2 = sol[q2pp]"
   ]
  },
  {
   "cell_type": "code",
   "execution_count": null,
   "metadata": {},
   "outputs": [],
   "source": [
    "str(d2q1dt2.simplify())"
   ]
  },
  {
   "cell_type": "code",
   "execution_count": null,
   "metadata": {},
   "outputs": [],
   "source": [
    "str(d2q2dt2.simplify())"
   ]
  },
  {
   "cell_type": "markdown",
   "metadata": {},
   "source": [
    "### 1.4 Comparing against the draculab implementation"
   ]
  },
  {
   "cell_type": "code",
   "execution_count": null,
   "metadata": {},
   "outputs": [],
   "source": [
    "# creating an instance of the simple_double_pendulum class and running it\n",
    "from draculab import *\n",
    "dp_parameters = {'type': plant_models.simple_double_pendulum,\n",
    "                 'l1': 1.,\n",
    "                 'l2': 1.,\n",
    "                 'mass1': 1.,                 \n",
    "                 'mass2': 1.,\n",
    "                 'init_q1': dp.init[0],\n",
    "                 'init_q2': dp.init[1],\n",
    "                 'init_q1p': dp.init[2],\n",
    "                 'init_q2p': dp.init[3],\n",
    "                 'g' : dp.gravity,\n",
    "                 'mu1' : 0.,\n",
    "                 'mu2' : 0.}\n",
    "\n",
    "net_parameters = {'min_delay': 0.01,\n",
    "                  'min_buff_size': 10}\n",
    "\n",
    "source_s_parameters = {'init_val' : 0.,\n",
    "                       'type' : unit_types.source,\n",
    "                       'function' : lambda x: 0.}\n",
    "\n",
    "source_e_parameters = {'init_val' : 0.,\n",
    "                       'type' : unit_types.source,\n",
    "                       'function' : lambda x: 0.}\n",
    "\n",
    "net = network(net_parameters)\n",
    "dp_id = net.create(1, dp_parameters)\n",
    "source_s = net.create(1, source_s_parameters) \n",
    "source_e = net.create(1, source_e_parameters)\n",
    "\n",
    "source_s2dp_syn_spec = {'init_w' : 1., 'type' : synapse_types.static}\n",
    "source_e2dp_syn_spec = {'init_w' : 1., 'type' : synapse_types.static}\n",
    "\n",
    "source_s2dp_conn_spec = {'inp_ports' : [0], 'delays' : 0.01}\n",
    "source_e2dp_conn_spec = {'inp_ports' : [1], 'delays' : 0.01}\n",
    "\n",
    "net.set_plant_inputs(source_s, dp_id, source_s2dp_conn_spec, source_s2dp_syn_spec)\n",
    "net.set_plant_inputs(source_e, dp_id, source_e2dp_conn_spec, source_e2dp_syn_spec)"
   ]
  },
  {
   "cell_type": "code",
   "execution_count": null,
   "metadata": {
    "collapsed": true
   },
   "outputs": [],
   "source": [
    "sim_time = 20. # simulation time\n",
    "sim_dat = net.run(sim_time)\n",
    "dp_activs = np.array(sim_dat[2][dp_id])"
   ]
  },
  {
   "cell_type": "code",
   "execution_count": null,
   "metadata": {},
   "outputs": [],
   "source": [
    "fig = plt.figure(figsize=(12,8))\n",
    "plt.plot(sim_dat[0], dp_activs[:,0], 'b', sim_dat[0], dp_activs[:,2], 'r')\n",
    "plt.plot(dp.solution.t, dp.solution.y[0], 'c', dp.solution.t, dp.solution.y[2], 'y')\n",
    "plt.show()"
   ]
  },
  {
   "cell_type": "code",
   "execution_count": null,
   "metadata": {
    "code_folding": [
     0
    ]
   },
   "outputs": [],
   "source": [
    "#Animation\n",
    "%matplotlib widget\n",
    "from numpy import cos, sin\n",
    "theta_s = dp_activs[:,0]\n",
    "theta_e = dp_activs[:,2]\n",
    "phi = theta_s + theta_e\n",
    "l1 = net.plants[dp_id].l1\n",
    "l2 = net.plants[dp_id].l2\n",
    "xe = cos(theta_s)*l1\n",
    "ye = sin(theta_s)*l1\n",
    "xh = xe + cos(phi)*l2\n",
    "yh = ye + sin(phi)*l2\n",
    "\n",
    "fig = plt.figure(figsize=(10,10))\n",
    "plt.axis('equal')\n",
    "ax = plt.gca()\n",
    "lim = l1 + l2\n",
    "ax.set_xlim([-lim, lim])\n",
    "ax.set_ylim([-lim, lim])\n",
    "ax.grid()\n",
    "\n",
    "line, = ax.plot([], [], 'o-b', lw=2)\n",
    "\n",
    "def init():\n",
    "    line.set_data([], [])\n",
    "    return line,\n",
    "\n",
    "def update(frame):\n",
    "    coord_x = [0, xe[frame], xh[frame]]\n",
    "    coord_y = [0, ye[frame], yh[frame]]\n",
    "    line.set_data(coord_x, coord_y)\n",
    "    cur_time = frame*0.01\n",
    "    fig.suptitle('time: ' + '{:f}'.format(cur_time))\n",
    "    return line,\n",
    "\n",
    "ani = FuncAnimation(fig, update, frames=numpy.arange(0, len(theta_s)), init_func=init, blit=True, interval=10)\n",
    "\n",
    "plt.show()"
   ]
  },
  {
   "cell_type": "markdown",
   "metadata": {},
   "source": [
    "---\n",
    "## 2. Physical double  pendulum\n",
    "This double pendulum consists of two rods of homogeneous density along their axis.\n",
    "\n",
    "Unlike the simple pendulum, in here the generalized forces are assumed to be the torques (cf. Siciliano Eq. 7.82).  \n",
    "Viscous friction is added through extra forces in the Lagrange equations (cf. Ardema 2005 Eq. 6.39)."
   ]
  },
  {
   "cell_type": "markdown",
   "metadata": {},
   "source": [
    "---\n",
    "### 2.1 Deriving the Lagrange equations"
   ]
  },
  {
   "cell_type": "code",
   "execution_count": null,
   "metadata": {},
   "outputs": [],
   "source": [
    "from sympy import *\n",
    "import numpy\n",
    "import numpy as np\n",
    "#from draculab import *\n",
    "from scipy.integrate import solve_ivp\n",
    "import matplotlib.pyplot as plt\n",
    "from matplotlib.animation import FuncAnimation\n",
    "init_printing(use_unicode=True)"
   ]
  },
  {
   "cell_type": "code",
   "execution_count": null,
   "metadata": {},
   "outputs": [],
   "source": [
    "# create the starting symbols\n",
    "t = symbols('t')  # symbol for time\n",
    "θ_1 = Function('θ_1')(t)  # shoulder angle\n",
    "θ_2 = Function('θ_2')(t)  # elbow angle\n",
    "L1 = symbols('L1')  # Length of upper arm\n",
    "L2 = symbols('L2')  # Length of forearm\n",
    "m1 = symbols('m1')  # upper arm mass\n",
    "m2 = symbols('m2')  # forearm mass\n",
    "g = symbols('g')  # gravitation constant\n",
    "τ_1 = symbols('τ_1') # external torque at shoulder\n",
    "τ_2 = symbols('τ_2') # external torque at elbow\n",
    "μ_1 = symbols('μ_1') # viscous friction at shoulder\n",
    "μ_2 = symbols('μ_2') # viscous friction at elbow"
   ]
  },
  {
   "cell_type": "code",
   "execution_count": null,
   "metadata": {},
   "outputs": [],
   "source": [
    "x1 = L1 * cos(θ_1)  # elbow x coordinate\n",
    "y1 = L1 * sin(θ_1)  # elbow y coordinate\n",
    "x2 = x1 + L2 * cos(θ_1 + θ_2) # hand x coordinate\n",
    "y2 = y1 + L2 * sin(θ_1 + θ_2) # hand y coordinate\n",
    "x_c1 = (L1/2.) * cos(θ_1)  # upper arm center of mass x coordinate\n",
    "y_c1 = (L1/2.) * sin(θ_1)  # upper arm center of mass y coordinate\n",
    "x_c2 = x1 + (L2/2.) * cos(θ_1 + θ_2) # forearm center of mass x coordinate\n",
    "y_c2 = y1 + (L2/2.) * sin(θ_1 + θ_2) # forearm center of mass y coordinate\n",
    "\n",
    "θ_1p = diff(θ_1, t)\n",
    "θ_2p = diff(θ_2, t)\n",
    "dx_c2dt = diff(x_c2, t)\n",
    "dy_c2dt = diff(y_c2, t)\n",
    "\n",
    "T1 = Rational(1,6) * m1 * L1**2 * θ_1p**2  # upper arm kinetic energy\n",
    "T2 = (1/2) * m2 * ((dx_c2dt**2 + dy_c2dt**2) + (L2**2/12)*(θ_1p + θ_2p)**2) # forearm KE\n",
    "T = T1 + T2  # kinetic energy\n",
    "T = simplify(T)\n",
    "\n",
    "V = m1*g*y_c1 + m2*g*y_c2  # potential energy\n",
    "L = T-V # Laplacian\n",
    "\n",
    "# the generalized forces are the torques\n",
    "Q1 = τ_1\n",
    "Q2 = τ_2"
   ]
  },
  {
   "cell_type": "code",
   "execution_count": null,
   "metadata": {},
   "outputs": [],
   "source": [
    "# The Lagrange equations\n",
    "LE1 = diff(L.diff(diff(θ_1,t)), t) - L.diff(θ_1) - Q1 + μ_1 * diff(θ_1, t)\n",
    "LE2 = diff(L.diff(diff(θ_2,t)), t) - L.diff(θ_2) - Q2 + μ_2 * diff(θ_2, t)"
   ]
  },
  {
   "cell_type": "markdown",
   "metadata": {},
   "source": [
    "### 2.1.1 Quick test of the cell above"
   ]
  },
  {
   "cell_type": "code",
   "execution_count": null,
   "metadata": {},
   "outputs": [],
   "source": [
    "# Different way to obtain the equations (withouth the torques and friction)\n",
    "from sympy.calculus.euler import euler_equations\n",
    "EE1, EE2 = euler_equations(L, [θ_1, θ_2], t)\n",
    "EE1 = EE1.lhs\n",
    "EE2 = EE2.lhs"
   ]
  },
  {
   "cell_type": "code",
   "execution_count": null,
   "metadata": {},
   "outputs": [],
   "source": [
    "# Result should only include the non-conservative forces\n",
    "(EE1+LE1).simplify()"
   ]
  },
  {
   "cell_type": "code",
   "execution_count": null,
   "metadata": {},
   "outputs": [],
   "source": [
    "# Result should only include the non-conservative forces\n",
    "(EE2+LE2).simplify()"
   ]
  },
  {
   "cell_type": "markdown",
   "metadata": {},
   "source": [
    "---\n",
    "### 2.2 Comparing with Ardema05"
   ]
  },
  {
   "cell_type": "code",
   "execution_count": null,
   "metadata": {},
   "outputs": [],
   "source": [
    "# comparing kinetic energy from Ardema05 (Eq. 7.21)\n",
    "θ_1p, θ_2p, θ_1pp, θ_2pp, I1, I2 = symbols('θ_1p, θ_2p, θ_1pp, θ_2pp, I1, I2')\n",
    "l1, l2, Φ, Φp = symbols('l1, l2, Φ, Φp')\n",
    "AT1 = (1/2) * (m1 * (l1 * θ_1p)**2 + I1 * θ_1p**2)\n",
    "AT2 = (1/2) * m2 * (L1**2*θ_1p**2 + l2**2*Φp**2 + 2*L1*l2*θ_1p*Φp*cos(Φ - θ_1)) + (1/2) * I2 * Φp**2\n",
    "\n",
    "AT1 = AT1.subs(l1, L1/2)\n",
    "AT1 = AT1.subs(I1, (m1*L1**2)/12)\n",
    "AT2 = AT2.subs(l1, L1/2)\n",
    "AT2 = AT2.subs(l2, L2/2)\n",
    "AT2 = AT2.subs(I1, (m1*L1**2)/12)\n",
    "AT2 = AT2.subs(I2, (m2*L2**2)/12)\n",
    "AT2 = AT2.subs(Φ, θ_1+θ_2)\n",
    "AT2 = AT2.subs(Φp, θ_1p+θ_2p)\n",
    "\n",
    "AT = AT1 + AT2"
   ]
  },
  {
   "cell_type": "code",
   "execution_count": null,
   "metadata": {},
   "outputs": [],
   "source": [
    "# Changing the notation of T to match cell above\n",
    "Tn = T.subs(diff(θ_1, t), θ_1p)\n",
    "Tn = Tn.subs(diff(θ_2, t), θ_2p)"
   ]
  },
  {
   "cell_type": "code",
   "execution_count": null,
   "metadata": {},
   "outputs": [],
   "source": [
    "# This must be zero!\n",
    "(Tn-AT).simplify()"
   ]
  },
  {
   "cell_type": "code",
   "execution_count": null,
   "metadata": {},
   "outputs": [],
   "source": [
    "# comparing first derivative of kinetic energy wrt angular velocity\n",
    "Tndθ_1p = diff(Tn, θ_1p) # derivative of my KE\n",
    "#Tndθ_1p\n",
    "ATdθ_1p = diff(AT, θ_1p) # derivative of Ardema's KE\n",
    "#ATdθ_1p\n",
    "(ATdθ_1p - Tndθ_1p).simplify()"
   ]
  },
  {
   "cell_type": "code",
   "execution_count": null,
   "metadata": {},
   "outputs": [],
   "source": [
    "# comparing equations of motion (Eq. 7.25) assuming g=0\n",
    "Ip, I2e, A = symbols('Ip, I2e, A')\n",
    "EQ1 = Ip*θ_1pp + A*(θ_2pp+θ_1pp)*cos(θ_2) - A*sin(θ_2)*(θ_1p+θ_2p)**2 - Q1\n",
    "EQ2 = I2e*(θ_2pp+θ_1pp) + A*θ_1pp*cos(θ_2) + A*sin(θ_2)*θ_1p**2 - Q2\n",
    "\n",
    "EQ1 = EQ1.subs(Ip, m1*L1**2/3 + m2*L1**2)\n",
    "EQ1 = EQ1.subs(A, m2*L1*(L2/2))\n",
    "EQ2 = EQ2.subs(I2e, m2*L2**2/12 + m2*L2**2/4)\n",
    "EQ2 = EQ2.subs(A, m2*L1*(L2/2))\n",
    "\n",
    "EQ1.simplify().expand()"
   ]
  },
  {
   "cell_type": "code",
   "execution_count": null,
   "metadata": {},
   "outputs": [],
   "source": [
    "# Changing the notation in the Lagrange equation to match the cell above\n",
    "LE1s = LE1.subs([(g, 0), (diff(diff(θ_1, t),t), θ_1pp), (diff(diff(θ_2,t),t), θ_2pp)])\n",
    "LE1s = LE1s.subs([(diff(θ_1,t), θ_1p), (diff(θ_2,t), θ_2p)])\n",
    "LE2s = LE2.subs([(g, 0), (diff(diff(θ_1, t),t), θ_1pp), (diff(diff(θ_2,t),t), θ_2pp)])\n",
    "LE2s = LE2s.subs([(diff(θ_1,t), θ_1p), (diff(θ_2,t), θ_2p)])\n",
    "LE1s.expand().simplify()"
   ]
  },
  {
   "cell_type": "markdown",
   "metadata": {},
   "source": [
    "Because Ardema05 is using different coordinates, the Euler-Lagrange equations are not supposed to be the same. Nevertheless, they should be related by a nonsingular linear transformation corresponding to the Jacobian matrix of the coordinate transformation. See about invariance of Lagrange's equations in Ardema's section 6.5.  \n",
    "In this case, the matrix that relates the transformation is:\n",
    "$\\begin{bmatrix}\n",
    "1 & -1 \\\\\n",
    "0 & 1\n",
    "\\end{bmatrix}\n",
    "$"
   ]
  },
  {
   "cell_type": "code",
   "execution_count": null,
   "metadata": {},
   "outputs": [],
   "source": [
    "# This should only include the non-conservative forces\n",
    "(EQ1 - LE1s + LE2s).simplify()"
   ]
  },
  {
   "cell_type": "code",
   "execution_count": null,
   "metadata": {},
   "outputs": [],
   "source": [
    "# This should only include the non-conservative forces\n",
    "(EQ2 - LE2s).simplify()"
   ]
  },
  {
   "cell_type": "markdown",
   "metadata": {},
   "source": [
    "After 2.2, either 2.3, 2.4, or 2.5 can be followed"
   ]
  },
  {
   "cell_type": "markdown",
   "metadata": {},
   "source": [
    "---\n",
    "### 2.3 Printing the equations as Python code"
   ]
  },
  {
   "cell_type": "code",
   "execution_count": null,
   "metadata": {},
   "outputs": [],
   "source": [
    "# Changing the notation in the Lagrange equations in order to print the equations in a format that can be copy-pasted into draculab\n",
    "# All variables get ASCII names to preserve Python 2 compatibility.\n",
    "q1, q2, q1p, q2p, q1pp, q2pp, tau1, tau2, mu1, mu2 = symbols(\"q1, q2, q1p, q2p, q1pp, q2pp, tau1, tau2, mu1, mu2\")\n",
    "\n",
    "LE1s = LE1.subs([(diff(diff(θ_1, t),t), q1pp), (diff(diff(θ_2,t),t), q2pp)])\n",
    "LE1s = LE1s.subs([(diff(θ_1,t), q1p), (diff(θ_2,t), q2p)])\n",
    "LE1s = LE1s.subs([(θ_1, q1), (θ_2, q2), (μ_1, mu1)])\n",
    "LE1s = LE1s.subs([(τ_1, tau1), (τ_2, tau2)])\n",
    "\n",
    "LE2s = LE2.subs([(diff(diff(θ_1, t),t), q1pp), (diff(diff(θ_2,t),t), q2pp)])\n",
    "LE2s = LE2s.subs([(diff(θ_1,t), q1p), (diff(θ_2,t), q2p)])\n",
    "LE2s = LE2s.subs([(θ_1, q1), (θ_2, q2), (τ_1, tau1), (τ_2, tau2), (μ_2, mu2)])\n",
    "\n",
    "sol = solve([LE1s, LE2s], [q1pp, q2pp])\n",
    "d2q1dt2 = sol[q1pp]\n",
    "d2q2dt2 = sol[q2pp]"
   ]
  },
  {
   "cell_type": "code",
   "execution_count": null,
   "metadata": {},
   "outputs": [],
   "source": [
    "# angular acceleration at shoulder\n",
    "str(d2q1dt2)"
   ]
  },
  {
   "cell_type": "code",
   "execution_count": null,
   "metadata": {},
   "outputs": [],
   "source": [
    "# angular acceleration at elbow\n",
    "str(d2q2dt2)"
   ]
  },
  {
   "cell_type": "markdown",
   "metadata": {},
   "source": [
    "---\n",
    "### 2.4 Simulating and comparing with Draculab"
   ]
  },
  {
   "cell_type": "code",
   "execution_count": null,
   "metadata": {},
   "outputs": [],
   "source": [
    "# creating an instance of the simple_double_pendulum class and running it\n",
    "from draculab import *\n",
    "dp_parameters = {'type': plant_models.compound_double_pendulum,\n",
    "                 'l1': 1.,\n",
    "                 'l2': 1.,\n",
    "                 'mass1': 1.,                 \n",
    "                 'mass2': 1.,\n",
    "                 'init_q1': 0.,\n",
    "                 'init_q2': 0.,\n",
    "                 'init_q1p':0.,\n",
    "                 'init_q2p': 0.,\n",
    "                 'g' : 9.81,\n",
    "                 'mu1' : 0.,\n",
    "                 'mu2' : 0.}\n",
    "\n",
    "net_parameters = {'min_delay': 0.01,\n",
    "                  'min_buff_size': 10}\n",
    "\n",
    "source_s_parameters = {'init_val' : 0.,\n",
    "                       'type' : unit_types.source,\n",
    "                       'function' : lambda x: 0.}\n",
    "\n",
    "source_e_parameters = {'init_val' : 0.,\n",
    "                       'type' : unit_types.source,\n",
    "                       'function' : lambda x: 0.}\n",
    "\n",
    "net = network(net_parameters)\n",
    "dp_id = net.create(1, dp_parameters)\n",
    "source_s = net.create(1, source_s_parameters) \n",
    "source_e = net.create(1, source_e_parameters)\n",
    "\n",
    "source_s2dp_syn_spec = {'init_w' : 1., 'type' : synapse_types.static}\n",
    "source_e2dp_syn_spec = {'init_w' : 1., 'type' : synapse_types.static}\n",
    "\n",
    "source_s2dp_conn_spec = {'inp_ports' : [0], 'delays' : 0.01}\n",
    "source_e2dp_conn_spec = {'inp_ports' : [1], 'delays' : 0.01}\n",
    "\n",
    "net.set_plant_inputs(source_s, dp_id, source_s2dp_conn_spec, source_s2dp_syn_spec)\n",
    "net.set_plant_inputs(source_e, dp_id, source_e2dp_conn_spec, source_e2dp_syn_spec)"
   ]
  },
  {
   "cell_type": "code",
   "execution_count": null,
   "metadata": {
    "collapsed": true
   },
   "outputs": [],
   "source": [
    "sim_time = 10. # simulation time\n",
    "sim_dat = net.run(sim_time)\n",
    "dp_activs = np.array(sim_dat[2][dp_id])"
   ]
  },
  {
   "cell_type": "code",
   "execution_count": null,
   "metadata": {},
   "outputs": [],
   "source": [
    "fig = plt.figure()\n",
    "plt.plot(sim_dat[0], dp_activs)\n",
    "plt.show()"
   ]
  },
  {
   "cell_type": "code",
   "execution_count": null,
   "metadata": {},
   "outputs": [],
   "source": [
    "net.plants[dp_id].buffer.shape"
   ]
  },
  {
   "cell_type": "code",
   "execution_count": null,
   "metadata": {
    "code_folding": [
     0
    ]
   },
   "outputs": [],
   "source": [
    "#Animation\n",
    "%matplotlib widget\n",
    "from numpy import cos, sin\n",
    "theta_s = dp_activs[:,0]\n",
    "theta_e = dp_activs[:,2]\n",
    "phi = theta_s + theta_e\n",
    "l1 = net.plants[dp_id].l1\n",
    "l2 = net.plants[dp_id].l2\n",
    "xe = cos(theta_s)*l1\n",
    "ye = sin(theta_s)*l1\n",
    "xh = xe + cos(phi)*l2\n",
    "yh = ye + sin(phi)*l2\n",
    "\n",
    "fig = plt.figure(figsize=(10,10))\n",
    "plt.axis('equal')\n",
    "ax = plt.gca()\n",
    "lim = l1 + l2\n",
    "ax.set_xlim([-lim, lim])\n",
    "ax.set_ylim([-lim, lim])\n",
    "ax.grid()\n",
    "\n",
    "line, = ax.plot([], [], 'o-b', lw=2)\n",
    "\n",
    "def init():\n",
    "    line.set_data([], [])\n",
    "    return line,\n",
    "\n",
    "def update(frame):\n",
    "    coord_x = [0, xe[frame], xh[frame]]\n",
    "    coord_y = [0, ye[frame], yh[frame]]\n",
    "    line.set_data(coord_x, coord_y)\n",
    "    cur_time = frame*0.01\n",
    "    fig.suptitle('time: ' + '{:f}'.format(cur_time))\n",
    "    return line,\n",
    "\n",
    "ani = FuncAnimation(fig, update, frames=numpy.arange(0, len(theta_s)), init_func=init, blit=True, interval=10)\n",
    "\n",
    "plt.show()"
   ]
  },
  {
   "cell_type": "code",
   "execution_count": null,
   "metadata": {
    "code_folding": [
     0
    ],
    "collapsed": true
   },
   "outputs": [],
   "source": [
    "class double_pendulum:\n",
    "    \"\"\" A double pendulum with the equations derived above.\n",
    "    \"\"\"\n",
    "    def __init__(self, LE1, LE2):\n",
    "        # solve for the second derivatives of theta_1, theta_2\n",
    "        sol = solve([LE1, LE2], [diff(diff(θ_1,t),t), diff(diff(θ_2,t),t)])\n",
    "        d2θ_1dt2 = sol[diff(diff(θ_1,t),t)]\n",
    "        d2θ_2dt2 = sol[diff(diff(θ_2,t),t)]\n",
    "\n",
    "        # Substitute the value of the parameters\n",
    "        self.mass1 = 1.\n",
    "        self.mass2 = 1.\n",
    "        self.gravity = 9.81\n",
    "        self.l1 = 1.\n",
    "        self.l2 = 1.\n",
    "        self.mu1 = 0.\n",
    "        self.mu2 = 0.\n",
    "        d2θ_1dt2 = d2θ_1dt2.subs([(m1, self.mass1), (m2, self.mass2), (g, self.gravity),\n",
    "                                  (L1, self.l1), (L2, self.l2), (μ_1, self.mu1), (μ_2, self.mu2)])\n",
    "        d2θ_2dt2 = d2θ_2dt2.subs([(m1, self.mass1), (m2, self.mass2), (g, self.gravity),\n",
    "                                  (L1, self.l1), (L2, self.l2), (μ_1, self.mu1), (μ_2, self.mu2)])\n",
    "        # substitute the first derivatives by dummy symbols\n",
    "        theta1_p = symbols('theta1_p') # dummy symbol for the first derivative of theta1\n",
    "        theta2_p = symbols('theta2_p') # dummy symbol for the first derivative of theta2\n",
    "        d2θ_1dt2 = d2θ_1dt2.subs(diff(θ_1,t), theta1_p)\n",
    "        d2θ_1dt2 = d2θ_1dt2.subs(diff(θ_2,t), theta2_p)\n",
    "        d2θ_2dt2 = d2θ_2dt2.subs(diff(θ_1,t), theta1_p)\n",
    "        d2θ_2dt2 = d2θ_2dt2.subs(diff(θ_2,t), theta2_p)\n",
    "        # lambdify the second derivatives\n",
    "        self.theta1_pp = lambdify((θ_1, theta1_p, θ_2, theta2_p, τ_1, τ_2), d2θ_1dt2, \"numpy\")\n",
    "        self.theta2_pp = lambdify((θ_1, theta1_p, θ_2, theta2_p, τ_1, τ_2), d2θ_2dt2, \"numpy\")       \n",
    "        # intial conditions\n",
    "        self.init = [0., 0.1, 0., -0.1]\n",
    "\n",
    "    def derivatives(self, t, S):\n",
    "        \"\"\" Implementation of the pendulum dynamics using thetaX_pp.\n",
    "            \n",
    "            Args:\n",
    "                S[0] = angle of shoulder [rad]\n",
    "                S[1] = angular velocity of shoulder [rad/s]\n",
    "                S[2] = angle of elbow [radians]\n",
    "                S[3] = elbow's angular velocity [rad/s]\n",
    "            Returns:\n",
    "                dsdt[0]: shouler's angular velocity [rad/s]\n",
    "                dsdt[1]: shoulder's angular acceleration [rad/s^2]\n",
    "                dsdt[2]: elbow's angular velocity [rad/s]\n",
    "                dsdt[3]: elbow's angular acceleration [rad/s]\n",
    "        \"\"\"\n",
    "        dsdt = numpy.zeros(4) \n",
    "        dsdt[0] = S[1] # shoulder's ang vel\n",
    "        dsdt[1] = self.theta1_pp(S[0], S[1], S[2], S[3], 0., 0.)\n",
    "        dsdt[2] = S[3]\n",
    "        dsdt[3] = self.theta2_pp(S[0], S[1], S[2], S[3], 0., 0.)\n",
    "        return dsdt\n",
    "    \n",
    "    def integrate(self, teval):\n",
    "        \"\"\" Integrate motion equations, returning the solution evaluated at the points teval. \"\"\"\n",
    "        T = teval[-1]\n",
    "        self.solution = solve_ivp(self.derivatives, [0., T], self.init, t_eval=teval)\n",
    "        "
   ]
  },
  {
   "cell_type": "code",
   "execution_count": null,
   "metadata": {},
   "outputs": [],
   "source": [
    "dp = double_pendulum(LE1, LE2)\n",
    "dp.init = [dp_parameters['init_q1'],\n",
    "           dp_parameters['init_q1p'],\n",
    "           dp_parameters['init_q2'],\n",
    "           dp_parameters['init_q2p']]\n",
    "teval = sim_dat[0]\n",
    "dp.integrate(teval)"
   ]
  },
  {
   "cell_type": "code",
   "execution_count": null,
   "metadata": {},
   "outputs": [],
   "source": [
    "fig = plt.figure(figsize=(14,8))\n",
    "plt.plot(dp.solution.t[0:500], numpy.transpose(dp.solution.y[:,0:500]))\n",
    "plt.plot(sim_dat[0][0:500], dp_activs[0:500,:])\n",
    "plt.show()"
   ]
  },
  {
   "cell_type": "code",
   "execution_count": null,
   "metadata": {},
   "outputs": [],
   "source": [
    "#Animation\n",
    "%matplotlib widget\n",
    "from numpy import cos, sin\n",
    "theta_s = dp.solution.y[0]\n",
    "theta_e = dp.solution.y[2]\n",
    "phi = theta_s + theta_e\n",
    "xe = cos(theta_s)*dp.l1\n",
    "ye = sin(theta_s)*dp.l1\n",
    "xh = xe + cos(phi)*dp.l2\n",
    "yh = ye + sin(phi)*dp.l2\n",
    "\n",
    "fig = plt.figure(figsize=(10,10))\n",
    "\n",
    "#ax = fig.add_subplot(111, autoscale_on=False, xlim=(-2, 2), ylim=(-2, 2))\n",
    "plt.axis('equal')\n",
    "ax = plt.gca()\n",
    "lim = dp.l1 + dp.l2\n",
    "ax.set_xlim([-lim, lim])\n",
    "ax.set_ylim([-lim, lim])\n",
    "ax.grid()\n",
    "\n",
    "line, = ax.plot([], [], 'o-b', lw=2)\n",
    "\n",
    "def init():\n",
    "    line.set_data([], [])\n",
    "    return line,\n",
    "\n",
    "def update(frame):\n",
    "    coord_x = [0, xe[frame], xh[frame]]\n",
    "    coord_y = [0, ye[frame], yh[frame]]\n",
    "    line.set_data(coord_x, coord_y)\n",
    "    cur_time = frame*0.01\n",
    "    fig.suptitle('time: ' + '{:f}'.format(cur_time))\n",
    "    return line,\n",
    "\n",
    "ani = FuncAnimation(fig, update, frames=numpy.arange(0, len(theta_s)), init_func=init, blit=True, interval=10)\n",
    "\n",
    "plt.show()"
   ]
  },
  {
   "cell_type": "markdown",
   "metadata": {},
   "source": [
    "---\n",
    "### 2.5 Comparing equations with Hollerback82 and Siciliano08\n",
    "Proceed here directly after 2.2"
   ]
  },
  {
   "cell_type": "code",
   "execution_count": null,
   "metadata": {
    "collapsed": true
   },
   "outputs": [],
   "source": [
    "# Equations from Hollerback82\n",
    "from sympy import sin, cos # because these clash with sin, cos from numpy\n",
    "θ_1p, θ_2p, θ_1pp, θ_2pp, I1, I2 = symbols('θ_1p, θ_2p, θ_1pp, θ_2pp, I1, I2')\n",
    "n2 = θ_1pp * (I2 + (m2*L1*L2/2)*cos(θ_2) + (m2 * L2**2)/4) + θ_2pp * (I2 + (m2 * L2**2)/4) + (m2 * L1 * L2/2) * (θ_1p**2)*sin(θ_2)\n",
    "n2 = n2.subs(I1, m1 * L1**2 / 12)\n",
    "n2 = n2.subs(I2, m2 * L2**2 / 12)\n",
    "\n",
    "n1 =(θ_1pp * (I1 + I2 + m2*L1*L2*cos(θ_2) + (1/4)*(m1*L1**2 + m2*L2**2) + m2*L1**2) +\n",
    "     θ_2pp * (I2 + (1/4)*m2*L2**2 + (1/2)*m2*L1*L2*cos(θ_2)) - \n",
    "     (1/2)*m2*L1*L2*(θ_2p**2)*sin(θ_2) - m2*L1*L2*θ_1p*θ_2p*sin(θ_2))"
   ]
  },
  {
   "cell_type": "code",
   "execution_count": null,
   "metadata": {},
   "outputs": [],
   "source": [
    "# First of equations 7.82 from Siciliano08 without the motor\n",
    "l1, l2 = symbols('l1, l2')\n",
    "Tau1 = (θ_1pp * (I1 + I2 + m1*l1**2 + m2*(L1**2 + l2**2 + 2*L1*l2*cos(θ_2))) +\n",
    "        θ_2pp * (I2 + m2*(l2**2 + L1*l2*cos(θ_2))) -\n",
    "        2 * m2 * L1 * l2 *sin(θ_2) * θ_1p * θ_2p -\n",
    "        m2 * L1 *l2 * sin(θ_2) * θ_2p**2 +\n",
    "        g * cos(θ_1) * (m1 * l1 + m2 * L1) +\n",
    "        m2 * l2 * g * cos(θ_1 + θ_2))\n",
    "Tau1 = Tau1.subs(l1, L1/2)\n",
    "Tau1 = Tau1.subs(l2, L2/2)\n",
    "sTau1 = Tau1.subs(I1, m1 * L1**2 / 12).subs(I2, m2 * L2**2 / 12).subs(g,0).simplify()"
   ]
  },
  {
   "cell_type": "code",
   "execution_count": null,
   "metadata": {},
   "outputs": [],
   "source": [
    "# Siciliano and Hollerback agree...\n",
    "(Tau1.subs(g, 0) - n1).simplify()"
   ]
  },
  {
   "cell_type": "code",
   "execution_count": null,
   "metadata": {},
   "outputs": [],
   "source": [
    "# Comparing my own Lagrange equations with those of Siciliano 2008\n",
    "# Only the non-conservative forces should remain\n",
    "(LE1s - sTau1).simplify()"
   ]
  },
  {
   "cell_type": "code",
   "execution_count": null,
   "metadata": {},
   "outputs": [],
   "source": []
  }
 ],
 "metadata": {
  "kernelspec": {
   "display_name": "Python 3",
   "language": "python",
   "name": "python3"
  },
  "language_info": {
   "codemirror_mode": {
    "name": "ipython",
    "version": 3
   },
   "file_extension": ".py",
   "mimetype": "text/x-python",
   "name": "python",
   "nbconvert_exporter": "python",
   "pygments_lexer": "ipython3",
   "version": "3.5.2"
  }
 },
 "nbformat": 4,
 "nbformat_minor": 2
}
