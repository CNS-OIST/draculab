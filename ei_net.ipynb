{
 "cells": [
  {
   "cell_type": "code",
   "execution_count": 1,
   "metadata": {
    "collapsed": true
   },
   "outputs": [],
   "source": [
    "# ei_net.ipynb\n",
    "# This notebook is used for testing a network of excitatory and inhibitory units with homeostatic inhibition\n",
    "# as described in: Moldakarimov, MacClelland and Ermentrout 2006, \"A homeostatic rule for inhibitory synapses \n",
    "# promotes temporal sharpening and cortical reorganization\" PNAS 103(44):16526-16531.\n",
    "\n",
    "# By Sergio Verduzco Flores        July 2017\n",
    "\n",
    "from sirasi import *\n",
    "from matplotlib import pyplot as plt\n",
    "import numpy as np\n",
    "import pylab\n",
    "import time"
   ]
  },
  {
   "cell_type": "code",
   "execution_count": 2,
   "metadata": {
    "collapsed": true
   },
   "outputs": [],
   "source": [
    "# create the functions with the gain functions for the E and I units\n",
    "def make_fe(th, eps): # returns a function as in Eq. 1 of the paper\n",
    "    return lambda x : np.sqrt( eps * np.log( 1. + np.exp( (x - th)/eps ) ) )\n",
    "def make_fi(th, eps): # returns a function as in Eq. 2 of the paper\n",
    "    return lambda x: eps * np.log( 1. + np.exp( (x - th)/eps ) ) \n",
    "def make_pulse(t_init, t_end): # return f(t) = 1 if t_init < t < t_end, 0 otherwise\n",
    "    return lambda t : 1. if (t_init < t and t < t_end) else 0."
   ]
  },
  {
   "cell_type": "code",
   "execution_count": 54,
   "metadata": {
    "collapsed": false
   },
   "outputs": [
    {
     "data": {
      "image/png": "[encoded data removed]",
      "text/plain": [
       "<matplotlib.figure.Figure at 0x7fe7b7b855c0>"
      ]
     },
     "metadata": {},
     "output_type": "display_data"
    },
    {
     "data": {
      "image/png": "[encoded data removed]",
      "text/plain": [
       "<matplotlib.figure.Figure at 0x7fe7b7716198>"
      ]
     },
     "metadata": {},
     "output_type": "display_data"
    }
   ],
   "source": [
    "\"\"\" Test a single E-I pair, as in figure 2.\n",
    "    It becomes clear that they may have used different durations for the transient stimulus.\n",
    "    Moreover, the gain functins don't look the same, even if I match their parameters.\n",
    "\"\"\"\n",
    "net_params = {'min_delay' : 0.01, 'min_buff_size' : 2, 'rtol':1e-5, 'atol':1e-5 } \n",
    "net1 = network(net_params)\n",
    "# creating the units\n",
    "exc_params = {'tau' : 1., 'function' : make_fe(1., 0.2), 'type' : unit_types.custom_fi, 'init_val' : 0.0 }\n",
    "inh_params = {'tau' : 20., 'function' : make_fi(2., 0.2), 'type' : unit_types.custom_fi, 'init_val' : 0.0 }\n",
    "ext_params = {'init_val' : 0.0, 'function' : make_pulse(10., 25.), 'type' : unit_types.source, }\n",
    "\n",
    "exc = net1.create(1, exc_params)\n",
    "inh = net1.create(1, inh_params)\n",
    "ext = net1.create(1, ext_params)\n",
    "\n",
    "# connecting the units\n",
    "exc2inh_conn = {'rule' : 'one_to_one', 'delay' : 0.01}\n",
    "exc2exc_conn = {'rule' : 'one_to_one', 'delay' : 0.01}\n",
    "inh2exc_conn = {'rule' : 'one_to_one', 'delay' : 0.01}\n",
    "ext2exc_conn = {'rule' : 'one_to_one', 'delay' : 0.01}\n",
    "\n",
    "exc2inh_syn = {'type' : synapse_types.static, 'init_w' : 1.}\n",
    "exc2exc_syn = {'type' : synapse_types.static, 'init_w' : 3.}\n",
    "inh2exc_syn = {'type' : synapse_types.static, 'init_w' : -1.2}\n",
    "ext2exc_syn = {'type' : synapse_types.static, 'init_w' : 5.}\n",
    "\n",
    "net1.connect(exc, inh, exc2inh_conn, exc2inh_syn)\n",
    "net1.connect(exc, exc, exc2exc_conn, exc2exc_syn)\n",
    "net1.connect(inh, exc, inh2exc_conn, inh2exc_syn)\n",
    "net1.connect(ext, exc, ext2exc_conn, ext2exc_syn)\n",
    "net1.connect(ext, inh, ext2exc_conn, ext2exc_syn)\n",
    "\n",
    "# running the simulation\n",
    "times, units, empty = net1.run(50.)\n",
    "\n",
    "# visualizing\n",
    "gain_fig = plt.figure(figsize=(5,3))\n",
    "inps = np.linspace(-5.,10.,100)\n",
    "exc_fr = np.array([net1.units[exc[0]].f(I) for I in inps])\n",
    "inh_fr = np.array([net1.units[inh[0]].f(I) for I in inps])\n",
    "pylab.plot(inps, exc_fr, 'k', inps, inh_fr, 'k--', figure=gain_fig)\n",
    "\n",
    "act_fig = plt.figure(figsize=(8,5))\n",
    "pylab.plot(times, units[exc[0]], 'b', times, units[inh[0]], 'r', times, units[ext[0]], 'g', figure=act_fig)\n",
    "plt.show()\n"
   ]
  },
  {
   "cell_type": "code",
   "execution_count": 21,
   "metadata": {
    "collapsed": false
   },
   "outputs": [
    {
     "data": {
      "text/plain": [
       "[[3.0, -1.2, 5.0], [1.0, 5.0], []]"
      ]
     },
     "execution_count": 21,
     "metadata": {},
     "output_type": "execute_result"
    }
   ],
   "source": [
    "[ [syn.w for syn in syn_list] for syn_list in net1.syns ]"
   ]
  },
  {
   "cell_type": "code",
   "execution_count": 56,
   "metadata": {
    "collapsed": false
   },
   "outputs": [
    {
     "data": {
      "text/plain": [
       "[(1, 6), (2, 7), (3, 8), (4, 9)]"
      ]
     },
     "execution_count": 56,
     "metadata": {},
     "output_type": "execute_result"
    }
   ],
   "source": [
    "a = [1,2,3,4]\n",
    "b = [6,7,8,9]\n",
    "c = zip(a,b)\n",
    "list(c)"
   ]
  },
  {
   "cell_type": "code",
   "execution_count": null,
   "metadata": {
    "collapsed": true
   },
   "outputs": [],
   "source": []
  }
 ],
 "metadata": {
  "kernelspec": {
   "display_name": "Python 3",
   "language": "python",
   "name": "python3"
  },
  "language_info": {
   "codemirror_mode": {
    "name": "ipython",
    "version": 3
   },
   "file_extension": ".py",
   "mimetype": "text/x-python",
   "name": "python",
   "nbconvert_exporter": "python",
   "pygments_lexer": "ipython3",
   "version": "3.5.2"
  }
 },
 "nbformat": 4,
 "nbformat_minor": 2
}
