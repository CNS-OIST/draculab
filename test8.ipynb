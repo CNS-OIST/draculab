{
 "cells": [
  {
   "cell_type": "code",
   "execution_count": 1,
   "metadata": {
    "collapsed": true
   },
   "outputs": [],
   "source": [
    "# This notebook is used to test the Draculab's topology class \n",
    "# By Sergio Verduzco Flores                August 2017\n",
    "\n",
    "from sirasi import *\n",
    "from matplotlib import pyplot as plt\n",
    "import pylab\n",
    "import time\n",
    "import re"
   ]
  },
  {
   "cell_type": "code",
   "execution_count": 2,
   "metadata": {
    "collapsed": false
   },
   "outputs": [
    {
     "data": {
      "image/png": "[encoded data removed]",
      "text/plain": [
       "<matplotlib.figure.Figure at 0x7f25a8ff3898>"
      ]
     },
     "metadata": {},
     "output_type": "display_data"
    }
   ],
   "source": [
    "\"\"\" This cell is meant to test the create_group method with the 'sheet' shape and 'grid' arrangement \"\"\"\n",
    "topo = topology()\n",
    "\n",
    "# Create network\n",
    "net_params = {'min_delay' : 0.2, 'min_buff_size' : 4 } # parameter dictionary for the network\n",
    "net = network(net_params)\n",
    "\n",
    "# Create group of units\n",
    "unit_pars = { 'init_val' : 0.5, 'function' : lambda x:None, 'type' : unit_types.source } \n",
    "geom = { 'shape':'sheet', 'extent':[10.,10.], 'center':[0.,1.], 'arrangement':'grid', \n",
    "         'rows':20, 'columns':24 }\n",
    "ids = topo.create_group(net, geom, unit_pars)\n",
    "xvals = [ u.coordinates[0] for u in net.units ]\n",
    "yvals = [ u.coordinates[1] for u in net.units ]\n",
    "\n",
    "figg = plt.figure(figsize=(10,5))\n",
    "pylab.plot(xvals, yvals, 'b.')\n",
    "plt.show()"
   ]
  },
  {
   "cell_type": "code",
   "execution_count": 3,
   "metadata": {
    "collapsed": false,
    "scrolled": false
   },
   "outputs": [
    {
     "data": {
      "image/png": "[encoded data removed]",
      "text/plain": [
       "<matplotlib.figure.Figure at 0x7f2569f7bbe0>"
      ]
     },
     "metadata": {},
     "output_type": "display_data"
    }
   ],
   "source": [
    "\"\"\" This cell tessts the topo_connect method continuing with the network in the previous cell. \"\"\"\n",
    "\n",
    "# create the spec dictionaries\n",
    "conn_spec = {'connection_type' : 'divergent',\n",
    "             'mask' : {\"annular\" : {\"inner_radius\": 2., 'outer_radius':5.}},\n",
    "             'kernel' : {'gaussian':{'p_center':1., 'sigma':3.}},\n",
    "             'delays' : {'linear' : {'c':0.1, 'a':0.1}},\n",
    "             'weights' : {'linear' : {'c':5., 'a':1.}}\n",
    "            }\n",
    "syn_spec = {'type' : synapse_types.static, 'init_w' : 0.3 }\n",
    "\n",
    "# connect\n",
    "topo.topo_connect(net, ids, ids, conn_spec, syn_spec)\n",
    "\n",
    "# visualizing the connections of a given unit\n",
    "u = ids[50]\n",
    "all_syns = []\n",
    "for syn_list in net.syns:\n",
    "    all_syns += syn_list\n",
    "targets = [syn.postID for syn in all_syns if syn.preID == u]\n",
    "coords = [ unit.coordinates for unit in [net.units[idx] for idx in targets] ]\n",
    "xcoords = [c[0] for c in coords]\n",
    "ycoords = [c[1] for c in coords]\n",
    "\n",
    "fig2 = plt.figure(figsize=(10,10))\n",
    "pylab.plot(xvals, yvals, 'b.')\n",
    "pylab.plot(xcoords, ycoords, 'ro', net.units[u].coordinates[0], net.units[u].coordinates[1], 'ko')\n",
    "plt.show()\n"
   ]
  },
  {
   "cell_type": "code",
   "execution_count": null,
   "metadata": {
    "collapsed": false
   },
   "outputs": [],
   "source": []
  },
  {
   "cell_type": "code",
   "execution_count": null,
   "metadata": {
    "collapsed": true
   },
   "outputs": [],
   "source": []
  }
 ],
 "metadata": {
  "kernelspec": {
   "display_name": "Python 3",
   "language": "python",
   "name": "python3"
  },
  "language_info": {
   "codemirror_mode": {
    "name": "ipython",
    "version": 3
   },
   "file_extension": ".py",
   "mimetype": "text/x-python",
   "name": "python",
   "nbconvert_exporter": "python",
   "pygments_lexer": "ipython3",
   "version": "3.5.2"
  }
 },
 "nbformat": 4,
 "nbformat_minor": 2
}
