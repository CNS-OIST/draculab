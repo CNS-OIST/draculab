{
 "cells": [
  {
   "cell_type": "code",
   "execution_count": 1,
   "metadata": {
    "collapsed": true
   },
   "outputs": [],
   "source": [
    "# This notebook is used to test the Draculab's topology class \n",
    "# By Sergio Verduzco Flores                August 2017\n",
    "\n",
    "from sirasi import *\n",
    "from matplotlib import pyplot as plt\n",
    "import pylab\n",
    "import time\n",
    "import re"
   ]
  },
  {
   "cell_type": "code",
   "execution_count": 2,
   "metadata": {
    "collapsed": false
   },
   "outputs": [
    {
     "data": {
      "image/png": "[encoded data removed]",
      "text/plain": [
       "<matplotlib.figure.Figure at 0x7f090e014198>"
      ]
     },
     "metadata": {},
     "output_type": "display_data"
    }
   ],
   "source": [
    "\"\"\" This cell is meant to test the create_group method with the 'sheet' shape and 'grid' arrangement \"\"\"\n",
    "topo = topology()\n",
    "\n",
    "# Create network\n",
    "net_params = {'min_delay' : 0.2, 'min_buff_size' : 4 } # parameter dictionary for the network\n",
    "netz = network(net_params)\n",
    "\n",
    "# Create group of units\n",
    "unit_pars = { 'init_val' : 0.5, 'function' : lambda x:None, 'type' : unit_types.source } \n",
    "geom = { 'shape':'sheet', 'extent':[10.,10.], 'center':[0.,1.], 'arrangement':'grid', \n",
    "         'rows':10, 'columns':24 }\n",
    "ids = topo.create_group(netz, geom, unit_pars)\n",
    "xvals = [ u.coordinates[0] for u in netz.units ]\n",
    "yvals = [ u.coordinates[1] for u in netz.units ]\n",
    "\n",
    "figg = plt.figure(figsize=(10,5))\n",
    "pylab.plot(xvals, yvals, 'b.')\n",
    "plt.show()"
   ]
  },
  {
   "cell_type": "code",
   "execution_count": 3,
   "metadata": {
    "collapsed": false
   },
   "outputs": [
    {
     "name": "stdout",
     "output_type": "stream",
     "text": [
      "len delays = 3992.000000\n",
      "len conns = 3992.000000\n",
      "len dists = 3992.000000\n"
     ]
    }
   ],
   "source": [
    "\"\"\" This cell tessts the topo_connect method continuing with the network in the previous cell. \"\"\"\n",
    "\n",
    "# create the spec dictionaries\n",
    "conn_spec = {'connection_type' : 'divergent',\n",
    "             'mask' : {\"circular\" : {\"radius\": 3.}},\n",
    "             'kernel' : 0.5,\n",
    "             'delays' : {'linear' : {'c':0.1, 'a':0.1}},\n",
    "             'weights' : {'linear' : {'c':5., 'a':1.}}\n",
    "            }\n",
    "syn_spec = {'type' : synapse_types.static, 'init_w' : 0.3 }\n",
    "\n",
    "# connect\n",
    "topo.topo_connect(netz, ids, ids, conn_spec, syn_spec)"
   ]
  },
  {
   "cell_type": "code",
   "execution_count": 4,
   "metadata": {
    "collapsed": false
   },
   "outputs": [
    {
     "name": "stdout",
     "output_type": "stream",
     "text": [
      "dely = 0.100000\n"
     ]
    }
   ],
   "source": [
    "print('dely = %f' % 0.1)"
   ]
  },
  {
   "cell_type": "code",
   "execution_count": null,
   "metadata": {
    "collapsed": true
   },
   "outputs": [],
   "source": []
  }
 ],
 "metadata": {
  "kernelspec": {
   "display_name": "Python 3",
   "language": "python",
   "name": "python3"
  },
  "language_info": {
   "codemirror_mode": {
    "name": "ipython",
    "version": 3
   },
   "file_extension": ".py",
   "mimetype": "text/x-python",
   "name": "python",
   "nbconvert_exporter": "python",
   "pygments_lexer": "ipython3",
   "version": "3.5.2"
  }
 },
 "nbformat": 4,
 "nbformat_minor": 2
}
