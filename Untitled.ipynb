{
 "cells": [
  {
   "cell_type": "code",
   "execution_count": 2,
   "metadata": {
    "collapsed": true
   },
   "outputs": [],
   "source": [
    "import numpy as np\n",
    "import matplotlib \n",
    "import time\n",
    "from matplotlib import pyplot as plt"
   ]
  },
  {
   "cell_type": "code",
   "execution_count": 10,
   "metadata": {
    "collapsed": false
   },
   "outputs": [
    {
     "name": "stdout",
     "output_type": "stream",
     "text": [
      "[[0 1 0]\n",
      " [1 0 1]]\n",
      "[[1 0 1]\n",
      " [0 1 0]\n",
      " [1 0 1]]\n",
      "(array([ 2.,  0.,  1.]), matrix([[ 0.70710678, -0.70710678,  0.        ],\n",
      "        [ 0.        ,  0.        ,  1.        ],\n",
      "        [ 0.70710678,  0.70710678,  0.        ]]))\n",
      "[[ 0.70710678 -0.70710678  0.        ]\n",
      " [ 0.          0.          1.        ]\n",
      " [ 0.70710678  0.70710678  0.        ]]\n"
     ]
    },
    {
     "data": {
      "text/plain": [
       "matrix([[ 0.70710678],\n",
       "        [ 0.        ],\n",
       "        [ 0.70710678]])"
      ]
     },
     "execution_count": 10,
     "metadata": {},
     "output_type": "execute_result"
    }
   ],
   "source": [
    "pats = np.array([[0, 1, 0],[1, 0, 1]])\n",
    "pats_mat = np.matrix(pats)\n",
    "print(pats_mat)\n",
    "corr_mat = (pats_mat.T)*pats_mat\n",
    "print(corr_mat)\n",
    "eigs = np.linalg.eig(corr_mat)\n",
    "print(eigs)\n",
    "evals = eigs[0] # eigenvalues\n",
    "evecs = eigs[1] # eigenvectors\n",
    "print(evecs)\n",
    "# plotting all eigenvectors in 3x3 format\n",
    "'''\n",
    "fig3 = plt.figure(figsize=(10,10))\n",
    "ev_grid = ImageGrid(fig3, 111, nrows_ncols=(3,3), axes_pad=0.05)\n",
    "for idx,vec in enumerate(evecs):\n",
    "    vec.shape = 3,3\n",
    "    ev_grid[idx].imshow(vec)\n",
    "'''\n",
    "evecs[:,0]"
   ]
  },
  {
   "cell_type": "code",
   "execution_count": null,
   "metadata": {
    "collapsed": true
   },
   "outputs": [],
   "source": []
  }
 ],
 "metadata": {
  "kernelspec": {
   "display_name": "Python 3",
   "language": "python",
   "name": "python3"
  },
  "language_info": {
   "codemirror_mode": {
    "name": "ipython",
    "version": 3
   },
   "file_extension": ".py",
   "mimetype": "text/x-python",
   "name": "python",
   "nbconvert_exporter": "python",
   "pygments_lexer": "ipython3",
   "version": "3.5.2"
  }
 },
 "nbformat": 4,
 "nbformat_minor": 2
}
