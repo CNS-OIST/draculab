{
 "cells": [
  {
   "cell_type": "markdown",
   "metadata": {},
   "source": [
    "Searching for ways to break the uniformity in E-I networks (all-or-none behaviour) I came up with this idea:\n",
    "\n",
    "Let $u$ denote a stimulation level in a neural field. Not the stimulation level at any particular location, just a stimulation level.  \n",
    "If the network has heterogeneous activation then you would expect that there would be a distribution of stimulation levels $\\rho(u)$ that is not concentrated at a single value.  \n",
    "The idea is to use steady-state weights $\\omega$ that are a function of the activation levels, as in the steady-state when using a correlational learning rule.  \n",
    "A self-consistency equation is:\n",
    "\n",
    "$u = \\int_\\Re \\omega(f(u), f(u')) \\rho(u') du'$,\n",
    "\n",
    "where $f = (1 + \\text{e}^{-x})^{-1}$. For example, if you wanted a distribution of stimulations that was constant in the interval $[a, b]$ then you could use \n",
    "\n",
    "$u = \\frac{1}{b-a} \\int_{[a,b]} \\omega(f(u), f(u')) du'$.\n",
    "\n",
    "The solution to this self-consistency equation is not unique. A simple approach is to have $\\omega(x,y) = f^{-1}(x) g(f^{-1}(y))$, where $\\int_a^b g(u)du = 1$. For example, we can have $g(u) = 2u/(b^2-a^2)$.  \n",
    "Considering that $f^{-1}(x) = - \\text{log}\\left(\\frac{1-x}{x}\\right)$, then for the simple case when we want our stimulations evenly distributed in the [0,1] interval, we would have the stationary weights:  \n",
    "$\\omega_s(x,y) = 2 \\ \\text{log}\\left(\\frac{1-x}{x} \\right) \\text{log}\\left(\\frac{1-y}{y} \\right) $.\n",
    "\n",
    "A learning rule to produce such stationary weight distribution could be:  \n",
    "$\\frac{d\\omega}{dt} = \\alpha \\ (\\omega_s - \\omega) = \\alpha \\ \\left( 2 \\ \\text{log}\\left(\\frac{1-x}{x} \\right) \\text{log}\\left(\\frac{1-y}{y} \\right) - \\omega \\right)$,  \n",
    "where $x$ and $y$ are presynaptic and postsynaptic activity respectively, although this rule is symmetric regarding pre and post switches.\n",
    "\n",
    "The rule could be summarized as follows: changes are positive for similar activities, negative for different activities. Changes increase as activities move away from the point $(0.5, 0.5)$.\n",
    "It is somewhat reminiscent of the correlation rule."
   ]
  },
  {
   "cell_type": "code",
   "execution_count": 1,
   "metadata": {
    "collapsed": true
   },
   "outputs": [],
   "source": [
    "from mpl_toolkits.mplot3d import Axes3D\n",
    "import matplotlib.pyplot as plt\n",
    "from matplotlib.animation import FuncAnimation\n",
    "from matplotlib import cm\n",
    "import numpy as np\n",
    "import time\n",
    "from draculab import *"
   ]
  },
  {
   "cell_type": "code",
   "execution_count": null,
   "metadata": {
    "collapsed": true
   },
   "outputs": [],
   "source": [
    "%%capture capt \n",
    "# logging draculab version used for this session\n",
    "print('======================================================')\n",
    "print('| Latest git commit: |')\n",
    "print('======================================================')\n",
    "!git log -1 --oneline --color=never"
   ]
  },
  {
   "cell_type": "code",
   "execution_count": null,
   "metadata": {
    "collapsed": true
   },
   "outputs": [],
   "source": [
    "# Write the output of the cell above in the simulation log\n",
    "with open('rate_density_simlog.txt', 'a') as f:\n",
    "    f.write(capt.stdout)\n",
    "    f.close()"
   ]
  },
  {
   "cell_type": "raw",
   "metadata": {},
   "source": [
    "f = lambda x: - np.log( (1.-x)/x )\n",
    "x = np.linspace(0.001, 0.999, 200)\n",
    "plt.plot(x, f(x))\n",
    "y = np.linspace(0.001, 0.999, 200)\n",
    "x,y = np.meshgrid(x,y)\n",
    "z = 2.*f(x)*np.exp(y)\n",
    "plt.show()"
   ]
  },
  {
   "cell_type": "raw",
   "metadata": {},
   "source": [
    " %matplotlib qt5\n",
    "fig = plt.figure(figsize=(20,20))\n",
    "ax = fig.gca(projection='3d')\n",
    "surf = ax.plot_surface(x, y, z, cmap=cm.coolwarm,\n",
    "                       linewidth=0, antialiased=False)\n",
    "plt.show()"
   ]
  },
  {
   "cell_type": "code",
   "execution_count": 2,
   "metadata": {
    "collapsed": false
   },
   "outputs": [],
   "source": [
    "class exp_distro():\n",
    "    def __init__(self):\n",
    "        # The history list will store strings containing the instructions doing parameter changes, \n",
    "        # building the network, or running a simulation.\n",
    "        self.history = [\"__init__ at \" + time.ctime()]\n",
    "        \"\"\" All the default parameter dictionaries are below. \n",
    "            Time units are seconds for compatibility with the pendulum model.\n",
    "            Length units for geometry dictionaries are centimeters.\n",
    "            Axonal conduction speed is ~1 m/s, synaptic delay about 1 ms, but 5 ms for the population response.\n",
    "        \"\"\"\n",
    "        # parameter dictionary for the network\n",
    "        self.net_params = {'min_delay' : 0.005, # notice delays below are set using this value\n",
    "                           'min_buff_size' : 10,\n",
    "                           'rtol' : 1e-5,\n",
    "                           'atol' : 1e-5 } \n",
    "        # parameter dictionaries for the units\n",
    "        self.geom = {'shape':'sheet', \n",
    "                     'extent':[1.,1.], # 1 square centimeter grid\n",
    "                     'center':[0.,0.], \n",
    "                     'arrangement':'grid', \n",
    "                     'rows':25, \n",
    "                     'columns':25,  # 625 units\n",
    "                     'jitter' : 0.02 }\n",
    "        self.unit_pars = {'init_val' : np.random.rand(self.geom['rows']*self.geom['columns']), \n",
    "                          'slope' : 1.,\n",
    "                          'thresh' : 0.,\n",
    "                          'tau' : 0.02,  # 20 ms time constant\n",
    "                          'tau_fast' : 0.04, # 40 ms for fast low-pass filter\n",
    "                          'tau_mid' : .1, # 100 ms for medium low-pass filter\n",
    "                          'type' : unit_types.sigmoidal }\n",
    "        # parameter dictionary for the inputs\n",
    "        self.n_units = {'inp' : 1} # number of input units\n",
    "        self.inp_pars = {'type' : unit_types.source,\n",
    "                         'init_val' : 0.,\n",
    "                         'tau_fast' : 0.04,\n",
    "                         'coordinates' : np.array([0.,0.]), # for plotting purposes\n",
    "                         'function' : lambda x: None }\n",
    "        # connections among units\n",
    "        self.conn = {'connection_type' : 'divergent',\n",
    "            'mask' : {'circular': {'radius': 10.}}, # contains all the unit grid for all-to-all connectivity\n",
    "            'kernel' : 1.,\n",
    "            'delays' : {'linear' : {'c' : self.net_params['min_delay'], 'a' : 10.}},\n",
    "            'weights' :{'uniform' : {'low': -0.5, 'high' : 0.5}},\n",
    "            'allow_autapses' : True,\n",
    "            'allow_multapses' : False,\n",
    "            'edge_wrap' : False,\n",
    "            'boundary' : {'center': np.array(self.geom['center']), 'extent' : self.geom['extent']} }\n",
    "        self.syn = {'type' : synapse_types.exp_rate_dist,\n",
    "                    'lrate' : 0.05,\n",
    "                    'c' : 1. }\n",
    "        # Input connections\n",
    "        self.i2u_conn = {'rule' : 'all_to_all',\n",
    "                 'delay' : self.net_params['min_delay'] }\n",
    "        self.i2u_syn = {'type' : synapse_types.static,\n",
    "                'lrate' : 0.05,\n",
    "                'init_w' : {'distribution' : 'equal_norm', 'norm' : 1.} }\n",
    "        \n",
    "    def build(self):\n",
    "        \"\"\" Create the draculab network. \"\"\"\n",
    "        # store record of network being built\n",
    "        self.history.append('build()')\n",
    "        # Set derived parameters\n",
    "        self.conn['delays'] = {'linear' : {'c' : self.net_params['min_delay'], 'a' : 0.1}}\n",
    "        self.conn['boundary'] = {'center': np.array(self.geom['center']), 'extent' : self.geom['extent']}\n",
    "        self.unit_pars['init_val'] = np.random.rand(self.geom['rows']*self.geom['columns'])\n",
    "        # Create an auxiliary topology object\n",
    "        topo = topology()\n",
    "        # Create network\n",
    "        self.net = network(self.net_params)\n",
    "        # Create unit population\n",
    "        self.units = topo.create_group(self.net, self.geom, self.unit_pars)\n",
    "        # Create input units\n",
    "        self.inp = self.net.create(self.n_units['inp'], self.inp_pars)\n",
    "        # Create connections\n",
    "        topo.topo_connect(self.net, self.units, self.units, self.conn, self.syn)\n",
    "        \n",
    "    def set_param(self, dictionary, entry, value):\n",
    "        \"\"\" Change a value in a parameter dictionary. \n",
    "        \n",
    "            dictionary: a string with the name of one of the parameter dictionaries in __init__\n",
    "            entry: a string with the name of the entry we'll modify\n",
    "            value: the value we'll assign (can be any appropriate Python object) \n",
    "        \"\"\"\n",
    "        if 'build()' in self.history:\n",
    "            raise AssertionError('Setting a parameter value after network has been built')     \n",
    "        self.__getattribute__(dictionary)[entry] = value  # set the new value\n",
    "        self.history.append(dictionary + '[\\'' + entry + '\\'] = ' + str(value) ) # record assignment\n",
    "            \n",
    "    def make_sin_pulse(self, t_init, t_end, per, amp): \n",
    "        \"\"\" This function returns a function implementing a localized sinusoidal bump(s). \"\"\"\n",
    "        return lambda t : amp * ( np.sqrt( 0.5 * (1. + \n",
    "                      np.sin( np.pi*( 2.*(t - t_init)/per - 0.5 ) ) ) ) ) if (t_init < t and t < min(per,t_end)) else 0.\n",
    "    \n",
    "    def input_vector(self):\n",
    "        \"\"\"This function returns an input vector. Different distributions can be implemented with this. \"\"\"\n",
    "        # random vectors with unit norm\n",
    "        vec = np.random.uniform(0., 1., self.n_units['inp'])\n",
    "        return  vec / np.linalg.norm(vec)\n",
    "        \n",
    "    def run(self, n_pres, inp_time, inp_amp, pres_time, alpha=0.):\n",
    "        \"\"\" Run a simulation, presenting n_pres patterns, each lasting pres_time, \n",
    "            with inputs of amplitude inp_amp and lasting inp_time at the beginning of each presentation.\n",
    "            \n",
    "            The argument alpha determines how fast the input amplitudes drift.\n",
    "            \n",
    "            Updates:\n",
    "                self.all_times: 1-D numpy array with the times for each data point in all_activs.\n",
    "                self.all_activs: 2-D numpy array with the activity of all units at each point in all_times. \n",
    "        \"\"\"\n",
    "        # store a record of this simulation\n",
    "        self.history.append('run(%d, %f, %f, %f, %f)' % (n_pres, inp_time, inp_amp, pres_time, alpha)) \n",
    "        # initialize storage of results\n",
    "        self.all_times = []\n",
    "        self.all_activs = []\n",
    "        start_time = time.time()\n",
    "        inp_vel = np.zeros(self.n_units['inp']) # initial velocity for the input drift\n",
    "        inp_vec = inp_amp*self.input_vector() # initial amplitudes of the inputs\n",
    "        # present input patterns\n",
    "        for pres in range(n_pres):\n",
    "            print('Simulating presentation ' + str(pres), end='\\r')\n",
    "            pres_start = time.time()\n",
    "            t = self.net.sim_time\n",
    "            inp_accel = inp_amp*self.input_vector() # having an acceleration confers \"momentum\" to the input drift\n",
    "            inp_vel = (1.-alpha)*inp_vel + alpha*inp_accel \n",
    "            inp_vec = (1.-alpha)*inp_vec + alpha*inp_vel\n",
    "            for i in self.inp:\n",
    "                self.net.units[i].set_function(self.make_sin_pulse(t, t+pres_time, inp_time, inp_vec[i-self.inp[0]]))\n",
    "        \n",
    "            times, activs, plants = self.net.run(pres_time)\n",
    "            self.all_times.append(times)\n",
    "            self.all_activs.append(activs)\n",
    "            print('Presentation %s lasted %s seconds.' % (pres, time.time() - pres_start), end='\\n')\n",
    "\n",
    "        self.all_times = np.concatenate(self.all_times)\n",
    "        self.all_activs = np.concatenate(self.all_activs, axis=1)\n",
    "        print('Execution time is %s seconds' % (time.time() - start_time)) \n",
    "        return self # see rant on multiprocessing    \n",
    "    \n",
    "    def basic_plot(self):\n",
    "        #%matplotlib inline\n",
    "        inp_fig = plt.figure(figsize=(10,5))\n",
    "        inputs = np.transpose([self.all_activs[i] for i in self.inp])\n",
    "        plt.plot(self.all_times, inputs, linewidth=1, figure=inp_fig)\n",
    "        plt.title('Inputs')\n",
    "\n",
    "        unit_fig = plt.figure(figsize=(10,5))\n",
    "        some_acts = np.transpose(self.all_activs[[self.units[i] for i in [0,1,-1,-2]]])\n",
    "        plt.plot(self.all_times, some_acts, figure=unit_fig)\n",
    "        plt.title('Some unit activities')\n",
    "\n",
    "        plt.show()\n",
    "    \n",
    "    def conn_anim(self, source, sink, interv=100, slider=False, weights=False):\n",
    "        \"\"\" An animation to visualize the connectivity of populations. \n",
    "    \n",
    "            source and sink are lists with the IDs of the units whose connections we'll\n",
    "            visualize. Each frame of the animation shows: for a particular unit in source,\n",
    "            all the neurons in sink that receive connections from it (left plot), and for \n",
    "            a particular unit in sink, all the units in source that send it connections\n",
    "            (right plot).\n",
    "        \n",
    "            interv is the refresh interval (in ms) used by FuncAnimation.\n",
    "            \n",
    "            If weights=True, then the dots size and color will reflect the connection weight.\n",
    "        \n",
    "            It is assumed that this import statement has happened:\n",
    "            from matplotlib.animation import FuncAnimation\n",
    "        \"\"\"\n",
    "        %matplotlib qt5\n",
    "        # notebook or qt5 \n",
    "        \n",
    "        # update_conn_anim uses these values\n",
    "        self.len_source = len(source)\n",
    "        self.len_sink = len(sink)\n",
    "        self.source_0 = source[0]\n",
    "        self.sink_0 = sink[0]\n",
    "\n",
    "        # flattening net.syns, leaving only the source-sink connections \n",
    "        self.all_syns = []\n",
    "        for syn_list in [self.net.syns[i] for i in sink]:\n",
    "            syn_list = [s for s in syn_list if s.preID in source]\n",
    "            self.all_syns += syn_list\n",
    "    \n",
    "        # getting lists with the coordinates of all source, sink units\n",
    "        source_coords = [u.coordinates for u in [self.net.units[i] for i in source]]\n",
    "        sink_coords = [u.coordinates for u in [self.net.units[i] for i in sink]]\n",
    "        source_x = [c[0] for c in source_coords]\n",
    "        source_y = [c[1] for c in source_coords]\n",
    "        sink_x = [c[0] for c in sink_coords]\n",
    "        sink_y = [c[1] for c in sink_coords]\n",
    "\n",
    "        # setting colors\n",
    "        self.std_src = [0., 0.5, 0., 0.5]\n",
    "        self.std_snk = [0.5, 0., 0., 0.5]\n",
    "        self.big_src = [0., 0., 1., 1.]\n",
    "        self.big_snk = [0., 0., 1., 1.]\n",
    "\n",
    "        # constructing figure, axes, path collections\n",
    "        self.conn_fig = plt.figure(figsize=(12,7))\n",
    "        self.ax1 = self.conn_fig.add_axes([0.0, 0.01, .49, 0.95], frameon=True, aspect=1)\n",
    "        self.ax2 = self.conn_fig.add_axes([0.51, 0.01, .49, 0.95], frameon=True, aspect=1)\n",
    "        self.src_col1 = self.ax1.scatter(source_x, source_y, s=2, c=self.std_src)\n",
    "        self.snk_col1 = self.ax1.scatter(sink_x, sink_y, s=2, c=self.std_snk)\n",
    "        self.src_col2 = self.ax2.scatter(source_x, source_y, s=2, c=self.std_src)\n",
    "        self.snk_col2 = self.ax2.scatter(sink_x, sink_y, s=2, c=self.std_snk)\n",
    "        self.ax1.set_title('sent connections')\n",
    "        self.ax2.set_title('received connections')\n",
    "        self.ax2.set_yticks([])\n",
    "        \n",
    "        if weights:\n",
    "            update_fun = self.update_weight_anim\n",
    "            # extract the weight matrix\n",
    "            self.w_mat = np.zeros((len(sink), len(source)))\n",
    "            for syn in self.all_syns:\n",
    "                self.w_mat[syn.postID - sink[0], syn.preID - source[0]] = abs(syn.w)\n",
    "                self.w_mat /= np.amax(self.w_mat) # normalizing (maximum is 1)\n",
    "                self.cmap = plt.get_cmap('Reds') # getting colormap\n",
    "        else:\n",
    "            update_fun = self.update_conn_anim\n",
    "            \n",
    "        if not slider:\n",
    "            animation = FuncAnimation(self.conn_fig, update_fun, interval=interv, blit=True)\n",
    "            return animation\n",
    "        else:\n",
    "            from ipywidgets import interact\n",
    "            widget = interact(update_fun, frame=(1, max(self.len_source, self.len_sink)))\n",
    "            return widget\n",
    "    \n",
    "    def update_conn_anim(self, frame): \n",
    "        sou_u = frame%self.len_source # source unit whose receivers we'll visualize\n",
    "        snk_u = frame%self.len_sink # sink unit whose senders we'll visualize\n",
    "    \n",
    "        # PLOTTING THE RECEIVERS OF sou_u ON THE LEFT AXIS\n",
    "        source_sizes = np.tile(2, self.len_source)\n",
    "        sink_sizes = np.tile(2, self.len_sink)\n",
    "        source_colors = np.tile(self.std_src,(self.len_source,1))\n",
    "        sink_colors = np.tile(self.std_snk, (self.len_sink,1))\n",
    "        source_sizes[sou_u] = 30\n",
    "        source_colors[sou_u] = self.big_src\n",
    "        # getting targets of projections from the unit 'sou_u'\n",
    "        targets = [syn.postID - self.sink_0 for syn in self.all_syns if syn.preID == sou_u + self.source_0]\n",
    "        # setting the colors and sizes\n",
    "        sink_colors[targets] = self.big_snk\n",
    "        sink_sizes[targets] = 15\n",
    "        self.src_col1.set_sizes(source_sizes)\n",
    "        #ax1.get_children()[0].set_sizes(source_sizes)   # sizes for the source units\n",
    "        self.snk_col1.set_sizes(sink_sizes)   \n",
    "        self.src_col1.set_color(source_colors)\n",
    "        self.snk_col1.set_color(sink_colors)\n",
    "        \n",
    "        # PLOTTING THE SENDERS TO snk_u ON THE RIGHT AXIS\n",
    "        source_sizes = np.tile(2, self.len_source)\n",
    "        sink_sizes = np.tile(2, self.len_sink)\n",
    "        source_colors = np.tile(self.std_src, (self.len_source,1))\n",
    "        sink_colors = np.tile(self.std_snk, (self.len_sink,1))\n",
    "        sink_sizes[snk_u] = 30\n",
    "        sink_colors[snk_u] = self.big_snk\n",
    "        # getting senders of projections to the unit 'snk_u'\n",
    "        senders = [syn.preID - self.source_0 for syn in self.all_syns if syn.postID == snk_u + self.sink_0]\n",
    "        # setting the colors and sizes\n",
    "        source_colors[senders] = self.big_src\n",
    "        source_sizes[senders] = 15\n",
    "        self.src_col2.set_sizes(source_sizes)\n",
    "        self.snk_col2.set_sizes(sink_sizes)   \n",
    "        self.src_col2.set_color(source_colors)\n",
    "        self.snk_col2.set_color(sink_colors)\n",
    "    \n",
    "        return self.ax1, self.ax2,\n",
    "    \n",
    "    def update_weight_anim(self, frame): \n",
    "        sou_u = frame%self.len_source # source unit whose receivers we'll visualize\n",
    "        snk_u = frame%self.len_sink # sink unit whose senders we'll visualize\n",
    "            \n",
    "        # PLOTTING THE RECEIVERS OF sou_u ON THE LEFT AXIS\n",
    "        source_sizes = np.tile(2, self.len_source)\n",
    "        sink_sizes =  2. + 400.*self.w_mat[:,sou_u]\n",
    "        source_colors = np.tile(self.std_src,(self.len_source,1))\n",
    "        sink_colors =  self.cmap.__call__(self.w_mat[:,sou_u])\n",
    "        source_sizes[sou_u] = 30\n",
    "        source_colors[sou_u] = self.big_src\n",
    "        self.src_col1.set_sizes(source_sizes)\n",
    "        self.snk_col1.set_sizes(sink_sizes)   \n",
    "        self.snk_col1.set_color(sink_colors)\n",
    "        self.src_col1.set_color(source_colors)\n",
    "        \n",
    "        # PLOTTING THE SENDERS TO snk_u ON THE RIGHT AXIS\n",
    "        source_sizes = 2. + 400.*self.w_mat[snk_u,:]\n",
    "        sink_sizes = np.tile(2, self.len_sink)\n",
    "        source_colors = self.cmap.__call__(self.w_mat[snk_u,:])\n",
    "        sink_colors = np.tile(self.std_snk, (self.len_sink,1))\n",
    "        sink_sizes[snk_u] = 30\n",
    "        sink_colors[snk_u] = self.big_snk\n",
    "        self.src_col2.set_sizes(source_sizes)\n",
    "        self.snk_col2.set_sizes(sink_sizes)   \n",
    "        self.src_col2.set_color(source_colors)\n",
    "        self.snk_col2.set_color(sink_colors)\n",
    "    \n",
    "        return self.ax1, self.ax2,\n",
    "    \n",
    "    def annotate(self, string, make_history=True):\n",
    "        \"\"\" Append a string to self.notes and self.history. \"\"\"\n",
    "        self.notes += string + '\\n'\n",
    "        if make_history:\n",
    "            self.history.append(string)\n",
    "            \n",
    "    def log(self, name=\"rate_density_simlog.txt\"):\n",
    "        with open(name, 'a') as f:\n",
    "            f.write('~~~~~~~~~~~~~~~~~~~~~~~~~~~~~~~~~~~~~~~\\n')\n",
    "            f.write('---------Logging exp_distro object---------\\n')\n",
    "            f.write('HISTORY \\n')\n",
    "            for entry in self.history:\n",
    "                f.write(entry + '\\n')\n",
    "            f.write('NOTES \\n')\n",
    "            f.write(self.notes)\n",
    "            f.write('\\n')\n",
    "            f.close()\n",
    "        \n",
    "    def save(self, name=\"rate_density_pickled.pkl\"):\n",
    "        \"\"\" Saving simulation results. \n",
    "            A draculab network contains lists with functions, so it is not picklable. \n",
    "            But it can be serialized with dill: https://github.com/uqfoundation/dill \n",
    "            \n",
    "            After saving, retrieve object using, for example:\n",
    "            F = open(\"kWTA_ei_pickled.pkl\", 'rb')\n",
    "            ei = dill.load(F)\n",
    "            F.close()\n",
    "        \"\"\"\n",
    "        self.history.append('exp_distro object being saved as ' + name)\n",
    "        F = open(name, 'wb')\n",
    "        dill.dump(self, F)\n",
    "        F.close()"
   ]
  },
  {
   "cell_type": "code",
   "execution_count": 3,
   "metadata": {
    "collapsed": false,
    "scrolled": false
   },
   "outputs": [],
   "source": [
    "dist_runner = exp_distro()\n",
    "dist_runner.set_param('geom', 'rows', 20)\n",
    "dist_runner.set_param('geom', 'columns', 20)\n",
    "dist_runner.build()"
   ]
  },
  {
   "cell_type": "code",
   "execution_count": 4,
   "metadata": {
    "collapsed": false,
    "scrolled": false
   },
   "outputs": [
    {
     "name": "stdout",
     "output_type": "stream",
     "text": [
      "Presentation 0 lasted 6578.726117134094 seconds.\n",
      "Execution time is 6578.727016210556 seconds\n"
     ]
    },
    {
     "data": {
      "text/plain": [
       "<__main__.exp_distro at 0x7f75054de748>"
      ]
     },
     "execution_count": 4,
     "metadata": {},
     "output_type": "execute_result"
    }
   ],
   "source": [
    "n_pres = 1\n",
    "inp_time = .1\n",
    "inp_amp = 0.\n",
    "pres_time = 0.5\n",
    "dist_runner.run(n_pres, inp_time, inp_amp, pres_time, alpha=0.)"
   ]
  },
  {
   "cell_type": "code",
   "execution_count": null,
   "metadata": {
    "collapsed": true
   },
   "outputs": [],
   "source": [
    "dist_runner.annotate('This run tested the original (unstable) exponential distribution learning rule.', make_history=False)\n",
    "dist_runner.annotate('It takes exceedingly long to run (e.g. 6578 realtime seconds for 0.5 simualted seconds.)', make_history=False)\n",
    "dist_runner.annotate('The results are really interesting. A vertical strip of the units got all of the connections.', make_history=False)\n",
    "dist_runner.annotate('Since the connectivity is all-to-all and the learning rule uses no spatial information, I can only', make_history=False)\n",
    "dist_runner.annotate('assume that the rule selected contiguous units because they have a lower latency in their connections.', make_history=False)\n",
    "dist_runner.annotate('Nevertheless, that does not explain why there is a vertical stripe of heavily connected units.', make_history=False)\n",
    "dist_runner.annotate('Is foul play afoot?')"
   ]
  },
  {
   "cell_type": "code",
   "execution_count": 5,
   "metadata": {
    "collapsed": false
   },
   "outputs": [
    {
     "data": {
      "image/png": "[encoded data removed]",
      "text/plain": [
       "<matplotlib.figure.Figure at 0x7f75054f2f28>"
      ]
     },
     "metadata": {},
     "output_type": "display_data"
    },
    {
     "data": {
      "image/png": "[encoded data removed]",
      "text/plain": [
       "<matplotlib.figure.Figure at 0x7f750b797400>"
      ]
     },
     "metadata": {},
     "output_type": "display_data"
    }
   ],
   "source": [
    "dist_runner.basic_plot()"
   ]
  },
  {
   "cell_type": "code",
   "execution_count": 11,
   "metadata": {
    "collapsed": false
   },
   "outputs": [
    {
     "data": {
      "text/plain": [
       "<matplotlib.animation.FuncAnimation at 0x7f74ac069278>"
      ]
     },
     "execution_count": 11,
     "metadata": {},
     "output_type": "execute_result"
    }
   ],
   "source": [
    "dist_runner.conn_anim(dist_runner.units, dist_runner.units, slider=False, weights=True)"
   ]
  },
  {
   "cell_type": "code",
   "execution_count": 10,
   "metadata": {
    "collapsed": false
   },
   "outputs": [
    {
     "data": {
      "text/plain": [
       "'ald 2 alo 0.400000 alg 0.500000'"
      ]
     },
     "execution_count": 10,
     "metadata": {},
     "output_type": "execute_result"
    }
   ],
   "source": [
    "def activ_anim(self, thr, slider=False):\n",
    "    \"\"\" An animation to visualize the activity of the excitatory units. \n",
    "    \n",
    "        Units whose activity surpasses 'thr' will be highlighted.\n",
    "        It is assumed that this import statement has happened:\n",
    "        from matplotlib.animation import FuncAnimation\n",
    "    \"\"\"\n",
    "    %matplotlib qt5\n",
    "        # notebook or qt5 \n",
    "\n",
    "    self.unit_fig = plt.figure(figsize=(10,10))\n",
    "    self.ax = self.unit_fig.add_axes([0, 0, 1, 1], frameon=False)\n",
    "    self.ax.set_xlim(-1, 1), self.ax.set_xticks([])\n",
    "    self.ax.set_ylim(-1, 1), self.ax.set_yticks([])\n",
    "    xcoords = [ u.coordinates[0] for u in [self.net.units[i] for i in self.units] ]\n",
    "    ycoords = [ u.coordinates[1] for u in [self.net.units[i] for i in self.units] ]\n",
    "    self.scat = self.ax.scatter(xcoords, ycoords, s=20.*self.all_activs[self.units,0])\n",
    "    self.n_data = len(self.all_activs[0])\n",
    "    self.act_thr = thr\n",
    "        \n",
    "    if not slider:\n",
    "        animation = FuncAnimation(self.unit_fig, self.update_act_anim, \n",
    "                                interval=100, save_count=int(round(self.net.sim_time/self.net.min_delay)))    \n",
    "        return animation\n",
    "    else:\n",
    "        \n",
    "        from ipywidgets import interact\n",
    "        widget = interact(self.update_act_anim, frame=(1,self.n_data))\n",
    "        return widget\n",
    "        \n",
    "def color_fun(activ):\n",
    "    # given the units activity, maps into a color. activ may be an array.\n",
    "    activ =  np.maximum(0.1,  activ*np.maximum(np.sign(activ - 0.8), 0.))\n",
    "    return np.outer(activ, np.array([0., .5, 1., .5]))\n",
    "\n",
    "def update_act_anim(self, frame):\n",
    "    # Each frame advances one simulation step (min_delay time units)\n",
    "    idx = frame%self.n_data\n",
    "    cur_time = self.net.min_delay*idx\n",
    "    self.scat.set_sizes(300.*self.all_activs[self.units,idx])\n",
    "    self.scat.set_color(self.color_fun(self.all_activs[self.units,idx]))\n",
    "    self.unit_fig.suptitle('Time: ' + '{:f}'.format(cur_time))\n",
    "    return self.ax,"
   ]
  },
  {
   "cell_type": "code",
   "execution_count": null,
   "metadata": {
    "collapsed": true
   },
   "outputs": [],
   "source": [
    "activ_anim(dist_runner, 0.9, slider=False)"
   ]
  }
 ],
 "metadata": {
  "kernelspec": {
   "display_name": "Python 3",
   "language": "python",
   "name": "python3"
  },
  "language_info": {
   "codemirror_mode": {
    "name": "ipython",
    "version": 3
   },
   "file_extension": ".py",
   "mimetype": "text/x-python",
   "name": "python",
   "nbconvert_exporter": "python",
   "pygments_lexer": "ipython3",
   "version": "3.5.2"
  }
 },
 "nbformat": 4,
 "nbformat_minor": 2
}
