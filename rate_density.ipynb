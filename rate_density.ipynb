{
 "cells": [
  {
   "cell_type": "markdown",
   "metadata": {},
   "source": [
    "## rate_density.ipynb \n",
    "Scripts to explore learning rules that produce particular probability density functions for the distribution of firing rates in a network.  \n",
    "By Sergio Verduzco  \n",
    "November 2017"
   ]
  },
  {
   "cell_type": "markdown",
   "metadata": {},
   "source": [
    "Searching for ways to break the uniformity in E-I networks (all-or-none behaviour) I came up with this idea:\n",
    "\n",
    "Let $u$ denote a stimulation level in a neural field. Not the stimulation level at any particular location, just a stimulation level.  \n",
    "If the network has heterogeneous activation then you would expect that there would be a distribution of stimulation levels $\\rho(u)$ that is not concentrated at a single value.  \n",
    "The idea is to use steady-state weights $\\omega$ that are a function of the activation levels, as in the steady-state when using a correlational learning rule.  \n",
    "A self-consistency equation is:\n",
    "\n",
    "$u = \\int_\\Re \\omega(f(u), f(u')) \\rho(u') du'$,\n",
    "\n",
    "where $f = (1 + \\text{e}^{-x})^{-1}$. For example, if you wanted a distribution of stimulations that was constant in the interval $[a, b]$ then you could use \n",
    "\n",
    "$u = \\frac{1}{b-a} \\int_{[a,b]} \\omega(f(u), f(u')) du'$.\n",
    "\n",
    "The solution to this self-consistency equation is not unique. A simple approach is to have $\\omega(x,y) = f^{-1}(x) g(f^{-1}(y))$, where $\\int_a^b g(u)du = 1$. For example, we can have $g(u) = 2u/(b^2-a^2)$.  \n",
    "Considering that $f^{-1}(x) = - \\text{log}\\left(\\frac{1-x}{x}\\right)$, then for the simple case when we want our stimulations evenly distributed in the [0,1] interval, we would have the stationary weights:  \n",
    "$\\omega_s(x,y) = 2 \\ \\text{log}\\left(\\frac{1-x}{x} \\right) \\text{log}\\left(\\frac{1-y}{y} \\right) $.\n",
    "\n",
    "A learning rule to produce such stationary weight distribution could be:  \n",
    "$\\frac{d\\omega}{dt} = \\alpha \\ (\\omega_s - \\omega) = \\alpha \\ \\left( 2 \\ \\text{log}\\left(\\frac{1-x}{x} \\right) \\text{log}\\left(\\frac{1-y}{y} \\right) - \\omega \\right)$,  \n",
    "where $x$ and $y$ are presynaptic and postsynaptic activity respectively, although this rule is symmetric regarding pre and post switches.\n",
    "\n",
    "The rule could be summarized as follows: changes are positive for similar activities, negative for different activities. Changes increase as activities move away from the point $(0.5, 0.5)$.\n",
    "It is somewhat reminiscent of the correlation rule."
   ]
  },
  {
   "cell_type": "code",
   "execution_count": 1,
   "metadata": {
    "code_folding": []
   },
   "outputs": [],
   "source": [
    "# importing libraries\n",
    "from mpl_toolkits.mplot3d import Axes3D\n",
    "import matplotlib.pyplot as plt\n",
    "from matplotlib.animation import FuncAnimation\n",
    "from matplotlib import cm\n",
    "import numpy as np\n",
    "import time\n",
    "import dill\n",
    "from draculab import *"
   ]
  },
  {
   "cell_type": "code",
   "execution_count": null,
   "metadata": {
    "code_folding": [],
    "collapsed": true
   },
   "outputs": [],
   "source": [
    "# This is the name of the file where logging will happen\n",
    "log_file = \"rate_density_simlog.txt\""
   ]
  },
  {
   "cell_type": "code",
   "execution_count": null,
   "metadata": {
    "code_folding": [],
    "collapsed": true
   },
   "outputs": [],
   "source": [
    "%%capture capt \n",
    "# logging draculab version used for this session\n",
    "print('======================================================')\n",
    "print('| Latest git commit: |')\n",
    "print('======================================================')\n",
    "!git log -1 --oneline --color=never"
   ]
  },
  {
   "cell_type": "code",
   "execution_count": null,
   "metadata": {
    "code_folding": [
     0
    ],
    "collapsed": true
   },
   "outputs": [],
   "source": [
    "# Write the output of the cell above in the simulation log\n",
    "with open(log_file, 'a') as f:\n",
    "    f.write(capt.stdout)\n",
    "    f.close()"
   ]
  },
  {
   "cell_type": "code",
   "execution_count": null,
   "metadata": {
    "code_folding": [
     0
    ],
    "collapsed": true
   },
   "outputs": [],
   "source": [
    "# Some code to visualize the shape of the learning rule\n",
    "f = lambda x: np.log( x/(1.-x) )\n",
    "x = np.linspace(0.005, 0.99, 200)\n",
    "#plt.plot(x, f(x))\n",
    "y = np.linspace(0.005, 0.99, 200)\n",
    "x,y = np.meshgrid(x,y)\n",
    "k = np.exp(1.)/(1. - np.exp(-1))\n",
    "#z = 0.1*f(x)*np.exp(y)/(y*(y-1))\n",
    "z =  k * x * np.exp(y)/(144.*y*(1.-y))\n",
    "%matplotlib qt5\n",
    "fig = plt.figure(figsize=(15,15))\n",
    "ax = fig.gca(projection='3d')\n",
    "surf = ax.plot_surface(x, y, z, cmap=cm.coolwarm, rcount=60, ccount=60, antialiased=False)\n",
    "ax.set_xlabel('post rate')\n",
    "ax.set_ylabel('pre rate')\n",
    "ax.set_zlabel('ss weight')\n",
    "plt.show()"
   ]
  },
  {
   "cell_type": "code",
   "execution_count": 2,
   "metadata": {
    "code_folding": [
     2,
     118,
     130,
     135,
     145,
     184,
     211,
     243,
     248,
     257,
     334,
     375,
     407,
     448,
     458,
     505,
     519,
     525,
     537
    ],
    "collapsed": true,
    "hideCode": false,
    "hidePrompt": false
   },
   "outputs": [],
   "source": [
    "# The class used to run simulations and visualize results\n",
    "class exp_distro():\n",
    "    def __init__(self):\n",
    "        # The history list will store strings containing the instructions doing parameter changes, \n",
    "        # building the network, or running a simulation.\n",
    "        self.history = [\"__init__ at \" + time.ctime()]\n",
    "        self.notes = '' # comments after visualizing simulation results\n",
    "        # fixing random seed\n",
    "        seed = 19680801\n",
    "        np.random.seed(seed)\n",
    "        # I also use the 'random' module, so I should also run random.seed(seed).\n",
    "        self.history.append('np.random.seed = ' + str(seed))\n",
    "        \n",
    "        \"\"\" All the default parameter dictionaries are below. \n",
    "            Time units are seconds for compatibility with the pendulum model.\n",
    "            Length units for geometry dictionaries are centimeters.\n",
    "            Axonal conduction speed is ~1 m/s, synaptic delay about 1 ms, but 5 ms for the population response.\n",
    "        \"\"\"\n",
    "        # parameter dictionary for the network\n",
    "        self.net_params = {'min_delay' : 0.005, # notice delays below are set using this value\n",
    "                           'min_buff_size' : 10,\n",
    "                           'rtol' : 1e-5,\n",
    "                           'atol' : 1e-5 } \n",
    "        # parameter dictionaries for the units\n",
    "        self.geom = {'shape':'sheet', \n",
    "                     'extent':[1.,1.], # 1 square centimeter grid\n",
    "                     'center':[0.,0.], \n",
    "                     'arrangement':'grid', \n",
    "                     'rows':25, \n",
    "                     'columns':25,  # 625 units\n",
    "                     'jitter' : 0.02 }\n",
    "        self.unit_pars = {'init_val' : np.random.rand(self.geom['rows']*self.geom['columns']), \n",
    "                          'slope' : 1.,\n",
    "                          'thresh' : 0.,\n",
    "                          'tau' : 0.02,  # 20 ms time constant\n",
    "                          'tau_fast' : 0.04, # 40 ms for fast low-pass filter\n",
    "                          'tau_mid' : .1, # 100 ms for medium low-pass filter\n",
    "                          'wscale' : 0.005, # for exp_dist_sigmoidal units\n",
    "                          'sslope' : 3, # for exp_dist_sigmoidal units\n",
    "                          'c' : 2., # for exp_dist_sigmoidal units\n",
    "                          'Kp' : 0.005, 'Ki' : 0.05, 'Kd' : -0.05,  # PID control gains\n",
    "                          'type' : unit_types.sigmoidal }\n",
    "        # parameter dictionary for the inputs. Weight tracking units use the same dictionary.\n",
    "        self.n_units = {'inp' : 1, # number of input units\n",
    "                        'w_track': 6 } # number of weight tracking units\n",
    "        self.inp_pars = {'type' : unit_types.source,\n",
    "                         'init_val' : 0.,\n",
    "                         'tau_fast' : 0.04,\n",
    "                         'coordinates' : np.array([0.,0.]), # for plotting purposes\n",
    "                         'function' : lambda x: None }\n",
    "        # connections among units\n",
    "        self.conn = {'connection_type' : 'divergent',\n",
    "            'mask' : {'circular': {'radius': 10.}}, # contains all the unit grid for all-to-all connectivity\n",
    "            'kernel' : 1.,\n",
    "            'delays' : {'linear' : {'c' : self.net_params['min_delay'], 'a' : 10.}},\n",
    "            'weights' :{'uniform' : {'low': -0.5, 'high' : 0.5}},\n",
    "            'allow_autapses' : True,\n",
    "            'allow_multapses' : False,\n",
    "            'edge_wrap' : False,\n",
    "            'boundary' : {'center': np.array(self.geom['center']), 'extent' : self.geom['extent']} }\n",
    "        self.syn = {'type' : synapse_types.exp_rate_dist,\n",
    "                    'lrate' : 0.1,\n",
    "                    'c' : 1.,\n",
    "                    'wshift' : 1. }\n",
    "        # Input connections\n",
    "        self.i2u_conn = {'rule' : 'all_to_all',\n",
    "                 'delay' : self.net_params['min_delay'] }\n",
    "        self.i2u_syn = {'type' : synapse_types.static,\n",
    "                'lrate' : 0.05,\n",
    "                'init_w' : {'distribution' : 'equal_norm', 'norm' : 1.} }      \n",
    "        \n",
    "    def build(self):\n",
    "        \"\"\" Create the draculab network. \"\"\"\n",
    "        # store record of network being built\n",
    "        self.history.append('build()')\n",
    "        # Set derived parameters\n",
    "        self.conn['delays'] = {'linear' : {'c' : self.net_params['min_delay'], 'a' : 0.1}}\n",
    "        self.conn['boundary'] = {'center': np.array(self.geom['center']), 'extent' : self.geom['extent']}\n",
    "        self.unit_pars['init_val'] = np.random.rand(self.geom['rows']*self.geom['columns'])\n",
    "        # Create an auxiliary topology object\n",
    "        topo = topology()\n",
    "        # Create network\n",
    "        self.net = network(self.net_params)\n",
    "        # Create unit population\n",
    "        self.units = topo.create_group(self.net, self.geom, self.unit_pars)\n",
    "        # Create input units\n",
    "        self.inp = self.net.create(self.n_units['inp'], self.inp_pars)\n",
    "        # Create weight tracking units\n",
    "        self.w_track = self.net.create(self.n_units['w_track'], self.inp_pars)\n",
    "        # Create connections\n",
    "        topo.topo_connect(self.net, self.units, self.units, self.conn, self.syn)\n",
    "        self.net.connect(self.inp, self.units, self.i2u_conn, self.i2u_syn)\n",
    "        # Set the function of the w_track units to follow randomly chosen weights\n",
    "        n_u = int(np.floor(np.sqrt(self.n_units['w_track']))) # For how many units we'll track weights\n",
    "        n_syns, remainder = divmod(self.n_units['w_track'], n_u) # how many synapses per unit\n",
    "        which_u = np.random.choice(self.units, n_u) # ID's of the units we'll track\n",
    "        self.tracked = which_u # so basic plot knows which units we tracked\n",
    "        which_syns = [[] for i in range(n_u)]\n",
    "        for uid,u in enumerate(which_u[0:-1]):\n",
    "            which_syns[uid] = np.random.choice(range(len(self.net.syns[u])), n_syns)\n",
    "        which_syns[n_u-1] = np.random.choice(range(len(self.net.syns[which_u[-1]])), n_syns+remainder)\n",
    "        for uid,u in enumerate(which_u):\n",
    "            for sid,s in enumerate(which_syns[uid]):\n",
    "                self.net.units[self.w_track[uid*n_syns+sid]].set_function(self.net.syns[u][s].get_w)\n",
    "        # If there are exp_dist_sigmoidal units, create some units to track their scale factors\n",
    "        if self.unit_pars['type'] == unit_types.exp_dist_sig:\n",
    "            self.sc_track = self.net.create(self.n_units['w_track'], self.inp_pars)\n",
    "            def scale_tracker(u,s):\n",
    "                return lambda x: self.net.units[u].scale_facs[s]\n",
    "            for uid,u in enumerate(which_u):\n",
    "                for sid,s in enumerate(which_syns[uid]):\n",
    "                    self.net.units[self.sc_track[uid*n_syns+sid]].set_function(scale_tracker(u,s))\n",
    "        # Creating a unit to peek on upd_exp_scale's error\n",
    "        self.err_track = self.net.create(1, self.inp_pars)\n",
    "        def error_tracker(u):\n",
    "            return lambda x: self.net.units[u].error\n",
    "        self.net.units[self.err_track[0]].set_function(error_tracker(89))    \n",
    "        \n",
    "    def set_param(self, dictionary, entry, value):\n",
    "        \"\"\" Change a value in a parameter dictionary. \n",
    "        \n",
    "            dictionary: a string with the name of one of the parameter dictionaries in __init__\n",
    "            entry: a string with the name of the entry we'll modify\n",
    "            value: the value we'll assign (can be any appropriate Python object) \n",
    "        \"\"\"\n",
    "        if 'build()' in self.history:\n",
    "            raise AssertionError('Setting a parameter value after network has been built')     \n",
    "        self.__getattribute__(dictionary)[entry] = value  # set the new value\n",
    "        self.history.append(dictionary + '[\\'' + entry + '\\'] = ' + str(value) ) # record assignment\n",
    "            \n",
    "    def make_sin_pulse(self, t_init, t_end, per, amp): \n",
    "        \"\"\" This function returns a function implementing a localized sinusoidal bump(s). \"\"\"\n",
    "        return lambda t : amp * ( np.sqrt( 0.5 * (1. + \n",
    "                      np.sin( np.pi*( 2.*(t - t_init)/per - 0.5 ) ) ) ) ) if (t_init < t and t < min(t_init+per,t_end)) else 0.\n",
    "    \n",
    "    def input_vector(self):\n",
    "        \"\"\"This function returns an input vector. Different distributions can be implemented with this. \"\"\"\n",
    "        ## random vector with unit norm, positive entries\n",
    "        # vec = np.random.uniform(0., 1., self.n_units['inp'])\n",
    "        # return  vec / np.linalg.norm(vec)\n",
    "        \n",
    "        ## random vector with unit norm, positive and negative entries\n",
    "        vec = np.random.uniform(0., 1., self.n_units['inp']) - np.random.uniform(0., 1., self.n_units['inp'])\n",
    "        return  vec / np.linalg.norm(vec)\n",
    "        \n",
    "    def run(self, n_pres, inp_time, inp_amp, pres_time, alpha=0.):\n",
    "        \"\"\" Run a simulation, presenting n_pres patterns, each lasting pres_time, \n",
    "            with inputs of amplitude inp_amp and lasting inp_time at the beginning of each presentation.\n",
    "            \n",
    "            The argument alpha determines how fast the input amplitudes drift.\n",
    "            \n",
    "            Updates:\n",
    "                self.all_times: 1-D numpy array with the times for each data point in all_activs.\n",
    "                self.all_activs: 2-D numpy array with the activity of all units at each point in all_times. \n",
    "        \"\"\"\n",
    "        # store a record of this simulation\n",
    "        self.history.append('run(%d, %f, %f, %f, %f)' % (n_pres, inp_time, inp_amp, pres_time, alpha)) \n",
    "        # initialize storage of results\n",
    "        self.all_times = []\n",
    "        self.all_activs = []\n",
    "        start_time = time.time()\n",
    "        inp_vel = np.zeros(self.n_units['inp']) # initial velocity for the input drift\n",
    "        inp_vec = inp_amp*self.input_vector() # initial amplitudes of the inputs\n",
    "        # present input patterns\n",
    "        for pres in range(n_pres):\n",
    "            print('Simulating presentation ' + str(pres), end='\\r')\n",
    "            pres_start = time.time()\n",
    "            t = self.net.sim_time\n",
    "            inp_accel = inp_amp*self.input_vector() # having an acceleration confers \"momentum\" to the input drift\n",
    "            inp_vel = (1.-alpha)*inp_vel + alpha*inp_accel \n",
    "            inp_vec = (1.-alpha)*inp_vec + alpha*inp_vel\n",
    "            for i in self.inp:\n",
    "                self.net.units[i].set_function(self.make_sin_pulse(t, t+pres_time, inp_time, inp_vec[i-self.inp[0]]))\n",
    "        \n",
    "            times, activs, plants = self.net.run(pres_time)\n",
    "            self.all_times.append(times)\n",
    "            self.all_activs.append(activs)\n",
    "            print('Presentation %s lasted %s seconds.' % (pres, time.time() - pres_start), end='\\n')\n",
    "\n",
    "        self.all_times = np.concatenate(self.all_times)\n",
    "        self.all_activs = np.concatenate(self.all_activs, axis=1)\n",
    "        print('Execution time is %s seconds' % (time.time() - start_time)) \n",
    "        return self # see rant on multiprocessing    \n",
    "    \n",
    "    def basic_plot(self):\n",
    "        #%matplotlib inline\n",
    "        inp_fig = plt.figure(figsize=(10,5))\n",
    "        inputs = np.transpose([self.all_activs[i] for i in self.inp])\n",
    "        plt.plot(self.all_times, inputs, linewidth=1, figure=inp_fig)\n",
    "        plt.title('Inputs')\n",
    "\n",
    "        unit_fig = plt.figure(figsize=(10,5))\n",
    "        some_acts = np.transpose(self.all_activs[[self.units[i] for i in self.tracked]])\n",
    "        plt.plot(self.all_times, some_acts, figure=unit_fig)\n",
    "        plt.title('Some unit activities')\n",
    "        \n",
    "        # Plot the evolution of the synaptic weights\n",
    "        w_fig = plt.figure(figsize=(10,5))\n",
    "        weights = np.transpose([self.all_activs[self.w_track[i]] for i in range(self.n_units['w_track'])])\n",
    "        plt.plot(self.all_times, weights, linewidth=1)\n",
    "        plt.title('Some synaptic weights')\n",
    "        \n",
    "        # Plot the evolution of the synaptic scale factors\n",
    "        if self.unit_pars['type'] == unit_types.exp_dist_sig:\n",
    "            sc_fig = plt.figure(figsize=(10,5))\n",
    "            factors = np.transpose([self.all_activs[self.sc_track[i]] for i in range(self.n_units['w_track'])])\n",
    "            plt.plot(self.all_times, factors, linewidth=1)\n",
    "            plt.title('Some synaptic scale factors')\n",
    "\n",
    "        plt.show()\n",
    "        \n",
    "    def activ_anim(self, thr, interv=100, slider=False):\n",
    "        \"\"\" An animation to visualize the activity of the excitatory units. \n",
    "        \n",
    "            interv : refresh interval of the simulation.\n",
    "            slider : When set to True the animation is substituted by a slider widget.\n",
    "            \n",
    "            Units whose activity surpasses 'thr' will be highlighted.\n",
    "            It is assumed that this import statement has happened:\n",
    "            from matplotlib.animation import FuncAnimation\n",
    "        \"\"\"\n",
    "        %matplotlib qt5\n",
    "        # notebook or qt5 \n",
    "\n",
    "        self.unit_fig = plt.figure(figsize=(10,10))\n",
    "        self.ax = self.unit_fig.add_axes([0, 0, 1, 1], frameon=False)\n",
    "        self.ax.set_xlim(-1, 1), self.ax.set_xticks([])\n",
    "        self.ax.set_ylim(-1, 1), self.ax.set_yticks([])\n",
    "        xcoords = [ u.coordinates[0] for u in [self.net.units[i] for i in self.units] ]\n",
    "        ycoords = [ u.coordinates[1] for u in [self.net.units[i] for i in self.units] ]\n",
    "        self.scat = self.ax.scatter(xcoords, ycoords, s=20.*self.all_activs[self.units,0])\n",
    "        self.n_data = len(self.all_activs[0])\n",
    "        self.act_thr = thr\n",
    "        \n",
    "        if not slider:\n",
    "            animation = FuncAnimation(self.unit_fig, self.update_act_anim, \n",
    "                                  interval=interv, save_count=int(round(self.net.sim_time/self.net.min_delay)))    \n",
    "            return animation\n",
    "        else:\n",
    "            from ipywidgets import interact\n",
    "            widget = interact(self.update_act_anim, frame=(1,self.n_data))\n",
    "            return widget\n",
    "        \n",
    "    def color_fun(self, activ):\n",
    "        # given the units activity, maps into a color. activ may be an array.\n",
    "        activ =  np.maximum(0.1,  activ*np.maximum(np.sign(activ - self.act_thr), 0.))\n",
    "        return np.outer(activ, np.array([0., .5, .999, .5]))\n",
    "\n",
    "    def update_act_anim(self, frame):\n",
    "        # Each frame advances one simulation step (min_delay time units)\n",
    "        idx = frame%self.n_data\n",
    "        cur_time = self.net.min_delay*idx\n",
    "        self.scat.set_sizes(300.*self.all_activs[self.units,idx])\n",
    "        self.scat.set_color(self.color_fun(self.all_activs[self.units,idx]))\n",
    "        self.unit_fig.suptitle('Time: ' + '{:f}'.format(cur_time))\n",
    "        return self.ax,\n",
    "    \n",
    "    def conn_anim(self, source, sink, interv=100, slider=False, weights=False):\n",
    "        \"\"\" An animation to visualize the connectivity of populations. \n",
    "    \n",
    "            source and sink are lists with the IDs of the units whose connections we'll\n",
    "            visualize. Each frame of the animation shows: for a particular unit in source,\n",
    "            all the neurons in sink that receive connections from it (left plot), and for \n",
    "            a particular unit in sink, all the units in source that send it connections\n",
    "            (right plot).\n",
    "        \n",
    "            interv is the refresh interval (in ms) used by FuncAnimation.\n",
    "            \n",
    "            If weights=True, then the dots size and color will reflect the connection weight.\n",
    "        \n",
    "            It is assumed that this import statement has happened:\n",
    "            from matplotlib.animation import FuncAnimation\n",
    "        \"\"\"\n",
    "        %matplotlib qt5\n",
    "        # notebook or qt5 \n",
    "        \n",
    "        # update_conn_anim uses these values\n",
    "        self.len_source = len(source)\n",
    "        self.len_sink = len(sink)\n",
    "        self.source_0 = source[0]\n",
    "        self.sink_0 = sink[0]\n",
    "\n",
    "        # flattening net.syns, leaving only the source-sink connections \n",
    "        self.all_syns = []\n",
    "        for syn_list in [self.net.syns[i] for i in sink]:\n",
    "            syn_list = [s for s in syn_list if s.preID in source]\n",
    "            self.all_syns += syn_list\n",
    "    \n",
    "        # getting lists with the coordinates of all source, sink units\n",
    "        source_coords = [u.coordinates for u in [self.net.units[i] for i in source]]\n",
    "        sink_coords = [u.coordinates for u in [self.net.units[i] for i in sink]]\n",
    "        source_x = [c[0] for c in source_coords]\n",
    "        source_y = [c[1] for c in source_coords]\n",
    "        sink_x = [c[0] for c in sink_coords]\n",
    "        sink_y = [c[1] for c in sink_coords]\n",
    "\n",
    "        # setting colors\n",
    "        self.std_src = [0., 0.5, 0., 0.5]\n",
    "        self.std_snk = [0.5, 0., 0., 0.5]\n",
    "        self.big_src = [0., 0., 1., 1.]\n",
    "        self.big_snk = [0., 0., 1., 1.]\n",
    "\n",
    "        # constructing figure, axes, path collections\n",
    "        self.conn_fig = plt.figure(figsize=(12,7))\n",
    "        self.ax1 = self.conn_fig.add_axes([0.0, 0.01, .49, 0.95], frameon=True, aspect=1)\n",
    "        self.ax2 = self.conn_fig.add_axes([0.51, 0.01, .49, 0.95], frameon=True, aspect=1)\n",
    "        self.src_col1 = self.ax1.scatter(source_x, source_y, s=2, c=self.std_src)\n",
    "        self.snk_col1 = self.ax1.scatter(sink_x, sink_y, s=2, c=self.std_snk)\n",
    "        self.src_col2 = self.ax2.scatter(source_x, source_y, s=2, c=self.std_src)\n",
    "        self.snk_col2 = self.ax2.scatter(sink_x, sink_y, s=2, c=self.std_snk)\n",
    "        self.ax1.set_title('sent connections')\n",
    "        self.ax2.set_title('received connections')\n",
    "        self.ax2.set_yticks([])\n",
    "        \n",
    "        if weights:\n",
    "            update_fun = self.update_weight_anim\n",
    "            # extract the weight matrix\n",
    "            self.w_mat = np.zeros((len(sink), len(source)))\n",
    "            for syn in self.all_syns:\n",
    "                self.w_mat[syn.postID - sink[0], syn.preID - source[0]] = abs(syn.w)\n",
    "                self.w_mat /= np.amax(self.w_mat) # normalizing (maximum is 1)\n",
    "                self.cmap = plt.get_cmap('Reds') # getting colormap\n",
    "            #print(self.w_mat)\n",
    "        else:\n",
    "            update_fun = self.update_conn_anim\n",
    "            \n",
    "        if not slider:\n",
    "            animation = FuncAnimation(self.conn_fig, update_fun, interval=interv, blit=True)\n",
    "            return animation\n",
    "        else:\n",
    "            from ipywidgets import interact\n",
    "            widget = interact(update_fun, frame=(1, max(self.len_source, self.len_sink)))\n",
    "            return widget\n",
    "    \n",
    "    def update_conn_anim(self, frame): \n",
    "        sou_u = frame%self.len_source # source unit whose receivers we'll visualize\n",
    "        snk_u = frame%self.len_sink # sink unit whose senders we'll visualize\n",
    "    \n",
    "        # PLOTTING THE RECEIVERS OF sou_u ON THE LEFT AXIS\n",
    "        source_sizes = np.tile(2, self.len_source)\n",
    "        sink_sizes = np.tile(2, self.len_sink)\n",
    "        source_colors = np.tile(self.std_src,(self.len_source,1))\n",
    "        sink_colors = np.tile(self.std_snk, (self.len_sink,1))\n",
    "        source_sizes[sou_u] = 30\n",
    "        source_colors[sou_u] = self.big_src\n",
    "        # getting targets of projections from the unit 'sou_u'\n",
    "        targets = [syn.postID - self.sink_0 for syn in self.all_syns if syn.preID == sou_u + self.source_0]\n",
    "        # setting the colors and sizes\n",
    "        sink_colors[targets] = self.big_snk\n",
    "        sink_sizes[targets] = 15\n",
    "        self.src_col1.set_sizes(source_sizes)\n",
    "        #ax1.get_children()[0].set_sizes(source_sizes)   # sizes for the source units\n",
    "        self.snk_col1.set_sizes(sink_sizes)   \n",
    "        self.src_col1.set_color(source_colors)\n",
    "        self.snk_col1.set_color(sink_colors)\n",
    "        \n",
    "        # PLOTTING THE SENDERS TO snk_u ON THE RIGHT AXIS\n",
    "        source_sizes = np.tile(2, self.len_source)\n",
    "        sink_sizes = np.tile(2, self.len_sink)\n",
    "        source_colors = np.tile(self.std_src, (self.len_source,1))\n",
    "        sink_colors = np.tile(self.std_snk, (self.len_sink,1))\n",
    "        sink_sizes[snk_u] = 30\n",
    "        sink_colors[snk_u] = self.big_snk\n",
    "        # getting senders of projections to the unit 'snk_u'\n",
    "        senders = [syn.preID - self.source_0 for syn in self.all_syns if syn.postID == snk_u + self.sink_0]\n",
    "        # setting the colors and sizes\n",
    "        source_colors[senders] = self.big_src\n",
    "        source_sizes[senders] = 15\n",
    "        self.src_col2.set_sizes(source_sizes)\n",
    "        self.snk_col2.set_sizes(sink_sizes)   \n",
    "        self.src_col2.set_color(source_colors)\n",
    "        self.snk_col2.set_color(sink_colors)\n",
    "    \n",
    "        return self.ax1, self.ax2,\n",
    "    \n",
    "    def update_weight_anim(self, frame): \n",
    "        sou_u = frame%self.len_source # source unit whose receivers we'll visualize\n",
    "        snk_u = frame%self.len_sink # sink unit whose senders we'll visualize\n",
    "        if sou_u == 30:\n",
    "            print(self.w_mat)\n",
    "            \n",
    "        # PLOTTING THE RECEIVERS OF sou_u ON THE LEFT AXIS\n",
    "        source_sizes = np.tile(2, self.len_source)\n",
    "        sink_sizes =  2. + 400.*self.w_mat[:,sou_u]\n",
    "        source_colors = np.tile(self.std_src,(self.len_source,1))\n",
    "        sink_colors =  self.cmap.__call__(self.w_mat[:,sou_u])\n",
    "        source_sizes[sou_u] = 30\n",
    "        source_colors[sou_u] = self.big_src\n",
    "        self.src_col1.set_sizes(source_sizes)\n",
    "        self.snk_col1.set_sizes(sink_sizes)   \n",
    "        self.snk_col1.set_color(sink_colors)\n",
    "        self.src_col1.set_color(source_colors)\n",
    "        \n",
    "        # PLOTTING THE SENDERS TO snk_u ON THE RIGHT AXIS\n",
    "        source_sizes = 2. + 400.*self.w_mat[snk_u,:]\n",
    "        sink_sizes = np.tile(2, self.len_sink)\n",
    "        source_colors = self.cmap.__call__(self.w_mat[snk_u,:])\n",
    "        sink_colors = np.tile(self.std_snk, (self.len_sink,1))\n",
    "        sink_sizes[snk_u] = 30\n",
    "        sink_colors[snk_u] = self.big_snk\n",
    "        self.src_col2.set_sizes(source_sizes)\n",
    "        self.snk_col2.set_sizes(sink_sizes)   \n",
    "        self.src_col2.set_color(source_colors)\n",
    "        self.snk_col2.set_color(sink_colors)\n",
    "    \n",
    "        return self.ax1, self.ax2,\n",
    "    \n",
    "    def hist_anim(self, nbins=15, interv=100, slider=False, pdf=False):\n",
    "        \"\"\" An animation to visualize the firing rate histogram through time. \n",
    "        \n",
    "            interv : refresh interval of the simulation.\n",
    "            slider : When set to True the animation is substituted by a slider widget.\n",
    "            nbins : number of bins in the histogram\n",
    "            pdf: include a plot of the exponential PDF?\n",
    "            \n",
    "            It is assumed that this import statement has happened:\n",
    "            from matplotlib.animation import FuncAnimation\n",
    "        \"\"\"\n",
    "        %matplotlib qt5\n",
    "        # notebook or qt5 \n",
    "        self.hist_fig = plt.figure(figsize=(10,10))\n",
    "        if pdf:\n",
    "            if self.unit_pars['type'] == unit_types.exp_dist_sig:\n",
    "                c = self.net.units[0].c\n",
    "            else:\n",
    "                c = self.syn['c']\n",
    "            # plot the exponential distro on the same figure\n",
    "            k = len(self.units) * c / (1. - np.exp(-c)) / nbins\n",
    "            plt.plot(np.linspace(0,1,100), k * np.exp(-c*np.linspace(0,1,100)))\n",
    "            upper_tick = round(max(1., np.exp(-c)) * k)  + 5.\n",
    "        else:\n",
    "            upper_tick = len(self.units)\n",
    "        # initial histogram plot\n",
    "        hist, bins, self.patches = plt.hist(self.all_activs[self.units,0], bins=nbins)\n",
    "        plt.yticks([0.,upper_tick])\n",
    "        \n",
    "        self.n_data = len(self.all_activs[0])\n",
    "        self.n_bins = nbins\n",
    "                \n",
    "        if not slider:\n",
    "            animation = FuncAnimation(self.hist_fig, self.update_hist_anim, \n",
    "                                  interval=interv, save_count=int(round(self.net.sim_time/self.net.min_delay)))    \n",
    "            return animation\n",
    "        else:\n",
    "            from ipywidgets import interact\n",
    "            widget = interact(self.update_hist_anim, frame=(1,self.n_data))\n",
    "            return widget\n",
    "\n",
    "    def update_hist_anim(self, frame):\n",
    "        # Each frame advances one simulation step (min_delay time units)\n",
    "        idx = frame%self.n_data\n",
    "        cur_time = self.net.min_delay*idx\n",
    "        binz, valz = np.histogram(self.all_activs[self.units,idx], bins=self.n_bins)\n",
    "        for count, patch in zip(binz, self.patches):\n",
    "            patch.set_height(count)\n",
    "        self.hist_fig.suptitle('Time: ' + '{:f}'.format(cur_time))\n",
    "        return \n",
    "    \n",
    "    def double_anim(self, nbins=15, interv=100, slider=False, thr=0.9, pdf=False):\n",
    "        \"\"\" An animation of both firing rate histograms and unit activities. \n",
    "        \n",
    "            bins = number of bins in the firing rate histogram\n",
    "            inter = refresh interval in ms\n",
    "            slider = whether to use an interactive slider instead of an animation\n",
    "            thr = value at which the dots change color in the unit activity diagram\n",
    "            pdf = whehter to overlay a plot of the exponential pdf the histogram should approach\n",
    "        \"\"\"\n",
    "        %matplotlib qt5\n",
    "        \n",
    "        self.double_fig = plt.figure(figsize=(16,8))\n",
    "        self.n_bins = nbins\n",
    "        self.act_thr = thr\n",
    "        self.n_data = len(self.all_activs[0])\n",
    "        # Histogram figure and axis\n",
    "        self.hist_ax = self.double_fig.add_axes([0.02, .04, .47, .92])\n",
    "        if pdf:\n",
    "            if self.unit_pars['type'] == unit_types.exp_dist_sig:\n",
    "                c = self.net.units[0].c\n",
    "            else:\n",
    "                c = self.syn['c']\n",
    "            # plot the exponential distro on the left axis\n",
    "            k = len(self.units) * c / (1. - np.exp(-c)) / nbins\n",
    "            self.hist_ax.plot(np.linspace(0,1,100), k * np.exp(-c*np.linspace(0,1,100)), 'y')\n",
    "            y_lim = round(max(1., np.exp(-c)) * k)  + 5.\n",
    "        else:\n",
    "            y_lim = len(self.units)\n",
    "        hist, bins, self.patches = self.hist_ax.hist(self.all_activs[self.units,0], bins=nbins, range=(0.,1.001))\n",
    "        self.hist_ax.set_ylim(top=y_lim) \n",
    "        # Activity figure and axis\n",
    "        self.act_ax = self.double_fig.add_axes([.51, .02, .47, .94], frameon=False)\n",
    "        self.act_ax.set_xlim(-1, 1), self.act_ax.set_xticks([])\n",
    "        self.act_ax.set_ylim(-1, 1), self.act_ax.set_yticks([])\n",
    "        xcoords = [ u.coordinates[0] for u in [self.net.units[i] for i in self.units] ]\n",
    "        ycoords = [ u.coordinates[1] for u in [self.net.units[i] for i in self.units] ]\n",
    "        self.scat = self.act_ax.scatter(xcoords, ycoords, s=20.*self.all_activs[self.units,0])\n",
    "        # select viewing mode\n",
    "        if not slider:\n",
    "            animation = FuncAnimation(self.double_fig, self.update_double_anim, \n",
    "                                  interval=interv, save_count=int(round(self.net.sim_time/self.net.min_delay)))    \n",
    "            return animation\n",
    "        else:\n",
    "            from ipywidgets import interact\n",
    "            widget = interact(self.update_double_anim, frame=(1,self.n_data))\n",
    "            return widget\n",
    "    \n",
    "    def update_double_anim(self, frame):\n",
    "        # Each frame advances one simulation step (min_delay time units)\n",
    "        idx = frame%self.n_data\n",
    "        cur_time = self.net.min_delay*idx\n",
    "        # updating histogram\n",
    "        binz, valz = np.histogram(self.all_activs[self.units,idx], bins=self.n_bins, range=(0.,1.001))\n",
    "        for count, patch in zip(binz, self.patches):\n",
    "            patch.set_height(count)\n",
    "        # updating activities\n",
    "        self.scat.set_sizes(300.*self.all_activs[self.units,idx])\n",
    "        self.scat.set_color(self.color_fun(self.all_activs[self.units,idx]))\n",
    "        self.double_fig.suptitle('Time: ' + '{:f}'.format(cur_time))\n",
    "        return self.hist_ax, self.act_ax,\n",
    "    \n",
    "    def annotate(self, string, make_history=True):\n",
    "        \"\"\" Append a string to self.notes and self.history. \"\"\"\n",
    "        self.notes += '# NOTE: ' + string + '\\n'\n",
    "        if make_history:\n",
    "            self.history.append('#' + string)\n",
    "            \n",
    "    def log(self, name=\"rate_density_simlog.txt\"):\n",
    "        with open(name, 'a') as f:\n",
    "            f.write('#~~~~~~~~~~~~~~~~~~~~~~~~~~~~~~~~~~~~~~~\\n')\n",
    "            f.write('#---------Logging exp_distro object---------\\n')\n",
    "            f.write('# HISTORY #\\n')\n",
    "            for entry in self.history:\n",
    "                f.write(entry + '\\n')\n",
    "            f.write('# NOTES #\\n')\n",
    "            f.write(self.notes)\n",
    "            f.write('\\n')\n",
    "            f.close()\n",
    "        \n",
    "    def save(self, name=\"rate_density_pickled.pkl\"):\n",
    "        \"\"\" Saving simulation results. \n",
    "            A draculab network contains lists with functions, so it is not picklable. \n",
    "            But it can be serialized with dill: https://github.com/uqfoundation/dill \n",
    "            \n",
    "            After saving, retrieve object using, for example:\n",
    "            F = open(\"rate_density_pickled.pkl\", 'rb')\n",
    "            ei = dill.load(F)\n",
    "            F.close()\n",
    "        \"\"\"\n",
    "        self.history.append('# exp_distro object being saved as ' + name)\n",
    "        F = open(name, 'wb')\n",
    "        dill.dump(self, F)\n",
    "        F.close()"
   ]
  },
  {
   "cell_type": "code",
   "execution_count": 3,
   "metadata": {
    "code_folding": [],
    "collapsed": true
   },
   "outputs": [],
   "source": [
    "# Runner configuration\n",
    "dist_runner = exp_distro()\n",
    "dist_runner.annotate(\"Currently testing the effect of fast wscale\")\n",
    "dist_runner.set_param('unit_pars', 'type', unit_types.exp_dist_sig)\n",
    "dist_runner.set_param('syn', 'type', synapse_types.static)\n",
    "dist_runner.set_param('geom', 'rows', 12)\n",
    "dist_runner.set_param('geom', 'columns', 12)\n",
    "dist_runner.annotate(\"This is so the input at each presentation changes.\")\n",
    "dist_runner.set_param('n_units', 'inp', 3) # 3 input units\n",
    "dist_runner.set_param('unit_pars', 'wscale', 0.5)\n",
    "dist_runner.set_param('unit_pars', 'sslope', .5)\n",
    "dist_runner.set_param('unit_pars', 'c', 2.)\n",
    "dist_runner.set_param('unit_pars', 'Kp', .0)\n",
    "dist_runner.set_param('unit_pars', 'Ki', 0.0)\n",
    "dist_runner.set_param('unit_pars', 'Kd', .0)\n",
    "dist_runner.set_param('n_units', 'w_track', 16)\n",
    "\"\"\"\n",
    "dist_runner.annotate(\"A faster learning rate.\")\n",
    "dist_runner.set_param('syn', 'lrate', .3)\n",
    "dist_runner.set_param('syn', 'c', -2.)\n",
    "dist_runner.annotate(\"A larger weight shift.\")\n",
    "dist_runner.set_param('syn', 'wshift', 10.) \n",
    "\"\"\"\n",
    "\n",
    "dist_runner.annotate('This network has heterogeneous units.')\n",
    "num_units = dist_runner.geom['rows']*dist_runner.geom['columns']\n",
    "dist_runner.set_param('unit_pars', 'slope', 0.5 + 3.*np.random.random(num_units))\n",
    "dist_runner.set_param('unit_pars', 'thresh', -0.2 + 0.6*np.random.random(num_units))\n",
    "dist_runner.set_param('unit_pars', 'tau', 0.01 + 0.04*np.random.random(num_units))\n",
    "\n",
    "dist_runner.build()"
   ]
  },
  {
   "cell_type": "code",
   "execution_count": 4,
   "metadata": {
    "scrolled": true
   },
   "outputs": [
    {
     "name": "stdout",
     "output_type": "stream",
     "text": [
      "Presentation 0 lasted 119.22681784629822 seconds.\n",
      "Presentation 1 lasted 132.56621289253235 seconds.\n",
      "Presentation 2 lasted 132.8913767337799 seconds.\n",
      "Presentation 3 lasted 127.83967590332031 seconds.\n",
      "Presentation 4 lasted 132.5031292438507 seconds.\n",
      "Execution time is 645.0328559875488 seconds\n"
     ]
    },
    {
     "data": {
      "text/plain": [
       "<__main__.exp_distro at 0x107ddff98>"
      ]
     },
     "execution_count": 4,
     "metadata": {},
     "output_type": "execute_result"
    }
   ],
   "source": [
    "# Simulating\n",
    "n_pres = 5\n",
    "inp_time = 1.\n",
    "inp_amp = 0.\n",
    "pres_time = 1.\n",
    "dist_runner.run(n_pres, inp_time, inp_amp, pres_time, alpha=0.5)"
   ]
  },
  {
   "cell_type": "code",
   "execution_count": 6,
   "metadata": {
    "scrolled": false
   },
   "outputs": [
    {
     "data": {
      "image/png": "[encoded data removed]",
      "text/plain": [
       "<matplotlib.figure.Figure at 0x10921e358>"
      ]
     },
     "metadata": {},
     "output_type": "display_data"
    },
    {
     "data": {
      "image/png": "[encoded data removed]",
      "text/plain": [
       "<matplotlib.figure.Figure at 0x10c4e5eb8>"
      ]
     },
     "metadata": {},
     "output_type": "display_data"
    },
    {
     "data": {
      "image/png": "[encoded data removed]",
      "text/plain": [
       "<matplotlib.figure.Figure at 0x10c54f278>"
      ]
     },
     "metadata": {},
     "output_type": "display_data"
    },
    {
     "data": {
      "image/png": "[encoded data removed]",
      "text/plain": [
       "<matplotlib.figure.Figure at 0x10c560cc0>"
      ]
     },
     "metadata": {},
     "output_type": "display_data"
    }
   ],
   "source": [
    "%matplotlib inline\n",
    "dist_runner.basic_plot()"
   ]
  },
  {
   "cell_type": "code",
   "execution_count": 9,
   "metadata": {},
   "outputs": [
    {
     "data": {
      "text/plain": [
       "<matplotlib.animation.FuncAnimation at 0x10c3e5e10>"
      ]
     },
     "execution_count": 9,
     "metadata": {},
     "output_type": "execute_result"
    }
   ],
   "source": [
    "dist_runner.double_anim(slider=False, interv=20, nbins=20, pdf=True)"
   ]
  },
  {
   "cell_type": "code",
   "execution_count": 10,
   "metadata": {},
   "outputs": [
    {
     "name": "stdout",
     "output_type": "stream",
     "text": [
      "23\n"
     ]
    },
    {
     "data": {
      "image/png": "[encoded data removed]",
      "text/plain": [
       "<matplotlib.figure.Figure at 0x10c8bec50>"
      ]
     },
     "metadata": {},
     "output_type": "display_data"
    }
   ],
   "source": [
    "unit = dist_runner.all_activs[dist_runner.units].sum(1).argmax() #argpartition(-4)[-4:]\n",
    "print(unit)\n",
    "%matplotlib inline\n",
    "plt.plot(dist_runner.all_times, dist_runner.all_activs[unit])\n",
    "plt.plot(dist_runner.all_times, dist_runner.all_activs[dist_runner.err_track[0]])\n",
    "plt.show()"
   ]
  },
  {
   "cell_type": "raw",
   "metadata": {
    "code_folding": [],
    "collapsed": true
   },
   "source": [
    "# Annotations and log\n",
    "dist_runner.annotate('This simulation can show some repeating spatiotemporal patterns (e.g. traveling waves), ', make_history=False)\n",
    "dist_runner.annotate('that intersperse with periods where all units are maximally active.', make_history=False)\n",
    "dist_runner.annotate('When it was run, the f = max( min( .999, f), 0.001) was commented out.', make_history=False)\n",
    "#dist_runner.save(name=\"proto_rate_density_pickled.pkl\")\n",
    "dist_runner.log()"
   ]
  },
  {
   "cell_type": "code",
   "execution_count": null,
   "metadata": {
    "collapsed": true,
    "scrolled": true
   },
   "outputs": [],
   "source": [
    "dist_runner.history"
   ]
  },
  {
   "cell_type": "code",
   "execution_count": null,
   "metadata": {
    "collapsed": true
   },
   "outputs": [],
   "source": [
    "dist_runner.conn_anim(dist_runner.units, dist_runner.units, slider=False, weights=True)"
   ]
  },
  {
   "cell_type": "code",
   "execution_count": null,
   "metadata": {
    "collapsed": true
   },
   "outputs": [],
   "source": [
    "dist_runner.activ_anim(0.9, interv=10, slider=False)"
   ]
  },
  {
   "cell_type": "code",
   "execution_count": null,
   "metadata": {
    "collapsed": true
   },
   "outputs": [],
   "source": [
    "dist_runner.hist_anim(pdf=True)"
   ]
  },
  {
   "cell_type": "raw",
   "metadata": {},
   "source": [
    "\"Profiling cell\"\n",
    "import cProfile\n",
    "import pstats\n",
    "# init \n",
    "exp_net = exp_distro()\n",
    "# parameter changes\n",
    "exp_net.set_param('net_params', 'rtol', 5e-5)\n",
    "exp_net.set_param('net_params', 'atol', 5e-5)\n",
    "exp_net.set_param('geom', 'rows', 12)\n",
    "exp_net.set_param('geom', 'columns', 12)\n",
    "# build\n",
    "exp_net.build()\n",
    "# simulate\n",
    "n_pres = 1\n",
    "inp_time = .1\n",
    "inp_amp = 0.\n",
    "pres_time = .5\n",
    "cProfile.run('exp_net.run(n_pres, inp_time, inp_amp, pres_time, alpha=0.)', 'restats')\n",
    "prof = pstats.Stats('restats')\n",
    "prof.sort_stats('cumulative').print_stats(30)"
   ]
  },
  {
   "cell_type": "code",
   "execution_count": null,
   "metadata": {
    "collapsed": true
   },
   "outputs": [],
   "source": [
    "a = np.array([1,2,-3,4,-5])\n",
    "idxs = []\n",
    "for i,entry in enumerate(a):\n",
    "    if entry >= 0:\n",
    "        idxs.append(i)\n",
    "idxs = np.array(idxs)\n",
    "a[idxs] = -10\n",
    "a"
   ]
  },
  {
   "cell_type": "code",
   "execution_count": null,
   "metadata": {
    "collapsed": true
   },
   "outputs": [],
   "source": [
    "c = 2\n",
    "x = np.linspace(-2,2,100)\n",
    "f = 1. / (1. + np.exp(-c*x))\n",
    "fp = c * np.exp(-c*x) / ( (1. + np.exp(-c*x))**2 )\n",
    "fpr = ( (1. + np.exp(-c*x))**2 ) / ( c * np.exp(-c*x) )\n",
    "fpr = np.minimum( fpr, 10.)\n",
    "figf = plt.figure()\n",
    "plt.plot(x, f, 'b', x, fp, 'r', x, fpr, 'g')\n",
    "plt.show()"
   ]
  },
  {
   "cell_type": "code",
   "execution_count": null,
   "metadata": {
    "collapsed": true
   },
   "outputs": [],
   "source": [
    "a = np.array([1,2,0,4,3,3.1,5,0])\n",
    "np.argpartition(a,-2)[-2:]"
   ]
  },
  {
   "cell_type": "code",
   "execution_count": null,
   "metadata": {
    "collapsed": true
   },
   "outputs": [],
   "source": [
    "nza = a.nonzero()\n",
    "nza"
   ]
  },
  {
   "cell_type": "code",
   "execution_count": null,
   "metadata": {
    "collapsed": true
   },
   "outputs": [],
   "source": [
    "za = np.array(range(len(a)))\n",
    "za[nza] = 0\n",
    "za = za.nonzero()\n",
    "za"
   ]
  },
  {
   "cell_type": "code",
   "execution_count": 6,
   "metadata": {},
   "outputs": [
    {
     "data": {
      "text/plain": [
       "-1"
      ]
     },
     "execution_count": 6,
     "metadata": {},
     "output_type": "execute_result"
    }
   ],
   "source": [
    "np.sign(-1)"
   ]
  },
  {
   "cell_type": "code",
   "execution_count": null,
   "metadata": {
    "collapsed": true
   },
   "outputs": [],
   "source": []
  }
 ],
 "metadata": {
  "kernelspec": {
   "display_name": "Python 3",
   "language": "python",
   "name": "python3"
  },
  "language_info": {
   "codemirror_mode": {
    "name": "ipython",
    "version": 3
   },
   "file_extension": ".py",
   "mimetype": "text/x-python",
   "name": "python",
   "nbconvert_exporter": "python",
   "pygments_lexer": "ipython3",
   "version": "3.6.2"
  }
 },
 "nbformat": 4,
 "nbformat_minor": 2
}
