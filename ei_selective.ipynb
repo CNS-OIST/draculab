{
 "cells": [
  {
   "cell_type": "code",
   "execution_count": 1,
   "metadata": {
    "collapsed": true
   },
   "outputs": [],
   "source": [
    "# ei_selective.ipynb\n",
    "# This notebook is used to create a balanced network of excitatory and inhibitory units that become selective\n",
    "# for particular input patterns.\n",
    "\n",
    "# By Sergio Verduzco Flores        August 2017\n",
    "\n",
    "from sirasi import *\n",
    "from matplotlib import pyplot as plt\n",
    "import numpy as np\n",
    "import time\n",
    "from mpl_toolkits.axes_grid1 import ImageGrid"
   ]
  },
  {
   "cell_type": "markdown",
   "metadata": {},
   "source": [
    "The cells below:\n",
    "* Create two NxN layers, one excitatory, and one inhibitory.\n",
    "* Connect the layers with center-excitation surround-inhibition connectivity. E-E connections use\n",
    "  Hebbian learning with substractive normalization, I-E connections use homeostatic inhibition,\n",
    "  similar to Moldakarimov06 (in ei_net.ipynb).\n",
    "* Create an input layer where the activity of each unit is a function of the current input pattern.\n",
    "* Connects the input layer to E,I layers using a connection pattern based on a Gaussian kernel, and\n",
    "  using BCM synapses.\n",
    "* Runs a simulation where input patterns are randomly selected and presented sequentially, similarly\n",
    "  to the way this was done in the test3,4,5 notebooks.\n",
    "  \n",
    "The experiment consists of finding whether selectivity to patterns will arise in the units.\n",
    "- - -\n",
    "TODO:\n",
    "* Set the right connectivity patterns, and **set the delays according to distance**."
   ]
  },
  {
   "cell_type": "code",
   "execution_count": 2,
   "metadata": {
    "collapsed": true
   },
   "outputs": [],
   "source": [
    "# create some utility functions\n",
    "def make_fe(th, eps): # returns a function as in Eq. 1 of the paper\n",
    "    return lambda x : np.sqrt( eps * np.log( 1. + np.exp( (x - th)/eps ) ) )\n",
    "def make_fi(th, eps): # returns a function as in Eq. 2 of the paper\n",
    "    return lambda x: eps * np.log( 1. + np.exp( (x - th)/eps ) ) \n",
    "def make_pulse(t_init, t_end): # returns f(t) = 1 if t_init < t < t_end, 0 otherwise\n",
    "    return lambda t : 1. if (t_init < t and t < t_end) else 0.\n",
    "def r(i,j,sigma): # A Gaussian function with s.d. sigma, applied to i-j\n",
    "    return (1./(sigma*np.sqrt(2*np.pi))) * np.exp( -0.5*( ((i-j)/sigma)**2 ) )\n",
    "def plot_stuff(data,exc,inh,inp):\n",
    "    #fig.clf()\n",
    "    #plt.close()\n",
    "    N = int(round(np.sqrt(len(exc))))\n",
    "    Nsq = len(exc)\n",
    "    fig = plt.figure(figsize=(10,10))\n",
    "    for i in range(Nsq):\n",
    "        ax = fig.add_subplot(N,N,i+1)\n",
    "        ax.clear()\n",
    "        plt.ylim(-0.02, 2.5)\n",
    "        ax.plot(data[0], data[1][exc[i]], 'b', data[0], data[1][inh[i]], 'r',\n",
    "                data[0], N*data[1][inp[i]], 'k', figure=fig)\n",
    "    #fig.canvas.draw()\n",
    "    plt.show()"
   ]
  },
  {
   "cell_type": "code",
   "execution_count": 3,
   "metadata": {
    "collapsed": false
   },
   "outputs": [
    {
     "ename": "ValueError",
     "evalue": "Sample larger than population",
     "output_type": "error",
     "traceback": [
      "\u001b[0;31m---------------------------------------------------------------------------\u001b[0m",
      "\u001b[0;31mValueError\u001b[0m                                Traceback (most recent call last)",
      "\u001b[0;32m<ipython-input-3-fe8c12d075df>\u001b[0m in \u001b[0;36m<module>\u001b[0;34m()\u001b[0m\n\u001b[1;32m     25\u001b[0m \u001b[0;31m# Static connections and fixed indegree suggest that the inhibitory units will not go without excitation.\u001b[0m\u001b[0;34m\u001b[0m\u001b[0;34m\u001b[0m\u001b[0m\n\u001b[1;32m     26\u001b[0m \u001b[0;31m# connect\u001b[0m\u001b[0;34m\u001b[0m\u001b[0;34m\u001b[0m\u001b[0m\n\u001b[0;32m---> 27\u001b[0;31m \u001b[0mnet\u001b[0m\u001b[0;34m.\u001b[0m\u001b[0mconnect\u001b[0m\u001b[0;34m(\u001b[0m\u001b[0mexc\u001b[0m\u001b[0;34m,\u001b[0m \u001b[0minh\u001b[0m\u001b[0;34m,\u001b[0m \u001b[0mEI_conn\u001b[0m\u001b[0;34m,\u001b[0m \u001b[0mEI_syn\u001b[0m\u001b[0;34m)\u001b[0m\u001b[0;34m\u001b[0m\u001b[0m\n\u001b[0m\u001b[1;32m     28\u001b[0m \u001b[0;34m\u001b[0m\u001b[0m\n\u001b[1;32m     29\u001b[0m \u001b[0;31m######## SET E-E CONNECTIONS\u001b[0m\u001b[0;34m\u001b[0m\u001b[0;34m\u001b[0m\u001b[0m\n",
      "\u001b[0;32m/home/z/projects/git/sirasi/network.py\u001b[0m in \u001b[0;36mconnect\u001b[0;34m(self, from_list, to_list, conn_spec, syn_spec)\u001b[0m\n\u001b[1;32m    336\u001b[0m             \u001b[0;32mfor\u001b[0m \u001b[0mu\u001b[0m \u001b[0;32min\u001b[0m \u001b[0mto_list\u001b[0m\u001b[0;34m:\u001b[0m\u001b[0;34m\u001b[0m\u001b[0m\n\u001b[1;32m    337\u001b[0m                 \u001b[0;32mif\u001b[0m \u001b[0mconn_spec\u001b[0m\u001b[0;34m[\u001b[0m\u001b[0;34m'allow_autapses'\u001b[0m\u001b[0;34m]\u001b[0m\u001b[0;34m:\u001b[0m\u001b[0;34m\u001b[0m\u001b[0m\n\u001b[0;32m--> 338\u001b[0;31m                     \u001b[0msources\u001b[0m \u001b[0;34m=\u001b[0m \u001b[0mrandom\u001b[0m\u001b[0;34m.\u001b[0m\u001b[0msample\u001b[0m\u001b[0;34m(\u001b[0m\u001b[0mfrom_list\u001b[0m\u001b[0;34m,\u001b[0m \u001b[0mconn_spec\u001b[0m\u001b[0;34m[\u001b[0m\u001b[0;34m'indegree'\u001b[0m\u001b[0;34m]\u001b[0m\u001b[0;34m)\u001b[0m\u001b[0;34m\u001b[0m\u001b[0m\n\u001b[0m\u001b[1;32m    339\u001b[0m                 \u001b[0;32melse\u001b[0m\u001b[0;34m:\u001b[0m\u001b[0;34m\u001b[0m\u001b[0m\n\u001b[1;32m    340\u001b[0m                     \u001b[0mfrom_copy\u001b[0m \u001b[0;34m=\u001b[0m \u001b[0mfrom_list\u001b[0m\u001b[0;34m.\u001b[0m\u001b[0mcopy\u001b[0m\u001b[0;34m(\u001b[0m\u001b[0;34m)\u001b[0m\u001b[0;34m\u001b[0m\u001b[0m\n",
      "\u001b[0;32m/usr/lib/python3.5/random.py\u001b[0m in \u001b[0;36msample\u001b[0;34m(self, population, k)\u001b[0m\n\u001b[1;32m    313\u001b[0m         \u001b[0mn\u001b[0m \u001b[0;34m=\u001b[0m \u001b[0mlen\u001b[0m\u001b[0;34m(\u001b[0m\u001b[0mpopulation\u001b[0m\u001b[0;34m)\u001b[0m\u001b[0;34m\u001b[0m\u001b[0m\n\u001b[1;32m    314\u001b[0m         \u001b[0;32mif\u001b[0m \u001b[0;32mnot\u001b[0m \u001b[0;36m0\u001b[0m \u001b[0;34m<=\u001b[0m \u001b[0mk\u001b[0m \u001b[0;34m<=\u001b[0m \u001b[0mn\u001b[0m\u001b[0;34m:\u001b[0m\u001b[0;34m\u001b[0m\u001b[0m\n\u001b[0;32m--> 315\u001b[0;31m             \u001b[0;32mraise\u001b[0m \u001b[0mValueError\u001b[0m\u001b[0;34m(\u001b[0m\u001b[0;34m\"Sample larger than population\"\u001b[0m\u001b[0;34m)\u001b[0m\u001b[0;34m\u001b[0m\u001b[0m\n\u001b[0m\u001b[1;32m    316\u001b[0m         \u001b[0mresult\u001b[0m \u001b[0;34m=\u001b[0m \u001b[0;34m[\u001b[0m\u001b[0;32mNone\u001b[0m\u001b[0;34m]\u001b[0m \u001b[0;34m*\u001b[0m \u001b[0mk\u001b[0m\u001b[0;34m\u001b[0m\u001b[0m\n\u001b[1;32m    317\u001b[0m         \u001b[0msetsize\u001b[0m \u001b[0;34m=\u001b[0m \u001b[0;36m21\u001b[0m        \u001b[0;31m# size of a small set minus size of an empty list\u001b[0m\u001b[0;34m\u001b[0m\u001b[0m\n",
      "\u001b[0;31mValueError\u001b[0m: Sample larger than population"
     ]
    }
   ],
   "source": [
    "\"\"\" Create and connect the E,I layers.\n",
    "    Random connections with fixed indegree as a starter. \n",
    "\"\"\"\n",
    "\n",
    "######## CREATE THE NETWORK\n",
    "md = 0.5 # minimum delay of the connections\n",
    "net_params = {'min_delay' : md, 'min_buff_size' : 3, 'rtol':1e-4, 'atol':1e-4 } \n",
    "net = network(net_params)\n",
    "\n",
    "######## CREATE THE E,I UNITS\n",
    "N = 5 # Each layer will have N*N units\n",
    "exc_params = {'tau' : 2., 'function' : make_fe(0.1, 0.2), 'type' : unit_types.custom_fi, \n",
    "              'init_val' : 0.1, 'tau_fast' : 0.2, 'tau_slow' : 20. }\n",
    "inh_params = {'tau' : 3., 'function' : make_fi(0.5, 0.2), 'type' : unit_types.custom_fi, \n",
    "              'init_val' : 0.1, 'tau_fast' : 0.2, 'tau_slow' : 20. }\n",
    "\n",
    "exc = net.create(N*N, exc_params)\n",
    "inh = net.create(N*N, inh_params)\n",
    "\n",
    "######## SET E-I CONNECTIONS\n",
    "# connection specifications\n",
    "EI_conn = {'rule' : 'fixed_indegree', 'indegree' : 10, 'delay' : md}\n",
    "# synapse specifications\n",
    "EI_syn = {'type' : synapse_types.static, 'init_w' : .2}\n",
    "# Static connections and fixed indegree suggest that the inhibitory units will not go without excitation.\n",
    "# connect\n",
    "net.connect(exc, inh, EI_conn, EI_syn)\n",
    "\n",
    "######## SET E-E CONNECTIONS\n",
    "# connection specifications\n",
    "EE_conn = {'rule' : 'fixed_indegree', 'indegree' : 10, 'delay' : md}\n",
    "# synapse specifications\n",
    "EE_syn = {'type' : synapse_types.sq_hebbsnorm, 'init_w' : {'distribution':'uniform', 'low':0., 'high':.1},\n",
    "          'lrate' : 1./200., 'omega' : 3.} \n",
    "# The large g_ee value in Moldakaraimov06 can probably be compensated with omega and the indegree.\n",
    "# connect\n",
    "net.connect(exc, exc, EE_conn, EE_syn)\n",
    "\n",
    "######## SET I-E CONNECTIONS\n",
    "# connection specifications\n",
    "IE_conn = {'rule' : 'fixed_outdegree', 'outdegree' : 10, 'delay' : md}\n",
    "# synapse specifications\n",
    "IE_syn = {'type' : synapse_types.homeo_inh, 'init_w' : {'distribution':'uniform', 'low':-.6, 'high':0.},\n",
    "           'lrate' : 1./100., 'des_act' : 0.3}\n",
    "# connect\n",
    "net.connect(inh, exc, IE_conn, IE_syn)"
   ]
  },
  {
   "cell_type": "code",
   "execution_count": null,
   "metadata": {
    "collapsed": false,
    "scrolled": false
   },
   "outputs": [],
   "source": [
    "\"\"\" Create and connect the input layer. Create the input paterns \n",
    "\"\"\"\n",
    "\n",
    "######### CREATE THE INPUT UNITS\n",
    "inp_params = {'type' : unit_types.source, 'init_val' : 0., 'tau_fast' : 0.2, 'function' : lambda x: None}\n",
    "inp = net.create(N*N, inp_params)\n",
    "\n",
    "######### CONNECT THE INPUT UNITS\n",
    "# connection specifications\n",
    "PE_conn = {'rule' : 'one_to_one', 'delay' : md}\n",
    "PI_conn = {'rule' : 'one_to_one', 'delay' : md}\n",
    "# synapse specifications\n",
    "PE_syn = {'init_w' : {'distribution':'uniform', 'low':4., 'high':5.}, 'omega' : N*N, \n",
    "          'lrate' : 1./100., 'type' : synapse_types.bcm }\n",
    "PI_syn = {'init_w' : {'distribution':'uniform', 'low':4., 'high':5.}, 'omega' : N*N, \n",
    "          'lrate' : 1./100., 'type' : synapse_types.bcm }\n",
    "# connect\n",
    "net.connect(inp, exc, PE_conn, PE_syn)\n",
    "#net.connect(inp, inh, PI_conn, PI_syn)\n",
    "\n",
    "######### CREATE THE INPUT PATTERNS\n",
    "# For the input patterns I use random vectors where each element is 0 or 1. \n",
    "# All patterns will contain the same number of 1 values.\n",
    "n_pat = 5 # number of input patterns\n",
    "n_ones = int(round(N*N)/3) # number of ones in the input patterns\n",
    "basic_pat = np.array( [1.]*n_ones + [0.]*(N*N - n_ones) )\n",
    "basic_pat = basic_pat/sum(basic_pat) # normalizing\n",
    "patterns = [basic_pat.copy() for i in range(n_pat)]\n",
    "for pat in patterns:\n",
    "    np.random.shuffle(pat)\n",
    "\n",
    "# visualize the patterns in a grid\n",
    "inp_fig = plt.figure(figsize=(5,8))\n",
    "cols = int(np.ceil(np.sqrt(n_pat)))\n",
    "rows = int(round(np.sqrt(n_pat)))\n",
    "inp_grid = ImageGrid(inp_fig, 111, nrows_ncols=(rows,cols), axes_pad=0.1)\n",
    "for idx,pat in enumerate(patterns):\n",
    "    copy = pat.copy() # to avoid reshaping the input vectors\n",
    "    copy.shape = N,N\n",
    "    inp_grid[idx].imshow(copy)\n",
    "plt.show()\n"
   ]
  },
  {
   "cell_type": "code",
   "execution_count": null,
   "metadata": {
    "collapsed": false,
    "scrolled": false
   },
   "outputs": [],
   "source": [
    "'''Run the simulation. '''\n",
    "\n",
    "### Pattern pat1 is presented alone for t_pat time units, and then there is a transition period\n",
    "### during which pat1 becomes pat2 by presenting at time t an input \n",
    "### c*(t_pat+t_trans - t)*pat1 + c*(t - tpat)*pat2\n",
    "### where c = 1/t_trans, and t_trans is the duration of the transition period. \n",
    "### At time t_pat+t_trans, pat2 is presented by itself for t_pat time units.\n",
    "n_pres = 100   # number of times some pattern will be presented\n",
    "n_disp = 4  # How many times to store/display simulation data (besides the initial one)\n",
    "t_pat = 20. # time each pattern will be presented\n",
    "t_trans = 5. # length of transition period between patterns\n",
    "interv = int(np.floor(n_pres/n_disp)) # number of iterations per data display\n",
    "idx_d = 0 # index for display data\n",
    "c = 1/t_trans # auxiliary variable for make_fun2\n",
    "pats = range(n_pat) # auxiliary variable to choose a pattern\n",
    "cur_pat = np.random.choice(pats)  # pattern currently presented\n",
    "next_pat = np.random.choice(pats) # next pattern to be presented\n",
    "last_t = 0. # simulation time after last pattern presentation, for make_fun2\n",
    "exc_w = [[] for _ in range(n_disp+1)]  # to show the evolution of excitatory connections\n",
    "inh_w = [[] for _ in range(n_disp+1)]  # to show the evolution of inhibitory connections\n",
    "inp_w = [[] for _ in range(n_disp+1)]  # to show the evolution of input connections\n",
    "start_time = time.time()\n",
    "\n",
    "\n",
    "def make_fun1(idx):  \n",
    "    # This creates a constant function with value: patterns[cur_pat][idx]\n",
    "    # thus avoiding a scoping problem that is sometimes hard to see:\n",
    "    # https://eev.ee/blog/2011/04/24/gotcha-python-scoping-closures/\n",
    "    fun = lambda t : patterns[cur_pat][idx]\n",
    "    return fun\n",
    "\n",
    "def make_fun2(idx, last_t):\n",
    "    # Creates a function for the pattern transition\n",
    "    fun = lambda t : c * ( (t_trans - (t-last_t))*patterns[cur_pat][idx] +\n",
    "                           (t-last_t)*patterns[next_pat][idx] )\n",
    "    return fun\n",
    "\n",
    "for pres in range(n_pres):\n",
    "# For each cycle you'll set the input functions and simulate, once with a single pattern,\n",
    "# once with a mix of patterns, as described above\n",
    "    \n",
    "    # first, we present a single pattern\n",
    "    for u in range(N*N):\n",
    "        net.units[inp[u]].set_function( make_fun1(u) )\n",
    "    \n",
    "    start_time = time.time()\n",
    "    sim_dat = net.run(t_pat)  # simulating\n",
    "    last_t = net.sim_time # simulation time after last pattern presentation\n",
    "    \n",
    "    #plot_stuff(sim_dat, exc, inh, inp)\n",
    "    #input('Fixed pattern presented: ' + str(cur_pat))\n",
    "    \n",
    "    # now one pattern turns into the next\n",
    "    for u in range(N*N):\n",
    "        net.units[inp[u]].set_function(make_fun2(u, last_t))\n",
    "    \n",
    "    sim_dat2 = net.run(t_trans) # simulating\n",
    "    \n",
    "    print('Execution time: at iteration %d is %s seconds' % (pres, (time.time() - start_time)) )\n",
    "    #plot_stuff(sim_dat, exc, inh, inp)\n",
    "    #input('Transitioned to pattern: ' + str(next_pat))\n",
    "\n",
    "    # choose the pattern you'll present next\n",
    "    cur_pat = next_pat\n",
    "    next_pat = np.random.choice(pats)\n",
    "    \n",
    "    if pres == 0 or (pres+1)%interv == 0:\n",
    "        plot_stuff(sim_dat, exc, inh, inp)\n",
    "        plot_stuff(sim_dat2, exc, inh, inp)\n",
    "        # store the synaptic weights\n",
    "        exc_w[idx_d] = [np.zeros(N*N) for _ in range(N*N)]\n",
    "        inh_w[idx_d] = [np.zeros(N*N) for _ in range(N*N)]\n",
    "        inp_w[idx_d] = [np.zeros(N*N) for _ in range(N*N)]\n",
    "        for u in exc: # for each excitatory unit, record its incoming weights\n",
    "            for syn_list in [net.syns[u]]: # recording weights for excitatory units\n",
    "                for syn in syn_list:\n",
    "                    if syn.type is synapse_types.sq_hebbsnorm: # lateral excitatory connection\n",
    "                        exc_w[idx_d][u][syn.preID-exc[0]] = syn.w\n",
    "                    elif syn.type is synapse_types.homeo_inh: # lateral inhibitory connection\n",
    "                        inh_w[idx_d][u][syn.preID-inh[0]] = syn.w\n",
    "                    elif syn.type is synapse_types.bcm: # descending connection\n",
    "                        inp_w[idx_d][u][syn.preID-inp[0]] = syn.w\n",
    "                    else:\n",
    "                        print(\"What???\")\n",
    "        print('Presentation ' + str(pres+1))\n",
    "        idx_d += 1"
   ]
  },
  {
   "cell_type": "code",
   "execution_count": null,
   "metadata": {
    "collapsed": false,
    "scrolled": false
   },
   "outputs": [],
   "source": [
    "# visualize the weights in a grid\n",
    "\n",
    "for vis in range(n_disp):\n",
    "    w_fig = plt.figure(figsize=(30,10))\n",
    "\n",
    "    exw_grid = ImageGrid(w_fig, 131, nrows_ncols=(N,N), share_all=True, label_mode=\"L\",\n",
    "                         axes_pad=0.05, cbar_location=\"top\", cbar_mode=\"single\", )\n",
    "    for idx,exw in enumerate(exc_w[vis]):\n",
    "        exw.shape = N,N\n",
    "        exim = exw_grid[idx].imshow(exw)\n",
    "    exw_grid.cbar_axes[0].colorbar(exim)\n",
    "    \n",
    "    inw_grid = ImageGrid(w_fig, 132, nrows_ncols=(N,N), share_all=True, label_mode=\"L\",\n",
    "                         axes_pad=0.05, cbar_location=\"top\", cbar_mode=\"single\", )\n",
    "    for idx,inw in enumerate(inh_w[vis]):\n",
    "        inw.shape = N,N\n",
    "        inim = inw_grid[idx].imshow(inw)\n",
    "    inw_grid.cbar_axes[0].colorbar(inim)\n",
    "    \n",
    "    ipw_grid = ImageGrid(w_fig, 133, nrows_ncols=(N,N), share_all=True, label_mode=\"L\",\n",
    "                         axes_pad=0.05, cbar_location=\"top\", cbar_mode=\"single\", )\n",
    "    for idx,ipw in enumerate(inp_w[vis]):\n",
    "        ipw.shape = N,N\n",
    "        ipim = ipw_grid[idx].imshow(ipw)\n",
    "    ipw_grid.cbar_axes[0].colorbar(ipim)\n",
    "    \n",
    "    plt.show()\n",
    "\n",
    "\n",
    "    "
   ]
  },
  {
   "cell_type": "code",
   "execution_count": null,
   "metadata": {
    "collapsed": false
   },
   "outputs": [],
   "source": [
    "exc_sums = [sum(sum(exc_w[ii][0]*exc_w[ii][0])) for ii in range(n_disp)]\n",
    "inh_sums = [sum(sum(inh_w[ii][0])) for ii in range(n_disp)]\n",
    "inp_sums = [sum(sum(inp_w[ii][0])) for ii in range(n_disp)]\n",
    "print(exc_sums)\n",
    "print(inh_sums)\n",
    "print(inp_sums)"
   ]
  },
  {
   "cell_type": "code",
   "execution_count": null,
   "metadata": {
    "collapsed": false
   },
   "outputs": [],
   "source": [
    "\"\"\" Next, test if the cells are selective to some of the patterns. Present the five patterns,\n",
    "and see the average response value. \"\"\"\n",
    "# presenting all paterns\n",
    "for pat in patterns:\n",
    "    # first, we present a single pattern\n",
    "    for u in range(N*N):\n",
    "        net.units[inp[u]].set_function( make_fun1(u) )\n",
    "    \n",
    "    start_time = time.time()\n",
    "    sim_dat = net.run(t_pat)  # simulating\n",
    "    last_t = net.sim_time # simulation time after last pattern presentation\n",
    "    \n",
    "    #plot_stuff(sim_dat, exc, inh, inp)\n",
    "    #input('Fixed pattern presented: ' + str(cur_pat))\n",
    "    \n",
    "    # now one pattern turns into the next\n",
    "    for u in range(N*N):\n",
    "        net.units[inp[u]].set_function(make_fun2(u, last_t))\n",
    "    \n",
    "    sim_dat2 = net.run(t_trans) # simulating\n",
    "    \n",
    "    print('Execution time: at iteration %d is %s seconds' % (pres, (time.time() - start_time)) )\n",
    "    #plot_stuff(sim_dat, exc, inh, inp)\n",
    "    #input('Transitioned to pattern: ' + str(next_pat))\n",
    "\n",
    "    # choose the pattern you'll present next\n",
    "    cur_pat = next_pat\n",
    "    next_pat = np.random.choice(pats)\n",
    "    \n",
    "    if pres == 0 or (pres+1)%interv == 0:\n",
    "        plot_stuff(sim_dat, exc, inh, inp)\n",
    "        plot_stuff(sim_dat2, exc, inh, inp)\n",
    "        # store the synaptic weights\n",
    "        exc_w[idx_d] = [np.zeros(N*N) for _ in range(N*N)]\n",
    "        inh_w[idx_d] = [np.zeros(N*N) for _ in range(N*N)]\n",
    "        inp_w[idx_d] = [np.zeros(N*N) for _ in range(N*N)]\n",
    "        for u in exc: # for each excitatory unit, record its incoming weights\n",
    "            for syn_list in [net.syns[u]]: # recording weights for excitatory units\n",
    "                for syn in syn_list:\n",
    "                    if syn.type is synapse_types.sq_hebbsnorm: # lateral excitatory connection\n",
    "                        exc_w[idx_d][u][syn.preID-exc[0]] = syn.w\n",
    "                    elif syn.type is synapse_types.homeo_inh: # lateral inhibitory connection\n",
    "                        inh_w[idx_d][u][syn.preID-inh[0]] = syn.w\n",
    "                    elif syn.type is synapse_types.bcm: # descending connection\n",
    "                        inp_w[idx_d][u][syn.preID-inp[0]] = syn.w\n",
    "                    else:\n",
    "                        print(\"What???\")\n",
    "        print('Presentation ' + str(pres+1))\n",
    "        idx_d += 1"
   ]
  },
  {
   "cell_type": "code",
   "execution_count": null,
   "metadata": {
    "collapsed": false
   },
   "outputs": [],
   "source": [
    "pats"
   ]
  },
  {
   "cell_type": "code",
   "execution_count": null,
   "metadata": {
    "collapsed": false
   },
   "outputs": [],
   "source": [
    "type(np.array([1]))"
   ]
  },
  {
   "cell_type": "code",
   "execution_count": 14,
   "metadata": {
    "collapsed": false
   },
   "outputs": [
    {
     "data": {
      "image/png": "[encoded data removed]",
      "text/plain": [
       "<matplotlib.figure.Figure at 0x7fe6b61f59e8>"
      ]
     },
     "metadata": {},
     "output_type": "display_data"
    }
   ],
   "source": [
    "gas = [[(20,3,17),4033], [(17,2,17), 4410], [(12,1,17),4511], [(27,11,16),3586], [(24,10,16),4153], [(5,10,16),3796],\n",
    " [(26,9,16),2000], [(31,7,17), 3992], [(9,6,17), 4824], [(24,4,17), 4811], [(5,7,17), 4810], [(6,11,16),3410],\n",
    " [(16,7,17), 4783]]\n",
    "days = [31, 28, 31, 30, 31, 30, 31, 31, 30, 31, 30, 31]\n",
    "cumdays = [days[0]] + [0] * 11\n",
    "for i in range(1,12):\n",
    "    cumdays[i] = days[i] + cumdays[i-1]\n",
    "dates = [ e[0][0] + cumdays[e[0][1]] + sum(days)*(e[0][2] - 16) for e in gas]\n",
    "prices = [e[1] for e in gas]\n",
    "fig = plt.figure(figsize=(12,8))\n",
    "plt.plot(dates, prices, 'o')\n",
    "plt.show()"
   ]
  },
  {
   "cell_type": "code",
   "execution_count": null,
   "metadata": {
    "collapsed": true
   },
   "outputs": [],
   "source": []
  }
 ],
 "metadata": {
  "kernelspec": {
   "display_name": "Python 3",
   "language": "python",
   "name": "python3"
  },
  "language_info": {
   "codemirror_mode": {
    "name": "ipython",
    "version": 3
   },
   "file_extension": ".py",
   "mimetype": "text/x-python",
   "name": "python",
   "nbconvert_exporter": "python",
   "pygments_lexer": "ipython3",
   "version": "3.5.2"
  }
 },
 "nbformat": 4,
 "nbformat_minor": 2
}
