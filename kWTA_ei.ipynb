{
 "cells": [
  {
   "cell_type": "markdown",
   "metadata": {},
   "source": [
    "## kWTA_ei\n",
    "This program explores the implementation of a kWTA network using a E-I network.\n",
    "\n",
    "It also sets the infrastructure for:\n",
    "* Visualization of network activity\n",
    "* automatic documentation of simulation sessions\n",
    "* saving network and session states\n",
    "* parallel parameter search\n",
    "\n",
    "Sergio Verduzco,               \n",
    "October 2017"
   ]
  },
  {
   "cell_type": "code",
   "execution_count": 1,
   "metadata": {
    "collapsed": false
   },
   "outputs": [],
   "source": [
    "from draculab import *\n",
    "from matplotlib import pyplot as plt\n",
    "import time\n",
    "from matplotlib.animation import FuncAnimation\n",
    "import dill\n",
    "from pathos.multiprocessing import ProcessingPool"
   ]
  },
  {
   "cell_type": "code",
   "execution_count": 2,
   "metadata": {
    "collapsed": true
   },
   "outputs": [],
   "source": [
    "%%capture capt \n",
    "# logging draculab version used for this session\n",
    "print('======================================================')\n",
    "print('| kWTA_unit is currently using this draculab commit: |')\n",
    "print('======================================================')\n",
    "!git log -1 --oneline --color=never"
   ]
  },
  {
   "cell_type": "code",
   "execution_count": 3,
   "metadata": {
    "collapsed": true
   },
   "outputs": [],
   "source": [
    "# Write the output of the cell above in the simulation log\n",
    "with open('kWTA_ei_simlog.txt', 'a') as f:\n",
    "    f.write(capt.stdout)\n",
    "    f.close()"
   ]
  },
  {
   "cell_type": "code",
   "execution_count": 4,
   "metadata": {
    "collapsed": false
   },
   "outputs": [],
   "source": [
    "class ei_net():\n",
    "    def __init__(self):\n",
    "        # The history list will store strings containing the instructions doing parameter changes, \n",
    "        # building the network, or running a simulation.\n",
    "        self.history = [\"__init__ at \" + time.ctime()]\n",
    "        \"\"\" All the default parameter dictionaries are below. \"\"\"\n",
    "        # parameter dictionary for the network\n",
    "        self.net_params = {'min_delay' : 0.1, # notice delays below are set using this value\n",
    "                           'min_buff_size' : 5 } \n",
    "        # parameter dictionary for the excitatory units\n",
    "        self.unit_pars = {'init_val' : 0.5, \n",
    "                          'slope' : 2.,\n",
    "                          'thresh' : 1.,\n",
    "                          'tau' : 0.1,\n",
    "                          'tau_fast' : 0.2,\n",
    "                          'tau_slow' : 1.,\n",
    "                          'type' : unit_types.sigmoidal }\n",
    "        # geometry dictionary for both excitatory and inhibitory populations\n",
    "        self.geom = {'shape':'sheet', \n",
    "                     'extent':[1.,1.], \n",
    "                     'center':[0.,0.], \n",
    "                     'arrangement':'grid', \n",
    "                     'rows':10, \n",
    "                     'columns':10, \n",
    "                     'jitter' : 0.02 }\n",
    "        # parameters for the inhibitory units\n",
    "        self.inh_pars = {'init_val' : 0.5, \n",
    "                         'slope' : 4.,\n",
    "                         'thresh' : .5,\n",
    "                         'tau' : 0.1,\n",
    "                         'tau_fast' : 0.2,\n",
    "                         'tau_slow' : 1.,\n",
    "                         'type' : unit_types.sigmoidal } \n",
    "        # parameters for the input units\n",
    "        self.n_units = {'inp' : 4} # number of input units\n",
    "        self.inp_pars = {'type' : unit_types.source,\n",
    "                         'init_val' : 0.,\n",
    "                         'tau_fast' : 0.2,\n",
    "                         'function' : lambda x: None }\n",
    "        # E-E connections\n",
    "        self.e2e_conn = {'connection_type' : 'convergent',\n",
    "            'mask' : {'circular': {'radius': 0.15}},\n",
    "            'kernel' : 1., #{'gaussian' : {'p_center' : 1.1, 'sigma' : 0.3} },\n",
    "            'delays' : {'linear' : {'c' : self.net_params['min_delay'], 'a' : 0.1}},\n",
    "            'weights' : {'linear' : {'c' : 0.3, 'a' : 0.1}},\n",
    "            #'number_of_connections' : 6,\n",
    "            'allow_autapses' : True,\n",
    "            'allow_multapses' : False,\n",
    "            'edge_wrap' : True,\n",
    "            'boundary' : {'center': np.array(self.geom['center']), 'extent' : self.geom['extent']} }\n",
    "        self.e2e_syn = {'type' : synapse_types.static }\n",
    "        # E-I connections\n",
    "        self.e2i_conn = {'connection_type' : 'convergent',\n",
    "            'mask' : {'annular': {'inner_radius': 0.15, 'outer_radius': 0.4}},\n",
    "            'kernel' : 1.,\n",
    "            'delays' : {'linear' : {'c' : self.net_params['min_delay'], 'a' : 0.1}},\n",
    "            'weights' : {'linear' : {'c' : 0.1, 'a' : 0.01}},\n",
    "            #'number_of_connections' : 14,\n",
    "            'edge_wrap' : True,\n",
    "            'boundary' : {'center': np.array(self.geom['center']), 'extent' : self.geom['extent']} }\n",
    "        self.e2i_syn = {'type' : synapse_types.static }\n",
    "        # I-E connections\n",
    "        self.i2e_conn = {'connection_type' : 'convergent',\n",
    "            'mask' : {'circular': {'radius': 0.15}},\n",
    "            'kernel' : 1,\n",
    "            'delays' : {'linear' : {'c' : self.net_params['min_delay'], 'a' : 0.1}},\n",
    "            'weights' : {'linear' : {'c' : -.1, 'a' : 0.001}},\n",
    "            'edge_wrap' : True,\n",
    "            'boundary' : {'center': np.array(self.geom['center']), 'extent' : self.geom['extent']} }\n",
    "        self.i2e_syn = {'type' : synapse_types.homeo_inh,\n",
    "            'lrate' : 0.1,\n",
    "            'des_act' : 0.3 }\n",
    "        # inputs to E and I\n",
    "        self.i2u_conn_spec = {'rule' : 'all_to_all',\n",
    "                 'delay' : self.net_params['min_delay'] }\n",
    "        self.i2u_syn_spec = {'type' : synapse_types.bcm,\n",
    "                'lrate' : 0.05,\n",
    "                'init_w' : {'distribution' : 'equal_norm', 'norm' : 1.} }\n",
    "        self.notes = '' # comments after visualizing simulation results\n",
    "        # fixing random seed\n",
    "        seed = 19680801\n",
    "        np.random.seed(seed)\n",
    "        # I also use the 'random' module, so I should also run random.seed(seed).\n",
    "        self.history.append('np.random.seed = ' + str(seed))\n",
    "        \n",
    "        \n",
    "    def build(self):\n",
    "        \"\"\" Create the draculab network. \"\"\"\n",
    "        # store record of network being built\n",
    "        self.history.append('build()')\n",
    "        # Set derived parameters\n",
    "        self.e2e_conn['delays'] = {'linear' : {'c' : self.net_params['min_delay'], 'a' : 0.1}}\n",
    "        self.e2i_conn['delays'] = {'linear' : {'c' : self.net_params['min_delay'], 'a' : 0.1}}\n",
    "        self.i2e_conn['delays'] = {'linear' : {'c' : self.net_params['min_delay'], 'a' : 0.1}}\n",
    "        self.i2u_conn_spec['delay'] = self.net_params['min_delay']\n",
    "        self.e2e_conn['boundary'] = {'center': np.array(self.geom['center']), 'extent' : self.geom['extent']}\n",
    "        self.e2i_conn['boundary'] = {'center': np.array(self.geom['center']), 'extent' : self.geom['extent']}\n",
    "        self.i2e_conn['boundary'] = {'center': np.array(self.geom['center']), 'extent' : self.geom['extent']}\n",
    "        # Create an auxiliary topology object\n",
    "        topo = topology()\n",
    "        # Create network\n",
    "        self.net = network(self.net_params)\n",
    "        # Create excitatory population\n",
    "        self.units = topo.create_group(self.net, self.geom, self.unit_pars)\n",
    "        # Create group of inhibitory units\n",
    "        self.inh = topo.create_group(self.net, self.geom, self.inh_pars)\n",
    "        # Create input units\n",
    "        self.inp = self.net.create(self.n_units['inp'], self.inp_pars)\n",
    "        # E-E connections\n",
    "        topo.topo_connect(self.net, self.units, self.units, self.e2e_conn, self.e2e_syn)\n",
    "        # E-I connections\n",
    "        topo.topo_connect(self.net, self.units, self.inh, self.e2i_conn, self.e2i_syn)\n",
    "        # I-E connections\n",
    "        topo.topo_connect(self.net, self.inh, self.units, self.i2e_conn, self.i2e_syn)\n",
    "        # Connect the inputs to the units\n",
    "        self.net.connect(self.inp, self.units, self.i2u_conn_spec, self.i2u_syn_spec)\n",
    "        self.net.connect(self.inp, self.inh, self.i2u_conn_spec, self.i2u_syn_spec)\n",
    "        \n",
    "    def set_param(self, dictionary, entry, value):\n",
    "        \"\"\" Change a value in a parameter dictionary. \n",
    "        \n",
    "            dictionary: a string with the name of one of the parameter dictionaries in __init__\n",
    "            entry: a string with the name of the entry we'll modify\n",
    "            value: the value we'll assign (can be any appropriate Python object) \n",
    "        \"\"\"\n",
    "        if 'build()' in self.history:\n",
    "            raise AssertionError('Setting a parameter value after network has been built')     \n",
    "        self.__getattribute__(dictionary)[entry] = value  # set the new value\n",
    "        self.history.append(dictionary + '[\\'' + entry + '\\'] = ' + str(value) ) # record assignment\n",
    "            \n",
    "    def make_sin_pulse(self, t_init, t_end, per, amp): \n",
    "        \"\"\" This function returns a function implementing a localized sinusoidal bump(s). \"\"\"\n",
    "        return lambda t : amp * ( np.sqrt( 0.5 * (1. + \n",
    "                      np.sin( np.pi*( 2.*(t - t_init)/per - 0.5 ) ) ) ) ) if (t_init < t and t < t_end) else 0.\n",
    "\n",
    "    def input_vector(self):\n",
    "        \"\"\"This function returns an input vector. Different distributions can be implemented with this. \"\"\"\n",
    "        # right now it's just random vectors with unit norm\n",
    "        vec = np.random.uniform(0., 1., self.n_units['inp'])\n",
    "        return  vec / np.linalg.norm(vec)\n",
    "        \n",
    "    def run(self, n_pres, pres_time):\n",
    "        \"\"\" Run a simulation, presenting n_pres patterns, each lasting pres_time. \n",
    "            \n",
    "            Updates:\n",
    "                self.all_times: 1-D numpy array with the times for each data point in all_activs.\n",
    "                self.all_activs: 2-D numpy array with the activity of all units at each point in all_times. \n",
    "        \"\"\"\n",
    "        # store a record of this simulation\n",
    "        self.history.append('run(' + str(n_pres) + ',' + str(pres_time) + ')') \n",
    "        # initialize storage of results\n",
    "        self.all_times = []\n",
    "        self.all_activs = []\n",
    "        start_time = time.time()\n",
    "        # present input patterns\n",
    "        for pres in range(n_pres):\n",
    "            print('Simulating presentation ' + str(pres), end='\\r')\n",
    "            pres_start = time.time()\n",
    "            t = self.net.sim_time\n",
    "            inp_vec = self.input_vector()\n",
    "            for i in self.inp:\n",
    "                self.net.units[i].set_function(self.make_sin_pulse(t, t+pres_time, pres_time, inp_vec[i-self.inp[0]]))\n",
    "        \n",
    "            times, activs, plants = self.net.run(pres_time)\n",
    "            self.all_times.append(times)\n",
    "            self.all_activs.append(activs)\n",
    "            print('Presentation %s lasted %s seconds.' % (pres, time.time() - pres_start), end='\\n')\n",
    "\n",
    "        self.all_times = np.concatenate(self.all_times)\n",
    "        self.all_activs = np.concatenate(self.all_activs, axis=1)\n",
    "        print('Execution time is %s seconds' % (time.time() - start_time)) \n",
    "        return self # see rant on multiprocessing\n",
    "        \n",
    "    def basic_plot(self):\n",
    "        #%matplotlib inline\n",
    "        inp_fig = plt.figure(figsize=(10,5))\n",
    "        inputs = np.transpose([self.all_activs[i] for i in self.inp])\n",
    "        plt.plot(self.all_times, inputs, linewidth=1, figure=inp_fig)\n",
    "        plt.title('Inputs')\n",
    "\n",
    "        unit_fig = plt.figure(figsize=(10,5))\n",
    "        some_acts = np.transpose(self.all_activs[[self.units[i] for i in [0,1,-1,-2]]])\n",
    "        plt.plot(self.all_times, some_acts, figure=unit_fig)\n",
    "        plt.title('Some unit activities')\n",
    "\n",
    "        inh_fig = plt.figure(figsize=(10,5))\n",
    "        some_inh = np.transpose(self.all_activs[[self.inh[i] for i in [0,1,-1,-2]]])\n",
    "        plt.plot(self.all_times, some_inh, figure=inh_fig)\n",
    "        plt.title('some inhibitory units')\n",
    "\n",
    "        plt.show()\n",
    "        \n",
    "    def activ_anim(self, thr, slider=False):\n",
    "        \"\"\" An animation to visualize the activity of the excitatory units. \n",
    "        \n",
    "            Units whose activity surpasses 'thr' will be highlighted.\n",
    "            It is assumed that this import statement has happened:\n",
    "            from matplotlib.animation import FuncAnimation\n",
    "        \"\"\"\n",
    "        %matplotlib qt5\n",
    "        # notebook or qt5 \n",
    "\n",
    "        self.unit_fig = plt.figure(figsize=(7,7))\n",
    "        self.ax = self.unit_fig.add_axes([0, 0, 1, 1], frameon=False)\n",
    "        self.ax.set_xlim(-1, 1), self.ax.set_xticks([])\n",
    "        self.ax.set_ylim(-1, 1), self.ax.set_yticks([])\n",
    "        xcoords = [ u.coordinates[0] for u in [self.net.units[i] for i in self.units] ]\n",
    "        ycoords = [ u.coordinates[1] for u in [self.net.units[i] for i in self.units] ]\n",
    "        self.scat = self.ax.scatter(xcoords, ycoords, s=20.*self.all_activs[self.units,0])\n",
    "        self.n_data = len(self.all_activs[0])\n",
    "        self.act_thr = thr\n",
    "        \n",
    "        if not slider:\n",
    "            animation = FuncAnimation(self.unit_fig, self.update_act_anim, \n",
    "                                  interval=100, save_count=int(round(self.net.sim_time/self.net.min_delay)))    \n",
    "            return animation\n",
    "        else:\n",
    "            from ipywidgets import interact\n",
    "            widget = interact(self.update_act_anim, frame=(1,self.n_data))\n",
    "            return widget\n",
    "        \n",
    "    def color_fun(self, activ):\n",
    "        # given the units activity, maps into a color. activ may be an array.\n",
    "        activ =  np.maximum(0.1,  activ*np.maximum(np.sign(activ - 0.8), 0.))\n",
    "        return np.outer(activ, np.array([0., .5, 1., .5]))\n",
    "\n",
    "    def update_act_anim(self, frame):\n",
    "        # Each frame advances one simulation step (min_delay time units)\n",
    "        idx = frame%self.n_data\n",
    "        cur_time = self.net.min_delay*idx\n",
    "        self.scat.set_sizes(300.*self.all_activs[self.units,idx])\n",
    "        self.scat.set_color(self.color_fun(self.all_activs[self.units,idx]))\n",
    "        self.unit_fig.suptitle('Time: ' + '{:f}'.format(cur_time))\n",
    "        return self.ax,\n",
    "\n",
    "    def conn_anim(self, source, sink, interv=100):\n",
    "        \"\"\" An animation to visualize the connectivity of Exc. and Inh. populations. \n",
    "    \n",
    "            source and sink are lists with the IDs of the units whose connections we'll\n",
    "            visualize. Each frame of the animation shows: for a particular unit in source,\n",
    "            all the neurons in sink that receive connections from it (left plot), and for \n",
    "            a particular unit in sink, all the units in source that send it connections\n",
    "            (right plot).\n",
    "        \n",
    "            interv is the refresh interval (in ms) used by FuncAnimation \n",
    "        \n",
    "            It is assumed that this import statement has happened:\n",
    "            from matplotlib.animation import FuncAnimation\n",
    "        \"\"\"\n",
    "        %matplotlib qt5\n",
    "        # notebook or qt5 \n",
    "        \n",
    "        # update_conn_anim uses these values\n",
    "        self.len_source = len(source)\n",
    "        self.len_sink = len(sink)\n",
    "        self.source_0 = source[0]\n",
    "        self.sink_0 = sink[0]\n",
    "\n",
    "        # flattening net.syns, leaving only the source-sink connections \n",
    "        self.all_syns = []\n",
    "        for syn_list in [self.net.syns[i] for i in sink]:\n",
    "            syn_list = [s for s in syn_list if s.preID in source]\n",
    "            self.all_syns += syn_list\n",
    "    \n",
    "        # getting lists with the coordinates of all source, sink units\n",
    "        source_coords = [u.coordinates for u in [self.net.units[i] for i in source]]\n",
    "        sink_coords = [u.coordinates for u in [self.net.units[i] for i in sink]]\n",
    "        source_x = [c[0] for c in source_coords]\n",
    "        source_y = [c[1] for c in source_coords]\n",
    "        sink_x = [c[0] for c in sink_coords]\n",
    "        sink_y = [c[1] for c in sink_coords]\n",
    "\n",
    "        # setting colors\n",
    "        self.std_src = [0., 0.5, 0.1, 0.5]\n",
    "        self.std_snk = [1., 0.5, 0.5, 0.5]\n",
    "        self.big_src = [0., 0., 0., 1.]\n",
    "        self.big_snk = [0., 1., 0., 1.]\n",
    "\n",
    "        # constructing figure, axes, path collections\n",
    "        self.conn_fig = plt.figure(figsize=(9,5))\n",
    "        self.ax1 = self.conn_fig.add_axes([0.0, 0.01, .49, 0.95], frameon=True, aspect=1)\n",
    "        self.ax2 = self.conn_fig.add_axes([0.51, 0.01, .49, 0.95], frameon=True, aspect=1)\n",
    "        self.src_col1 = self.ax1.scatter(source_x, source_y, s=2, c=self.std_src)\n",
    "        self.snk_col1 = self.ax1.scatter(sink_x, sink_y, s=2, c=self.std_snk)\n",
    "        self.src_col2 = self.ax2.scatter(source_x, source_y, s=2, c=self.std_src)\n",
    "        self.snk_col2 = self.ax2.scatter(sink_x, sink_y, s=2, c=self.std_snk)\n",
    "        self.ax1.set_title('sent connections')\n",
    "        self.ax2.set_title('received connections')\n",
    "        self.ax2.set_yticks([])\n",
    "        \n",
    "        animation = FuncAnimation(self.conn_fig, self.update_conn_anim, interval=interv, blit=True)\n",
    "        return animation\n",
    "\n",
    "    def update_conn_anim(self, frame): \n",
    "        sou_u = frame%self.len_source # source unit whose receivers we'll visualize\n",
    "        snk_u = frame%self.len_sink # sink unit whose senders we'll visualize\n",
    "    \n",
    "        # PLOTTING THE RECEIVERS OF sou_u ON THE LEFT AXIS\n",
    "        source_sizes = np.tile(2, self.len_source)\n",
    "        sink_sizes = np.tile(2, self.len_sink)\n",
    "        source_colors = np.tile(self.std_src,(self.len_source,1))\n",
    "        sink_colors = np.tile(self.std_snk, (self.len_sink,1))\n",
    "        source_sizes[sou_u] = 30\n",
    "        source_colors[sou_u] = self.big_src\n",
    "        # getting targets of projections from the unit 'sou_u'\n",
    "        targets = [syn.postID - self.sink_0 for syn in self.all_syns if syn.preID == sou_u + self.source_0]\n",
    "        # setting the colors and sizes\n",
    "        sink_colors[targets] = self.big_snk\n",
    "        sink_sizes[targets] = 15\n",
    "        self.src_col1.set_sizes(source_sizes)\n",
    "        #ax1.get_children()[0].set_sizes(source_sizes)   # sizes for the source units\n",
    "        self.snk_col1.set_sizes(sink_sizes)   \n",
    "        self.src_col1.set_color(source_colors)\n",
    "        self.snk_col1.set_color(sink_colors)\n",
    "        \n",
    "        # PLOTTING THE SENDERS TO snk_u ON THE RIGHT AXIS\n",
    "        source_sizes = np.tile(2, self.len_source)\n",
    "        sink_sizes = np.tile(2, self.len_sink)\n",
    "        source_colors = np.tile(self.std_src, (self.len_source,1))\n",
    "        sink_colors = np.tile(self.std_snk, (self.len_sink,1))\n",
    "        sink_sizes[snk_u] = 30\n",
    "        sink_colors[snk_u] = self.big_snk\n",
    "        # getting senders of projections to the unit 'snk_u'\n",
    "        senders = [syn.preID - self.source_0 for syn in self.all_syns if syn.postID == snk_u + self.sink_0]\n",
    "        # setting the colors and sizes\n",
    "        source_colors[senders] = self.big_src\n",
    "        source_sizes[senders] = 15\n",
    "        self.src_col2.set_sizes(source_sizes)\n",
    "        self.snk_col2.set_sizes(sink_sizes)   \n",
    "        self.src_col2.set_color(source_colors)\n",
    "        self.snk_col2.set_color(sink_colors)\n",
    "    \n",
    "        return self.ax1, self.ax2,\n",
    "    \n",
    "    def annotate(self, string, make_history=True):\n",
    "        \"\"\" Append a string to self.notes and self.history. \"\"\"\n",
    "        self.notes += string + '\\n'\n",
    "        if make_history:\n",
    "            self.history.append(string)\n",
    "            \n",
    "    def log(self, name=\"kWTA_ei_simlog.txt\"):\n",
    "        with open(name, 'a') as f:\n",
    "            f.write('~~~~~~~~~~~~~~~~~~~~~~~~~~~~~~~~~~~~~~~\\n')\n",
    "            f.write('---------Logging ei_net object---------\\n')\n",
    "            f.write('HISTORY \\n')\n",
    "            for entry in self.history:\n",
    "                f.write(entry + '\\n')\n",
    "            f.write('NOTES \\n')\n",
    "            f.write(self.notes)\n",
    "            f.write('\\n')\n",
    "            f.close()\n",
    "        \n",
    "    def save(self, name=\"kWTA_ei_pickled.pkl\"):\n",
    "        \"\"\" Saving simulation results. \n",
    "            A draculab network contains lists with functions, so it is not picklable. \n",
    "            But it can be serialized with dill: https://github.com/uqfoundation/dill \n",
    "            \n",
    "            After saving, retrieve object using, for example:\n",
    "            F = open(\"kWTA_ei_pickled.pkl\", 'rb')\n",
    "            ei = dill.load(F)\n",
    "            F.close()\n",
    "        \"\"\"\n",
    "        self.history.append('ei_sim object being saved as ' + name)\n",
    "        F = open(name, 'wb')\n",
    "        dill.dump(self, F)\n",
    "        F.close()\n",
    "        "
   ]
  },
  {
   "cell_type": "code",
   "execution_count": 5,
   "metadata": {
    "collapsed": false,
    "scrolled": false
   },
   "outputs": [
    {
     "name": "stdout",
     "output_type": "stream",
     "text": [
      "Presentation 0 lasted 28.398596048355103 seconds.\n",
      "Execution time is 28.399197578430176 seconds\n"
     ]
    },
    {
     "data": {
      "text/plain": [
       "<__main__.ei_net at 0x7f96447ab940>"
      ]
     },
     "execution_count": 5,
     "metadata": {},
     "output_type": "execute_result"
    }
   ],
   "source": [
    "\"\"\" This cell runs a simulation using the ei_net class. \"\"\"\n",
    "# init \n",
    "ei = ei_net()\n",
    "# parameter changes\n",
    "ei.annotate('Increase number of units in order to enable patches.')\n",
    "ei.set_param('geom', 'rows', 15)\n",
    "ei.set_param('geom', 'columns', 15)\n",
    "ei.annotate('If increasing density of units, reduce radii proportionately.')\n",
    "ei.set_param('e2e_conn', 'mask', {'circular': {'radius': 0.1}} )\n",
    "ei.set_param('e2i_conn', 'mask', {'annular': {'inner_radius': 0.1, 'outer_radius': 0.4}} )\n",
    "ei.annotate('Increased number of exc to inh connections, now reduce their weights.')\n",
    "ei.set_param('e2i_conn', 'weights', {'linear' : {'c' : 0.1, 'a' : 0.01}} )\n",
    "ei.set_param('i2e_conn', 'mask', {'circular': {'radius': 0.07}} )\n",
    "ei.annotate('Increase homeostatic inhibition by reducing des_act.')\n",
    "ei.set_param('i2e_syn', 'des_act', 0.2)\n",
    "ei.annotate('Inhibitory units are fast to avoid certain oscillations.')\n",
    "ei.set_param('inh_pars', 'tau', 0.05)\n",
    "\n",
    "# build\n",
    "ei.build()\n",
    "# simulate\n",
    "n_presentations = 1\n",
    "t_presentation = 1\n",
    "ei.run(n_presentations, t_presentation)"
   ]
  },
  {
   "cell_type": "code",
   "execution_count": 6,
   "metadata": {
    "collapsed": true
   },
   "outputs": [],
   "source": [
    "ei.annotate('First simulation done. Saving file.', make_history=False)\n",
    "ei.save()"
   ]
  },
  {
   "cell_type": "raw",
   "metadata": {
    "collapsed": false
   },
   "source": [
    "\"Profiling cell\"\n",
    "import cProfile\n",
    "import pstats\n",
    "# init \n",
    "eip = ei_net()\n",
    "# parameter changes\n",
    "# build\n",
    "eip.build()\n",
    "# simulate\n",
    "n_presentations = 5\n",
    "t_presentation = 5\n",
    "cProfile.run('eip.run(n_presentations, t_presentation)', 'restats')\n",
    "prof = pstats.Stats('restats')\n",
    "prof.sort_stats('cumulative').print_stats(30)"
   ]
  },
  {
   "cell_type": "code",
   "execution_count": 9,
   "metadata": {
    "collapsed": false,
    "scrolled": false
   },
   "outputs": [
    {
     "data": {
      "image/png": "[encoded data removed]",
      "text/plain": [
       "<matplotlib.figure.Figure at 0x7f96104891d0>"
      ]
     },
     "metadata": {},
     "output_type": "display_data"
    },
    {
     "data": {
      "image/png": "[encoded data removed]",
      "text/plain": [
       "<matplotlib.figure.Figure at 0x7f96108d9b00>"
      ]
     },
     "metadata": {},
     "output_type": "display_data"
    },
    {
     "data": {
      "image/png": "[encoded data removed]",
      "text/plain": [
       "<matplotlib.figure.Figure at 0x7f960f394748>"
      ]
     },
     "metadata": {},
     "output_type": "display_data"
    }
   ],
   "source": [
    "\"\"\" Some plots to get a general idea. \"\"\"\n",
    "%matplotlib inline\n",
    "ei.basic_plot()"
   ]
  },
  {
   "cell_type": "code",
   "execution_count": 11,
   "metadata": {
    "collapsed": false,
    "scrolled": false
   },
   "outputs": [],
   "source": [
    "\"\"\" Visualize the activity after the simulation. \"\"\"\n",
    "act_ani = ei.activ_anim(0.8, slider=False)\n",
    "#act_ani.save('act_ani.mp4') # save animation as an mp4 file"
   ]
  },
  {
   "cell_type": "code",
   "execution_count": 53,
   "metadata": {
    "collapsed": false
   },
   "outputs": [],
   "source": [
    "\"\"\" View the connections. \"\"\"\n",
    "conn_ani = ei.conn_anim(ei.units, ei.inh)"
   ]
  },
  {
   "cell_type": "code",
   "execution_count": 13,
   "metadata": {
    "collapsed": false
   },
   "outputs": [
    {
     "name": "stdout",
     "output_type": "stream",
     "text": [
      "Presentation 0 lasted 166.90835332870483 seconds.\n",
      "Presentation 1 lasted 186.49445462226868 seconds.\n",
      "Presentation 2 lasted 189.58865404129028 seconds.\n",
      "Presentation 3 lasted 196.24937462806702 seconds.\n",
      "Presentation 4 lasted 150.2432632446289 seconds.\n",
      "Execution time is 889.4863011837006 seconds\n"
     ]
    },
    {
     "data": {
      "text/plain": [
       "<__main__.ei_net at 0x7f177c13f5f8>"
      ]
     },
     "execution_count": 13,
     "metadata": {},
     "output_type": "execute_result"
    }
   ],
   "source": [
    "\"\"\" Running again from the last state. \"\"\"\n",
    "# Executing run again overwrites the results from the last simulation.\n",
    "n_presentations = 5\n",
    "t_presentation = 5\n",
    "ei.run(n_presentations, t_presentation)"
   ]
  },
  {
   "cell_type": "code",
   "execution_count": 7,
   "metadata": {
    "collapsed": false
   },
   "outputs": [
    {
     "name": "stdout",
     "output_type": "stream",
     "text": [
      "Initial sim_time: 0.9999999999999999\n",
      "Presentation 0 lasted 97.25254011154175 seconds.\n",
      "Execution time is 97.25338339805603 seconds\n"
     ]
    },
    {
     "data": {
      "text/plain": [
       "<__main__.ei_net at 0x7f96104e0e48>"
      ]
     },
     "execution_count": 7,
     "metadata": {},
     "output_type": "execute_result"
    }
   ],
   "source": [
    "\"\"\" Retrieving a 'dilled' ei_net object and running again. \"\"\"\n",
    "F = open(\"kWTA_ei_pickled.pkl\", 'rb')\n",
    "ei = dill.load(F)\n",
    "F.close()\n",
    "print('Initial sim_time: ' + str(ei.net.sim_time))\n",
    "n_presentations = 1\n",
    "t_presentation = 4\n",
    "ei.run(n_presentations, t_presentation)"
   ]
  },
  {
   "cell_type": "code",
   "execution_count": 8,
   "metadata": {
    "collapsed": true
   },
   "outputs": [],
   "source": [
    "ei.log()"
   ]
  },
  {
   "cell_type": "markdown",
   "metadata": {},
   "source": [
    "## Regarding multiprocessing/multithreading as done below.\n",
    "\n",
    "When importing Pool from the `multiprocessing` module, `pool.map` will provide a multiprocess version of the `map` function.\n",
    "When importing Pool from the `multiprocessing.dummy` module, `pool.map` will provide a multithread version of the `map` function.\n",
    "See: http://chriskiehl.com/article/parallelism-in-one-line/\n",
    "\n",
    "Both multithreading and multiprocessing can't currently work this way. \n",
    "\n",
    "As draculab currently is, you can't multithread because `scipy.integrate.odeint` uses the Isoda solver, which can't have two instances running at the same time. See: https://docs.scipy.org/doc/scipy-0.17.1/reference/generated/scipy.integrate.ode.html#scipy.integrate.odeint .\n",
    "\n",
    "A possible solution is to replace odeint with `scipy.integrate.ode`, using the set_integrator method to set \"dopri5\" as the solver. This seems error prone, and probably isn't worth it considering the GIL issue with Python threads.\n",
    "\n",
    "The problem with multiprocessing, as implemented with `multiprocessing.pool.map`, is that the draculab network instances need to be pickled, and yet, they are not picklable. The solution is to give Python a way to pickle the ei_net objects: https://stackoverflow.com/questions/1816958/cant-pickle-type-instancemethod-when-using-multiprocessing-pool-map . To achieve this, the simplest solution may be to use `dill`.\n",
    "\n",
    "Since there is a `copyreg` module to give pickle the right functions to serialize/deserialize a particular type of object, it seemed like I could get away with:\n",
    "\n",
    "    import dill\n",
    "    import copyreg\n",
    "    # The next lines specify the methods to pickle and unpickle draculab networks\n",
    "    copyreg.constructor(dill.loads) # declares dill.loads to be a valid constructor\n",
    "    copyreg.pickle(network, dill.dumps, dill.loads) \n",
    "Unfortunately, this causes the pickling process to go into untold (infinite?) depths of recursion, higher than 10000.\n",
    "\n",
    "Fortunately, the makers of dill also have their own multiprocessing module, which works with dill:\n",
    "\n",
    "https://stackoverflow.com/questions/19984152/what-can-multiprocessing-and-dill-do-together?rq=1\n",
    "\n",
    "https://github.com/uqfoundation/pathos\n",
    "\n",
    "This works well, but there is still one more caveat. My `ei_net.run` function stores its results in member arrays, as well as in the network's synaptic weights and state. When we call the `run` method with `ProcessingPool.map`, however, the `ei_net` object is not modified. `map` actually pickles the object, and ships it to a process where it is unpacked and worked on. This unpacked object is a clone of the original `ei_net` object, and it is discarded once its `run` method is finished (https://stackoverflow.com/questions/15857838/modify-object-in-python-multiprocessing#15858559). Thus, all the results are in objects that get discarded.\n",
    "\n",
    "The solution I have is to make the `ei_net.run` method return its `ei_net` instance, so `pool.map` will return a list with the `ei_net` instances that were actually executed.\n",
    "This is why the original `ei_nets` list used below replaced by the results of `pool.map`. Otherwise it would be left populated by instances that have never been run. "
   ]
  },
  {
   "cell_type": "code",
   "execution_count": null,
   "metadata": {
    "collapsed": false,
    "scrolled": true
   },
   "outputs": [],
   "source": [
    "\"\"\" Running multiprocess parameter exploration. \"\"\"\n",
    "\n",
    "\n",
    "class mp_ei():\n",
    "    def __init__(self):\n",
    "        self.n_procs = 5\n",
    "        self.n_nets = 6\n",
    "        self.n_pres = [10,10,10,10,10,15]  # number of presentations for each net\n",
    "        self.t_pres = [5, 3, 5, 5, 5, 5]  # duration of presentations for each net\n",
    "        self.ei_nets = [ei_net() for _ in range(self.n_nets)]\n",
    "        \n",
    "        # Setting the parameter changes for all networks\n",
    "        ## First, set baseline changes\n",
    "        for ei in ei_nets:\n",
    "            ei.annotate('Increase number of units in order to enable patches.')\n",
    "            ei.set_param('geom', 'rows', 15)\n",
    "            ei.set_param('geom', 'columns', 15)\n",
    "            ei.annotate('If increasing density of units, reduce radii proportionately.')\n",
    "            ei.set_param('e2e_conn', 'mask', {'circular': {'radius': 0.1}} )\n",
    "            ei.set_param('e2i_conn', 'mask', {'annular': {'inner_radius': 0.1, 'outer_radius': 0.4}} )\n",
    "            ei.annotate('Increased number of exc to inh connections, now reduce their weights.')\n",
    "            ei.set_param('e2i_conn', 'weights', {'linear' : {'c' : 0.1, 'a' : 0.01}} )\n",
    "            ei.set_param('i2e_conn', 'mask', {'circular': {'radius': 0.07}} )\n",
    "            ei.annotate('Increase homeostatic inhibition by reducing des_act.')\n",
    "            ei.set_param('i2e_syn', 'des_act', 0.2)\n",
    "            ei.annotate('Inhibitory units are fast to avoid certain oscillations.')\n",
    "            ei.set_param('inh_pars', 'tau', 0.05)\n",
    "        ## Now adjust networks individually\n",
    "        ### network 0 is the baseline\n",
    "        ### network 1\n",
    "        self.ei_nets[1].annotate('This network has a shorter presentation time.')\n",
    "        ### network 2\n",
    "        self.ei_nets[1].annotate('This network deals with inhibitory saturation using homeostatic excitation in the E-I connections!.')\n",
    "        \n",
    "        self.ei_nets[0].set_param('geom', 'rows', 15)\n",
    "        self.ei_nets[0].set_param('geom', 'columns', 15)\n",
    "        self.ei_nets[0].set_param('e2e_conn', 'mask', {'circular': {'radius': 0.1}} )\n",
    "        self.ei_nets[1].set_param('geom', 'rows', 10)\n",
    "        self.ei_nets[1].set_param('geom', 'columns', 10)\n",
    "        self.ei_nets[1].set_param('n_units', 'inp', 4)\n",
    "        \n",
    "\n",
    "\n",
    "        for ei_obj in self.ei_nets:\n",
    "            ei_obj.build()\n",
    "        \n",
    "    def run_net(self, net_num):\n",
    "        print('Running network %d' % (net_num))\n",
    "        return self.ei_nets[net_num].run(self.n_pres[net_num], self.t_pres[net_num])\n",
    "    \n",
    "    def run_all(self):\n",
    "        pool = ProcessingPool(nodes=self.n_procs) \n",
    "        print('Starting %d processes, %d networks' % (self.n_procs, self.n_nets))\n",
    "        start_time = time.time()\n",
    "        self.ei_nets = pool.map(self.run_net, range(self.n_nets))\n",
    "        print('Processing finished after %s seconds' % (time.time() - start_time)) \n",
    "        #pool.close()\n",
    "        #pool.join()\n",
    "        \n",
    "ei_set = mp_ei()\n",
    "ei_set.run_all()"
   ]
  },
  {
   "cell_type": "code",
   "execution_count": null,
   "metadata": {
    "collapsed": false
   },
   "outputs": [],
   "source": [
    "%matplotlib inline\n",
    "ei_set.ei_nets[1].basic_plot()"
   ]
  },
  {
   "cell_type": "code",
   "execution_count": null,
   "metadata": {
    "collapsed": false
   },
   "outputs": [],
   "source": [
    "act_ani0 = mt_ei.ei_nets[0].activ_anim(0.8, slider=True)"
   ]
  },
  {
   "cell_type": "code",
   "execution_count": 64,
   "metadata": {
    "collapsed": false,
    "scrolled": true
   },
   "outputs": [],
   "source": [
    "with open('kWTA_ei_simlog.txt', 'a') as f:\n",
    "    f.write('---------Logging ei_net object---------')\n",
    "    f.write('HISTORY')\n",
    "    for entry in ei.history:\n",
    "        f.write(entry + '\\n')\n",
    "    f.write('NOTES')\n",
    "    f.write(ei.notes)\n",
    "    f.close()"
   ]
  },
  {
   "cell_type": "code",
   "execution_count": null,
   "metadata": {
    "collapsed": true
   },
   "outputs": [],
   "source": []
  }
 ],
 "metadata": {
  "kernelspec": {
   "display_name": "Python 3",
   "language": "python",
   "name": "python3"
  },
  "language_info": {
   "codemirror_mode": {
    "name": "ipython",
    "version": 3
   },
   "file_extension": ".py",
   "mimetype": "text/x-python",
   "name": "python",
   "nbconvert_exporter": "python",
   "pygments_lexer": "ipython3",
   "version": "3.5.2"
  }
 },
 "nbformat": 4,
 "nbformat_minor": 2
}
